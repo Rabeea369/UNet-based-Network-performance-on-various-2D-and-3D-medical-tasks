{
 "cells": [
  {
   "cell_type": "code",
   "execution_count": 1,
   "id": "d305435f",
   "metadata": {},
   "outputs": [
    {
     "name": "stdout",
     "output_type": "stream",
     "text": [
      "__Python VERSION: 3.10.6 (main, Oct 24 2022, 16:07:47) [GCC 11.2.0]\n",
      "__pyTorch VERSION: 2.0.1\n",
      "__CUDA VERSION\n",
      "nvcc: NVIDIA (R) Cuda compiler driver\n",
      "Copyright (c) 2005-2022 NVIDIA Corporation\n",
      "Built on Wed_Sep_21_10:33:58_PDT_2022\n",
      "Cuda compilation tools, release 11.8, V11.8.89\n",
      "Build cuda_11.8.r11.8/compiler.31833905_0\n",
      "__CUDNN VERSION: 8700\n",
      "__Number CUDA Devices: 2\n",
      "__Devices\n",
      "index, name, driver_version, memory.total [MiB], memory.used [MiB], memory.free [MiB]\n",
      "0, NVIDIA A100-PCIE-40GB, 525.125.06, 40960 MiB, 0 MiB, 40336 MiB\n",
      "1, NVIDIA A100 80GB PCIe, 525.125.06, 81920 MiB, 77570 MiB, 3481 MiB\n",
      "Active CUDA Device: GPU 0\n",
      "Available devices  2\n",
      "Current cuda device  0\n"
     ]
    },
    {
     "data": {
      "text/plain": [
       "device(type='cuda', index=0)"
      ]
     },
     "execution_count": 1,
     "metadata": {},
     "output_type": "execute_result"
    }
   ],
   "source": [
    "%reset -f\n",
    "from __future__ import print_function\n",
    "from __future__ import division\n",
    "import math\n",
    "import numpy as np\n",
    "import torch\n",
    "import sys\n",
    "print('__Python VERSION:', sys.version)\n",
    "print('__pyTorch VERSION:', torch.__version__)\n",
    "print('__CUDA VERSION')\n",
    "from subprocess import call\n",
    "# call([\"nvcc\", \"--version\"]) does not work\n",
    "! nvcc --version\n",
    "print('__CUDNN VERSION:', torch.backends.cudnn.version())\n",
    "print('__Number CUDA Devices:', torch.cuda.device_count())\n",
    "print('__Devices')\n",
    "call([\"nvidia-smi\", \"--format=csv\", \"--query-gpu=index,name,driver_version,memory.total,memory.used,memory.free\"])\n",
    "print('Active CUDA Device: GPU', torch.cuda.current_device())\n",
    "\n",
    "print ('Available devices ', torch.cuda.device_count())\n",
    "print ('Current cuda device ', torch.cuda.current_device())\n",
    "from torch import device as torch_device\n",
    "\n",
    "#devices = [torch_device('cuda', i) for i in range(torch.cuda.device_count())] + [torch_device('cpu')]\n",
    "#print(devices)\n",
    "desired_gpu_index = 0\n",
    "device = torch.device(f'cuda:{desired_gpu_index}')\n",
    "device"
   ]
  },
  {
   "cell_type": "code",
   "execution_count": 2,
   "id": "2ee59c29",
   "metadata": {},
   "outputs": [
    {
     "data": {
      "text/plain": [
       "device(type='cuda', index=0)"
      ]
     },
     "execution_count": 2,
     "metadata": {},
     "output_type": "execute_result"
    }
   ],
   "source": [
    "import os\n",
    "from unet_parts import *\n",
    "from unet_parts_att_transformer import *\n",
    "from unet_parts_att_multiscale import *\n",
    "from transformerskip import tskip\n",
    "import random\n",
    "random.seed(20)\n",
    "np.random.seed(20)\n",
    "torch.manual_seed(20)\n",
    "torch.cuda.manual_seed(20)\n",
    "device"
   ]
  },
  {
   "cell_type": "code",
   "execution_count": 3,
   "id": "7189e297",
   "metadata": {},
   "outputs": [
    {
     "data": {
      "text/plain": [
       "2"
      ]
     },
     "execution_count": 3,
     "metadata": {},
     "output_type": "execute_result"
    }
   ],
   "source": [
    "torch.cuda.device_count()"
   ]
  },
  {
   "cell_type": "code",
   "execution_count": 4,
   "id": "a9c63ddc",
   "metadata": {},
   "outputs": [],
   "source": [
    "import cv2\n",
    "import glob\n",
    "import random\n",
    "from tqdm import tqdm\n",
    "import skimage.io as io\n",
    "import skimage.transform as trans\n",
    "import matplotlib.pyplot as plt\n",
    "import pydicom\n",
    "import SimpleITK as sitk\n",
    "import nibabel as nib\n",
    "from scipy import ndimage\n",
    "from torchsummary import summary"
   ]
  },
  {
   "cell_type": "code",
   "execution_count": 5,
   "id": "7d017e3b",
   "metadata": {},
   "outputs": [],
   "source": [
    "from torchmetrics import Dice\n",
    "import torch.optim as optim"
   ]
  },
  {
   "cell_type": "code",
   "execution_count": 6,
   "id": "12d5ba97",
   "metadata": {},
   "outputs": [],
   "source": [
    "# class DiceLoss(nn.Module):\n",
    "#     def __init__(self, weight=None, size_average=True):\n",
    "#         super(DiceLoss, self).__init__()\n",
    "\n",
    "#     def forward(self, inputs, targets, smooth=1):\n",
    "        \n",
    "#         #comment out if your model contains a sigmoid or equivalent activation layer\n",
    "#         inputs = F.sigmoid(inputs)       \n",
    "        \n",
    "#         #flatten label and prediction tensors\n",
    "#         inputs = inputs.view(-1)\n",
    "#         targets = targets.view(-1)\n",
    "        \n",
    "#         intersection = (inputs * targets).sum()                            \n",
    "#         dice = (2.*intersection + smooth)/(inputs.sum() + targets.sum() + smooth)  \n",
    "        \n",
    "#         return 1 - dice\n",
    "# class DiceLoss(nn.Module):\n",
    "#     def __init__(self, weight=None, size_average=True):\n",
    "#         super(DiceLoss, self).__init__()\n",
    "\n",
    "#     def forward(self, inputs, targets, smooth=1):\n",
    "        \n",
    "#         #comment out if your model contains a sigmoid or equivalent activation layer\n",
    "#         inputs = F.sigmoid(inputs)       \n",
    "        \n",
    "#         #flatten label and prediction tensors\n",
    "#         inputs = inputs.view(-1)\n",
    "#         targets = targets.view(-1)\n",
    "        \n",
    "#         intersection = (inputs * targets).sum()                            \n",
    "#         dice = (2.*intersection + smooth)/(inputs.sum() + targets.sum() + smooth)  \n",
    "        \n",
    "#         return 1 - dice\n",
    "def dice_loss(pred, target):\n",
    "    smooth = 1.#1e-5\n",
    "    pred = pred.view(-1)\n",
    "    target = target.view(-1)\n",
    "    intersection = (pred * target).sum()\n",
    "    union = pred.sum() + target.sum()\n",
    "    dice = (2.0 * intersection + smooth) / (union + smooth)\n",
    "    return 1 - dice\n",
    "def dice_coeff(pred, target):\n",
    "    smooth = 1.#1e-5\n",
    "    pred = pred.view(-1)\n",
    "    target = target.view(-1)\n",
    "    intersection = (pred * target).sum()\n",
    "    union = pred.sum() + target.sum()\n",
    "    dice = (2.0 * intersection + smooth) / (union + smooth)\n",
    "    return dice\n",
    "\n",
    "\n",
    "# def dice_loss(pred, target):\n",
    "#     smooth = 1.#1e-5\n",
    "#     intersection = (pred * target).sum()\n",
    "#     union = pred.sum() + target.sum()\n",
    "#     dice = (2.0 * intersection + smooth) / (union + smooth)\n",
    "#     return 1 - dice\n",
    "# def dice_coeff(pred, target):\n",
    "#     smooth = 1.#1e-5\n",
    "#     intersection = (pred * target).sum()\n",
    "#     union = pred.sum() + target.sum()\n",
    "#     dice = (2.0 * intersection + smooth) / (union + smooth)\n",
    "#     return dice"
   ]
  },
  {
   "cell_type": "code",
   "execution_count": 7,
   "id": "34fbee38",
   "metadata": {},
   "outputs": [],
   "source": [
    "\n",
    "import pandas as pd\n",
    "import matplotlib.pyplot as plt\n",
    "from sklearn.model_selection import train_test_split\n",
    "import torch.nn as nn\n",
    "from torch.utils.data import Dataset, DataLoader\n",
    "from torchvision import transforms as T\n",
    "import torchvision\n",
    "import torch.nn.functional as F\n",
    "from torch.autograd import Variable\n",
    "from PIL import Image\n",
    "import albumentations as A\n",
    "import time\n",
    "from tqdm.notebook import tqdm\n",
    "from torchsummary import summary\n",
    "\n",
    "\n"
   ]
  },
  {
   "cell_type": "code",
   "execution_count": 8,
   "id": "82d0654c",
   "metadata": {},
   "outputs": [],
   "source": [
    "from torch.utils.data import Dataset, DataLoader\n",
    "from torchvision.transforms import ToTensor\n",
    "# Define custom dataset class\n",
    "\n",
    "def parse_image(img_path, image_size):\n",
    "    img = cv2.imread(img_path)\n",
    "    img = cv2.cvtColor(img, cv2.COLOR_BGR2GRAY)\n",
    "    img = cv2.resize(img ,image_size, interpolation = cv2.INTER_CUBIC)\n",
    "    img = img.astype(np.float32)\n",
    "    mn = np.amin(img)\n",
    "    mx = np.amax(img)\n",
    "    d = mx - mn\n",
    "    img = (img-mn)/d\n",
    "    #print(np.amax(img),np.amin(img))\n",
    "    img = ToTensor()(img)\n",
    "    #img = np.expand_dims(img, axis=2)\n",
    "    #train_img = np.stack((image_rgb,)*3, axis=-1)\n",
    "    \n",
    "    return img\n",
    "\n",
    "def parse_mask(img_path, image_size):\n",
    "    mask_path = img_path[:-4] + '_mask.png'\n",
    "    mask = cv2.imread(mask_path)\n",
    "    mask = cv2.cvtColor(mask, cv2.COLOR_BGR2GRAY)\n",
    "    mask = cv2.resize(mask,image_size, interpolation = cv2.INTER_NEAREST)\n",
    "    #mask = np.expand_dims(mask, axis=2)\n",
    "    mask = mask.astype(np.uint8)\n",
    "    mask = np.where(mask>0,1,mask)\n",
    "    mask = torch.from_numpy(mask).long()\n",
    "    return mask\n",
    "\n",
    "class DataGen(Dataset):\n",
    "    def __init__(self, image_size, images_path , transform=None):\n",
    "        self.image_size = image_size\n",
    "        self.images_path = images_path\n",
    "        self.batch_size = batch_size\n",
    "        self.transform = transform\n",
    "\n",
    "    def __len__(self):\n",
    "        return len(self.images_path)\n",
    "\n",
    "    def __getitem__(self, index):\n",
    "        image = parse_image(self.images_path[index], self.image_size)\n",
    "        mask = parse_mask(self.images_path[index], self.image_size)\n",
    "\n",
    "        if self.transform is not None:\n",
    "            image = self.transform(image)\n",
    "\n",
    "        return image, mask\n"
   ]
  },
  {
   "cell_type": "code",
   "execution_count": 9,
   "id": "350a9e8a",
   "metadata": {},
   "outputs": [
    {
     "name": "stdout",
     "output_type": "stream",
     "text": [
      "647\n"
     ]
    }
   ],
   "source": [
    "paths = glob.glob(\"/home/rabeea/bul/*/**.png\", recursive = True)\n",
    "imgpath = []\n",
    "for path in paths:\n",
    "    if not 'mask' in path:\n",
    "        imgpath.append(path)\n",
    "print(len(imgpath))"
   ]
  },
  {
   "cell_type": "code",
   "execution_count": 10,
   "id": "c213b0e8",
   "metadata": {},
   "outputs": [
    {
     "name": "stdout",
     "output_type": "stream",
     "text": [
      "647 400 120 127\n"
     ]
    },
    {
     "data": {
      "text/plain": [
       "'/home/rabeea/bul/benign/benign (218)_mask.png'"
      ]
     },
     "execution_count": 10,
     "metadata": {},
     "output_type": "execute_result"
    }
   ],
   "source": [
    "tr = 400\n",
    "val = 120\n",
    "ts = 160\n",
    "imgpath = sorted(imgpath)\n",
    "random.Random(42).shuffle(imgpath)\n",
    "trainpath = imgpath[:tr]\n",
    "valpath = imgpath[tr:tr+val]\n",
    "testpath = imgpath[tr+val:]\n",
    "print(len(imgpath), len(trainpath), len(valpath), len(testpath))\n",
    "imgpath[0][:-4] + '_mask.png'"
   ]
  },
  {
   "cell_type": "code",
   "execution_count": 11,
   "id": "ffdc3cb3",
   "metadata": {},
   "outputs": [],
   "source": [
    "image_size = (256,256)\n",
    "batch_size = 1\n",
    "\n",
    "epochs = 100\n",
    "\n",
    "train_steps = len(trainpath)//batch_size\n",
    "valid_steps = len(valpath)//batch_size\n",
    "\n",
    "## Generator\n",
    "train_gen = DataGen(image_size, trainpath)\n",
    "val_gen = DataGen(image_size,valpath)\n",
    "test_gen = DataGen(image_size,testpath)\n",
    "\n",
    "train_loader = DataLoader(train_gen, batch_size=batch_size, shuffle=False)\n",
    "val_loader = DataLoader(val_gen, batch_size=batch_size, shuffle=False)  \n",
    "test_loader = DataLoader(test_gen, batch_size=1, shuffle=False) "
   ]
  },
  {
   "cell_type": "code",
   "execution_count": 12,
   "id": "8fc13419",
   "metadata": {},
   "outputs": [
    {
     "name": "stdout",
     "output_type": "stream",
     "text": [
      "Feature batch shape: torch.Size([1, 1, 256, 256])\n",
      "Labels batch shape: torch.Size([1, 256, 256])\n"
     ]
    },
    {
     "data": {
      "text/plain": [
       "<matplotlib.image.AxesImage at 0x7f7cf5443e50>"
      ]
     },
     "execution_count": 12,
     "metadata": {},
     "output_type": "execute_result"
    },
    {
     "data": {
      "image/png": "[encoded data removed]",
      "text/plain": [
       "<Figure size 640x480 with 1 Axes>"
      ]
     },
     "metadata": {},
     "output_type": "display_data"
    }
   ],
   "source": [
    "# Display image and label.\n",
    "train_features, train_labels = next(iter(train_loader))\n",
    "print(f\"Feature batch shape: {train_features.size()}\")\n",
    "print(f\"Labels batch shape: {train_labels.size()}\")\n",
    "img = train_features[0].squeeze()\n",
    "label = train_labels[0]\n",
    "plt.imshow(img, cmap=\"gray\")\n",
    "plt.imshow(label, 'gray', alpha=0.5)"
   ]
  },
  {
   "cell_type": "code",
   "execution_count": 13,
   "id": "d2604761",
   "metadata": {},
   "outputs": [
    {
     "data": {
      "text/plain": [
       "array([0, 1])"
      ]
     },
     "execution_count": 13,
     "metadata": {},
     "output_type": "execute_result"
    }
   ],
   "source": [
    "np.unique(label)"
   ]
  },
  {
   "cell_type": "code",
   "execution_count": 14,
   "id": "e8f4efe6",
   "metadata": {},
   "outputs": [
    {
     "data": {
      "text/plain": [
       "torch.float32"
      ]
     },
     "execution_count": 14,
     "metadata": {},
     "output_type": "execute_result"
    }
   ],
   "source": [
    "img.dtype"
   ]
  },
  {
   "cell_type": "code",
   "execution_count": null,
   "id": "4a369649",
   "metadata": {},
   "outputs": [],
   "source": []
  },
  {
   "cell_type": "code",
   "execution_count": 15,
   "id": "b16871bb",
   "metadata": {},
   "outputs": [],
   "source": [
    "class UNet_Attention_Transformer_Multiscale(nn.Module):\n",
    "    def __init__(self, n_channels = 1, n_classes=1, bilinear=True):\n",
    "        super(UNet_Attention_Transformer_Multiscale, self).__init__()\n",
    "        self.n_channels = n_channels\n",
    "        self.n_classes = n_classes\n",
    "        self.bilinear = bilinear\n",
    "\n",
    "        self.inc = DoubleConv(n_channels, 64)\n",
    "        \n",
    "        self.down1 = Down(64, 128)\n",
    "        self.down2 = Down(128, 256)\n",
    "        self.down3 = Down(256, 512)\n",
    "        factor = 2 if bilinear else 1\n",
    "        self.down4 = Down(512, 1024 // factor)\n",
    "        self.up1 = Up(1024, 512 // factor, bilinear)\n",
    "        self.up2 = Up(1024, 256 // factor, bilinear)\n",
    "        self.up3 = Up(512, 128 // factor, bilinear)\n",
    "        self.up4 = Up(256, 64, bilinear)\n",
    "        self.outc = OutConv(128, n_classes)\n",
    "\n",
    "\n",
    "        '''位置编码'''\n",
    "        self.pos = PositionEmbeddingLearned(512 // factor)\n",
    "\n",
    "        '''空间注意力机制'''\n",
    "        self.pam = PAM_Module(512)\n",
    "\n",
    "        '''自注意力机制'''\n",
    "        self.sdpa = ScaledDotProductAttention(512)\n",
    "\n",
    "        '''残差多尺度连接'''\n",
    "        self.fuse1 = MultiConv(768, 256)\n",
    "        self.fuse2 = MultiConv(384, 128)\n",
    "        self.fuse3 = MultiConv(192, 64)\n",
    "        self.fuse4 = MultiConv(128, 64)\n",
    "\n",
    "    def forward(self, x):\n",
    "        x1 = self.inc(x)\n",
    "        x2 = self.down1(x1)\n",
    "        x3 = self.down2(x2)\n",
    "        x4 = self.down3(x3)\n",
    "        x5 = self.down4(x4)\n",
    "        #print('x1: ', x1.shape)\n",
    "        #print('x2: ', x2.shape)\n",
    "        #print('x3: ', x3.shape)\n",
    "        #print('x4: ', x4.shape)\n",
    "        #[x1,x2,x3,x4] = tskip([x1,x2,x3,x4],device = device, up=4)\n",
    "        #print('x1: ', x1.shape)\n",
    "        #print('x2: ', x2.shape)\n",
    "        #print('x3: ', x3.shape)\n",
    "        #print('x4: ', x4.shape)\n",
    "        \n",
    "        \n",
    "        '''Setting 1'''\n",
    "        x5_pam = self.pam(x5)\n",
    "\n",
    "        '''Setting 2'''\n",
    "        x5_pos = self.pos(x5)\n",
    "        x5 = x5 + x5_pos\n",
    "\n",
    "\n",
    "        x5_sdpa = self.sdpa(x5)\n",
    "        x5 = x5_sdpa + x5_pam\n",
    "        \n",
    "\n",
    "        x6 = self.up1(x5, x4)\n",
    "        x5_scale = F.interpolate(x5, size=x6.shape[2:], mode='bilinear', align_corners=True)\n",
    "        x6_cat = torch.cat((x5_scale, x6), 1)\n",
    "\n",
    "        x7 = self.up2(x6_cat, x3)\n",
    "        x6_scale = F.interpolate(x6, size=x7.shape[2:], mode='bilinear', align_corners=True)\n",
    "        x7_cat = torch.cat((x6_scale, x7), 1)\n",
    "\n",
    "        x8 = self.up3(x7_cat, x2)\n",
    "        x7_scale = F.interpolate(x7, size=x8.shape[2:], mode='bilinear', align_corners=True)\n",
    "        x8_cat = torch.cat((x7_scale, x8), 1)\n",
    "\n",
    "        x9 = self.up4(x8_cat, x1)\n",
    "        x8_scale = F.interpolate(x8, size=x9.shape[2:], mode='bilinear', align_corners=True)\n",
    "        x9 = torch.cat((x8_scale, x9), 1)\n",
    "\n",
    "        logits = self.outc(x9)\n",
    "        return logits\n"
   ]
  },
  {
   "cell_type": "code",
   "execution_count": 16,
   "id": "82780d6a",
   "metadata": {},
   "outputs": [],
   "source": [
    "model = UNet_Attention_Transformer_Multiscale()"
   ]
  },
  {
   "cell_type": "code",
   "execution_count": 17,
   "id": "872ea369",
   "metadata": {},
   "outputs": [
    {
     "data": {
      "text/plain": [
       "UNet_Attention_Transformer_Multiscale(\n",
       "  (inc): DoubleConv(\n",
       "    (double_conv): Sequential(\n",
       "      (0): Conv2d(1, 64, kernel_size=(3, 3), stride=(1, 1), padding=(1, 1))\n",
       "      (1): BatchNorm2d(64, eps=1e-05, momentum=0.1, affine=True, track_running_stats=True)\n",
       "      (2): ReLU(inplace=True)\n",
       "      (3): Conv2d(64, 64, kernel_size=(3, 3), stride=(1, 1), padding=(1, 1))\n",
       "      (4): BatchNorm2d(64, eps=1e-05, momentum=0.1, affine=True, track_running_stats=True)\n",
       "      (5): ReLU(inplace=True)\n",
       "    )\n",
       "  )\n",
       "  (down1): Down(\n",
       "    (maxpool_conv): Sequential(\n",
       "      (0): MaxPool2d(kernel_size=2, stride=2, padding=0, dilation=1, ceil_mode=False)\n",
       "      (1): DoubleConv(\n",
       "        (double_conv): Sequential(\n",
       "          (0): Conv2d(64, 128, kernel_size=(3, 3), stride=(1, 1), padding=(1, 1))\n",
       "          (1): BatchNorm2d(128, eps=1e-05, momentum=0.1, affine=True, track_running_stats=True)\n",
       "          (2): ReLU(inplace=True)\n",
       "          (3): Conv2d(128, 128, kernel_size=(3, 3), stride=(1, 1), padding=(1, 1))\n",
       "          (4): BatchNorm2d(128, eps=1e-05, momentum=0.1, affine=True, track_running_stats=True)\n",
       "          (5): ReLU(inplace=True)\n",
       "        )\n",
       "      )\n",
       "    )\n",
       "  )\n",
       "  (down2): Down(\n",
       "    (maxpool_conv): Sequential(\n",
       "      (0): MaxPool2d(kernel_size=2, stride=2, padding=0, dilation=1, ceil_mode=False)\n",
       "      (1): DoubleConv(\n",
       "        (double_conv): Sequential(\n",
       "          (0): Conv2d(128, 256, kernel_size=(3, 3), stride=(1, 1), padding=(1, 1))\n",
       "          (1): BatchNorm2d(256, eps=1e-05, momentum=0.1, affine=True, track_running_stats=True)\n",
       "          (2): ReLU(inplace=True)\n",
       "          (3): Conv2d(256, 256, kernel_size=(3, 3), stride=(1, 1), padding=(1, 1))\n",
       "          (4): BatchNorm2d(256, eps=1e-05, momentum=0.1, affine=True, track_running_stats=True)\n",
       "          (5): ReLU(inplace=True)\n",
       "        )\n",
       "      )\n",
       "    )\n",
       "  )\n",
       "  (down3): Down(\n",
       "    (maxpool_conv): Sequential(\n",
       "      (0): MaxPool2d(kernel_size=2, stride=2, padding=0, dilation=1, ceil_mode=False)\n",
       "      (1): DoubleConv(\n",
       "        (double_conv): Sequential(\n",
       "          (0): Conv2d(256, 512, kernel_size=(3, 3), stride=(1, 1), padding=(1, 1))\n",
       "          (1): BatchNorm2d(512, eps=1e-05, momentum=0.1, affine=True, track_running_stats=True)\n",
       "          (2): ReLU(inplace=True)\n",
       "          (3): Conv2d(512, 512, kernel_size=(3, 3), stride=(1, 1), padding=(1, 1))\n",
       "          (4): BatchNorm2d(512, eps=1e-05, momentum=0.1, affine=True, track_running_stats=True)\n",
       "          (5): ReLU(inplace=True)\n",
       "        )\n",
       "      )\n",
       "    )\n",
       "  )\n",
       "  (down4): Down(\n",
       "    (maxpool_conv): Sequential(\n",
       "      (0): MaxPool2d(kernel_size=2, stride=2, padding=0, dilation=1, ceil_mode=False)\n",
       "      (1): DoubleConv(\n",
       "        (double_conv): Sequential(\n",
       "          (0): Conv2d(512, 512, kernel_size=(3, 3), stride=(1, 1), padding=(1, 1))\n",
       "          (1): BatchNorm2d(512, eps=1e-05, momentum=0.1, affine=True, track_running_stats=True)\n",
       "          (2): ReLU(inplace=True)\n",
       "          (3): Conv2d(512, 512, kernel_size=(3, 3), stride=(1, 1), padding=(1, 1))\n",
       "          (4): BatchNorm2d(512, eps=1e-05, momentum=0.1, affine=True, track_running_stats=True)\n",
       "          (5): ReLU(inplace=True)\n",
       "        )\n",
       "      )\n",
       "    )\n",
       "  )\n",
       "  (up1): Up(\n",
       "    (up): Upsample(scale_factor=2.0, mode='bilinear')\n",
       "    (conv): DoubleConv(\n",
       "      (double_conv): Sequential(\n",
       "        (0): Conv2d(1024, 512, kernel_size=(3, 3), stride=(1, 1), padding=(1, 1))\n",
       "        (1): BatchNorm2d(512, eps=1e-05, momentum=0.1, affine=True, track_running_stats=True)\n",
       "        (2): ReLU(inplace=True)\n",
       "        (3): Conv2d(512, 256, kernel_size=(3, 3), stride=(1, 1), padding=(1, 1))\n",
       "        (4): BatchNorm2d(256, eps=1e-05, momentum=0.1, affine=True, track_running_stats=True)\n",
       "        (5): ReLU(inplace=True)\n",
       "      )\n",
       "    )\n",
       "  )\n",
       "  (up2): Up(\n",
       "    (up): Upsample(scale_factor=2.0, mode='bilinear')\n",
       "    (conv): DoubleConv(\n",
       "      (double_conv): Sequential(\n",
       "        (0): Conv2d(1024, 512, kernel_size=(3, 3), stride=(1, 1), padding=(1, 1))\n",
       "        (1): BatchNorm2d(512, eps=1e-05, momentum=0.1, affine=True, track_running_stats=True)\n",
       "        (2): ReLU(inplace=True)\n",
       "        (3): Conv2d(512, 128, kernel_size=(3, 3), stride=(1, 1), padding=(1, 1))\n",
       "        (4): BatchNorm2d(128, eps=1e-05, momentum=0.1, affine=True, track_running_stats=True)\n",
       "        (5): ReLU(inplace=True)\n",
       "      )\n",
       "    )\n",
       "  )\n",
       "  (up3): Up(\n",
       "    (up): Upsample(scale_factor=2.0, mode='bilinear')\n",
       "    (conv): DoubleConv(\n",
       "      (double_conv): Sequential(\n",
       "        (0): Conv2d(512, 256, kernel_size=(3, 3), stride=(1, 1), padding=(1, 1))\n",
       "        (1): BatchNorm2d(256, eps=1e-05, momentum=0.1, affine=True, track_running_stats=True)\n",
       "        (2): ReLU(inplace=True)\n",
       "        (3): Conv2d(256, 64, kernel_size=(3, 3), stride=(1, 1), padding=(1, 1))\n",
       "        (4): BatchNorm2d(64, eps=1e-05, momentum=0.1, affine=True, track_running_stats=True)\n",
       "        (5): ReLU(inplace=True)\n",
       "      )\n",
       "    )\n",
       "  )\n",
       "  (up4): Up(\n",
       "    (up): Upsample(scale_factor=2.0, mode='bilinear')\n",
       "    (conv): DoubleConv(\n",
       "      (double_conv): Sequential(\n",
       "        (0): Conv2d(256, 128, kernel_size=(3, 3), stride=(1, 1), padding=(1, 1))\n",
       "        (1): BatchNorm2d(128, eps=1e-05, momentum=0.1, affine=True, track_running_stats=True)\n",
       "        (2): ReLU(inplace=True)\n",
       "        (3): Conv2d(128, 64, kernel_size=(3, 3), stride=(1, 1), padding=(1, 1))\n",
       "        (4): BatchNorm2d(64, eps=1e-05, momentum=0.1, affine=True, track_running_stats=True)\n",
       "        (5): ReLU(inplace=True)\n",
       "      )\n",
       "    )\n",
       "  )\n",
       "  (outc): OutConv(\n",
       "    (conv): Conv2d(128, 1, kernel_size=(1, 1), stride=(1, 1))\n",
       "  )\n",
       "  (pos): PositionEmbeddingLearned(\n",
       "    (row_embed): Embedding(32, 256)\n",
       "    (col_embed): Embedding(32, 256)\n",
       "  )\n",
       "  (pam): PAM_Module(\n",
       "    (query_conv): Conv2d(512, 64, kernel_size=(1, 1), stride=(1, 1))\n",
       "    (key_conv): Conv2d(512, 64, kernel_size=(1, 1), stride=(1, 1))\n",
       "    (value_conv): Conv2d(512, 512, kernel_size=(1, 1), stride=(1, 1))\n",
       "    (softmax): Softmax(dim=-1)\n",
       "  )\n",
       "  (sdpa): ScaledDotProductAttention(\n",
       "    (dropout): Dropout(p=0.1, inplace=False)\n",
       "  )\n",
       "  (fuse1): MultiConv(\n",
       "    (fuse_attn): Sequential(\n",
       "      (0): Conv2d(768, 256, kernel_size=(3, 3), stride=(1, 1), padding=(1, 1))\n",
       "      (1): BatchNorm2d(256, eps=1e-05, momentum=0.1, affine=True, track_running_stats=True)\n",
       "      (2): PReLU(num_parameters=1)\n",
       "      (3): Conv2d(256, 256, kernel_size=(3, 3), stride=(1, 1), padding=(1, 1))\n",
       "      (4): BatchNorm2d(256, eps=1e-05, momentum=0.1, affine=True, track_running_stats=True)\n",
       "      (5): PReLU(num_parameters=1)\n",
       "      (6): Conv2d(256, 256, kernel_size=(1, 1), stride=(1, 1))\n",
       "      (7): BatchNorm2d(256, eps=1e-05, momentum=0.1, affine=True, track_running_stats=True)\n",
       "      (8): Softmax2d()\n",
       "    )\n",
       "  )\n",
       "  (fuse2): MultiConv(\n",
       "    (fuse_attn): Sequential(\n",
       "      (0): Conv2d(384, 128, kernel_size=(3, 3), stride=(1, 1), padding=(1, 1))\n",
       "      (1): BatchNorm2d(128, eps=1e-05, momentum=0.1, affine=True, track_running_stats=True)\n",
       "      (2): PReLU(num_parameters=1)\n",
       "      (3): Conv2d(128, 128, kernel_size=(3, 3), stride=(1, 1), padding=(1, 1))\n",
       "      (4): BatchNorm2d(128, eps=1e-05, momentum=0.1, affine=True, track_running_stats=True)\n",
       "      (5): PReLU(num_parameters=1)\n",
       "      (6): Conv2d(128, 128, kernel_size=(1, 1), stride=(1, 1))\n",
       "      (7): BatchNorm2d(128, eps=1e-05, momentum=0.1, affine=True, track_running_stats=True)\n",
       "      (8): Softmax2d()\n",
       "    )\n",
       "  )\n",
       "  (fuse3): MultiConv(\n",
       "    (fuse_attn): Sequential(\n",
       "      (0): Conv2d(192, 64, kernel_size=(3, 3), stride=(1, 1), padding=(1, 1))\n",
       "      (1): BatchNorm2d(64, eps=1e-05, momentum=0.1, affine=True, track_running_stats=True)\n",
       "      (2): PReLU(num_parameters=1)\n",
       "      (3): Conv2d(64, 64, kernel_size=(3, 3), stride=(1, 1), padding=(1, 1))\n",
       "      (4): BatchNorm2d(64, eps=1e-05, momentum=0.1, affine=True, track_running_stats=True)\n",
       "      (5): PReLU(num_parameters=1)\n",
       "      (6): Conv2d(64, 64, kernel_size=(1, 1), stride=(1, 1))\n",
       "      (7): BatchNorm2d(64, eps=1e-05, momentum=0.1, affine=True, track_running_stats=True)\n",
       "      (8): Softmax2d()\n",
       "    )\n",
       "  )\n",
       "  (fuse4): MultiConv(\n",
       "    (fuse_attn): Sequential(\n",
       "      (0): Conv2d(128, 64, kernel_size=(3, 3), stride=(1, 1), padding=(1, 1))\n",
       "      (1): BatchNorm2d(64, eps=1e-05, momentum=0.1, affine=True, track_running_stats=True)\n",
       "      (2): PReLU(num_parameters=1)\n",
       "      (3): Conv2d(64, 64, kernel_size=(3, 3), stride=(1, 1), padding=(1, 1))\n",
       "      (4): BatchNorm2d(64, eps=1e-05, momentum=0.1, affine=True, track_running_stats=True)\n",
       "      (5): PReLU(num_parameters=1)\n",
       "      (6): Conv2d(64, 64, kernel_size=(1, 1), stride=(1, 1))\n",
       "      (7): BatchNorm2d(64, eps=1e-05, momentum=0.1, affine=True, track_running_stats=True)\n",
       "      (8): Softmax2d()\n",
       "    )\n",
       "  )\n",
       ")"
      ]
     },
     "execution_count": 17,
     "metadata": {},
     "output_type": "execute_result"
    }
   ],
   "source": [
    "model"
   ]
  },
  {
   "cell_type": "code",
   "execution_count": 18,
   "id": "dba96012",
   "metadata": {},
   "outputs": [
    {
     "data": {
      "text/plain": [
       "UNet_Attention_Transformer_Multiscale(\n",
       "  (inc): DoubleConv(\n",
       "    (double_conv): Sequential(\n",
       "      (0): Conv2d(1, 64, kernel_size=(3, 3), stride=(1, 1), padding=(1, 1))\n",
       "      (1): BatchNorm2d(64, eps=1e-05, momentum=0.1, affine=True, track_running_stats=True)\n",
       "      (2): ReLU(inplace=True)\n",
       "      (3): Conv2d(64, 64, kernel_size=(3, 3), stride=(1, 1), padding=(1, 1))\n",
       "      (4): BatchNorm2d(64, eps=1e-05, momentum=0.1, affine=True, track_running_stats=True)\n",
       "      (5): ReLU(inplace=True)\n",
       "    )\n",
       "  )\n",
       "  (down1): Down(\n",
       "    (maxpool_conv): Sequential(\n",
       "      (0): MaxPool2d(kernel_size=2, stride=2, padding=0, dilation=1, ceil_mode=False)\n",
       "      (1): DoubleConv(\n",
       "        (double_conv): Sequential(\n",
       "          (0): Conv2d(64, 128, kernel_size=(3, 3), stride=(1, 1), padding=(1, 1))\n",
       "          (1): BatchNorm2d(128, eps=1e-05, momentum=0.1, affine=True, track_running_stats=True)\n",
       "          (2): ReLU(inplace=True)\n",
       "          (3): Conv2d(128, 128, kernel_size=(3, 3), stride=(1, 1), padding=(1, 1))\n",
       "          (4): BatchNorm2d(128, eps=1e-05, momentum=0.1, affine=True, track_running_stats=True)\n",
       "          (5): ReLU(inplace=True)\n",
       "        )\n",
       "      )\n",
       "    )\n",
       "  )\n",
       "  (down2): Down(\n",
       "    (maxpool_conv): Sequential(\n",
       "      (0): MaxPool2d(kernel_size=2, stride=2, padding=0, dilation=1, ceil_mode=False)\n",
       "      (1): DoubleConv(\n",
       "        (double_conv): Sequential(\n",
       "          (0): Conv2d(128, 256, kernel_size=(3, 3), stride=(1, 1), padding=(1, 1))\n",
       "          (1): BatchNorm2d(256, eps=1e-05, momentum=0.1, affine=True, track_running_stats=True)\n",
       "          (2): ReLU(inplace=True)\n",
       "          (3): Conv2d(256, 256, kernel_size=(3, 3), stride=(1, 1), padding=(1, 1))\n",
       "          (4): BatchNorm2d(256, eps=1e-05, momentum=0.1, affine=True, track_running_stats=True)\n",
       "          (5): ReLU(inplace=True)\n",
       "        )\n",
       "      )\n",
       "    )\n",
       "  )\n",
       "  (down3): Down(\n",
       "    (maxpool_conv): Sequential(\n",
       "      (0): MaxPool2d(kernel_size=2, stride=2, padding=0, dilation=1, ceil_mode=False)\n",
       "      (1): DoubleConv(\n",
       "        (double_conv): Sequential(\n",
       "          (0): Conv2d(256, 512, kernel_size=(3, 3), stride=(1, 1), padding=(1, 1))\n",
       "          (1): BatchNorm2d(512, eps=1e-05, momentum=0.1, affine=True, track_running_stats=True)\n",
       "          (2): ReLU(inplace=True)\n",
       "          (3): Conv2d(512, 512, kernel_size=(3, 3), stride=(1, 1), padding=(1, 1))\n",
       "          (4): BatchNorm2d(512, eps=1e-05, momentum=0.1, affine=True, track_running_stats=True)\n",
       "          (5): ReLU(inplace=True)\n",
       "        )\n",
       "      )\n",
       "    )\n",
       "  )\n",
       "  (down4): Down(\n",
       "    (maxpool_conv): Sequential(\n",
       "      (0): MaxPool2d(kernel_size=2, stride=2, padding=0, dilation=1, ceil_mode=False)\n",
       "      (1): DoubleConv(\n",
       "        (double_conv): Sequential(\n",
       "          (0): Conv2d(512, 512, kernel_size=(3, 3), stride=(1, 1), padding=(1, 1))\n",
       "          (1): BatchNorm2d(512, eps=1e-05, momentum=0.1, affine=True, track_running_stats=True)\n",
       "          (2): ReLU(inplace=True)\n",
       "          (3): Conv2d(512, 512, kernel_size=(3, 3), stride=(1, 1), padding=(1, 1))\n",
       "          (4): BatchNorm2d(512, eps=1e-05, momentum=0.1, affine=True, track_running_stats=True)\n",
       "          (5): ReLU(inplace=True)\n",
       "        )\n",
       "      )\n",
       "    )\n",
       "  )\n",
       "  (up1): Up(\n",
       "    (up): Upsample(scale_factor=2.0, mode='bilinear')\n",
       "    (conv): DoubleConv(\n",
       "      (double_conv): Sequential(\n",
       "        (0): Conv2d(1024, 512, kernel_size=(3, 3), stride=(1, 1), padding=(1, 1))\n",
       "        (1): BatchNorm2d(512, eps=1e-05, momentum=0.1, affine=True, track_running_stats=True)\n",
       "        (2): ReLU(inplace=True)\n",
       "        (3): Conv2d(512, 256, kernel_size=(3, 3), stride=(1, 1), padding=(1, 1))\n",
       "        (4): BatchNorm2d(256, eps=1e-05, momentum=0.1, affine=True, track_running_stats=True)\n",
       "        (5): ReLU(inplace=True)\n",
       "      )\n",
       "    )\n",
       "  )\n",
       "  (up2): Up(\n",
       "    (up): Upsample(scale_factor=2.0, mode='bilinear')\n",
       "    (conv): DoubleConv(\n",
       "      (double_conv): Sequential(\n",
       "        (0): Conv2d(1024, 512, kernel_size=(3, 3), stride=(1, 1), padding=(1, 1))\n",
       "        (1): BatchNorm2d(512, eps=1e-05, momentum=0.1, affine=True, track_running_stats=True)\n",
       "        (2): ReLU(inplace=True)\n",
       "        (3): Conv2d(512, 128, kernel_size=(3, 3), stride=(1, 1), padding=(1, 1))\n",
       "        (4): BatchNorm2d(128, eps=1e-05, momentum=0.1, affine=True, track_running_stats=True)\n",
       "        (5): ReLU(inplace=True)\n",
       "      )\n",
       "    )\n",
       "  )\n",
       "  (up3): Up(\n",
       "    (up): Upsample(scale_factor=2.0, mode='bilinear')\n",
       "    (conv): DoubleConv(\n",
       "      (double_conv): Sequential(\n",
       "        (0): Conv2d(512, 256, kernel_size=(3, 3), stride=(1, 1), padding=(1, 1))\n",
       "        (1): BatchNorm2d(256, eps=1e-05, momentum=0.1, affine=True, track_running_stats=True)\n",
       "        (2): ReLU(inplace=True)\n",
       "        (3): Conv2d(256, 64, kernel_size=(3, 3), stride=(1, 1), padding=(1, 1))\n",
       "        (4): BatchNorm2d(64, eps=1e-05, momentum=0.1, affine=True, track_running_stats=True)\n",
       "        (5): ReLU(inplace=True)\n",
       "      )\n",
       "    )\n",
       "  )\n",
       "  (up4): Up(\n",
       "    (up): Upsample(scale_factor=2.0, mode='bilinear')\n",
       "    (conv): DoubleConv(\n",
       "      (double_conv): Sequential(\n",
       "        (0): Conv2d(256, 128, kernel_size=(3, 3), stride=(1, 1), padding=(1, 1))\n",
       "        (1): BatchNorm2d(128, eps=1e-05, momentum=0.1, affine=True, track_running_stats=True)\n",
       "        (2): ReLU(inplace=True)\n",
       "        (3): Conv2d(128, 64, kernel_size=(3, 3), stride=(1, 1), padding=(1, 1))\n",
       "        (4): BatchNorm2d(64, eps=1e-05, momentum=0.1, affine=True, track_running_stats=True)\n",
       "        (5): ReLU(inplace=True)\n",
       "      )\n",
       "    )\n",
       "  )\n",
       "  (outc): OutConv(\n",
       "    (conv): Conv2d(128, 1, kernel_size=(1, 1), stride=(1, 1))\n",
       "  )\n",
       "  (pos): PositionEmbeddingLearned(\n",
       "    (row_embed): Embedding(32, 256)\n",
       "    (col_embed): Embedding(32, 256)\n",
       "  )\n",
       "  (pam): PAM_Module(\n",
       "    (query_conv): Conv2d(512, 64, kernel_size=(1, 1), stride=(1, 1))\n",
       "    (key_conv): Conv2d(512, 64, kernel_size=(1, 1), stride=(1, 1))\n",
       "    (value_conv): Conv2d(512, 512, kernel_size=(1, 1), stride=(1, 1))\n",
       "    (softmax): Softmax(dim=-1)\n",
       "  )\n",
       "  (sdpa): ScaledDotProductAttention(\n",
       "    (dropout): Dropout(p=0.1, inplace=False)\n",
       "  )\n",
       "  (fuse1): MultiConv(\n",
       "    (fuse_attn): Sequential(\n",
       "      (0): Conv2d(768, 256, kernel_size=(3, 3), stride=(1, 1), padding=(1, 1))\n",
       "      (1): BatchNorm2d(256, eps=1e-05, momentum=0.1, affine=True, track_running_stats=True)\n",
       "      (2): PReLU(num_parameters=1)\n",
       "      (3): Conv2d(256, 256, kernel_size=(3, 3), stride=(1, 1), padding=(1, 1))\n",
       "      (4): BatchNorm2d(256, eps=1e-05, momentum=0.1, affine=True, track_running_stats=True)\n",
       "      (5): PReLU(num_parameters=1)\n",
       "      (6): Conv2d(256, 256, kernel_size=(1, 1), stride=(1, 1))\n",
       "      (7): BatchNorm2d(256, eps=1e-05, momentum=0.1, affine=True, track_running_stats=True)\n",
       "      (8): Softmax2d()\n",
       "    )\n",
       "  )\n",
       "  (fuse2): MultiConv(\n",
       "    (fuse_attn): Sequential(\n",
       "      (0): Conv2d(384, 128, kernel_size=(3, 3), stride=(1, 1), padding=(1, 1))\n",
       "      (1): BatchNorm2d(128, eps=1e-05, momentum=0.1, affine=True, track_running_stats=True)\n",
       "      (2): PReLU(num_parameters=1)\n",
       "      (3): Conv2d(128, 128, kernel_size=(3, 3), stride=(1, 1), padding=(1, 1))\n",
       "      (4): BatchNorm2d(128, eps=1e-05, momentum=0.1, affine=True, track_running_stats=True)\n",
       "      (5): PReLU(num_parameters=1)\n",
       "      (6): Conv2d(128, 128, kernel_size=(1, 1), stride=(1, 1))\n",
       "      (7): BatchNorm2d(128, eps=1e-05, momentum=0.1, affine=True, track_running_stats=True)\n",
       "      (8): Softmax2d()\n",
       "    )\n",
       "  )\n",
       "  (fuse3): MultiConv(\n",
       "    (fuse_attn): Sequential(\n",
       "      (0): Conv2d(192, 64, kernel_size=(3, 3), stride=(1, 1), padding=(1, 1))\n",
       "      (1): BatchNorm2d(64, eps=1e-05, momentum=0.1, affine=True, track_running_stats=True)\n",
       "      (2): PReLU(num_parameters=1)\n",
       "      (3): Conv2d(64, 64, kernel_size=(3, 3), stride=(1, 1), padding=(1, 1))\n",
       "      (4): BatchNorm2d(64, eps=1e-05, momentum=0.1, affine=True, track_running_stats=True)\n",
       "      (5): PReLU(num_parameters=1)\n",
       "      (6): Conv2d(64, 64, kernel_size=(1, 1), stride=(1, 1))\n",
       "      (7): BatchNorm2d(64, eps=1e-05, momentum=0.1, affine=True, track_running_stats=True)\n",
       "      (8): Softmax2d()\n",
       "    )\n",
       "  )\n",
       "  (fuse4): MultiConv(\n",
       "    (fuse_attn): Sequential(\n",
       "      (0): Conv2d(128, 64, kernel_size=(3, 3), stride=(1, 1), padding=(1, 1))\n",
       "      (1): BatchNorm2d(64, eps=1e-05, momentum=0.1, affine=True, track_running_stats=True)\n",
       "      (2): PReLU(num_parameters=1)\n",
       "      (3): Conv2d(64, 64, kernel_size=(3, 3), stride=(1, 1), padding=(1, 1))\n",
       "      (4): BatchNorm2d(64, eps=1e-05, momentum=0.1, affine=True, track_running_stats=True)\n",
       "      (5): PReLU(num_parameters=1)\n",
       "      (6): Conv2d(64, 64, kernel_size=(1, 1), stride=(1, 1))\n",
       "      (7): BatchNorm2d(64, eps=1e-05, momentum=0.1, affine=True, track_running_stats=True)\n",
       "      (8): Softmax2d()\n",
       "    )\n",
       "  )\n",
       ")"
      ]
     },
     "execution_count": 18,
     "metadata": {},
     "output_type": "execute_result"
    }
   ],
   "source": [
    "model.to(device)\n",
    "\n",
    "# # Define an example input size\n",
    "# input_size = (1, 256, 256)\n",
    "\n",
    "# # Create an example input tensor\n",
    "# input_tensor = torch.randn(input_size).to(device)\n",
    "\n",
    "# # Print the model summary\n",
    "# summary(model, input_size=input_size)"
   ]
  },
  {
   "cell_type": "code",
   "execution_count": 19,
   "id": "f24baf12",
   "metadata": {},
   "outputs": [
    {
     "name": "stdout",
     "output_type": "stream",
     "text": [
      "Total number of parameters: 25964618\n"
     ]
    }
   ],
   "source": [
    "total_params = sum(p.numel() for p in model.parameters())\n",
    "print(f\"Total number of parameters: {total_params}\")"
   ]
  },
  {
   "cell_type": "code",
   "execution_count": 20,
   "id": "d4e3e600",
   "metadata": {},
   "outputs": [
    {
     "name": "stdout",
     "output_type": "stream",
     "text": [
      "Total number of parameters: 25964618\n"
     ]
    }
   ],
   "source": [
    "total_params = sum(p.numel() for p in model.parameters())\n",
    "print(f\"Total number of parameters: {total_params}\")"
   ]
  },
  {
   "cell_type": "code",
   "execution_count": 19,
   "id": "f32f9650",
   "metadata": {},
   "outputs": [],
   "source": [
    "epochs = 200"
   ]
  },
  {
   "cell_type": "code",
   "execution_count": 19,
   "id": "9f07e976",
   "metadata": {},
   "outputs": [],
   "source": [
    "filename_sd = '/home/rabeea/logs/TransAttUnetSkip/Simple_layers5_f64_b1.pth'"
   ]
  },
  {
   "cell_type": "code",
   "execution_count": 21,
   "id": "3729a612",
   "metadata": {},
   "outputs": [
    {
     "data": {
      "application/vnd.jupyter.widget-view+json": {
       "model_id": "2d7ee412e9b24739bf1c624aecd37638",
       "version_major": 2,
       "version_minor": 0
      },
      "text/plain": [
       "  0%|          | 0/400 [00:00<?, ?it/s]"
      ]
     },
     "metadata": {},
     "output_type": "display_data"
    },
    {
     "name": "stdout",
     "output_type": "stream",
     "text": [
      "Dice increasing.. 0.000 >> 0.191 \n",
      "saving model...\n",
      "Epoch 1/200, Train Loss: 0.8076, Train Dice: 0.1924, Val Dice: 0.1906, time: 0.27\n"
     ]
    },
    {
     "data": {
      "application/vnd.jupyter.widget-view+json": {
       "model_id": "8733c3835a28419e991e0e08921a96b6",
       "version_major": 2,
       "version_minor": 0
      },
      "text/plain": [
       "  0%|          | 0/400 [00:00<?, ?it/s]"
      ]
     },
     "metadata": {},
     "output_type": "display_data"
    },
    {
     "name": "stdout",
     "output_type": "stream",
     "text": [
      "Dice increasing.. 0.191 >> 0.230 \n",
      "saving model...\n",
      "Epoch 2/200, Train Loss: 0.7405, Train Dice: 0.2595, Val Dice: 0.2299, time: 0.25\n"
     ]
    },
    {
     "data": {
      "application/vnd.jupyter.widget-view+json": {
       "model_id": "7b1e550c67c14acc830e8579deb6c68e",
       "version_major": 2,
       "version_minor": 0
      },
      "text/plain": [
       "  0%|          | 0/400 [00:00<?, ?it/s]"
      ]
     },
     "metadata": {},
     "output_type": "display_data"
    },
    {
     "name": "stdout",
     "output_type": "stream",
     "text": [
      "Dice increasing.. 0.230 >> 0.257 \n",
      "saving model...\n",
      "Epoch 3/200, Train Loss: 0.6927, Train Dice: 0.3073, Val Dice: 0.2574, time: 0.31\n"
     ]
    },
    {
     "data": {
      "application/vnd.jupyter.widget-view+json": {
       "model_id": "6593cf12839a4c42a660ab29019b44a8",
       "version_major": 2,
       "version_minor": 0
      },
      "text/plain": [
       "  0%|          | 0/400 [00:00<?, ?it/s]"
      ]
     },
     "metadata": {},
     "output_type": "display_data"
    },
    {
     "name": "stdout",
     "output_type": "stream",
     "text": [
      "Epoch 4/200, Train Loss: 0.6416, Train Dice: 0.3584, Val Dice: 0.2572, time: 0.35\n"
     ]
    },
    {
     "data": {
      "application/vnd.jupyter.widget-view+json": {
       "model_id": "034a2b9cecb940a79e7f23a95118e68a",
       "version_major": 2,
       "version_minor": 0
      },
      "text/plain": [
       "  0%|          | 0/400 [00:00<?, ?it/s]"
      ]
     },
     "metadata": {},
     "output_type": "display_data"
    },
    {
     "name": "stdout",
     "output_type": "stream",
     "text": [
      "Epoch 5/200, Train Loss: 0.5824, Train Dice: 0.4176, Val Dice: 0.2484, time: 0.39\n"
     ]
    },
    {
     "data": {
      "application/vnd.jupyter.widget-view+json": {
       "model_id": "9cffa745f8e1429681e28f37de861c3a",
       "version_major": 2,
       "version_minor": 0
      },
      "text/plain": [
       "  0%|          | 0/400 [00:00<?, ?it/s]"
      ]
     },
     "metadata": {},
     "output_type": "display_data"
    },
    {
     "name": "stdout",
     "output_type": "stream",
     "text": [
      "Dice increasing.. 0.257 >> 0.286 \n",
      "saving model...\n",
      "Epoch 6/200, Train Loss: 0.5111, Train Dice: 0.4889, Val Dice: 0.2860, time: 0.25\n"
     ]
    },
    {
     "data": {
      "application/vnd.jupyter.widget-view+json": {
       "model_id": "fbf4436743594e86b062bb34f698a387",
       "version_major": 2,
       "version_minor": 0
      },
      "text/plain": [
       "  0%|          | 0/400 [00:00<?, ?it/s]"
      ]
     },
     "metadata": {},
     "output_type": "display_data"
    },
    {
     "name": "stdout",
     "output_type": "stream",
     "text": [
      "Epoch 7/200, Train Loss: 0.4492, Train Dice: 0.5508, Val Dice: 0.2722, time: 0.25\n"
     ]
    },
    {
     "data": {
      "application/vnd.jupyter.widget-view+json": {
       "model_id": "4b22ba26b2874751a0d52866747c320a",
       "version_major": 2,
       "version_minor": 0
      },
      "text/plain": [
       "  0%|          | 0/400 [00:00<?, ?it/s]"
      ]
     },
     "metadata": {},
     "output_type": "display_data"
    },
    {
     "name": "stdout",
     "output_type": "stream",
     "text": [
      "Epoch 8/200, Train Loss: 0.4022, Train Dice: 0.5978, Val Dice: 0.2472, time: 0.25\n"
     ]
    },
    {
     "data": {
      "application/vnd.jupyter.widget-view+json": {
       "model_id": "951d45e405fc4e849e9c7facfecc6afd",
       "version_major": 2,
       "version_minor": 0
      },
      "text/plain": [
       "  0%|          | 0/400 [00:00<?, ?it/s]"
      ]
     },
     "metadata": {},
     "output_type": "display_data"
    },
    {
     "name": "stdout",
     "output_type": "stream",
     "text": [
      "Dice increasing.. 0.286 >> 0.315 \n",
      "saving model...\n",
      "Epoch 9/200, Train Loss: 0.3521, Train Dice: 0.6479, Val Dice: 0.3148, time: 0.25\n"
     ]
    },
    {
     "data": {
      "application/vnd.jupyter.widget-view+json": {
       "model_id": "3e8ff7262cec4142b48c4e275229ad8f",
       "version_major": 2,
       "version_minor": 0
      },
      "text/plain": [
       "  0%|          | 0/400 [00:00<?, ?it/s]"
      ]
     },
     "metadata": {},
     "output_type": "display_data"
    },
    {
     "name": "stdout",
     "output_type": "stream",
     "text": [
      "Epoch 10/200, Train Loss: 0.3258, Train Dice: 0.6742, Val Dice: 0.2411, time: 0.25\n"
     ]
    },
    {
     "data": {
      "application/vnd.jupyter.widget-view+json": {
       "model_id": "be5baa6ab1b24da2953b07052c603c9f",
       "version_major": 2,
       "version_minor": 0
      },
      "text/plain": [
       "  0%|          | 0/400 [00:00<?, ?it/s]"
      ]
     },
     "metadata": {},
     "output_type": "display_data"
    },
    {
     "name": "stdout",
     "output_type": "stream",
     "text": [
      "Dice increasing.. 0.315 >> 0.359 \n",
      "saving model...\n",
      "Epoch 11/200, Train Loss: 0.2869, Train Dice: 0.7131, Val Dice: 0.3593, time: 0.25\n"
     ]
    },
    {
     "data": {
      "application/vnd.jupyter.widget-view+json": {
       "model_id": "803715cd711a49e6b4f5e3073bbd69bb",
       "version_major": 2,
       "version_minor": 0
      },
      "text/plain": [
       "  0%|          | 0/400 [00:00<?, ?it/s]"
      ]
     },
     "metadata": {},
     "output_type": "display_data"
    },
    {
     "name": "stdout",
     "output_type": "stream",
     "text": [
      "Dice increasing.. 0.359 >> 0.391 \n",
      "saving model...\n",
      "Epoch 12/200, Train Loss: 0.2486, Train Dice: 0.7514, Val Dice: 0.3908, time: 0.39\n"
     ]
    },
    {
     "data": {
      "application/vnd.jupyter.widget-view+json": {
       "model_id": "fc32cacba15d49b5bfc3dff44c78d685",
       "version_major": 2,
       "version_minor": 0
      },
      "text/plain": [
       "  0%|          | 0/400 [00:00<?, ?it/s]"
      ]
     },
     "metadata": {},
     "output_type": "display_data"
    },
    {
     "name": "stdout",
     "output_type": "stream",
     "text": [
      "Epoch 13/200, Train Loss: 0.2160, Train Dice: 0.7840, Val Dice: 0.3703, time: 0.32\n"
     ]
    },
    {
     "data": {
      "application/vnd.jupyter.widget-view+json": {
       "model_id": "9e8cf879df9b4d72a11f4f6c1ebb8c2d",
       "version_major": 2,
       "version_minor": 0
      },
      "text/plain": [
       "  0%|          | 0/400 [00:00<?, ?it/s]"
      ]
     },
     "metadata": {},
     "output_type": "display_data"
    },
    {
     "name": "stdout",
     "output_type": "stream",
     "text": [
      "Epoch 14/200, Train Loss: 0.1963, Train Dice: 0.8037, Val Dice: 0.3223, time: 0.26\n"
     ]
    },
    {
     "data": {
      "application/vnd.jupyter.widget-view+json": {
       "model_id": "055022c28e9d4a19a2b1af488e09465d",
       "version_major": 2,
       "version_minor": 0
      },
      "text/plain": [
       "  0%|          | 0/400 [00:00<?, ?it/s]"
      ]
     },
     "metadata": {},
     "output_type": "display_data"
    },
    {
     "name": "stdout",
     "output_type": "stream",
     "text": [
      "Epoch 15/200, Train Loss: 0.1746, Train Dice: 0.8254, Val Dice: 0.3728, time: 0.25\n"
     ]
    },
    {
     "data": {
      "application/vnd.jupyter.widget-view+json": {
       "model_id": "644979a59de7444cacbea4d767efcefb",
       "version_major": 2,
       "version_minor": 0
      },
      "text/plain": [
       "  0%|          | 0/400 [00:00<?, ?it/s]"
      ]
     },
     "metadata": {},
     "output_type": "display_data"
    },
    {
     "name": "stdout",
     "output_type": "stream",
     "text": [
      "Epoch 16/200, Train Loss: 0.1677, Train Dice: 0.8323, Val Dice: 0.3742, time: 0.25\n"
     ]
    },
    {
     "data": {
      "application/vnd.jupyter.widget-view+json": {
       "model_id": "ca251a4c35494b479cba5c74cf75f1e0",
       "version_major": 2,
       "version_minor": 0
      },
      "text/plain": [
       "  0%|          | 0/400 [00:00<?, ?it/s]"
      ]
     },
     "metadata": {},
     "output_type": "display_data"
    },
    {
     "name": "stdout",
     "output_type": "stream",
     "text": [
      "Epoch 17/200, Train Loss: 0.1525, Train Dice: 0.8475, Val Dice: 0.3679, time: 0.27\n"
     ]
    },
    {
     "data": {
      "application/vnd.jupyter.widget-view+json": {
       "model_id": "d8e35b491454499aa00643a042081a2e",
       "version_major": 2,
       "version_minor": 0
      },
      "text/plain": [
       "  0%|          | 0/400 [00:00<?, ?it/s]"
      ]
     },
     "metadata": {},
     "output_type": "display_data"
    },
    {
     "name": "stdout",
     "output_type": "stream",
     "text": [
      "Epoch 18/200, Train Loss: 0.1352, Train Dice: 0.8648, Val Dice: 0.3209, time: 0.30\n"
     ]
    },
    {
     "data": {
      "application/vnd.jupyter.widget-view+json": {
       "model_id": "a2c141e074db46a58bb385cabb477bd7",
       "version_major": 2,
       "version_minor": 0
      },
      "text/plain": [
       "  0%|          | 0/400 [00:00<?, ?it/s]"
      ]
     },
     "metadata": {},
     "output_type": "display_data"
    },
    {
     "name": "stdout",
     "output_type": "stream",
     "text": [
      "Epoch 19/200, Train Loss: 0.1269, Train Dice: 0.8731, Val Dice: 0.3243, time: 0.32\n"
     ]
    },
    {
     "data": {
      "application/vnd.jupyter.widget-view+json": {
       "model_id": "aa7fe10666ad4cd0b279910333cf23f8",
       "version_major": 2,
       "version_minor": 0
      },
      "text/plain": [
       "  0%|          | 0/400 [00:00<?, ?it/s]"
      ]
     },
     "metadata": {},
     "output_type": "display_data"
    },
    {
     "name": "stdout",
     "output_type": "stream",
     "text": [
      "Epoch 20/200, Train Loss: 0.1285, Train Dice: 0.8715, Val Dice: 0.3618, time: 0.41\n"
     ]
    },
    {
     "data": {
      "application/vnd.jupyter.widget-view+json": {
       "model_id": "984a6b1e84e44d61b564931afccf0782",
       "version_major": 2,
       "version_minor": 0
      },
      "text/plain": [
       "  0%|          | 0/400 [00:00<?, ?it/s]"
      ]
     },
     "metadata": {},
     "output_type": "display_data"
    },
    {
     "name": "stdout",
     "output_type": "stream",
     "text": [
      "Dice increasing.. 0.391 >> 0.409 \n",
      "saving model...\n",
      "Epoch 21/200, Train Loss: 0.1104, Train Dice: 0.8896, Val Dice: 0.4091, time: 0.44\n"
     ]
    },
    {
     "data": {
      "application/vnd.jupyter.widget-view+json": {
       "model_id": "9abd166698334a67a4e7fb29bdcf5353",
       "version_major": 2,
       "version_minor": 0
      },
      "text/plain": [
       "  0%|          | 0/400 [00:00<?, ?it/s]"
      ]
     },
     "metadata": {},
     "output_type": "display_data"
    },
    {
     "name": "stdout",
     "output_type": "stream",
     "text": [
      "Epoch 22/200, Train Loss: 0.0999, Train Dice: 0.9001, Val Dice: 0.3364, time: 0.41\n"
     ]
    },
    {
     "data": {
      "application/vnd.jupyter.widget-view+json": {
       "model_id": "c4e60b0264aa4fe6a44754e74c9b496b",
       "version_major": 2,
       "version_minor": 0
      },
      "text/plain": [
       "  0%|          | 0/400 [00:00<?, ?it/s]"
      ]
     },
     "metadata": {},
     "output_type": "display_data"
    },
    {
     "name": "stdout",
     "output_type": "stream",
     "text": [
      "Epoch 23/200, Train Loss: 0.0969, Train Dice: 0.9031, Val Dice: 0.3965, time: 0.39\n"
     ]
    },
    {
     "data": {
      "application/vnd.jupyter.widget-view+json": {
       "model_id": "b4e0292e0cff4720adcab435af645347",
       "version_major": 2,
       "version_minor": 0
      },
      "text/plain": [
       "  0%|          | 0/400 [00:00<?, ?it/s]"
      ]
     },
     "metadata": {},
     "output_type": "display_data"
    },
    {
     "name": "stdout",
     "output_type": "stream",
     "text": [
      "Epoch 24/200, Train Loss: 0.0937, Train Dice: 0.9063, Val Dice: 0.3674, time: 0.40\n"
     ]
    },
    {
     "data": {
      "application/vnd.jupyter.widget-view+json": {
       "model_id": "de27137600324498a252a6f0ec7b4f55",
       "version_major": 2,
       "version_minor": 0
      },
      "text/plain": [
       "  0%|          | 0/400 [00:00<?, ?it/s]"
      ]
     },
     "metadata": {},
     "output_type": "display_data"
    },
    {
     "name": "stdout",
     "output_type": "stream",
     "text": [
      "Epoch 25/200, Train Loss: 0.1032, Train Dice: 0.8968, Val Dice: 0.3429, time: 0.40\n"
     ]
    },
    {
     "data": {
      "application/vnd.jupyter.widget-view+json": {
       "model_id": "a3edf1e7a4eb4c318c5e2dfa89a23b7a",
       "version_major": 2,
       "version_minor": 0
      },
      "text/plain": [
       "  0%|          | 0/400 [00:00<?, ?it/s]"
      ]
     },
     "metadata": {},
     "output_type": "display_data"
    },
    {
     "name": "stdout",
     "output_type": "stream",
     "text": [
      "Epoch 26/200, Train Loss: 0.0869, Train Dice: 0.9131, Val Dice: 0.4032, time: 0.48\n"
     ]
    },
    {
     "data": {
      "application/vnd.jupyter.widget-view+json": {
       "model_id": "c32e617ec0fe4cc0b619f51f99359881",
       "version_major": 2,
       "version_minor": 0
      },
      "text/plain": [
       "  0%|          | 0/400 [00:00<?, ?it/s]"
      ]
     },
     "metadata": {},
     "output_type": "display_data"
    },
    {
     "name": "stdout",
     "output_type": "stream",
     "text": [
      "Epoch 27/200, Train Loss: 0.0784, Train Dice: 0.9216, Val Dice: 0.3857, time: 0.42\n"
     ]
    },
    {
     "data": {
      "application/vnd.jupyter.widget-view+json": {
       "model_id": "d9b08bfb942a44a0bd06be1a22973e38",
       "version_major": 2,
       "version_minor": 0
      },
      "text/plain": [
       "  0%|          | 0/400 [00:00<?, ?it/s]"
      ]
     },
     "metadata": {},
     "output_type": "display_data"
    },
    {
     "name": "stdout",
     "output_type": "stream",
     "text": [
      "Dice increasing.. 0.409 >> 0.424 \n",
      "saving model...\n",
      "Epoch 28/200, Train Loss: 0.0732, Train Dice: 0.9268, Val Dice: 0.4239, time: 0.41\n"
     ]
    },
    {
     "data": {
      "application/vnd.jupyter.widget-view+json": {
       "model_id": "a8787d6d3d5a4be0942bcd87a468c411",
       "version_major": 2,
       "version_minor": 0
      },
      "text/plain": [
       "  0%|          | 0/400 [00:00<?, ?it/s]"
      ]
     },
     "metadata": {},
     "output_type": "display_data"
    },
    {
     "name": "stdout",
     "output_type": "stream",
     "text": [
      "Epoch 29/200, Train Loss: 0.0702, Train Dice: 0.9298, Val Dice: 0.4089, time: 0.40\n"
     ]
    },
    {
     "data": {
      "application/vnd.jupyter.widget-view+json": {
       "model_id": "6acb5ac692404ce795ce892d1197fcb9",
       "version_major": 2,
       "version_minor": 0
      },
      "text/plain": [
       "  0%|          | 0/400 [00:00<?, ?it/s]"
      ]
     },
     "metadata": {},
     "output_type": "display_data"
    },
    {
     "name": "stdout",
     "output_type": "stream",
     "text": [
      "Epoch 30/200, Train Loss: 0.0697, Train Dice: 0.9303, Val Dice: 0.2885, time: 0.40\n"
     ]
    },
    {
     "data": {
      "application/vnd.jupyter.widget-view+json": {
       "model_id": "76dfe9dd87b6430d9a5ecfbd1d9f6212",
       "version_major": 2,
       "version_minor": 0
      },
      "text/plain": [
       "  0%|          | 0/400 [00:00<?, ?it/s]"
      ]
     },
     "metadata": {},
     "output_type": "display_data"
    },
    {
     "name": "stdout",
     "output_type": "stream",
     "text": [
      "Epoch 31/200, Train Loss: 0.0780, Train Dice: 0.9220, Val Dice: 0.3961, time: 0.40\n"
     ]
    },
    {
     "data": {
      "application/vnd.jupyter.widget-view+json": {
       "model_id": "9ca3015baeeb41d197c38e77e368fa82",
       "version_major": 2,
       "version_minor": 0
      },
      "text/plain": [
       "  0%|          | 0/400 [00:00<?, ?it/s]"
      ]
     },
     "metadata": {},
     "output_type": "display_data"
    },
    {
     "name": "stdout",
     "output_type": "stream",
     "text": [
      "Dice increasing.. 0.424 >> 0.425 \n",
      "saving model...\n",
      "Epoch 32/200, Train Loss: 0.0655, Train Dice: 0.9345, Val Dice: 0.4250, time: 0.41\n"
     ]
    },
    {
     "data": {
      "application/vnd.jupyter.widget-view+json": {
       "model_id": "8f216ce22ec64daa87b76feeefea8824",
       "version_major": 2,
       "version_minor": 0
      },
      "text/plain": [
       "  0%|          | 0/400 [00:00<?, ?it/s]"
      ]
     },
     "metadata": {},
     "output_type": "display_data"
    },
    {
     "name": "stdout",
     "output_type": "stream",
     "text": [
      "Dice increasing.. 0.425 >> 0.431 \n",
      "saving model...\n",
      "Epoch 33/200, Train Loss: 0.0590, Train Dice: 0.9410, Val Dice: 0.4312, time: 0.41\n"
     ]
    },
    {
     "data": {
      "application/vnd.jupyter.widget-view+json": {
       "model_id": "a8fbdff9cf51431fa7900b919e2f655f",
       "version_major": 2,
       "version_minor": 0
      },
      "text/plain": [
       "  0%|          | 0/400 [00:00<?, ?it/s]"
      ]
     },
     "metadata": {},
     "output_type": "display_data"
    },
    {
     "name": "stdout",
     "output_type": "stream",
     "text": [
      "Epoch 34/200, Train Loss: 0.0567, Train Dice: 0.9433, Val Dice: 0.4226, time: 0.42\n"
     ]
    },
    {
     "data": {
      "application/vnd.jupyter.widget-view+json": {
       "model_id": "65543f5e73914432acf15bf0f1f91f8e",
       "version_major": 2,
       "version_minor": 0
      },
      "text/plain": [
       "  0%|          | 0/400 [00:00<?, ?it/s]"
      ]
     },
     "metadata": {},
     "output_type": "display_data"
    },
    {
     "name": "stdout",
     "output_type": "stream",
     "text": [
      "Epoch 35/200, Train Loss: 0.0545, Train Dice: 0.9455, Val Dice: 0.4104, time: 0.43\n"
     ]
    },
    {
     "data": {
      "application/vnd.jupyter.widget-view+json": {
       "model_id": "842673fa22e14e1cbaeadd7623081789",
       "version_major": 2,
       "version_minor": 0
      },
      "text/plain": [
       "  0%|          | 0/400 [00:00<?, ?it/s]"
      ]
     },
     "metadata": {},
     "output_type": "display_data"
    },
    {
     "name": "stdout",
     "output_type": "stream",
     "text": [
      "Epoch 36/200, Train Loss: 0.0523, Train Dice: 0.9477, Val Dice: 0.4228, time: 0.42\n"
     ]
    },
    {
     "data": {
      "application/vnd.jupyter.widget-view+json": {
       "model_id": "ef716b836afb4a5e9133220cf4a118a2",
       "version_major": 2,
       "version_minor": 0
      },
      "text/plain": [
       "  0%|          | 0/400 [00:00<?, ?it/s]"
      ]
     },
     "metadata": {},
     "output_type": "display_data"
    },
    {
     "name": "stdout",
     "output_type": "stream",
     "text": [
      "Dice increasing.. 0.431 >> 0.438 \n",
      "saving model...\n",
      "Epoch 37/200, Train Loss: 0.0507, Train Dice: 0.9493, Val Dice: 0.4378, time: 0.49\n"
     ]
    },
    {
     "data": {
      "application/vnd.jupyter.widget-view+json": {
       "model_id": "d969f14d192344ceb5e2ed6b605cef24",
       "version_major": 2,
       "version_minor": 0
      },
      "text/plain": [
       "  0%|          | 0/400 [00:00<?, ?it/s]"
      ]
     },
     "metadata": {},
     "output_type": "display_data"
    },
    {
     "name": "stdout",
     "output_type": "stream",
     "text": [
      "Epoch 38/200, Train Loss: 0.0488, Train Dice: 0.9512, Val Dice: 0.4276, time: 0.47\n"
     ]
    },
    {
     "data": {
      "application/vnd.jupyter.widget-view+json": {
       "model_id": "00d823e4dc7e4c22a8d319e80a467316",
       "version_major": 2,
       "version_minor": 0
      },
      "text/plain": [
       "  0%|          | 0/400 [00:00<?, ?it/s]"
      ]
     },
     "metadata": {},
     "output_type": "display_data"
    },
    {
     "name": "stdout",
     "output_type": "stream",
     "text": [
      "Epoch 39/200, Train Loss: 0.0495, Train Dice: 0.9505, Val Dice: 0.4328, time: 0.42\n"
     ]
    },
    {
     "data": {
      "application/vnd.jupyter.widget-view+json": {
       "model_id": "6112b11f7d2546188e79f719ff53075c",
       "version_major": 2,
       "version_minor": 0
      },
      "text/plain": [
       "  0%|          | 0/400 [00:00<?, ?it/s]"
      ]
     },
     "metadata": {},
     "output_type": "display_data"
    },
    {
     "name": "stdout",
     "output_type": "stream",
     "text": [
      "Epoch 40/200, Train Loss: 0.0474, Train Dice: 0.9526, Val Dice: 0.4159, time: 0.41\n"
     ]
    },
    {
     "data": {
      "application/vnd.jupyter.widget-view+json": {
       "model_id": "01313a90fa2045e1afe91f13129c7501",
       "version_major": 2,
       "version_minor": 0
      },
      "text/plain": [
       "  0%|          | 0/400 [00:00<?, ?it/s]"
      ]
     },
     "metadata": {},
     "output_type": "display_data"
    },
    {
     "name": "stdout",
     "output_type": "stream",
     "text": [
      "Epoch 41/200, Train Loss: 0.0458, Train Dice: 0.9542, Val Dice: 0.4377, time: 0.41\n"
     ]
    },
    {
     "data": {
      "application/vnd.jupyter.widget-view+json": {
       "model_id": "4812607980804b1893a26eb79d5345c4",
       "version_major": 2,
       "version_minor": 0
      },
      "text/plain": [
       "  0%|          | 0/400 [00:00<?, ?it/s]"
      ]
     },
     "metadata": {},
     "output_type": "display_data"
    },
    {
     "name": "stdout",
     "output_type": "stream",
     "text": [
      "Epoch 42/200, Train Loss: 0.0437, Train Dice: 0.9563, Val Dice: 0.4234, time: 0.41\n"
     ]
    },
    {
     "data": {
      "application/vnd.jupyter.widget-view+json": {
       "model_id": "6500267a65814f61a4cc522128fe1803",
       "version_major": 2,
       "version_minor": 0
      },
      "text/plain": [
       "  0%|          | 0/400 [00:00<?, ?it/s]"
      ]
     },
     "metadata": {},
     "output_type": "display_data"
    },
    {
     "name": "stdout",
     "output_type": "stream",
     "text": [
      "Epoch 43/200, Train Loss: 0.0426, Train Dice: 0.9574, Val Dice: 0.4188, time: 0.41\n"
     ]
    },
    {
     "data": {
      "application/vnd.jupyter.widget-view+json": {
       "model_id": "3eff6642c3c448e3b7a51eb1e8401833",
       "version_major": 2,
       "version_minor": 0
      },
      "text/plain": [
       "  0%|          | 0/400 [00:00<?, ?it/s]"
      ]
     },
     "metadata": {},
     "output_type": "display_data"
    },
    {
     "name": "stdout",
     "output_type": "stream",
     "text": [
      "Epoch 44/200, Train Loss: 0.0416, Train Dice: 0.9584, Val Dice: 0.4229, time: 0.40\n"
     ]
    },
    {
     "data": {
      "application/vnd.jupyter.widget-view+json": {
       "model_id": "512cd7c5b0d94af8a310cbe14382bd33",
       "version_major": 2,
       "version_minor": 0
      },
      "text/plain": [
       "  0%|          | 0/400 [00:00<?, ?it/s]"
      ]
     },
     "metadata": {},
     "output_type": "display_data"
    },
    {
     "name": "stderr",
     "output_type": "stream",
     "text": [
      "IOPub message rate exceeded.\n",
      "The notebook server will temporarily stop sending output\n",
      "to the client in order to avoid crashing it.\n",
      "To change this limit, set the config variable\n",
      "`--NotebookApp.iopub_msg_rate_limit`.\n",
      "\n",
      "Current values:\n",
      "NotebookApp.iopub_msg_rate_limit=1000.0 (msgs/sec)\n",
      "NotebookApp.rate_limit_window=3.0 (secs)\n",
      "\n"
     ]
    },
    {
     "name": "stdout",
     "output_type": "stream",
     "text": [
      "Epoch 66/200, Train Loss: 0.0287, Train Dice: 0.9713, Val Dice: 0.4594, time: 0.26\n"
     ]
    },
    {
     "data": {
      "application/vnd.jupyter.widget-view+json": {
       "model_id": "902bee29b8644b78ba37110e9ec7b28c",
       "version_major": 2,
       "version_minor": 0
      },
      "text/plain": [
       "  0%|          | 0/400 [00:00<?, ?it/s]"
      ]
     },
     "metadata": {},
     "output_type": "display_data"
    },
    {
     "name": "stdout",
     "output_type": "stream",
     "text": [
      "Epoch 67/200, Train Loss: 0.0283, Train Dice: 0.9717, Val Dice: 0.4392, time: 0.26\n"
     ]
    },
    {
     "data": {
      "application/vnd.jupyter.widget-view+json": {
       "model_id": "6beb12341f134d5b907ba6e1f7dfad0f",
       "version_major": 2,
       "version_minor": 0
      },
      "text/plain": [
       "  0%|          | 0/400 [00:00<?, ?it/s]"
      ]
     },
     "metadata": {},
     "output_type": "display_data"
    },
    {
     "name": "stdout",
     "output_type": "stream",
     "text": [
      "Epoch 68/200, Train Loss: 0.0280, Train Dice: 0.9720, Val Dice: 0.4671, time: 0.27\n"
     ]
    },
    {
     "data": {
      "application/vnd.jupyter.widget-view+json": {
       "model_id": "f94c0c70434e4acfa95102d5173182e1",
       "version_major": 2,
       "version_minor": 0
      },
      "text/plain": [
       "  0%|          | 0/400 [00:00<?, ?it/s]"
      ]
     },
     "metadata": {},
     "output_type": "display_data"
    },
    {
     "name": "stdout",
     "output_type": "stream",
     "text": [
      "Epoch 69/200, Train Loss: 0.0277, Train Dice: 0.9723, Val Dice: 0.4464, time: 0.25\n"
     ]
    },
    {
     "data": {
      "application/vnd.jupyter.widget-view+json": {
       "model_id": "bad7fd2bbeb440b3baf14e0fc19d3af5",
       "version_major": 2,
       "version_minor": 0
      },
      "text/plain": [
       "  0%|          | 0/400 [00:00<?, ?it/s]"
      ]
     },
     "metadata": {},
     "output_type": "display_data"
    },
    {
     "name": "stdout",
     "output_type": "stream",
     "text": [
      "Epoch 70/200, Train Loss: 0.0267, Train Dice: 0.9733, Val Dice: 0.4554, time: 0.26\n"
     ]
    },
    {
     "data": {
      "application/vnd.jupyter.widget-view+json": {
       "model_id": "b90df4c06a4e48bc9b2f668daba98ff0",
       "version_major": 2,
       "version_minor": 0
      },
      "text/plain": [
       "  0%|          | 0/400 [00:00<?, ?it/s]"
      ]
     },
     "metadata": {},
     "output_type": "display_data"
    },
    {
     "name": "stdout",
     "output_type": "stream",
     "text": [
      "Epoch 71/200, Train Loss: 0.0269, Train Dice: 0.9731, Val Dice: 0.4568, time: 0.28\n"
     ]
    },
    {
     "data": {
      "application/vnd.jupyter.widget-view+json": {
       "model_id": "9b66d862903e45d09cdcc224e02a0071",
       "version_major": 2,
       "version_minor": 0
      },
      "text/plain": [
       "  0%|          | 0/400 [00:00<?, ?it/s]"
      ]
     },
     "metadata": {},
     "output_type": "display_data"
    },
    {
     "name": "stdout",
     "output_type": "stream",
     "text": [
      "Epoch 72/200, Train Loss: 0.0266, Train Dice: 0.9734, Val Dice: 0.4632, time: 0.27\n"
     ]
    },
    {
     "data": {
      "application/vnd.jupyter.widget-view+json": {
       "model_id": "771ce3e378a249fda0c7c25603dcc825",
       "version_major": 2,
       "version_minor": 0
      },
      "text/plain": [
       "  0%|          | 0/400 [00:00<?, ?it/s]"
      ]
     },
     "metadata": {},
     "output_type": "display_data"
    },
    {
     "name": "stdout",
     "output_type": "stream",
     "text": [
      "Dice increasing.. 0.470 >> 0.475 \n",
      "saving model...\n",
      "Epoch 73/200, Train Loss: 0.0263, Train Dice: 0.9737, Val Dice: 0.4746, time: 0.28\n"
     ]
    },
    {
     "data": {
      "application/vnd.jupyter.widget-view+json": {
       "model_id": "b79788cf28314bada4db50f53a8c11cd",
       "version_major": 2,
       "version_minor": 0
      },
      "text/plain": [
       "  0%|          | 0/400 [00:00<?, ?it/s]"
      ]
     },
     "metadata": {},
     "output_type": "display_data"
    },
    {
     "name": "stdout",
     "output_type": "stream",
     "text": [
      "Epoch 74/200, Train Loss: 0.0257, Train Dice: 0.9743, Val Dice: 0.4381, time: 0.27\n"
     ]
    },
    {
     "data": {
      "application/vnd.jupyter.widget-view+json": {
       "model_id": "6ba7e205b1db4054a35e6db13a31c14e",
       "version_major": 2,
       "version_minor": 0
      },
      "text/plain": [
       "  0%|          | 0/400 [00:00<?, ?it/s]"
      ]
     },
     "metadata": {},
     "output_type": "display_data"
    },
    {
     "name": "stdout",
     "output_type": "stream",
     "text": [
      "Epoch 75/200, Train Loss: 0.0254, Train Dice: 0.9746, Val Dice: 0.4711, time: 0.26\n"
     ]
    },
    {
     "data": {
      "application/vnd.jupyter.widget-view+json": {
       "model_id": "7bde5a3ad7e44259b4395edda5d1f6d2",
       "version_major": 2,
       "version_minor": 0
      },
      "text/plain": [
       "  0%|          | 0/400 [00:00<?, ?it/s]"
      ]
     },
     "metadata": {},
     "output_type": "display_data"
    },
    {
     "name": "stderr",
     "output_type": "stream",
     "text": [
      "IOPub message rate exceeded.\n",
      "The notebook server will temporarily stop sending output\n",
      "to the client in order to avoid crashing it.\n",
      "To change this limit, set the config variable\n",
      "`--NotebookApp.iopub_msg_rate_limit`.\n",
      "\n",
      "Current values:\n",
      "NotebookApp.iopub_msg_rate_limit=1000.0 (msgs/sec)\n",
      "NotebookApp.rate_limit_window=3.0 (secs)\n",
      "\n"
     ]
    },
    {
     "name": "stdout",
     "output_type": "stream",
     "text": [
      "Epoch 97/200, Train Loss: 0.0205, Train Dice: 0.9795, Val Dice: 0.4857, time: 0.43\n"
     ]
    },
    {
     "data": {
      "application/vnd.jupyter.widget-view+json": {
       "model_id": "1579e3368cb0416f83d1c9fd70cac9ba",
       "version_major": 2,
       "version_minor": 0
      },
      "text/plain": [
       "  0%|          | 0/400 [00:00<?, ?it/s]"
      ]
     },
     "metadata": {},
     "output_type": "display_data"
    },
    {
     "name": "stdout",
     "output_type": "stream",
     "text": [
      "Epoch 98/200, Train Loss: 0.0205, Train Dice: 0.9795, Val Dice: 0.4577, time: 0.39\n"
     ]
    },
    {
     "data": {
      "application/vnd.jupyter.widget-view+json": {
       "model_id": "ec89ab318a284c52852646bdab2aa217",
       "version_major": 2,
       "version_minor": 0
      },
      "text/plain": [
       "  0%|          | 0/400 [00:00<?, ?it/s]"
      ]
     },
     "metadata": {},
     "output_type": "display_data"
    },
    {
     "name": "stdout",
     "output_type": "stream",
     "text": [
      "Epoch 99/200, Train Loss: 0.0204, Train Dice: 0.9796, Val Dice: 0.4918, time: 0.39\n"
     ]
    },
    {
     "data": {
      "application/vnd.jupyter.widget-view+json": {
       "model_id": "bb3aede79f184bcf96c3749ca875a187",
       "version_major": 2,
       "version_minor": 0
      },
      "text/plain": [
       "  0%|          | 0/400 [00:00<?, ?it/s]"
      ]
     },
     "metadata": {},
     "output_type": "display_data"
    },
    {
     "name": "stdout",
     "output_type": "stream",
     "text": [
      "Epoch 100/200, Train Loss: 0.0204, Train Dice: 0.9796, Val Dice: 0.4807, time: 0.41\n"
     ]
    },
    {
     "data": {
      "application/vnd.jupyter.widget-view+json": {
       "model_id": "0acf54e9217946d38ef3152bcd104fe9",
       "version_major": 2,
       "version_minor": 0
      },
      "text/plain": [
       "  0%|          | 0/400 [00:00<?, ?it/s]"
      ]
     },
     "metadata": {},
     "output_type": "display_data"
    },
    {
     "name": "stdout",
     "output_type": "stream",
     "text": [
      "Epoch 101/200, Train Loss: 0.0199, Train Dice: 0.9801, Val Dice: 0.4764, time: 0.40\n"
     ]
    },
    {
     "data": {
      "application/vnd.jupyter.widget-view+json": {
       "model_id": "2cb78c66dedc47568ff47b4c97c0f328",
       "version_major": 2,
       "version_minor": 0
      },
      "text/plain": [
       "  0%|          | 0/400 [00:00<?, ?it/s]"
      ]
     },
     "metadata": {},
     "output_type": "display_data"
    },
    {
     "name": "stdout",
     "output_type": "stream",
     "text": [
      "Epoch 102/200, Train Loss: 0.0199, Train Dice: 0.9801, Val Dice: 0.4755, time: 0.43\n"
     ]
    },
    {
     "data": {
      "application/vnd.jupyter.widget-view+json": {
       "model_id": "531e3cf0822243c78da9521c5545826d",
       "version_major": 2,
       "version_minor": 0
      },
      "text/plain": [
       "  0%|          | 0/400 [00:00<?, ?it/s]"
      ]
     },
     "metadata": {},
     "output_type": "display_data"
    },
    {
     "name": "stdout",
     "output_type": "stream",
     "text": [
      "Epoch 103/200, Train Loss: 0.0197, Train Dice: 0.9803, Val Dice: 0.4944, time: 0.41\n"
     ]
    },
    {
     "data": {
      "application/vnd.jupyter.widget-view+json": {
       "model_id": "182508dac3b64076aecc0961af4efa80",
       "version_major": 2,
       "version_minor": 0
      },
      "text/plain": [
       "  0%|          | 0/400 [00:00<?, ?it/s]"
      ]
     },
     "metadata": {},
     "output_type": "display_data"
    },
    {
     "name": "stdout",
     "output_type": "stream",
     "text": [
      "Epoch 104/200, Train Loss: 0.0192, Train Dice: 0.9808, Val Dice: 0.4764, time: 0.39\n"
     ]
    },
    {
     "data": {
      "application/vnd.jupyter.widget-view+json": {
       "model_id": "51a27b4a960c47908a9190d5c5483d45",
       "version_major": 2,
       "version_minor": 0
      },
      "text/plain": [
       "  0%|          | 0/400 [00:00<?, ?it/s]"
      ]
     },
     "metadata": {},
     "output_type": "display_data"
    },
    {
     "name": "stderr",
     "output_type": "stream",
     "text": [
      "IOPub message rate exceeded.\n",
      "The notebook server will temporarily stop sending output\n",
      "to the client in order to avoid crashing it.\n",
      "To change this limit, set the config variable\n",
      "`--NotebookApp.iopub_msg_rate_limit`.\n",
      "\n",
      "Current values:\n",
      "NotebookApp.iopub_msg_rate_limit=1000.0 (msgs/sec)\n",
      "NotebookApp.rate_limit_window=3.0 (secs)\n",
      "\n"
     ]
    },
    {
     "name": "stdout",
     "output_type": "stream",
     "text": [
      "Epoch 125/200, Train Loss: 0.0163, Train Dice: 0.9837, Val Dice: 0.4976, time: 0.39\n"
     ]
    },
    {
     "data": {
      "application/vnd.jupyter.widget-view+json": {
       "model_id": "52c2008f5ff545a49cb0d758541fe15b",
       "version_major": 2,
       "version_minor": 0
      },
      "text/plain": [
       "  0%|          | 0/400 [00:00<?, ?it/s]"
      ]
     },
     "metadata": {},
     "output_type": "display_data"
    },
    {
     "name": "stdout",
     "output_type": "stream",
     "text": [
      "Epoch 126/200, Train Loss: 0.0165, Train Dice: 0.9835, Val Dice: 0.5095, time: 0.41\n"
     ]
    },
    {
     "data": {
      "application/vnd.jupyter.widget-view+json": {
       "model_id": "a298227afc8c444893e3de0aa3979124",
       "version_major": 2,
       "version_minor": 0
      },
      "text/plain": [
       "  0%|          | 0/400 [00:00<?, ?it/s]"
      ]
     },
     "metadata": {},
     "output_type": "display_data"
    },
    {
     "name": "stdout",
     "output_type": "stream",
     "text": [
      "Epoch 127/200, Train Loss: 0.0162, Train Dice: 0.9838, Val Dice: 0.5051, time: 0.39\n"
     ]
    },
    {
     "data": {
      "application/vnd.jupyter.widget-view+json": {
       "model_id": "fb55e089863e44b5b5f202956e7806ec",
       "version_major": 2,
       "version_minor": 0
      },
      "text/plain": [
       "  0%|          | 0/400 [00:00<?, ?it/s]"
      ]
     },
     "metadata": {},
     "output_type": "display_data"
    },
    {
     "name": "stdout",
     "output_type": "stream",
     "text": [
      "Epoch 128/200, Train Loss: 0.0162, Train Dice: 0.9838, Val Dice: 0.4952, time: 0.39\n"
     ]
    },
    {
     "data": {
      "application/vnd.jupyter.widget-view+json": {
       "model_id": "322d3e11c7bc433690204e7f18640514",
       "version_major": 2,
       "version_minor": 0
      },
      "text/plain": [
       "  0%|          | 0/400 [00:00<?, ?it/s]"
      ]
     },
     "metadata": {},
     "output_type": "display_data"
    },
    {
     "name": "stdout",
     "output_type": "stream",
     "text": [
      "Epoch 129/200, Train Loss: 0.0163, Train Dice: 0.9837, Val Dice: 0.4951, time: 0.38\n"
     ]
    },
    {
     "data": {
      "application/vnd.jupyter.widget-view+json": {
       "model_id": "794d9d839fe6416ea0487073e04515f1",
       "version_major": 2,
       "version_minor": 0
      },
      "text/plain": [
       "  0%|          | 0/400 [00:00<?, ?it/s]"
      ]
     },
     "metadata": {},
     "output_type": "display_data"
    },
    {
     "name": "stdout",
     "output_type": "stream",
     "text": [
      "Epoch 130/200, Train Loss: 0.0158, Train Dice: 0.9842, Val Dice: 0.4976, time: 0.39\n"
     ]
    },
    {
     "data": {
      "application/vnd.jupyter.widget-view+json": {
       "model_id": "aaff1cccea6f4b4aaca9d676d32bbbc3",
       "version_major": 2,
       "version_minor": 0
      },
      "text/plain": [
       "  0%|          | 0/400 [00:00<?, ?it/s]"
      ]
     },
     "metadata": {},
     "output_type": "display_data"
    },
    {
     "name": "stdout",
     "output_type": "stream",
     "text": [
      "Epoch 131/200, Train Loss: 0.0154, Train Dice: 0.9846, Val Dice: 0.5087, time: 0.38\n"
     ]
    },
    {
     "data": {
      "application/vnd.jupyter.widget-view+json": {
       "model_id": "918134f1f10141808b7656e4539a9168",
       "version_major": 2,
       "version_minor": 0
      },
      "text/plain": [
       "  0%|          | 0/400 [00:00<?, ?it/s]"
      ]
     },
     "metadata": {},
     "output_type": "display_data"
    },
    {
     "name": "stdout",
     "output_type": "stream",
     "text": [
      "Epoch 132/200, Train Loss: 0.0154, Train Dice: 0.9846, Val Dice: 0.4905, time: 0.45\n"
     ]
    },
    {
     "data": {
      "application/vnd.jupyter.widget-view+json": {
       "model_id": "a34f56b3a6d24b4da28a17d14a89b051",
       "version_major": 2,
       "version_minor": 0
      },
      "text/plain": [
       "  0%|          | 0/400 [00:00<?, ?it/s]"
      ]
     },
     "metadata": {},
     "output_type": "display_data"
    },
    {
     "name": "stderr",
     "output_type": "stream",
     "text": [
      "IOPub message rate exceeded.\n",
      "The notebook server will temporarily stop sending output\n",
      "to the client in order to avoid crashing it.\n",
      "To change this limit, set the config variable\n",
      "`--NotebookApp.iopub_msg_rate_limit`.\n",
      "\n",
      "Current values:\n",
      "NotebookApp.iopub_msg_rate_limit=1000.0 (msgs/sec)\n",
      "NotebookApp.rate_limit_window=3.0 (secs)\n",
      "\n"
     ]
    },
    {
     "name": "stdout",
     "output_type": "stream",
     "text": [
      "Epoch 155/200, Train Loss: 0.0136, Train Dice: 0.9864, Val Dice: 0.5153, time: 0.26\n"
     ]
    },
    {
     "data": {
      "application/vnd.jupyter.widget-view+json": {
       "model_id": "b1d219137ba847c29085e843bfd9a134",
       "version_major": 2,
       "version_minor": 0
      },
      "text/plain": [
       "  0%|          | 0/400 [00:00<?, ?it/s]"
      ]
     },
     "metadata": {},
     "output_type": "display_data"
    },
    {
     "name": "stdout",
     "output_type": "stream",
     "text": [
      "Epoch 156/200, Train Loss: 0.0133, Train Dice: 0.9867, Val Dice: 0.5176, time: 0.27\n"
     ]
    },
    {
     "data": {
      "application/vnd.jupyter.widget-view+json": {
       "model_id": "0745260962d34ae8aff95406cc1bed1e",
       "version_major": 2,
       "version_minor": 0
      },
      "text/plain": [
       "  0%|          | 0/400 [00:00<?, ?it/s]"
      ]
     },
     "metadata": {},
     "output_type": "display_data"
    },
    {
     "name": "stdout",
     "output_type": "stream",
     "text": [
      "Epoch 157/200, Train Loss: 0.0138, Train Dice: 0.9862, Val Dice: 0.5080, time: 0.28\n"
     ]
    },
    {
     "data": {
      "application/vnd.jupyter.widget-view+json": {
       "model_id": "1a6849342a244f0f86920ac293fbca0f",
       "version_major": 2,
       "version_minor": 0
      },
      "text/plain": [
       "  0%|          | 0/400 [00:00<?, ?it/s]"
      ]
     },
     "metadata": {},
     "output_type": "display_data"
    },
    {
     "name": "stdout",
     "output_type": "stream",
     "text": [
      "Epoch 158/200, Train Loss: 0.0136, Train Dice: 0.9864, Val Dice: 0.5121, time: 0.28\n"
     ]
    },
    {
     "data": {
      "application/vnd.jupyter.widget-view+json": {
       "model_id": "22517715d95b4804ad515a74d9f78e11",
       "version_major": 2,
       "version_minor": 0
      },
      "text/plain": [
       "  0%|          | 0/400 [00:00<?, ?it/s]"
      ]
     },
     "metadata": {},
     "output_type": "display_data"
    },
    {
     "name": "stdout",
     "output_type": "stream",
     "text": [
      "Epoch 159/200, Train Loss: 0.0138, Train Dice: 0.9862, Val Dice: 0.5124, time: 0.39\n"
     ]
    },
    {
     "data": {
      "application/vnd.jupyter.widget-view+json": {
       "model_id": "4675757e6fec4fb2ab236310d945d4cc",
       "version_major": 2,
       "version_minor": 0
      },
      "text/plain": [
       "  0%|          | 0/400 [00:00<?, ?it/s]"
      ]
     },
     "metadata": {},
     "output_type": "display_data"
    },
    {
     "name": "stdout",
     "output_type": "stream",
     "text": [
      "Epoch 160/200, Train Loss: 0.0132, Train Dice: 0.9868, Val Dice: 0.5179, time: 0.34\n"
     ]
    },
    {
     "data": {
      "application/vnd.jupyter.widget-view+json": {
       "model_id": "3e4750a812be44c7a5bf3efdd591969f",
       "version_major": 2,
       "version_minor": 0
      },
      "text/plain": [
       "  0%|          | 0/400 [00:00<?, ?it/s]"
      ]
     },
     "metadata": {},
     "output_type": "display_data"
    },
    {
     "name": "stdout",
     "output_type": "stream",
     "text": [
      "Epoch 161/200, Train Loss: 0.0131, Train Dice: 0.9869, Val Dice: 0.5055, time: 0.26\n"
     ]
    },
    {
     "data": {
      "application/vnd.jupyter.widget-view+json": {
       "model_id": "a4425b580a2644cca67689a614589cf7",
       "version_major": 2,
       "version_minor": 0
      },
      "text/plain": [
       "  0%|          | 0/400 [00:00<?, ?it/s]"
      ]
     },
     "metadata": {},
     "output_type": "display_data"
    },
    {
     "name": "stdout",
     "output_type": "stream",
     "text": [
      "Epoch 162/200, Train Loss: 0.0131, Train Dice: 0.9869, Val Dice: 0.5134, time: 0.28\n"
     ]
    },
    {
     "data": {
      "application/vnd.jupyter.widget-view+json": {
       "model_id": "c5131d18be9c4f7e9b8c6f84aa248043",
       "version_major": 2,
       "version_minor": 0
      },
      "text/plain": [
       "  0%|          | 0/400 [00:00<?, ?it/s]"
      ]
     },
     "metadata": {},
     "output_type": "display_data"
    },
    {
     "name": "stdout",
     "output_type": "stream",
     "text": [
      "Epoch 163/200, Train Loss: 0.0131, Train Dice: 0.9869, Val Dice: 0.5090, time: 0.27\n"
     ]
    },
    {
     "data": {
      "application/vnd.jupyter.widget-view+json": {
       "model_id": "c54f2a331e784398accba1da9f361d94",
       "version_major": 2,
       "version_minor": 0
      },
      "text/plain": [
       "  0%|          | 0/400 [00:00<?, ?it/s]"
      ]
     },
     "metadata": {},
     "output_type": "display_data"
    },
    {
     "name": "stderr",
     "output_type": "stream",
     "text": [
      "IOPub message rate exceeded.\n",
      "The notebook server will temporarily stop sending output\n",
      "to the client in order to avoid crashing it.\n",
      "To change this limit, set the config variable\n",
      "`--NotebookApp.iopub_msg_rate_limit`.\n",
      "\n",
      "Current values:\n",
      "NotebookApp.iopub_msg_rate_limit=1000.0 (msgs/sec)\n",
      "NotebookApp.rate_limit_window=3.0 (secs)\n",
      "\n"
     ]
    }
   ],
   "source": [
    "optimizer = optim.SGD(model.parameters(), lr=1e-3)#, momentum=0.9)\n",
    "torch.cuda.empty_cache()\n",
    "max_dice = 0\n",
    "train_losses = []\n",
    "test_losses = []\n",
    "train_dices = []\n",
    "val_dices = []\n",
    "decrease = 1  \n",
    "fit_time = time.time()\n",
    "not_improve=0\n",
    "for epoch in range(epochs):\n",
    "    # Your dataset or data loading logic goes here\n",
    "    since = time.time()\n",
    "    # Training\n",
    "    model.train()\n",
    "    train_loss = 0\n",
    "    train_dice = 0\n",
    "    num_batches = 0\n",
    "    \n",
    "    for i,data in enumerate(tqdm(train_loader)):  # Replace train_loader with your data loader\n",
    "        inputs, labels = data\n",
    "        # Forward pass\n",
    "        inputs = inputs.to(device)\n",
    "        labels = labels.to(device)\n",
    "        outputs = model(inputs)\n",
    "        # Calculate loss\n",
    "        loss = dice_loss(outputs, labels)\n",
    "        \n",
    "        # Backpropagation and optimization\n",
    "        optimizer.zero_grad()\n",
    "        loss.backward()\n",
    "        optimizer.step()\n",
    "        \n",
    "        train_loss += loss.item()\n",
    "        train_dice += dice_coeff(outputs, labels).item()\n",
    "        num_batches += 1\n",
    "    \n",
    "    train_loss /= num_batches\n",
    "    train_dice /= num_batches\n",
    "    \n",
    "    # Validation\n",
    "    model.eval()\n",
    "    val_dice = 0.0\n",
    "    test_loss = 0.0\n",
    "    with torch.no_grad():\n",
    "        for val_inputs, val_targets in val_loader:\n",
    "            val_inputs = val_inputs.to(device)\n",
    "            val_targets = val_targets.to(device)\n",
    "            val_outputs = model(val_inputs)\n",
    "            val_dice += dice_coeff(val_outputs,val_targets).item()\n",
    "            test_loss += dice_loss(val_outputs,val_targets).item()\n",
    "            \n",
    "    val_dice /= len(val_loader)\n",
    "    test_loss /= len(val_loader)\n",
    "    # Perform validation and calculate validation loss and dice coefficient\n",
    "    train_losses.append(train_loss)\n",
    "    test_losses.append(test_loss)\n",
    "    train_dices.append(train_dice)\n",
    "    val_dices.append(val_dice)\n",
    "    if max_dice < val_dice:\n",
    "        print('Dice increasing.. {:.3f} >> {:.3f} '.format(max_dice, val_dice))\n",
    "        max_dice = val_dice\n",
    "        decrease += 1\n",
    "        not_improve = 0\n",
    "        #if decrease % 5 == 0:\n",
    "        print('saving model...')\n",
    "        torch.save(model.state_dict(), filename_sd)\n",
    "    if max_dice > val_dice:\n",
    "        not_improve += 1\n",
    "#         min_loss = test_loss\n",
    "#         print(f'Loss Not Decrease for {not_improve} time')\n",
    "        if not_improve == 30:\n",
    "            print('Loss hasnt decreased for 30 epochs, Stopping Training')\n",
    "            break\n",
    "    \n",
    "    # Print the metrics+\n",
    "    print(f\"Epoch {epoch+1}/{epochs}, Train Loss: {train_loss:.4f}, Train Dice: {train_dice:.4f}, Val Dice: {val_dice:.4f}, time: {((time.time() - since)/60):.2f}\")\n",
    "\n",
    "    "
   ]
  },
  {
   "cell_type": "code",
   "execution_count": 22,
   "id": "16516c48",
   "metadata": {},
   "outputs": [],
   "source": [
    "history = {'train_loss' : train_losses, 'val_loss': test_losses,\n",
    "           'train_dice' :train_dices, 'val_dice':val_dices}"
   ]
  },
  {
   "cell_type": "code",
   "execution_count": 23,
   "id": "fa37e809",
   "metadata": {},
   "outputs": [
    {
     "name": "stdout",
     "output_type": "stream",
     "text": [
      "max training dice:  0.987419144064188\n",
      "max validation dice:  0.5230355238102978\n"
     ]
    }
   ],
   "source": [
    "print('max training dice: ',max(train_dices))\n",
    "print('max validation dice: ',max(val_dices))"
   ]
  },
  {
   "cell_type": "code",
   "execution_count": 24,
   "id": "e1659232",
   "metadata": {},
   "outputs": [
    {
     "data": {
      "image/png": "[encoded data removed]",
      "text/plain": [
       "<Figure size 640x480 with 1 Axes>"
      ]
     },
     "metadata": {},
     "output_type": "display_data"
    }
   ],
   "source": [
    "#plot the training and validation IoU and loss at each epoch\n",
    "loss = history['train_loss']\n",
    "val_loss = history['val_loss']\n",
    "epochs = range(1, len(loss) + 1)\n",
    "plt.plot(epochs, loss, 'y', label='Training loss')\n",
    "plt.plot(epochs, val_loss, 'r', label='Validation loss')\n",
    "plt.title('Training and validation loss')\n",
    "plt.xlabel('Epochs')\n",
    "plt.ylabel('Loss')\n",
    "plt.legend()\n",
    "plt.show()"
   ]
  },
  {
   "cell_type": "code",
   "execution_count": 25,
   "id": "c9cd8d9a",
   "metadata": {},
   "outputs": [
    {
     "data": {
      "image/png": "[encoded data removed]",
      "text/plain": [
       "<Figure size 640x480 with 1 Axes>"
      ]
     },
     "metadata": {},
     "output_type": "display_data"
    }
   ],
   "source": [
    "#plot the training and validation IoU and loss at each epoch\n",
    "loss = history['train_dice']\n",
    "val_loss = history['val_dice']\n",
    "epochs = range(1, len(loss) + 1)\n",
    "plt.plot(epochs, loss, 'y', label='Training dice')\n",
    "plt.plot(epochs, val_loss, 'r', label='Validation dice')\n",
    "plt.title('Training and validation dice')\n",
    "plt.xlabel('Epochs')\n",
    "plt.ylabel('Dice')\n",
    "plt.legend()\n",
    "plt.show()"
   ]
  },
  {
   "cell_type": "code",
   "execution_count": 20,
   "id": "0e2ccdbc",
   "metadata": {},
   "outputs": [
    {
     "data": {
      "text/plain": [
       "<All keys matched successfully>"
      ]
     },
     "execution_count": 20,
     "metadata": {},
     "output_type": "execute_result"
    }
   ],
   "source": [
    "model.load_state_dict(torch.load(filename_sd, map_location=device))"
   ]
  },
  {
   "cell_type": "code",
   "execution_count": 22,
   "id": "ac531d13",
   "metadata": {},
   "outputs": [
    {
     "data": {
      "application/vnd.jupyter.widget-view+json": {
       "model_id": "f2471f37e80146ce96cf04e05e86aba7",
       "version_major": 2,
       "version_minor": 0
      },
      "text/plain": [
       "  0%|          | 0/127 [00:00<?, ?it/s]"
      ]
     },
     "metadata": {},
     "output_type": "display_data"
    },
    {
     "name": "stdout",
     "output_type": "stream",
     "text": [
      "Test dice at 0.9:  0.5632639612072304\n",
      "Test dice at 0.8:  0.5706667404493909\n",
      "Test dice at 0.7:  0.5751940807596954\n",
      "Test dice at 0.6:  0.5781507774541593\n",
      "Test dice at 0.5:  0.5801190589500468\n",
      "Test dice at 0.4:  0.582204276188106\n",
      "Test dice at 0.3:  0.5840090399484669\n",
      "Test dice at 0.2:  0.5857447876263417\n",
      "Test dice at 0.1:  0.5888180983234548\n",
      "Test dice at 0.05:  0.5911993775321672\n",
      "Test dice at 0.01:  0.5941555254356949\n",
      "Test dice at 0.005:  0.5940317108013872\n",
      "Test dice at 0.001:  0.5870591383064157\n",
      "Test dice at 0.0005:  0.5781383687008345\n",
      "Test dice at 0.0001:  0.4615809339736625\n"
     ]
    }
   ],
   "source": [
    "num_batches = 1\n",
    "# Validation\n",
    "model.eval()\n",
    "test_dice9 = []\n",
    "test_dice8 = []\n",
    "test_dice7 = []\n",
    "test_dice6 = []\n",
    "test_dice5 = []\n",
    "test_dice4 = []\n",
    "test_dice3 = []\n",
    "test_dice2 = []\n",
    "test_dice1 = []\n",
    "test_dice05 = []\n",
    "test_dice01 = []\n",
    "test_dice005 = []\n",
    "test_dice001 = []\n",
    "test_dice0005 = []\n",
    "test_dice0001 = []\n",
    "with torch.no_grad():\n",
    "    for val_inputs, val_targets in tqdm(test_loader):\n",
    "        val_inputs = val_inputs.to(device)\n",
    "        val_targets = val_targets.to(device)\n",
    "        val_outputs = model(val_inputs)\n",
    "        test_outputs = torch.where(val_outputs>0.9,torch.tensor(1),torch.tensor(0))\n",
    "        test_dice9.append(dice_coeff(test_outputs,val_targets).item())\n",
    "        test_outputs = torch.where(val_outputs>0.8,torch.tensor(1),torch.tensor(0))\n",
    "        test_dice8.append(dice_coeff(test_outputs,val_targets).item())\n",
    "        test_outputs = torch.where(val_outputs>0.7,torch.tensor(1),torch.tensor(0))\n",
    "        test_dice7.append(dice_coeff(test_outputs,val_targets).item())\n",
    "        test_outputs = torch.where(val_outputs>0.6,torch.tensor(1),torch.tensor(0))\n",
    "        test_dice6.append(dice_coeff(test_outputs,val_targets).item())\n",
    "        test_outputs = torch.where(val_outputs>0.5,torch.tensor(1),torch.tensor(0))\n",
    "        test_dice5.append(dice_coeff(test_outputs,val_targets).item())\n",
    "        test_outputs = torch.where(val_outputs>0.4,torch.tensor(1),torch.tensor(0))\n",
    "        test_dice4.append(dice_coeff(test_outputs,val_targets).item())\n",
    "        test_outputs = torch.where(val_outputs>0.3,torch.tensor(1),torch.tensor(0))\n",
    "        test_dice3.append(dice_coeff(test_outputs,val_targets).item())\n",
    "        test_outputs = torch.where(val_outputs>0.2,torch.tensor(1),torch.tensor(0))\n",
    "        test_dice2.append(dice_coeff(test_outputs,val_targets).item())\n",
    "        test_outputs = torch.where(val_outputs>0.1,torch.tensor(1),torch.tensor(0))\n",
    "        test_dice1.append(dice_coeff(test_outputs,val_targets).item())\n",
    "        test_outputs = torch.where(val_outputs>0.05,torch.tensor(1),torch.tensor(0))\n",
    "        test_dice05.append(dice_coeff(test_outputs,val_targets).item())\n",
    "        test_outputs = torch.where(val_outputs>0.01,torch.tensor(1),torch.tensor(0))\n",
    "        test_dice01.append(dice_coeff(test_outputs,val_targets).item())\n",
    "        test_outputs = torch.where(val_outputs>0.005,torch.tensor(1),torch.tensor(0))\n",
    "        test_dice005.append(dice_coeff(test_outputs,val_targets).item())\n",
    "        test_outputs = torch.where(val_outputs>0.001,torch.tensor(1),torch.tensor(0))\n",
    "        test_dice001.append(dice_coeff(test_outputs,val_targets).item())\n",
    "        test_outputs = torch.where(val_outputs>0.0005,torch.tensor(1),torch.tensor(0))\n",
    "        test_dice0005.append(dice_coeff(test_outputs,val_targets).item())\n",
    "        test_outputs = torch.where(val_outputs>0.0001,torch.tensor(1),torch.tensor(0))\n",
    "        test_dice0001.append(dice_coeff(test_outputs,val_targets).item())\n",
    "        \n",
    "\n",
    "print('Test dice at 0.9: ',np.mean(test_dice9))\n",
    "print('Test dice at 0.8: ',np.mean(test_dice8))\n",
    "print('Test dice at 0.7: ',np.mean(test_dice7))\n",
    "print('Test dice at 0.6: ',np.mean(test_dice6))\n",
    "print('Test dice at 0.5: ',np.mean(test_dice5))\n",
    "print('Test dice at 0.4: ',np.mean(test_dice4))\n",
    "print('Test dice at 0.3: ',np.mean(test_dice3))\n",
    "print('Test dice at 0.2: ',np.mean(test_dice2))\n",
    "print('Test dice at 0.1: ',np.mean(test_dice1))\n",
    "print('Test dice at 0.05: ',np.mean(test_dice05))\n",
    "print('Test dice at 0.01: ',np.mean(test_dice01))\n",
    "print('Test dice at 0.005: ',np.mean(test_dice005))\n",
    "print('Test dice at 0.001: ',np.mean(test_dice001))\n",
    "print('Test dice at 0.0005: ',np.mean(test_dice0005))\n",
    "print('Test dice at 0.0001: ',np.mean(test_dice0001))"
   ]
  },
  {
   "cell_type": "markdown",
   "id": "50a1337d",
   "metadata": {},
   "source": [
    "# filename_sd = '/home/rabeea/logs/TransAttUnetSkip/Simple_layers5_f64.pth'"
   ]
  },
  {
   "cell_type": "code",
   "execution_count": 25,
   "id": "d2a8e4ee",
   "metadata": {},
   "outputs": [
    {
     "name": "stdout",
     "output_type": "stream",
     "text": [
      "max training dice:  0.9662478703260422\n",
      "max validation dice:  0.5737557266023942\n"
     ]
    }
   ],
   "source": [
    "print('max training dice: ',max(train_dices))\n",
    "print('max validation dice: ',max(val_dices))"
   ]
  },
  {
   "cell_type": "code",
   "execution_count": 26,
   "id": "71efe46c",
   "metadata": {},
   "outputs": [
    {
     "data": {
      "image/png": "[encoded data removed]",
      "text/plain": [
       "<Figure size 640x480 with 1 Axes>"
      ]
     },
     "metadata": {},
     "output_type": "display_data"
    }
   ],
   "source": [
    "#plot the training and validation IoU and loss at each epoch\n",
    "loss = history['train_loss']\n",
    "val_loss = history['val_loss']\n",
    "epochs = range(1, len(loss) + 1)\n",
    "plt.plot(epochs, loss, 'y', label='Training loss')\n",
    "plt.plot(epochs, val_loss, 'r', label='Validation loss')\n",
    "plt.title('Training and validation loss')\n",
    "plt.xlabel('Epochs')\n",
    "plt.ylabel('Loss')\n",
    "plt.legend()\n",
    "plt.show()"
   ]
  },
  {
   "cell_type": "code",
   "execution_count": 27,
   "id": "806c2833",
   "metadata": {},
   "outputs": [
    {
     "data": {
      "image/png": "[encoded data removed]",
      "text/plain": [
       "<Figure size 640x480 with 1 Axes>"
      ]
     },
     "metadata": {},
     "output_type": "display_data"
    }
   ],
   "source": [
    "#plot the training and validation IoU and loss at each epoch\n",
    "loss = history['train_dice']\n",
    "val_loss = history['val_dice']\n",
    "epochs = range(1, len(loss) + 1)\n",
    "plt.plot(epochs, loss, 'y', label='Training dice')\n",
    "plt.plot(epochs, val_loss, 'r', label='Validation dice')\n",
    "plt.title('Training and validation dice')\n",
    "plt.xlabel('Epochs')\n",
    "plt.ylabel('Dice')\n",
    "plt.legend()\n",
    "plt.show()"
   ]
  },
  {
   "cell_type": "code",
   "execution_count": 28,
   "id": "eb143ed1",
   "metadata": {},
   "outputs": [
    {
     "data": {
      "text/plain": [
       "<All keys matched successfully>"
      ]
     },
     "execution_count": 28,
     "metadata": {},
     "output_type": "execute_result"
    }
   ],
   "source": [
    "model.load_state_dict(torch.load(filename_sd))#, map_location=device))"
   ]
  },
  {
   "cell_type": "code",
   "execution_count": 29,
   "id": "42912204",
   "metadata": {},
   "outputs": [
    {
     "data": {
      "application/vnd.jupyter.widget-view+json": {
       "model_id": "826cc9cf1a3c439a97fcfa24208c6802",
       "version_major": 2,
       "version_minor": 0
      },
      "text/plain": [
       "  0%|          | 0/127 [00:00<?, ?it/s]"
      ]
     },
     "metadata": {},
     "output_type": "display_data"
    },
    {
     "name": "stdout",
     "output_type": "stream",
     "text": [
      "Test dice at 0.9:  0.620697150047796\n",
      "Test dice at 0.8:  0.616999520902686\n",
      "Test dice at 0.7:  0.6135111416557824\n",
      "Test dice at 0.6:  0.6106610954412595\n",
      "Test dice at 0.5:  0.607635056483101\n",
      "Test dice at 0.4:  0.6039204367348355\n",
      "Test dice at 0.3:  0.5997717953212587\n",
      "Test dice at 0.2:  0.5940788685747832\n",
      "Test dice at 0.1:  0.5837301572842187\n",
      "Test dice at 0.05:  0.5728028779078274\n",
      "Test dice at 0.01:  0.5349939240045996\n"
     ]
    }
   ],
   "source": [
    "num_batches = 1\n",
    "# Validation\n",
    "model.eval()\n",
    "test_dice9 = []\n",
    "test_dice8 = []\n",
    "test_dice7 = []\n",
    "test_dice6 = []\n",
    "test_dice5 = []\n",
    "test_dice4 = []\n",
    "test_dice3 = []\n",
    "test_dice2 = []\n",
    "test_dice1 = []\n",
    "test_dice05 = []\n",
    "test_dice01 = []\n",
    "with torch.no_grad():\n",
    "    for val_inputs, val_targets in tqdm(test_loader):\n",
    "        val_inputs = val_inputs.to(device)\n",
    "        val_targets = val_targets.to(device)\n",
    "        val_outputs = model(val_inputs)\n",
    "        test_outputs = torch.where(val_outputs>0.9,torch.tensor(1),torch.tensor(0))\n",
    "        test_dice9.append(dice_coeff(test_outputs,val_targets).item())\n",
    "        test_outputs = torch.where(val_outputs>0.8,torch.tensor(1),torch.tensor(0))\n",
    "        test_dice8.append(dice_coeff(test_outputs,val_targets).item())\n",
    "        test_outputs = torch.where(val_outputs>0.7,torch.tensor(1),torch.tensor(0))\n",
    "        test_dice7.append(dice_coeff(test_outputs,val_targets).item())\n",
    "        test_outputs = torch.where(val_outputs>0.6,torch.tensor(1),torch.tensor(0))\n",
    "        test_dice6.append(dice_coeff(test_outputs,val_targets).item())\n",
    "        test_outputs = torch.where(val_outputs>0.5,torch.tensor(1),torch.tensor(0))\n",
    "        test_dice5.append(dice_coeff(test_outputs,val_targets).item())\n",
    "        test_outputs = torch.where(val_outputs>0.4,torch.tensor(1),torch.tensor(0))\n",
    "        test_dice4.append(dice_coeff(test_outputs,val_targets).item())\n",
    "        test_outputs = torch.where(val_outputs>0.3,torch.tensor(1),torch.tensor(0))\n",
    "        test_dice3.append(dice_coeff(test_outputs,val_targets).item())\n",
    "        test_outputs = torch.where(val_outputs>0.2,torch.tensor(1),torch.tensor(0))\n",
    "        test_dice2.append(dice_coeff(test_outputs,val_targets).item())\n",
    "        test_outputs = torch.where(val_outputs>0.1,torch.tensor(1),torch.tensor(0))\n",
    "        test_dice1.append(dice_coeff(test_outputs,val_targets).item())\n",
    "        test_outputs = torch.where(val_outputs>0.05,torch.tensor(1),torch.tensor(0))\n",
    "        test_dice05.append(dice_coeff(test_outputs,val_targets).item())\n",
    "        test_outputs = torch.where(val_outputs>0.01,torch.tensor(1),torch.tensor(0))\n",
    "        test_dice01.append(dice_coeff(test_outputs,val_targets).item())\n",
    "        \n",
    "\n",
    "print('Test dice at 0.9: ',np.mean(test_dice9))\n",
    "print('Test dice at 0.8: ',np.mean(test_dice8))\n",
    "print('Test dice at 0.7: ',np.mean(test_dice7))\n",
    "print('Test dice at 0.6: ',np.mean(test_dice6))\n",
    "print('Test dice at 0.5: ',np.mean(test_dice5))\n",
    "print('Test dice at 0.4: ',np.mean(test_dice4))\n",
    "print('Test dice at 0.3: ',np.mean(test_dice3))\n",
    "print('Test dice at 0.2: ',np.mean(test_dice2))\n",
    "print('Test dice at 0.1: ',np.mean(test_dice1))\n",
    "print('Test dice at 0.05: ',np.mean(test_dice05))\n",
    "print('Test dice at 0.01: ',np.mean(test_dice01))"
   ]
  },
  {
   "cell_type": "code",
   "execution_count": null,
   "id": "00807029",
   "metadata": {},
   "outputs": [],
   "source": []
  },
  {
   "cell_type": "markdown",
   "id": "36578e25",
   "metadata": {},
   "source": [
    "# TransAttUnetSkip/TransAttUNet_new.pth"
   ]
  },
  {
   "cell_type": "code",
   "execution_count": 22,
   "id": "9d35f9da",
   "metadata": {},
   "outputs": [
    {
     "name": "stdout",
     "output_type": "stream",
     "text": [
      "max training dice:  0.9803039494156838\n",
      "max validation dice:  0.5844470958909369\n"
     ]
    }
   ],
   "source": [
    "print('max training dice: ',max(train_dices))\n",
    "print('max validation dice: ',max(val_dices))"
   ]
  },
  {
   "cell_type": "code",
   "execution_count": 23,
   "id": "34876868",
   "metadata": {},
   "outputs": [
    {
     "data": {
      "image/png": "[encoded data removed]",
      "text/plain": [
       "<Figure size 640x480 with 1 Axes>"
      ]
     },
     "metadata": {},
     "output_type": "display_data"
    }
   ],
   "source": [
    "#plot the training and validation IoU and loss at each epoch\n",
    "loss = history['train_loss']\n",
    "val_loss = history['val_loss']\n",
    "epochs = range(1, len(loss) + 1)\n",
    "plt.plot(epochs, loss, 'y', label='Training loss')\n",
    "plt.plot(epochs, val_loss, 'r', label='Validation loss')\n",
    "plt.title('Training and validation loss')\n",
    "plt.xlabel('Epochs')\n",
    "plt.ylabel('Loss')\n",
    "plt.legend()\n",
    "plt.show()"
   ]
  },
  {
   "cell_type": "code",
   "execution_count": 24,
   "id": "6899a923",
   "metadata": {},
   "outputs": [
    {
     "data": {
      "image/png": "[encoded data removed]",
      "text/plain": [
       "<Figure size 640x480 with 1 Axes>"
      ]
     },
     "metadata": {},
     "output_type": "display_data"
    }
   ],
   "source": [
    "#plot the training and validation IoU and loss at each epoch\n",
    "loss = history['train_dice']\n",
    "val_loss = history['val_dice']\n",
    "epochs = range(1, len(loss) + 1)\n",
    "plt.plot(epochs, loss, 'y', label='Training dice')\n",
    "plt.plot(epochs, val_loss, 'r', label='Validation dice')\n",
    "plt.title('Training and validation dice')\n",
    "plt.xlabel('Epochs')\n",
    "plt.ylabel('Dice')\n",
    "plt.legend()\n",
    "plt.show()"
   ]
  },
  {
   "cell_type": "code",
   "execution_count": 19,
   "id": "14be9383",
   "metadata": {},
   "outputs": [
    {
     "data": {
      "text/plain": [
       "<All keys matched successfully>"
      ]
     },
     "execution_count": 19,
     "metadata": {},
     "output_type": "execute_result"
    }
   ],
   "source": [
    "model.load_state_dict(torch.load('/home/rabeea/logs/TransAttUnetSkip/TransAttUNet_new.pth', map_location=device))"
   ]
  },
  {
   "cell_type": "code",
   "execution_count": null,
   "id": "dd9ed79b",
   "metadata": {},
   "outputs": [],
   "source": []
  },
  {
   "cell_type": "code",
   "execution_count": 20,
   "id": "1d569547",
   "metadata": {},
   "outputs": [
    {
     "name": "stdout",
     "output_type": "stream",
     "text": [
      "True\n"
     ]
    },
    {
     "data": {
      "application/vnd.jupyter.widget-view+json": {
       "model_id": "e74261b76942466eae541523ec002667",
       "version_major": 2,
       "version_minor": 0
      },
      "text/plain": [
       "  0%|          | 0/127 [00:00<?, ?it/s]"
      ]
     },
     "metadata": {},
     "output_type": "display_data"
    },
    {
     "name": "stdout",
     "output_type": "stream",
     "text": [
      "0\n",
      "0\n",
      "0\n",
      "0\n",
      "0\n",
      "0\n",
      "0\n",
      "0\n",
      "0\n",
      "0\n",
      "0\n",
      "0\n",
      "0\n",
      "0\n",
      "0\n",
      "0\n",
      "0\n",
      "0\n",
      "0\n",
      "0\n",
      "0\n",
      "0\n",
      "0\n",
      "0\n",
      "0\n",
      "0\n",
      "0\n",
      "0\n",
      "0\n",
      "0\n",
      "0\n",
      "0\n",
      "0\n",
      "0\n",
      "0\n",
      "0\n",
      "0\n",
      "0\n",
      "0\n",
      "0\n",
      "0\n",
      "0\n",
      "0\n",
      "0\n",
      "0\n",
      "0\n",
      "0\n",
      "0\n",
      "0\n",
      "0\n",
      "0\n",
      "0\n",
      "0\n",
      "0\n",
      "0\n",
      "0\n",
      "0\n",
      "0\n",
      "0\n",
      "0\n",
      "0\n",
      "0\n",
      "0\n",
      "0\n",
      "0\n",
      "0\n",
      "0\n",
      "0\n",
      "0\n",
      "0\n",
      "0\n",
      "0\n",
      "0\n",
      "0\n",
      "0\n",
      "0\n",
      "0\n",
      "0\n",
      "0\n",
      "0\n",
      "0\n",
      "0\n",
      "0\n",
      "0\n",
      "0\n",
      "0\n",
      "0\n",
      "0\n",
      "0\n",
      "0\n",
      "0\n",
      "0\n",
      "0\n",
      "0\n",
      "0\n",
      "0\n",
      "0\n",
      "0\n",
      "0\n",
      "0\n",
      "0\n",
      "0\n",
      "0\n",
      "0\n",
      "0\n",
      "0\n",
      "0\n",
      "0\n",
      "0\n",
      "0\n",
      "0\n",
      "0\n",
      "0\n",
      "0\n",
      "0\n",
      "0\n",
      "0\n",
      "0\n",
      "0\n",
      "0\n",
      "0\n",
      "0\n",
      "0\n",
      "0\n",
      "0\n",
      "0\n",
      "0\n",
      "0\n",
      "0\n",
      "0\n",
      "0\n",
      "0\n",
      "0\n",
      "0\n",
      "0\n",
      "0\n",
      "0\n",
      "0\n",
      "0\n",
      "0\n",
      "0\n",
      "0\n",
      "0\n",
      "0\n",
      "0\n",
      "0\n",
      "0\n",
      "0\n",
      "0\n",
      "0\n",
      "0\n",
      "0\n",
      "0\n",
      "0\n",
      "0\n",
      "0\n",
      "0\n",
      "0\n",
      "0\n",
      "0\n",
      "0\n",
      "0\n",
      "0\n",
      "0\n",
      "0\n",
      "0\n",
      "0\n",
      "0\n",
      "0\n",
      "0\n",
      "0\n",
      "0\n",
      "0\n",
      "0\n",
      "0\n",
      "0\n",
      "0\n",
      "0\n",
      "0\n",
      "0\n",
      "0\n",
      "0\n",
      "0\n",
      "0\n",
      "0\n",
      "0\n",
      "0\n",
      "0\n",
      "0\n",
      "0\n",
      "0\n",
      "0\n",
      "0\n",
      "0\n",
      "0\n",
      "0\n",
      "0\n",
      "0\n",
      "0\n",
      "0\n",
      "0\n",
      "0\n",
      "0\n",
      "0\n",
      "0\n",
      "0\n",
      "0\n",
      "0\n",
      "0\n",
      "0\n",
      "0\n",
      "0\n",
      "0\n",
      "0\n",
      "0\n",
      "0\n",
      "0\n",
      "0\n",
      "0\n",
      "0\n",
      "0\n",
      "0\n",
      "0\n",
      "0\n",
      "0\n",
      "0\n",
      "0\n",
      "0\n",
      "0\n",
      "0\n",
      "0\n",
      "0\n",
      "0\n",
      "0\n",
      "0\n",
      "0\n",
      "0\n",
      "0\n",
      "0\n",
      "0\n",
      "0\n",
      "0\n",
      "0\n",
      "0\n",
      "0\n",
      "0\n",
      "0\n",
      "0\n",
      "0\n",
      "0\n",
      "0\n",
      "0\n",
      "0\n",
      "0\n",
      "0\n",
      "0\n",
      "0\n",
      "0\n",
      "0\n",
      "0\n",
      "0\n",
      "0\n",
      "0\n",
      "0\n",
      "0\n",
      "0\n",
      "0\n",
      "0\n",
      "0\n",
      "0\n",
      "0\n",
      "0\n",
      "0\n",
      "0\n",
      "0\n",
      "0\n",
      "0\n",
      "0\n",
      "0\n",
      "0\n",
      "0\n",
      "0\n",
      "0\n",
      "0\n",
      "0\n",
      "0\n",
      "0\n",
      "0\n",
      "0\n",
      "0\n",
      "0\n",
      "0\n",
      "0\n",
      "0\n",
      "0\n",
      "0\n",
      "0\n",
      "0\n",
      "0\n",
      "0\n",
      "0\n",
      "0\n",
      "0\n",
      "0\n",
      "0\n",
      "0\n",
      "0\n",
      "0\n",
      "0\n",
      "0\n",
      "0\n",
      "0\n",
      "0\n",
      "0\n",
      "0\n",
      "0\n",
      "0\n",
      "0\n",
      "0\n",
      "0\n",
      "0\n",
      "0\n",
      "0\n",
      "0\n",
      "0\n",
      "0\n",
      "0\n",
      "0\n",
      "0\n",
      "0\n",
      "0\n",
      "0\n",
      "0\n",
      "0\n",
      "0\n",
      "0\n",
      "0\n",
      "0\n",
      "0\n",
      "0\n",
      "0\n",
      "0\n",
      "0\n",
      "0\n",
      "0\n",
      "0\n",
      "0\n",
      "0\n",
      "0\n",
      "0\n",
      "0\n",
      "0\n",
      "0\n",
      "0\n",
      "0\n",
      "0\n",
      "0\n",
      "0\n",
      "0\n",
      "0\n",
      "0\n",
      "0\n",
      "0\n",
      "0\n",
      "0\n",
      "0\n",
      "0\n",
      "0\n",
      "0\n",
      "0\n",
      "0\n",
      "0\n",
      "0\n",
      "0\n",
      "0\n",
      "0\n",
      "0\n",
      "0\n",
      "0\n",
      "0\n",
      "0\n",
      "0\n",
      "0\n",
      "0\n",
      "0\n",
      "0\n",
      "0\n",
      "0\n",
      "0\n",
      "0\n",
      "0\n",
      "0\n",
      "0\n",
      "0\n",
      "0\n",
      "0\n",
      "0\n",
      "0\n",
      "0\n",
      "0\n",
      "0\n",
      "0\n",
      "0\n",
      "0\n",
      "0\n",
      "0\n",
      "0\n",
      "0\n",
      "0\n",
      "0\n",
      "0\n",
      "0\n",
      "0\n",
      "0\n",
      "0\n",
      "0\n",
      "0\n",
      "0\n",
      "0\n",
      "0\n",
      "0\n",
      "0\n",
      "0\n",
      "0\n",
      "0\n",
      "0\n",
      "0\n",
      "0\n",
      "0\n",
      "0\n",
      "0\n",
      "0\n",
      "0\n",
      "0\n",
      "0\n",
      "0\n",
      "0\n",
      "0\n",
      "0\n",
      "0\n",
      "0\n",
      "0\n",
      "0\n",
      "0\n",
      "0\n",
      "0\n",
      "0\n",
      "0\n",
      "0\n",
      "0\n",
      "0\n",
      "0\n",
      "0\n",
      "0\n",
      "0\n",
      "0\n",
      "0\n",
      "0\n",
      "0\n",
      "0\n",
      "0\n",
      "0\n",
      "0\n",
      "0\n",
      "0\n",
      "0\n",
      "0\n",
      "0\n",
      "0\n",
      "0\n",
      "0\n",
      "0\n",
      "0\n",
      "0\n",
      "0\n",
      "0\n",
      "0\n",
      "0\n",
      "0\n",
      "0\n",
      "0\n",
      "0\n",
      "0\n",
      "0\n",
      "0\n",
      "0\n",
      "0\n",
      "0\n",
      "0\n",
      "0\n",
      "0\n",
      "0\n",
      "0\n",
      "0\n",
      "0\n",
      "0\n",
      "0\n",
      "0\n",
      "0\n",
      "0\n",
      "0\n",
      "0\n",
      "0\n",
      "0\n",
      "0\n",
      "0\n",
      "0\n",
      "0\n",
      "Test dice at 0.9:  0.6213553739501041\n",
      "Test dice at 0.8:  0.6252073127065747\n",
      "Test dice at 0.7:  0.6265380510147825\n",
      "Test dice at 0.6:  0.6271401447186469\n",
      "Test dice at 0.5:  0.6275341729445596\n",
      "Test dice at 0.4:  0.6276951771429795\n",
      "Test dice at 0.3:  0.6275035841074245\n",
      "Test dice at 0.2:  0.6272992609583453\n",
      "Test dice at 0.1:  0.6267070439793114\n",
      "Test dice at 0.05:  0.6249975803920973\n",
      "Test dice at 0.01:  0.6184683857223489\n"
     ]
    }
   ],
   "source": [
    "num_batches = 1\n",
    "# Validation\n",
    "model.eval()\n",
    "print(next(model.parameters()).is_cuda)\n",
    "test_dice9 = []\n",
    "test_dice8 = []\n",
    "test_dice7 = []\n",
    "test_dice6 = []\n",
    "test_dice5 = []\n",
    "test_dice4 = []\n",
    "test_dice3 = []\n",
    "test_dice2 = []\n",
    "test_dice1 = []\n",
    "test_dice05 = []\n",
    "test_dice01 = []\n",
    "with torch.no_grad():\n",
    "    for val_inputs, val_targets in tqdm(test_loader):\n",
    "        val_inputs = val_inputs.to(device)\n",
    "        val_targets = val_targets.to(device)\n",
    "        print(val_inputs.get_device())\n",
    "        print(val_targets.get_device())\n",
    "        val_outputs = model(val_inputs)\n",
    "        print(val_outputs.get_device())\n",
    "        #print(np.unique(val_outputs))\n",
    "        test_outputs = torch.where(val_outputs>0.9,torch.tensor(1),torch.tensor(0))\n",
    "        print(test_outputs.get_device())\n",
    "        test_dice9.append(dice_coeff(test_outputs,val_targets).item())\n",
    "        test_outputs = torch.where(val_outputs>0.8,torch.tensor(1),torch.tensor(0))\n",
    "        test_dice8.append(dice_coeff(test_outputs,val_targets).item())\n",
    "        test_outputs = torch.where(val_outputs>0.7,torch.tensor(1),torch.tensor(0))\n",
    "        test_dice7.append(dice_coeff(test_outputs,val_targets).item())\n",
    "        test_outputs = torch.where(val_outputs>0.6,torch.tensor(1),torch.tensor(0))\n",
    "        test_dice6.append(dice_coeff(test_outputs,val_targets).item())\n",
    "        test_outputs = torch.where(val_outputs>0.5,torch.tensor(1),torch.tensor(0))\n",
    "        test_dice5.append(dice_coeff(test_outputs,val_targets).item())\n",
    "        test_outputs = torch.where(val_outputs>0.4,torch.tensor(1),torch.tensor(0))\n",
    "        test_dice4.append(dice_coeff(test_outputs,val_targets).item())\n",
    "        test_outputs = torch.where(val_outputs>0.3,torch.tensor(1),torch.tensor(0))\n",
    "        test_dice3.append(dice_coeff(test_outputs,val_targets).item())\n",
    "        test_outputs = torch.where(val_outputs>0.2,torch.tensor(1),torch.tensor(0))\n",
    "        test_dice2.append(dice_coeff(test_outputs,val_targets).item())\n",
    "        test_outputs = torch.where(val_outputs>0.1,torch.tensor(1),torch.tensor(0))\n",
    "        test_dice1.append(dice_coeff(test_outputs,val_targets).item())\n",
    "        test_outputs = torch.where(val_outputs>0.05,torch.tensor(1),torch.tensor(0))\n",
    "        test_dice05.append(dice_coeff(test_outputs,val_targets).item())\n",
    "        test_outputs = torch.where(val_outputs>0.01,torch.tensor(1),torch.tensor(0))\n",
    "        test_dice01.append(dice_coeff(test_outputs,val_targets).item())\n",
    "        \n",
    "\n",
    "print('Test dice at 0.9: ',np.mean(test_dice9))\n",
    "print('Test dice at 0.8: ',np.mean(test_dice8))\n",
    "print('Test dice at 0.7: ',np.mean(test_dice7))\n",
    "print('Test dice at 0.6: ',np.mean(test_dice6))\n",
    "print('Test dice at 0.5: ',np.mean(test_dice5))\n",
    "print('Test dice at 0.4: ',np.mean(test_dice4))\n",
    "print('Test dice at 0.3: ',np.mean(test_dice3))\n",
    "print('Test dice at 0.2: ',np.mean(test_dice2))\n",
    "print('Test dice at 0.1: ',np.mean(test_dice1))\n",
    "print('Test dice at 0.05: ',np.mean(test_dice05))\n",
    "print('Test dice at 0.01: ',np.mean(test_dice01))"
   ]
  },
  {
   "cell_type": "code",
   "execution_count": null,
   "id": "abf26f55",
   "metadata": {},
   "outputs": [],
   "source": []
  },
  {
   "cell_type": "code",
   "execution_count": null,
   "id": "09d4fa37",
   "metadata": {},
   "outputs": [],
   "source": []
  },
  {
   "cell_type": "code",
   "execution_count": 20,
   "id": "b6a07b14",
   "metadata": {},
   "outputs": [
    {
     "name": "stdout",
     "output_type": "stream",
     "text": [
      "max training dice:  0.9600309937000274\n",
      "max validation dice:  0.5896087081365597\n"
     ]
    }
   ],
   "source": [
    "print('max training dice: ',max(train_dices))\n",
    "print('max validation dice: ',max(val_dices))"
   ]
  },
  {
   "cell_type": "code",
   "execution_count": 21,
   "id": "84374e5c",
   "metadata": {},
   "outputs": [
    {
     "data": {
      "image/png": "[encoded data removed]",
      "text/plain": [
       "<Figure size 640x480 with 1 Axes>"
      ]
     },
     "metadata": {},
     "output_type": "display_data"
    }
   ],
   "source": [
    "#plot the training and validation IoU and loss at each epoch\n",
    "loss = history['train_loss']\n",
    "val_loss = history['val_loss']\n",
    "epochs = range(1, len(loss) + 1)\n",
    "plt.plot(epochs, loss, 'y', label='Training loss')\n",
    "plt.plot(epochs, val_loss, 'r', label='Validation loss')\n",
    "plt.title('Training and validation loss')\n",
    "plt.xlabel('Epochs')\n",
    "plt.ylabel('Loss')\n",
    "plt.legend()\n",
    "plt.show()"
   ]
  },
  {
   "cell_type": "code",
   "execution_count": 22,
   "id": "e17d10c8",
   "metadata": {},
   "outputs": [
    {
     "data": {
      "image/png": "[encoded data removed]",
      "text/plain": [
       "<Figure size 640x480 with 1 Axes>"
      ]
     },
     "metadata": {},
     "output_type": "display_data"
    }
   ],
   "source": [
    "#plot the training and validation IoU and loss at each epoch\n",
    "loss = history['train_dice']\n",
    "val_loss = history['val_dice']\n",
    "epochs = range(1, len(loss) + 1)\n",
    "plt.plot(epochs, loss, 'y', label='Training dice')\n",
    "plt.plot(epochs, val_loss, 'r', label='Validation dice')\n",
    "plt.title('Training and validation dice')\n",
    "plt.xlabel('Epochs')\n",
    "plt.ylabel('Dice')\n",
    "plt.legend()\n",
    "plt.show()"
   ]
  },
  {
   "cell_type": "code",
   "execution_count": 23,
   "id": "4a1d398e",
   "metadata": {},
   "outputs": [],
   "source": [
    "torch.save(model, '/home/rabeea/logs/TransAttUnetSkip/TransAttUNet_lastepoch.pt')\n",
    "torch.save(model.state_dict(), '/home/rabeea/logs/TransAttUnetSkip/TransAttUNet_lastepoch.pth')"
   ]
  },
  {
   "cell_type": "code",
   "execution_count": 24,
   "id": "3bc8c5f4",
   "metadata": {},
   "outputs": [
    {
     "data": {
      "text/plain": [
       "<All keys matched successfully>"
      ]
     },
     "execution_count": 24,
     "metadata": {},
     "output_type": "execute_result"
    }
   ],
   "source": [
    "model.load_state_dict(torch.load('/home/rabeea/logs/TransAttUnetSkip/TransAttUNetSkip.pth'))"
   ]
  },
  {
   "cell_type": "code",
   "execution_count": 25,
   "id": "3aba3b1b",
   "metadata": {},
   "outputs": [
    {
     "data": {
      "application/vnd.jupyter.widget-view+json": {
       "model_id": "f728588613c6435196488c6409280d91",
       "version_major": 2,
       "version_minor": 0
      },
      "text/plain": [
       "  0%|          | 0/27 [00:00<?, ?it/s]"
      ]
     },
     "metadata": {},
     "output_type": "display_data"
    },
    {
     "name": "stdout",
     "output_type": "stream",
     "text": [
      "Test dice at 0.9:  0.3593524845316467\n",
      "Test dice at 0.8:  0.3773019775401702\n",
      "Test dice at 0.7:  0.38667471175857054\n",
      "Test dice at 0.6:  0.39403151992936963\n",
      "Test dice at 0.5:  0.40118691414331636\n",
      "Test dice at 0.4:  0.408748619429793\n",
      "Test dice at 0.3:  0.4166764770009279\n",
      "Test dice at 0.2:  0.4275966542287885\n",
      "Test dice at 0.1:  0.44487521491720583\n",
      "Test dice at 0.05:  0.46412338990248153\n",
      "Test dice at 0.01:  0.5122798553687365\n"
     ]
    }
   ],
   "source": [
    "num_batches = 1\n",
    "# Validation\n",
    "model.eval()\n",
    "test_dice9 = []\n",
    "test_dice8 = []\n",
    "test_dice7 = []\n",
    "test_dice6 = []\n",
    "test_dice5 = []\n",
    "test_dice4 = []\n",
    "test_dice3 = []\n",
    "test_dice2 = []\n",
    "test_dice1 = []\n",
    "test_dice05 = []\n",
    "test_dice01 = []\n",
    "with torch.no_grad():\n",
    "    for val_inputs, val_targets in tqdm(test_loader):\n",
    "        val_inputs = val_inputs.to(device)\n",
    "        val_targets = val_targets.to(device)\n",
    "        val_outputs = model(val_inputs)\n",
    "        #print(np.unique(val_outputs))\n",
    "        test_outputs = torch.where(val_outputs>0.9,torch.tensor(1),torch.tensor(0))\n",
    "        test_dice9.append(dice_coeff(test_outputs,val_targets).item())\n",
    "        test_outputs = torch.where(val_outputs>0.8,torch.tensor(1),torch.tensor(0))\n",
    "        test_dice8.append(dice_coeff(test_outputs,val_targets).item())\n",
    "        test_outputs = torch.where(val_outputs>0.7,torch.tensor(1),torch.tensor(0))\n",
    "        test_dice7.append(dice_coeff(test_outputs,val_targets).item())\n",
    "        test_outputs = torch.where(val_outputs>0.6,torch.tensor(1),torch.tensor(0))\n",
    "        test_dice6.append(dice_coeff(test_outputs,val_targets).item())\n",
    "        test_outputs = torch.where(val_outputs>0.5,torch.tensor(1),torch.tensor(0))\n",
    "        test_dice5.append(dice_coeff(test_outputs,val_targets).item())\n",
    "        test_outputs = torch.where(val_outputs>0.4,torch.tensor(1),torch.tensor(0))\n",
    "        test_dice4.append(dice_coeff(test_outputs,val_targets).item())\n",
    "        test_outputs = torch.where(val_outputs>0.3,torch.tensor(1),torch.tensor(0))\n",
    "        test_dice3.append(dice_coeff(test_outputs,val_targets).item())\n",
    "        test_outputs = torch.where(val_outputs>0.2,torch.tensor(1),torch.tensor(0))\n",
    "        test_dice2.append(dice_coeff(test_outputs,val_targets).item())\n",
    "        test_outputs = torch.where(val_outputs>0.1,torch.tensor(1),torch.tensor(0))\n",
    "        test_dice1.append(dice_coeff(test_outputs,val_targets).item())\n",
    "        test_outputs = torch.where(val_outputs>0.05,torch.tensor(1),torch.tensor(0))\n",
    "        test_dice05.append(dice_coeff(test_outputs,val_targets).item())\n",
    "        test_outputs = torch.where(val_outputs>0.01,torch.tensor(1),torch.tensor(0))\n",
    "        test_dice01.append(dice_coeff(test_outputs,val_targets).item())\n",
    "        \n",
    "\n",
    "print('Test dice at 0.9: ',np.mean(test_dice9))\n",
    "print('Test dice at 0.8: ',np.mean(test_dice8))\n",
    "print('Test dice at 0.7: ',np.mean(test_dice7))\n",
    "print('Test dice at 0.6: ',np.mean(test_dice6))\n",
    "print('Test dice at 0.5: ',np.mean(test_dice5))\n",
    "print('Test dice at 0.4: ',np.mean(test_dice4))\n",
    "print('Test dice at 0.3: ',np.mean(test_dice3))\n",
    "print('Test dice at 0.2: ',np.mean(test_dice2))\n",
    "print('Test dice at 0.1: ',np.mean(test_dice1))\n",
    "print('Test dice at 0.05: ',np.mean(test_dice05))\n",
    "print('Test dice at 0.01: ',np.mean(test_dice01))"
   ]
  },
  {
   "cell_type": "code",
   "execution_count": 41,
   "id": "b8fbf936",
   "metadata": {},
   "outputs": [
    {
     "name": "stdout",
     "output_type": "stream",
     "text": [
      "tensor(-0.6144, device='cuda:0') tensor(1.6144, device='cuda:0')\n",
      "[[[[-204.68536 -187.60037 -183.85892 ... -181.43098 -185.72186\n",
      "    -202.07846]\n",
      "   [-186.82632 -181.89316 -176.30037 ... -176.32126 -180.62067\n",
      "    -185.0506 ]\n",
      "   [-182.74246 -174.45444 -173.81912 ... -173.19324 -172.6259\n",
      "    -179.19249]\n",
      "   ...\n",
      "   [-185.69293 -179.60449 -178.80048 ... -175.33269 -174.82068\n",
      "    -180.64778]\n",
      "   [-188.8993  -182.47983 -177.35175 ... -174.03851 -178.13919\n",
      "    -184.0625 ]\n",
      "   [-201.42511 -181.91902 -177.50568 ... -173.1037  -177.45773\n",
      "    -195.74463]]]\n",
      "\n",
      "\n",
      " [[[-200.95789 -185.63855 -180.97212 ... -180.69653 -185.9169\n",
      "    -199.32791]\n",
      "   [-185.07394 -182.7733  -175.58937 ... -174.43292 -181.51201\n",
      "    -183.02753]\n",
      "   [-179.11862 -173.55545 -170.7327  ... -166.69353 -169.54407\n",
      "    -175.40671]\n",
      "   ...\n",
      "   [-179.19908 -170.1925  -167.75494 ... -158.97388 -161.15182\n",
      "    -172.93604]\n",
      "   [-183.57135 -175.03687 -168.7973  ... -162.33032 -167.7228\n",
      "    -178.11588]\n",
      "   [-197.37714 -177.55461 -173.21176 ... -170.27066 -173.60385\n",
      "    -192.5162 ]]]] [[[0 0 0 ... 0 0 0]\n",
      "  [0 0 0 ... 0 0 0]\n",
      "  [0 0 0 ... 0 0 0]\n",
      "  ...\n",
      "  [0 0 0 ... 0 0 0]\n",
      "  [0 0 0 ... 0 0 0]\n",
      "  [0 0 0 ... 0 0 0]]\n",
      "\n",
      " [[0 0 0 ... 0 0 0]\n",
      "  [0 0 0 ... 0 0 0]\n",
      "  [0 0 0 ... 0 0 0]\n",
      "  ...\n",
      "  [0 0 0 ... 0 0 0]\n",
      "  [0 0 0 ... 0 0 0]\n",
      "  [0 0 0 ... 0 0 0]]]\n"
     ]
    }
   ],
   "source": [
    "model.eval()\n",
    "with torch.no_grad():\n",
    "    val_inputs, val_targets = next(iter(train_loader))\n",
    "    val_inputs = val_inputs.to(device)\n",
    "    val_targets = val_targets.to(device)\n",
    "    val_outputs = model(val_inputs)\n",
    "    loss = dice_loss(val_outputs, val_targets)\n",
    "    coeff = dice_coeff(val_outputs, val_targets)\n",
    "    index = val_outputs.cpu().data.numpy()#.argmax()\n",
    "    indexx = val_targets.cpu().data.numpy()\n",
    "print(loss,coeff)\n",
    "print(index,indexx)\n"
   ]
  },
  {
   "cell_type": "code",
   "execution_count": null,
   "id": "b7947684",
   "metadata": {},
   "outputs": [],
   "source": []
  },
  {
   "cell_type": "code",
   "execution_count": 24,
   "id": "e7525063",
   "metadata": {},
   "outputs": [
    {
     "data": {
      "image/png": "[encoded data removed]",
      "text/plain": [
       "<Figure size 640x480 with 1 Axes>"
      ]
     },
     "metadata": {},
     "output_type": "display_data"
    }
   ],
   "source": [
    "#plot the training and validation IoU and loss at each epoch\n",
    "loss = train_dices\n",
    "val_loss = val_dices\n",
    "epochs = range(1, len(loss) + 1)\n",
    "plt.plot(epochs, loss, 'y', label='Training dice')\n",
    "plt.plot(epochs, val_loss, 'r', label='Validation dice')\n",
    "plt.title('Training and validation dice')\n",
    "plt.xlabel('Epochs')\n",
    "plt.ylabel('Dice')\n",
    "plt.legend()\n",
    "plt.show()"
   ]
  },
  {
   "cell_type": "code",
   "execution_count": 28,
   "id": "4baa1bd7",
   "metadata": {},
   "outputs": [
    {
     "data": {
      "text/plain": [
       "0.2896213640769323"
      ]
     },
     "execution_count": 28,
     "metadata": {},
     "output_type": "execute_result"
    }
   ],
   "source": [
    "val_loss[40]"
   ]
  },
  {
   "cell_type": "code",
   "execution_count": 30,
   "id": "d26e2143",
   "metadata": {},
   "outputs": [
    {
     "data": {
      "text/plain": [
       "[0.4233641164377332,\n",
       " 0.43129169043774407,\n",
       " 0.43592848619446156,\n",
       " 0.4394563547646006,\n",
       " 0.44266126717751225,\n",
       " 0.44549059721951684,\n",
       " 0.44843592699617146,\n",
       " 0.4506498610600829,\n",
       " 0.4529582292151948,\n",
       " 0.45472586940353116,\n",
       " 0.4565188185622295,\n",
       " 0.4583455073957642,\n",
       " 0.4601143218576908,\n",
       " 0.4618081575259566,\n",
       " 0.4635809983126819,\n",
       " 0.46597531748314697,\n",
       " 0.46746807160476844,\n",
       " 0.47069006313880285,\n",
       " 0.4721317773374418,\n",
       " 0.4748018581420183,\n",
       " 0.4788052209032079,\n",
       " 0.48113187852626044,\n",
       " 0.48386634411290286,\n",
       " 0.4862511405410866,\n",
       " 0.48979133407895764,\n",
       " 0.49410517755895855,\n",
       " 0.49826745701332886,\n",
       " 0.49786705582713087,\n",
       " 0.5028495284418265,\n",
       " 0.5052328289796909,\n",
       " 0.5086974913254381,\n",
       " 0.5009545868262648,\n",
       " 0.5092407756174604,\n",
       " 0.540400409201781,\n",
       " 0.5578156077613433,\n",
       " 0.5321075343216459,\n",
       " 0.6197334619859854,\n",
       " 0.513205413458248,\n",
       " 0.5209389263764024,\n",
       " 0.6852028558651606,\n",
       " 0.7103786369785666,\n",
       " 0.6464963380247355,\n",
       " 0.6925455562149485,\n",
       " 0.5948248479515315,\n",
       " 0.6664097834999363,\n",
       " 0.6622186228632927]"
      ]
     },
     "execution_count": 30,
     "metadata": {},
     "output_type": "execute_result"
    }
   ],
   "source": [
    "val_dices"
   ]
  },
  {
   "cell_type": "code",
   "execution_count": 29,
   "id": "1f3362af",
   "metadata": {},
   "outputs": [
    {
     "data": {
      "text/plain": [
       "0.2896213640769323"
      ]
     },
     "execution_count": 29,
     "metadata": {},
     "output_type": "execute_result"
    }
   ],
   "source": [
    "min(val_loss)"
   ]
  },
  {
   "cell_type": "code",
   "execution_count": 27,
   "id": "dc5e5bde",
   "metadata": {},
   "outputs": [
    {
     "data": {
      "image/png": "[encoded data removed]",
      "text/plain": [
       "<Figure size 640x480 with 1 Axes>"
      ]
     },
     "metadata": {},
     "output_type": "display_data"
    }
   ],
   "source": [
    "#plot the training and validation IoU and loss at each epoch\n",
    "loss = history['train_loss']\n",
    "val_loss = history['val_loss']\n",
    "epochs = range(1, len(loss) + 1)\n",
    "plt.plot(epochs, loss, 'y', label='Training loss')\n",
    "plt.plot(epochs, val_loss, 'r', label='Validation loss')\n",
    "plt.title('Training and validation loss')\n",
    "plt.xlabel('Epochs')\n",
    "plt.ylabel('Loss')\n",
    "plt.legend()\n",
    "plt.show()"
   ]
  },
  {
   "cell_type": "code",
   "execution_count": 31,
   "id": "01cb9904",
   "metadata": {},
   "outputs": [],
   "source": [
    "a = torch.rand(2, 500,3,2,4)"
   ]
  },
  {
   "cell_type": "code",
   "execution_count": 32,
   "id": "6e684b2a",
   "metadata": {},
   "outputs": [
    {
     "data": {
      "text/plain": [
       "torch.Size([2, 12000])"
      ]
     },
     "execution_count": 32,
     "metadata": {},
     "output_type": "execute_result"
    }
   ],
   "source": [
    "torch.flatten(a,1).shape"
   ]
  }
 ],
 "metadata": {
  "kernelspec": {
   "display_name": "Python [conda env:tor] *",
   "language": "python",
   "name": "conda-env-tor-py"
  },
  "language_info": {
   "codemirror_mode": {
    "name": "ipython",
    "version": 3
   },
   "file_extension": ".py",
   "mimetype": "text/x-python",
   "name": "python",
   "nbconvert_exporter": "python",
   "pygments_lexer": "ipython3",
   "version": "3.10.6"
  }
 },
 "nbformat": 4,
 "nbformat_minor": 5
}
