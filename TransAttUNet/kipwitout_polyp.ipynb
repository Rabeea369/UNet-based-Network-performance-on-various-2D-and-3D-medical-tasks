{
 "cells": [
  {
   "cell_type": "code",
   "execution_count": 1,
   "id": "e889dbbc",
   "metadata": {},
   "outputs": [
    {
     "name": "stdout",
     "output_type": "stream",
     "text": [
      "__Python VERSION: 3.10.6 (main, Oct 24 2022, 16:07:47) [GCC 11.2.0]\n",
      "__pyTorch VERSION: 2.0.1\n",
      "__CUDA VERSION\n",
      "nvcc: NVIDIA (R) Cuda compiler driver\n",
      "Copyright (c) 2005-2022 NVIDIA Corporation\n",
      "Built on Wed_Sep_21_10:33:58_PDT_2022\n",
      "Cuda compilation tools, release 11.8, V11.8.89\n",
      "Build cuda_11.8.r11.8/compiler.31833905_0\n",
      "__CUDNN VERSION: 8700\n",
      "__Number CUDA Devices: 2\n",
      "__Devices\n",
      "index, name, driver_version, memory.total [MiB], memory.used [MiB], memory.free [MiB]\n",
      "0, NVIDIA A100-PCIE-40GB, 525.125.06, 40960 MiB, 39522 MiB, 814 MiB\n",
      "1, NVIDIA A100 80GB PCIe, 525.125.06, 81920 MiB, 31856 MiB, 49195 MiB\n",
      "Active CUDA Device: GPU 0\n",
      "Available devices  2\n",
      "Current cuda device  0\n"
     ]
    },
    {
     "data": {
      "text/plain": [
       "device(type='cuda', index=1)"
      ]
     },
     "execution_count": 1,
     "metadata": {},
     "output_type": "execute_result"
    }
   ],
   "source": [
    "%reset -f\n",
    "from __future__ import print_function\n",
    "from __future__ import division\n",
    "import math\n",
    "import numpy as np\n",
    "import torch\n",
    "import sys\n",
    "print('__Python VERSION:', sys.version)\n",
    "print('__pyTorch VERSION:', torch.__version__)\n",
    "print('__CUDA VERSION')\n",
    "from subprocess import call\n",
    "# call([\"nvcc\", \"--version\"]) does not work\n",
    "! nvcc --version\n",
    "print('__CUDNN VERSION:', torch.backends.cudnn.version())\n",
    "print('__Number CUDA Devices:', torch.cuda.device_count())\n",
    "print('__Devices')\n",
    "call([\"nvidia-smi\", \"--format=csv\", \"--query-gpu=index,name,driver_version,memory.total,memory.used,memory.free\"])\n",
    "print('Active CUDA Device: GPU', torch.cuda.current_device())\n",
    "\n",
    "print ('Available devices ', torch.cuda.device_count())\n",
    "print ('Current cuda device ', torch.cuda.current_device())\n",
    "from torch import device as torch_device\n",
    "\n",
    "#devices = [torch_device('cuda', i) for i in range(torch.cuda.device_count())] + [torch_device('cpu')]\n",
    "#print(devices)\n",
    "desired_gpu_index = 1\n",
    "device = torch.device(f'cuda:{desired_gpu_index}')\n",
    "device"
   ]
  },
  {
   "cell_type": "code",
   "execution_count": 2,
   "id": "2ee59c29",
   "metadata": {},
   "outputs": [],
   "source": [
    "import os\n",
    "from unet_parts import *\n",
    "from unet_parts_att_transformer import *\n",
    "from unet_parts_att_multiscale import *\n",
    "from transformerskip import tskip\n",
    "import random\n",
    "random.seed(20)\n",
    "np.random.seed(20)\n",
    "torch.manual_seed(20)\n",
    "torch.cuda.manual_seed(20)"
   ]
  },
  {
   "cell_type": "code",
   "execution_count": 3,
   "id": "7189e297",
   "metadata": {},
   "outputs": [
    {
     "data": {
      "text/plain": [
       "2"
      ]
     },
     "execution_count": 3,
     "metadata": {},
     "output_type": "execute_result"
    }
   ],
   "source": [
    "torch.cuda.device_count()"
   ]
  },
  {
   "cell_type": "code",
   "execution_count": 4,
   "id": "a9c63ddc",
   "metadata": {},
   "outputs": [],
   "source": [
    "import cv2\n",
    "import glob\n",
    "import random\n",
    "from tqdm import tqdm\n",
    "import skimage.io as io\n",
    "import skimage.transform as trans\n",
    "import matplotlib.pyplot as plt\n",
    "import pydicom\n",
    "import SimpleITK as sitk\n",
    "import nibabel as nib\n",
    "from scipy import ndimage\n"
   ]
  },
  {
   "cell_type": "code",
   "execution_count": 5,
   "id": "7d017e3b",
   "metadata": {},
   "outputs": [],
   "source": [
    "from torchmetrics import Dice\n",
    "import torch.optim as optim"
   ]
  },
  {
   "cell_type": "code",
   "execution_count": 6,
   "id": "12d5ba97",
   "metadata": {},
   "outputs": [],
   "source": [
    "# class DiceLoss(nn.Module):\n",
    "#     def __init__(self, weight=None, size_average=True):\n",
    "#         super(DiceLoss, self).__init__()\n",
    "\n",
    "#     def forward(self, inputs, targets, smooth=1):\n",
    "        \n",
    "#         #comment out if your model contains a sigmoid or equivalent activation layer\n",
    "#         inputs = F.sigmoid(inputs)       \n",
    "        \n",
    "#         #flatten label and prediction tensors\n",
    "#         inputs = inputs.view(-1)\n",
    "#         targets = targets.view(-1)\n",
    "        \n",
    "#         intersection = (inputs * targets).sum()                            \n",
    "#         dice = (2.*intersection + smooth)/(inputs.sum() + targets.sum() + smooth)  \n",
    "        \n",
    "#         return 1 - dice\n",
    "# class DiceLoss(nn.Module):\n",
    "#     def __init__(self, weight=None, size_average=True):\n",
    "#         super(DiceLoss, self).__init__()\n",
    "\n",
    "#     def forward(self, inputs, targets, smooth=1):\n",
    "        \n",
    "#         #comment out if your model contains a sigmoid or equivalent activation layer\n",
    "#         inputs = F.sigmoid(inputs)       \n",
    "        \n",
    "#         #flatten label and prediction tensors\n",
    "#         inputs = inputs.view(-1)\n",
    "#         targets = targets.view(-1)\n",
    "        \n",
    "#         intersection = (inputs * targets).sum()                            \n",
    "#         dice = (2.*intersection + smooth)/(inputs.sum() + targets.sum() + smooth)  \n",
    "        \n",
    "#         return 1 - dice\n",
    "def dice_loss(pred, target):\n",
    "    smooth = 1.#1e-5\n",
    "    pred = pred.view(-1)\n",
    "    target = target.view(-1)\n",
    "    intersection = (pred * target).sum()\n",
    "    union = pred.sum() + target.sum()\n",
    "    dice = (2.0 * intersection + smooth) / (union + smooth)\n",
    "    return 1 - dice\n",
    "def dice_coeff(pred, target):\n",
    "    smooth = 1.#1e-5\n",
    "    pred = pred.view(-1)\n",
    "    target = target.view(-1)\n",
    "    intersection = (pred * target).sum()\n",
    "    union = pred.sum() + target.sum()\n",
    "    dice = (2.0 * intersection + smooth) / (union + smooth)\n",
    "    return dice\n",
    "\n",
    "\n",
    "# def dice_loss(pred, target):\n",
    "#     smooth = 1.#1e-5\n",
    "#     intersection = (pred * target).sum()\n",
    "#     union = pred.sum() + target.sum()\n",
    "#     dice = (2.0 * intersection + smooth) / (union + smooth)\n",
    "#     return 1 - dice\n",
    "# def dice_coeff(pred, target):\n",
    "#     smooth = 1.#1e-5\n",
    "#     intersection = (pred * target).sum()\n",
    "#     union = pred.sum() + target.sum()\n",
    "#     dice = (2.0 * intersection + smooth) / (union + smooth)\n",
    "#     return dice"
   ]
  },
  {
   "cell_type": "code",
   "execution_count": 7,
   "id": "34fbee38",
   "metadata": {},
   "outputs": [],
   "source": [
    "\n",
    "import pandas as pd\n",
    "import matplotlib.pyplot as plt\n",
    "from sklearn.model_selection import train_test_split\n",
    "import torch.nn as nn\n",
    "from torch.utils.data import Dataset, DataLoader\n",
    "from torchvision import transforms as T\n",
    "import torchvision\n",
    "import torch.nn.functional as F\n",
    "from torch.autograd import Variable\n",
    "from PIL import Image\n",
    "import albumentations as A\n",
    "import time\n",
    "from tqdm.notebook import tqdm\n",
    "from torchsummary import summary\n",
    "\n",
    "\n"
   ]
  },
  {
   "cell_type": "code",
   "execution_count": 8,
   "id": "82d0654c",
   "metadata": {},
   "outputs": [],
   "source": [
    "from torch.utils.data import Dataset, DataLoader\n",
    "from torchvision.transforms import ToTensor\n",
    "# Define custom dataset class\n",
    "\n",
    "def parse_image(img_path, image_size):\n",
    "    img = cv2.imread(img_path)\n",
    "    img = cv2.cvtColor(img, cv2.COLOR_BGR2GRAY)\n",
    "    img = cv2.resize(img ,image_size, interpolation = cv2.INTER_CUBIC)\n",
    "    img = img.astype(np.float32)\n",
    "    mn = np.amin(img)\n",
    "    mx = np.amax(img)\n",
    "    d = mx - mn\n",
    "    img = (img-mn)/d\n",
    "    #print(np.amax(img),np.amin(img))\n",
    "    img = ToTensor()(img)\n",
    "    #img = np.expand_dims(img, axis=2)\n",
    "    #train_img = np.stack((image_rgb,)*3, axis=-1)\n",
    "    \n",
    "    return img\n",
    "\n",
    "def parse_mask(img_path, image_size):\n",
    "    mask_path = \"/home/rabeea/Kvasir/masks/\" + img_path.split('/')[-1]\n",
    "    mask = cv2.imread(mask_path)\n",
    "    mask = cv2.cvtColor(mask, cv2.COLOR_BGR2GRAY)\n",
    "    mask = np.where(mask>50,255,0)\n",
    "    mask = cv2.resize(mask.astype(np.uint8),image_size, interpolation = cv2.INTER_NEAREST)\n",
    "    #mask = np.expand_dims(mask, axis=2)\n",
    "    mask = mask.astype(np.uint8)\n",
    "    mask = np.where(mask>0,1,mask)\n",
    "    mask = torch.from_numpy(mask).long()\n",
    "    return mask\n",
    "\n",
    "class DataGen(Dataset):\n",
    "    def __init__(self, image_size, images_path , transform=None):\n",
    "        self.image_size = image_size\n",
    "        self.images_path = images_path\n",
    "        self.batch_size = batch_size\n",
    "        self.transform = transform\n",
    "\n",
    "    def __len__(self):\n",
    "        return len(self.images_path)\n",
    "\n",
    "    def __getitem__(self, index):\n",
    "        image = parse_image(self.images_path[index], self.image_size)\n",
    "        mask = parse_mask(self.images_path[index], self.image_size)\n",
    "\n",
    "        if self.transform is not None:\n",
    "            image = self.transform(image)\n",
    "\n",
    "        return image, mask\n"
   ]
  },
  {
   "cell_type": "code",
   "execution_count": 9,
   "id": "350a9e8a",
   "metadata": {},
   "outputs": [
    {
     "name": "stdout",
     "output_type": "stream",
     "text": [
      "1000\n"
     ]
    }
   ],
   "source": [
    "imgpath = glob.glob(\"/home/rabeea/Kvasir/images/*.jpg\", recursive = True)\n",
    "print(len(imgpath))"
   ]
  },
  {
   "cell_type": "code",
   "execution_count": 10,
   "id": "c213b0e8",
   "metadata": {},
   "outputs": [
    {
     "name": "stdout",
     "output_type": "stream",
     "text": [
      "1000 700 100 200\n"
     ]
    }
   ],
   "source": [
    "tr = 700\n",
    "val = 100\n",
    "ts = 200\n",
    "imgpath = sorted(imgpath)\n",
    "random.Random(42).shuffle(imgpath)\n",
    "trainpath = imgpath[:tr]\n",
    "valpath = imgpath[tr:tr+val]\n",
    "testpath = imgpath[tr+val:]\n",
    "print(len(imgpath), len(trainpath), len(valpath), len(testpath))"
   ]
  },
  {
   "cell_type": "code",
   "execution_count": 11,
   "id": "ffdc3cb3",
   "metadata": {},
   "outputs": [],
   "source": [
    "image_size = (256,256)\n",
    "batch_size = 1\n",
    "\n",
    "epochs = 200\n",
    "\n",
    "train_steps = len(trainpath)//batch_size\n",
    "valid_steps = len(valpath)//batch_size\n",
    "\n",
    "## Generator\n",
    "train_gen = DataGen(image_size, trainpath)\n",
    "val_gen = DataGen(image_size,valpath)\n",
    "test_gen = DataGen(image_size,testpath)\n",
    "\n",
    "train_loader = DataLoader(train_gen, batch_size=batch_size, shuffle=False)\n",
    "val_loader = DataLoader(val_gen, batch_size=batch_size, shuffle=False)  \n",
    "test_loader = DataLoader(test_gen, batch_size=1, shuffle=False) "
   ]
  },
  {
   "cell_type": "code",
   "execution_count": 12,
   "id": "8fc13419",
   "metadata": {},
   "outputs": [
    {
     "name": "stdout",
     "output_type": "stream",
     "text": [
      "Feature batch shape: torch.Size([1, 1, 256, 256])\n",
      "Labels batch shape: torch.Size([1, 256, 256])\n"
     ]
    },
    {
     "data": {
      "text/plain": [
       "<matplotlib.image.AxesImage at 0x7fe59d4f1a50>"
      ]
     },
     "execution_count": 12,
     "metadata": {},
     "output_type": "execute_result"
    },
    {
     "data": {
      "image/png": "[encoded data removed]",
      "text/plain": [
       "<Figure size 640x480 with 1 Axes>"
      ]
     },
     "metadata": {},
     "output_type": "display_data"
    }
   ],
   "source": [
    "# Display image and label.\n",
    "train_features, train_labels = next(iter(train_loader))\n",
    "print(f\"Feature batch shape: {train_features.size()}\")\n",
    "print(f\"Labels batch shape: {train_labels.size()}\")\n",
    "img = train_features[0].squeeze()\n",
    "label = train_labels[0]\n",
    "plt.imshow(img, cmap=\"gray\")\n",
    "plt.imshow(label, 'gray', alpha=0.5)"
   ]
  },
  {
   "cell_type": "code",
   "execution_count": 13,
   "id": "d2604761",
   "metadata": {},
   "outputs": [
    {
     "data": {
      "text/plain": [
       "array([0, 1])"
      ]
     },
     "execution_count": 13,
     "metadata": {},
     "output_type": "execute_result"
    }
   ],
   "source": [
    "np.unique(label)"
   ]
  },
  {
   "cell_type": "code",
   "execution_count": 14,
   "id": "e8f4efe6",
   "metadata": {},
   "outputs": [
    {
     "data": {
      "text/plain": [
       "torch.float32"
      ]
     },
     "execution_count": 14,
     "metadata": {},
     "output_type": "execute_result"
    }
   ],
   "source": [
    "img.dtype"
   ]
  },
  {
   "cell_type": "code",
   "execution_count": 16,
   "id": "7280f57b",
   "metadata": {},
   "outputs": [],
   "source": [
    "class UNet_Attention_Transformer_Multiscale(nn.Module):\n",
    "    def __init__(self, n_channels = 1, n_classes=1, bilinear=True):\n",
    "        super(UNet_Attention_Transformer_Multiscale, self).__init__()\n",
    "        self.n_channels = n_channels\n",
    "        self.n_classes = n_classes\n",
    "        self.bilinear = bilinear\n",
    "        \n",
    "        self.inc = DoubleConv(n_channels, 64)\n",
    "        self.down1 = Down(64, 128)\n",
    "        self.down2 = Down(128, 256)\n",
    "        self.down3 = Down(256, 512)\n",
    "        self.edown = Down(512,1024)\n",
    "        factor = 2 if bilinear else 1\n",
    "        self.down4 = Down(1024, 2048 // factor)\n",
    "        self.eup = Up(2048, 1024 // factor, bilinear)\n",
    "        self.up1 = Up(2048, 512 // factor, bilinear)\n",
    "        self.up2 = Up(1024, 256 // factor, bilinear)\n",
    "        self.up3 = Up(512, 128 // factor, bilinear)\n",
    "        self.up4 = Up(256, 64, bilinear)\n",
    "        self.outc = OutConv(128, n_classes)\n",
    "\n",
    "        \n",
    "#         self.inc = DoubleConv(n_channels, 64)\n",
    "#         self.down1 = Down(64, 128)\n",
    "#         self.down2 = Down(128, 256)\n",
    "#         self.down3 = Down(256, 512)\n",
    "#         factor = 2 if bilinear else 1\n",
    "#         self.down4 = Down(512, 1024 // factor)\n",
    "#         self.up1 = Up(1024, 512 // factor, bilinear)\n",
    "#         self.up2 = Up(1024, 256 // factor, bilinear)\n",
    "#         self.up3 = Up(512, 128 // factor, bilinear)\n",
    "#         self.up4 = Up(256, 64, bilinear)\n",
    "#         self.outc = OutConv(128, n_classes)\n",
    "\n",
    "        '''位置编码'''\n",
    "        self.pos = PositionEmbeddingLearned(1024 // factor)\n",
    "        #self.pos = PositionEmbeddingLearned(512 // factor)\n",
    "\n",
    "        '''空间注意力机制'''\n",
    "        self.pam = PAM_Module(1024)\n",
    "\n",
    "        '''自注意力机制'''\n",
    "        self.sdpa = ScaledDotProductAttention(512)\n",
    "\n",
    "        '''残差多尺度连接'''\n",
    "#         self.fuse1 = MultiConv(768, 256)\n",
    "#         self.fuse2 = MultiConv(384, 128)\n",
    "#         self.fuse3 = MultiConv(192, 64)\n",
    "#         self.fuse4 = MultiConv(128, 64)\n",
    "\n",
    "    def forward(self, x):\n",
    "        x1 = self.inc(x)\n",
    "        x2 = self.down1(x1)\n",
    "        x3 = self.down2(x2)\n",
    "        x4 = self.down3(x3)\n",
    "        xe = self.edown(x4)\n",
    "        x5 = self.down4(xe)\n",
    "        #print('x1: ', x1.shape)\n",
    "        #print('x2: ', x2.shape)\n",
    "        #print('x3: ', x3.shape)\n",
    "        #print('x4: ', x4.shape)\n",
    "        #[x1,x2,x3,x4] = tskip([x1,x2,x3,x4],device = device, up=4)\n",
    "        #print('x1: ', x1.shape)\n",
    "        #print('x2: ', x2.shape)\n",
    "        #print('x3: ', x3.shape)\n",
    "        #print('x4: ', x4.shape)\n",
    "        \n",
    "        \n",
    "        '''Setting 1'''\n",
    "        x5_pam = self.pam(x5)\n",
    "\n",
    "        '''Setting 2'''\n",
    "        x5_pos = self.pos(x5)\n",
    "        x5 = x5 + x5_pos\n",
    "\n",
    "\n",
    "        x5_sdpa = self.sdpa(x5)\n",
    "        x5 = x5_sdpa + x5_pam\n",
    "        \n",
    "        xee = self.eup(x5, xe)\n",
    "        xe_scale = F.interpolate(x5, size=xee.shape[2:], mode='bilinear', align_corners=True)\n",
    "        xee_cat = torch.cat((xe_scale, xee), 1)\n",
    "\n",
    "        x6 = self.up1(xee_cat, x4)\n",
    "        x5_scale = F.interpolate(xee, size=x6.shape[2:], mode='bilinear', align_corners=True)\n",
    "        x6_cat = torch.cat((x5_scale, x6), 1)\n",
    "\n",
    "        x7 = self.up2(x6_cat, x3)\n",
    "        x6_scale = F.interpolate(x6, size=x7.shape[2:], mode='bilinear', align_corners=True)\n",
    "        x7_cat = torch.cat((x6_scale, x7), 1)\n",
    "\n",
    "        x8 = self.up3(x7_cat, x2)\n",
    "        x7_scale = F.interpolate(x7, size=x8.shape[2:], mode='bilinear', align_corners=True)\n",
    "        x8_cat = torch.cat((x7_scale, x8), 1)\n",
    "\n",
    "        x9 = self.up4(x8_cat, x1)\n",
    "        x8_scale = F.interpolate(x8, size=x9.shape[2:], mode='bilinear', align_corners=True)\n",
    "        x9 = torch.cat((x8_scale, x9), 1)\n",
    "\n",
    "        logits = self.outc(x9)\n",
    "        return logits\n"
   ]
  },
  {
   "cell_type": "code",
   "execution_count": 15,
   "id": "ecadc218",
   "metadata": {},
   "outputs": [],
   "source": [
    "class UNet_Attention_Transformer_Multiscale(nn.Module):\n",
    "    def __init__(self, n_channels = 1, n_classes=1, bilinear=True):\n",
    "        super(UNet_Attention_Transformer_Multiscale, self).__init__()\n",
    "        self.n_channels = n_channels\n",
    "        self.n_classes = n_classes\n",
    "        self.bilinear = bilinear\n",
    "\n",
    "        factor = 2 if bilinear else 1\n",
    "        self.inc = DoubleConv(n_channels, 64)\n",
    "        self.down1 = Down(64, 128)\n",
    "        self.down2 = Down(128, 256)\n",
    "        self.down3 = Down(256, 512 // factor)\n",
    "        self.up1 = Up(512, 256 // factor, bilinear)\n",
    "        self.up2 = Up(512, 128 // factor, bilinear)\n",
    "        self.up3 = Up(256, 64, bilinear)\n",
    "        self.outc = OutConv(128, n_classes)\n",
    "        \n",
    "\n",
    "        '''位置编码'''\n",
    "        self.pos = PositionEmbeddingLearned(256 // factor)\n",
    "        #self.pos = PositionEmbeddingLearned(512 // factor)\n",
    "\n",
    "        '''空间注意力机制'''\n",
    "        self.pam = PAM_Module(256)\n",
    "\n",
    "        '''自注意力机制'''\n",
    "        self.sdpa = ScaledDotProductAttention(256)\n",
    "\n",
    "        '''残差多尺度连接'''\n",
    "#         self.fuse1 = MultiConv(768, 256)\n",
    "#         self.fuse2 = MultiConv(384, 128)\n",
    "#         self.fuse3 = MultiConv(192, 64)\n",
    "#         self.fuse4 = MultiConv(128, 64)\n",
    "\n",
    "    def forward(self, x):\n",
    "        x1 = self.inc(x)\n",
    "        x2 = self.down1(x1)\n",
    "        x3 = self.down2(x2)\n",
    "        x4 = self.down3(x3)\n",
    "        #print('x1: ', x1.shape)\n",
    "        #print('x2: ', x2.shape)\n",
    "        #print('x3: ', x3.shape)\n",
    "        #print('x4: ', x4.shape)\n",
    "        #[x1,x2,x3,x4] = tskip([x1,x2,x3,x4],device = device, up=4)\n",
    "        #print('x1: ', x1.shape)\n",
    "        #print('x2: ', x2.shape)\n",
    "        #print('x3: ', x3.shape)\n",
    "        #print('x4: ', x4.shape)\n",
    "        \n",
    "        \n",
    "        '''Setting 1'''\n",
    "        x4_pam = self.pam(x4)\n",
    "\n",
    "        '''Setting 2'''\n",
    "        x4_pos = self.pos(x4)\n",
    "        x4 = x4 + x4_pos\n",
    "\n",
    "\n",
    "        x4_sdpa = self.sdpa(x4)\n",
    "        x4 = x4_sdpa + x4_pam\n",
    "        \n",
    "\n",
    "#         x6 = self.up1(x5, x4)\n",
    "#         x5_scale = F.interpolate(x5, size=x6.shape[2:], mode='bilinear', align_corners=True)\n",
    "#         x6_cat = torch.cat((x5_scale, x6), 1)\n",
    "\n",
    "        x7 = self.up1(x4, x3)\n",
    "        x6_scale = F.interpolate(x4, size=x7.shape[2:], mode='bilinear', align_corners=True)\n",
    "        x7_cat = torch.cat((x6_scale, x7), 1)\n",
    "\n",
    "        x8 = self.up2(x7_cat, x2)\n",
    "        x7_scale = F.interpolate(x7, size=x8.shape[2:], mode='bilinear', align_corners=True)\n",
    "        x8_cat = torch.cat((x7_scale, x8), 1)\n",
    "\n",
    "        x9 = self.up3(x8_cat, x1)\n",
    "        x8_scale = F.interpolate(x8, size=x9.shape[2:], mode='bilinear', align_corners=True)\n",
    "        x9 = torch.cat((x8_scale, x9), 1)\n",
    "\n",
    "        logits = self.outc(x9)\n",
    "        return logits\n"
   ]
  },
  {
   "cell_type": "code",
   "execution_count": 14,
   "id": "b16871bb",
   "metadata": {},
   "outputs": [],
   "source": [
    "class UNet_Attention_Transformer_Multiscale(nn.Module):\n",
    "    def __init__(self, n_channels = 1, n_classes=1, bilinear=True):\n",
    "        super(UNet_Attention_Transformer_Multiscale, self).__init__()\n",
    "        self.n_channels = n_channels\n",
    "        self.n_classes = n_classes\n",
    "        self.bilinear = bilinear\n",
    "        \n",
    "        self.inc = DoubleConv(n_channels, 128)\n",
    "        self.down1 = Down(128, 256)\n",
    "        self.down2 = Down(256, 512)\n",
    "        self.down3 = Down(512, 1024)\n",
    "        factor = 2 if bilinear else 1\n",
    "        self.down4 = Down(1024, 2048 // factor)\n",
    "        self.up1 = Up(2048, 1024 // factor, bilinear)\n",
    "        self.up2 = Up(2048, 512 // factor, bilinear)\n",
    "        self.up3 = Up(1024, 256 // factor, bilinear)\n",
    "        self.up4 = Up(512, 128, bilinear)\n",
    "        self.outc = OutConv(256, n_classes)\n",
    "\n",
    "        \n",
    "#         self.inc = DoubleConv(n_channels, 64)\n",
    "#         self.down1 = Down(64, 128)\n",
    "#         self.down2 = Down(128, 256)\n",
    "#         self.down3 = Down(256, 512)\n",
    "#         factor = 2 if bilinear else 1\n",
    "#         self.down4 = Down(512, 1024 // factor)\n",
    "#         self.up1 = Up(1024, 512 // factor, bilinear)\n",
    "#         self.up2 = Up(1024, 256 // factor, bilinear)\n",
    "#         self.up3 = Up(512, 128 // factor, bilinear)\n",
    "#         self.up4 = Up(256, 64, bilinear)\n",
    "#         self.outc = OutConv(128, n_classes)\n",
    "\n",
    "        '''位置编码'''\n",
    "        self.pos = PositionEmbeddingLearned(1024 // factor)\n",
    "        #self.pos = PositionEmbeddingLearned(512 // factor)\n",
    "\n",
    "        '''空间注意力机制'''\n",
    "        self.pam = PAM_Module(1024)\n",
    "\n",
    "        '''自注意力机制'''\n",
    "        self.sdpa = ScaledDotProductAttention(1024)\n",
    "\n",
    "        '''残差多尺度连接'''\n",
    "#         self.fuse1 = MultiConv(768, 256)\n",
    "#         self.fuse2 = MultiConv(384, 128)\n",
    "#         self.fuse3 = MultiConv(192, 64)\n",
    "#         self.fuse4 = MultiConv(128, 64)\n",
    "\n",
    "    def forward(self, x):\n",
    "        x1 = self.inc(x)\n",
    "        x2 = self.down1(x1)\n",
    "        x3 = self.down2(x2)\n",
    "        x4 = self.down3(x3)\n",
    "        x5 = self.down4(x4)\n",
    "        #print('x1: ', x1.shape)\n",
    "        #print('x2: ', x2.shape)\n",
    "        #print('x3: ', x3.shape)\n",
    "        #print('x4: ', x4.shape)\n",
    "        #[x1,x2,x3,x4] = tskip([x1,x2,x3,x4],device = device, up=4)\n",
    "        #print('x1: ', x1.shape)\n",
    "        #print('x2: ', x2.shape)\n",
    "        #print('x3: ', x3.shape)\n",
    "        #print('x4: ', x4.shape)\n",
    "        \n",
    "\n",
    "        '''Setting 1'''\n",
    "        x5_pam = self.pam(x5)\n",
    "        '''Setting 2'''\n",
    "        x5_pos = self.pos(x5)\n",
    "        x5 = x5 + x5_pos\n",
    "\n",
    "\n",
    "        x5_sdpa = self.sdpa(x5)\n",
    "        x5 = x5_sdpa + x5_pam\n",
    "        \n",
    "        x6 = self.up1(x5, x4)\n",
    "        x5_scale = F.interpolate(x5, size=x6.shape[2:], mode='bilinear', align_corners=True)\n",
    "        x6_cat = torch.cat((x5_scale, x6), 1)\n",
    "\n",
    "        x7 = self.up2(x6_cat, x3)\n",
    "        x6_scale = F.interpolate(x6, size=x7.shape[2:], mode='bilinear', align_corners=True)\n",
    "        x7_cat = torch.cat((x6_scale, x7), 1)\n",
    "\n",
    "        x8 = self.up3(x7_cat, x2)\n",
    "        x7_scale = F.interpolate(x7, size=x8.shape[2:], mode='bilinear', align_corners=True)\n",
    "        x8_cat = torch.cat((x7_scale, x8), 1)\n",
    "\n",
    "        x9 = self.up4(x8_cat, x1)\n",
    "        x8_scale = F.interpolate(x8, size=x9.shape[2:], mode='bilinear', align_corners=True)\n",
    "        x9 = torch.cat((x8_scale, x9), 1)\n",
    "\n",
    "        logits = self.outc(x9)\n",
    "        return logits\n"
   ]
  },
  {
   "cell_type": "code",
   "execution_count": 14,
   "id": "6f08e952",
   "metadata": {},
   "outputs": [],
   "source": [
    "class UNet_Attention_Transformer_Multiscale(nn.Module):\n",
    "    def __init__(self, n_channels = 1, n_classes=1, bilinear=True):\n",
    "        super(UNet_Attention_Transformer_Multiscale, self).__init__()\n",
    "        self.n_channels = n_channels\n",
    "        self.n_classes = n_classes\n",
    "        self.bilinear = bilinear\n",
    "        \n",
    "        self.inc = DoubleConv(n_channels, 256)\n",
    "        self.down1 = Down(256, 512)\n",
    "        self.down2 = Down(512, 1024)\n",
    "        self.down3 = Down(1024, 2048)\n",
    "        factor = 2 if bilinear else 1\n",
    "        self.down4 = Down(2048, 4096 // factor)\n",
    "        self.up1 = Up(4096, 2048 // factor, bilinear)\n",
    "        self.up2 = Up(4096, 1024 // factor, bilinear)\n",
    "        self.up3 = Up(2048, 512 // factor, bilinear)\n",
    "        self.up4 = Up(1024, 256, bilinear)\n",
    "        self.outc = OutConv(512, n_classes)\n",
    "        \n",
    "#         self.inc = DoubleConv(n_channels, 128)\n",
    "#         self.down1 = Down(128, 256)\n",
    "#         self.down2 = Down(256, 512)\n",
    "#         self.down3 = Down(512, 1024)\n",
    "#         factor = 2 if bilinear else 1\n",
    "#         self.down4 = Down(1024, 2048 // factor)\n",
    "#         self.up1 = Up(2048, 1024 // factor, bilinear)\n",
    "#         self.up2 = Up(2048, 512 // factor, bilinear)\n",
    "#         self.up3 = Up(1024, 256 // factor, bilinear)\n",
    "#         self.up4 = Up(512, 128, bilinear)\n",
    "#         self.outc = OutConv(256, n_classes)\n",
    "\n",
    "        \n",
    "#         self.inc = DoubleConv(n_channels, 64)\n",
    "#         self.down1 = Down(64, 128)\n",
    "#         self.down2 = Down(128, 256)\n",
    "#         self.down3 = Down(256, 512)\n",
    "#         factor = 2 if bilinear else 1\n",
    "#         self.down4 = Down(512, 1024 // factor)\n",
    "#         self.up1 = Up(1024, 512 // factor, bilinear)\n",
    "#         self.up2 = Up(1024, 256 // factor, bilinear)\n",
    "#         self.up3 = Up(512, 128 // factor, bilinear)\n",
    "#         self.up4 = Up(256, 64, bilinear)\n",
    "#         self.outc = OutConv(128, n_classes)\n",
    "\n",
    "        '''位置编码'''\n",
    "        self.pos = PositionEmbeddingLearned(2048 // factor)\n",
    "        #self.pos = PositionEmbeddingLearned(512 // factor)\n",
    "\n",
    "        '''空间注意力机制'''\n",
    "        self.pam = PAM_Module(2048)\n",
    "\n",
    "        '''自注意力机制'''\n",
    "        self.sdpa = ScaledDotProductAttention(2048)\n",
    "\n",
    "        '''残差多尺度连接'''\n",
    "#         self.fuse1 = MultiConv(768, 256)\n",
    "#         self.fuse2 = MultiConv(384, 128)\n",
    "#         self.fuse3 = MultiConv(192, 64)\n",
    "#         self.fuse4 = MultiConv(128, 64)\n",
    "\n",
    "    def forward(self, x):\n",
    "        x1 = self.inc(x)\n",
    "        x2 = self.down1(x1)\n",
    "        x3 = self.down2(x2)\n",
    "        x4 = self.down3(x3)\n",
    "        x5 = self.down4(x4)\n",
    "        #print('x1: ', x1.shape)\n",
    "        #print('x2: ', x2.shape)\n",
    "        #print('x3: ', x3.shape)\n",
    "        #print('x4: ', x4.shape)\n",
    "        #[x1,x2,x3,x4] = tskip([x1,x2,x3,x4],device = device, up=4)\n",
    "        #print('x1: ', x1.shape)\n",
    "        #print('x2: ', x2.shape)\n",
    "        #print('x3: ', x3.shape)\n",
    "        #print('x4: ', x4.shape)\n",
    "        \n",
    "\n",
    "        '''Setting 1'''\n",
    "        x5_pam = self.pam(x5)\n",
    "        '''Setting 2'''\n",
    "        x5_pos = self.pos(x5)\n",
    "        x5 = x5 + x5_pos\n",
    "\n",
    "\n",
    "        x5_sdpa = self.sdpa(x5)\n",
    "        x5 = x5_sdpa + x5_pam\n",
    "        \n",
    "        x6 = self.up1(x5, x4)\n",
    "        x5_scale = F.interpolate(x5, size=x6.shape[2:], mode='bilinear', align_corners=True)\n",
    "        x6_cat = torch.cat((x5_scale, x6), 1)\n",
    "\n",
    "        x7 = self.up2(x6_cat, x3)\n",
    "        x6_scale = F.interpolate(x6, size=x7.shape[2:], mode='bilinear', align_corners=True)\n",
    "        x7_cat = torch.cat((x6_scale, x7), 1)\n",
    "\n",
    "        x8 = self.up3(x7_cat, x2)\n",
    "        x7_scale = F.interpolate(x7, size=x8.shape[2:], mode='bilinear', align_corners=True)\n",
    "        x8_cat = torch.cat((x7_scale, x8), 1)\n",
    "\n",
    "        x9 = self.up4(x8_cat, x1)\n",
    "        x8_scale = F.interpolate(x8, size=x9.shape[2:], mode='bilinear', align_corners=True)\n",
    "        x9 = torch.cat((x8_scale, x9), 1)\n",
    "\n",
    "        logits = self.outc(x9)\n",
    "        return logits\n"
   ]
  },
  {
   "cell_type": "markdown",
   "id": "6c9f851e",
   "metadata": {},
   "source": [
    "# new"
   ]
  },
  {
   "cell_type": "code",
   "execution_count": 15,
   "id": "a71abb6e",
   "metadata": {},
   "outputs": [],
   "source": [
    "class UNet_Attention_Transformer_Multiscale(nn.Module):\n",
    "    def __init__(self, n_channels = 1, n_classes=1, bilinear=True):\n",
    "        super(UNet_Attention_Transformer_Multiscale, self).__init__()\n",
    "        self.n_channels = n_channels\n",
    "        self.n_classes = n_classes\n",
    "        self.bilinear = bilinear\n",
    "\n",
    "        factor = 2 if bilinear else 1\n",
    "        self.inc = DoubleConv(n_channels, 16)\n",
    "        self.down1 = Down(16, 32)\n",
    "        self.down2 = Down(32, 64)\n",
    "        self.down3 = Down(64, 128 // factor)\n",
    "        self.up1 = Up(128, 64 // factor, bilinear)\n",
    "        self.up2 = Up(128, 32 // factor, bilinear)\n",
    "        self.up3 = Up(64, 16, bilinear)\n",
    "        self.outc = OutConv(32, n_classes)\n",
    "        \n",
    "\n",
    "        '''位置编码'''\n",
    "        self.pos = PositionEmbeddingLearned(64// factor)\n",
    "        #self.pos = PositionEmbeddingLearned(512 // factor)\n",
    "\n",
    "        '''空间注意力机制'''\n",
    "        self.pam = PAM_Module(64)\n",
    "\n",
    "        '''自注意力机制'''\n",
    "        self.sdpa = ScaledDotProductAttention(64)\n",
    "\n",
    "        '''残差多尺度连接'''\n",
    "#         self.fuse1 = MultiConv(768, 256)\n",
    "#         self.fuse2 = MultiConv(384, 128)\n",
    "#         self.fuse3 = MultiConv(192, 64)\n",
    "#         self.fuse4 = MultiConv(128, 64)\n",
    "\n",
    "    def forward(self, x):\n",
    "        x1 = self.inc(x)\n",
    "        x2 = self.down1(x1)\n",
    "        x3 = self.down2(x2)\n",
    "        x4 = self.down3(x3)\n",
    "        #print('x1: ', x1.shape)\n",
    "        #print('x2: ', x2.shape)\n",
    "        #print('x3: ', x3.shape)\n",
    "        #print('x4: ', x4.shape)\n",
    "        #[x1,x2,x3,x4] = tskip([x1,x2,x3,x4],device = device, up=4)\n",
    "        #print('x1: ', x1.shape)\n",
    "        #print('x2: ', x2.shape)\n",
    "        #print('x3: ', x3.shape)\n",
    "        #print('x4: ', x4.shape)\n",
    "        \n",
    "        \n",
    "        '''Setting 1'''\n",
    "        x4_pam = self.pam(x4)\n",
    "\n",
    "        '''Setting 2'''\n",
    "        x4_pos = self.pos(x4)\n",
    "        x4 = x4 + x4_pos\n",
    "\n",
    "\n",
    "        x4_sdpa = self.sdpa(x4)\n",
    "        x4 = x4_sdpa + x4_pam\n",
    "        \n",
    "\n",
    "#         x6 = self.up1(x5, x4)\n",
    "#         x5_scale = F.interpolate(x5, size=x6.shape[2:], mode='bilinear', align_corners=True)\n",
    "#         x6_cat = torch.cat((x5_scale, x6), 1)\n",
    "\n",
    "        x7 = self.up1(x4, x3)\n",
    "        x6_scale = F.interpolate(x4, size=x7.shape[2:], mode='bilinear', align_corners=True)\n",
    "        x7_cat = torch.cat((x6_scale, x7), 1)\n",
    "\n",
    "        x8 = self.up2(x7_cat, x2)\n",
    "        x7_scale = F.interpolate(x7, size=x8.shape[2:], mode='bilinear', align_corners=True)\n",
    "        x8_cat = torch.cat((x7_scale, x8), 1)\n",
    "\n",
    "        x9 = self.up3(x8_cat, x1)\n",
    "        x8_scale = F.interpolate(x8, size=x9.shape[2:], mode='bilinear', align_corners=True)\n",
    "        x9 = torch.cat((x8_scale, x9), 1)\n",
    "\n",
    "        logits = self.outc(x9)\n",
    "        return logits\n"
   ]
  },
  {
   "cell_type": "code",
   "execution_count": 16,
   "id": "82780d6a",
   "metadata": {},
   "outputs": [],
   "source": [
    "model = UNet_Attention_Transformer_Multiscale()"
   ]
  },
  {
   "cell_type": "code",
   "execution_count": 17,
   "id": "872ea369",
   "metadata": {},
   "outputs": [
    {
     "data": {
      "text/plain": [
       "UNet_Attention_Transformer_Multiscale(\n",
       "  (inc): DoubleConv(\n",
       "    (double_conv): Sequential(\n",
       "      (0): Conv2d(1, 16, kernel_size=(3, 3), stride=(1, 1), padding=(1, 1))\n",
       "      (1): BatchNorm2d(16, eps=1e-05, momentum=0.1, affine=True, track_running_stats=True)\n",
       "      (2): ReLU(inplace=True)\n",
       "      (3): Conv2d(16, 16, kernel_size=(3, 3), stride=(1, 1), padding=(1, 1))\n",
       "      (4): BatchNorm2d(16, eps=1e-05, momentum=0.1, affine=True, track_running_stats=True)\n",
       "      (5): ReLU(inplace=True)\n",
       "    )\n",
       "  )\n",
       "  (down1): Down(\n",
       "    (maxpool_conv): Sequential(\n",
       "      (0): MaxPool2d(kernel_size=2, stride=2, padding=0, dilation=1, ceil_mode=False)\n",
       "      (1): DoubleConv(\n",
       "        (double_conv): Sequential(\n",
       "          (0): Conv2d(16, 32, kernel_size=(3, 3), stride=(1, 1), padding=(1, 1))\n",
       "          (1): BatchNorm2d(32, eps=1e-05, momentum=0.1, affine=True, track_running_stats=True)\n",
       "          (2): ReLU(inplace=True)\n",
       "          (3): Conv2d(32, 32, kernel_size=(3, 3), stride=(1, 1), padding=(1, 1))\n",
       "          (4): BatchNorm2d(32, eps=1e-05, momentum=0.1, affine=True, track_running_stats=True)\n",
       "          (5): ReLU(inplace=True)\n",
       "        )\n",
       "      )\n",
       "    )\n",
       "  )\n",
       "  (down2): Down(\n",
       "    (maxpool_conv): Sequential(\n",
       "      (0): MaxPool2d(kernel_size=2, stride=2, padding=0, dilation=1, ceil_mode=False)\n",
       "      (1): DoubleConv(\n",
       "        (double_conv): Sequential(\n",
       "          (0): Conv2d(32, 64, kernel_size=(3, 3), stride=(1, 1), padding=(1, 1))\n",
       "          (1): BatchNorm2d(64, eps=1e-05, momentum=0.1, affine=True, track_running_stats=True)\n",
       "          (2): ReLU(inplace=True)\n",
       "          (3): Conv2d(64, 64, kernel_size=(3, 3), stride=(1, 1), padding=(1, 1))\n",
       "          (4): BatchNorm2d(64, eps=1e-05, momentum=0.1, affine=True, track_running_stats=True)\n",
       "          (5): ReLU(inplace=True)\n",
       "        )\n",
       "      )\n",
       "    )\n",
       "  )\n",
       "  (down3): Down(\n",
       "    (maxpool_conv): Sequential(\n",
       "      (0): MaxPool2d(kernel_size=2, stride=2, padding=0, dilation=1, ceil_mode=False)\n",
       "      (1): DoubleConv(\n",
       "        (double_conv): Sequential(\n",
       "          (0): Conv2d(64, 64, kernel_size=(3, 3), stride=(1, 1), padding=(1, 1))\n",
       "          (1): BatchNorm2d(64, eps=1e-05, momentum=0.1, affine=True, track_running_stats=True)\n",
       "          (2): ReLU(inplace=True)\n",
       "          (3): Conv2d(64, 64, kernel_size=(3, 3), stride=(1, 1), padding=(1, 1))\n",
       "          (4): BatchNorm2d(64, eps=1e-05, momentum=0.1, affine=True, track_running_stats=True)\n",
       "          (5): ReLU(inplace=True)\n",
       "        )\n",
       "      )\n",
       "    )\n",
       "  )\n",
       "  (up1): Up(\n",
       "    (up): Upsample(scale_factor=2.0, mode='bilinear')\n",
       "    (conv): DoubleConv(\n",
       "      (double_conv): Sequential(\n",
       "        (0): Conv2d(128, 64, kernel_size=(3, 3), stride=(1, 1), padding=(1, 1))\n",
       "        (1): BatchNorm2d(64, eps=1e-05, momentum=0.1, affine=True, track_running_stats=True)\n",
       "        (2): ReLU(inplace=True)\n",
       "        (3): Conv2d(64, 32, kernel_size=(3, 3), stride=(1, 1), padding=(1, 1))\n",
       "        (4): BatchNorm2d(32, eps=1e-05, momentum=0.1, affine=True, track_running_stats=True)\n",
       "        (5): ReLU(inplace=True)\n",
       "      )\n",
       "    )\n",
       "  )\n",
       "  (up2): Up(\n",
       "    (up): Upsample(scale_factor=2.0, mode='bilinear')\n",
       "    (conv): DoubleConv(\n",
       "      (double_conv): Sequential(\n",
       "        (0): Conv2d(128, 64, kernel_size=(3, 3), stride=(1, 1), padding=(1, 1))\n",
       "        (1): BatchNorm2d(64, eps=1e-05, momentum=0.1, affine=True, track_running_stats=True)\n",
       "        (2): ReLU(inplace=True)\n",
       "        (3): Conv2d(64, 16, kernel_size=(3, 3), stride=(1, 1), padding=(1, 1))\n",
       "        (4): BatchNorm2d(16, eps=1e-05, momentum=0.1, affine=True, track_running_stats=True)\n",
       "        (5): ReLU(inplace=True)\n",
       "      )\n",
       "    )\n",
       "  )\n",
       "  (up3): Up(\n",
       "    (up): Upsample(scale_factor=2.0, mode='bilinear')\n",
       "    (conv): DoubleConv(\n",
       "      (double_conv): Sequential(\n",
       "        (0): Conv2d(64, 32, kernel_size=(3, 3), stride=(1, 1), padding=(1, 1))\n",
       "        (1): BatchNorm2d(32, eps=1e-05, momentum=0.1, affine=True, track_running_stats=True)\n",
       "        (2): ReLU(inplace=True)\n",
       "        (3): Conv2d(32, 16, kernel_size=(3, 3), stride=(1, 1), padding=(1, 1))\n",
       "        (4): BatchNorm2d(16, eps=1e-05, momentum=0.1, affine=True, track_running_stats=True)\n",
       "        (5): ReLU(inplace=True)\n",
       "      )\n",
       "    )\n",
       "  )\n",
       "  (outc): OutConv(\n",
       "    (conv): Conv2d(32, 1, kernel_size=(1, 1), stride=(1, 1))\n",
       "  )\n",
       "  (pos): PositionEmbeddingLearned(\n",
       "    (row_embed): Embedding(32, 32)\n",
       "    (col_embed): Embedding(32, 32)\n",
       "  )\n",
       "  (pam): PAM_Module(\n",
       "    (query_conv): Conv2d(64, 8, kernel_size=(1, 1), stride=(1, 1))\n",
       "    (key_conv): Conv2d(64, 8, kernel_size=(1, 1), stride=(1, 1))\n",
       "    (value_conv): Conv2d(64, 64, kernel_size=(1, 1), stride=(1, 1))\n",
       "    (softmax): Softmax(dim=-1)\n",
       "  )\n",
       "  (sdpa): ScaledDotProductAttention(\n",
       "    (dropout): Dropout(p=0.1, inplace=False)\n",
       "  )\n",
       ")"
      ]
     },
     "execution_count": 17,
     "metadata": {},
     "output_type": "execute_result"
    }
   ],
   "source": [
    "model"
   ]
  },
  {
   "cell_type": "code",
   "execution_count": 18,
   "id": "f32f9650",
   "metadata": {},
   "outputs": [],
   "source": [
    "epochs = 200"
   ]
  },
  {
   "cell_type": "code",
   "execution_count": 19,
   "id": "22db87f8",
   "metadata": {},
   "outputs": [
    {
     "data": {
      "text/plain": [
       "UNet_Attention_Transformer_Multiscale(\n",
       "  (inc): DoubleConv(\n",
       "    (double_conv): Sequential(\n",
       "      (0): Conv2d(1, 16, kernel_size=(3, 3), stride=(1, 1), padding=(1, 1))\n",
       "      (1): BatchNorm2d(16, eps=1e-05, momentum=0.1, affine=True, track_running_stats=True)\n",
       "      (2): ReLU(inplace=True)\n",
       "      (3): Conv2d(16, 16, kernel_size=(3, 3), stride=(1, 1), padding=(1, 1))\n",
       "      (4): BatchNorm2d(16, eps=1e-05, momentum=0.1, affine=True, track_running_stats=True)\n",
       "      (5): ReLU(inplace=True)\n",
       "    )\n",
       "  )\n",
       "  (down1): Down(\n",
       "    (maxpool_conv): Sequential(\n",
       "      (0): MaxPool2d(kernel_size=2, stride=2, padding=0, dilation=1, ceil_mode=False)\n",
       "      (1): DoubleConv(\n",
       "        (double_conv): Sequential(\n",
       "          (0): Conv2d(16, 32, kernel_size=(3, 3), stride=(1, 1), padding=(1, 1))\n",
       "          (1): BatchNorm2d(32, eps=1e-05, momentum=0.1, affine=True, track_running_stats=True)\n",
       "          (2): ReLU(inplace=True)\n",
       "          (3): Conv2d(32, 32, kernel_size=(3, 3), stride=(1, 1), padding=(1, 1))\n",
       "          (4): BatchNorm2d(32, eps=1e-05, momentum=0.1, affine=True, track_running_stats=True)\n",
       "          (5): ReLU(inplace=True)\n",
       "        )\n",
       "      )\n",
       "    )\n",
       "  )\n",
       "  (down2): Down(\n",
       "    (maxpool_conv): Sequential(\n",
       "      (0): MaxPool2d(kernel_size=2, stride=2, padding=0, dilation=1, ceil_mode=False)\n",
       "      (1): DoubleConv(\n",
       "        (double_conv): Sequential(\n",
       "          (0): Conv2d(32, 64, kernel_size=(3, 3), stride=(1, 1), padding=(1, 1))\n",
       "          (1): BatchNorm2d(64, eps=1e-05, momentum=0.1, affine=True, track_running_stats=True)\n",
       "          (2): ReLU(inplace=True)\n",
       "          (3): Conv2d(64, 64, kernel_size=(3, 3), stride=(1, 1), padding=(1, 1))\n",
       "          (4): BatchNorm2d(64, eps=1e-05, momentum=0.1, affine=True, track_running_stats=True)\n",
       "          (5): ReLU(inplace=True)\n",
       "        )\n",
       "      )\n",
       "    )\n",
       "  )\n",
       "  (down3): Down(\n",
       "    (maxpool_conv): Sequential(\n",
       "      (0): MaxPool2d(kernel_size=2, stride=2, padding=0, dilation=1, ceil_mode=False)\n",
       "      (1): DoubleConv(\n",
       "        (double_conv): Sequential(\n",
       "          (0): Conv2d(64, 64, kernel_size=(3, 3), stride=(1, 1), padding=(1, 1))\n",
       "          (1): BatchNorm2d(64, eps=1e-05, momentum=0.1, affine=True, track_running_stats=True)\n",
       "          (2): ReLU(inplace=True)\n",
       "          (3): Conv2d(64, 64, kernel_size=(3, 3), stride=(1, 1), padding=(1, 1))\n",
       "          (4): BatchNorm2d(64, eps=1e-05, momentum=0.1, affine=True, track_running_stats=True)\n",
       "          (5): ReLU(inplace=True)\n",
       "        )\n",
       "      )\n",
       "    )\n",
       "  )\n",
       "  (up1): Up(\n",
       "    (up): Upsample(scale_factor=2.0, mode='bilinear')\n",
       "    (conv): DoubleConv(\n",
       "      (double_conv): Sequential(\n",
       "        (0): Conv2d(128, 64, kernel_size=(3, 3), stride=(1, 1), padding=(1, 1))\n",
       "        (1): BatchNorm2d(64, eps=1e-05, momentum=0.1, affine=True, track_running_stats=True)\n",
       "        (2): ReLU(inplace=True)\n",
       "        (3): Conv2d(64, 32, kernel_size=(3, 3), stride=(1, 1), padding=(1, 1))\n",
       "        (4): BatchNorm2d(32, eps=1e-05, momentum=0.1, affine=True, track_running_stats=True)\n",
       "        (5): ReLU(inplace=True)\n",
       "      )\n",
       "    )\n",
       "  )\n",
       "  (up2): Up(\n",
       "    (up): Upsample(scale_factor=2.0, mode='bilinear')\n",
       "    (conv): DoubleConv(\n",
       "      (double_conv): Sequential(\n",
       "        (0): Conv2d(128, 64, kernel_size=(3, 3), stride=(1, 1), padding=(1, 1))\n",
       "        (1): BatchNorm2d(64, eps=1e-05, momentum=0.1, affine=True, track_running_stats=True)\n",
       "        (2): ReLU(inplace=True)\n",
       "        (3): Conv2d(64, 16, kernel_size=(3, 3), stride=(1, 1), padding=(1, 1))\n",
       "        (4): BatchNorm2d(16, eps=1e-05, momentum=0.1, affine=True, track_running_stats=True)\n",
       "        (5): ReLU(inplace=True)\n",
       "      )\n",
       "    )\n",
       "  )\n",
       "  (up3): Up(\n",
       "    (up): Upsample(scale_factor=2.0, mode='bilinear')\n",
       "    (conv): DoubleConv(\n",
       "      (double_conv): Sequential(\n",
       "        (0): Conv2d(64, 32, kernel_size=(3, 3), stride=(1, 1), padding=(1, 1))\n",
       "        (1): BatchNorm2d(32, eps=1e-05, momentum=0.1, affine=True, track_running_stats=True)\n",
       "        (2): ReLU(inplace=True)\n",
       "        (3): Conv2d(32, 16, kernel_size=(3, 3), stride=(1, 1), padding=(1, 1))\n",
       "        (4): BatchNorm2d(16, eps=1e-05, momentum=0.1, affine=True, track_running_stats=True)\n",
       "        (5): ReLU(inplace=True)\n",
       "      )\n",
       "    )\n",
       "  )\n",
       "  (outc): OutConv(\n",
       "    (conv): Conv2d(32, 1, kernel_size=(1, 1), stride=(1, 1))\n",
       "  )\n",
       "  (pos): PositionEmbeddingLearned(\n",
       "    (row_embed): Embedding(32, 32)\n",
       "    (col_embed): Embedding(32, 32)\n",
       "  )\n",
       "  (pam): PAM_Module(\n",
       "    (query_conv): Conv2d(64, 8, kernel_size=(1, 1), stride=(1, 1))\n",
       "    (key_conv): Conv2d(64, 8, kernel_size=(1, 1), stride=(1, 1))\n",
       "    (value_conv): Conv2d(64, 64, kernel_size=(1, 1), stride=(1, 1))\n",
       "    (softmax): Softmax(dim=-1)\n",
       "  )\n",
       "  (sdpa): ScaledDotProductAttention(\n",
       "    (dropout): Dropout(p=0.1, inplace=False)\n",
       "  )\n",
       ")"
      ]
     },
     "execution_count": 19,
     "metadata": {},
     "output_type": "execute_result"
    }
   ],
   "source": [
    "model.to(device)"
   ]
  },
  {
   "cell_type": "code",
   "execution_count": 20,
   "id": "cdc186c0",
   "metadata": {},
   "outputs": [],
   "source": [
    "filename_sd = '/home/rabeea/logs/TransAttUnet_polyp/TransAttUNet_polyp_16_msa512_ly4_lr3.pth'"
   ]
  },
  {
   "cell_type": "code",
   "execution_count": 21,
   "id": "3729a612",
   "metadata": {},
   "outputs": [
    {
     "data": {
      "application/vnd.jupyter.widget-view+json": {
       "model_id": "c17bffbaa95f44cb99e6564eac6776c4",
       "version_major": 2,
       "version_minor": 0
      },
      "text/plain": [
       "  0%|          | 0/700 [00:00<?, ?it/s]"
      ]
     },
     "metadata": {},
     "output_type": "display_data"
    },
    {
     "name": "stdout",
     "output_type": "stream",
     "text": [
      "Dice increasing.. 0.000 >> 0.304 \n",
      "saving model...\n",
      "Epoch 1/200, Train Loss: 0.7620, Train Dice: 0.2380, Val Dice: 0.3041, time: 1.04\n"
     ]
    },
    {
     "data": {
      "application/vnd.jupyter.widget-view+json": {
       "model_id": "cde20691da394eafbefa6c6c21425d5e",
       "version_major": 2,
       "version_minor": 0
      },
      "text/plain": [
       "  0%|          | 0/700 [00:00<?, ?it/s]"
      ]
     },
     "metadata": {},
     "output_type": "display_data"
    },
    {
     "name": "stdout",
     "output_type": "stream",
     "text": [
      "Dice increasing.. 0.304 >> 0.327 \n",
      "saving model...\n",
      "Epoch 2/200, Train Loss: 0.7267, Train Dice: 0.2733, Val Dice: 0.3269, time: 0.92\n"
     ]
    },
    {
     "data": {
      "application/vnd.jupyter.widget-view+json": {
       "model_id": "b071decf4b854323bf2608727896a365",
       "version_major": 2,
       "version_minor": 0
      },
      "text/plain": [
       "  0%|          | 0/700 [00:00<?, ?it/s]"
      ]
     },
     "metadata": {},
     "output_type": "display_data"
    },
    {
     "name": "stdout",
     "output_type": "stream",
     "text": [
      "Dice increasing.. 0.327 >> 0.342 \n",
      "saving model...\n",
      "Epoch 3/200, Train Loss: 0.7076, Train Dice: 0.2924, Val Dice: 0.3423, time: 0.98\n"
     ]
    },
    {
     "data": {
      "application/vnd.jupyter.widget-view+json": {
       "model_id": "7762a82655ae4e78b10b422f9f30905a",
       "version_major": 2,
       "version_minor": 0
      },
      "text/plain": [
       "  0%|          | 0/700 [00:00<?, ?it/s]"
      ]
     },
     "metadata": {},
     "output_type": "display_data"
    },
    {
     "name": "stdout",
     "output_type": "stream",
     "text": [
      "Dice increasing.. 0.342 >> 0.353 \n",
      "saving model...\n",
      "Epoch 4/200, Train Loss: 0.6921, Train Dice: 0.3079, Val Dice: 0.3533, time: 1.04\n"
     ]
    },
    {
     "data": {
      "application/vnd.jupyter.widget-view+json": {
       "model_id": "f6b800abd46b44218817620e0e7a5c96",
       "version_major": 2,
       "version_minor": 0
      },
      "text/plain": [
       "  0%|          | 0/700 [00:00<?, ?it/s]"
      ]
     },
     "metadata": {},
     "output_type": "display_data"
    },
    {
     "name": "stdout",
     "output_type": "stream",
     "text": [
      "Dice increasing.. 0.353 >> 0.357 \n",
      "saving model...\n",
      "Epoch 5/200, Train Loss: 0.6780, Train Dice: 0.3220, Val Dice: 0.3573, time: 0.95\n"
     ]
    },
    {
     "data": {
      "application/vnd.jupyter.widget-view+json": {
       "model_id": "2fb2164953474ba2b833cabf3de212b3",
       "version_major": 2,
       "version_minor": 0
      },
      "text/plain": [
       "  0%|          | 0/700 [00:00<?, ?it/s]"
      ]
     },
     "metadata": {},
     "output_type": "display_data"
    },
    {
     "name": "stdout",
     "output_type": "stream",
     "text": [
      "Dice increasing.. 0.357 >> 0.364 \n",
      "saving model...\n",
      "Epoch 6/200, Train Loss: 0.6650, Train Dice: 0.3350, Val Dice: 0.3638, time: 0.98\n"
     ]
    },
    {
     "data": {
      "application/vnd.jupyter.widget-view+json": {
       "model_id": "a110132b63b84ee8b7adf55c7d089c9c",
       "version_major": 2,
       "version_minor": 0
      },
      "text/plain": [
       "  0%|          | 0/700 [00:00<?, ?it/s]"
      ]
     },
     "metadata": {},
     "output_type": "display_data"
    },
    {
     "name": "stdout",
     "output_type": "stream",
     "text": [
      "Dice increasing.. 0.364 >> 0.369 \n",
      "saving model...\n",
      "Epoch 7/200, Train Loss: 0.6527, Train Dice: 0.3473, Val Dice: 0.3689, time: 1.03\n"
     ]
    },
    {
     "data": {
      "application/vnd.jupyter.widget-view+json": {
       "model_id": "6bb07cfd1dec4e9e80abf97c7196147e",
       "version_major": 2,
       "version_minor": 0
      },
      "text/plain": [
       "  0%|          | 0/700 [00:00<?, ?it/s]"
      ]
     },
     "metadata": {},
     "output_type": "display_data"
    },
    {
     "name": "stdout",
     "output_type": "stream",
     "text": [
      "Dice increasing.. 0.369 >> 0.374 \n",
      "saving model...\n",
      "Epoch 8/200, Train Loss: 0.6405, Train Dice: 0.3595, Val Dice: 0.3735, time: 0.97\n"
     ]
    },
    {
     "data": {
      "application/vnd.jupyter.widget-view+json": {
       "model_id": "4df77d78b7d3407db7bfd89b03ec83be",
       "version_major": 2,
       "version_minor": 0
      },
      "text/plain": [
       "  0%|          | 0/700 [00:00<?, ?it/s]"
      ]
     },
     "metadata": {},
     "output_type": "display_data"
    },
    {
     "name": "stdout",
     "output_type": "stream",
     "text": [
      "Dice increasing.. 0.374 >> 0.380 \n",
      "saving model...\n",
      "Epoch 9/200, Train Loss: 0.6283, Train Dice: 0.3717, Val Dice: 0.3802, time: 0.96\n"
     ]
    },
    {
     "data": {
      "application/vnd.jupyter.widget-view+json": {
       "model_id": "4892f30e8f4b487e976a68edde3ba1d1",
       "version_major": 2,
       "version_minor": 0
      },
      "text/plain": [
       "  0%|          | 0/700 [00:00<?, ?it/s]"
      ]
     },
     "metadata": {},
     "output_type": "display_data"
    },
    {
     "name": "stdout",
     "output_type": "stream",
     "text": [
      "Dice increasing.. 0.380 >> 0.384 \n",
      "saving model...\n",
      "Epoch 10/200, Train Loss: 0.6163, Train Dice: 0.3837, Val Dice: 0.3840, time: 1.02\n"
     ]
    },
    {
     "data": {
      "application/vnd.jupyter.widget-view+json": {
       "model_id": "4bb58ac8108e4fbe958f783d017f77a5",
       "version_major": 2,
       "version_minor": 0
      },
      "text/plain": [
       "  0%|          | 0/700 [00:00<?, ?it/s]"
      ]
     },
     "metadata": {},
     "output_type": "display_data"
    },
    {
     "name": "stdout",
     "output_type": "stream",
     "text": [
      "Dice increasing.. 0.384 >> 0.391 \n",
      "saving model...\n",
      "Epoch 11/200, Train Loss: 0.6040, Train Dice: 0.3960, Val Dice: 0.3910, time: 0.96\n"
     ]
    },
    {
     "data": {
      "application/vnd.jupyter.widget-view+json": {
       "model_id": "85ff6a9ac9344a4ea40cdedbccdc29e3",
       "version_major": 2,
       "version_minor": 0
      },
      "text/plain": [
       "  0%|          | 0/700 [00:00<?, ?it/s]"
      ]
     },
     "metadata": {},
     "output_type": "display_data"
    },
    {
     "name": "stdout",
     "output_type": "stream",
     "text": [
      "Dice increasing.. 0.391 >> 0.398 \n",
      "saving model...\n",
      "Epoch 12/200, Train Loss: 0.5916, Train Dice: 0.4084, Val Dice: 0.3980, time: 0.97\n"
     ]
    },
    {
     "data": {
      "application/vnd.jupyter.widget-view+json": {
       "model_id": "945729f8d85c433bab50e5c8e4ea455a",
       "version_major": 2,
       "version_minor": 0
      },
      "text/plain": [
       "  0%|          | 0/700 [00:00<?, ?it/s]"
      ]
     },
     "metadata": {},
     "output_type": "display_data"
    },
    {
     "name": "stdout",
     "output_type": "stream",
     "text": [
      "Dice increasing.. 0.398 >> 0.405 \n",
      "saving model...\n",
      "Epoch 13/200, Train Loss: 0.5790, Train Dice: 0.4210, Val Dice: 0.4047, time: 0.95\n"
     ]
    },
    {
     "data": {
      "application/vnd.jupyter.widget-view+json": {
       "model_id": "69bac64efad4463498578843df924aeb",
       "version_major": 2,
       "version_minor": 0
      },
      "text/plain": [
       "  0%|          | 0/700 [00:00<?, ?it/s]"
      ]
     },
     "metadata": {},
     "output_type": "display_data"
    },
    {
     "name": "stdout",
     "output_type": "stream",
     "text": [
      "Dice increasing.. 0.405 >> 0.413 \n",
      "saving model...\n",
      "Epoch 14/200, Train Loss: 0.5666, Train Dice: 0.4334, Val Dice: 0.4131, time: 0.98\n"
     ]
    },
    {
     "data": {
      "application/vnd.jupyter.widget-view+json": {
       "model_id": "379cf6b8ee6e4cbd8c8a1d296dea5eed",
       "version_major": 2,
       "version_minor": 0
      },
      "text/plain": [
       "  0%|          | 0/700 [00:00<?, ?it/s]"
      ]
     },
     "metadata": {},
     "output_type": "display_data"
    },
    {
     "name": "stdout",
     "output_type": "stream",
     "text": [
      "Dice increasing.. 0.413 >> 0.418 \n",
      "saving model...\n",
      "Epoch 15/200, Train Loss: 0.5539, Train Dice: 0.4461, Val Dice: 0.4176, time: 0.98\n"
     ]
    },
    {
     "data": {
      "application/vnd.jupyter.widget-view+json": {
       "model_id": "79d30e59429c426f8d369993eb2d67c7",
       "version_major": 2,
       "version_minor": 0
      },
      "text/plain": [
       "  0%|          | 0/700 [00:00<?, ?it/s]"
      ]
     },
     "metadata": {},
     "output_type": "display_data"
    },
    {
     "name": "stdout",
     "output_type": "stream",
     "text": [
      "Dice increasing.. 0.418 >> 0.424 \n",
      "saving model...\n",
      "Epoch 16/200, Train Loss: 0.5414, Train Dice: 0.4586, Val Dice: 0.4237, time: 0.92\n"
     ]
    },
    {
     "data": {
      "application/vnd.jupyter.widget-view+json": {
       "model_id": "3d422c9f143444fdaa11cb719fac909e",
       "version_major": 2,
       "version_minor": 0
      },
      "text/plain": [
       "  0%|          | 0/700 [00:00<?, ?it/s]"
      ]
     },
     "metadata": {},
     "output_type": "display_data"
    },
    {
     "name": "stdout",
     "output_type": "stream",
     "text": [
      "Dice increasing.. 0.424 >> 0.435 \n",
      "saving model...\n",
      "Epoch 17/200, Train Loss: 0.5287, Train Dice: 0.4713, Val Dice: 0.4348, time: 0.95\n"
     ]
    },
    {
     "data": {
      "application/vnd.jupyter.widget-view+json": {
       "model_id": "2ba1801fcccf4feeb0bdb12c2d4fc7f6",
       "version_major": 2,
       "version_minor": 0
      },
      "text/plain": [
       "  0%|          | 0/700 [00:00<?, ?it/s]"
      ]
     },
     "metadata": {},
     "output_type": "display_data"
    },
    {
     "name": "stdout",
     "output_type": "stream",
     "text": [
      "Dice increasing.. 0.435 >> 0.441 \n",
      "saving model...\n",
      "Epoch 18/200, Train Loss: 0.5169, Train Dice: 0.4831, Val Dice: 0.4414, time: 1.12\n"
     ]
    },
    {
     "data": {
      "application/vnd.jupyter.widget-view+json": {
       "model_id": "cf6f579cc49e4b80843c5a946ec4df5d",
       "version_major": 2,
       "version_minor": 0
      },
      "text/plain": [
       "  0%|          | 0/700 [00:00<?, ?it/s]"
      ]
     },
     "metadata": {},
     "output_type": "display_data"
    },
    {
     "name": "stdout",
     "output_type": "stream",
     "text": [
      "Dice increasing.. 0.441 >> 0.447 \n",
      "saving model...\n",
      "Epoch 19/200, Train Loss: 0.5051, Train Dice: 0.4949, Val Dice: 0.4467, time: 1.09\n"
     ]
    },
    {
     "data": {
      "application/vnd.jupyter.widget-view+json": {
       "model_id": "9ad5e14656fa429593daec5f84dbcdbe",
       "version_major": 2,
       "version_minor": 0
      },
      "text/plain": [
       "  0%|          | 0/700 [00:00<?, ?it/s]"
      ]
     },
     "metadata": {},
     "output_type": "display_data"
    },
    {
     "name": "stdout",
     "output_type": "stream",
     "text": [
      "Dice increasing.. 0.447 >> 0.447 \n",
      "saving model...\n",
      "Epoch 20/200, Train Loss: 0.4936, Train Dice: 0.5064, Val Dice: 0.4468, time: 0.96\n"
     ]
    },
    {
     "data": {
      "application/vnd.jupyter.widget-view+json": {
       "model_id": "ee7f34a6653b48a2b76959c9d6eb1e7d",
       "version_major": 2,
       "version_minor": 0
      },
      "text/plain": [
       "  0%|          | 0/700 [00:00<?, ?it/s]"
      ]
     },
     "metadata": {},
     "output_type": "display_data"
    },
    {
     "name": "stdout",
     "output_type": "stream",
     "text": [
      "Dice increasing.. 0.447 >> 0.447 \n",
      "saving model...\n",
      "Epoch 21/200, Train Loss: 0.4835, Train Dice: 0.5165, Val Dice: 0.4472, time: 1.10\n"
     ]
    },
    {
     "data": {
      "application/vnd.jupyter.widget-view+json": {
       "model_id": "0fa066d603c34d1bbcf767db6f632af7",
       "version_major": 2,
       "version_minor": 0
      },
      "text/plain": [
       "  0%|          | 0/700 [00:00<?, ?it/s]"
      ]
     },
     "metadata": {},
     "output_type": "display_data"
    },
    {
     "name": "stdout",
     "output_type": "stream",
     "text": [
      "Epoch 22/200, Train Loss: 0.4734, Train Dice: 0.5266, Val Dice: 0.4436, time: 0.90\n"
     ]
    },
    {
     "data": {
      "application/vnd.jupyter.widget-view+json": {
       "model_id": "4f2d341e1d654eddb52ecc6003fb67f2",
       "version_major": 2,
       "version_minor": 0
      },
      "text/plain": [
       "  0%|          | 0/700 [00:00<?, ?it/s]"
      ]
     },
     "metadata": {},
     "output_type": "display_data"
    },
    {
     "name": "stderr",
     "output_type": "stream",
     "text": [
      "IOPub message rate exceeded.\n",
      "The notebook server will temporarily stop sending output\n",
      "to the client in order to avoid crashing it.\n",
      "To change this limit, set the config variable\n",
      "`--NotebookApp.iopub_msg_rate_limit`.\n",
      "\n",
      "Current values:\n",
      "NotebookApp.iopub_msg_rate_limit=1000.0 (msgs/sec)\n",
      "NotebookApp.rate_limit_window=3.0 (secs)\n",
      "\n"
     ]
    },
    {
     "name": "stdout",
     "output_type": "stream",
     "text": [
      "Epoch 32/200, Train Loss: 0.3807, Train Dice: 0.6193, Val Dice: 0.4571, time: 0.91\n"
     ]
    },
    {
     "data": {
      "application/vnd.jupyter.widget-view+json": {
       "model_id": "81b1d1ac1fa34454a497fd0a0a60b1a9",
       "version_major": 2,
       "version_minor": 0
      },
      "text/plain": [
       "  0%|          | 0/700 [00:00<?, ?it/s]"
      ]
     },
     "metadata": {},
     "output_type": "display_data"
    },
    {
     "name": "stdout",
     "output_type": "stream",
     "text": [
      "Epoch 33/200, Train Loss: 0.3709, Train Dice: 0.6291, Val Dice: 0.4326, time: 0.95\n"
     ]
    },
    {
     "data": {
      "application/vnd.jupyter.widget-view+json": {
       "model_id": "131deaeb7e254fd3869afa8aa7ca3985",
       "version_major": 2,
       "version_minor": 0
      },
      "text/plain": [
       "  0%|          | 0/700 [00:00<?, ?it/s]"
      ]
     },
     "metadata": {},
     "output_type": "display_data"
    },
    {
     "name": "stdout",
     "output_type": "stream",
     "text": [
      "Epoch 34/200, Train Loss: 0.3653, Train Dice: 0.6347, Val Dice: 0.4444, time: 0.94\n"
     ]
    },
    {
     "data": {
      "application/vnd.jupyter.widget-view+json": {
       "model_id": "572a8f310d134fc1834c87fb236be2e9",
       "version_major": 2,
       "version_minor": 0
      },
      "text/plain": [
       "  0%|          | 0/700 [00:00<?, ?it/s]"
      ]
     },
     "metadata": {},
     "output_type": "display_data"
    },
    {
     "name": "stderr",
     "output_type": "stream",
     "text": [
      "IOPub message rate exceeded.\n",
      "The notebook server will temporarily stop sending output\n",
      "to the client in order to avoid crashing it.\n",
      "To change this limit, set the config variable\n",
      "`--NotebookApp.iopub_msg_rate_limit`.\n",
      "\n",
      "Current values:\n",
      "NotebookApp.iopub_msg_rate_limit=1000.0 (msgs/sec)\n",
      "NotebookApp.rate_limit_window=3.0 (secs)\n",
      "\n"
     ]
    },
    {
     "name": "stdout",
     "output_type": "stream",
     "text": [
      "Epoch 37/200, Train Loss: 0.3396, Train Dice: 0.6604, Val Dice: 0.4164, time: 0.91\n"
     ]
    },
    {
     "data": {
      "application/vnd.jupyter.widget-view+json": {
       "model_id": "b4ac3e6fe60e46b7ba71c4ca43d23019",
       "version_major": 2,
       "version_minor": 0
      },
      "text/plain": [
       "  0%|          | 0/700 [00:00<?, ?it/s]"
      ]
     },
     "metadata": {},
     "output_type": "display_data"
    },
    {
     "name": "stderr",
     "output_type": "stream",
     "text": [
      "IOPub message rate exceeded.\n",
      "The notebook server will temporarily stop sending output\n",
      "to the client in order to avoid crashing it.\n",
      "To change this limit, set the config variable\n",
      "`--NotebookApp.iopub_msg_rate_limit`.\n",
      "\n",
      "Current values:\n",
      "NotebookApp.iopub_msg_rate_limit=1000.0 (msgs/sec)\n",
      "NotebookApp.rate_limit_window=3.0 (secs)\n",
      "\n"
     ]
    },
    {
     "name": "stdout",
     "output_type": "stream",
     "text": [
      "Epoch 48/200, Train Loss: 0.2559, Train Dice: 0.7441, Val Dice: 0.3654, time: 0.84\n"
     ]
    },
    {
     "data": {
      "application/vnd.jupyter.widget-view+json": {
       "model_id": "91523aabb32a4a9286e98888e745e853",
       "version_major": 2,
       "version_minor": 0
      },
      "text/plain": [
       "  0%|          | 0/700 [00:00<?, ?it/s]"
      ]
     },
     "metadata": {},
     "output_type": "display_data"
    },
    {
     "name": "stdout",
     "output_type": "stream",
     "text": [
      "Epoch 49/200, Train Loss: 0.2511, Train Dice: 0.7489, Val Dice: 0.3498, time: 0.85\n"
     ]
    },
    {
     "data": {
      "application/vnd.jupyter.widget-view+json": {
       "model_id": "133378020c944689962b97b3dba6d152",
       "version_major": 2,
       "version_minor": 0
      },
      "text/plain": [
       "  0%|          | 0/700 [00:00<?, ?it/s]"
      ]
     },
     "metadata": {},
     "output_type": "display_data"
    },
    {
     "name": "stderr",
     "output_type": "stream",
     "text": [
      "IOPub message rate exceeded.\n",
      "The notebook server will temporarily stop sending output\n",
      "to the client in order to avoid crashing it.\n",
      "To change this limit, set the config variable\n",
      "`--NotebookApp.iopub_msg_rate_limit`.\n",
      "\n",
      "Current values:\n",
      "NotebookApp.iopub_msg_rate_limit=1000.0 (msgs/sec)\n",
      "NotebookApp.rate_limit_window=3.0 (secs)\n",
      "\n"
     ]
    },
    {
     "name": "stdout",
     "output_type": "stream",
     "text": [
      "Epoch 52/200, Train Loss: 0.2325, Train Dice: 0.7675, Val Dice: 0.4048, time: 0.87\n"
     ]
    },
    {
     "data": {
      "application/vnd.jupyter.widget-view+json": {
       "model_id": "296ec0e95ca3470798fdce0f009fefce",
       "version_major": 2,
       "version_minor": 0
      },
      "text/plain": [
       "  0%|          | 0/700 [00:00<?, ?it/s]"
      ]
     },
     "metadata": {},
     "output_type": "display_data"
    },
    {
     "name": "stderr",
     "output_type": "stream",
     "text": [
      "IOPub message rate exceeded.\n",
      "The notebook server will temporarily stop sending output\n",
      "to the client in order to avoid crashing it.\n",
      "To change this limit, set the config variable\n",
      "`--NotebookApp.iopub_msg_rate_limit`.\n",
      "\n",
      "Current values:\n",
      "NotebookApp.iopub_msg_rate_limit=1000.0 (msgs/sec)\n",
      "NotebookApp.rate_limit_window=3.0 (secs)\n",
      "\n"
     ]
    }
   ],
   "source": [
    "optimizer = optim.SGD(model.parameters(), lr=1e-3)#, momentum=0.9)\n",
    "torch.cuda.empty_cache()\n",
    "max_dice = 0\n",
    "train_losses = []\n",
    "test_losses = []\n",
    "train_dices = []\n",
    "val_dices = []\n",
    "decrease = 1  \n",
    "fit_time = time.time()\n",
    "not_improve=0\n",
    "for epoch in range(epochs):\n",
    "    # Your dataset or data loading logic goes here\n",
    "    since = time.time()\n",
    "    # Training\n",
    "    model.train()\n",
    "    train_loss = 0\n",
    "    train_dice = 0\n",
    "    num_batches = 0\n",
    "    \n",
    "    for i,data in enumerate(tqdm(train_loader)):  # Replace train_loader with your data loader\n",
    "        inputs, labels = data\n",
    "        # Forward pass\n",
    "        inputs = inputs.to(device)\n",
    "        labels = labels.to(device)\n",
    "        outputs = model(inputs)\n",
    "        # Calculate loss\n",
    "        loss = dice_loss(outputs, labels)\n",
    "        \n",
    "        # Backpropagation and optimization\n",
    "        optimizer.zero_grad()\n",
    "        loss.backward()\n",
    "        optimizer.step()\n",
    "        \n",
    "        train_loss += loss.item()\n",
    "        train_dice += dice_coeff(outputs, labels).item()\n",
    "        num_batches += 1\n",
    "    \n",
    "    train_loss /= num_batches\n",
    "    train_dice /= num_batches\n",
    "    \n",
    "    # Validation\n",
    "    model.eval()\n",
    "    val_dice = 0.0\n",
    "    test_loss = 0.0\n",
    "    with torch.no_grad():\n",
    "        for val_inputs, val_targets in val_loader:\n",
    "            val_inputs = val_inputs.to(device)\n",
    "            val_targets = val_targets.to(device)\n",
    "            val_outputs = model(val_inputs)\n",
    "            val_dice += dice_coeff(val_outputs,val_targets).item()\n",
    "            test_loss += dice_loss(val_outputs,val_targets).item()\n",
    "            \n",
    "    val_dice /= len(val_loader)\n",
    "    test_loss /= len(val_loader)\n",
    "    # Perform validation and calculate validation loss and dice coefficient\n",
    "    train_losses.append(train_loss)\n",
    "    test_losses.append(test_loss)\n",
    "    train_dices.append(train_dice)\n",
    "    val_dices.append(val_dice)\n",
    "    if max_dice < val_dice:\n",
    "        print('Dice increasing.. {:.3f} >> {:.3f} '.format(max_dice, val_dice))\n",
    "        max_dice = val_dice\n",
    "        decrease += 1\n",
    "        not_improve = 0\n",
    "        #if decrease % 5 == 0:\n",
    "        print('saving model...')\n",
    "        #torch.save(model, 'TransAttUNetSkip-{:.3f}.pt'.format(val_dice))\n",
    "        torch.save(model.state_dict(),filename_sd )\n",
    "    if max_dice > val_dice:\n",
    "        not_improve += 1\n",
    "#         min_loss = test_loss\n",
    "#         print(f'Loss Not Decrease for {not_improve} time')\n",
    "        if not_improve == 30:\n",
    "            print('Loss hasnt decreased for 30 epochs, Stopping Training')\n",
    "            break\n",
    "    \n",
    "    # Print the metrics+\n",
    "    print(f\"Epoch {epoch+1}/{epochs}, Train Loss: {train_loss:.4f}, Train Dice: {train_dice:.4f}, Val Dice: {val_dice:.4f}, time: {((time.time() - since)/60):.2f}\")\n",
    "\n",
    "    "
   ]
  },
  {
   "cell_type": "code",
   "execution_count": 22,
   "id": "b3500af1",
   "metadata": {},
   "outputs": [
    {
     "data": {
      "text/plain": [
       "<All keys matched successfully>"
      ]
     },
     "execution_count": 22,
     "metadata": {},
     "output_type": "execute_result"
    }
   ],
   "source": [
    "model.load_state_dict(torch.load(filename_sd))"
   ]
  },
  {
   "cell_type": "code",
   "execution_count": 23,
   "id": "ad93be38",
   "metadata": {},
   "outputs": [],
   "source": [
    "history = {'train_loss' : train_losses, 'val_loss': test_losses,\n",
    "           'train_dice' :train_dices, 'val_dice':val_dices}"
   ]
  },
  {
   "cell_type": "code",
   "execution_count": 24,
   "id": "865a5ad1",
   "metadata": {},
   "outputs": [
    {
     "name": "stdout",
     "output_type": "stream",
     "text": [
      "max training dice:  0.7994421543713127\n",
      "max validation dice:  0.47198633282678204\n"
     ]
    }
   ],
   "source": [
    "print('max training dice: ',max(train_dices))\n",
    "print('max validation dice: ',max(val_dices))"
   ]
  },
  {
   "cell_type": "code",
   "execution_count": 25,
   "id": "af74714b",
   "metadata": {},
   "outputs": [
    {
     "data": {
      "image/png": "[encoded data removed]",
      "text/plain": [
       "<Figure size 640x480 with 1 Axes>"
      ]
     },
     "metadata": {},
     "output_type": "display_data"
    }
   ],
   "source": [
    "#plot the training and validation IoU and loss at each epoch\n",
    "loss = history['train_loss']\n",
    "val_loss = history['val_loss']\n",
    "epochs = range(1, len(loss) + 1)\n",
    "plt.plot(epochs, loss, 'y', label='Training loss')\n",
    "plt.plot(epochs, val_loss, 'r', label='Validation loss')\n",
    "plt.title('Training and validation loss')\n",
    "plt.xlabel('Epochs')\n",
    "plt.ylabel('Loss')\n",
    "plt.legend()\n",
    "plt.show()"
   ]
  },
  {
   "cell_type": "code",
   "execution_count": 26,
   "id": "6cd4dc96",
   "metadata": {},
   "outputs": [
    {
     "data": {
      "image/png": "[encoded data removed]",
      "text/plain": [
       "<Figure size 640x480 with 1 Axes>"
      ]
     },
     "metadata": {},
     "output_type": "display_data"
    }
   ],
   "source": [
    "#plot the training and validation IoU and loss at each epoch\n",
    "loss = history['train_dice']\n",
    "val_loss = history['val_dice']\n",
    "epochs = range(1, len(loss) + 1)\n",
    "plt.plot(epochs, loss, 'y', label='Training dice')\n",
    "plt.plot(epochs, val_loss, 'r', label='Validation dice')\n",
    "plt.title('Training and validation dice')\n",
    "plt.xlabel('Epochs')\n",
    "plt.ylabel('Dice')\n",
    "plt.legend()\n",
    "plt.show()"
   ]
  },
  {
   "cell_type": "code",
   "execution_count": 27,
   "id": "2af4e7eb",
   "metadata": {},
   "outputs": [
    {
     "data": {
      "application/vnd.jupyter.widget-view+json": {
       "model_id": "391bc9c7f1724a28a043762a836ba5fe",
       "version_major": 2,
       "version_minor": 0
      },
      "text/plain": [
       "  0%|          | 0/200 [00:00<?, ?it/s]"
      ]
     },
     "metadata": {},
     "output_type": "display_data"
    },
    {
     "ename": "RuntimeError",
     "evalue": "CUDA error: an illegal memory access was encountered\nCUDA kernel errors might be asynchronously reported at some other API call, so the stacktrace below might be incorrect.\nFor debugging consider passing CUDA_LAUNCH_BLOCKING=1.\nCompile with `TORCH_USE_CUDA_DSA` to enable device-side assertions.\n",
     "output_type": "error",
     "traceback": [
      "\u001b[0;31m---------------------------------------------------------------------------\u001b[0m",
      "\u001b[0;31mRuntimeError\u001b[0m                              Traceback (most recent call last)",
      "Cell \u001b[0;32mIn[27], line 42\u001b[0m\n\u001b[1;32m     40\u001b[0m         test_dice05\u001b[38;5;241m.\u001b[39mappend(dice_coeff(test_outputs,val_targets)\u001b[38;5;241m.\u001b[39mitem())\n\u001b[1;32m     41\u001b[0m         test_outputs \u001b[38;5;241m=\u001b[39m torch\u001b[38;5;241m.\u001b[39mwhere(val_outputs\u001b[38;5;241m>\u001b[39m\u001b[38;5;241m0.01\u001b[39m,torch\u001b[38;5;241m.\u001b[39mtensor(\u001b[38;5;241m1\u001b[39m),torch\u001b[38;5;241m.\u001b[39mtensor(\u001b[38;5;241m0\u001b[39m))\n\u001b[0;32m---> 42\u001b[0m         test_dice01\u001b[38;5;241m.\u001b[39mappend(\u001b[43mdice_coeff\u001b[49m\u001b[43m(\u001b[49m\u001b[43mtest_outputs\u001b[49m\u001b[43m,\u001b[49m\u001b[43mval_targets\u001b[49m\u001b[43m)\u001b[49m\u001b[38;5;241m.\u001b[39mitem())\n\u001b[1;32m     45\u001b[0m \u001b[38;5;28mprint\u001b[39m(\u001b[38;5;124m'\u001b[39m\u001b[38;5;124mTest dice at 0.9: \u001b[39m\u001b[38;5;124m'\u001b[39m,np\u001b[38;5;241m.\u001b[39mmean(test_dice9))\n\u001b[1;32m     46\u001b[0m \u001b[38;5;28mprint\u001b[39m(\u001b[38;5;124m'\u001b[39m\u001b[38;5;124mTest dice at 0.8: \u001b[39m\u001b[38;5;124m'\u001b[39m,np\u001b[38;5;241m.\u001b[39mmean(test_dice8))\n",
      "Cell \u001b[0;32mIn[6], line 47\u001b[0m, in \u001b[0;36mdice_coeff\u001b[0;34m(pred, target)\u001b[0m\n\u001b[1;32m     45\u001b[0m pred \u001b[38;5;241m=\u001b[39m pred\u001b[38;5;241m.\u001b[39mview(\u001b[38;5;241m-\u001b[39m\u001b[38;5;241m1\u001b[39m)\n\u001b[1;32m     46\u001b[0m target \u001b[38;5;241m=\u001b[39m target\u001b[38;5;241m.\u001b[39mview(\u001b[38;5;241m-\u001b[39m\u001b[38;5;241m1\u001b[39m)\n\u001b[0;32m---> 47\u001b[0m intersection \u001b[38;5;241m=\u001b[39m (\u001b[43mpred\u001b[49m\u001b[43m \u001b[49m\u001b[38;5;241;43m*\u001b[39;49m\u001b[43m \u001b[49m\u001b[43mtarget\u001b[49m)\u001b[38;5;241m.\u001b[39msum()\n\u001b[1;32m     48\u001b[0m union \u001b[38;5;241m=\u001b[39m pred\u001b[38;5;241m.\u001b[39msum() \u001b[38;5;241m+\u001b[39m target\u001b[38;5;241m.\u001b[39msum()\n\u001b[1;32m     49\u001b[0m dice \u001b[38;5;241m=\u001b[39m (\u001b[38;5;241m2.0\u001b[39m \u001b[38;5;241m*\u001b[39m intersection \u001b[38;5;241m+\u001b[39m smooth) \u001b[38;5;241m/\u001b[39m (union \u001b[38;5;241m+\u001b[39m smooth)\n",
      "\u001b[0;31mRuntimeError\u001b[0m: CUDA error: an illegal memory access was encountered\nCUDA kernel errors might be asynchronously reported at some other API call, so the stacktrace below might be incorrect.\nFor debugging consider passing CUDA_LAUNCH_BLOCKING=1.\nCompile with `TORCH_USE_CUDA_DSA` to enable device-side assertions.\n"
     ]
    }
   ],
   "source": [
    "num_batches = 1\n",
    "# Validation\n",
    "model.eval()\n",
    "test_dice9 = []\n",
    "test_dice8 = []\n",
    "test_dice7 = []\n",
    "test_dice6 = []\n",
    "test_dice5 = []\n",
    "test_dice4 = []\n",
    "test_dice3 = []\n",
    "test_dice2 = []\n",
    "test_dice1 = []\n",
    "test_dice05 = []\n",
    "test_dice01 = []\n",
    "with torch.no_grad():\n",
    "    for val_inputs, val_targets in tqdm(test_loader):\n",
    "        val_inputs = val_inputs.to(device)\n",
    "        val_targets = val_targets.to(device)\n",
    "        val_outputs = model(val_inputs)\n",
    "        #print(np.unique(val_outputs))\n",
    "        test_outputs = torch.where(val_outputs>0.9,torch.tensor(1),torch.tensor(0))\n",
    "        test_dice9.append(dice_coeff(test_outputs,val_targets).item())\n",
    "        test_outputs = torch.where(val_outputs>0.8,torch.tensor(1),torch.tensor(0))\n",
    "        test_dice8.append(dice_coeff(test_outputs,val_targets).item())\n",
    "        test_outputs = torch.where(val_outputs>0.7,torch.tensor(1),torch.tensor(0))\n",
    "        test_dice7.append(dice_coeff(test_outputs,val_targets).item())\n",
    "        test_outputs = torch.where(val_outputs>0.6,torch.tensor(1),torch.tensor(0))\n",
    "        test_dice6.append(dice_coeff(test_outputs,val_targets).item())\n",
    "        test_outputs = torch.where(val_outputs>0.5,torch.tensor(1),torch.tensor(0))\n",
    "        test_dice5.append(dice_coeff(test_outputs,val_targets).item())\n",
    "        test_outputs = torch.where(val_outputs>0.4,torch.tensor(1),torch.tensor(0))\n",
    "        test_dice4.append(dice_coeff(test_outputs,val_targets).item())\n",
    "        test_outputs = torch.where(val_outputs>0.3,torch.tensor(1),torch.tensor(0))\n",
    "        test_dice3.append(dice_coeff(test_outputs,val_targets).item())\n",
    "        test_outputs = torch.where(val_outputs>0.2,torch.tensor(1),torch.tensor(0))\n",
    "        test_dice2.append(dice_coeff(test_outputs,val_targets).item())\n",
    "        test_outputs = torch.where(val_outputs>0.1,torch.tensor(1),torch.tensor(0))\n",
    "        test_dice1.append(dice_coeff(test_outputs,val_targets).item())\n",
    "        test_outputs = torch.where(val_outputs>0.05,torch.tensor(1),torch.tensor(0))\n",
    "        test_dice05.append(dice_coeff(test_outputs,val_targets).item())\n",
    "        test_outputs = torch.where(val_outputs>0.01,torch.tensor(1),torch.tensor(0))\n",
    "        test_dice01.append(dice_coeff(test_outputs,val_targets).item())\n",
    "        \n",
    "\n",
    "print('Test dice at 0.9: ',np.mean(test_dice9))\n",
    "print('Test dice at 0.8: ',np.mean(test_dice8))\n",
    "print('Test dice at 0.7: ',np.mean(test_dice7))\n",
    "print('Test dice at 0.6: ',np.mean(test_dice6))\n",
    "print('Test dice at 0.5: ',np.mean(test_dice5))\n",
    "print('Test dice at 0.4: ',np.mean(test_dice4))\n",
    "print('Test dice at 0.3: ',np.mean(test_dice3))\n",
    "print('Test dice at 0.2: ',np.mean(test_dice2))\n",
    "print('Test dice at 0.1: ',np.mean(test_dice1))\n",
    "print('Test dice at 0.05: ',np.mean(test_dice05))\n",
    "print('Test dice at 0.01: ',np.mean(test_dice01))"
   ]
  },
  {
   "cell_type": "markdown",
   "id": "b018d256",
   "metadata": {},
   "source": [
    "# befoe"
   ]
  },
  {
   "cell_type": "code",
   "execution_count": 23,
   "id": "3bc8c5f4",
   "metadata": {},
   "outputs": [
    {
     "data": {
      "text/plain": [
       "<All keys matched successfully>"
      ]
     },
     "execution_count": 23,
     "metadata": {},
     "output_type": "execute_result"
    }
   ],
   "source": [
    "model.load_state_dict(torch.load('/home/rabeea/logs/TransAttUnet_polyp/TransAttUNet_polyp_64_msa512_ly5_lr4.pth'))"
   ]
  },
  {
   "cell_type": "code",
   "execution_count": 24,
   "id": "da870697",
   "metadata": {},
   "outputs": [],
   "source": [
    "history = {'train_loss' : train_losses, 'val_loss': test_losses,\n",
    "           'train_dice' :train_dices, 'val_dice':val_dices}"
   ]
  },
  {
   "cell_type": "code",
   "execution_count": 25,
   "id": "9b0edf5b",
   "metadata": {},
   "outputs": [
    {
     "name": "stdout",
     "output_type": "stream",
     "text": [
      "max training dice:  0.8003643164570843\n",
      "max validation dice:  0.40925629518926143\n"
     ]
    }
   ],
   "source": [
    "print('max training dice: ',max(train_dices))\n",
    "print('max validation dice: ',max(val_dices))"
   ]
  },
  {
   "cell_type": "code",
   "execution_count": 26,
   "id": "8a4d78e6",
   "metadata": {},
   "outputs": [
    {
     "data": {
      "image/png": "[encoded data removed]",
      "text/plain": [
       "<Figure size 640x480 with 1 Axes>"
      ]
     },
     "metadata": {},
     "output_type": "display_data"
    }
   ],
   "source": [
    "#plot the training and validation IoU and loss at each epoch\n",
    "loss = history['train_loss']\n",
    "val_loss = history['val_loss']\n",
    "epochs = range(1, len(loss) + 1)\n",
    "plt.plot(epochs, loss, 'y', label='Training loss')\n",
    "plt.plot(epochs, val_loss, 'r', label='Validation loss')\n",
    "plt.title('Training and validation loss')\n",
    "plt.xlabel('Epochs')\n",
    "plt.ylabel('Loss')\n",
    "plt.legend()\n",
    "plt.show()"
   ]
  },
  {
   "cell_type": "code",
   "execution_count": 27,
   "id": "89d18f05",
   "metadata": {},
   "outputs": [
    {
     "data": {
      "image/png": "[encoded data removed]",
      "text/plain": [
       "<Figure size 640x480 with 1 Axes>"
      ]
     },
     "metadata": {},
     "output_type": "display_data"
    }
   ],
   "source": [
    "#plot the training and validation IoU and loss at each epoch\n",
    "loss = history['train_dice']\n",
    "val_loss = history['val_dice']\n",
    "epochs = range(1, len(loss) + 1)\n",
    "plt.plot(epochs, loss, 'y', label='Training dice')\n",
    "plt.plot(epochs, val_loss, 'r', label='Validation dice')\n",
    "plt.title('Training and validation dice')\n",
    "plt.xlabel('Epochs')\n",
    "plt.ylabel('Dice')\n",
    "plt.legend()\n",
    "plt.show()"
   ]
  },
  {
   "cell_type": "code",
   "execution_count": 28,
   "id": "dc76c05c",
   "metadata": {},
   "outputs": [
    {
     "data": {
      "application/vnd.jupyter.widget-view+json": {
       "model_id": "c0dd0ba77bcb47f3a4f0f602fe2d3526",
       "version_major": 2,
       "version_minor": 0
      },
      "text/plain": [
       "  0%|          | 0/200 [00:00<?, ?it/s]"
      ]
     },
     "metadata": {},
     "output_type": "display_data"
    },
    {
     "name": "stdout",
     "output_type": "stream",
     "text": [
      "Test dice at 0.9:  0.41038559886568693\n",
      "Test dice at 0.8:  0.45092556670771955\n",
      "Test dice at 0.7:  0.4676451614585858\n",
      "Test dice at 0.6:  0.4758389687433555\n",
      "Test dice at 0.5:  0.4780948986087424\n",
      "Test dice at 0.4:  0.4753857777736448\n",
      "Test dice at 0.3:  0.4643426496799111\n",
      "Test dice at 0.2:  0.43615783449706214\n",
      "Test dice at 0.1:  0.3615911497827619\n",
      "Test dice at 0.05:  0.28622339325025675\n",
      "Test dice at 0.01:  0.2645523125771433\n"
     ]
    }
   ],
   "source": [
    "num_batches = 1\n",
    "# Validation\n",
    "model.eval()\n",
    "test_dice9 = []\n",
    "test_dice8 = []\n",
    "test_dice7 = []\n",
    "test_dice6 = []\n",
    "test_dice5 = []\n",
    "test_dice4 = []\n",
    "test_dice3 = []\n",
    "test_dice2 = []\n",
    "test_dice1 = []\n",
    "test_dice05 = []\n",
    "test_dice01 = []\n",
    "with torch.no_grad():\n",
    "    for val_inputs, val_targets in tqdm(test_loader):\n",
    "        val_inputs = val_inputs.to(device)\n",
    "        val_targets = val_targets.to(device)\n",
    "        val_outputs = model(val_inputs)\n",
    "        #print(np.unique(val_outputs))\n",
    "        test_outputs = torch.where(val_outputs>0.9,torch.tensor(1),torch.tensor(0))\n",
    "        test_dice9.append(dice_coeff(test_outputs,val_targets).item())\n",
    "        test_outputs = torch.where(val_outputs>0.8,torch.tensor(1),torch.tensor(0))\n",
    "        test_dice8.append(dice_coeff(test_outputs,val_targets).item())\n",
    "        test_outputs = torch.where(val_outputs>0.7,torch.tensor(1),torch.tensor(0))\n",
    "        test_dice7.append(dice_coeff(test_outputs,val_targets).item())\n",
    "        test_outputs = torch.where(val_outputs>0.6,torch.tensor(1),torch.tensor(0))\n",
    "        test_dice6.append(dice_coeff(test_outputs,val_targets).item())\n",
    "        test_outputs = torch.where(val_outputs>0.5,torch.tensor(1),torch.tensor(0))\n",
    "        test_dice5.append(dice_coeff(test_outputs,val_targets).item())\n",
    "        test_outputs = torch.where(val_outputs>0.4,torch.tensor(1),torch.tensor(0))\n",
    "        test_dice4.append(dice_coeff(test_outputs,val_targets).item())\n",
    "        test_outputs = torch.where(val_outputs>0.3,torch.tensor(1),torch.tensor(0))\n",
    "        test_dice3.append(dice_coeff(test_outputs,val_targets).item())\n",
    "        test_outputs = torch.where(val_outputs>0.2,torch.tensor(1),torch.tensor(0))\n",
    "        test_dice2.append(dice_coeff(test_outputs,val_targets).item())\n",
    "        test_outputs = torch.where(val_outputs>0.1,torch.tensor(1),torch.tensor(0))\n",
    "        test_dice1.append(dice_coeff(test_outputs,val_targets).item())\n",
    "        test_outputs = torch.where(val_outputs>0.05,torch.tensor(1),torch.tensor(0))\n",
    "        test_dice05.append(dice_coeff(test_outputs,val_targets).item())\n",
    "        test_outputs = torch.where(val_outputs>0.01,torch.tensor(1),torch.tensor(0))\n",
    "        test_dice01.append(dice_coeff(test_outputs,val_targets).item())\n",
    "        \n",
    "\n",
    "print('Test dice at 0.9: ',np.mean(test_dice9))\n",
    "print('Test dice at 0.8: ',np.mean(test_dice8))\n",
    "print('Test dice at 0.7: ',np.mean(test_dice7))\n",
    "print('Test dice at 0.6: ',np.mean(test_dice6))\n",
    "print('Test dice at 0.5: ',np.mean(test_dice5))\n",
    "print('Test dice at 0.4: ',np.mean(test_dice4))\n",
    "print('Test dice at 0.3: ',np.mean(test_dice3))\n",
    "print('Test dice at 0.2: ',np.mean(test_dice2))\n",
    "print('Test dice at 0.1: ',np.mean(test_dice1))\n",
    "print('Test dice at 0.05: ',np.mean(test_dice05))\n",
    "print('Test dice at 0.01: ',np.mean(test_dice01))"
   ]
  },
  {
   "cell_type": "code",
   "execution_count": 29,
   "id": "45a8dd0c",
   "metadata": {},
   "outputs": [
    {
     "data": {
      "application/vnd.jupyter.widget-view+json": {
       "model_id": "b5ca494686f94ef9a0443f9b44887a62",
       "version_major": 2,
       "version_minor": 0
      },
      "text/plain": [
       "  0%|          | 0/100 [00:00<?, ?it/s]"
      ]
     },
     "metadata": {},
     "output_type": "display_data"
    },
    {
     "name": "stdout",
     "output_type": "stream",
     "text": [
      "Test dice at 0.9:  0.358090548395885\n",
      "Test dice at 0.8:  0.40188987242250734\n",
      "Test dice at 0.7:  0.4252277700733248\n",
      "Test dice at 0.6:  0.44260397387617556\n",
      "Test dice at 0.5:  0.4602191845681227\n",
      "Test dice at 0.4:  0.47516227434534813\n",
      "Test dice at 0.3:  0.4823036028497154\n",
      "Test dice at 0.2:  0.463520932309184\n",
      "Test dice at 0.1:  0.39183246817439793\n",
      "Test dice at 0.05:  0.31296160697937014\n",
      "Test dice at 0.01:  0.2884260535612702\n"
     ]
    }
   ],
   "source": [
    "num_batches = 1\n",
    "# Validation\n",
    "model.eval()\n",
    "test_dice9 = []\n",
    "test_dice8 = []\n",
    "test_dice7 = []\n",
    "test_dice6 = []\n",
    "test_dice5 = []\n",
    "test_dice4 = []\n",
    "test_dice3 = []\n",
    "test_dice2 = []\n",
    "test_dice1 = []\n",
    "test_dice05 = []\n",
    "test_dice01 = []\n",
    "with torch.no_grad():\n",
    "    for val_inputs, val_targets in tqdm(val_loader):\n",
    "        val_inputs = val_inputs.to(device)\n",
    "        val_targets = val_targets.to(device)\n",
    "        val_outputs = model(val_inputs)\n",
    "        #print(np.unique(val_outputs))\n",
    "        test_outputs = torch.where(val_outputs>0.9,torch.tensor(1),torch.tensor(0))\n",
    "        test_dice9.append(dice_coeff(test_outputs,val_targets).item())\n",
    "        test_outputs = torch.where(val_outputs>0.8,torch.tensor(1),torch.tensor(0))\n",
    "        test_dice8.append(dice_coeff(test_outputs,val_targets).item())\n",
    "        test_outputs = torch.where(val_outputs>0.7,torch.tensor(1),torch.tensor(0))\n",
    "        test_dice7.append(dice_coeff(test_outputs,val_targets).item())\n",
    "        test_outputs = torch.where(val_outputs>0.6,torch.tensor(1),torch.tensor(0))\n",
    "        test_dice6.append(dice_coeff(test_outputs,val_targets).item())\n",
    "        test_outputs = torch.where(val_outputs>0.5,torch.tensor(1),torch.tensor(0))\n",
    "        test_dice5.append(dice_coeff(test_outputs,val_targets).item())\n",
    "        test_outputs = torch.where(val_outputs>0.4,torch.tensor(1),torch.tensor(0))\n",
    "        test_dice4.append(dice_coeff(test_outputs,val_targets).item())\n",
    "        test_outputs = torch.where(val_outputs>0.3,torch.tensor(1),torch.tensor(0))\n",
    "        test_dice3.append(dice_coeff(test_outputs,val_targets).item())\n",
    "        test_outputs = torch.where(val_outputs>0.2,torch.tensor(1),torch.tensor(0))\n",
    "        test_dice2.append(dice_coeff(test_outputs,val_targets).item())\n",
    "        test_outputs = torch.where(val_outputs>0.1,torch.tensor(1),torch.tensor(0))\n",
    "        test_dice1.append(dice_coeff(test_outputs,val_targets).item())\n",
    "        test_outputs = torch.where(val_outputs>0.05,torch.tensor(1),torch.tensor(0))\n",
    "        test_dice05.append(dice_coeff(test_outputs,val_targets).item())\n",
    "        test_outputs = torch.where(val_outputs>0.01,torch.tensor(1),torch.tensor(0))\n",
    "        test_dice01.append(dice_coeff(test_outputs,val_targets).item())\n",
    "        \n",
    "\n",
    "print('Test dice at 0.9: ',np.mean(test_dice9))\n",
    "print('Test dice at 0.8: ',np.mean(test_dice8))\n",
    "print('Test dice at 0.7: ',np.mean(test_dice7))\n",
    "print('Test dice at 0.6: ',np.mean(test_dice6))\n",
    "print('Test dice at 0.5: ',np.mean(test_dice5))\n",
    "print('Test dice at 0.4: ',np.mean(test_dice4))\n",
    "print('Test dice at 0.3: ',np.mean(test_dice3))\n",
    "print('Test dice at 0.2: ',np.mean(test_dice2))\n",
    "print('Test dice at 0.1: ',np.mean(test_dice1))\n",
    "print('Test dice at 0.05: ',np.mean(test_dice05))\n",
    "print('Test dice at 0.01: ',np.mean(test_dice01))"
   ]
  },
  {
   "cell_type": "markdown",
   "id": "d6dd05fb",
   "metadata": {},
   "source": [
    "# f=256, ly=5, lr=-4, msa= 1024"
   ]
  },
  {
   "cell_type": "code",
   "execution_count": 24,
   "id": "8cba411f",
   "metadata": {},
   "outputs": [],
   "source": [
    "history = {'train_loss' : train_losses, 'val_loss': test_losses,\n",
    "           'train_dice' :train_dices, 'val_dice':val_dices}"
   ]
  },
  {
   "cell_type": "code",
   "execution_count": 25,
   "id": "626bfc80",
   "metadata": {},
   "outputs": [
    {
     "name": "stdout",
     "output_type": "stream",
     "text": [
      "max training dice:  0.949843521458762\n",
      "max validation dice:  0.59996102809906\n"
     ]
    }
   ],
   "source": [
    "print('max training dice: ',max(train_dices))\n",
    "print('max validation dice: ',max(val_dices))"
   ]
  },
  {
   "cell_type": "code",
   "execution_count": 26,
   "id": "b6a07b14",
   "metadata": {},
   "outputs": [
    {
     "data": {
      "image/png": "[encoded data removed]",
      "text/plain": [
       "<Figure size 640x480 with 1 Axes>"
      ]
     },
     "metadata": {},
     "output_type": "display_data"
    }
   ],
   "source": [
    "#plot the training and validation IoU and loss at each epoch\n",
    "loss = history['train_loss']\n",
    "val_loss = history['val_loss']\n",
    "epochs = range(1, len(loss) + 1)\n",
    "plt.plot(epochs, loss, 'y', label='Training loss')\n",
    "plt.plot(epochs, val_loss, 'r', label='Validation loss')\n",
    "plt.title('Training and validation loss')\n",
    "plt.xlabel('Epochs')\n",
    "plt.ylabel('Loss')\n",
    "plt.legend()\n",
    "plt.show()"
   ]
  },
  {
   "cell_type": "code",
   "execution_count": 27,
   "id": "27114ac5",
   "metadata": {},
   "outputs": [
    {
     "data": {
      "image/png": "[encoded data removed]",
      "text/plain": [
       "<Figure size 640x480 with 1 Axes>"
      ]
     },
     "metadata": {},
     "output_type": "display_data"
    }
   ],
   "source": [
    "#plot the training and validation IoU and loss at each epoch\n",
    "loss = history['train_dice']\n",
    "val_loss = history['val_dice']\n",
    "epochs = range(1, len(loss) + 1)\n",
    "plt.plot(epochs, loss, 'y', label='Training dice')\n",
    "plt.plot(epochs, val_loss, 'r', label='Validation dice')\n",
    "plt.title('Training and validation dice')\n",
    "plt.xlabel('Epochs')\n",
    "plt.ylabel('Dice')\n",
    "plt.legend()\n",
    "plt.show()"
   ]
  },
  {
   "cell_type": "code",
   "execution_count": 28,
   "id": "54579b01",
   "metadata": {},
   "outputs": [
    {
     "data": {
      "application/vnd.jupyter.widget-view+json": {
       "model_id": "d7a882f768984488baa6f2f1d06b804d",
       "version_major": 2,
       "version_minor": 0
      },
      "text/plain": [
       "  0%|          | 0/200 [00:00<?, ?it/s]"
      ]
     },
     "metadata": {},
     "output_type": "display_data"
    },
    {
     "name": "stdout",
     "output_type": "stream",
     "text": [
      "Test dice at 0.9:  0.5296002331373892\n",
      "Test dice at 0.8:  0.5501422758390436\n",
      "Test dice at 0.7:  0.560754383261774\n",
      "Test dice at 0.6:  0.5686907472694293\n",
      "Test dice at 0.5:  0.5751711842221994\n",
      "Test dice at 0.4:  0.5803907089633867\n",
      "Test dice at 0.3:  0.5841710408929066\n",
      "Test dice at 0.2:  0.5863426441677438\n",
      "Test dice at 0.1:  0.5826966292969155\n",
      "Test dice at 0.05:  0.5654226247733459\n",
      "Test dice at 0.01:  0.42407029746100305\n"
     ]
    }
   ],
   "source": [
    "num_batches = 1\n",
    "# Validation\n",
    "model.eval()\n",
    "test_dice9 = []\n",
    "test_dice8 = []\n",
    "test_dice7 = []\n",
    "test_dice6 = []\n",
    "test_dice5 = []\n",
    "test_dice4 = []\n",
    "test_dice3 = []\n",
    "test_dice2 = []\n",
    "test_dice1 = []\n",
    "test_dice05 = []\n",
    "test_dice01 = []\n",
    "with torch.no_grad():\n",
    "    for val_inputs, val_targets in tqdm(test_loader):\n",
    "        val_inputs = val_inputs.to(device)\n",
    "        val_targets = val_targets.to(device)\n",
    "        val_outputs = model(val_inputs)\n",
    "        #print(np.unique(val_outputs))\n",
    "        test_outputs = torch.where(val_outputs>0.9,torch.tensor(1),torch.tensor(0))\n",
    "        test_dice9.append(dice_coeff(test_outputs,val_targets).item())\n",
    "        test_outputs = torch.where(val_outputs>0.8,torch.tensor(1),torch.tensor(0))\n",
    "        test_dice8.append(dice_coeff(test_outputs,val_targets).item())\n",
    "        test_outputs = torch.where(val_outputs>0.7,torch.tensor(1),torch.tensor(0))\n",
    "        test_dice7.append(dice_coeff(test_outputs,val_targets).item())\n",
    "        test_outputs = torch.where(val_outputs>0.6,torch.tensor(1),torch.tensor(0))\n",
    "        test_dice6.append(dice_coeff(test_outputs,val_targets).item())\n",
    "        test_outputs = torch.where(val_outputs>0.5,torch.tensor(1),torch.tensor(0))\n",
    "        test_dice5.append(dice_coeff(test_outputs,val_targets).item())\n",
    "        test_outputs = torch.where(val_outputs>0.4,torch.tensor(1),torch.tensor(0))\n",
    "        test_dice4.append(dice_coeff(test_outputs,val_targets).item())\n",
    "        test_outputs = torch.where(val_outputs>0.3,torch.tensor(1),torch.tensor(0))\n",
    "        test_dice3.append(dice_coeff(test_outputs,val_targets).item())\n",
    "        test_outputs = torch.where(val_outputs>0.2,torch.tensor(1),torch.tensor(0))\n",
    "        test_dice2.append(dice_coeff(test_outputs,val_targets).item())\n",
    "        test_outputs = torch.where(val_outputs>0.1,torch.tensor(1),torch.tensor(0))\n",
    "        test_dice1.append(dice_coeff(test_outputs,val_targets).item())\n",
    "        test_outputs = torch.where(val_outputs>0.05,torch.tensor(1),torch.tensor(0))\n",
    "        test_dice05.append(dice_coeff(test_outputs,val_targets).item())\n",
    "        test_outputs = torch.where(val_outputs>0.01,torch.tensor(1),torch.tensor(0))\n",
    "        test_dice01.append(dice_coeff(test_outputs,val_targets).item())\n",
    "        \n",
    "\n",
    "print('Test dice at 0.9: ',np.mean(test_dice9))\n",
    "print('Test dice at 0.8: ',np.mean(test_dice8))\n",
    "print('Test dice at 0.7: ',np.mean(test_dice7))\n",
    "print('Test dice at 0.6: ',np.mean(test_dice6))\n",
    "print('Test dice at 0.5: ',np.mean(test_dice5))\n",
    "print('Test dice at 0.4: ',np.mean(test_dice4))\n",
    "print('Test dice at 0.3: ',np.mean(test_dice3))\n",
    "print('Test dice at 0.2: ',np.mean(test_dice2))\n",
    "print('Test dice at 0.1: ',np.mean(test_dice1))\n",
    "print('Test dice at 0.05: ',np.mean(test_dice05))\n",
    "print('Test dice at 0.01: ',np.mean(test_dice01))"
   ]
  },
  {
   "cell_type": "code",
   "execution_count": 29,
   "id": "0617a266",
   "metadata": {},
   "outputs": [
    {
     "data": {
      "application/vnd.jupyter.widget-view+json": {
       "model_id": "12153c53f00645b2a1ab077dc68516b4",
       "version_major": 2,
       "version_minor": 0
      },
      "text/plain": [
       "  0%|          | 0/25 [00:00<?, ?it/s]"
      ]
     },
     "metadata": {},
     "output_type": "display_data"
    },
    {
     "name": "stdout",
     "output_type": "stream",
     "text": [
      "Test dice at 0.9:  0.5580241537094116\n",
      "Test dice at 0.8:  0.5862915420532226\n",
      "Test dice at 0.7:  0.602203985452652\n",
      "Test dice at 0.6:  0.6131044602394105\n",
      "Test dice at 0.5:  0.6217989313602448\n",
      "Test dice at 0.4:  0.6293667709827423\n",
      "Test dice at 0.3:  0.6354796278476715\n",
      "Test dice at 0.2:  0.639277229309082\n",
      "Test dice at 0.1:  0.6373100757598877\n",
      "Test dice at 0.05:  0.6222970056533813\n",
      "Test dice at 0.01:  0.48178746104240416\n"
     ]
    }
   ],
   "source": [
    "num_batches = 1\n",
    "# Validation\n",
    "model.eval()\n",
    "test_dice9 = []\n",
    "test_dice8 = []\n",
    "test_dice7 = []\n",
    "test_dice6 = []\n",
    "test_dice5 = []\n",
    "test_dice4 = []\n",
    "test_dice3 = []\n",
    "test_dice2 = []\n",
    "test_dice1 = []\n",
    "test_dice05 = []\n",
    "test_dice01 = []\n",
    "with torch.no_grad():\n",
    "    for val_inputs, val_targets in tqdm(val_loader):\n",
    "        val_inputs = val_inputs.to(device)\n",
    "        val_targets = val_targets.to(device)\n",
    "        val_outputs = model(val_inputs)\n",
    "        #print(np.unique(val_outputs))\n",
    "        test_outputs = torch.where(val_outputs>0.9,torch.tensor(1),torch.tensor(0))\n",
    "        test_dice9.append(dice_coeff(test_outputs,val_targets).item())\n",
    "        test_outputs = torch.where(val_outputs>0.8,torch.tensor(1),torch.tensor(0))\n",
    "        test_dice8.append(dice_coeff(test_outputs,val_targets).item())\n",
    "        test_outputs = torch.where(val_outputs>0.7,torch.tensor(1),torch.tensor(0))\n",
    "        test_dice7.append(dice_coeff(test_outputs,val_targets).item())\n",
    "        test_outputs = torch.where(val_outputs>0.6,torch.tensor(1),torch.tensor(0))\n",
    "        test_dice6.append(dice_coeff(test_outputs,val_targets).item())\n",
    "        test_outputs = torch.where(val_outputs>0.5,torch.tensor(1),torch.tensor(0))\n",
    "        test_dice5.append(dice_coeff(test_outputs,val_targets).item())\n",
    "        test_outputs = torch.where(val_outputs>0.4,torch.tensor(1),torch.tensor(0))\n",
    "        test_dice4.append(dice_coeff(test_outputs,val_targets).item())\n",
    "        test_outputs = torch.where(val_outputs>0.3,torch.tensor(1),torch.tensor(0))\n",
    "        test_dice3.append(dice_coeff(test_outputs,val_targets).item())\n",
    "        test_outputs = torch.where(val_outputs>0.2,torch.tensor(1),torch.tensor(0))\n",
    "        test_dice2.append(dice_coeff(test_outputs,val_targets).item())\n",
    "        test_outputs = torch.where(val_outputs>0.1,torch.tensor(1),torch.tensor(0))\n",
    "        test_dice1.append(dice_coeff(test_outputs,val_targets).item())\n",
    "        test_outputs = torch.where(val_outputs>0.05,torch.tensor(1),torch.tensor(0))\n",
    "        test_dice05.append(dice_coeff(test_outputs,val_targets).item())\n",
    "        test_outputs = torch.where(val_outputs>0.01,torch.tensor(1),torch.tensor(0))\n",
    "        test_dice01.append(dice_coeff(test_outputs,val_targets).item())\n",
    "        \n",
    "\n",
    "print('Test dice at 0.9: ',np.mean(test_dice9))\n",
    "print('Test dice at 0.8: ',np.mean(test_dice8))\n",
    "print('Test dice at 0.7: ',np.mean(test_dice7))\n",
    "print('Test dice at 0.6: ',np.mean(test_dice6))\n",
    "print('Test dice at 0.5: ',np.mean(test_dice5))\n",
    "print('Test dice at 0.4: ',np.mean(test_dice4))\n",
    "print('Test dice at 0.3: ',np.mean(test_dice3))\n",
    "print('Test dice at 0.2: ',np.mean(test_dice2))\n",
    "print('Test dice at 0.1: ',np.mean(test_dice1))\n",
    "print('Test dice at 0.05: ',np.mean(test_dice05))\n",
    "print('Test dice at 0.01: ',np.mean(test_dice01))"
   ]
  },
  {
   "cell_type": "markdown",
   "id": "affa091d",
   "metadata": {},
   "source": [
    "#  64 6ly "
   ]
  },
  {
   "cell_type": "code",
   "execution_count": 23,
   "id": "84374e5c",
   "metadata": {},
   "outputs": [
    {
     "data": {
      "image/png": "[encoded data removed]",
      "text/plain": [
       "<Figure size 640x480 with 1 Axes>"
      ]
     },
     "metadata": {},
     "output_type": "display_data"
    }
   ],
   "source": [
    "#plot the training and validation IoU and loss at each epoch\n",
    "loss = history['train_loss']\n",
    "val_loss = history['val_loss']\n",
    "epochs = range(1, len(loss) + 1)\n",
    "plt.plot(epochs, loss, 'y', label='Training loss')\n",
    "plt.plot(epochs, val_loss, 'r', label='Validation loss')\n",
    "plt.title('Training and validation loss')\n",
    "plt.xlabel('Epochs')\n",
    "plt.ylabel('Loss')\n",
    "plt.legend()\n",
    "plt.show()"
   ]
  },
  {
   "cell_type": "code",
   "execution_count": 24,
   "id": "e17d10c8",
   "metadata": {},
   "outputs": [
    {
     "data": {
      "image/png": "[encoded data removed]",
      "text/plain": [
       "<Figure size 640x480 with 1 Axes>"
      ]
     },
     "metadata": {},
     "output_type": "display_data"
    }
   ],
   "source": [
    "#plot the training and validation IoU and loss at each epoch\n",
    "loss = history['train_dice']\n",
    "val_loss = history['val_dice']\n",
    "epochs = range(1, len(loss) + 1)\n",
    "plt.plot(epochs, loss, 'y', label='Training dice')\n",
    "plt.plot(epochs, val_loss, 'r', label='Validation dice')\n",
    "plt.title('Training and validation dice')\n",
    "plt.xlabel('Epochs')\n",
    "plt.ylabel('Dice')\n",
    "plt.legend()\n",
    "plt.show()"
   ]
  },
  {
   "cell_type": "code",
   "execution_count": 27,
   "id": "76eee7cb",
   "metadata": {},
   "outputs": [
    {
     "data": {
      "application/vnd.jupyter.widget-view+json": {
       "model_id": "0fc611aacfe846fdb8c9d28f30572dc1",
       "version_major": 2,
       "version_minor": 0
      },
      "text/plain": [
       "  0%|          | 0/100 [00:00<?, ?it/s]"
      ]
     },
     "metadata": {},
     "output_type": "display_data"
    },
    {
     "name": "stdout",
     "output_type": "stream",
     "text": [
      "Test dice at 0.9:  0.536300193565803\n",
      "Test dice at 0.8:  0.5479348215921709\n",
      "Test dice at 0.7:  0.554914331068103\n",
      "Test dice at 0.6:  0.5602191121397118\n",
      "Test dice at 0.5:  0.5646708943855993\n",
      "Test dice at 0.4:  0.5686742879038138\n",
      "Test dice at 0.3:  0.573102878823811\n",
      "Test dice at 0.2:  0.5780782469238693\n",
      "Test dice at 0.1:  0.5838947318822102\n",
      "Test dice at 0.05:  0.5887803537690343\n",
      "Test dice at 0.01:  0.5964323818378034\n"
     ]
    }
   ],
   "source": [
    "num_batches = 1\n",
    "# Validation\n",
    "model.eval()\n",
    "test_dice9 = []\n",
    "test_dice8 = []\n",
    "test_dice7 = []\n",
    "test_dice6 = []\n",
    "test_dice5 = []\n",
    "test_dice4 = []\n",
    "test_dice3 = []\n",
    "test_dice2 = []\n",
    "test_dice1 = []\n",
    "test_dice05 = []\n",
    "test_dice01 = []\n",
    "with torch.no_grad():\n",
    "    for val_inputs, val_targets in tqdm(test_loader):\n",
    "        val_inputs = val_inputs.to(device)\n",
    "        val_targets = val_targets.to(device)\n",
    "        val_outputs = model(val_inputs)\n",
    "        #print(np.unique(val_outputs))\n",
    "        test_outputs = torch.where(val_outputs>0.9,torch.tensor(1),torch.tensor(0))\n",
    "        test_dice9.append(dice_coeff(test_outputs,val_targets).item())\n",
    "        test_outputs = torch.where(val_outputs>0.8,torch.tensor(1),torch.tensor(0))\n",
    "        test_dice8.append(dice_coeff(test_outputs,val_targets).item())\n",
    "        test_outputs = torch.where(val_outputs>0.7,torch.tensor(1),torch.tensor(0))\n",
    "        test_dice7.append(dice_coeff(test_outputs,val_targets).item())\n",
    "        test_outputs = torch.where(val_outputs>0.6,torch.tensor(1),torch.tensor(0))\n",
    "        test_dice6.append(dice_coeff(test_outputs,val_targets).item())\n",
    "        test_outputs = torch.where(val_outputs>0.5,torch.tensor(1),torch.tensor(0))\n",
    "        test_dice5.append(dice_coeff(test_outputs,val_targets).item())\n",
    "        test_outputs = torch.where(val_outputs>0.4,torch.tensor(1),torch.tensor(0))\n",
    "        test_dice4.append(dice_coeff(test_outputs,val_targets).item())\n",
    "        test_outputs = torch.where(val_outputs>0.3,torch.tensor(1),torch.tensor(0))\n",
    "        test_dice3.append(dice_coeff(test_outputs,val_targets).item())\n",
    "        test_outputs = torch.where(val_outputs>0.2,torch.tensor(1),torch.tensor(0))\n",
    "        test_dice2.append(dice_coeff(test_outputs,val_targets).item())\n",
    "        test_outputs = torch.where(val_outputs>0.1,torch.tensor(1),torch.tensor(0))\n",
    "        test_dice1.append(dice_coeff(test_outputs,val_targets).item())\n",
    "        test_outputs = torch.where(val_outputs>0.05,torch.tensor(1),torch.tensor(0))\n",
    "        test_dice05.append(dice_coeff(test_outputs,val_targets).item())\n",
    "        test_outputs = torch.where(val_outputs>0.01,torch.tensor(1),torch.tensor(0))\n",
    "        test_dice01.append(dice_coeff(test_outputs,val_targets).item())\n",
    "        \n",
    "\n",
    "print('Test dice at 0.9: ',np.mean(test_dice9))\n",
    "print('Test dice at 0.8: ',np.mean(test_dice8))\n",
    "print('Test dice at 0.7: ',np.mean(test_dice7))\n",
    "print('Test dice at 0.6: ',np.mean(test_dice6))\n",
    "print('Test dice at 0.5: ',np.mean(test_dice5))\n",
    "print('Test dice at 0.4: ',np.mean(test_dice4))\n",
    "print('Test dice at 0.3: ',np.mean(test_dice3))\n",
    "print('Test dice at 0.2: ',np.mean(test_dice2))\n",
    "print('Test dice at 0.1: ',np.mean(test_dice1))\n",
    "print('Test dice at 0.05: ',np.mean(test_dice05))\n",
    "print('Test dice at 0.01: ',np.mean(test_dice01))"
   ]
  },
  {
   "cell_type": "code",
   "execution_count": 28,
   "id": "c2cbec4e",
   "metadata": {},
   "outputs": [
    {
     "data": {
      "application/vnd.jupyter.widget-view+json": {
       "model_id": "121a22167d5443609e893349100bbd18",
       "version_major": 2,
       "version_minor": 0
      },
      "text/plain": [
       "  0%|          | 0/200 [00:00<?, ?it/s]"
      ]
     },
     "metadata": {},
     "output_type": "display_data"
    },
    {
     "name": "stdout",
     "output_type": "stream",
     "text": [
      "Test dice at 0.9:  0.5409751817265714\n",
      "Test dice at 0.8:  0.5528575050147992\n",
      "Test dice at 0.7:  0.5600765496883833\n",
      "Test dice at 0.6:  0.5656992874424759\n",
      "Test dice at 0.5:  0.5707156797399148\n",
      "Test dice at 0.4:  0.5756490867214233\n",
      "Test dice at 0.3:  0.5807728777522425\n",
      "Test dice at 0.2:  0.5869276884527426\n",
      "Test dice at 0.1:  0.5951185681095013\n",
      "Test dice at 0.05:  0.6016556151565237\n",
      "Test dice at 0.01:  0.6126722214002075\n"
     ]
    }
   ],
   "source": [
    "num_batches = 1\n",
    "# Validation\n",
    "model.eval()\n",
    "test_dice9 = []\n",
    "test_dice8 = []\n",
    "test_dice7 = []\n",
    "test_dice6 = []\n",
    "test_dice5 = []\n",
    "test_dice4 = []\n",
    "test_dice3 = []\n",
    "test_dice2 = []\n",
    "test_dice1 = []\n",
    "test_dice05 = []\n",
    "test_dice01 = []\n",
    "with torch.no_grad():\n",
    "    for val_inputs, val_targets in tqdm(val_loader):\n",
    "        val_inputs = val_inputs.to(device)\n",
    "        val_targets = val_targets.to(device)\n",
    "        val_outputs = model(val_inputs)\n",
    "        #print(np.unique(val_outputs))\n",
    "        test_outputs = torch.where(val_outputs>0.9,torch.tensor(1),torch.tensor(0))\n",
    "        test_dice9.append(dice_coeff(test_outputs,val_targets).item())\n",
    "        test_outputs = torch.where(val_outputs>0.8,torch.tensor(1),torch.tensor(0))\n",
    "        test_dice8.append(dice_coeff(test_outputs,val_targets).item())\n",
    "        test_outputs = torch.where(val_outputs>0.7,torch.tensor(1),torch.tensor(0))\n",
    "        test_dice7.append(dice_coeff(test_outputs,val_targets).item())\n",
    "        test_outputs = torch.where(val_outputs>0.6,torch.tensor(1),torch.tensor(0))\n",
    "        test_dice6.append(dice_coeff(test_outputs,val_targets).item())\n",
    "        test_outputs = torch.where(val_outputs>0.5,torch.tensor(1),torch.tensor(0))\n",
    "        test_dice5.append(dice_coeff(test_outputs,val_targets).item())\n",
    "        test_outputs = torch.where(val_outputs>0.4,torch.tensor(1),torch.tensor(0))\n",
    "        test_dice4.append(dice_coeff(test_outputs,val_targets).item())\n",
    "        test_outputs = torch.where(val_outputs>0.3,torch.tensor(1),torch.tensor(0))\n",
    "        test_dice3.append(dice_coeff(test_outputs,val_targets).item())\n",
    "        test_outputs = torch.where(val_outputs>0.2,torch.tensor(1),torch.tensor(0))\n",
    "        test_dice2.append(dice_coeff(test_outputs,val_targets).item())\n",
    "        test_outputs = torch.where(val_outputs>0.1,torch.tensor(1),torch.tensor(0))\n",
    "        test_dice1.append(dice_coeff(test_outputs,val_targets).item())\n",
    "        test_outputs = torch.where(val_outputs>0.05,torch.tensor(1),torch.tensor(0))\n",
    "        test_dice05.append(dice_coeff(test_outputs,val_targets).item())\n",
    "        test_outputs = torch.where(val_outputs>0.01,torch.tensor(1),torch.tensor(0))\n",
    "        test_dice01.append(dice_coeff(test_outputs,val_targets).item())\n",
    "        \n",
    "\n",
    "print('Test dice at 0.9: ',np.mean(test_dice9))\n",
    "print('Test dice at 0.8: ',np.mean(test_dice8))\n",
    "print('Test dice at 0.7: ',np.mean(test_dice7))\n",
    "print('Test dice at 0.6: ',np.mean(test_dice6))\n",
    "print('Test dice at 0.5: ',np.mean(test_dice5))\n",
    "print('Test dice at 0.4: ',np.mean(test_dice4))\n",
    "print('Test dice at 0.3: ',np.mean(test_dice3))\n",
    "print('Test dice at 0.2: ',np.mean(test_dice2))\n",
    "print('Test dice at 0.1: ',np.mean(test_dice1))\n",
    "print('Test dice at 0.05: ',np.mean(test_dice05))\n",
    "print('Test dice at 0.01: ',np.mean(test_dice01))"
   ]
  },
  {
   "cell_type": "markdown",
   "id": "a81ffa9e",
   "metadata": {},
   "source": [
    "# f=64, ly=4"
   ]
  },
  {
   "cell_type": "code",
   "execution_count": 26,
   "id": "e1d6a81b",
   "metadata": {},
   "outputs": [
    {
     "data": {
      "application/vnd.jupyter.widget-view+json": {
       "model_id": "ece07632742146cd87a74bd55fc3d6d3",
       "version_major": 2,
       "version_minor": 0
      },
      "text/plain": [
       "  0%|          | 0/200 [00:00<?, ?it/s]"
      ]
     },
     "metadata": {},
     "output_type": "display_data"
    },
    {
     "name": "stdout",
     "output_type": "stream",
     "text": [
      "Test dice at 0.9:  0.4802949990230991\n",
      "Test dice at 0.8:  0.4919085319537953\n",
      "Test dice at 0.7:  0.497411291693752\n",
      "Test dice at 0.6:  0.5007682623195251\n",
      "Test dice at 0.5:  0.5025163714216615\n",
      "Test dice at 0.4:  0.5031219691842853\n",
      "Test dice at 0.3:  0.5011812826915047\n",
      "Test dice at 0.2:  0.4955228455428369\n",
      "Test dice at 0.1:  0.46680803543596994\n",
      "Test dice at 0.05:  0.4071085895993747\n",
      "Test dice at 0.01:  0.26527332219760863\n"
     ]
    }
   ],
   "source": [
    "num_batches = 1\n",
    "# Validation\n",
    "model.eval()\n",
    "test_dice9 = []\n",
    "test_dice8 = []\n",
    "test_dice7 = []\n",
    "test_dice6 = []\n",
    "test_dice5 = []\n",
    "test_dice4 = []\n",
    "test_dice3 = []\n",
    "test_dice2 = []\n",
    "test_dice1 = []\n",
    "test_dice05 = []\n",
    "test_dice01 = []\n",
    "with torch.no_grad():\n",
    "    for val_inputs, val_targets in tqdm(test_loader):\n",
    "        val_inputs = val_inputs.to(device)\n",
    "        val_targets = val_targets.to(device)\n",
    "        val_outputs = model(val_inputs)\n",
    "        #print(np.unique(val_outputs))\n",
    "        test_outputs = torch.where(val_outputs>0.9,torch.tensor(1),torch.tensor(0))\n",
    "        test_dice9.append(dice_coeff(test_outputs,val_targets).item())\n",
    "        test_outputs = torch.where(val_outputs>0.8,torch.tensor(1),torch.tensor(0))\n",
    "        test_dice8.append(dice_coeff(test_outputs,val_targets).item())\n",
    "        test_outputs = torch.where(val_outputs>0.7,torch.tensor(1),torch.tensor(0))\n",
    "        test_dice7.append(dice_coeff(test_outputs,val_targets).item())\n",
    "        test_outputs = torch.where(val_outputs>0.6,torch.tensor(1),torch.tensor(0))\n",
    "        test_dice6.append(dice_coeff(test_outputs,val_targets).item())\n",
    "        test_outputs = torch.where(val_outputs>0.5,torch.tensor(1),torch.tensor(0))\n",
    "        test_dice5.append(dice_coeff(test_outputs,val_targets).item())\n",
    "        test_outputs = torch.where(val_outputs>0.4,torch.tensor(1),torch.tensor(0))\n",
    "        test_dice4.append(dice_coeff(test_outputs,val_targets).item())\n",
    "        test_outputs = torch.where(val_outputs>0.3,torch.tensor(1),torch.tensor(0))\n",
    "        test_dice3.append(dice_coeff(test_outputs,val_targets).item())\n",
    "        test_outputs = torch.where(val_outputs>0.2,torch.tensor(1),torch.tensor(0))\n",
    "        test_dice2.append(dice_coeff(test_outputs,val_targets).item())\n",
    "        test_outputs = torch.where(val_outputs>0.1,torch.tensor(1),torch.tensor(0))\n",
    "        test_dice1.append(dice_coeff(test_outputs,val_targets).item())\n",
    "        test_outputs = torch.where(val_outputs>0.05,torch.tensor(1),torch.tensor(0))\n",
    "        test_dice05.append(dice_coeff(test_outputs,val_targets).item())\n",
    "        test_outputs = torch.where(val_outputs>0.01,torch.tensor(1),torch.tensor(0))\n",
    "        test_dice01.append(dice_coeff(test_outputs,val_targets).item())\n",
    "        \n",
    "\n",
    "print('Test dice at 0.9: ',np.mean(test_dice9))\n",
    "print('Test dice at 0.8: ',np.mean(test_dice8))\n",
    "print('Test dice at 0.7: ',np.mean(test_dice7))\n",
    "print('Test dice at 0.6: ',np.mean(test_dice6))\n",
    "print('Test dice at 0.5: ',np.mean(test_dice5))\n",
    "print('Test dice at 0.4: ',np.mean(test_dice4))\n",
    "print('Test dice at 0.3: ',np.mean(test_dice3))\n",
    "print('Test dice at 0.2: ',np.mean(test_dice2))\n",
    "print('Test dice at 0.1: ',np.mean(test_dice1))\n",
    "print('Test dice at 0.05: ',np.mean(test_dice05))\n",
    "print('Test dice at 0.01: ',np.mean(test_dice01))"
   ]
  },
  {
   "cell_type": "code",
   "execution_count": 27,
   "id": "f3ff0a7a",
   "metadata": {},
   "outputs": [
    {
     "data": {
      "application/vnd.jupyter.widget-view+json": {
       "model_id": "a6fb111c49bc44979c7fbb60c614a421",
       "version_major": 2,
       "version_minor": 0
      },
      "text/plain": [
       "  0%|          | 0/100 [00:00<?, ?it/s]"
      ]
     },
     "metadata": {},
     "output_type": "display_data"
    },
    {
     "name": "stdout",
     "output_type": "stream",
     "text": [
      "Test dice at 0.9:  0.4511307885765927\n",
      "Test dice at 0.8:  0.46447437693928806\n",
      "Test dice at 0.7:  0.46972262281746224\n",
      "Test dice at 0.6:  0.47303297567599656\n",
      "Test dice at 0.5:  0.47448606224486867\n",
      "Test dice at 0.4:  0.47530229773656174\n",
      "Test dice at 0.3:  0.4755081494485057\n",
      "Test dice at 0.2:  0.4743021614728786\n",
      "Test dice at 0.1:  0.4640714481999021\n",
      "Test dice at 0.05:  0.42506245171400225\n",
      "Test dice at 0.01:  0.28969488995149734\n"
     ]
    }
   ],
   "source": [
    "num_batches = 1\n",
    "# Validation\n",
    "model.eval()\n",
    "test_dice9 = []\n",
    "test_dice8 = []\n",
    "test_dice7 = []\n",
    "test_dice6 = []\n",
    "test_dice5 = []\n",
    "test_dice4 = []\n",
    "test_dice3 = []\n",
    "test_dice2 = []\n",
    "test_dice1 = []\n",
    "test_dice05 = []\n",
    "test_dice01 = []\n",
    "with torch.no_grad():\n",
    "    for val_inputs, val_targets in tqdm(val_loader):\n",
    "        val_inputs = val_inputs.to(device)\n",
    "        val_targets = val_targets.to(device)\n",
    "        val_outputs = model(val_inputs)\n",
    "        #print(np.unique(val_outputs))\n",
    "        test_outputs = torch.where(val_outputs>0.9,torch.tensor(1),torch.tensor(0))\n",
    "        test_dice9.append(dice_coeff(test_outputs,val_targets).item())\n",
    "        test_outputs = torch.where(val_outputs>0.8,torch.tensor(1),torch.tensor(0))\n",
    "        test_dice8.append(dice_coeff(test_outputs,val_targets).item())\n",
    "        test_outputs = torch.where(val_outputs>0.7,torch.tensor(1),torch.tensor(0))\n",
    "        test_dice7.append(dice_coeff(test_outputs,val_targets).item())\n",
    "        test_outputs = torch.where(val_outputs>0.6,torch.tensor(1),torch.tensor(0))\n",
    "        test_dice6.append(dice_coeff(test_outputs,val_targets).item())\n",
    "        test_outputs = torch.where(val_outputs>0.5,torch.tensor(1),torch.tensor(0))\n",
    "        test_dice5.append(dice_coeff(test_outputs,val_targets).item())\n",
    "        test_outputs = torch.where(val_outputs>0.4,torch.tensor(1),torch.tensor(0))\n",
    "        test_dice4.append(dice_coeff(test_outputs,val_targets).item())\n",
    "        test_outputs = torch.where(val_outputs>0.3,torch.tensor(1),torch.tensor(0))\n",
    "        test_dice3.append(dice_coeff(test_outputs,val_targets).item())\n",
    "        test_outputs = torch.where(val_outputs>0.2,torch.tensor(1),torch.tensor(0))\n",
    "        test_dice2.append(dice_coeff(test_outputs,val_targets).item())\n",
    "        test_outputs = torch.where(val_outputs>0.1,torch.tensor(1),torch.tensor(0))\n",
    "        test_dice1.append(dice_coeff(test_outputs,val_targets).item())\n",
    "        test_outputs = torch.where(val_outputs>0.05,torch.tensor(1),torch.tensor(0))\n",
    "        test_dice05.append(dice_coeff(test_outputs,val_targets).item())\n",
    "        test_outputs = torch.where(val_outputs>0.01,torch.tensor(1),torch.tensor(0))\n",
    "        test_dice01.append(dice_coeff(test_outputs,val_targets).item())\n",
    "        \n",
    "\n",
    "print('Test dice at 0.9: ',np.mean(test_dice9))\n",
    "print('Test dice at 0.8: ',np.mean(test_dice8))\n",
    "print('Test dice at 0.7: ',np.mean(test_dice7))\n",
    "print('Test dice at 0.6: ',np.mean(test_dice6))\n",
    "print('Test dice at 0.5: ',np.mean(test_dice5))\n",
    "print('Test dice at 0.4: ',np.mean(test_dice4))\n",
    "print('Test dice at 0.3: ',np.mean(test_dice3))\n",
    "print('Test dice at 0.2: ',np.mean(test_dice2))\n",
    "print('Test dice at 0.1: ',np.mean(test_dice1))\n",
    "print('Test dice at 0.05: ',np.mean(test_dice05))\n",
    "print('Test dice at 0.01: ',np.mean(test_dice01))"
   ]
  },
  {
   "cell_type": "markdown",
   "id": "4e4336b4",
   "metadata": {},
   "source": [
    "# f = 128, ly=5"
   ]
  },
  {
   "cell_type": "code",
   "execution_count": 26,
   "id": "ee0371e0",
   "metadata": {},
   "outputs": [
    {
     "data": {
      "application/vnd.jupyter.widget-view+json": {
       "model_id": "d0e543d04cb046608e220967ba3bd72c",
       "version_major": 2,
       "version_minor": 0
      },
      "text/plain": [
       "  0%|          | 0/200 [00:00<?, ?it/s]"
      ]
     },
     "metadata": {},
     "output_type": "display_data"
    },
    {
     "name": "stdout",
     "output_type": "stream",
     "text": [
      "Test dice at 0.9:  0.5516217303151462\n",
      "Test dice at 0.8:  0.5618122291730652\n",
      "Test dice at 0.7:  0.5677346170827332\n",
      "Test dice at 0.6:  0.5721131572472768\n",
      "Test dice at 0.5:  0.5758668304883213\n",
      "Test dice at 0.4:  0.5793853016982939\n",
      "Test dice at 0.3:  0.5831964328325557\n",
      "Test dice at 0.2:  0.5873106572433971\n",
      "Test dice at 0.1:  0.5931151202879846\n",
      "Test dice at 0.05:  0.5977720049076015\n",
      "Test dice at 0.01:  0.6050890164643351\n"
     ]
    }
   ],
   "source": [
    "num_batches = 1\n",
    "# Validation\n",
    "model.eval()\n",
    "test_dice9 = []\n",
    "test_dice8 = []\n",
    "test_dice7 = []\n",
    "test_dice6 = []\n",
    "test_dice5 = []\n",
    "test_dice4 = []\n",
    "test_dice3 = []\n",
    "test_dice2 = []\n",
    "test_dice1 = []\n",
    "test_dice05 = []\n",
    "test_dice01 = []\n",
    "with torch.no_grad():\n",
    "    for val_inputs, val_targets in tqdm(test_loader):\n",
    "        val_inputs = val_inputs.to(device)\n",
    "        val_targets = val_targets.to(device)\n",
    "        val_outputs = model(val_inputs)\n",
    "        #print(np.unique(val_outputs))\n",
    "        test_outputs = torch.where(val_outputs>0.9,torch.tensor(1),torch.tensor(0))\n",
    "        test_dice9.append(dice_coeff(test_outputs,val_targets).item())\n",
    "        test_outputs = torch.where(val_outputs>0.8,torch.tensor(1),torch.tensor(0))\n",
    "        test_dice8.append(dice_coeff(test_outputs,val_targets).item())\n",
    "        test_outputs = torch.where(val_outputs>0.7,torch.tensor(1),torch.tensor(0))\n",
    "        test_dice7.append(dice_coeff(test_outputs,val_targets).item())\n",
    "        test_outputs = torch.where(val_outputs>0.6,torch.tensor(1),torch.tensor(0))\n",
    "        test_dice6.append(dice_coeff(test_outputs,val_targets).item())\n",
    "        test_outputs = torch.where(val_outputs>0.5,torch.tensor(1),torch.tensor(0))\n",
    "        test_dice5.append(dice_coeff(test_outputs,val_targets).item())\n",
    "        test_outputs = torch.where(val_outputs>0.4,torch.tensor(1),torch.tensor(0))\n",
    "        test_dice4.append(dice_coeff(test_outputs,val_targets).item())\n",
    "        test_outputs = torch.where(val_outputs>0.3,torch.tensor(1),torch.tensor(0))\n",
    "        test_dice3.append(dice_coeff(test_outputs,val_targets).item())\n",
    "        test_outputs = torch.where(val_outputs>0.2,torch.tensor(1),torch.tensor(0))\n",
    "        test_dice2.append(dice_coeff(test_outputs,val_targets).item())\n",
    "        test_outputs = torch.where(val_outputs>0.1,torch.tensor(1),torch.tensor(0))\n",
    "        test_dice1.append(dice_coeff(test_outputs,val_targets).item())\n",
    "        test_outputs = torch.where(val_outputs>0.05,torch.tensor(1),torch.tensor(0))\n",
    "        test_dice05.append(dice_coeff(test_outputs,val_targets).item())\n",
    "        test_outputs = torch.where(val_outputs>0.01,torch.tensor(1),torch.tensor(0))\n",
    "        test_dice01.append(dice_coeff(test_outputs,val_targets).item())\n",
    "        \n",
    "\n",
    "print('Test dice at 0.9: ',np.mean(test_dice9))\n",
    "print('Test dice at 0.8: ',np.mean(test_dice8))\n",
    "print('Test dice at 0.7: ',np.mean(test_dice7))\n",
    "print('Test dice at 0.6: ',np.mean(test_dice6))\n",
    "print('Test dice at 0.5: ',np.mean(test_dice5))\n",
    "print('Test dice at 0.4: ',np.mean(test_dice4))\n",
    "print('Test dice at 0.3: ',np.mean(test_dice3))\n",
    "print('Test dice at 0.2: ',np.mean(test_dice2))\n",
    "print('Test dice at 0.1: ',np.mean(test_dice1))\n",
    "print('Test dice at 0.05: ',np.mean(test_dice05))\n",
    "print('Test dice at 0.01: ',np.mean(test_dice01))"
   ]
  },
  {
   "cell_type": "code",
   "execution_count": 27,
   "id": "5cf4c2ef",
   "metadata": {},
   "outputs": [
    {
     "data": {
      "application/vnd.jupyter.widget-view+json": {
       "model_id": "fa4db2cc53844293855c0470315620e5",
       "version_major": 2,
       "version_minor": 0
      },
      "text/plain": [
       "  0%|          | 0/100 [00:00<?, ?it/s]"
      ]
     },
     "metadata": {},
     "output_type": "display_data"
    },
    {
     "name": "stdout",
     "output_type": "stream",
     "text": [
      "Test dice at 0.9:  0.5284268211247399\n",
      "Test dice at 0.8:  0.5417983718648611\n",
      "Test dice at 0.7:  0.5499822065384069\n",
      "Test dice at 0.6:  0.5563204048720946\n",
      "Test dice at 0.5:  0.5616204808835755\n",
      "Test dice at 0.4:  0.5668946852438966\n",
      "Test dice at 0.3:  0.5721124199419865\n",
      "Test dice at 0.2:  0.5785507637435512\n",
      "Test dice at 0.1:  0.5873898197611561\n",
      "Test dice at 0.05:  0.5947049828089803\n",
      "Test dice at 0.01:  0.6051574447308667\n"
     ]
    }
   ],
   "source": [
    "num_batches = 1\n",
    "# Validation\n",
    "model.eval()\n",
    "test_dice9 = []\n",
    "test_dice8 = []\n",
    "test_dice7 = []\n",
    "test_dice6 = []\n",
    "test_dice5 = []\n",
    "test_dice4 = []\n",
    "test_dice3 = []\n",
    "test_dice2 = []\n",
    "test_dice1 = []\n",
    "test_dice05 = []\n",
    "test_dice01 = []\n",
    "with torch.no_grad():\n",
    "    for val_inputs, val_targets in tqdm(val_loader):\n",
    "        val_inputs = val_inputs.to(device)\n",
    "        val_targets = val_targets.to(device)\n",
    "        val_outputs = model(val_inputs)\n",
    "        #print(np.unique(val_outputs))\n",
    "        test_outputs = torch.where(val_outputs>0.9,torch.tensor(1),torch.tensor(0))\n",
    "        test_dice9.append(dice_coeff(test_outputs,val_targets).item())\n",
    "        test_outputs = torch.where(val_outputs>0.8,torch.tensor(1),torch.tensor(0))\n",
    "        test_dice8.append(dice_coeff(test_outputs,val_targets).item())\n",
    "        test_outputs = torch.where(val_outputs>0.7,torch.tensor(1),torch.tensor(0))\n",
    "        test_dice7.append(dice_coeff(test_outputs,val_targets).item())\n",
    "        test_outputs = torch.where(val_outputs>0.6,torch.tensor(1),torch.tensor(0))\n",
    "        test_dice6.append(dice_coeff(test_outputs,val_targets).item())\n",
    "        test_outputs = torch.where(val_outputs>0.5,torch.tensor(1),torch.tensor(0))\n",
    "        test_dice5.append(dice_coeff(test_outputs,val_targets).item())\n",
    "        test_outputs = torch.where(val_outputs>0.4,torch.tensor(1),torch.tensor(0))\n",
    "        test_dice4.append(dice_coeff(test_outputs,val_targets).item())\n",
    "        test_outputs = torch.where(val_outputs>0.3,torch.tensor(1),torch.tensor(0))\n",
    "        test_dice3.append(dice_coeff(test_outputs,val_targets).item())\n",
    "        test_outputs = torch.where(val_outputs>0.2,torch.tensor(1),torch.tensor(0))\n",
    "        test_dice2.append(dice_coeff(test_outputs,val_targets).item())\n",
    "        test_outputs = torch.where(val_outputs>0.1,torch.tensor(1),torch.tensor(0))\n",
    "        test_dice1.append(dice_coeff(test_outputs,val_targets).item())\n",
    "        test_outputs = torch.where(val_outputs>0.05,torch.tensor(1),torch.tensor(0))\n",
    "        test_dice05.append(dice_coeff(test_outputs,val_targets).item())\n",
    "        test_outputs = torch.where(val_outputs>0.01,torch.tensor(1),torch.tensor(0))\n",
    "        test_dice01.append(dice_coeff(test_outputs,val_targets).item())\n",
    "        \n",
    "\n",
    "print('Test dice at 0.9: ',np.mean(test_dice9))\n",
    "print('Test dice at 0.8: ',np.mean(test_dice8))\n",
    "print('Test dice at 0.7: ',np.mean(test_dice7))\n",
    "print('Test dice at 0.6: ',np.mean(test_dice6))\n",
    "print('Test dice at 0.5: ',np.mean(test_dice5))\n",
    "print('Test dice at 0.4: ',np.mean(test_dice4))\n",
    "print('Test dice at 0.3: ',np.mean(test_dice3))\n",
    "print('Test dice at 0.2: ',np.mean(test_dice2))\n",
    "print('Test dice at 0.1: ',np.mean(test_dice1))\n",
    "print('Test dice at 0.05: ',np.mean(test_dice05))\n",
    "print('Test dice at 0.01: ',np.mean(test_dice01))"
   ]
  },
  {
   "cell_type": "markdown",
   "id": "b5988592",
   "metadata": {},
   "source": [
    "# f=64"
   ]
  },
  {
   "cell_type": "code",
   "execution_count": 19,
   "id": "3aba3b1b",
   "metadata": {},
   "outputs": [
    {
     "data": {
      "application/vnd.jupyter.widget-view+json": {
       "model_id": "bb951966bfb640e1ba98ef663f4d1534",
       "version_major": 2,
       "version_minor": 0
      },
      "text/plain": [
       "  0%|          | 0/200 [00:00<?, ?it/s]"
      ]
     },
     "metadata": {},
     "output_type": "display_data"
    },
    {
     "name": "stdout",
     "output_type": "stream",
     "text": [
      "Test dice at 0.9:  0.598983777931935\n",
      "Test dice at 0.8:  0.5983565549156629\n",
      "Test dice at 0.7:  0.5965531251209905\n",
      "Test dice at 0.6:  0.5946735799707676\n",
      "Test dice at 0.5:  0.5925503258903336\n",
      "Test dice at 0.4:  0.589954076200629\n",
      "Test dice at 0.3:  0.5866533948605138\n",
      "Test dice at 0.2:  0.5821834501958074\n",
      "Test dice at 0.1:  0.5738754937895646\n",
      "Test dice at 0.05:  0.5643512984771951\n",
      "Test dice at 0.01:  0.5251101457686491\n"
     ]
    }
   ],
   "source": [
    "num_batches = 1\n",
    "# Validation\n",
    "model.eval()\n",
    "test_dice9 = []\n",
    "test_dice8 = []\n",
    "test_dice7 = []\n",
    "test_dice6 = []\n",
    "test_dice5 = []\n",
    "test_dice4 = []\n",
    "test_dice3 = []\n",
    "test_dice2 = []\n",
    "test_dice1 = []\n",
    "test_dice05 = []\n",
    "test_dice01 = []\n",
    "with torch.no_grad():\n",
    "    for val_inputs, val_targets in tqdm(test_loader):\n",
    "        val_inputs = val_inputs.to(device)\n",
    "        val_targets = val_targets.to(device)\n",
    "        val_outputs = model(val_inputs)\n",
    "        #print(np.unique(val_outputs))\n",
    "        test_outputs = torch.where(val_outputs>0.9,torch.tensor(1),torch.tensor(0))\n",
    "        test_dice9.append(dice_coeff(test_outputs,val_targets).item())\n",
    "        test_outputs = torch.where(val_outputs>0.8,torch.tensor(1),torch.tensor(0))\n",
    "        test_dice8.append(dice_coeff(test_outputs,val_targets).item())\n",
    "        test_outputs = torch.where(val_outputs>0.7,torch.tensor(1),torch.tensor(0))\n",
    "        test_dice7.append(dice_coeff(test_outputs,val_targets).item())\n",
    "        test_outputs = torch.where(val_outputs>0.6,torch.tensor(1),torch.tensor(0))\n",
    "        test_dice6.append(dice_coeff(test_outputs,val_targets).item())\n",
    "        test_outputs = torch.where(val_outputs>0.5,torch.tensor(1),torch.tensor(0))\n",
    "        test_dice5.append(dice_coeff(test_outputs,val_targets).item())\n",
    "        test_outputs = torch.where(val_outputs>0.4,torch.tensor(1),torch.tensor(0))\n",
    "        test_dice4.append(dice_coeff(test_outputs,val_targets).item())\n",
    "        test_outputs = torch.where(val_outputs>0.3,torch.tensor(1),torch.tensor(0))\n",
    "        test_dice3.append(dice_coeff(test_outputs,val_targets).item())\n",
    "        test_outputs = torch.where(val_outputs>0.2,torch.tensor(1),torch.tensor(0))\n",
    "        test_dice2.append(dice_coeff(test_outputs,val_targets).item())\n",
    "        test_outputs = torch.where(val_outputs>0.1,torch.tensor(1),torch.tensor(0))\n",
    "        test_dice1.append(dice_coeff(test_outputs,val_targets).item())\n",
    "        test_outputs = torch.where(val_outputs>0.05,torch.tensor(1),torch.tensor(0))\n",
    "        test_dice05.append(dice_coeff(test_outputs,val_targets).item())\n",
    "        test_outputs = torch.where(val_outputs>0.01,torch.tensor(1),torch.tensor(0))\n",
    "        test_dice01.append(dice_coeff(test_outputs,val_targets).item())\n",
    "        \n",
    "\n",
    "print('Test dice at 0.9: ',np.mean(test_dice9))\n",
    "print('Test dice at 0.8: ',np.mean(test_dice8))\n",
    "print('Test dice at 0.7: ',np.mean(test_dice7))\n",
    "print('Test dice at 0.6: ',np.mean(test_dice6))\n",
    "print('Test dice at 0.5: ',np.mean(test_dice5))\n",
    "print('Test dice at 0.4: ',np.mean(test_dice4))\n",
    "print('Test dice at 0.3: ',np.mean(test_dice3))\n",
    "print('Test dice at 0.2: ',np.mean(test_dice2))\n",
    "print('Test dice at 0.1: ',np.mean(test_dice1))\n",
    "print('Test dice at 0.05: ',np.mean(test_dice05))\n",
    "print('Test dice at 0.01: ',np.mean(test_dice01))"
   ]
  },
  {
   "cell_type": "code",
   "execution_count": 20,
   "id": "b8fbf936",
   "metadata": {},
   "outputs": [
    {
     "data": {
      "application/vnd.jupyter.widget-view+json": {
       "model_id": "6664c65e82664f169240b8914d9118e5",
       "version_major": 2,
       "version_minor": 0
      },
      "text/plain": [
       "  0%|          | 0/700 [00:00<?, ?it/s]"
      ]
     },
     "metadata": {},
     "output_type": "display_data"
    },
    {
     "name": "stdout",
     "output_type": "stream",
     "text": [
      "Test dice at 0.9:  0.7498297855731549\n",
      "Test dice at 0.8:  0.73937595052154\n",
      "Test dice at 0.7:  0.731291320387037\n",
      "Test dice at 0.6:  0.7241851685661199\n",
      "Test dice at 0.5:  0.7172919376796718\n",
      "Test dice at 0.4:  0.7099871975742489\n",
      "Test dice at 0.3:  0.7014720579316261\n",
      "Test dice at 0.2:  0.6902526450531982\n",
      "Test dice at 0.1:  0.6715759998921047\n",
      "Test dice at 0.05:  0.6512797576053084\n",
      "Test dice at 0.01:  0.5784801606887153\n"
     ]
    }
   ],
   "source": [
    "num_batches = 1\n",
    "# Validation\n",
    "model.eval()\n",
    "test_dice9 = []\n",
    "test_dice8 = []\n",
    "test_dice7 = []\n",
    "test_dice6 = []\n",
    "test_dice5 = []\n",
    "test_dice4 = []\n",
    "test_dice3 = []\n",
    "test_dice2 = []\n",
    "test_dice1 = []\n",
    "test_dice05 = []\n",
    "test_dice01 = []\n",
    "with torch.no_grad():\n",
    "    for val_inputs, val_targets in tqdm(train_loader):\n",
    "        val_inputs = val_inputs.to(device)\n",
    "        val_targets = val_targets.to(device)\n",
    "        val_outputs = model(val_inputs)\n",
    "        #print(np.unique(val_outputs))\n",
    "        test_outputs = torch.where(val_outputs>0.9,torch.tensor(1),torch.tensor(0))\n",
    "        test_dice9.append(dice_coeff(test_outputs,val_targets).item())\n",
    "        test_outputs = torch.where(val_outputs>0.8,torch.tensor(1),torch.tensor(0))\n",
    "        test_dice8.append(dice_coeff(test_outputs,val_targets).item())\n",
    "        test_outputs = torch.where(val_outputs>0.7,torch.tensor(1),torch.tensor(0))\n",
    "        test_dice7.append(dice_coeff(test_outputs,val_targets).item())\n",
    "        test_outputs = torch.where(val_outputs>0.6,torch.tensor(1),torch.tensor(0))\n",
    "        test_dice6.append(dice_coeff(test_outputs,val_targets).item())\n",
    "        test_outputs = torch.where(val_outputs>0.5,torch.tensor(1),torch.tensor(0))\n",
    "        test_dice5.append(dice_coeff(test_outputs,val_targets).item())\n",
    "        test_outputs = torch.where(val_outputs>0.4,torch.tensor(1),torch.tensor(0))\n",
    "        test_dice4.append(dice_coeff(test_outputs,val_targets).item())\n",
    "        test_outputs = torch.where(val_outputs>0.3,torch.tensor(1),torch.tensor(0))\n",
    "        test_dice3.append(dice_coeff(test_outputs,val_targets).item())\n",
    "        test_outputs = torch.where(val_outputs>0.2,torch.tensor(1),torch.tensor(0))\n",
    "        test_dice2.append(dice_coeff(test_outputs,val_targets).item())\n",
    "        test_outputs = torch.where(val_outputs>0.1,torch.tensor(1),torch.tensor(0))\n",
    "        test_dice1.append(dice_coeff(test_outputs,val_targets).item())\n",
    "        test_outputs = torch.where(val_outputs>0.05,torch.tensor(1),torch.tensor(0))\n",
    "        test_dice05.append(dice_coeff(test_outputs,val_targets).item())\n",
    "        test_outputs = torch.where(val_outputs>0.01,torch.tensor(1),torch.tensor(0))\n",
    "        test_dice01.append(dice_coeff(test_outputs,val_targets).item())\n",
    "        \n",
    "\n",
    "print('Test dice at 0.9: ',np.mean(test_dice9))\n",
    "print('Test dice at 0.8: ',np.mean(test_dice8))\n",
    "print('Test dice at 0.7: ',np.mean(test_dice7))\n",
    "print('Test dice at 0.6: ',np.mean(test_dice6))\n",
    "print('Test dice at 0.5: ',np.mean(test_dice5))\n",
    "print('Test dice at 0.4: ',np.mean(test_dice4))\n",
    "print('Test dice at 0.3: ',np.mean(test_dice3))\n",
    "print('Test dice at 0.2: ',np.mean(test_dice2))\n",
    "print('Test dice at 0.1: ',np.mean(test_dice1))\n",
    "print('Test dice at 0.05: ',np.mean(test_dice05))\n",
    "print('Test dice at 0.01: ',np.mean(test_dice01))"
   ]
  },
  {
   "cell_type": "code",
   "execution_count": 21,
   "id": "b7947684",
   "metadata": {},
   "outputs": [
    {
     "data": {
      "application/vnd.jupyter.widget-view+json": {
       "model_id": "6a0f0aeb2aea4669982f6333d5a84cef",
       "version_major": 2,
       "version_minor": 0
      },
      "text/plain": [
       "  0%|          | 0/100 [00:00<?, ?it/s]"
      ]
     },
     "metadata": {},
     "output_type": "display_data"
    },
    {
     "name": "stdout",
     "output_type": "stream",
     "text": [
      "Test dice at 0.9:  0.6176958370207285\n",
      "Test dice at 0.8:  0.6204210188238357\n",
      "Test dice at 0.7:  0.6204921426622605\n",
      "Test dice at 0.6:  0.6197640069572663\n",
      "Test dice at 0.5:  0.6183604755251144\n",
      "Test dice at 0.4:  0.6161118708922004\n",
      "Test dice at 0.3:  0.6132410509882902\n",
      "Test dice at 0.2:  0.6085355719922518\n",
      "Test dice at 0.1:  0.599662801388331\n",
      "Test dice at 0.05:  0.5892249627345882\n",
      "Test dice at 0.01:  0.5504818374486058\n"
     ]
    }
   ],
   "source": [
    "num_batches = 1\n",
    "# Validation\n",
    "model.eval()\n",
    "test_dice9 = []\n",
    "test_dice8 = []\n",
    "test_dice7 = []\n",
    "test_dice6 = []\n",
    "test_dice5 = []\n",
    "test_dice4 = []\n",
    "test_dice3 = []\n",
    "test_dice2 = []\n",
    "test_dice1 = []\n",
    "test_dice05 = []\n",
    "test_dice01 = []\n",
    "with torch.no_grad():\n",
    "    for val_inputs, val_targets in tqdm(val_loader):\n",
    "        val_inputs = val_inputs.to(device)\n",
    "        val_targets = val_targets.to(device)\n",
    "        val_outputs = model(val_inputs)\n",
    "        #print(np.unique(val_outputs))\n",
    "        test_outputs = torch.where(val_outputs>0.9,torch.tensor(1),torch.tensor(0))\n",
    "        test_dice9.append(dice_coeff(test_outputs,val_targets).item())\n",
    "        test_outputs = torch.where(val_outputs>0.8,torch.tensor(1),torch.tensor(0))\n",
    "        test_dice8.append(dice_coeff(test_outputs,val_targets).item())\n",
    "        test_outputs = torch.where(val_outputs>0.7,torch.tensor(1),torch.tensor(0))\n",
    "        test_dice7.append(dice_coeff(test_outputs,val_targets).item())\n",
    "        test_outputs = torch.where(val_outputs>0.6,torch.tensor(1),torch.tensor(0))\n",
    "        test_dice6.append(dice_coeff(test_outputs,val_targets).item())\n",
    "        test_outputs = torch.where(val_outputs>0.5,torch.tensor(1),torch.tensor(0))\n",
    "        test_dice5.append(dice_coeff(test_outputs,val_targets).item())\n",
    "        test_outputs = torch.where(val_outputs>0.4,torch.tensor(1),torch.tensor(0))\n",
    "        test_dice4.append(dice_coeff(test_outputs,val_targets).item())\n",
    "        test_outputs = torch.where(val_outputs>0.3,torch.tensor(1),torch.tensor(0))\n",
    "        test_dice3.append(dice_coeff(test_outputs,val_targets).item())\n",
    "        test_outputs = torch.where(val_outputs>0.2,torch.tensor(1),torch.tensor(0))\n",
    "        test_dice2.append(dice_coeff(test_outputs,val_targets).item())\n",
    "        test_outputs = torch.where(val_outputs>0.1,torch.tensor(1),torch.tensor(0))\n",
    "        test_dice1.append(dice_coeff(test_outputs,val_targets).item())\n",
    "        test_outputs = torch.where(val_outputs>0.05,torch.tensor(1),torch.tensor(0))\n",
    "        test_dice05.append(dice_coeff(test_outputs,val_targets).item())\n",
    "        test_outputs = torch.where(val_outputs>0.01,torch.tensor(1),torch.tensor(0))\n",
    "        test_dice01.append(dice_coeff(test_outputs,val_targets).item())\n",
    "        \n",
    "\n",
    "print('Test dice at 0.9: ',np.mean(test_dice9))\n",
    "print('Test dice at 0.8: ',np.mean(test_dice8))\n",
    "print('Test dice at 0.7: ',np.mean(test_dice7))\n",
    "print('Test dice at 0.6: ',np.mean(test_dice6))\n",
    "print('Test dice at 0.5: ',np.mean(test_dice5))\n",
    "print('Test dice at 0.4: ',np.mean(test_dice4))\n",
    "print('Test dice at 0.3: ',np.mean(test_dice3))\n",
    "print('Test dice at 0.2: ',np.mean(test_dice2))\n",
    "print('Test dice at 0.1: ',np.mean(test_dice1))\n",
    "print('Test dice at 0.05: ',np.mean(test_dice05))\n",
    "print('Test dice at 0.01: ',np.mean(test_dice01))"
   ]
  },
  {
   "cell_type": "code",
   "execution_count": null,
   "id": "bdeaa2d1",
   "metadata": {},
   "outputs": [],
   "source": []
  }
 ],
 "metadata": {
  "kernelspec": {
   "display_name": "Python [conda env:tor] *",
   "language": "python",
   "name": "conda-env-tor-py"
  },
  "language_info": {
   "codemirror_mode": {
    "name": "ipython",
    "version": 3
   },
   "file_extension": ".py",
   "mimetype": "text/x-python",
   "name": "python",
   "nbconvert_exporter": "python",
   "pygments_lexer": "ipython3",
   "version": "3.10.6"
  }
 },
 "nbformat": 4,
 "nbformat_minor": 5
}
