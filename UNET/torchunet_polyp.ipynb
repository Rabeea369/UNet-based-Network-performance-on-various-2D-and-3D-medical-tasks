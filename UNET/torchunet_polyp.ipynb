{
 "cells": [
  {
   "cell_type": "code",
   "execution_count": 1,
   "id": "d9b77f1f",
   "metadata": {},
   "outputs": [
    {
     "name": "stdout",
     "output_type": "stream",
     "text": [
      "__Python VERSION: 3.10.6 (main, Oct 24 2022, 16:07:47) [GCC 11.2.0]\n",
      "__pyTorch VERSION: 2.0.1\n",
      "__CUDA VERSION\n",
      "nvcc: NVIDIA (R) Cuda compiler driver\n",
      "Copyright (c) 2005-2022 NVIDIA Corporation\n",
      "Built on Wed_Sep_21_10:33:58_PDT_2022\n",
      "Cuda compilation tools, release 11.8, V11.8.89\n",
      "Build cuda_11.8.r11.8/compiler.31833905_0\n",
      "__CUDNN VERSION: 8700\n",
      "__Number CUDA Devices: 2\n",
      "__Devices\n",
      "index, name, driver_version, memory.total [MiB], memory.used [MiB], memory.free [MiB]\n",
      "0, NVIDIA A100-PCIE-40GB, 525.125.06, 40960 MiB, 0 MiB, 40336 MiB\n",
      "1, NVIDIA A100 80GB PCIe, 525.125.06, 81920 MiB, 80234 MiB, 817 MiB\n",
      "Active CUDA Device: GPU 0\n",
      "Available devices  2\n",
      "Current cuda device  0\n"
     ]
    },
    {
     "data": {
      "text/plain": [
       "device(type='cuda', index=0)"
      ]
     },
     "execution_count": 1,
     "metadata": {},
     "output_type": "execute_result"
    }
   ],
   "source": [
    "%reset -f\n",
    "from __future__ import print_function\n",
    "from __future__ import division\n",
    "import math\n",
    "import numpy as np\n",
    "import torch\n",
    "import sys\n",
    "print('__Python VERSION:', sys.version)\n",
    "print('__pyTorch VERSION:', torch.__version__)\n",
    "print('__CUDA VERSION')\n",
    "from subprocess import call\n",
    "# call([\"nvcc\", \"--version\"]) does not work\n",
    "! nvcc --version\n",
    "print('__CUDNN VERSION:', torch.backends.cudnn.version())\n",
    "print('__Number CUDA Devices:', torch.cuda.device_count())\n",
    "print('__Devices')\n",
    "call([\"nvidia-smi\", \"--format=csv\", \"--query-gpu=index,name,driver_version,memory.total,memory.used,memory.free\"])\n",
    "print('Active CUDA Device: GPU', torch.cuda.current_device())\n",
    "\n",
    "print ('Available devices ', torch.cuda.device_count())\n",
    "print ('Current cuda device ', torch.cuda.current_device())\n",
    "from torch import device as torch_device\n",
    "\n",
    "#devices = [torch_device('cuda', i) for i in range(torch.cuda.device_count())] + [torch_device('cpu')]\n",
    "#print(devices)\n",
    "desired_gpu_index = 0\n",
    "device = torch.device(f'cuda:{desired_gpu_index}')\n",
    "device"
   ]
  },
  {
   "cell_type": "code",
   "execution_count": 2,
   "id": "c24147fc",
   "metadata": {},
   "outputs": [],
   "source": [
    "import random\n",
    "random.seed(20)\n",
    "np.random.seed(20)\n",
    "torch.manual_seed(20)\n",
    "torch.cuda.manual_seed(20)\n",
    "import cv2\n",
    "import glob\n",
    "from tqdm import tqdm\n",
    "import skimage.io as io\n",
    "import skimage.transform as trans\n",
    "import matplotlib.pyplot as plt\n",
    "import pydicom\n",
    "import SimpleITK as sitk\n",
    "import nibabel as nib\n",
    "from scipy import ndimage\n",
    "from torchmetrics import Dice\n",
    "import torch.optim as optim"
   ]
  },
  {
   "cell_type": "code",
   "execution_count": 3,
   "id": "71675545",
   "metadata": {},
   "outputs": [],
   "source": [
    "def dice_loss(pred, target):\n",
    "    smooth = 1.#1e-5\n",
    "    pred = pred.view(-1)\n",
    "    target = target.view(-1)\n",
    "    intersection = (pred * target).sum()\n",
    "    union = pred.sum() + target.sum()\n",
    "    dice = (2.0 * intersection + smooth) / (union + smooth)\n",
    "    return 1 - dice\n",
    "def dice_coeff(pred, target):\n",
    "    smooth = 1.#1e-5\n",
    "    pred = pred.view(-1)\n",
    "    target = target.view(-1)\n",
    "    intersection = (pred * target).sum()\n",
    "    union = pred.sum() + target.sum()\n",
    "    dice = (2.0 * intersection + smooth) / (union + smooth)\n",
    "    return dice\n",
    "\n",
    "\n",
    "import pandas as pd\n",
    "import matplotlib.pyplot as plt\n",
    "from sklearn.model_selection import train_test_split\n",
    "import torch.nn as nn\n",
    "from torch.utils.data import Dataset, DataLoader\n",
    "from torchvision import transforms as T\n",
    "import torchvision\n",
    "import torch.nn.functional as F\n",
    "from torch.autograd import Variable\n",
    "from PIL import Image\n",
    "import albumentations as A\n",
    "import time\n",
    "from tqdm.notebook import tqdm\n",
    "from torchsummary import summary"
   ]
  },
  {
   "cell_type": "code",
   "execution_count": 4,
   "id": "300e33cd",
   "metadata": {},
   "outputs": [],
   "source": [
    "from torch.utils.data import Dataset, DataLoader\n",
    "from torchvision.transforms import ToTensor\n",
    "# Define custom dataset class\n",
    "\n",
    "def parse_image(img_path, image_size):\n",
    "    img = cv2.imread(img_path)\n",
    "    img = cv2.cvtColor(img, cv2.COLOR_BGR2GRAY)\n",
    "    img = cv2.resize(img ,image_size, interpolation = cv2.INTER_CUBIC)\n",
    "    img = img.astype(np.float32)\n",
    "    mn = np.amin(img)\n",
    "    mx = np.amax(img)\n",
    "    d = mx - mn\n",
    "    img = (img-mn)/d\n",
    "    #print(np.amax(img),np.amin(img))\n",
    "    img = ToTensor()(img)\n",
    "    #img = np.expand_dims(img, axis=2)\n",
    "    #train_img = np.stack((image_rgb,)*3, axis=-1)\n",
    "    \n",
    "    return img\n",
    "\n",
    "def parse_mask(img_path, image_size):\n",
    "    mask_path = \"/home/rabeea/Kvasir/masks/\" + img_path.split('/')[-1]\n",
    "    mask = cv2.imread(mask_path)\n",
    "    mask = cv2.cvtColor(mask, cv2.COLOR_BGR2GRAY)\n",
    "    mask = np.where(mask>50,255,0)\n",
    "    mask = cv2.resize(mask.astype(np.uint8),image_size, interpolation = cv2.INTER_NEAREST)\n",
    "    #mask = np.expand_dims(mask, axis=2)\n",
    "    mask = mask.astype(np.uint8)\n",
    "    mask = np.where(mask>0,1,mask)\n",
    "    mask = torch.from_numpy(mask).long()\n",
    "    return mask\n",
    "\n",
    "class DataGen(Dataset):\n",
    "    def __init__(self, image_size, images_path , transform=None):\n",
    "        self.image_size = image_size\n",
    "        self.images_path = images_path\n",
    "        self.batch_size = batch_size\n",
    "        self.transform = transform\n",
    "\n",
    "    def __len__(self):\n",
    "        return len(self.images_path)\n",
    "\n",
    "    def __getitem__(self, index):\n",
    "        image = parse_image(self.images_path[index], self.image_size)\n",
    "        mask = parse_mask(self.images_path[index], self.image_size)\n",
    "\n",
    "        if self.transform is not None:\n",
    "            image = self.transform(image)\n",
    "\n",
    "        return image, mask\n"
   ]
  },
  {
   "cell_type": "code",
   "execution_count": 5,
   "id": "c46e363d",
   "metadata": {},
   "outputs": [
    {
     "name": "stdout",
     "output_type": "stream",
     "text": [
      "1000\n"
     ]
    }
   ],
   "source": [
    "imgpath = glob.glob(\"/home/rabeea/Kvasir/images/*.jpg\", recursive = True)\n",
    "print(len(imgpath))"
   ]
  },
  {
   "cell_type": "code",
   "execution_count": 6,
   "id": "89b20c4a",
   "metadata": {},
   "outputs": [
    {
     "name": "stdout",
     "output_type": "stream",
     "text": [
      "1000 700 100 200\n"
     ]
    }
   ],
   "source": [
    "tr = 700\n",
    "val = 100\n",
    "ts = 200\n",
    "imgpath = sorted(imgpath)\n",
    "random.Random(42).shuffle(imgpath)\n",
    "trainpath = imgpath[:tr]\n",
    "valpath = imgpath[tr:tr+val]\n",
    "testpath = imgpath[tr+val:]\n",
    "print(len(imgpath), len(trainpath), len(valpath), len(testpath))"
   ]
  },
  {
   "cell_type": "code",
   "execution_count": 7,
   "id": "bfc3ee79",
   "metadata": {},
   "outputs": [],
   "source": [
    "image_size = (256,256)\n",
    "batch_size = 1\n",
    "\n",
    "epochs = 350\n",
    "\n",
    "train_steps = len(trainpath)//batch_size\n",
    "valid_steps = len(valpath)//batch_size\n",
    "\n",
    "## Generator\n",
    "train_gen = DataGen(image_size, trainpath)\n",
    "val_gen = DataGen(image_size,valpath)\n",
    "test_gen = DataGen(image_size,testpath)\n",
    "\n",
    "train_loader = DataLoader(train_gen, batch_size=batch_size, shuffle=False)\n",
    "val_loader = DataLoader(val_gen, batch_size=batch_size, shuffle=False)  \n",
    "test_loader = DataLoader(test_gen, batch_size=1, shuffle=False) "
   ]
  },
  {
   "cell_type": "code",
   "execution_count": 8,
   "id": "750cc8ac",
   "metadata": {
    "scrolled": false
   },
   "outputs": [
    {
     "name": "stdout",
     "output_type": "stream",
     "text": [
      "Feature batch shape: torch.Size([1, 1, 256, 256])\n",
      "Labels batch shape: torch.Size([1, 256, 256])\n"
     ]
    },
    {
     "data": {
      "text/plain": [
       "<matplotlib.image.AxesImage at 0x7f03441e7190>"
      ]
     },
     "execution_count": 8,
     "metadata": {},
     "output_type": "execute_result"
    },
    {
     "data": {
      "image/png": "[encoded data removed]",
      "text/plain": [
       "<Figure size 640x480 with 1 Axes>"
      ]
     },
     "metadata": {},
     "output_type": "display_data"
    }
   ],
   "source": [
    "# Display image and label.\n",
    "train_features, train_labels = next(iter(train_loader))\n",
    "print(f\"Feature batch shape: {train_features.size()}\")\n",
    "print(f\"Labels batch shape: {train_labels.size()}\")\n",
    "img = train_features[0].squeeze()\n",
    "label = train_labels[0]\n",
    "plt.imshow(img, cmap=\"gray\")\n",
    "plt.imshow(label, 'gray', alpha=0.5)"
   ]
  },
  {
   "cell_type": "code",
   "execution_count": 9,
   "id": "a79f8576",
   "metadata": {},
   "outputs": [],
   "source": [
    "from torchvision import models\n",
    "from torch.nn.functional import relu\n",
    "class UNet(nn.Module):\n",
    "    def __init__(self, n_class=1, f=64):\n",
    "        super().__init__()\n",
    "        \n",
    "        # Encoder\n",
    "        # In the encoder, convolutional layers with the Conv2d function are used to extract features from the input image. \n",
    "        # Each block in the encoder consists of two convolutional layers followed by a max-pooling layer, with the exception of the last block which does not include a max-pooling layer.\n",
    "        # -------\n",
    "        # input: 572x572x3\n",
    "        self.e11 = nn.Conv2d(1, f, kernel_size=3, padding='same') # output: 570x570x64\n",
    "        self.e12 = nn.Conv2d(f, f, kernel_size=3, padding='same') # output: 568x568x64\n",
    "        self.pool1 = nn.MaxPool2d(kernel_size=2, stride=2) # output: 284x284x64\n",
    "\n",
    "        # input: 284x284x64\n",
    "        self.e21 = nn.Conv2d(f, f*2, kernel_size=3, padding='same') # output: 282x282x128\n",
    "        self.e22 = nn.Conv2d(f*2, f*2, kernel_size=3, padding='same') # output: 280x280x128\n",
    "        self.pool2 = nn.MaxPool2d(kernel_size=2, stride=2) # output: 140x140x128\n",
    "\n",
    "        # input: 140x140x128\n",
    "        self.e31 = nn.Conv2d(f*2, f*4, kernel_size=3, padding='same') # output: 138x138x256\n",
    "        self.e32 = nn.Conv2d(f*4, f*4, kernel_size=3, padding='same') # output: 136x136x256\n",
    "        self.pool3 = nn.MaxPool2d(kernel_size=2, stride=2) # output: 68x68x256\n",
    "\n",
    "        # input: 68x68x256\n",
    "        self.e41 = nn.Conv2d(f*4, f*8, kernel_size=3, padding='same') # output: 66x66x512\n",
    "        self.e42 = nn.Conv2d(f*8, f*8, kernel_size=3, padding='same') # output: 64x64x512\n",
    "        self.e4 = nn.Dropout(0.5)\n",
    "#         self.pool4 = nn.MaxPool2d(kernel_size=2, stride=2) # output: 32x32x512\n",
    "\n",
    "#         # input: 32x32x512\n",
    "#         self.e51 = nn.Conv2d(512, 1024, kernel_size=3, padding='same') # output: 30x30x1024\n",
    "#         self.e52 = nn.Conv2d(1024, 1024, kernel_size=3, padding='same') # output: 28x28x1024\n",
    "\n",
    "\n",
    "        # Decoder\n",
    "#         self.upconv1 = nn.ConvTranspose2d(1024, 512, kernel_size=2, stride=2)\n",
    "#         self.d11 = nn.Conv2d(1024, 512, kernel_size=3, padding='same')\n",
    "#         self.d12 = nn.Conv2d(512, 512, kernel_size=3, padding='same')\n",
    "\n",
    "        self.upconv2 = nn.ConvTranspose2d(f*8, f*4, kernel_size=2, stride=2)\n",
    "        self.d21 = nn.Conv2d(f*8, f*4, kernel_size=3, padding='same')\n",
    "        self.d22 = nn.Conv2d(f*4, f*4, kernel_size=3, padding='same')\n",
    "\n",
    "        self.upconv3 = nn.ConvTranspose2d(f*4, f*2, kernel_size=2, stride=2)\n",
    "        self.d31 = nn.Conv2d(f*4, f*2, kernel_size=3, padding='same')\n",
    "        self.d32 = nn.Conv2d(f*2, f*2, kernel_size=3, padding='same')\n",
    "\n",
    "        self.upconv4 = nn.ConvTranspose2d(f*2, f, kernel_size=2, stride=2)\n",
    "        self.d41 = nn.Conv2d(f*2, f, kernel_size=3, padding='same')\n",
    "        self.d42 = nn.Conv2d(f, f, kernel_size=3, padding='same')\n",
    "        \n",
    "\n",
    "        # Output layer\n",
    "        self.outconv = nn.Conv2d(f, n_class, kernel_size=1)\n",
    "        \n",
    "    def forward(self, x):\n",
    "        # Encoder\n",
    "        xe11 = relu(self.e11(x))\n",
    "        xe12 = relu(self.e12(xe11))\n",
    "        xp1 = self.pool1(xe12)\n",
    "\n",
    "        xe21 = relu(self.e21(xp1))\n",
    "        xe22 = relu(self.e22(xe21))\n",
    "        xp2 = self.pool2(xe22)\n",
    "\n",
    "        xe31 = relu(self.e31(xp2))\n",
    "        xe32 = relu(self.e32(xe31))\n",
    "        xp3 = self.pool3(xe32)\n",
    "\n",
    "        xe41 = relu(self.e41(xp3))\n",
    "        xe42 = relu(self.e42(xe41))\n",
    "        xe4 = self.e4(xe42)\n",
    "#        xp4 = self.pool4(xe42)\n",
    "\n",
    "#         xe51 = relu(self.e51(xp4))\n",
    "#         xe52 = relu(self.e52(xe51))\n",
    "        \n",
    "        # Decoder\n",
    "#         xu1 = self.upconv1(xe52)\n",
    "#         xu11 = torch.cat([xu1, xe42], dim=1)\n",
    "#         xd11 = relu(self.d11(xu11))\n",
    "#         xd12 = relu(self.d12(xd11))\n",
    "\n",
    "        xu2 = self.upconv2(xe4)\n",
    "        xu22 = torch.cat([xu2, xe32], dim=1)\n",
    "        xd21 = relu(self.d21(xu22))\n",
    "        xd22 = relu(self.d22(xd21))\n",
    "\n",
    "        xu3 = self.upconv3(xd22)\n",
    "        xu33 = torch.cat([xu3, xe22], dim=1)\n",
    "        xd31 = relu(self.d31(xu33))\n",
    "        xd32 = relu(self.d32(xd31))\n",
    "\n",
    "        xu4 = self.upconv4(xd32)\n",
    "        xu44 = torch.cat([xu4, xe12], dim=1)\n",
    "        xd41 = relu(self.d41(xu44))\n",
    "        xd42 = relu(self.d42(xd41))\n",
    "\n",
    "        # Output layer\n",
    "        out = self.outconv(xd42)\n",
    "        out = F.sigmoid(out)\n",
    "\n",
    "        return out"
   ]
  },
  {
   "cell_type": "code",
   "execution_count": 10,
   "id": "c21b4305",
   "metadata": {},
   "outputs": [],
   "source": [
    "model = UNet(n_class=1, f=64)"
   ]
  },
  {
   "cell_type": "code",
   "execution_count": 11,
   "id": "56db9cf3",
   "metadata": {},
   "outputs": [
    {
     "data": {
      "text/plain": [
       "UNet(\n",
       "  (e11): Conv2d(1, 64, kernel_size=(3, 3), stride=(1, 1), padding=same)\n",
       "  (e12): Conv2d(64, 64, kernel_size=(3, 3), stride=(1, 1), padding=same)\n",
       "  (pool1): MaxPool2d(kernel_size=2, stride=2, padding=0, dilation=1, ceil_mode=False)\n",
       "  (e21): Conv2d(64, 128, kernel_size=(3, 3), stride=(1, 1), padding=same)\n",
       "  (e22): Conv2d(128, 128, kernel_size=(3, 3), stride=(1, 1), padding=same)\n",
       "  (pool2): MaxPool2d(kernel_size=2, stride=2, padding=0, dilation=1, ceil_mode=False)\n",
       "  (e31): Conv2d(128, 256, kernel_size=(3, 3), stride=(1, 1), padding=same)\n",
       "  (e32): Conv2d(256, 256, kernel_size=(3, 3), stride=(1, 1), padding=same)\n",
       "  (pool3): MaxPool2d(kernel_size=2, stride=2, padding=0, dilation=1, ceil_mode=False)\n",
       "  (e41): Conv2d(256, 512, kernel_size=(3, 3), stride=(1, 1), padding=same)\n",
       "  (e42): Conv2d(512, 512, kernel_size=(3, 3), stride=(1, 1), padding=same)\n",
       "  (e4): Dropout(p=0.5, inplace=False)\n",
       "  (upconv2): ConvTranspose2d(512, 256, kernel_size=(2, 2), stride=(2, 2))\n",
       "  (d21): Conv2d(512, 256, kernel_size=(3, 3), stride=(1, 1), padding=same)\n",
       "  (d22): Conv2d(256, 256, kernel_size=(3, 3), stride=(1, 1), padding=same)\n",
       "  (upconv3): ConvTranspose2d(256, 128, kernel_size=(2, 2), stride=(2, 2))\n",
       "  (d31): Conv2d(256, 128, kernel_size=(3, 3), stride=(1, 1), padding=same)\n",
       "  (d32): Conv2d(128, 128, kernel_size=(3, 3), stride=(1, 1), padding=same)\n",
       "  (upconv4): ConvTranspose2d(128, 64, kernel_size=(2, 2), stride=(2, 2))\n",
       "  (d41): Conv2d(128, 64, kernel_size=(3, 3), stride=(1, 1), padding=same)\n",
       "  (d42): Conv2d(64, 64, kernel_size=(3, 3), stride=(1, 1), padding=same)\n",
       "  (outconv): Conv2d(64, 1, kernel_size=(1, 1), stride=(1, 1))\n",
       ")"
      ]
     },
     "execution_count": 11,
     "metadata": {},
     "output_type": "execute_result"
    }
   ],
   "source": [
    "model.to(device)"
   ]
  },
  {
   "cell_type": "code",
   "execution_count": 12,
   "id": "c897706f",
   "metadata": {},
   "outputs": [],
   "source": [
    "filename_sd = '/home/rabeea/logs/Unettorc_polyp/polyp_64_ly4_lr5.pth'"
   ]
  },
  {
   "cell_type": "code",
   "execution_count": 13,
   "id": "f55f4a5c",
   "metadata": {},
   "outputs": [
    {
     "data": {
      "application/vnd.jupyter.widget-view+json": {
       "model_id": "d97218bcf50944a391c3658f67bdf491",
       "version_major": 2,
       "version_minor": 0
      },
      "text/plain": [
       "  0%|          | 0/700 [00:00<?, ?it/s]"
      ]
     },
     "metadata": {},
     "output_type": "display_data"
    },
    {
     "name": "stdout",
     "output_type": "stream",
     "text": [
      "Dice increasing.. 0.000 >> 0.424 \n",
      "saving model...\n",
      "Epoch 1/350, Train Loss: 0.7123, Train Dice: 0.2877, Val Dice: 0.4239, time: 0.30\n"
     ]
    },
    {
     "data": {
      "application/vnd.jupyter.widget-view+json": {
       "model_id": "448f6dc2476241a69bf1e8ee43e61906",
       "version_major": 2,
       "version_minor": 0
      },
      "text/plain": [
       "  0%|          | 0/700 [00:00<?, ?it/s]"
      ]
     },
     "metadata": {},
     "output_type": "display_data"
    },
    {
     "name": "stdout",
     "output_type": "stream",
     "text": [
      "Dice increasing.. 0.424 >> 0.427 \n",
      "saving model...\n",
      "Epoch 2/350, Train Loss: 0.6440, Train Dice: 0.3560, Val Dice: 0.4267, time: 0.28\n"
     ]
    },
    {
     "data": {
      "application/vnd.jupyter.widget-view+json": {
       "model_id": "350de31ab0a449e08f8cc8592be761d0",
       "version_major": 2,
       "version_minor": 0
      },
      "text/plain": [
       "  0%|          | 0/700 [00:00<?, ?it/s]"
      ]
     },
     "metadata": {},
     "output_type": "display_data"
    },
    {
     "name": "stdout",
     "output_type": "stream",
     "text": [
      "Epoch 3/350, Train Loss: 0.6396, Train Dice: 0.3604, Val Dice: 0.4114, time: 0.27\n"
     ]
    },
    {
     "data": {
      "application/vnd.jupyter.widget-view+json": {
       "model_id": "c3a9cb439de34eda97b1021c9eace9c8",
       "version_major": 2,
       "version_minor": 0
      },
      "text/plain": [
       "  0%|          | 0/700 [00:00<?, ?it/s]"
      ]
     },
     "metadata": {},
     "output_type": "display_data"
    },
    {
     "name": "stdout",
     "output_type": "stream",
     "text": [
      "Epoch 4/350, Train Loss: 0.6372, Train Dice: 0.3628, Val Dice: 0.4172, time: 0.27\n"
     ]
    },
    {
     "data": {
      "application/vnd.jupyter.widget-view+json": {
       "model_id": "5e00fbf701fd40cab56ecc9c08ec3554",
       "version_major": 2,
       "version_minor": 0
      },
      "text/plain": [
       "  0%|          | 0/700 [00:00<?, ?it/s]"
      ]
     },
     "metadata": {},
     "output_type": "display_data"
    },
    {
     "name": "stdout",
     "output_type": "stream",
     "text": [
      "Epoch 5/350, Train Loss: 0.6366, Train Dice: 0.3634, Val Dice: 0.4232, time: 0.29\n"
     ]
    },
    {
     "data": {
      "application/vnd.jupyter.widget-view+json": {
       "model_id": "93043bbc5857420a90283b9023b72615",
       "version_major": 2,
       "version_minor": 0
      },
      "text/plain": [
       "  0%|          | 0/700 [00:00<?, ?it/s]"
      ]
     },
     "metadata": {},
     "output_type": "display_data"
    },
    {
     "name": "stdout",
     "output_type": "stream",
     "text": [
      "Epoch 6/350, Train Loss: 0.6328, Train Dice: 0.3672, Val Dice: 0.4230, time: 0.30\n"
     ]
    },
    {
     "data": {
      "application/vnd.jupyter.widget-view+json": {
       "model_id": "c2eeefd008e0482e820117eab0ca5029",
       "version_major": 2,
       "version_minor": 0
      },
      "text/plain": [
       "  0%|          | 0/700 [00:00<?, ?it/s]"
      ]
     },
     "metadata": {},
     "output_type": "display_data"
    },
    {
     "name": "stdout",
     "output_type": "stream",
     "text": [
      "Epoch 7/350, Train Loss: 0.6279, Train Dice: 0.3721, Val Dice: 0.4210, time: 0.28\n"
     ]
    },
    {
     "data": {
      "application/vnd.jupyter.widget-view+json": {
       "model_id": "e813646dfbf8468cb0c20f0e2ef3c7db",
       "version_major": 2,
       "version_minor": 0
      },
      "text/plain": [
       "  0%|          | 0/700 [00:00<?, ?it/s]"
      ]
     },
     "metadata": {},
     "output_type": "display_data"
    },
    {
     "name": "stdout",
     "output_type": "stream",
     "text": [
      "Dice increasing.. 0.427 >> 0.428 \n",
      "saving model...\n",
      "Epoch 8/350, Train Loss: 0.6235, Train Dice: 0.3765, Val Dice: 0.4284, time: 0.29\n"
     ]
    },
    {
     "data": {
      "application/vnd.jupyter.widget-view+json": {
       "model_id": "f99ea42e0ff043b3947f2f7eac5f7ae0",
       "version_major": 2,
       "version_minor": 0
      },
      "text/plain": [
       "  0%|          | 0/700 [00:00<?, ?it/s]"
      ]
     },
     "metadata": {},
     "output_type": "display_data"
    },
    {
     "name": "stdout",
     "output_type": "stream",
     "text": [
      "Dice increasing.. 0.428 >> 0.449 \n",
      "saving model...\n",
      "Epoch 9/350, Train Loss: 0.6215, Train Dice: 0.3785, Val Dice: 0.4485, time: 0.29\n"
     ]
    },
    {
     "data": {
      "application/vnd.jupyter.widget-view+json": {
       "model_id": "f61af6bb1e1142acb179bf8d70ec59af",
       "version_major": 2,
       "version_minor": 0
      },
      "text/plain": [
       "  0%|          | 0/700 [00:00<?, ?it/s]"
      ]
     },
     "metadata": {},
     "output_type": "display_data"
    },
    {
     "name": "stdout",
     "output_type": "stream",
     "text": [
      "Epoch 10/350, Train Loss: 0.6140, Train Dice: 0.3860, Val Dice: 0.4371, time: 0.29\n"
     ]
    },
    {
     "data": {
      "application/vnd.jupyter.widget-view+json": {
       "model_id": "4e5b6424e5024287b0ec2b8a3c190683",
       "version_major": 2,
       "version_minor": 0
      },
      "text/plain": [
       "  0%|          | 0/700 [00:00<?, ?it/s]"
      ]
     },
     "metadata": {},
     "output_type": "display_data"
    },
    {
     "name": "stdout",
     "output_type": "stream",
     "text": [
      "Dice increasing.. 0.449 >> 0.454 \n",
      "saving model...\n",
      "Epoch 11/350, Train Loss: 0.6050, Train Dice: 0.3950, Val Dice: 0.4540, time: 0.40\n"
     ]
    },
    {
     "data": {
      "application/vnd.jupyter.widget-view+json": {
       "model_id": "2620a7ad671445f783704a1129d2ee0c",
       "version_major": 2,
       "version_minor": 0
      },
      "text/plain": [
       "  0%|          | 0/700 [00:00<?, ?it/s]"
      ]
     },
     "metadata": {},
     "output_type": "display_data"
    },
    {
     "name": "stdout",
     "output_type": "stream",
     "text": [
      "Dice increasing.. 0.454 >> 0.471 \n",
      "saving model...\n",
      "Epoch 12/350, Train Loss: 0.6053, Train Dice: 0.3947, Val Dice: 0.4707, time: 0.44\n"
     ]
    },
    {
     "data": {
      "application/vnd.jupyter.widget-view+json": {
       "model_id": "6fbcfac8d5fb4c6a824baf932c07c6e0",
       "version_major": 2,
       "version_minor": 0
      },
      "text/plain": [
       "  0%|          | 0/700 [00:00<?, ?it/s]"
      ]
     },
     "metadata": {},
     "output_type": "display_data"
    },
    {
     "name": "stdout",
     "output_type": "stream",
     "text": [
      "Epoch 13/350, Train Loss: 0.5967, Train Dice: 0.4033, Val Dice: 0.4501, time: 0.42\n"
     ]
    },
    {
     "data": {
      "application/vnd.jupyter.widget-view+json": {
       "model_id": "cfaef342bdfd4eef9de9ff5b03390059",
       "version_major": 2,
       "version_minor": 0
      },
      "text/plain": [
       "  0%|          | 0/700 [00:00<?, ?it/s]"
      ]
     },
     "metadata": {},
     "output_type": "display_data"
    },
    {
     "name": "stdout",
     "output_type": "stream",
     "text": [
      "Dice increasing.. 0.471 >> 0.474 \n",
      "saving model...\n",
      "Epoch 14/350, Train Loss: 0.5987, Train Dice: 0.4013, Val Dice: 0.4739, time: 0.43\n"
     ]
    },
    {
     "data": {
      "application/vnd.jupyter.widget-view+json": {
       "model_id": "e0d31b38668f48e5a7651093b47a9e13",
       "version_major": 2,
       "version_minor": 0
      },
      "text/plain": [
       "  0%|          | 0/700 [00:00<?, ?it/s]"
      ]
     },
     "metadata": {},
     "output_type": "display_data"
    },
    {
     "name": "stdout",
     "output_type": "stream",
     "text": [
      "Epoch 15/350, Train Loss: 0.5897, Train Dice: 0.4103, Val Dice: 0.4724, time: 0.44\n"
     ]
    },
    {
     "data": {
      "application/vnd.jupyter.widget-view+json": {
       "model_id": "e1cea671894b4c64b59a47cb296aa895",
       "version_major": 2,
       "version_minor": 0
      },
      "text/plain": [
       "  0%|          | 0/700 [00:00<?, ?it/s]"
      ]
     },
     "metadata": {},
     "output_type": "display_data"
    },
    {
     "name": "stdout",
     "output_type": "stream",
     "text": [
      "Dice increasing.. 0.474 >> 0.497 \n",
      "saving model...\n",
      "Epoch 16/350, Train Loss: 0.5873, Train Dice: 0.4127, Val Dice: 0.4967, time: 0.42\n"
     ]
    },
    {
     "data": {
      "application/vnd.jupyter.widget-view+json": {
       "model_id": "aaa55408dc104d9ba6e0d34fb9858a44",
       "version_major": 2,
       "version_minor": 0
      },
      "text/plain": [
       "  0%|          | 0/700 [00:00<?, ?it/s]"
      ]
     },
     "metadata": {},
     "output_type": "display_data"
    },
    {
     "name": "stdout",
     "output_type": "stream",
     "text": [
      "Epoch 17/350, Train Loss: 0.5787, Train Dice: 0.4213, Val Dice: 0.4961, time: 0.42\n"
     ]
    },
    {
     "data": {
      "application/vnd.jupyter.widget-view+json": {
       "model_id": "33c78a451c3d4838b9503636d421e282",
       "version_major": 2,
       "version_minor": 0
      },
      "text/plain": [
       "  0%|          | 0/700 [00:00<?, ?it/s]"
      ]
     },
     "metadata": {},
     "output_type": "display_data"
    },
    {
     "name": "stdout",
     "output_type": "stream",
     "text": [
      "Dice increasing.. 0.497 >> 0.507 \n",
      "saving model...\n",
      "Epoch 18/350, Train Loss: 0.5742, Train Dice: 0.4258, Val Dice: 0.5069, time: 0.43\n"
     ]
    },
    {
     "data": {
      "application/vnd.jupyter.widget-view+json": {
       "model_id": "9fa3aa580ee248e9811b9ccefaf8be20",
       "version_major": 2,
       "version_minor": 0
      },
      "text/plain": [
       "  0%|          | 0/700 [00:00<?, ?it/s]"
      ]
     },
     "metadata": {},
     "output_type": "display_data"
    },
    {
     "name": "stdout",
     "output_type": "stream",
     "text": [
      "Dice increasing.. 0.507 >> 0.509 \n",
      "saving model...\n",
      "Epoch 19/350, Train Loss: 0.5771, Train Dice: 0.4229, Val Dice: 0.5094, time: 0.43\n"
     ]
    },
    {
     "data": {
      "application/vnd.jupyter.widget-view+json": {
       "model_id": "775c63febce749c5a0f6f92553b29a8f",
       "version_major": 2,
       "version_minor": 0
      },
      "text/plain": [
       "  0%|          | 0/700 [00:00<?, ?it/s]"
      ]
     },
     "metadata": {},
     "output_type": "display_data"
    },
    {
     "name": "stdout",
     "output_type": "stream",
     "text": [
      "Dice increasing.. 0.509 >> 0.519 \n",
      "saving model...\n",
      "Epoch 20/350, Train Loss: 0.5697, Train Dice: 0.4303, Val Dice: 0.5189, time: 0.43\n"
     ]
    },
    {
     "data": {
      "application/vnd.jupyter.widget-view+json": {
       "model_id": "9a9c60a7de814b2dbaaf969e06a3c5d1",
       "version_major": 2,
       "version_minor": 0
      },
      "text/plain": [
       "  0%|          | 0/700 [00:00<?, ?it/s]"
      ]
     },
     "metadata": {},
     "output_type": "display_data"
    },
    {
     "name": "stdout",
     "output_type": "stream",
     "text": [
      "Epoch 21/350, Train Loss: 0.5625, Train Dice: 0.4375, Val Dice: 0.5152, time: 0.43\n"
     ]
    },
    {
     "data": {
      "application/vnd.jupyter.widget-view+json": {
       "model_id": "29f266a412f747b3a346acf7608bf92d",
       "version_major": 2,
       "version_minor": 0
      },
      "text/plain": [
       "  0%|          | 0/700 [00:00<?, ?it/s]"
      ]
     },
     "metadata": {},
     "output_type": "display_data"
    },
    {
     "name": "stdout",
     "output_type": "stream",
     "text": [
      "Epoch 22/350, Train Loss: 0.5589, Train Dice: 0.4411, Val Dice: 0.5108, time: 0.44\n"
     ]
    },
    {
     "data": {
      "application/vnd.jupyter.widget-view+json": {
       "model_id": "34dc1ec5aff94c66982e13b40cb1a38c",
       "version_major": 2,
       "version_minor": 0
      },
      "text/plain": [
       "  0%|          | 0/700 [00:00<?, ?it/s]"
      ]
     },
     "metadata": {},
     "output_type": "display_data"
    },
    {
     "name": "stdout",
     "output_type": "stream",
     "text": [
      "Epoch 23/350, Train Loss: 0.5572, Train Dice: 0.4428, Val Dice: 0.5114, time: 0.43\n"
     ]
    },
    {
     "data": {
      "application/vnd.jupyter.widget-view+json": {
       "model_id": "5284546f52304c618eba91872fc0847d",
       "version_major": 2,
       "version_minor": 0
      },
      "text/plain": [
       "  0%|          | 0/700 [00:00<?, ?it/s]"
      ]
     },
     "metadata": {},
     "output_type": "display_data"
    },
    {
     "name": "stdout",
     "output_type": "stream",
     "text": [
      "Epoch 24/350, Train Loss: 0.5541, Train Dice: 0.4459, Val Dice: 0.5161, time: 0.44\n"
     ]
    },
    {
     "data": {
      "application/vnd.jupyter.widget-view+json": {
       "model_id": "039b6211e19a44589232a7297e4d4fee",
       "version_major": 2,
       "version_minor": 0
      },
      "text/plain": [
       "  0%|          | 0/700 [00:00<?, ?it/s]"
      ]
     },
     "metadata": {},
     "output_type": "display_data"
    },
    {
     "name": "stdout",
     "output_type": "stream",
     "text": [
      "Dice increasing.. 0.519 >> 0.523 \n",
      "saving model...\n",
      "Epoch 25/350, Train Loss: 0.5508, Train Dice: 0.4492, Val Dice: 0.5225, time: 0.49\n"
     ]
    },
    {
     "data": {
      "application/vnd.jupyter.widget-view+json": {
       "model_id": "d3a6bb9c9a104a55bd2604b0b757ccdb",
       "version_major": 2,
       "version_minor": 0
      },
      "text/plain": [
       "  0%|          | 0/700 [00:00<?, ?it/s]"
      ]
     },
     "metadata": {},
     "output_type": "display_data"
    },
    {
     "name": "stdout",
     "output_type": "stream",
     "text": [
      "Dice increasing.. 0.523 >> 0.531 \n",
      "saving model...\n",
      "Epoch 26/350, Train Loss: 0.5499, Train Dice: 0.4501, Val Dice: 0.5307, time: 0.53\n"
     ]
    },
    {
     "data": {
      "application/vnd.jupyter.widget-view+json": {
       "model_id": "381e1f446168456fb721fa9c4b8625b5",
       "version_major": 2,
       "version_minor": 0
      },
      "text/plain": [
       "  0%|          | 0/700 [00:00<?, ?it/s]"
      ]
     },
     "metadata": {},
     "output_type": "display_data"
    },
    {
     "name": "stdout",
     "output_type": "stream",
     "text": [
      "Epoch 27/350, Train Loss: 0.5462, Train Dice: 0.4538, Val Dice: 0.5292, time: 0.44\n"
     ]
    },
    {
     "data": {
      "application/vnd.jupyter.widget-view+json": {
       "model_id": "9c7c533044974197bfc06ef74a0a84ff",
       "version_major": 2,
       "version_minor": 0
      },
      "text/plain": [
       "  0%|          | 0/700 [00:00<?, ?it/s]"
      ]
     },
     "metadata": {},
     "output_type": "display_data"
    },
    {
     "name": "stdout",
     "output_type": "stream",
     "text": [
      "Dice increasing.. 0.531 >> 0.532 \n",
      "saving model...\n",
      "Epoch 28/350, Train Loss: 0.5410, Train Dice: 0.4590, Val Dice: 0.5325, time: 0.43\n"
     ]
    },
    {
     "data": {
      "application/vnd.jupyter.widget-view+json": {
       "model_id": "a1bdf30e586843bfaad02a5d4db16f72",
       "version_major": 2,
       "version_minor": 0
      },
      "text/plain": [
       "  0%|          | 0/700 [00:00<?, ?it/s]"
      ]
     },
     "metadata": {},
     "output_type": "display_data"
    },
    {
     "name": "stdout",
     "output_type": "stream",
     "text": [
      "Epoch 29/350, Train Loss: 0.5388, Train Dice: 0.4612, Val Dice: 0.5235, time: 0.42\n"
     ]
    },
    {
     "data": {
      "application/vnd.jupyter.widget-view+json": {
       "model_id": "a7ef54fb78dc457984df190768d23593",
       "version_major": 2,
       "version_minor": 0
      },
      "text/plain": [
       "  0%|          | 0/700 [00:00<?, ?it/s]"
      ]
     },
     "metadata": {},
     "output_type": "display_data"
    },
    {
     "name": "stdout",
     "output_type": "stream",
     "text": [
      "Epoch 30/350, Train Loss: 0.5377, Train Dice: 0.4623, Val Dice: 0.5244, time: 0.44\n"
     ]
    },
    {
     "data": {
      "application/vnd.jupyter.widget-view+json": {
       "model_id": "874089a4c0ed4010805590bb76d2383f",
       "version_major": 2,
       "version_minor": 0
      },
      "text/plain": [
       "  0%|          | 0/700 [00:00<?, ?it/s]"
      ]
     },
     "metadata": {},
     "output_type": "display_data"
    },
    {
     "name": "stdout",
     "output_type": "stream",
     "text": [
      "Dice increasing.. 0.532 >> 0.541 \n",
      "saving model...\n",
      "Epoch 31/350, Train Loss: 0.5323, Train Dice: 0.4677, Val Dice: 0.5415, time: 0.43\n"
     ]
    },
    {
     "data": {
      "application/vnd.jupyter.widget-view+json": {
       "model_id": "07ddfa789ef8426ab33674f806e1dedf",
       "version_major": 2,
       "version_minor": 0
      },
      "text/plain": [
       "  0%|          | 0/700 [00:00<?, ?it/s]"
      ]
     },
     "metadata": {},
     "output_type": "display_data"
    },
    {
     "name": "stdout",
     "output_type": "stream",
     "text": [
      "Epoch 32/350, Train Loss: 0.5307, Train Dice: 0.4693, Val Dice: 0.5381, time: 0.43\n"
     ]
    },
    {
     "data": {
      "application/vnd.jupyter.widget-view+json": {
       "model_id": "a7de3e9322954b8e89c64af87aeb6f36",
       "version_major": 2,
       "version_minor": 0
      },
      "text/plain": [
       "  0%|          | 0/700 [00:00<?, ?it/s]"
      ]
     },
     "metadata": {},
     "output_type": "display_data"
    },
    {
     "name": "stdout",
     "output_type": "stream",
     "text": [
      "Epoch 33/350, Train Loss: 0.5264, Train Dice: 0.4736, Val Dice: 0.5327, time: 0.45\n"
     ]
    },
    {
     "data": {
      "application/vnd.jupyter.widget-view+json": {
       "model_id": "9b3de3cded5649eb99751217496e46a2",
       "version_major": 2,
       "version_minor": 0
      },
      "text/plain": [
       "  0%|          | 0/700 [00:00<?, ?it/s]"
      ]
     },
     "metadata": {},
     "output_type": "display_data"
    },
    {
     "name": "stdout",
     "output_type": "stream",
     "text": [
      "Epoch 34/350, Train Loss: 0.5279, Train Dice: 0.4721, Val Dice: 0.5371, time: 0.48\n"
     ]
    },
    {
     "data": {
      "application/vnd.jupyter.widget-view+json": {
       "model_id": "34fbae8ce8824596a019da72b7fa2412",
       "version_major": 2,
       "version_minor": 0
      },
      "text/plain": [
       "  0%|          | 0/700 [00:00<?, ?it/s]"
      ]
     },
     "metadata": {},
     "output_type": "display_data"
    },
    {
     "name": "stdout",
     "output_type": "stream",
     "text": [
      "Epoch 35/350, Train Loss: 0.5231, Train Dice: 0.4769, Val Dice: 0.5405, time: 0.44\n"
     ]
    },
    {
     "data": {
      "application/vnd.jupyter.widget-view+json": {
       "model_id": "3494d375ac684c939d1f20331b30b119",
       "version_major": 2,
       "version_minor": 0
      },
      "text/plain": [
       "  0%|          | 0/700 [00:00<?, ?it/s]"
      ]
     },
     "metadata": {},
     "output_type": "display_data"
    },
    {
     "name": "stdout",
     "output_type": "stream",
     "text": [
      "Dice increasing.. 0.541 >> 0.544 \n",
      "saving model...\n",
      "Epoch 36/350, Train Loss: 0.5172, Train Dice: 0.4828, Val Dice: 0.5438, time: 0.46\n"
     ]
    },
    {
     "data": {
      "application/vnd.jupyter.widget-view+json": {
       "model_id": "41901c412de042dd9531f30a3e2b297a",
       "version_major": 2,
       "version_minor": 0
      },
      "text/plain": [
       "  0%|          | 0/700 [00:00<?, ?it/s]"
      ]
     },
     "metadata": {},
     "output_type": "display_data"
    },
    {
     "name": "stdout",
     "output_type": "stream",
     "text": [
      "Dice increasing.. 0.544 >> 0.551 \n",
      "saving model...\n",
      "Epoch 37/350, Train Loss: 0.5147, Train Dice: 0.4853, Val Dice: 0.5512, time: 0.45\n"
     ]
    },
    {
     "data": {
      "application/vnd.jupyter.widget-view+json": {
       "model_id": "faea893553604fae9a0df638eaf82f7c",
       "version_major": 2,
       "version_minor": 0
      },
      "text/plain": [
       "  0%|          | 0/700 [00:00<?, ?it/s]"
      ]
     },
     "metadata": {},
     "output_type": "display_data"
    },
    {
     "name": "stdout",
     "output_type": "stream",
     "text": [
      "Epoch 38/350, Train Loss: 0.5104, Train Dice: 0.4896, Val Dice: 0.5494, time: 0.44\n"
     ]
    },
    {
     "data": {
      "application/vnd.jupyter.widget-view+json": {
       "model_id": "0aa883aa1843439abb409f0f1dc64ee7",
       "version_major": 2,
       "version_minor": 0
      },
      "text/plain": [
       "  0%|          | 0/700 [00:00<?, ?it/s]"
      ]
     },
     "metadata": {},
     "output_type": "display_data"
    },
    {
     "name": "stdout",
     "output_type": "stream",
     "text": [
      "Dice increasing.. 0.551 >> 0.553 \n",
      "saving model...\n",
      "Epoch 39/350, Train Loss: 0.5127, Train Dice: 0.4873, Val Dice: 0.5533, time: 0.44\n"
     ]
    },
    {
     "data": {
      "application/vnd.jupyter.widget-view+json": {
       "model_id": "d538fc629dd645499297de0ca730a086",
       "version_major": 2,
       "version_minor": 0
      },
      "text/plain": [
       "  0%|          | 0/700 [00:00<?, ?it/s]"
      ]
     },
     "metadata": {},
     "output_type": "display_data"
    },
    {
     "name": "stdout",
     "output_type": "stream",
     "text": [
      "Dice increasing.. 0.553 >> 0.558 \n",
      "saving model...\n",
      "Epoch 40/350, Train Loss: 0.5068, Train Dice: 0.4932, Val Dice: 0.5583, time: 0.57\n"
     ]
    },
    {
     "data": {
      "application/vnd.jupyter.widget-view+json": {
       "model_id": "e18a8fa2f4c04e59a9d1f7cd35dd1f33",
       "version_major": 2,
       "version_minor": 0
      },
      "text/plain": [
       "  0%|          | 0/700 [00:00<?, ?it/s]"
      ]
     },
     "metadata": {},
     "output_type": "display_data"
    },
    {
     "name": "stdout",
     "output_type": "stream",
     "text": [
      "Epoch 41/350, Train Loss: 0.5032, Train Dice: 0.4968, Val Dice: 0.5488, time: 0.45\n"
     ]
    },
    {
     "data": {
      "application/vnd.jupyter.widget-view+json": {
       "model_id": "37491a43c4ef487f961f2060be9e2edf",
       "version_major": 2,
       "version_minor": 0
      },
      "text/plain": [
       "  0%|          | 0/700 [00:00<?, ?it/s]"
      ]
     },
     "metadata": {},
     "output_type": "display_data"
    },
    {
     "name": "stdout",
     "output_type": "stream",
     "text": [
      "Dice increasing.. 0.558 >> 0.561 \n",
      "saving model...\n",
      "Epoch 42/350, Train Loss: 0.4998, Train Dice: 0.5002, Val Dice: 0.5610, time: 0.47\n"
     ]
    },
    {
     "data": {
      "application/vnd.jupyter.widget-view+json": {
       "model_id": "dcd767b8ce784e3fb45c03b99b2d6d5c",
       "version_major": 2,
       "version_minor": 0
      },
      "text/plain": [
       "  0%|          | 0/700 [00:00<?, ?it/s]"
      ]
     },
     "metadata": {},
     "output_type": "display_data"
    },
    {
     "name": "stdout",
     "output_type": "stream",
     "text": [
      "Epoch 43/350, Train Loss: 0.4953, Train Dice: 0.5047, Val Dice: 0.5609, time: 0.43\n"
     ]
    },
    {
     "data": {
      "application/vnd.jupyter.widget-view+json": {
       "model_id": "4c4018e3e9b44509a643bba4a314e587",
       "version_major": 2,
       "version_minor": 0
      },
      "text/plain": [
       "  0%|          | 0/700 [00:00<?, ?it/s]"
      ]
     },
     "metadata": {},
     "output_type": "display_data"
    },
    {
     "name": "stdout",
     "output_type": "stream",
     "text": [
      "Dice increasing.. 0.561 >> 0.571 \n",
      "saving model...\n",
      "Epoch 44/350, Train Loss: 0.4988, Train Dice: 0.5012, Val Dice: 0.5714, time: 0.45\n"
     ]
    },
    {
     "data": {
      "application/vnd.jupyter.widget-view+json": {
       "model_id": "478d940894964aaba007ee938c06f79b",
       "version_major": 2,
       "version_minor": 0
      },
      "text/plain": [
       "  0%|          | 0/700 [00:00<?, ?it/s]"
      ]
     },
     "metadata": {},
     "output_type": "display_data"
    },
    {
     "name": "stdout",
     "output_type": "stream",
     "text": [
      "Epoch 45/350, Train Loss: 0.4916, Train Dice: 0.5084, Val Dice: 0.5694, time: 0.46\n"
     ]
    },
    {
     "data": {
      "application/vnd.jupyter.widget-view+json": {
       "model_id": "0056178974d84ca89ecdb910e3a64255",
       "version_major": 2,
       "version_minor": 0
      },
      "text/plain": [
       "  0%|          | 0/700 [00:00<?, ?it/s]"
      ]
     },
     "metadata": {},
     "output_type": "display_data"
    },
    {
     "name": "stdout",
     "output_type": "stream",
     "text": [
      "Epoch 46/350, Train Loss: 0.4900, Train Dice: 0.5100, Val Dice: 0.5651, time: 0.45\n"
     ]
    },
    {
     "data": {
      "application/vnd.jupyter.widget-view+json": {
       "model_id": "ef5c85f7ae964d56a18b11bdf8192d90",
       "version_major": 2,
       "version_minor": 0
      },
      "text/plain": [
       "  0%|          | 0/700 [00:00<?, ?it/s]"
      ]
     },
     "metadata": {},
     "output_type": "display_data"
    },
    {
     "name": "stdout",
     "output_type": "stream",
     "text": [
      "Epoch 47/350, Train Loss: 0.4832, Train Dice: 0.5168, Val Dice: 0.5711, time: 0.45\n"
     ]
    },
    {
     "data": {
      "application/vnd.jupyter.widget-view+json": {
       "model_id": "024da7585c2d4d8b8021c7d4b17ea4d0",
       "version_major": 2,
       "version_minor": 0
      },
      "text/plain": [
       "  0%|          | 0/700 [00:00<?, ?it/s]"
      ]
     },
     "metadata": {},
     "output_type": "display_data"
    },
    {
     "name": "stdout",
     "output_type": "stream",
     "text": [
      "Epoch 48/350, Train Loss: 0.4802, Train Dice: 0.5198, Val Dice: 0.5662, time: 0.46\n"
     ]
    },
    {
     "data": {
      "application/vnd.jupyter.widget-view+json": {
       "model_id": "2e4f1241cffc48c0b7699529fac93606",
       "version_major": 2,
       "version_minor": 0
      },
      "text/plain": [
       "  0%|          | 0/700 [00:00<?, ?it/s]"
      ]
     },
     "metadata": {},
     "output_type": "display_data"
    },
    {
     "name": "stdout",
     "output_type": "stream",
     "text": [
      "Dice increasing.. 0.571 >> 0.579 \n",
      "saving model...\n",
      "Epoch 49/350, Train Loss: 0.4815, Train Dice: 0.5185, Val Dice: 0.5785, time: 0.46\n"
     ]
    },
    {
     "data": {
      "application/vnd.jupyter.widget-view+json": {
       "model_id": "69267c02f6ff4d88b5cdc035089534d0",
       "version_major": 2,
       "version_minor": 0
      },
      "text/plain": [
       "  0%|          | 0/700 [00:00<?, ?it/s]"
      ]
     },
     "metadata": {},
     "output_type": "display_data"
    },
    {
     "name": "stdout",
     "output_type": "stream",
     "text": [
      "Epoch 50/350, Train Loss: 0.4738, Train Dice: 0.5262, Val Dice: 0.5754, time: 0.46\n"
     ]
    },
    {
     "data": {
      "application/vnd.jupyter.widget-view+json": {
       "model_id": "b6f7124f008547648f1a8cd3252c616d",
       "version_major": 2,
       "version_minor": 0
      },
      "text/plain": [
       "  0%|          | 0/700 [00:00<?, ?it/s]"
      ]
     },
     "metadata": {},
     "output_type": "display_data"
    },
    {
     "name": "stdout",
     "output_type": "stream",
     "text": [
      "Dice increasing.. 0.579 >> 0.581 \n",
      "saving model...\n",
      "Epoch 51/350, Train Loss: 0.4690, Train Dice: 0.5310, Val Dice: 0.5814, time: 0.43\n"
     ]
    },
    {
     "data": {
      "application/vnd.jupyter.widget-view+json": {
       "model_id": "e54c036225b1432d8ce1603ea4914d62",
       "version_major": 2,
       "version_minor": 0
      },
      "text/plain": [
       "  0%|          | 0/700 [00:00<?, ?it/s]"
      ]
     },
     "metadata": {},
     "output_type": "display_data"
    },
    {
     "name": "stdout",
     "output_type": "stream",
     "text": [
      "Epoch 52/350, Train Loss: 0.4674, Train Dice: 0.5326, Val Dice: 0.5671, time: 0.45\n"
     ]
    },
    {
     "data": {
      "application/vnd.jupyter.widget-view+json": {
       "model_id": "fdb9839a4f4c4230ad6c264958589744",
       "version_major": 2,
       "version_minor": 0
      },
      "text/plain": [
       "  0%|          | 0/700 [00:00<?, ?it/s]"
      ]
     },
     "metadata": {},
     "output_type": "display_data"
    },
    {
     "name": "stdout",
     "output_type": "stream",
     "text": [
      "Dice increasing.. 0.581 >> 0.582 \n",
      "saving model...\n",
      "Epoch 53/350, Train Loss: 0.4618, Train Dice: 0.5382, Val Dice: 0.5824, time: 0.46\n"
     ]
    },
    {
     "data": {
      "application/vnd.jupyter.widget-view+json": {
       "model_id": "598893652cae4d43a12bec8faf778038",
       "version_major": 2,
       "version_minor": 0
      },
      "text/plain": [
       "  0%|          | 0/700 [00:00<?, ?it/s]"
      ]
     },
     "metadata": {},
     "output_type": "display_data"
    },
    {
     "name": "stdout",
     "output_type": "stream",
     "text": [
      "Dice increasing.. 0.582 >> 0.584 \n",
      "saving model...\n",
      "Epoch 54/350, Train Loss: 0.4613, Train Dice: 0.5387, Val Dice: 0.5840, time: 0.56\n"
     ]
    },
    {
     "data": {
      "application/vnd.jupyter.widget-view+json": {
       "model_id": "fe9c4bcb112a4c6fbbddf913a136a2a2",
       "version_major": 2,
       "version_minor": 0
      },
      "text/plain": [
       "  0%|          | 0/700 [00:00<?, ?it/s]"
      ]
     },
     "metadata": {},
     "output_type": "display_data"
    },
    {
     "name": "stdout",
     "output_type": "stream",
     "text": [
      "Epoch 55/350, Train Loss: 0.4548, Train Dice: 0.5452, Val Dice: 0.5802, time: 0.44\n"
     ]
    },
    {
     "data": {
      "application/vnd.jupyter.widget-view+json": {
       "model_id": "9cea16fefe314802bd337834fa7eca83",
       "version_major": 2,
       "version_minor": 0
      },
      "text/plain": [
       "  0%|          | 0/700 [00:00<?, ?it/s]"
      ]
     },
     "metadata": {},
     "output_type": "display_data"
    },
    {
     "name": "stdout",
     "output_type": "stream",
     "text": [
      "Epoch 56/350, Train Loss: 0.4528, Train Dice: 0.5472, Val Dice: 0.5832, time: 0.45\n"
     ]
    },
    {
     "data": {
      "application/vnd.jupyter.widget-view+json": {
       "model_id": "7daf26787cfb45b0951672b52ec0d291",
       "version_major": 2,
       "version_minor": 0
      },
      "text/plain": [
       "  0%|          | 0/700 [00:00<?, ?it/s]"
      ]
     },
     "metadata": {},
     "output_type": "display_data"
    },
    {
     "name": "stdout",
     "output_type": "stream",
     "text": [
      "Dice increasing.. 0.584 >> 0.584 \n",
      "saving model...\n",
      "Epoch 57/350, Train Loss: 0.4472, Train Dice: 0.5528, Val Dice: 0.5845, time: 0.45\n"
     ]
    },
    {
     "data": {
      "application/vnd.jupyter.widget-view+json": {
       "model_id": "df8cec9af863481fafc0c883365887d8",
       "version_major": 2,
       "version_minor": 0
      },
      "text/plain": [
       "  0%|          | 0/700 [00:00<?, ?it/s]"
      ]
     },
     "metadata": {},
     "output_type": "display_data"
    },
    {
     "name": "stdout",
     "output_type": "stream",
     "text": [
      "Dice increasing.. 0.584 >> 0.588 \n",
      "saving model...\n",
      "Epoch 58/350, Train Loss: 0.4419, Train Dice: 0.5581, Val Dice: 0.5885, time: 0.47\n"
     ]
    },
    {
     "data": {
      "application/vnd.jupyter.widget-view+json": {
       "model_id": "08b9ce18a22743ba86128d44cdb01d60",
       "version_major": 2,
       "version_minor": 0
      },
      "text/plain": [
       "  0%|          | 0/700 [00:00<?, ?it/s]"
      ]
     },
     "metadata": {},
     "output_type": "display_data"
    },
    {
     "name": "stdout",
     "output_type": "stream",
     "text": [
      "Epoch 59/350, Train Loss: 0.4356, Train Dice: 0.5644, Val Dice: 0.5876, time: 0.47\n"
     ]
    },
    {
     "data": {
      "application/vnd.jupyter.widget-view+json": {
       "model_id": "0cc5a96ab1c64d3a987729a9cd3e9a5e",
       "version_major": 2,
       "version_minor": 0
      },
      "text/plain": [
       "  0%|          | 0/700 [00:00<?, ?it/s]"
      ]
     },
     "metadata": {},
     "output_type": "display_data"
    },
    {
     "name": "stdout",
     "output_type": "stream",
     "text": [
      "Epoch 60/350, Train Loss: 0.4315, Train Dice: 0.5685, Val Dice: 0.5885, time: 0.48\n"
     ]
    },
    {
     "data": {
      "application/vnd.jupyter.widget-view+json": {
       "model_id": "f68d9123c87b4797af9c1b2c65870f38",
       "version_major": 2,
       "version_minor": 0
      },
      "text/plain": [
       "  0%|          | 0/700 [00:00<?, ?it/s]"
      ]
     },
     "metadata": {},
     "output_type": "display_data"
    },
    {
     "name": "stdout",
     "output_type": "stream",
     "text": [
      "Dice increasing.. 0.588 >> 0.589 \n",
      "saving model...\n",
      "Epoch 61/350, Train Loss: 0.4303, Train Dice: 0.5697, Val Dice: 0.5888, time: 0.46\n"
     ]
    },
    {
     "data": {
      "application/vnd.jupyter.widget-view+json": {
       "model_id": "459613c9b6214c8d853589fc582f64c2",
       "version_major": 2,
       "version_minor": 0
      },
      "text/plain": [
       "  0%|          | 0/700 [00:00<?, ?it/s]"
      ]
     },
     "metadata": {},
     "output_type": "display_data"
    },
    {
     "name": "stdout",
     "output_type": "stream",
     "text": [
      "Epoch 62/350, Train Loss: 0.4231, Train Dice: 0.5769, Val Dice: 0.5796, time: 0.45\n"
     ]
    },
    {
     "data": {
      "application/vnd.jupyter.widget-view+json": {
       "model_id": "46d60aa484a341ae9740e0c73d70c049",
       "version_major": 2,
       "version_minor": 0
      },
      "text/plain": [
       "  0%|          | 0/700 [00:00<?, ?it/s]"
      ]
     },
     "metadata": {},
     "output_type": "display_data"
    },
    {
     "name": "stdout",
     "output_type": "stream",
     "text": [
      "Dice increasing.. 0.589 >> 0.591 \n",
      "saving model...\n",
      "Epoch 63/350, Train Loss: 0.4157, Train Dice: 0.5843, Val Dice: 0.5905, time: 0.45\n"
     ]
    },
    {
     "data": {
      "application/vnd.jupyter.widget-view+json": {
       "model_id": "26ec3ccce8c54644a1fce8988e7ecba3",
       "version_major": 2,
       "version_minor": 0
      },
      "text/plain": [
       "  0%|          | 0/700 [00:00<?, ?it/s]"
      ]
     },
     "metadata": {},
     "output_type": "display_data"
    },
    {
     "name": "stdout",
     "output_type": "stream",
     "text": [
      "Dice increasing.. 0.591 >> 0.595 \n",
      "saving model...\n",
      "Epoch 64/350, Train Loss: 0.4161, Train Dice: 0.5839, Val Dice: 0.5951, time: 0.48\n"
     ]
    },
    {
     "data": {
      "application/vnd.jupyter.widget-view+json": {
       "model_id": "dc196085df824255a2bc6d2da81a34b3",
       "version_major": 2,
       "version_minor": 0
      },
      "text/plain": [
       "  0%|          | 0/700 [00:00<?, ?it/s]"
      ]
     },
     "metadata": {},
     "output_type": "display_data"
    },
    {
     "name": "stdout",
     "output_type": "stream",
     "text": [
      "Epoch 65/350, Train Loss: 0.4054, Train Dice: 0.5946, Val Dice: 0.5872, time: 0.46\n"
     ]
    },
    {
     "data": {
      "application/vnd.jupyter.widget-view+json": {
       "model_id": "63a20e5bc0914402aebd56b3a2fb29c0",
       "version_major": 2,
       "version_minor": 0
      },
      "text/plain": [
       "  0%|          | 0/700 [00:00<?, ?it/s]"
      ]
     },
     "metadata": {},
     "output_type": "display_data"
    },
    {
     "name": "stdout",
     "output_type": "stream",
     "text": [
      "Epoch 66/350, Train Loss: 0.4035, Train Dice: 0.5965, Val Dice: 0.5931, time: 0.49\n"
     ]
    },
    {
     "data": {
      "application/vnd.jupyter.widget-view+json": {
       "model_id": "cfb36791007746558ae2ac79127f515b",
       "version_major": 2,
       "version_minor": 0
      },
      "text/plain": [
       "  0%|          | 0/700 [00:00<?, ?it/s]"
      ]
     },
     "metadata": {},
     "output_type": "display_data"
    },
    {
     "name": "stdout",
     "output_type": "stream",
     "text": [
      "Epoch 67/350, Train Loss: 0.3981, Train Dice: 0.6019, Val Dice: 0.5948, time: 0.43\n"
     ]
    },
    {
     "data": {
      "application/vnd.jupyter.widget-view+json": {
       "model_id": "76430d40981c4729a88e8ce9f748db4c",
       "version_major": 2,
       "version_minor": 0
      },
      "text/plain": [
       "  0%|          | 0/700 [00:00<?, ?it/s]"
      ]
     },
     "metadata": {},
     "output_type": "display_data"
    },
    {
     "name": "stdout",
     "output_type": "stream",
     "text": [
      "Epoch 68/350, Train Loss: 0.3958, Train Dice: 0.6042, Val Dice: 0.5787, time: 0.55\n"
     ]
    },
    {
     "data": {
      "application/vnd.jupyter.widget-view+json": {
       "model_id": "cdeeb8bb0f5442ccb2a215870ef38142",
       "version_major": 2,
       "version_minor": 0
      },
      "text/plain": [
       "  0%|          | 0/700 [00:00<?, ?it/s]"
      ]
     },
     "metadata": {},
     "output_type": "display_data"
    },
    {
     "name": "stdout",
     "output_type": "stream",
     "text": [
      "Epoch 69/350, Train Loss: 0.3904, Train Dice: 0.6096, Val Dice: 0.5921, time: 0.45\n"
     ]
    },
    {
     "data": {
      "application/vnd.jupyter.widget-view+json": {
       "model_id": "d2f1b87a27a54e50b0fb6e21b2ad33b5",
       "version_major": 2,
       "version_minor": 0
      },
      "text/plain": [
       "  0%|          | 0/700 [00:00<?, ?it/s]"
      ]
     },
     "metadata": {},
     "output_type": "display_data"
    },
    {
     "name": "stdout",
     "output_type": "stream",
     "text": [
      "Epoch 70/350, Train Loss: 0.3905, Train Dice: 0.6095, Val Dice: 0.5889, time: 0.45\n"
     ]
    },
    {
     "data": {
      "application/vnd.jupyter.widget-view+json": {
       "model_id": "48bbc7aa85944a0eb39cca25917b721f",
       "version_major": 2,
       "version_minor": 0
      },
      "text/plain": [
       "  0%|          | 0/700 [00:00<?, ?it/s]"
      ]
     },
     "metadata": {},
     "output_type": "display_data"
    },
    {
     "name": "stdout",
     "output_type": "stream",
     "text": [
      "Epoch 71/350, Train Loss: 0.3851, Train Dice: 0.6149, Val Dice: 0.5854, time: 0.48\n"
     ]
    },
    {
     "data": {
      "application/vnd.jupyter.widget-view+json": {
       "model_id": "90bafeff105a4bbe8780cb784cee9850",
       "version_major": 2,
       "version_minor": 0
      },
      "text/plain": [
       "  0%|          | 0/700 [00:00<?, ?it/s]"
      ]
     },
     "metadata": {},
     "output_type": "display_data"
    },
    {
     "name": "stdout",
     "output_type": "stream",
     "text": [
      "Epoch 72/350, Train Loss: 0.3787, Train Dice: 0.6213, Val Dice: 0.5879, time: 0.45\n"
     ]
    },
    {
     "data": {
      "application/vnd.jupyter.widget-view+json": {
       "model_id": "9281c5a4e92a407994fde9ad199b15b0",
       "version_major": 2,
       "version_minor": 0
      },
      "text/plain": [
       "  0%|          | 0/700 [00:00<?, ?it/s]"
      ]
     },
     "metadata": {},
     "output_type": "display_data"
    },
    {
     "name": "stdout",
     "output_type": "stream",
     "text": [
      "Epoch 73/350, Train Loss: 0.3749, Train Dice: 0.6251, Val Dice: 0.5892, time: 0.47\n"
     ]
    },
    {
     "data": {
      "application/vnd.jupyter.widget-view+json": {
       "model_id": "4c1edbed73584b0ca63c579ae1da0f1f",
       "version_major": 2,
       "version_minor": 0
      },
      "text/plain": [
       "  0%|          | 0/700 [00:00<?, ?it/s]"
      ]
     },
     "metadata": {},
     "output_type": "display_data"
    },
    {
     "name": "stdout",
     "output_type": "stream",
     "text": [
      "Epoch 74/350, Train Loss: 0.3660, Train Dice: 0.6340, Val Dice: 0.5844, time: 0.48\n"
     ]
    },
    {
     "data": {
      "application/vnd.jupyter.widget-view+json": {
       "model_id": "1f24e93b56644e58ab732aeaf7f4fd4a",
       "version_major": 2,
       "version_minor": 0
      },
      "text/plain": [
       "  0%|          | 0/700 [00:00<?, ?it/s]"
      ]
     },
     "metadata": {},
     "output_type": "display_data"
    },
    {
     "name": "stdout",
     "output_type": "stream",
     "text": [
      "Epoch 75/350, Train Loss: 0.3648, Train Dice: 0.6352, Val Dice: 0.5796, time: 0.47\n"
     ]
    },
    {
     "data": {
      "application/vnd.jupyter.widget-view+json": {
       "model_id": "f5246e1671f84c1ba4f462377f388a5e",
       "version_major": 2,
       "version_minor": 0
      },
      "text/plain": [
       "  0%|          | 0/700 [00:00<?, ?it/s]"
      ]
     },
     "metadata": {},
     "output_type": "display_data"
    },
    {
     "name": "stdout",
     "output_type": "stream",
     "text": [
      "Dice increasing.. 0.595 >> 0.602 \n",
      "saving model...\n",
      "Epoch 76/350, Train Loss: 0.3625, Train Dice: 0.6375, Val Dice: 0.6023, time: 0.45\n"
     ]
    },
    {
     "data": {
      "application/vnd.jupyter.widget-view+json": {
       "model_id": "59ad41fe48754ab7b8a6a9d0bacd505c",
       "version_major": 2,
       "version_minor": 0
      },
      "text/plain": [
       "  0%|          | 0/700 [00:00<?, ?it/s]"
      ]
     },
     "metadata": {},
     "output_type": "display_data"
    },
    {
     "name": "stdout",
     "output_type": "stream",
     "text": [
      "Epoch 77/350, Train Loss: 0.3537, Train Dice: 0.6463, Val Dice: 0.5750, time: 0.47\n"
     ]
    },
    {
     "data": {
      "application/vnd.jupyter.widget-view+json": {
       "model_id": "3e9feb7d143a4b449334190c0033ce41",
       "version_major": 2,
       "version_minor": 0
      },
      "text/plain": [
       "  0%|          | 0/700 [00:00<?, ?it/s]"
      ]
     },
     "metadata": {},
     "output_type": "display_data"
    },
    {
     "name": "stdout",
     "output_type": "stream",
     "text": [
      "Dice increasing.. 0.602 >> 0.610 \n",
      "saving model...\n",
      "Epoch 78/350, Train Loss: 0.3496, Train Dice: 0.6504, Val Dice: 0.6102, time: 0.47\n"
     ]
    },
    {
     "data": {
      "application/vnd.jupyter.widget-view+json": {
       "model_id": "d51c1913032d459cbba29b1259284ab9",
       "version_major": 2,
       "version_minor": 0
      },
      "text/plain": [
       "  0%|          | 0/700 [00:00<?, ?it/s]"
      ]
     },
     "metadata": {},
     "output_type": "display_data"
    },
    {
     "name": "stdout",
     "output_type": "stream",
     "text": [
      "Epoch 79/350, Train Loss: 0.3478, Train Dice: 0.6522, Val Dice: 0.5938, time: 0.47\n"
     ]
    },
    {
     "data": {
      "application/vnd.jupyter.widget-view+json": {
       "model_id": "078473d5e99f4dcf99956953c87fab51",
       "version_major": 2,
       "version_minor": 0
      },
      "text/plain": [
       "  0%|          | 0/700 [00:00<?, ?it/s]"
      ]
     },
     "metadata": {},
     "output_type": "display_data"
    },
    {
     "name": "stdout",
     "output_type": "stream",
     "text": [
      "Epoch 80/350, Train Loss: 0.3452, Train Dice: 0.6548, Val Dice: 0.5787, time: 0.44\n"
     ]
    },
    {
     "data": {
      "application/vnd.jupyter.widget-view+json": {
       "model_id": "acea568f98364fc0bb64cc80df618c0f",
       "version_major": 2,
       "version_minor": 0
      },
      "text/plain": [
       "  0%|          | 0/700 [00:00<?, ?it/s]"
      ]
     },
     "metadata": {},
     "output_type": "display_data"
    },
    {
     "name": "stdout",
     "output_type": "stream",
     "text": [
      "Epoch 81/350, Train Loss: 0.3375, Train Dice: 0.6625, Val Dice: 0.6071, time: 0.48\n"
     ]
    },
    {
     "data": {
      "application/vnd.jupyter.widget-view+json": {
       "model_id": "7c536a15e6d1419698924e015fbcaf94",
       "version_major": 2,
       "version_minor": 0
      },
      "text/plain": [
       "  0%|          | 0/700 [00:00<?, ?it/s]"
      ]
     },
     "metadata": {},
     "output_type": "display_data"
    },
    {
     "name": "stdout",
     "output_type": "stream",
     "text": [
      "Epoch 82/350, Train Loss: 0.3339, Train Dice: 0.6661, Val Dice: 0.6101, time: 0.55\n"
     ]
    },
    {
     "data": {
      "application/vnd.jupyter.widget-view+json": {
       "model_id": "7777007b50034af0b944174dec857729",
       "version_major": 2,
       "version_minor": 0
      },
      "text/plain": [
       "  0%|          | 0/700 [00:00<?, ?it/s]"
      ]
     },
     "metadata": {},
     "output_type": "display_data"
    },
    {
     "name": "stdout",
     "output_type": "stream",
     "text": [
      "Epoch 83/350, Train Loss: 0.3264, Train Dice: 0.6736, Val Dice: 0.5983, time: 0.48\n"
     ]
    },
    {
     "data": {
      "application/vnd.jupyter.widget-view+json": {
       "model_id": "7d4d9475b17449709664285221ee4eee",
       "version_major": 2,
       "version_minor": 0
      },
      "text/plain": [
       "  0%|          | 0/700 [00:00<?, ?it/s]"
      ]
     },
     "metadata": {},
     "output_type": "display_data"
    },
    {
     "name": "stdout",
     "output_type": "stream",
     "text": [
      "Epoch 84/350, Train Loss: 0.3249, Train Dice: 0.6751, Val Dice: 0.6024, time: 0.45\n"
     ]
    },
    {
     "data": {
      "application/vnd.jupyter.widget-view+json": {
       "model_id": "57334c7e4a774d27ad4b60dcd206e8ea",
       "version_major": 2,
       "version_minor": 0
      },
      "text/plain": [
       "  0%|          | 0/700 [00:00<?, ?it/s]"
      ]
     },
     "metadata": {},
     "output_type": "display_data"
    },
    {
     "name": "stdout",
     "output_type": "stream",
     "text": [
      "Epoch 85/350, Train Loss: 0.3240, Train Dice: 0.6760, Val Dice: 0.5906, time: 0.45\n"
     ]
    },
    {
     "data": {
      "application/vnd.jupyter.widget-view+json": {
       "model_id": "159531ffc0364fb4b8f79f2a6d259e8d",
       "version_major": 2,
       "version_minor": 0
      },
      "text/plain": [
       "  0%|          | 0/700 [00:00<?, ?it/s]"
      ]
     },
     "metadata": {},
     "output_type": "display_data"
    },
    {
     "name": "stdout",
     "output_type": "stream",
     "text": [
      "Epoch 86/350, Train Loss: 0.3203, Train Dice: 0.6797, Val Dice: 0.6099, time: 0.46\n"
     ]
    },
    {
     "data": {
      "application/vnd.jupyter.widget-view+json": {
       "model_id": "fe7474cc183c40b992353ecdeebddb35",
       "version_major": 2,
       "version_minor": 0
      },
      "text/plain": [
       "  0%|          | 0/700 [00:00<?, ?it/s]"
      ]
     },
     "metadata": {},
     "output_type": "display_data"
    },
    {
     "name": "stdout",
     "output_type": "stream",
     "text": [
      "Dice increasing.. 0.610 >> 0.614 \n",
      "saving model...\n",
      "Epoch 87/350, Train Loss: 0.3139, Train Dice: 0.6861, Val Dice: 0.6141, time: 0.46\n"
     ]
    },
    {
     "data": {
      "application/vnd.jupyter.widget-view+json": {
       "model_id": "51b615d416aa407cabe196f6838a2d7a",
       "version_major": 2,
       "version_minor": 0
      },
      "text/plain": [
       "  0%|          | 0/700 [00:00<?, ?it/s]"
      ]
     },
     "metadata": {},
     "output_type": "display_data"
    },
    {
     "name": "stdout",
     "output_type": "stream",
     "text": [
      "Epoch 88/350, Train Loss: 0.3073, Train Dice: 0.6927, Val Dice: 0.5786, time: 0.44\n"
     ]
    },
    {
     "data": {
      "application/vnd.jupyter.widget-view+json": {
       "model_id": "9ad0a01bac5f44dfba4a64f3aec85562",
       "version_major": 2,
       "version_minor": 0
      },
      "text/plain": [
       "  0%|          | 0/700 [00:00<?, ?it/s]"
      ]
     },
     "metadata": {},
     "output_type": "display_data"
    },
    {
     "name": "stdout",
     "output_type": "stream",
     "text": [
      "Dice increasing.. 0.614 >> 0.618 \n",
      "saving model...\n",
      "Epoch 92/350, Train Loss: 0.2929, Train Dice: 0.7071, Val Dice: 0.6184, time: 0.46\n"
     ]
    },
    {
     "data": {
      "application/vnd.jupyter.widget-view+json": {
       "model_id": "f30dc3ed986347798ca4287c64782446",
       "version_major": 2,
       "version_minor": 0
      },
      "text/plain": [
       "  0%|          | 0/700 [00:00<?, ?it/s]"
      ]
     },
     "metadata": {},
     "output_type": "display_data"
    },
    {
     "name": "stdout",
     "output_type": "stream",
     "text": [
      "Epoch 93/350, Train Loss: 0.2917, Train Dice: 0.7083, Val Dice: 0.6127, time: 0.48\n"
     ]
    },
    {
     "data": {
      "application/vnd.jupyter.widget-view+json": {
       "model_id": "08104c5874a94a4cac3fe7d72284ad3b",
       "version_major": 2,
       "version_minor": 0
      },
      "text/plain": [
       "  0%|          | 0/700 [00:00<?, ?it/s]"
      ]
     },
     "metadata": {},
     "output_type": "display_data"
    },
    {
     "name": "stdout",
     "output_type": "stream",
     "text": [
      "Epoch 94/350, Train Loss: 0.2916, Train Dice: 0.7084, Val Dice: 0.6164, time: 0.49\n"
     ]
    },
    {
     "data": {
      "application/vnd.jupyter.widget-view+json": {
       "model_id": "a0251208f663481681f260aa231a149f",
       "version_major": 2,
       "version_minor": 0
      },
      "text/plain": [
       "  0%|          | 0/700 [00:00<?, ?it/s]"
      ]
     },
     "metadata": {},
     "output_type": "display_data"
    },
    {
     "name": "stdout",
     "output_type": "stream",
     "text": [
      "Epoch 95/350, Train Loss: 0.2845, Train Dice: 0.7155, Val Dice: 0.6171, time: 0.56\n"
     ]
    },
    {
     "data": {
      "application/vnd.jupyter.widget-view+json": {
       "model_id": "8dece4ffef7843ae96ff0edad835bcfa",
       "version_major": 2,
       "version_minor": 0
      },
      "text/plain": [
       "  0%|          | 0/700 [00:00<?, ?it/s]"
      ]
     },
     "metadata": {},
     "output_type": "display_data"
    },
    {
     "name": "stdout",
     "output_type": "stream",
     "text": [
      "Epoch 96/350, Train Loss: 0.2777, Train Dice: 0.7223, Val Dice: 0.6115, time: 0.49\n"
     ]
    },
    {
     "data": {
      "application/vnd.jupyter.widget-view+json": {
       "model_id": "cbd9cf9802f843b1a0ba601c1d83c90b",
       "version_major": 2,
       "version_minor": 0
      },
      "text/plain": [
       "  0%|          | 0/700 [00:00<?, ?it/s]"
      ]
     },
     "metadata": {},
     "output_type": "display_data"
    },
    {
     "name": "stdout",
     "output_type": "stream",
     "text": [
      "Dice increasing.. 0.618 >> 0.622 \n",
      "saving model...\n",
      "Epoch 97/350, Train Loss: 0.2758, Train Dice: 0.7242, Val Dice: 0.6218, time: 0.50\n"
     ]
    },
    {
     "data": {
      "application/vnd.jupyter.widget-view+json": {
       "model_id": "294430abc27344e29694d13392205f0a",
       "version_major": 2,
       "version_minor": 0
      },
      "text/plain": [
       "  0%|          | 0/700 [00:00<?, ?it/s]"
      ]
     },
     "metadata": {},
     "output_type": "display_data"
    },
    {
     "name": "stderr",
     "output_type": "stream",
     "text": [
      "IOPub message rate exceeded.\n",
      "The notebook server will temporarily stop sending output\n",
      "to the client in order to avoid crashing it.\n",
      "To change this limit, set the config variable\n",
      "`--NotebookApp.iopub_msg_rate_limit`.\n",
      "\n",
      "Current values:\n",
      "NotebookApp.iopub_msg_rate_limit=1000.0 (msgs/sec)\n",
      "NotebookApp.rate_limit_window=3.0 (secs)\n",
      "\n"
     ]
    },
    {
     "name": "stdout",
     "output_type": "stream",
     "text": [
      "Epoch 113/350, Train Loss: 0.2211, Train Dice: 0.7789, Val Dice: 0.6009, time: 0.46\n"
     ]
    },
    {
     "data": {
      "application/vnd.jupyter.widget-view+json": {
       "model_id": "61b82d6beaf3482f91d2140906f0feff",
       "version_major": 2,
       "version_minor": 0
      },
      "text/plain": [
       "  0%|          | 0/700 [00:00<?, ?it/s]"
      ]
     },
     "metadata": {},
     "output_type": "display_data"
    },
    {
     "name": "stdout",
     "output_type": "stream",
     "text": [
      "Epoch 114/350, Train Loss: 0.2179, Train Dice: 0.7821, Val Dice: 0.5603, time: 0.48\n"
     ]
    },
    {
     "data": {
      "application/vnd.jupyter.widget-view+json": {
       "model_id": "9de7ea264ffb4c728838ca1244a24854",
       "version_major": 2,
       "version_minor": 0
      },
      "text/plain": [
       "  0%|          | 0/700 [00:00<?, ?it/s]"
      ]
     },
     "metadata": {},
     "output_type": "display_data"
    },
    {
     "name": "stderr",
     "output_type": "stream",
     "text": [
      "IOPub message rate exceeded.\n",
      "The notebook server will temporarily stop sending output\n",
      "to the client in order to avoid crashing it.\n",
      "To change this limit, set the config variable\n",
      "`--NotebookApp.iopub_msg_rate_limit`.\n",
      "\n",
      "Current values:\n",
      "NotebookApp.iopub_msg_rate_limit=1000.0 (msgs/sec)\n",
      "NotebookApp.rate_limit_window=3.0 (secs)\n",
      "\n"
     ]
    },
    {
     "name": "stdout",
     "output_type": "stream",
     "text": [
      "Epoch 117/350, Train Loss: 0.2110, Train Dice: 0.7890, Val Dice: 0.6063, time: 0.45\n"
     ]
    },
    {
     "data": {
      "application/vnd.jupyter.widget-view+json": {
       "model_id": "d06018c6cb7240989bdd9cd64a44b81d",
       "version_major": 2,
       "version_minor": 0
      },
      "text/plain": [
       "  0%|          | 0/700 [00:00<?, ?it/s]"
      ]
     },
     "metadata": {},
     "output_type": "display_data"
    },
    {
     "name": "stdout",
     "output_type": "stream",
     "text": [
      "Epoch 118/350, Train Loss: 0.2106, Train Dice: 0.7894, Val Dice: 0.6018, time: 0.45\n"
     ]
    },
    {
     "data": {
      "application/vnd.jupyter.widget-view+json": {
       "model_id": "c5cc19cf65b3460ba1517168f079f80d",
       "version_major": 2,
       "version_minor": 0
      },
      "text/plain": [
       "  0%|          | 0/700 [00:00<?, ?it/s]"
      ]
     },
     "metadata": {},
     "output_type": "display_data"
    },
    {
     "name": "stdout",
     "output_type": "stream",
     "text": [
      "Epoch 119/350, Train Loss: 0.2063, Train Dice: 0.7937, Val Dice: 0.5921, time: 0.47\n"
     ]
    },
    {
     "data": {
      "application/vnd.jupyter.widget-view+json": {
       "model_id": "99aea653e7e341169ab277198e113300",
       "version_major": 2,
       "version_minor": 0
      },
      "text/plain": [
       "  0%|          | 0/700 [00:00<?, ?it/s]"
      ]
     },
     "metadata": {},
     "output_type": "display_data"
    },
    {
     "name": "stdout",
     "output_type": "stream",
     "text": [
      "Epoch 120/350, Train Loss: 0.2048, Train Dice: 0.7952, Val Dice: 0.5946, time: 0.48\n"
     ]
    },
    {
     "data": {
      "application/vnd.jupyter.widget-view+json": {
       "model_id": "a8b133610d1b4eabb3cb19768a0af3b7",
       "version_major": 2,
       "version_minor": 0
      },
      "text/plain": [
       "  0%|          | 0/700 [00:00<?, ?it/s]"
      ]
     },
     "metadata": {},
     "output_type": "display_data"
    },
    {
     "name": "stderr",
     "output_type": "stream",
     "text": [
      "IOPub message rate exceeded.\n",
      "The notebook server will temporarily stop sending output\n",
      "to the client in order to avoid crashing it.\n",
      "To change this limit, set the config variable\n",
      "`--NotebookApp.iopub_msg_rate_limit`.\n",
      "\n",
      "Current values:\n",
      "NotebookApp.iopub_msg_rate_limit=1000.0 (msgs/sec)\n",
      "NotebookApp.rate_limit_window=3.0 (secs)\n",
      "\n"
     ]
    },
    {
     "name": "stdout",
     "output_type": "stream",
     "text": [
      "Epoch 135/350, Train Loss: 0.1700, Train Dice: 0.8300, Val Dice: 0.6211, time: 0.45\n"
     ]
    },
    {
     "data": {
      "application/vnd.jupyter.widget-view+json": {
       "model_id": "5c64fb45a1c54ecc9af9bd3d8346dae3",
       "version_major": 2,
       "version_minor": 0
      },
      "text/plain": [
       "  0%|          | 0/700 [00:00<?, ?it/s]"
      ]
     },
     "metadata": {},
     "output_type": "display_data"
    },
    {
     "name": "stdout",
     "output_type": "stream",
     "text": [
      "Epoch 136/350, Train Loss: 0.1679, Train Dice: 0.8321, Val Dice: 0.6027, time: 0.52\n"
     ]
    },
    {
     "data": {
      "application/vnd.jupyter.widget-view+json": {
       "model_id": "0f8c16b420e94239b47b1b7369f67b96",
       "version_major": 2,
       "version_minor": 0
      },
      "text/plain": [
       "  0%|          | 0/700 [00:00<?, ?it/s]"
      ]
     },
     "metadata": {},
     "output_type": "display_data"
    },
    {
     "name": "stderr",
     "output_type": "stream",
     "text": [
      "IOPub message rate exceeded.\n",
      "The notebook server will temporarily stop sending output\n",
      "to the client in order to avoid crashing it.\n",
      "To change this limit, set the config variable\n",
      "`--NotebookApp.iopub_msg_rate_limit`.\n",
      "\n",
      "Current values:\n",
      "NotebookApp.iopub_msg_rate_limit=1000.0 (msgs/sec)\n",
      "NotebookApp.rate_limit_window=3.0 (secs)\n",
      "\n"
     ]
    },
    {
     "name": "stdout",
     "output_type": "stream",
     "text": [
      "Epoch 138/350, Train Loss: 0.1660, Train Dice: 0.8340, Val Dice: 0.6166, time: 0.45\n"
     ]
    },
    {
     "data": {
      "application/vnd.jupyter.widget-view+json": {
       "model_id": "758d4dd0c008444eb6fac0f38dbbd562",
       "version_major": 2,
       "version_minor": 0
      },
      "text/plain": [
       "  0%|          | 0/700 [00:00<?, ?it/s]"
      ]
     },
     "metadata": {},
     "output_type": "display_data"
    },
    {
     "name": "stdout",
     "output_type": "stream",
     "text": [
      "Epoch 139/350, Train Loss: 0.1753, Train Dice: 0.8247, Val Dice: 0.6176, time: 0.46\n"
     ]
    },
    {
     "data": {
      "application/vnd.jupyter.widget-view+json": {
       "model_id": "9a088361d18c4835bb6135f558606e5d",
       "version_major": 2,
       "version_minor": 0
      },
      "text/plain": [
       "  0%|          | 0/700 [00:00<?, ?it/s]"
      ]
     },
     "metadata": {},
     "output_type": "display_data"
    },
    {
     "name": "stdout",
     "output_type": "stream",
     "text": [
      "Dice increasing.. 0.630 >> 0.637 \n",
      "saving model...\n",
      "Epoch 140/350, Train Loss: 0.1640, Train Dice: 0.8360, Val Dice: 0.6368, time: 0.47\n"
     ]
    },
    {
     "data": {
      "application/vnd.jupyter.widget-view+json": {
       "model_id": "f5193444427442c8b1172294d24aa256",
       "version_major": 2,
       "version_minor": 0
      },
      "text/plain": [
       "  0%|          | 0/700 [00:00<?, ?it/s]"
      ]
     },
     "metadata": {},
     "output_type": "display_data"
    },
    {
     "name": "stdout",
     "output_type": "stream",
     "text": [
      "Epoch 141/350, Train Loss: 0.1579, Train Dice: 0.8421, Val Dice: 0.6316, time: 0.45\n"
     ]
    },
    {
     "data": {
      "application/vnd.jupyter.widget-view+json": {
       "model_id": "28d9608d84134f569acf966061fd5310",
       "version_major": 2,
       "version_minor": 0
      },
      "text/plain": [
       "  0%|          | 0/700 [00:00<?, ?it/s]"
      ]
     },
     "metadata": {},
     "output_type": "display_data"
    },
    {
     "name": "stdout",
     "output_type": "stream",
     "text": [
      "Epoch 142/350, Train Loss: 0.1622, Train Dice: 0.8378, Val Dice: 0.6164, time: 0.46\n"
     ]
    },
    {
     "data": {
      "application/vnd.jupyter.widget-view+json": {
       "model_id": "36ac2261e7294da1a5179f320cba3d59",
       "version_major": 2,
       "version_minor": 0
      },
      "text/plain": [
       "  0%|          | 0/700 [00:00<?, ?it/s]"
      ]
     },
     "metadata": {},
     "output_type": "display_data"
    },
    {
     "name": "stderr",
     "output_type": "stream",
     "text": [
      "IOPub message rate exceeded.\n",
      "The notebook server will temporarily stop sending output\n",
      "to the client in order to avoid crashing it.\n",
      "To change this limit, set the config variable\n",
      "`--NotebookApp.iopub_msg_rate_limit`.\n",
      "\n",
      "Current values:\n",
      "NotebookApp.iopub_msg_rate_limit=1000.0 (msgs/sec)\n",
      "NotebookApp.rate_limit_window=3.0 (secs)\n",
      "\n"
     ]
    },
    {
     "name": "stdout",
     "output_type": "stream",
     "text": [
      "Epoch 157/350, Train Loss: 0.1347, Train Dice: 0.8653, Val Dice: 0.6307, time: 0.44\n"
     ]
    },
    {
     "data": {
      "application/vnd.jupyter.widget-view+json": {
       "model_id": "b4dda404da5d4d72a5dceb5e18190ad8",
       "version_major": 2,
       "version_minor": 0
      },
      "text/plain": [
       "  0%|          | 0/700 [00:00<?, ?it/s]"
      ]
     },
     "metadata": {},
     "output_type": "display_data"
    },
    {
     "name": "stdout",
     "output_type": "stream",
     "text": [
      "Epoch 158/350, Train Loss: 0.1312, Train Dice: 0.8688, Val Dice: 0.6262, time: 0.44\n"
     ]
    },
    {
     "data": {
      "application/vnd.jupyter.widget-view+json": {
       "model_id": "fdf753b9cd854da98f7b432246dc3757",
       "version_major": 2,
       "version_minor": 0
      },
      "text/plain": [
       "  0%|          | 0/700 [00:00<?, ?it/s]"
      ]
     },
     "metadata": {},
     "output_type": "display_data"
    },
    {
     "name": "stdout",
     "output_type": "stream",
     "text": [
      "Dice increasing.. 0.641 >> 0.646 \n",
      "saving model...\n",
      "Epoch 159/350, Train Loss: 0.1364, Train Dice: 0.8636, Val Dice: 0.6458, time: 0.46\n"
     ]
    },
    {
     "data": {
      "application/vnd.jupyter.widget-view+json": {
       "model_id": "b1a1e9879eea4e5f8d160f4241ddce68",
       "version_major": 2,
       "version_minor": 0
      },
      "text/plain": [
       "  0%|          | 0/700 [00:00<?, ?it/s]"
      ]
     },
     "metadata": {},
     "output_type": "display_data"
    },
    {
     "name": "stdout",
     "output_type": "stream",
     "text": [
      "Epoch 160/350, Train Loss: 0.1329, Train Dice: 0.8671, Val Dice: 0.6341, time: 0.47\n"
     ]
    },
    {
     "data": {
      "application/vnd.jupyter.widget-view+json": {
       "model_id": "8279e7e9acdf4e5ba3d1cd5c5562c749",
       "version_major": 2,
       "version_minor": 0
      },
      "text/plain": [
       "  0%|          | 0/700 [00:00<?, ?it/s]"
      ]
     },
     "metadata": {},
     "output_type": "display_data"
    },
    {
     "name": "stdout",
     "output_type": "stream",
     "text": [
      "Epoch 161/350, Train Loss: 0.1307, Train Dice: 0.8693, Val Dice: 0.6350, time: 0.46\n"
     ]
    },
    {
     "data": {
      "application/vnd.jupyter.widget-view+json": {
       "model_id": "6265968f7a99440bbc9776f0ce49ede2",
       "version_major": 2,
       "version_minor": 0
      },
      "text/plain": [
       "  0%|          | 0/700 [00:00<?, ?it/s]"
      ]
     },
     "metadata": {},
     "output_type": "display_data"
    },
    {
     "name": "stdout",
     "output_type": "stream",
     "text": [
      "Epoch 162/350, Train Loss: 0.1254, Train Dice: 0.8746, Val Dice: 0.6293, time: 0.48\n"
     ]
    },
    {
     "data": {
      "application/vnd.jupyter.widget-view+json": {
       "model_id": "2e62082406504949b0db41fa589d4439",
       "version_major": 2,
       "version_minor": 0
      },
      "text/plain": [
       "  0%|          | 0/700 [00:00<?, ?it/s]"
      ]
     },
     "metadata": {},
     "output_type": "display_data"
    },
    {
     "name": "stderr",
     "output_type": "stream",
     "text": [
      "IOPub message rate exceeded.\n",
      "The notebook server will temporarily stop sending output\n",
      "to the client in order to avoid crashing it.\n",
      "To change this limit, set the config variable\n",
      "`--NotebookApp.iopub_msg_rate_limit`.\n",
      "\n",
      "Current values:\n",
      "NotebookApp.iopub_msg_rate_limit=1000.0 (msgs/sec)\n",
      "NotebookApp.rate_limit_window=3.0 (secs)\n",
      "\n"
     ]
    },
    {
     "name": "stdout",
     "output_type": "stream",
     "text": [
      "Epoch 175/350, Train Loss: 0.1128, Train Dice: 0.8872, Val Dice: 0.6240, time: 0.48\n"
     ]
    },
    {
     "data": {
      "application/vnd.jupyter.widget-view+json": {
       "model_id": "873b60b7dd87451a882333c6b1d5c7b1",
       "version_major": 2,
       "version_minor": 0
      },
      "text/plain": [
       "  0%|          | 0/700 [00:00<?, ?it/s]"
      ]
     },
     "metadata": {},
     "output_type": "display_data"
    },
    {
     "name": "stdout",
     "output_type": "stream",
     "text": [
      "Epoch 176/350, Train Loss: 0.1119, Train Dice: 0.8881, Val Dice: 0.6311, time: 0.48\n"
     ]
    },
    {
     "data": {
      "application/vnd.jupyter.widget-view+json": {
       "model_id": "4744a06cb7ac4de49ff22abe8a97a16c",
       "version_major": 2,
       "version_minor": 0
      },
      "text/plain": [
       "  0%|          | 0/700 [00:00<?, ?it/s]"
      ]
     },
     "metadata": {},
     "output_type": "display_data"
    },
    {
     "name": "stdout",
     "output_type": "stream",
     "text": [
      "Epoch 177/350, Train Loss: 0.1107, Train Dice: 0.8893, Val Dice: 0.6343, time: 0.48\n"
     ]
    },
    {
     "data": {
      "application/vnd.jupyter.widget-view+json": {
       "model_id": "643bc7f895b34017960881c66c32cf29",
       "version_major": 2,
       "version_minor": 0
      },
      "text/plain": [
       "  0%|          | 0/700 [00:00<?, ?it/s]"
      ]
     },
     "metadata": {},
     "output_type": "display_data"
    },
    {
     "name": "stdout",
     "output_type": "stream",
     "text": [
      "Epoch 178/350, Train Loss: 0.1106, Train Dice: 0.8894, Val Dice: 0.5729, time: 0.56\n"
     ]
    },
    {
     "data": {
      "application/vnd.jupyter.widget-view+json": {
       "model_id": "8bb1288ebdf145b395ae659ac873edcb",
       "version_major": 2,
       "version_minor": 0
      },
      "text/plain": [
       "  0%|          | 0/700 [00:00<?, ?it/s]"
      ]
     },
     "metadata": {},
     "output_type": "display_data"
    },
    {
     "name": "stdout",
     "output_type": "stream",
     "text": [
      "Epoch 179/350, Train Loss: 0.1086, Train Dice: 0.8914, Val Dice: 0.6415, time: 0.46\n"
     ]
    },
    {
     "data": {
      "application/vnd.jupyter.widget-view+json": {
       "model_id": "ad673bcfa1a54779b97e72e5d83c97d6",
       "version_major": 2,
       "version_minor": 0
      },
      "text/plain": [
       "  0%|          | 0/700 [00:00<?, ?it/s]"
      ]
     },
     "metadata": {},
     "output_type": "display_data"
    },
    {
     "name": "stdout",
     "output_type": "stream",
     "text": [
      "Epoch 180/350, Train Loss: 0.1040, Train Dice: 0.8960, Val Dice: 0.6392, time: 0.46\n"
     ]
    },
    {
     "data": {
      "application/vnd.jupyter.widget-view+json": {
       "model_id": "204c847205684b38ad57b847d73de147",
       "version_major": 2,
       "version_minor": 0
      },
      "text/plain": [
       "  0%|          | 0/700 [00:00<?, ?it/s]"
      ]
     },
     "metadata": {},
     "output_type": "display_data"
    },
    {
     "name": "stderr",
     "output_type": "stream",
     "text": [
      "IOPub message rate exceeded.\n",
      "The notebook server will temporarily stop sending output\n",
      "to the client in order to avoid crashing it.\n",
      "To change this limit, set the config variable\n",
      "`--NotebookApp.iopub_msg_rate_limit`.\n",
      "\n",
      "Current values:\n",
      "NotebookApp.iopub_msg_rate_limit=1000.0 (msgs/sec)\n",
      "NotebookApp.rate_limit_window=3.0 (secs)\n",
      "\n"
     ]
    }
   ],
   "source": [
    "optimizer = optim.Adam(model.parameters(), lr=1e-5)#, momentum=0.9)\n",
    "torch.cuda.empty_cache()\n",
    "max_dice = 0\n",
    "train_losses = []\n",
    "test_losses = []\n",
    "train_dices = []\n",
    "val_dices = []\n",
    "decrease = 1  \n",
    "fit_time = time.time()\n",
    "not_improve=0\n",
    "for epoch in range(epochs):\n",
    "    # Your dataset or data loading logic goes here\n",
    "    since = time.time()\n",
    "    # Training\n",
    "    model.train()\n",
    "    train_loss = 0\n",
    "    train_dice = 0\n",
    "    num_batches = 0\n",
    "    \n",
    "    for i,data in enumerate(tqdm(train_loader)):  # Replace train_loader with your data loader\n",
    "        inputs, labels = data\n",
    "        # Forward pass\n",
    "        inputs = inputs.to(device)\n",
    "        labels = labels.to(device)\n",
    "        outputs = model(inputs)\n",
    "        # Calculate loss\n",
    "        loss = dice_loss(outputs, labels)\n",
    "        \n",
    "        # Backpropagation and optimization\n",
    "        optimizer.zero_grad()\n",
    "        loss.backward()\n",
    "        optimizer.step()\n",
    "        \n",
    "        train_loss += loss.item()\n",
    "        train_dice += dice_coeff(outputs, labels).item()\n",
    "        num_batches += 1\n",
    "    \n",
    "    train_loss /= num_batches\n",
    "    train_dice /= num_batches\n",
    "    \n",
    "    # Validation\n",
    "    model.eval()\n",
    "    val_dice = 0.0\n",
    "    test_loss = 0.0\n",
    "    with torch.no_grad():\n",
    "        for val_inputs, val_targets in val_loader:\n",
    "            val_inputs = val_inputs.to(device)\n",
    "            val_targets = val_targets.to(device)\n",
    "            val_outputs = model(val_inputs)\n",
    "            val_dice += dice_coeff(val_outputs,val_targets).item()\n",
    "            test_loss += dice_loss(val_outputs,val_targets).item()\n",
    "            \n",
    "    val_dice /= len(val_loader)\n",
    "    test_loss /= len(val_loader)\n",
    "    # Perform validation and calculate validation loss and dice coefficient\n",
    "    train_losses.append(train_loss)\n",
    "    test_losses.append(test_loss)\n",
    "    train_dices.append(train_dice)\n",
    "    val_dices.append(val_dice)\n",
    "    if max_dice < val_dice:\n",
    "        print('Dice increasing.. {:.3f} >> {:.3f} '.format(max_dice, val_dice))\n",
    "        max_dice = val_dice\n",
    "        decrease += 1\n",
    "        not_improve = 0\n",
    "        #if decrease % 5 == 0:\n",
    "        print('saving model...')\n",
    "        #torch.save(model, 'TransAttUNetSkip-{:.3f}.pt'.format(val_dice))\n",
    "        #torch.save(model, filename)\n",
    "        torch.save(model.state_dict(), filename_sd)\n",
    "    if max_dice > val_dice:\n",
    "        not_improve += 1\n",
    "#         min_loss = test_loss\n",
    "#         print(f'Loss Not Decrease for {not_improve} time')\n",
    "        if not_improve == 30:\n",
    "            print('Loss hasnt decreased for 30 epochs, Stopping Training')\n",
    "            break\n",
    "    \n",
    "    # Print the metrics+\n",
    "    print(f\"Epoch {epoch+1}/{epochs}, Train Loss: {train_loss:.4f}, Train Dice: {train_dice:.4f}, Val Dice: {val_dice:.4f}, time: {((time.time() - since)/60):.2f}\")\n",
    "\n",
    "    "
   ]
  },
  {
   "cell_type": "code",
   "execution_count": 14,
   "id": "429cb2ef",
   "metadata": {},
   "outputs": [
    {
     "data": {
      "text/plain": [
       "<All keys matched successfully>"
      ]
     },
     "execution_count": 14,
     "metadata": {},
     "output_type": "execute_result"
    }
   ],
   "source": [
    "model.load_state_dict(torch.load(filename_sd))"
   ]
  },
  {
   "cell_type": "code",
   "execution_count": 15,
   "id": "b9647e49",
   "metadata": {},
   "outputs": [
    {
     "name": "stdout",
     "output_type": "stream",
     "text": [
      "max training dice:  0.901778451830157\n",
      "max validation dice:  0.6457716904673725\n"
     ]
    }
   ],
   "source": [
    "history = {'train_loss' : train_losses, 'val_loss': test_losses,\n",
    "           'train_dice' :train_dices, 'val_dice':val_dices}\n",
    "print('max training dice: ',max(train_dices))\n",
    "print('max validation dice: ',max(val_dices))"
   ]
  },
  {
   "cell_type": "code",
   "execution_count": 16,
   "id": "3afcc84e",
   "metadata": {},
   "outputs": [
    {
     "data": {
      "image/png": "[encoded data removed]",
      "text/plain": [
       "<Figure size 640x480 with 1 Axes>"
      ]
     },
     "metadata": {},
     "output_type": "display_data"
    }
   ],
   "source": [
    "#plot the training and validation IoU and loss at each epoch\n",
    "loss = history['train_loss']\n",
    "val_loss = history['val_loss']\n",
    "epochs = range(1, len(loss) + 1)\n",
    "plt.plot(epochs, loss, 'y', label='Training loss')\n",
    "plt.plot(epochs, val_loss, 'r', label='Validation loss')\n",
    "plt.title('Training and validation loss')\n",
    "plt.xlabel('Epochs')\n",
    "plt.ylabel('Loss')\n",
    "plt.legend()\n",
    "plt.show()"
   ]
  },
  {
   "cell_type": "code",
   "execution_count": 17,
   "id": "cdb4ff1a",
   "metadata": {},
   "outputs": [
    {
     "data": {
      "image/png": "[encoded data removed]",
      "text/plain": [
       "<Figure size 640x480 with 1 Axes>"
      ]
     },
     "metadata": {},
     "output_type": "display_data"
    }
   ],
   "source": [
    "#plot the training and validation IoU and loss at each epoch\n",
    "loss = history['train_dice']\n",
    "val_loss = history['val_dice']\n",
    "epochs = range(1, len(loss) + 1)\n",
    "plt.plot(epochs, loss, 'y', label='Training dice')\n",
    "plt.plot(epochs, val_loss, 'r', label='Validation dice')\n",
    "plt.title('Training and validation dice')\n",
    "plt.xlabel('Epochs')\n",
    "plt.ylabel('Dice')\n",
    "plt.legend()\n",
    "plt.show()"
   ]
  },
  {
   "cell_type": "code",
   "execution_count": 18,
   "id": "86b58772",
   "metadata": {},
   "outputs": [
    {
     "data": {
      "application/vnd.jupyter.widget-view+json": {
       "model_id": "dca682aaaac148da8be7982c3397cb6f",
       "version_major": 2,
       "version_minor": 0
      },
      "text/plain": [
       "  0%|          | 0/200 [00:00<?, ?it/s]"
      ]
     },
     "metadata": {},
     "output_type": "display_data"
    },
    {
     "name": "stdout",
     "output_type": "stream",
     "text": [
      "Test dice at 0.9:  0.6198212982212135\n",
      "Test dice at 0.8:  0.6197529248744832\n",
      "Test dice at 0.7:  0.6196795956997811\n",
      "Test dice at 0.6:  0.6196018836881558\n",
      "Test dice at 0.5:  0.6195974431597279\n",
      "Test dice at 0.4:  0.6195312698624912\n",
      "Test dice at 0.3:  0.6194770399537083\n",
      "Test dice at 0.2:  0.619406035181164\n",
      "Test dice at 0.1:  0.6192012477565731\n",
      "Test dice at 0.05:  0.6190099933129386\n",
      "Test dice at 0.01:  0.6185141563625075\n",
      "Test dice at 0.005:  0.6180924948358006\n",
      "Test dice at 0.001:  0.6163191461233509\n",
      "Test dice at 0.0005:  0.6148777621823683\n",
      "Test dice at 0.0001:  0.6104662891676708\n",
      "Test dice at 0.00005:  0.6080392367134846\n",
      "Test dice at 0.00001:  0.6002418058666809\n",
      "Test dice at 0.000005:  0.5956301143877499\n",
      "Test dice at 0.000001:  0.5804842858646225\n",
      "Test dice at 0.0000005:  0.571952901914301\n",
      "Test dice at 0.0000001:  0.5479794609877353\n"
     ]
    }
   ],
   "source": [
    "num_batches = 1\n",
    "# Validation\n",
    "model.eval()\n",
    "test_dice9 = []\n",
    "test_dice8 = []\n",
    "test_dice7 = []\n",
    "test_dice6 = []\n",
    "test_dice5 = []\n",
    "test_dice4 = []\n",
    "test_dice3 = []\n",
    "test_dice2 = []\n",
    "test_dice1 = []\n",
    "test_dice05 = []\n",
    "test_dice01 = []\n",
    "test_dice005 = []\n",
    "test_dice001 = []\n",
    "test_dice0005 = []\n",
    "test_dice0001 = []\n",
    "test_dice00005 = []\n",
    "test_dice00001 = []\n",
    "test_dice000005 = []\n",
    "test_dice000001 = []\n",
    "test_dice0000005 = []\n",
    "test_dice0000001 = []\n",
    "with torch.no_grad():\n",
    "    for val_inputs, val_targets in tqdm(test_loader):\n",
    "        val_inputs = val_inputs.to(device)\n",
    "        val_targets = val_targets.to(device)\n",
    "        val_outputs = model(val_inputs)\n",
    "        #print(np.unique(val_outputs))\n",
    "        test_outputs = torch.where(val_outputs>0.9,torch.tensor(1),torch.tensor(0))\n",
    "        test_dice9.append(dice_coeff(test_outputs,val_targets).item())\n",
    "        test_outputs = torch.where(val_outputs>0.8,torch.tensor(1),torch.tensor(0))\n",
    "        test_dice8.append(dice_coeff(test_outputs,val_targets).item())\n",
    "        test_outputs = torch.where(val_outputs>0.7,torch.tensor(1),torch.tensor(0))\n",
    "        test_dice7.append(dice_coeff(test_outputs,val_targets).item())\n",
    "        test_outputs = torch.where(val_outputs>0.6,torch.tensor(1),torch.tensor(0))\n",
    "        test_dice6.append(dice_coeff(test_outputs,val_targets).item())\n",
    "        test_outputs = torch.where(val_outputs>0.5,torch.tensor(1),torch.tensor(0))\n",
    "        test_dice5.append(dice_coeff(test_outputs,val_targets).item())\n",
    "        test_outputs = torch.where(val_outputs>0.4,torch.tensor(1),torch.tensor(0))\n",
    "        test_dice4.append(dice_coeff(test_outputs,val_targets).item())\n",
    "        test_outputs = torch.where(val_outputs>0.3,torch.tensor(1),torch.tensor(0))\n",
    "        test_dice3.append(dice_coeff(test_outputs,val_targets).item())\n",
    "        test_outputs = torch.where(val_outputs>0.2,torch.tensor(1),torch.tensor(0))\n",
    "        test_dice2.append(dice_coeff(test_outputs,val_targets).item())\n",
    "        test_outputs = torch.where(val_outputs>0.1,torch.tensor(1),torch.tensor(0))\n",
    "        test_dice1.append(dice_coeff(test_outputs,val_targets).item())\n",
    "        test_outputs = torch.where(val_outputs>0.05,torch.tensor(1),torch.tensor(0))\n",
    "        test_dice05.append(dice_coeff(test_outputs,val_targets).item())\n",
    "        test_outputs = torch.where(val_outputs>0.01,torch.tensor(1),torch.tensor(0))\n",
    "        test_dice01.append(dice_coeff(test_outputs,val_targets).item())\n",
    "        test_outputs = torch.where(val_outputs>0.005,torch.tensor(1),torch.tensor(0))\n",
    "        test_dice005.append(dice_coeff(test_outputs,val_targets).item())\n",
    "        test_outputs = torch.where(val_outputs>0.001,torch.tensor(1),torch.tensor(0))\n",
    "        test_dice001.append(dice_coeff(test_outputs,val_targets).item())\n",
    "        test_outputs = torch.where(val_outputs>0.0005,torch.tensor(1),torch.tensor(0))\n",
    "        test_dice0005.append(dice_coeff(test_outputs,val_targets).item())\n",
    "        test_outputs = torch.where(val_outputs>0.0001,torch.tensor(1),torch.tensor(0))\n",
    "        test_dice0001.append(dice_coeff(test_outputs,val_targets).item())\n",
    "        test_outputs = torch.where(val_outputs>0.00005,torch.tensor(1),torch.tensor(0))\n",
    "        test_dice00005.append(dice_coeff(test_outputs,val_targets).item())\n",
    "        test_outputs = torch.where(val_outputs>0.00001,torch.tensor(1),torch.tensor(0))\n",
    "        test_dice00001.append(dice_coeff(test_outputs,val_targets).item())\n",
    "        test_outputs = torch.where(val_outputs>0.000005,torch.tensor(1),torch.tensor(0))\n",
    "        test_dice000005.append(dice_coeff(test_outputs,val_targets).item())\n",
    "        test_outputs = torch.where(val_outputs>0.000001,torch.tensor(1),torch.tensor(0))\n",
    "        test_dice000001.append(dice_coeff(test_outputs,val_targets).item())\n",
    "        test_outputs = torch.where(val_outputs>0.0000005,torch.tensor(1),torch.tensor(0))\n",
    "        test_dice0000005.append(dice_coeff(test_outputs,val_targets).item())\n",
    "        test_outputs = torch.where(val_outputs>0.0000001,torch.tensor(1),torch.tensor(0))\n",
    "        test_dice0000001.append(dice_coeff(test_outputs,val_targets).item())\n",
    "        \n",
    "        \n",
    "        \n",
    "\n",
    "print('Test dice at 0.9: ',np.mean(test_dice9))\n",
    "print('Test dice at 0.8: ',np.mean(test_dice8))\n",
    "print('Test dice at 0.7: ',np.mean(test_dice7))\n",
    "print('Test dice at 0.6: ',np.mean(test_dice6))\n",
    "print('Test dice at 0.5: ',np.mean(test_dice5))\n",
    "print('Test dice at 0.4: ',np.mean(test_dice4))\n",
    "print('Test dice at 0.3: ',np.mean(test_dice3))\n",
    "print('Test dice at 0.2: ',np.mean(test_dice2))\n",
    "print('Test dice at 0.1: ',np.mean(test_dice1))\n",
    "print('Test dice at 0.05: ',np.mean(test_dice05))\n",
    "print('Test dice at 0.01: ',np.mean(test_dice01))\n",
    "print('Test dice at 0.005: ',np.mean(test_dice005))\n",
    "print('Test dice at 0.001: ',np.mean(test_dice001))\n",
    "print('Test dice at 0.0005: ',np.mean(test_dice0005))\n",
    "print('Test dice at 0.0001: ',np.mean(test_dice0001))\n",
    "print('Test dice at 0.00005: ',np.mean(test_dice00005))\n",
    "print('Test dice at 0.00001: ',np.mean(test_dice00001))\n",
    "print('Test dice at 0.000005: ',np.mean(test_dice000005))\n",
    "print('Test dice at 0.000001: ',np.mean(test_dice000001))\n",
    "print('Test dice at 0.0000005: ',np.mean(test_dice0000005))\n",
    "print('Test dice at 0.0000001: ',np.mean(test_dice0000001))"
   ]
  },
  {
   "cell_type": "code",
   "execution_count": null,
   "id": "5030b612",
   "metadata": {},
   "outputs": [],
   "source": []
  }
 ],
 "metadata": {
  "kernelspec": {
   "display_name": "Python [conda env:tor] *",
   "language": "python",
   "name": "conda-env-tor-py"
  },
  "language_info": {
   "codemirror_mode": {
    "name": "ipython",
    "version": 3
   },
   "file_extension": ".py",
   "mimetype": "text/x-python",
   "name": "python",
   "nbconvert_exporter": "python",
   "pygments_lexer": "ipython3",
   "version": "3.10.6"
  }
 },
 "nbformat": 4,
 "nbformat_minor": 5
}
