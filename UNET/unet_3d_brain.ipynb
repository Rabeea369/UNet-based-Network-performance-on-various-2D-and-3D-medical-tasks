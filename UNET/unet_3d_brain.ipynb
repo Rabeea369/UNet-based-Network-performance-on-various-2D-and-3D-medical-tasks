{
 "cells": [
  {
   "cell_type": "code",
   "execution_count": 1,
   "id": "55ba70e6",
   "metadata": {},
   "outputs": [
    {
     "name": "stdout",
     "output_type": "stream",
     "text": [
      "[name: \"/device:CPU:0\"\n",
      "device_type: \"CPU\"\n",
      "memory_limit: 268435456\n",
      "locality {\n",
      "}\n",
      "incarnation: 2626918575772539376\n",
      "xla_global_id: -1\n",
      ", name: \"/device:GPU:0\"\n",
      "device_type: \"GPU\"\n",
      "memory_limit: 82767642624\n",
      "locality {\n",
      "  bus_id: 2\n",
      "  numa_node: 1\n",
      "  links {\n",
      "  }\n",
      "}\n",
      "incarnation: 14385069805594712547\n",
      "physical_device_desc: \"device: 0, name: NVIDIA A100 80GB PCIe, pci bus id: 0000:b1:00.0, compute capability: 8.0\"\n",
      "xla_global_id: 416903419\n",
      "]\n",
      "WARNING:tensorflow:From /tmp/ipykernel_1514696/2977558704.py:12: is_gpu_available (from tensorflow.python.framework.test_util) is deprecated and will be removed in a future version.\n",
      "Instructions for updating:\n",
      "Use `tf.config.list_physical_devices('GPU')` instead.\n"
     ]
    },
    {
     "name": "stderr",
     "output_type": "stream",
     "text": [
      "2023-09-17 14:22:24.715994: I tensorflow/core/platform/cpu_feature_guard.cc:151] This TensorFlow binary is optimized with oneAPI Deep Neural Network Library (oneDNN) to use the following CPU instructions in performance-critical operations:  AVX2 AVX512F FMA\n",
      "To enable them in other operations, rebuild TensorFlow with the appropriate compiler flags.\n",
      "2023-09-17 14:22:25.732673: I tensorflow/core/common_runtime/gpu/gpu_device.cc:1525] Created device /device:GPU:0 with 78933 MB memory:  -> device: 0, name: NVIDIA A100 80GB PCIe, pci bus id: 0000:b1:00.0, compute capability: 8.0\n",
      "2023-09-17 14:22:25.740627: I tensorflow/core/common_runtime/gpu/gpu_device.cc:1525] Created device /device:GPU:0 with 78933 MB memory:  -> device: 0, name: NVIDIA A100 80GB PCIe, pci bus id: 0000:b1:00.0, compute capability: 8.0\n"
     ]
    },
    {
     "data": {
      "text/plain": [
       "True"
      ]
     },
     "execution_count": 1,
     "metadata": {},
     "output_type": "execute_result"
    }
   ],
   "source": [
    "import os\n",
    "os.environ['CUDA_VISIBLE_DEVICES'] = \"1\"\n",
    "from numpy.random import seed\n",
    "seed(20)  ##15 for left canal\n",
    "import google.protobuf\n",
    "\n",
    "import gast\n",
    "import tensorflow as tf\n",
    "tf.random.set_seed(20) ##32 for training 1\n",
    "from tensorflow.python.client import device_lib \n",
    "print(device_lib.list_local_devices())\n",
    "tf.test.is_gpu_available()"
   ]
  },
  {
   "cell_type": "code",
   "execution_count": 2,
   "id": "67c6103a",
   "metadata": {},
   "outputs": [],
   "source": [
    "import tensorflow.keras.backend as K\n",
    "def dice_coefficient(y_true, y_pred, axis=(0, 1, 2, 3)):\n",
    "    \"\"\"\n",
    "    Compute mean dice coefficient over all classes.\n",
    "\n",
    "    Args:\n",
    "        y_true: Ground truth values for all classes.\n",
    "                 shape: (batch_size, x_dim, y_dim, z_dim, num_classes)\n",
    "        y_pred: Predictions for all classes.\n",
    "                 shape: (batch_size, x_dim, y_dim, z_dim, num_classes)\n",
    "        axis (tuple): Spatial axes to sum over when computing numerator and\n",
    "                      denominator in formula for dice coefficient.\n",
    "    Returns:\n",
    "        dice_coefficient (float): Mean value of dice coefficient over all classes.\n",
    "    \"\"\"\n",
    "    dice_numerator = 2 * K.sum(y_pred * y_true, axis=axis) + K.epsilon()\n",
    "    dice_denominator = K.sum(y_pred ** 2, axis=axis) + K.sum(y_true ** 2, axis=axis) + K.epsilon()\n",
    "\n",
    "    dice_coefficient = K.mean(dice_numerator / dice_denominator)\n",
    "\n",
    "    return dice_coefficient\n",
    "\n",
    "def dice_loss(y_true, y_pred, axis=(0, 1, 2, 3)):\n",
    "    \"\"\"\n",
    "    Compute mean dice loss over all classes.\n",
    "\n",
    "    Args:\n",
    "        y_true: Ground truth values for all classes.\n",
    "                 shape: (batch_size, x_dim, y_dim, z_dim, num_classes)\n",
    "        y_pred: Predictions for all classes.\n",
    "                 shape: (batch_size, x_dim, y_dim, z_dim, num_classes)\n",
    "        axis (tuple): Spatial axes to sum over when computing numerator and\n",
    "                      denominator in formula for dice loss.\n",
    "    Returns:\n",
    "        dice_loss (float): Mean value of dice loss over all classes.\n",
    "    \"\"\"\n",
    "    dice_loss = 1 - dice_coefficient(\n",
    "        y_true=y_true,\n",
    "        y_pred=y_pred,\n",
    "        axis=axis\n",
    "    )\n",
    "\n",
    "    return dice_loss\n",
    "def dice_coefficient_binary(y_true, y_pred):\n",
    "    \"\"\"\n",
    "    Compute dice coefficient (binary segmentation).\n",
    "\n",
    "    Args:\n",
    "        y_true: Ground truth values for all classes.\n",
    "                 shape: (batch_size, x_dim, y_dim, z_dim)\n",
    "        y_pred: Predictions for all classes.\n",
    "                 shape: (batch_size, x_dim, y_dim, z_dim)\n",
    "\n",
    "    Returns:\n",
    "        dice_coefficient (float): Value of dice coefficient.\n",
    "    \"\"\"\n",
    "    y_true_f = K.flatten(y_true)\n",
    "    y_pred_f = K.flatten(y_pred)\n",
    "    intersection = K.sum(y_true_f * y_pred_f)\n",
    "\n",
    "    return (2. * intersection + K.epsilon()) / (\n",
    "            K.sum(y_true_f) + K.sum(y_pred_f) + K.epsilon())\n",
    "\n",
    "\n",
    "def dice_loss_binary(y_true, y_pred):\n",
    "    \"\"\"\n",
    "    Compute dice loss (binary segmentation).\n",
    "\n",
    "    Args:\n",
    "        y_true: Ground truth values for all classes.\n",
    "                 shape: (batch_size, x_dim, y_dim, z_dim)\n",
    "        y_pred: Predictions for all classes.\n",
    "                 shape: (batch_size, x_dim, y_dim, z_dim)\n",
    "\n",
    "    Returns:\n",
    "        dice_loss (float): Value of dice loss.\n",
    "    \"\"\"\n",
    "    loss = 1 - dice_coefficient_binary(y_true, y_pred)\n",
    "\n",
    "    return loss\n"
   ]
  },
  {
   "cell_type": "code",
   "execution_count": 3,
   "id": "167a1c32",
   "metadata": {},
   "outputs": [],
   "source": [
    "import cv2\n",
    "import glob\n",
    "import random\n",
    "from tqdm import tqdm\n",
    "import skimage.io as io\n",
    "import cv2\n",
    "import skimage.transform as trans\n",
    "import numpy as np\n",
    "import matplotlib.pyplot as plt\n",
    "import pydicom\n",
    "import SimpleITK as sitk\n",
    "import nibabel as nib\n",
    "from scipy import ndimage\n",
    "import albumentations as A"
   ]
  },
  {
   "cell_type": "code",
   "execution_count": 4,
   "id": "bbb57d2a",
   "metadata": {},
   "outputs": [],
   "source": [
    "train_data_dir = \"/home/rabeea/brain/train/\"\n",
    "val_data_dir = \"/home/rabeea/brain/val/\"\n",
    "test_data_dir = \"/home/rabeea/brain/test/\""
   ]
  },
  {
   "cell_type": "code",
   "execution_count": 5,
   "id": "b0883b22",
   "metadata": {},
   "outputs": [],
   "source": [
    "train_mri_paths = [os.path.join(os.path.join(train_data_dir, \"images\"), x) for x in os.listdir(os.path.join(train_data_dir,\"images\"))]\n",
    "train_mask_paths = [os.path.join(os.path.join(train_data_dir, \"masks\"), x) for x in os.listdir(os.path.join(train_data_dir, \"masks\"))]\n",
    "\n",
    "val_mri_paths = [os.path.join(os.path.join(val_data_dir, \"images\"), x) for x in os.listdir(os.path.join(val_data_dir, \"images\"))]\n",
    "val_mask_paths = [os.path.join(os.path.join(val_data_dir, \"masks\"), x) for x in os.listdir(os.path.join(val_data_dir, \"masks\"))]\n",
    "\n",
    "test_mri_paths = [os.path.join(os.path.join(test_data_dir, \"images\"), x) for x in os.listdir(os.path.join(test_data_dir, \"images\"))]\n",
    "test_mask_paths = [os.path.join(os.path.join(test_data_dir, \"masks\"), x) for x in os.listdir(os.path.join(test_data_dir, \"masks\"))]"
   ]
  },
  {
   "cell_type": "code",
   "execution_count": 6,
   "id": "0af6d4f4",
   "metadata": {},
   "outputs": [],
   "source": [
    "import json\n",
    "import keras\n",
    "from tensorflow.keras.models import load_model\n",
    "from tensorflow.keras import optimizers\n",
    "from datagenerator_brain import DataGenerator\n",
    "from segmentation_losses import NumpyEncoder, plot_metrics\n",
    "from tensorflow.keras.callbacks import ModelCheckpoint, ReduceLROnPlateau\n",
    "from segmentation_losses import (\n",
    "    iou,\n",
    "    iou_binary\n",
    ")"
   ]
  },
  {
   "cell_type": "code",
   "execution_count": 8,
   "id": "1f88d8da",
   "metadata": {},
   "outputs": [],
   "source": [
    "unet_resize_factor =2\n",
    "num_classes =2\n",
    "num_channels =4\n",
    "weighted_classes =True\n",
    "train_multi_gpu =False\n",
    "training_epochs= 250\n",
    "optimizer= 'adam'\n",
    "lr =0.0001 #(with reduce LR on plateau by a factor of 0.1 with patience epochs=20)\n",
    "use_amsgrad_adam =False\n",
    "train_batch_size= 1\n",
    "val_batch_size= 1\n",
    "mri_width =240\n",
    "mri_height =240\n",
    "mri_depth =160\n",
    "use_nesterov_sgd = False\n",
    "binary_training = True"
   ]
  },
  {
   "cell_type": "code",
   "execution_count": 9,
   "id": "f2e9effd",
   "metadata": {},
   "outputs": [],
   "source": [
    "train_datagenerator = DataGenerator(\n",
    "        mri_paths=train_mri_paths,\n",
    "        mask_paths=train_mask_paths,\n",
    "        mri_width=mri_width,\n",
    "        mri_height=mri_height,\n",
    "        mri_depth=mri_depth,\n",
    "        batch_size=train_batch_size,\n",
    "        shuffle=False,\n",
    "        num_channels=num_channels,\n",
    "        augment=True,\n",
    "        standardization=True,\n",
    "        num_classes=num_classes,\n",
    "        weighted_classes=False\n",
    "    )"
   ]
  },
  {
   "cell_type": "code",
   "execution_count": 11,
   "id": "b010aa90",
   "metadata": {},
   "outputs": [],
   "source": [
    "mris, masks = train_datagenerator.__getitem__(0)"
   ]
  },
  {
   "cell_type": "code",
   "execution_count": 12,
   "id": "7deca0b8",
   "metadata": {},
   "outputs": [
    {
     "data": {
      "text/plain": [
       "(1, 240, 240, 160, 1)"
      ]
     },
     "execution_count": 12,
     "metadata": {},
     "output_type": "execute_result"
    }
   ],
   "source": [
    "masks.shape"
   ]
  },
  {
   "cell_type": "code",
   "execution_count": 14,
   "id": "99468461",
   "metadata": {},
   "outputs": [],
   "source": [
    "# if weighted_classes:\n",
    "#     val_sample_weights = train_datagenerator.sample_weights\n",
    "# else:\n",
    "#     val_sample_weights = None\n",
    "\n",
    "val_datagenerator = DataGenerator(\n",
    "    mri_paths=val_mri_paths,\n",
    "    mask_paths=val_mask_paths,\n",
    "    mri_width=mri_width,\n",
    "    mri_height=mri_height,\n",
    "    mri_depth=mri_depth,\n",
    "    batch_size=val_batch_size,\n",
    "    shuffle=False,\n",
    "    num_channels=num_channels,\n",
    "    augment=False,\n",
    "    standardization=True,\n",
    "    num_classes=num_classes,\n",
    "    weighted_classes=False,\n",
    ")\n",
    "test_datagenerator = DataGenerator(\n",
    "    mri_paths=test_mri_paths,\n",
    "    mask_paths=test_mask_paths,\n",
    "    mri_width=mri_width,\n",
    "    mri_height=mri_height,\n",
    "    mri_depth=mri_depth,\n",
    "    batch_size=1,\n",
    "    shuffle=False,\n",
    "    num_channels=num_channels,\n",
    "    augment=False,\n",
    "    standardization=True,\n",
    "    num_classes=num_classes,\n",
    "    weighted_classes=False,\n",
    ")\n"
   ]
  },
  {
   "cell_type": "code",
   "execution_count": 15,
   "id": "375197f7",
   "metadata": {},
   "outputs": [],
   "source": [
    "\n",
    "def set_optimizer(optimizer, learning_rate, use_nesterov_sgd, use_amsgrad_adam):\n",
    "    if optimizer == \"sgd\":\n",
    "        optimizer = optimizers.SGD(\n",
    "            lr=learning_rate,\n",
    "            momentum=0.9,\n",
    "            nesterov=use_nesterov_sgd,\n",
    "            clipvalue=50  # For weighted class training yielding exploding gradients\n",
    "        )\n",
    "\n",
    "    elif optimizer == \"adam\":\n",
    "        optimizer = optimizers.Adam(\n",
    "            lr=learning_rate,\n",
    "            beta_1=0.9,\n",
    "            beta_2=0.999,\n",
    "            epsilon=0.1,\n",
    "            amsgrad=use_amsgrad_adam,\n",
    "            clipvalue=50  # For weighted class training yielding exploding gradients\n",
    "        )\n",
    "\n",
    "    elif optimizer == \"nadam\":\n",
    "        optimizer = optimizers.Nadam(\n",
    "            lr=learning_rate,\n",
    "            beta_1=0.9,\n",
    "            beta_2=0.999,\n",
    "            epsilon=0.1,\n",
    "            clipvalue=50  # For weighted class training yielding exploding gradients\n",
    "        )\n",
    "\n",
    "    return optimizer\n"
   ]
  },
  {
   "cell_type": "code",
   "execution_count": 16,
   "id": "e6055130",
   "metadata": {},
   "outputs": [
    {
     "name": "stderr",
     "output_type": "stream",
     "text": [
      "/home/rabeea/anaconda3/envs/beea/lib/python3.10/site-packages/keras/optimizer_v2/adam.py:105: UserWarning: The `lr` argument is deprecated, use `learning_rate` instead.\n",
      "  super(Adam, self).__init__(name, **kwargs)\n"
     ]
    }
   ],
   "source": [
    "optimizer = set_optimizer(\n",
    "        optimizer=optimizer,\n",
    "        learning_rate=lr,\n",
    "        use_nesterov_sgd=use_nesterov_sgd,\n",
    "        use_amsgrad_adam=use_amsgrad_adam\n",
    "    )"
   ]
  },
  {
   "cell_type": "code",
   "execution_count": 17,
   "id": "27c41e41",
   "metadata": {},
   "outputs": [],
   "source": [
    "from tensorflow.keras.models import Model\n",
    "from tensorflow.keras.layers import (\n",
    "    Input,\n",
    "    Conv3D,\n",
    "    MaxPooling3D,\n",
    "    UpSampling3D,\n",
    "    Dropout,\n",
    "    Conv3DTranspose,\n",
    "    BatchNormalization,\n",
    "    concatenate\n",
    ")\n",
    "\n",
    "def unet_3d_conv3dtranspose_batchnormalization(input_size=(240, 240, 160, 4), unet_resize_factor=2, num_classes=1, binary_model=True):\n",
    "    \"\"\"Constructs a U-Net 3D segmentation model with BatchNormalization layers after each Conv3D layer instead of\n",
    "     using Dropout layers in the expansive path and with using Conv3DTranspose layers instead of UpSampling3D -> Conv3D\n",
    "     layers.\n",
    "\n",
    "    Args:\n",
    "        input_size: (tuple) Keras model input shape is  (batch_size, height, width, length, channels) with\n",
    "                    'channels_last', (default: (240, 240, 160, 4)). Note: depth must be a multiple of 16.\n",
    "                    Source: 'data_format' parameter documentation: https://keras.io/api/layers/convolution_layers/convolution3d/\n",
    "        unet_resize_factor: (int) Resize factor of the number of filters (channels) per Convolutional layer in the U-Net\n",
    "                             model (must be >= 1, such that 1 means retaining the original number of filters (channels)\n",
    "                             per Convolutional layer in the U-Net model) (default: 2 (half-size)).\n",
    "        num_classes: (int) Number of classes in the training dataset (default: 4).\n",
    "        binary_model: (boolean) If True, make the last layer have one filter with 'sigmoid' activation for a 3D binary\n",
    "                segmentation model.\n",
    "    \"\"\"\n",
    "    inputs = Input(shape=input_size)\n",
    "\n",
    "    # Contractive path\n",
    "    conv1 = Conv3D(filters=64 // unet_resize_factor, kernel_size=3, activation='relu', padding='same', kernel_initializer='he_normal')(inputs)\n",
    "    bn1 = BatchNormalization()(conv1)\n",
    "    conv1 = Conv3D(filters=64 // unet_resize_factor, kernel_size=3, activation='relu', padding='same', kernel_initializer='he_normal')(bn1)\n",
    "    bn1 = BatchNormalization()(conv1)\n",
    "    pool1 = MaxPooling3D(pool_size=(2, 2, 2))(bn1)\n",
    "\n",
    "    conv2 = Conv3D(filters=128 // unet_resize_factor, kernel_size=3, activation='relu', padding='same', kernel_initializer='he_normal')(pool1)\n",
    "    bn2 = BatchNormalization()(conv2)\n",
    "    conv2 = Conv3D(filters=128 // unet_resize_factor, kernel_size=3, activation='relu', padding='same', kernel_initializer='he_normal')(bn2)\n",
    "    bn2 = BatchNormalization()(conv2)\n",
    "    pool2 = MaxPooling3D(pool_size=(2, 2, 2))(bn2)\n",
    "\n",
    "    conv3 = Conv3D(filters=256 // unet_resize_factor, kernel_size=3, activation='relu', padding='same', kernel_initializer='he_normal')(pool2)\n",
    "    bn3 = BatchNormalization()(conv3)\n",
    "    conv3 = Conv3D(filters=256 // unet_resize_factor, kernel_size=3, activation='relu', padding='same', kernel_initializer='he_normal')(bn3)\n",
    "    bn3 = BatchNormalization()(conv3)\n",
    "    pool3 = MaxPooling3D(pool_size=(2, 2, 2))(bn3)\n",
    "\n",
    "    conv4 = Conv3D(filters=512 // unet_resize_factor, kernel_size=3, activation='relu', padding='same', kernel_initializer='he_normal')(pool3)\n",
    "    bn4 = BatchNormalization()(conv4)\n",
    "    conv4 = Conv3D(filters=512 // unet_resize_factor, kernel_size=3, activation='relu', padding='same', kernel_initializer='he_normal')(bn4)\n",
    "    bn4 = BatchNormalization()(conv4)\n",
    "    pool4 = MaxPooling3D(pool_size=(2, 2, 2))(bn4)\n",
    "\n",
    "    conv5 = Conv3D(filters=1024 // unet_resize_factor, kernel_size=3, activation='relu', padding='same', kernel_initializer='he_normal')(pool4)\n",
    "    bn5 = BatchNormalization()(conv5)\n",
    "    conv5 = Conv3D(filters=1024 // unet_resize_factor, kernel_size=3, activation='relu', padding='same', kernel_initializer='he_normal')(bn5)\n",
    "    bn5 = BatchNormalization()(conv5)\n",
    "\n",
    "    # Expansive path\n",
    "    up6 = Conv3DTranspose(filters=512 // unet_resize_factor, kernel_size=(2, 2, 2), strides=(2, 2, 2), padding=\"same\", kernel_initializer='he_normal')(bn5)\n",
    "    bn6 = BatchNormalization()(up6)\n",
    "    merge6 = concatenate([bn4, bn6], axis=4)\n",
    "    conv6 = Conv3D(filters=512 // unet_resize_factor, kernel_size=3, activation='relu', padding='same', kernel_initializer='he_normal')(merge6)\n",
    "    bn6 = BatchNormalization()(conv6)\n",
    "    conv6 = Conv3D(filters=512 // unet_resize_factor, kernel_size=3, activation='relu', padding='same', kernel_initializer='he_normal')(bn6)\n",
    "    bn6 = BatchNormalization()(conv6)\n",
    "\n",
    "    up7 = Conv3DTranspose(filters=128 // unet_resize_factor, kernel_size=(2, 2, 2), strides=(2, 2, 2), padding=\"same\", kernel_initializer='he_normal')(bn6)\n",
    "    bn7 = BatchNormalization()(up7)\n",
    "    merge7 = concatenate([conv3, bn7], axis=4)\n",
    "    conv7 = Conv3D(filters=256 // unet_resize_factor, kernel_size=3, activation='relu', padding='same', kernel_initializer='he_normal')(merge7)\n",
    "    bn7 = BatchNormalization()(conv7)\n",
    "    conv7 = Conv3D(filters=256 // unet_resize_factor, kernel_size=3, activation='relu', padding='same', kernel_initializer='he_normal')(bn7)\n",
    "    bn7 = BatchNormalization()(conv7)\n",
    "\n",
    "    up8 = Conv3DTranspose(filters=64 // unet_resize_factor, kernel_size=(2, 2, 2), strides=(2, 2, 2), padding=\"same\", kernel_initializer='he_normal')(bn7)\n",
    "    bn8 = BatchNormalization()(up8)\n",
    "    merge8 = concatenate([conv2, bn8], axis=4)\n",
    "    conv8 = Conv3D(filters=128 // unet_resize_factor, kernel_size=3, activation='relu', padding='same', kernel_initializer='he_normal')(merge8)\n",
    "    bn8 = BatchNormalization()(conv8)\n",
    "    conv8 = Conv3D(filters=128 // unet_resize_factor, kernel_size=3, activation='relu', padding='same', kernel_initializer='he_normal')(bn8)\n",
    "    bn8 = BatchNormalization()(conv8)\n",
    "\n",
    "    up9 = Conv3DTranspose(filters=32 // unet_resize_factor, kernel_size=(2, 2, 2), strides=(2, 2, 2), padding=\"same\", kernel_initializer='he_normal')(bn8)\n",
    "    bn9 = BatchNormalization()(up9)\n",
    "    merge9 = concatenate([conv1, bn9], axis=4)\n",
    "    conv9 = Conv3D(filters=64 // unet_resize_factor, kernel_size=3, activation='relu', padding='same', kernel_initializer='he_normal')(merge9)\n",
    "    bn9 = BatchNormalization()(conv9)\n",
    "    conv9 = Conv3D(filters=64 // unet_resize_factor, kernel_size=3, activation='relu', padding='same', kernel_initializer='he_normal')(bn9)\n",
    "    bn9 = BatchNormalization()(conv9)\n",
    "    conv9 = Conv3D(filters=2, kernel_size=3, activation='relu', padding='same', kernel_initializer='he_normal')(bn9)\n",
    "    bn9 = BatchNormalization()(conv9)\n",
    "\n",
    "    # Final layer\n",
    "    if binary_model:\n",
    "        conv10 = Conv3D(filters=1, kernel_size=1, activation=\"sigmoid\")(bn9)\n",
    "    else:\n",
    "        conv10 = Conv3D(filters=num_classes, kernel_size=1, activation=\"softmax\")(bn9)\n",
    "\n",
    "    model = Model(inputs=inputs, outputs=conv10)\n",
    "\n",
    "    return model"
   ]
  },
  {
   "cell_type": "code",
   "execution_count": 18,
   "id": "cf21b4b5",
   "metadata": {},
   "outputs": [
    {
     "name": "stderr",
     "output_type": "stream",
     "text": [
      "2023-09-17 14:27:44.708222: I tensorflow/core/common_runtime/gpu/gpu_device.cc:1525] Created device /job:localhost/replica:0/task:0/device:GPU:0 with 78933 MB memory:  -> device: 0, name: NVIDIA A100 80GB PCIe, pci bus id: 0000:b1:00.0, compute capability: 8.0\n"
     ]
    },
    {
     "name": "stdout",
     "output_type": "stream",
     "text": [
      "Model: \"model\"\n",
      "__________________________________________________________________________________________________\n",
      " Layer (type)                   Output Shape         Param #     Connected to                     \n",
      "==================================================================================================\n",
      " input_1 (InputLayer)           [(None, 240, 240, 1  0           []                               \n",
      "                                60, 4)]                                                           \n",
      "                                                                                                  \n",
      " conv3d (Conv3D)                (None, 240, 240, 16  3488        ['input_1[0][0]']                \n",
      "                                0, 32)                                                            \n",
      "                                                                                                  \n",
      " batch_normalization (BatchNorm  (None, 240, 240, 16  128        ['conv3d[0][0]']                 \n",
      " alization)                     0, 32)                                                            \n",
      "                                                                                                  \n",
      " conv3d_1 (Conv3D)              (None, 240, 240, 16  27680       ['batch_normalization[0][0]']    \n",
      "                                0, 32)                                                            \n",
      "                                                                                                  \n",
      " batch_normalization_1 (BatchNo  (None, 240, 240, 16  128        ['conv3d_1[0][0]']               \n",
      " rmalization)                   0, 32)                                                            \n",
      "                                                                                                  \n",
      " max_pooling3d (MaxPooling3D)   (None, 120, 120, 80  0           ['batch_normalization_1[0][0]']  \n",
      "                                , 32)                                                             \n",
      "                                                                                                  \n",
      " conv3d_2 (Conv3D)              (None, 120, 120, 80  55360       ['max_pooling3d[0][0]']          \n",
      "                                , 64)                                                             \n",
      "                                                                                                  \n",
      " batch_normalization_2 (BatchNo  (None, 120, 120, 80  256        ['conv3d_2[0][0]']               \n",
      " rmalization)                   , 64)                                                             \n",
      "                                                                                                  \n",
      " conv3d_3 (Conv3D)              (None, 120, 120, 80  110656      ['batch_normalization_2[0][0]']  \n",
      "                                , 64)                                                             \n",
      "                                                                                                  \n",
      " batch_normalization_3 (BatchNo  (None, 120, 120, 80  256        ['conv3d_3[0][0]']               \n",
      " rmalization)                   , 64)                                                             \n",
      "                                                                                                  \n",
      " max_pooling3d_1 (MaxPooling3D)  (None, 60, 60, 40,   0          ['batch_normalization_3[0][0]']  \n",
      "                                64)                                                               \n",
      "                                                                                                  \n",
      " conv3d_4 (Conv3D)              (None, 60, 60, 40,   221312      ['max_pooling3d_1[0][0]']        \n",
      "                                128)                                                              \n",
      "                                                                                                  \n",
      " batch_normalization_4 (BatchNo  (None, 60, 60, 40,   512        ['conv3d_4[0][0]']               \n",
      " rmalization)                   128)                                                              \n",
      "                                                                                                  \n",
      " conv3d_5 (Conv3D)              (None, 60, 60, 40,   442496      ['batch_normalization_4[0][0]']  \n",
      "                                128)                                                              \n",
      "                                                                                                  \n",
      " batch_normalization_5 (BatchNo  (None, 60, 60, 40,   512        ['conv3d_5[0][0]']               \n",
      " rmalization)                   128)                                                              \n",
      "                                                                                                  \n",
      " max_pooling3d_2 (MaxPooling3D)  (None, 30, 30, 20,   0          ['batch_normalization_5[0][0]']  \n",
      "                                128)                                                              \n",
      "                                                                                                  \n",
      " conv3d_6 (Conv3D)              (None, 30, 30, 20,   884992      ['max_pooling3d_2[0][0]']        \n",
      "                                256)                                                              \n",
      "                                                                                                  \n",
      " batch_normalization_6 (BatchNo  (None, 30, 30, 20,   1024       ['conv3d_6[0][0]']               \n",
      " rmalization)                   256)                                                              \n",
      "                                                                                                  \n",
      " conv3d_7 (Conv3D)              (None, 30, 30, 20,   1769728     ['batch_normalization_6[0][0]']  \n",
      "                                256)                                                              \n",
      "                                                                                                  \n",
      " batch_normalization_7 (BatchNo  (None, 30, 30, 20,   1024       ['conv3d_7[0][0]']               \n",
      " rmalization)                   256)                                                              \n",
      "                                                                                                  \n",
      " max_pooling3d_3 (MaxPooling3D)  (None, 15, 15, 10,   0          ['batch_normalization_7[0][0]']  \n",
      "                                256)                                                              \n",
      "                                                                                                  \n",
      " conv3d_8 (Conv3D)              (None, 15, 15, 10,   3539456     ['max_pooling3d_3[0][0]']        \n",
      "                                512)                                                              \n",
      "                                                                                                  \n",
      " batch_normalization_8 (BatchNo  (None, 15, 15, 10,   2048       ['conv3d_8[0][0]']               \n",
      " rmalization)                   512)                                                              \n",
      "                                                                                                  \n",
      " conv3d_9 (Conv3D)              (None, 15, 15, 10,   7078400     ['batch_normalization_8[0][0]']  \n",
      "                                512)                                                              \n",
      "                                                                                                  \n",
      " batch_normalization_9 (BatchNo  (None, 15, 15, 10,   2048       ['conv3d_9[0][0]']               \n",
      " rmalization)                   512)                                                              \n",
      "                                                                                                  \n",
      " conv3d_transpose (Conv3DTransp  (None, 30, 30, 20,   1048832    ['batch_normalization_9[0][0]']  \n",
      " ose)                           256)                                                              \n",
      "                                                                                                  \n",
      " batch_normalization_10 (BatchN  (None, 30, 30, 20,   1024       ['conv3d_transpose[0][0]']       \n",
      " ormalization)                  256)                                                              \n"
     ]
    },
    {
     "name": "stdout",
     "output_type": "stream",
     "text": [
      "                                                                                                  \n",
      " concatenate (Concatenate)      (None, 30, 30, 20,   0           ['batch_normalization_7[0][0]',  \n",
      "                                512)                              'batch_normalization_10[0][0]'] \n",
      "                                                                                                  \n",
      " conv3d_10 (Conv3D)             (None, 30, 30, 20,   3539200     ['concatenate[0][0]']            \n",
      "                                256)                                                              \n",
      "                                                                                                  \n",
      " batch_normalization_11 (BatchN  (None, 30, 30, 20,   1024       ['conv3d_10[0][0]']              \n",
      " ormalization)                  256)                                                              \n",
      "                                                                                                  \n",
      " conv3d_11 (Conv3D)             (None, 30, 30, 20,   1769728     ['batch_normalization_11[0][0]'] \n",
      "                                256)                                                              \n",
      "                                                                                                  \n",
      " batch_normalization_12 (BatchN  (None, 30, 30, 20,   1024       ['conv3d_11[0][0]']              \n",
      " ormalization)                  256)                                                              \n",
      "                                                                                                  \n",
      " conv3d_transpose_1 (Conv3DTran  (None, 60, 60, 40,   131136     ['batch_normalization_12[0][0]'] \n",
      " spose)                         64)                                                               \n",
      "                                                                                                  \n",
      " batch_normalization_13 (BatchN  (None, 60, 60, 40,   256        ['conv3d_transpose_1[0][0]']     \n",
      " ormalization)                  64)                                                               \n",
      "                                                                                                  \n",
      " concatenate_1 (Concatenate)    (None, 60, 60, 40,   0           ['conv3d_5[0][0]',               \n",
      "                                192)                              'batch_normalization_13[0][0]'] \n",
      "                                                                                                  \n",
      " conv3d_12 (Conv3D)             (None, 60, 60, 40,   663680      ['concatenate_1[0][0]']          \n",
      "                                128)                                                              \n",
      "                                                                                                  \n",
      " batch_normalization_14 (BatchN  (None, 60, 60, 40,   512        ['conv3d_12[0][0]']              \n",
      " ormalization)                  128)                                                              \n",
      "                                                                                                  \n",
      " conv3d_13 (Conv3D)             (None, 60, 60, 40,   442496      ['batch_normalization_14[0][0]'] \n",
      "                                128)                                                              \n",
      "                                                                                                  \n",
      " batch_normalization_15 (BatchN  (None, 60, 60, 40,   512        ['conv3d_13[0][0]']              \n",
      " ormalization)                  128)                                                              \n",
      "                                                                                                  \n",
      " conv3d_transpose_2 (Conv3DTran  (None, 120, 120, 80  32800      ['batch_normalization_15[0][0]'] \n",
      " spose)                         , 32)                                                             \n",
      "                                                                                                  \n",
      " batch_normalization_16 (BatchN  (None, 120, 120, 80  128        ['conv3d_transpose_2[0][0]']     \n",
      " ormalization)                  , 32)                                                             \n",
      "                                                                                                  \n",
      " concatenate_2 (Concatenate)    (None, 120, 120, 80  0           ['conv3d_3[0][0]',               \n",
      "                                , 96)                             'batch_normalization_16[0][0]'] \n",
      "                                                                                                  \n",
      " conv3d_14 (Conv3D)             (None, 120, 120, 80  165952      ['concatenate_2[0][0]']          \n",
      "                                , 64)                                                             \n",
      "                                                                                                  \n",
      " batch_normalization_17 (BatchN  (None, 120, 120, 80  256        ['conv3d_14[0][0]']              \n",
      " ormalization)                  , 64)                                                             \n",
      "                                                                                                  \n",
      " conv3d_15 (Conv3D)             (None, 120, 120, 80  110656      ['batch_normalization_17[0][0]'] \n",
      "                                , 64)                                                             \n",
      "                                                                                                  \n",
      " batch_normalization_18 (BatchN  (None, 120, 120, 80  256        ['conv3d_15[0][0]']              \n",
      " ormalization)                  , 64)                                                             \n",
      "                                                                                                  \n",
      " conv3d_transpose_3 (Conv3DTran  (None, 240, 240, 16  8208       ['batch_normalization_18[0][0]'] \n",
      " spose)                         0, 16)                                                            \n",
      "                                                                                                  \n",
      " batch_normalization_19 (BatchN  (None, 240, 240, 16  64         ['conv3d_transpose_3[0][0]']     \n",
      " ormalization)                  0, 16)                                                            \n",
      "                                                                                                  \n",
      " concatenate_3 (Concatenate)    (None, 240, 240, 16  0           ['conv3d_1[0][0]',               \n",
      "                                0, 48)                            'batch_normalization_19[0][0]'] \n",
      "                                                                                                  \n",
      " conv3d_16 (Conv3D)             (None, 240, 240, 16  41504       ['concatenate_3[0][0]']          \n",
      "                                0, 32)                                                            \n",
      "                                                                                                  \n",
      " batch_normalization_20 (BatchN  (None, 240, 240, 16  128        ['conv3d_16[0][0]']              \n",
      " ormalization)                  0, 32)                                                            \n",
      "                                                                                                  \n",
      " conv3d_17 (Conv3D)             (None, 240, 240, 16  27680       ['batch_normalization_20[0][0]'] \n",
      "                                0, 32)                                                            \n",
      "                                                                                                  \n",
      " batch_normalization_21 (BatchN  (None, 240, 240, 16  128        ['conv3d_17[0][0]']              \n",
      " ormalization)                  0, 32)                                                            \n",
      "                                                                                                  \n",
      " conv3d_18 (Conv3D)             (None, 240, 240, 16  1730        ['batch_normalization_21[0][0]'] \n",
      "                                0, 2)                                                             \n",
      "                                                                                                  \n",
      " batch_normalization_22 (BatchN  (None, 240, 240, 16  8          ['conv3d_18[0][0]']              \n"
     ]
    },
    {
     "name": "stdout",
     "output_type": "stream",
     "text": [
      " ormalization)                  0, 2)                                                             \n",
      "                                                                                                  \n",
      " conv3d_19 (Conv3D)             (None, 240, 240, 16  3           ['batch_normalization_22[0][0]'] \n",
      "                                0, 1)                                                             \n",
      "                                                                                                  \n",
      "==================================================================================================\n",
      "Total params: 22,130,429\n",
      "Trainable params: 22,123,801\n",
      "Non-trainable params: 6,628\n",
      "__________________________________________________________________________________________________\n",
      "None\n"
     ]
    }
   ],
   "source": [
    "# Keras 3D CNN model input shape is  (batch_size, height, width, depth, channels) with 'channels_last'\n",
    "#  Source: 'data_format' parameter documentation:\n",
    "#  https://keras.io/api/layers/convolution_layers/convolution3d/\n",
    "model = unet_3d_conv3dtranspose_batchnormalization(input_size=(240, 240, 160, 4), \n",
    "                                                   unet_resize_factor=2, num_classes=1, binary_model=True)\n",
    "model.compile(\n",
    "    loss=dice_loss_binary,\n",
    "    optimizer=optimizer,\n",
    "    metrics=[dice_coefficient_binary, iou_binary, \"accuracy\"]\n",
    ")\n",
    "\n",
    "print(model.summary())"
   ]
  },
  {
   "cell_type": "code",
   "execution_count": 19,
   "id": "1a9e38f9",
   "metadata": {},
   "outputs": [],
   "source": [
    "filepath = \"/home/rabeea/logs/unet_brain/unet_brain_binary.h5\""
   ]
  },
  {
   "cell_type": "code",
   "execution_count": 21,
   "id": "07ddbf10",
   "metadata": {},
   "outputs": [],
   "source": [
    "if binary_training:\n",
    "    reducelronplateau = ReduceLROnPlateau(\n",
    "        monitor=\"val_dice_coefficient_binary\",\n",
    "        factor=0.1,\n",
    "        patience=20,\n",
    "        verbose=1,\n",
    "        mode=\"max\",\n",
    "        min_lr=1e-6\n",
    "    )\n",
    "\n",
    "    checkpoint = ModelCheckpoint(\n",
    "        filepath=filepath,\n",
    "        monitor='val_dice_coefficient_binary',\n",
    "        verbose=1,\n",
    "        save_best_only=True,\n",
    "        save_weights_only=False,\n",
    "        mode='max'\n",
    "    )\n",
    "\n",
    "else:\n",
    "    reducelronplateau = ReduceLROnPlateau(\n",
    "        monitor=\"val_dice_coefficient\",\n",
    "        factor=0.1,\n",
    "        patience=20,\n",
    "        verbose=1,\n",
    "        mode=\"max\",\n",
    "        min_lr=1e-6\n",
    "    )\n",
    "\n",
    "    checkpoint = ModelCheckpoint(\n",
    "        filepath=filepath,\n",
    "        monitor='val_dice_coefficient',\n",
    "        verbose=1,\n",
    "        save_best_only=True,\n",
    "        save_weights_only=False,\n",
    "        mode='max'\n",
    "    )\n"
   ]
  },
  {
   "cell_type": "code",
   "execution_count": null,
   "id": "1fedd701",
   "metadata": {},
   "outputs": [
    {
     "name": "stdout",
     "output_type": "stream",
     "text": [
      "Epoch 1/250\n"
     ]
    },
    {
     "name": "stderr",
     "output_type": "stream",
     "text": [
      "2023-09-17 14:28:59.510816: I tensorflow/stream_executor/cuda/cuda_dnn.cc:368] Loaded cuDNN version 8801\n"
     ]
    },
    {
     "name": "stdout",
     "output_type": "stream",
     "text": [
      "338/338 [==============================] - ETA: 0s - loss: 0.9677 - dice_coefficient_binary: 0.0323 - iou_binary: 0.0165 - accuracy: 0.3467\n",
      "Epoch 1: val_dice_coefficient_binary improved from -inf to 0.03350, saving model to /home/rabeea/logs/unet_brain/unet_brain_binary.h5\n",
      "338/338 [==============================] - 2681s 8s/step - loss: 0.9677 - dice_coefficient_binary: 0.0323 - iou_binary: 0.0165 - accuracy: 0.3467 - val_loss: 0.9665 - val_dice_coefficient_binary: 0.0335 - val_iou_binary: 0.0171 - val_accuracy: 0.3239 - lr: 1.0000e-04\n",
      "Epoch 2/250\n",
      "338/338 [==============================] - ETA: 0s - loss: 0.9662 - dice_coefficient_binary: 0.0338 - iou_binary: 0.0173 - accuracy: 0.3555\n",
      "Epoch 2: val_dice_coefficient_binary improved from 0.03350 to 0.03484, saving model to /home/rabeea/logs/unet_brain/unet_brain_binary.h5\n",
      "338/338 [==============================] - 2607s 8s/step - loss: 0.9662 - dice_coefficient_binary: 0.0338 - iou_binary: 0.0173 - accuracy: 0.3555 - val_loss: 0.9652 - val_dice_coefficient_binary: 0.0348 - val_iou_binary: 0.0178 - val_accuracy: 0.3640 - lr: 1.0000e-04\n",
      "Epoch 3/250\n",
      "338/338 [==============================] - ETA: 0s - loss: 0.9651 - dice_coefficient_binary: 0.0349 - iou_binary: 0.0179 - accuracy: 0.3631\n",
      "Epoch 3: val_dice_coefficient_binary improved from 0.03484 to 0.03566, saving model to /home/rabeea/logs/unet_brain/unet_brain_binary.h5\n",
      "338/338 [==============================] - 2616s 8s/step - loss: 0.9651 - dice_coefficient_binary: 0.0349 - iou_binary: 0.0179 - accuracy: 0.3631 - val_loss: 0.9643 - val_dice_coefficient_binary: 0.0357 - val_iou_binary: 0.0183 - val_accuracy: 0.3742 - lr: 1.0000e-04\n",
      "Epoch 4/250\n",
      "312/338 [==========================>...] - ETA: 3:06 - loss: 0.9644 - dice_coefficient_binary: 0.0356 - iou_binary: 0.0183 - accuracy: 0.3767"
     ]
    }
   ],
   "source": [
    "history = model.fit(\n",
    "    x=train_datagenerator,\n",
    "    epochs=training_epochs,\n",
    "    validation_data=val_datagenerator,\n",
    "    verbose=1,\n",
    "    callbacks=[reducelronplateau, checkpoint],\n",
    "    workers=1\n",
    ")"
   ]
  },
  {
   "cell_type": "code",
   "execution_count": null,
   "id": "2b85621d",
   "metadata": {},
   "outputs": [],
   "source": [
    "dumped = json.dumps(history.history, cls=NumpyEncoder)\n",
    "with open('/home/rabeea/logs/unet_brain/model_history.txt', 'w') as f:\n",
    "    json.dump(dumped, f)\n",
    "\n",
    "# Plot train losses and validation losses\n",
    "plot_metrics(history.history, stop=training_epochs)\n"
   ]
  },
  {
   "cell_type": "code",
   "execution_count": null,
   "id": "d2ad51dc",
   "metadata": {},
   "outputs": [],
   "source": [
    "acc = history.history['dice_coefficient']\n",
    "val_acc = history.history['val_dice_coefficient']\n",
    "\n",
    "plt.plot(epochs, acc, 'y', label='Training Dice coefficient')\n",
    "plt.plot(epochs, val_acc, 'r', label='Validation Dice Coefficient')\n",
    "plt.title('Training and validation Dice coefficient')\n",
    "plt.xlabel('Epochs')\n",
    "plt.ylabel('Dice Coefficient')\n",
    "plt.legend()\n",
    "plt.show()"
   ]
  },
  {
   "cell_type": "code",
   "execution_count": null,
   "id": "8103f4dc",
   "metadata": {},
   "outputs": [],
   "source": [
    "print('max training dice: ',max(acc))\n",
    "print('max validation dice: ',max(val_acc))"
   ]
  },
  {
   "cell_type": "code",
   "execution_count": null,
   "id": "e3ff2788",
   "metadata": {},
   "outputs": [],
   "source": []
  },
  {
   "cell_type": "code",
   "execution_count": null,
   "id": "8c223588",
   "metadata": {},
   "outputs": [],
   "source": []
  },
  {
   "cell_type": "code",
   "execution_count": 4,
   "id": "aca63237",
   "metadata": {},
   "outputs": [
    {
     "data": {
      "text/plain": [
       "484"
      ]
     },
     "execution_count": 4,
     "metadata": {},
     "output_type": "execute_result"
    }
   ],
   "source": [
    "imgpath = sorted(glob.glob(r\"/home/rabeea/Task01_BrainTumour/Task01_BrainTumour/imagesTr/*.gz\", recursive = True))\n",
    "maskpath = sorted(glob.glob(r\"/home/rabeea/Task01_BrainTumour/Task01_BrainTumour/labelsTr/*.gz\", recursive = True))\n",
    "len(maskpath)"
   ]
  },
  {
   "cell_type": "code",
   "execution_count": 5,
   "id": "b23ebea5",
   "metadata": {},
   "outputs": [
    {
     "name": "stdout",
     "output_type": "stream",
     "text": [
      "484 338 50 96\n",
      "['/home/rabeea/Task01_BrainTumour/Task01_BrainTumour/imagesTr/BRATS_253.nii.gz', '/home/rabeea/Task01_BrainTumour/Task01_BrainTumour/imagesTr/BRATS_261.nii.gz', '/home/rabeea/Task01_BrainTumour/Task01_BrainTumour/imagesTr/BRATS_071.nii.gz'] ['/home/rabeea/Task01_BrainTumour/Task01_BrainTumour/labelsTr/BRATS_253.nii.gz', '/home/rabeea/Task01_BrainTumour/Task01_BrainTumour/labelsTr/BRATS_261.nii.gz', '/home/rabeea/Task01_BrainTumour/Task01_BrainTumour/labelsTr/BRATS_071.nii.gz']\n"
     ]
    }
   ],
   "source": [
    "\n",
    "tr = 338\n",
    "val = 50\n",
    "ts = 96\n",
    "random.Random(42).shuffle(imgpath)\n",
    "random.Random(42).shuffle(maskpath)\n",
    "trainpath = imgpath[:tr]\n",
    "trainpath_m = maskpath[:tr]\n",
    "valpath = imgpath[tr:tr+val]\n",
    "valpath_m = maskpath[tr:tr+val]\n",
    "testpath = imgpath[tr+val:]\n",
    "testpath_m = maskpath[tr+val:]\n",
    "print(len(imgpath), len(trainpath), len(valpath), len(testpath))\n",
    "print(valpath[:3],valpath_m[:3])"
   ]
  },
  {
   "cell_type": "code",
   "execution_count": 6,
   "id": "49a906bf",
   "metadata": {},
   "outputs": [],
   "source": [
    "input_directory = [trainpath, trainpath_m, valpath, valpath_m, testpath, testpath_m]\n",
    "output_directory = \"/home/rabeea/brain/\"\n",
    "image_height_size = 240\n",
    "image_width_size = 240\n",
    "file_layer_size = 160\n",
    "use_last_chunk = True"
   ]
  },
  {
   "cell_type": "code",
   "execution_count": 17,
   "id": "b5bf4446",
   "metadata": {},
   "outputs": [],
   "source": [
    "def split_chunks_and_save_as_separate_files(input_directory_images, input_directory_masks, output_directory_images,\n",
    "                                            output_directory_masks, transform, file_layer_size, use_last_chunk):\n",
    "    # A) Image files (should be converted to type np.float32, may contain more than one channel, for resizing purposes\n",
    "    # each channel would need to be resized separately).\n",
    "    #for (root, dirs, files) in os.walk(input_directory_images, topdown=True):\n",
    "    #    if len(files) != 0:\n",
    "    for filename_path in tqdm(input_directory_images):\n",
    "        #filename_path = os.path.join(root, filename)\n",
    "\n",
    "        # Set as type np.float32\n",
    "        mri = nib.load(filename_path).get_fdata().astype(np.float32)\n",
    "\n",
    "        # 1- Resizing\n",
    "        #   Case 1: If there are more than one channel, Albumentations.Resize() would only work on each\n",
    "        #   channel separately, working on all dimensions at once would cause it to fail\n",
    "        if len(mri.shape) >= 4:\n",
    "            temp_mri_channels = np.zeros((image_height_size, image_width_size, mri.shape[2], mri.shape[3]))\n",
    "            for i in range(int(mri.shape[3])):\n",
    "                transformed = transform(image=mri[:, :, :, i])\n",
    "                temp_mri = transformed[\"image\"]\n",
    "                temp_mri_channels[:, :, :, i] = temp_mri[:, :, :]\n",
    "\n",
    "            mri = temp_mri_channels\n",
    "        else:\n",
    "            # Case 2: One channel file, Albumentations.Resize() would work normally\n",
    "            transformed = transform(image=mri)\n",
    "            mri = transformed[\"image\"]\n",
    "\n",
    "        # 2- Splitting file to separate files based on file_layer_size\n",
    "        #   Case 1: If original file has less layers than the desired layers, pad the rest of the desired layers\n",
    "        #   with zeros\n",
    "        if mri.shape[2] < file_layer_size:\n",
    "            if len(mri.shape) == 4:  # file has multiple channels\n",
    "                temp_mri = np.zeros((image_height_size, image_width_size, file_layer_size, mri.shape[3]))\n",
    "                temp_mri[:, :, :mri.shape[2], :] = mri[:, :, :, :]\n",
    "            else:  # file has only one channel\n",
    "                temp_mri = np.zeros((image_height_size, image_width_size, file_layer_size))\n",
    "                temp_mri[:, :, :mri.shape[2]] = mri[:, :, :]\n",
    "\n",
    "            mri = temp_mri\n",
    "            \n",
    "            filename = filename_path.split('/')[-1]\n",
    "            output_filename_path = os.path.join(output_directory_images, filename)\n",
    "\n",
    "            # Numpy array has to be set as Nifti Image object before saving\n",
    "            nib.save(nib.Nifti1Image(mri, np.eye(4)), output_filename_path)\n",
    "            print(output_filename_path)\n",
    "\n",
    "        # Case 2: Original file has more layers than the desired layers\n",
    "        else:\n",
    "            # Case 2.1: Use the last chunk and pad the rest of the desired length of layers with zeros\n",
    "            if use_last_chunk:\n",
    "                num_chunks = int(np.ceil(mri.shape[2] / file_layer_size))\n",
    "                chunks = np.zeros((num_chunks, mri.shape[0], mri.shape[1], file_layer_size))\n",
    "\n",
    "                for i in range(num_chunks):\n",
    "                    if i == num_chunks - 1:  # last iteration (if we wish to pad the last chunk with zeros and use it)\n",
    "                        chunks[i, :, :, :mri.shape[2] % file_layer_size] = mri[:, :, i*file_layer_size: i*file_layer_size + (mri.shape[2] % file_layer_size)]\n",
    "                    else:\n",
    "                        chunks[i, :, :, :] = mri[:, :, i*file_layer_size: (i+1)*file_layer_size]\n",
    "\n",
    "                    filename = filename_path.split('/')[-1]\n",
    "                    output_filename = filename.split(\".\")[0] + \"_\" + str(i) + \".nii.gz\"\n",
    "                    output_filename_path = os.path.join(output_directory_images, output_filename)\n",
    "\n",
    "                    # Numpy array has to be set as Nifti Image object before saving\n",
    "                    if len(mri.shape) >= 4:\n",
    "                        nib.save(nib.Nifti1Image(chunks[i, :, :, :, :], np.eye(4)), output_filename_path)\n",
    "                    else:\n",
    "                        nib.save(nib.Nifti1Image(chunks[i, :, :, :], np.eye(4)), output_filename_path)\n",
    "                    print(output_filename_path)\n",
    "\n",
    "            # Case 2.2: Ignore the last chunk\n",
    "            else:\n",
    "                num_chunks = int(np.floor(mri.shape[2] / file_layer_size))\n",
    "                chunks = np.zeros((num_chunks, mri.shape[0], mri.shape[1], file_layer_size))\n",
    "\n",
    "                for i in range(num_chunks):\n",
    "                    chunks[i, :, :, :] = mri[:, :, i*file_layer_size: (i+1)*file_layer_size]\n",
    "                    \n",
    "                    filename = filename_path.split('/')[-1]\n",
    "                    output_filename = filename.split(\".\")[0] + \"_\" + str(i) + \".nii.gz\"\n",
    "                    output_filename_path = os.path.join(output_directory_images, output_filename)\n",
    "\n",
    "                    # Numpy array has to be set as Nifti Image object before saving\n",
    "                    if len(mri.shape) >= 4:\n",
    "                        nib.save(nib.Nifti1Image(chunks[i, :, :, :, :], np.eye(4)), output_filename_path)\n",
    "                    else:\n",
    "                        nib.save(nib.Nifti1Image(chunks[i, :, :, :], np.eye(4)), output_filename_path)\n",
    "                    print(output_filename_path)\n",
    "\n",
    "#     # B) Mask files (should be converted to type np.uint8, only one channel would exist so no need for the special\n",
    "#     # case of resizing each separate channel)\n",
    "#     #for (root, dirs, files) in os.walk(input_directory_masks, topdown=True):\n",
    "#         #if len(files) != 0:\n",
    "#     for filename_path in tqdm(input_directory_masks):\n",
    "#         #filename_path = os.path.join(root, filename)\n",
    "\n",
    "#         # Set as type np.uint8 (VERY IMPORTANT to avoid resizing causing non-integer values)\n",
    "#         mask = nib.load(filename_path).get_fdata().astype(np.uint8)\n",
    "\n",
    "#         # 1- Resizing\n",
    "#         # One channel file, Albumentations.Resize() would work normally\n",
    "#         transformed = transform(image=mask)\n",
    "#         mask = transformed[\"image\"]\n",
    "\n",
    "#         # 2- Splitting file to separate files based on file_layer_size\n",
    "#         #   Case 1: If original file has less layers than the desired layers, pad the rest with zeros\n",
    "#         if mask.shape[2] < file_layer_size:\n",
    "#             temp_mask = np.zeros((image_height_size, image_width_size, file_layer_size))\n",
    "#             temp_mask[:, :, :mask.shape[2]] = mask[:, :, :]\n",
    "\n",
    "#             mask = temp_mask\n",
    "#             filename = filename_path.split('/')[-1]\n",
    "#             output_filename_path = os.path.join(output_directory_masks, filename)\n",
    "\n",
    "#             # Numpy array has to be set as Nifti Image object before saving\n",
    "#             nib.save(nib.Nifti1Image(mask, np.eye(4)), output_filename_path)\n",
    "#             print(output_filename_path)\n",
    "\n",
    "#         # Case 2: Original file has more layers than the desired layers\n",
    "#         else:\n",
    "#             # Case 2.1: Use the last chunk and pad the rest of the desired length of layers with zeros\n",
    "#             if use_last_chunk:\n",
    "#                 num_chunks = int(np.ceil(mask.shape[2] / file_layer_size))\n",
    "#                 chunks = np.zeros((num_chunks, mask.shape[0], mask.shape[1], file_layer_size))\n",
    "\n",
    "#                 for i in range(num_chunks):\n",
    "#                     if i == num_chunks - 1:  # last iteration (if we wish to pad the last chunk with zeros and use it)\n",
    "#                         chunks[i, :, :, :mask.shape[2] % file_layer_size] = mask[:, :, i*file_layer_size: i*file_layer_size + (mask.shape[2] % file_layer_size)]\n",
    "#                     else:\n",
    "#                         chunks[i, :, :, :] = mask[:, :, i*file_layer_size: (i+1)*file_layer_size]\n",
    "                    \n",
    "#                     filename = filename_path.split('/')[-1]\n",
    "#                     output_filename = filename.split(\".\")[0] + \"_\" + str(i) + \".nii.gz\"\n",
    "#                     output_filename_path = os.path.join(output_directory_masks, output_filename)\n",
    "\n",
    "#                     # Numpy array has to be set as Nifti Image object before saving\n",
    "#                     nib.save(nib.Nifti1Image(chunks[i, :, :, :], np.eye(4)), output_filename_path)\n",
    "#                     print(output_filename_path)\n",
    "\n",
    "#             # Case 2.2: Ignore the last chunk\n",
    "#             else:\n",
    "#                 num_chunks = int(np.floor(mask.shape[2] / file_layer_size))\n",
    "#                 chunks = np.zeros((num_chunks, mask.shape[0], mask.shape[1], file_layer_size))\n",
    "\n",
    "#                 for i in range(num_chunks):\n",
    "#                     chunks[i, :, :, :] = mask[:, :, i*file_layer_size: (i+1)*file_layer_size]\n",
    "\n",
    "#                     filename = filename_path.split('/')[-1]\n",
    "#                     output_filename = filename.split(\".\")[0] + \"_\" + str(i) + \".nii.gz\"\n",
    "#                     output_filename_path = os.path.join(output_directory_masks, output_filename)\n",
    "\n",
    "#                     # Numpy array has to be set as Nifti Image object before saving\n",
    "#                     if len(mask.shape) >= 4:\n",
    "#                         nib.save(nib.Nifti1Image(chunks[i, :, :, :, :], np.eye(4)), output_filename_path)\n",
    "#                     else:\n",
    "#                         nib.save(nib.Nifti1Image(chunks[i, :, :, :], np.eye(4)), output_filename_path)\n",
    "#                     print(output_filename_path)\n",
    "\n",
    "\n",
    "def create_separate_files_from_dataset(input_directory, output_directory, image_height_size, image_width_size,\n",
    "                                       file_layer_size, use_last_chunk):\n",
    "    \"\"\"Loops through all files in the specified input_directory, resizes each slice to the specified image_height_size\n",
    "     and image_width_size , then splits a file into file_layer_size chunks of the original file. If the original file\n",
    "     has less layers than the specified file_layer_size then the original file will be padded with zeros.\n",
    "      If use_last_chunk is set to True, the last chunk will be stored and saved with zero padding.\n",
    "      A dictionary of shape counts in the output 'train' and 'val' directories would be computed to check if the\n",
    "      resulting shapes are correct.\n",
    "    \"\"\"\n",
    "\n",
    "    transform = A.Compose(\n",
    "        p=1.0,\n",
    "        transforms=[\n",
    "            A.Resize(\n",
    "                height=image_height_size,\n",
    "                width=image_width_size,\n",
    "                interpolation=1,\n",
    "                p=1\n",
    "            )\n",
    "        ]\n",
    "    )\n",
    "\n",
    "    [input_train_directory_images, input_train_directory_masks, input_val_directory_images, input_val_directory_masks, input_test_directory_images, input_test_directory_masks] = input_directory\n",
    "      \n",
    "    \n",
    "    \n",
    "\n",
    "    output_train_directory_images = os.path.join(output_directory, \"train\", \"images\")\n",
    "    output_train_directory_masks = os.path.join(output_directory, \"train\", \"masks\")\n",
    "    output_val_directory_images = os.path.join(output_directory, \"val\", \"images\")\n",
    "    output_val_directory_masks = os.path.join(output_directory, \"val\", \"masks\")\n",
    "    output_test_directory_images = os.path.join(output_directory, \"test\", \"images\")\n",
    "    output_test_directory_masks = os.path.join(output_directory, \"test\", \"masks\")\n",
    "\n",
    "    if not os.path.exists(output_train_directory_images):\n",
    "        os.makedirs(output_train_directory_images)\n",
    "    if not os.path.exists(output_train_directory_masks):\n",
    "        os.makedirs(output_train_directory_masks)\n",
    "    if not os.path.exists(output_val_directory_images):\n",
    "        os.makedirs(output_val_directory_images)\n",
    "    if not os.path.exists(output_val_directory_masks):\n",
    "        os.makedirs(output_val_directory_masks)\n",
    "    if not os.path.exists(output_test_directory_images):\n",
    "        os.makedirs(output_test_directory_images)\n",
    "    if not os.path.exists(output_test_directory_masks):\n",
    "        os.makedirs(output_test_directory_masks)\n",
    "\n",
    "#     # Going through the 'train' folders\n",
    "#     print(\"\\n\\nProceeding through 'train' folders ...\\n\")\n",
    "#     split_chunks_and_save_as_separate_files(\n",
    "#         input_directory_images=input_train_directory_images,\n",
    "#         input_directory_masks=input_train_directory_masks,\n",
    "#         output_directory_images=output_train_directory_images,\n",
    "#         output_directory_masks=output_train_directory_masks,\n",
    "#         transform=transform,\n",
    "#         file_layer_size=file_layer_size,\n",
    "#         use_last_chunk=use_last_chunk\n",
    "#     )\n",
    "    # Going through the 'val' folders\n",
    "    print(\"\\n\\nProceeding through 'val' folders: ...\\n\")\n",
    "    split_chunks_and_save_as_separate_files(\n",
    "        input_directory_images=input_val_directory_images,\n",
    "        input_directory_masks=input_val_directory_masks,\n",
    "        output_directory_images=output_val_directory_images,\n",
    "        output_directory_masks=output_val_directory_masks,\n",
    "        transform=transform,\n",
    "        file_layer_size=file_layer_size,\n",
    "        use_last_chunk=use_last_chunk\n",
    "    )\n",
    "    print(\"\\n\\nProceeding through 'test' folders: ...\\n\")\n",
    "    split_chunks_and_save_as_separate_files(\n",
    "        input_directory_images=input_test_directory_images,\n",
    "        input_directory_masks=input_test_directory_masks,\n",
    "        output_directory_images=output_test_directory_images,\n",
    "        output_directory_masks=output_test_directory_masks,\n",
    "        transform=transform,\n",
    "        file_layer_size=file_layer_size,\n",
    "        use_last_chunk=use_last_chunk\n",
    "    )\n",
    "\n",
    "    print(\"\\nIterating through output 'train' and 'val' folders to compute count of the shapes of the files in those directories ...\\n\")\n",
    "    train_mri_paths_images = [os.path.join(output_train_directory_images, x) for x in os.listdir(output_train_directory_images)]\n",
    "    train_mri_paths_masks = [os.path.join(output_train_directory_masks, x) for x in os.listdir(output_train_directory_masks)]\n",
    "    val_mri_paths_images = [os.path.join(output_val_directory_images, x) for x in os.listdir(output_val_directory_images)]\n",
    "    val_mri_paths_masks = [os.path.join(output_val_directory_masks, x) for x in os.listdir(output_val_directory_masks)]\n",
    "    test_mri_paths_images = [os.path.join(output_test_directory_images, x) for x in os.listdir(output_test_directory_images)]\n",
    "    test_mri_paths_masks = [os.path.join(output_test_directory_masks, x) for x in os.listdir(output_test_directory_masks)]\n",
    "\n",
    "    # concatenate list of paths\n",
    "    all_paths = train_mri_paths_images + train_mri_paths_masks + val_mri_paths_images + val_mri_paths_masks\n",
    "\n",
    "    shape_count_dict = {}\n",
    "    for path in tqdm(all_paths):\n",
    "        mri = nib.load(path).get_fdata()\n",
    "        shape = mri.shape\n",
    "\n",
    "        if shape not in shape_count_dict.keys():\n",
    "            shape_count_dict[shape] = 1\n",
    "        else:\n",
    "            shape_count_dict[shape] += 1\n",
    "\n",
    "    print(\"Output file shape count dictionary:\")\n",
    "    print(shape_count_dict)\n",
    "    print(\"\\n\\nProcess done.\")\n"
   ]
  },
  {
   "cell_type": "code",
   "execution_count": 18,
   "id": "ff8ffab8",
   "metadata": {},
   "outputs": [
    {
     "name": "stdout",
     "output_type": "stream",
     "text": [
      "\n",
      "\n",
      "Proceeding through 'val' folders: ...\n",
      "\n"
     ]
    },
    {
     "name": "stderr",
     "output_type": "stream",
     "text": [
      "  2%|▉                                           | 1/50 [00:04<03:54,  4.78s/it]"
     ]
    },
    {
     "name": "stdout",
     "output_type": "stream",
     "text": [
      "/home/rabeea/brain/val/images/BRATS_253.nii.gz\n"
     ]
    },
    {
     "name": "stderr",
     "output_type": "stream",
     "text": [
      "\r",
      "  4%|█▊                                          | 2/50 [00:09<03:50,  4.81s/it]"
     ]
    },
    {
     "name": "stdout",
     "output_type": "stream",
     "text": [
      "/home/rabeea/brain/val/images/BRATS_261.nii.gz\n"
     ]
    },
    {
     "name": "stderr",
     "output_type": "stream",
     "text": [
      "\r",
      "  6%|██▋                                         | 3/50 [00:14<03:46,  4.82s/it]"
     ]
    },
    {
     "name": "stdout",
     "output_type": "stream",
     "text": [
      "/home/rabeea/brain/val/images/BRATS_071.nii.gz\n"
     ]
    },
    {
     "name": "stderr",
     "output_type": "stream",
     "text": [
      "\r",
      "  8%|███▌                                        | 4/50 [00:19<03:39,  4.78s/it]"
     ]
    },
    {
     "name": "stdout",
     "output_type": "stream",
     "text": [
      "/home/rabeea/brain/val/images/BRATS_373.nii.gz\n"
     ]
    },
    {
     "name": "stderr",
     "output_type": "stream",
     "text": [
      "\r",
      " 10%|████▍                                       | 5/50 [00:24<03:39,  4.89s/it]"
     ]
    },
    {
     "name": "stdout",
     "output_type": "stream",
     "text": [
      "/home/rabeea/brain/val/images/BRATS_426.nii.gz\n"
     ]
    },
    {
     "name": "stderr",
     "output_type": "stream",
     "text": [
      "\r",
      " 12%|█████▎                                      | 6/50 [00:29<03:33,  4.85s/it]"
     ]
    },
    {
     "name": "stdout",
     "output_type": "stream",
     "text": [
      "/home/rabeea/brain/val/images/BRATS_205.nii.gz\n"
     ]
    },
    {
     "name": "stderr",
     "output_type": "stream",
     "text": [
      "\r",
      " 14%|██████▏                                     | 7/50 [00:33<03:28,  4.84s/it]"
     ]
    },
    {
     "name": "stdout",
     "output_type": "stream",
     "text": [
      "/home/rabeea/brain/val/images/BRATS_299.nii.gz\n"
     ]
    },
    {
     "name": "stderr",
     "output_type": "stream",
     "text": [
      "\r",
      " 16%|███████                                     | 8/50 [00:38<03:23,  4.84s/it]"
     ]
    },
    {
     "name": "stdout",
     "output_type": "stream",
     "text": [
      "/home/rabeea/brain/val/images/BRATS_220.nii.gz\n"
     ]
    },
    {
     "name": "stderr",
     "output_type": "stream",
     "text": [
      "\r",
      " 18%|███████▉                                    | 9/50 [00:43<03:17,  4.83s/it]"
     ]
    },
    {
     "name": "stdout",
     "output_type": "stream",
     "text": [
      "/home/rabeea/brain/val/images/BRATS_300.nii.gz\n"
     ]
    },
    {
     "name": "stderr",
     "output_type": "stream",
     "text": [
      "\r",
      " 20%|████████▌                                  | 10/50 [00:48<03:12,  4.82s/it]"
     ]
    },
    {
     "name": "stdout",
     "output_type": "stream",
     "text": [
      "/home/rabeea/brain/val/images/BRATS_135.nii.gz\n"
     ]
    },
    {
     "name": "stderr",
     "output_type": "stream",
     "text": [
      "\r",
      " 22%|█████████▍                                 | 11/50 [00:53<03:07,  4.81s/it]"
     ]
    },
    {
     "name": "stdout",
     "output_type": "stream",
     "text": [
      "/home/rabeea/brain/val/images/BRATS_276.nii.gz\n"
     ]
    },
    {
     "name": "stderr",
     "output_type": "stream",
     "text": [
      "\r",
      " 24%|██████████▎                                | 12/50 [00:58<03:04,  4.87s/it]"
     ]
    },
    {
     "name": "stdout",
     "output_type": "stream",
     "text": [
      "/home/rabeea/brain/val/images/BRATS_459.nii.gz\n"
     ]
    },
    {
     "name": "stderr",
     "output_type": "stream",
     "text": [
      "\r",
      " 26%|███████████▏                               | 13/50 [01:02<02:56,  4.78s/it]"
     ]
    },
    {
     "name": "stdout",
     "output_type": "stream",
     "text": [
      "/home/rabeea/brain/val/images/BRATS_127.nii.gz\n"
     ]
    },
    {
     "name": "stderr",
     "output_type": "stream",
     "text": [
      "\r",
      " 28%|████████████                               | 14/50 [01:07<02:52,  4.78s/it]"
     ]
    },
    {
     "name": "stdout",
     "output_type": "stream",
     "text": [
      "/home/rabeea/brain/val/images/BRATS_477.nii.gz\n"
     ]
    },
    {
     "name": "stderr",
     "output_type": "stream",
     "text": [
      "\r",
      " 30%|████████████▉                              | 15/50 [01:12<02:47,  4.78s/it]"
     ]
    },
    {
     "name": "stdout",
     "output_type": "stream",
     "text": [
      "/home/rabeea/brain/val/images/BRATS_427.nii.gz\n"
     ]
    },
    {
     "name": "stderr",
     "output_type": "stream",
     "text": [
      "\r",
      " 32%|█████████████▊                             | 16/50 [01:16<02:41,  4.76s/it]"
     ]
    },
    {
     "name": "stdout",
     "output_type": "stream",
     "text": [
      "/home/rabeea/brain/val/images/BRATS_074.nii.gz\n"
     ]
    },
    {
     "name": "stderr",
     "output_type": "stream",
     "text": [
      "\r",
      " 34%|██████████████▌                            | 17/50 [01:21<02:36,  4.74s/it]"
     ]
    },
    {
     "name": "stdout",
     "output_type": "stream",
     "text": [
      "/home/rabeea/brain/val/images/BRATS_235.nii.gz\n"
     ]
    },
    {
     "name": "stderr",
     "output_type": "stream",
     "text": [
      "\r",
      " 36%|███████████████▍                           | 18/50 [01:26<02:32,  4.78s/it]"
     ]
    },
    {
     "name": "stdout",
     "output_type": "stream",
     "text": [
      "/home/rabeea/brain/val/images/BRATS_330.nii.gz\n"
     ]
    },
    {
     "name": "stderr",
     "output_type": "stream",
     "text": [
      "\r",
      " 38%|████████████████▎                          | 19/50 [01:31<02:29,  4.83s/it]"
     ]
    },
    {
     "name": "stdout",
     "output_type": "stream",
     "text": [
      "/home/rabeea/brain/val/images/BRATS_203.nii.gz\n"
     ]
    },
    {
     "name": "stderr",
     "output_type": "stream",
     "text": [
      "\r",
      " 40%|█████████████████▏                         | 20/50 [01:36<02:24,  4.80s/it]"
     ]
    },
    {
     "name": "stdout",
     "output_type": "stream",
     "text": [
      "/home/rabeea/brain/val/images/BRATS_256.nii.gz\n"
     ]
    },
    {
     "name": "stderr",
     "output_type": "stream",
     "text": [
      "\r",
      " 42%|██████████████████                         | 21/50 [01:40<02:19,  4.80s/it]"
     ]
    },
    {
     "name": "stdout",
     "output_type": "stream",
     "text": [
      "/home/rabeea/brain/val/images/BRATS_336.nii.gz\n"
     ]
    },
    {
     "name": "stderr",
     "output_type": "stream",
     "text": [
      "\r",
      " 44%|██████████████████▉                        | 22/50 [01:45<02:14,  4.80s/it]"
     ]
    },
    {
     "name": "stdout",
     "output_type": "stream",
     "text": [
      "/home/rabeea/brain/val/images/BRATS_363.nii.gz\n"
     ]
    },
    {
     "name": "stderr",
     "output_type": "stream",
     "text": [
      "\r",
      " 46%|███████████████████▊                       | 23/50 [01:50<02:08,  4.77s/it]"
     ]
    },
    {
     "name": "stdout",
     "output_type": "stream",
     "text": [
      "/home/rabeea/brain/val/images/BRATS_472.nii.gz\n"
     ]
    },
    {
     "name": "stderr",
     "output_type": "stream",
     "text": [
      "\r",
      " 48%|████████████████████▋                      | 24/50 [01:55<02:03,  4.74s/it]"
     ]
    },
    {
     "name": "stdout",
     "output_type": "stream",
     "text": [
      "/home/rabeea/brain/val/images/BRATS_291.nii.gz\n"
     ]
    },
    {
     "name": "stderr",
     "output_type": "stream",
     "text": [
      "\r",
      " 50%|█████████████████████▌                     | 25/50 [01:59<01:58,  4.73s/it]"
     ]
    },
    {
     "name": "stdout",
     "output_type": "stream",
     "text": [
      "/home/rabeea/brain/val/images/BRATS_109.nii.gz\n"
     ]
    },
    {
     "name": "stderr",
     "output_type": "stream",
     "text": [
      "\r",
      " 52%|██████████████████████▎                    | 26/50 [02:05<01:57,  4.89s/it]"
     ]
    },
    {
     "name": "stdout",
     "output_type": "stream",
     "text": [
      "/home/rabeea/brain/val/images/BRATS_034.nii.gz\n"
     ]
    },
    {
     "name": "stderr",
     "output_type": "stream",
     "text": [
      "\r",
      " 54%|███████████████████████▏                   | 27/50 [02:10<01:54,  4.99s/it]"
     ]
    },
    {
     "name": "stdout",
     "output_type": "stream",
     "text": [
      "/home/rabeea/brain/val/images/BRATS_138.nii.gz\n"
     ]
    },
    {
     "name": "stderr",
     "output_type": "stream",
     "text": [
      "\r",
      " 56%|████████████████████████                   | 28/50 [02:15<01:47,  4.91s/it]"
     ]
    },
    {
     "name": "stdout",
     "output_type": "stream",
     "text": [
      "/home/rabeea/brain/val/images/BRATS_206.nii.gz\n"
     ]
    },
    {
     "name": "stderr",
     "output_type": "stream",
     "text": [
      "\r",
      " 58%|████████████████████████▉                  | 29/50 [02:19<01:42,  4.89s/it]"
     ]
    },
    {
     "name": "stdout",
     "output_type": "stream",
     "text": [
      "/home/rabeea/brain/val/images/BRATS_162.nii.gz\n"
     ]
    },
    {
     "name": "stderr",
     "output_type": "stream",
     "text": [
      "\r",
      " 60%|█████████████████████████▊                 | 30/50 [02:24<01:37,  4.87s/it]"
     ]
    },
    {
     "name": "stdout",
     "output_type": "stream",
     "text": [
      "/home/rabeea/brain/val/images/BRATS_467.nii.gz\n"
     ]
    },
    {
     "name": "stderr",
     "output_type": "stream",
     "text": [
      "\r",
      " 62%|██████████████████████████▋                | 31/50 [02:29<01:32,  4.85s/it]"
     ]
    },
    {
     "name": "stdout",
     "output_type": "stream",
     "text": [
      "/home/rabeea/brain/val/images/BRATS_118.nii.gz\n"
     ]
    },
    {
     "name": "stderr",
     "output_type": "stream",
     "text": [
      "\r",
      " 64%|███████████████████████████▌               | 32/50 [02:34<01:26,  4.81s/it]"
     ]
    },
    {
     "name": "stdout",
     "output_type": "stream",
     "text": [
      "/home/rabeea/brain/val/images/BRATS_029.nii.gz\n"
     ]
    },
    {
     "name": "stderr",
     "output_type": "stream",
     "text": [
      "\r",
      " 66%|████████████████████████████▍              | 33/50 [02:38<01:21,  4.78s/it]"
     ]
    },
    {
     "name": "stdout",
     "output_type": "stream",
     "text": [
      "/home/rabeea/brain/val/images/BRATS_167.nii.gz\n"
     ]
    },
    {
     "name": "stderr",
     "output_type": "stream",
     "text": [
      "\r",
      " 68%|█████████████████████████████▏             | 34/50 [02:43<01:17,  4.84s/it]"
     ]
    },
    {
     "name": "stdout",
     "output_type": "stream",
     "text": [
      "/home/rabeea/brain/val/images/BRATS_351.nii.gz\n"
     ]
    },
    {
     "name": "stderr",
     "output_type": "stream",
     "text": [
      "\r",
      " 70%|██████████████████████████████             | 35/50 [02:48<01:12,  4.83s/it]"
     ]
    },
    {
     "name": "stdout",
     "output_type": "stream",
     "text": [
      "/home/rabeea/brain/val/images/BRATS_452.nii.gz\n"
     ]
    },
    {
     "name": "stderr",
     "output_type": "stream",
     "text": [
      "\r",
      " 72%|██████████████████████████████▉            | 36/50 [02:53<01:07,  4.85s/it]"
     ]
    },
    {
     "name": "stdout",
     "output_type": "stream",
     "text": [
      "/home/rabeea/brain/val/images/BRATS_286.nii.gz\n"
     ]
    },
    {
     "name": "stderr",
     "output_type": "stream",
     "text": [
      "\r",
      " 74%|███████████████████████████████▊           | 37/50 [02:58<01:03,  4.85s/it]"
     ]
    },
    {
     "name": "stdout",
     "output_type": "stream",
     "text": [
      "/home/rabeea/brain/val/images/BRATS_353.nii.gz\n"
     ]
    },
    {
     "name": "stderr",
     "output_type": "stream",
     "text": [
      "\r",
      " 76%|████████████████████████████████▋          | 38/50 [03:03<00:58,  4.84s/it]"
     ]
    },
    {
     "name": "stdout",
     "output_type": "stream",
     "text": [
      "/home/rabeea/brain/val/images/BRATS_484.nii.gz\n"
     ]
    },
    {
     "name": "stderr",
     "output_type": "stream",
     "text": [
      "\r",
      " 78%|█████████████████████████████████▌         | 39/50 [03:08<00:53,  4.83s/it]"
     ]
    },
    {
     "name": "stdout",
     "output_type": "stream",
     "text": [
      "/home/rabeea/brain/val/images/BRATS_139.nii.gz\n"
     ]
    },
    {
     "name": "stderr",
     "output_type": "stream",
     "text": [
      "\r",
      " 80%|██████████████████████████████████▍        | 40/50 [03:12<00:48,  4.82s/it]"
     ]
    },
    {
     "name": "stdout",
     "output_type": "stream",
     "text": [
      "/home/rabeea/brain/val/images/BRATS_401.nii.gz\n"
     ]
    },
    {
     "name": "stderr",
     "output_type": "stream",
     "text": [
      "\r",
      " 82%|███████████████████████████████████▎       | 41/50 [03:17<00:43,  4.80s/it]"
     ]
    },
    {
     "name": "stdout",
     "output_type": "stream",
     "text": [
      "/home/rabeea/brain/val/images/BRATS_237.nii.gz\n"
     ]
    },
    {
     "name": "stderr",
     "output_type": "stream",
     "text": [
      "\r",
      " 84%|████████████████████████████████████       | 42/50 [03:22<00:38,  4.77s/it]"
     ]
    },
    {
     "name": "stdout",
     "output_type": "stream",
     "text": [
      "/home/rabeea/brain/val/images/BRATS_406.nii.gz\n"
     ]
    },
    {
     "name": "stderr",
     "output_type": "stream",
     "text": [
      "\r",
      " 86%|████████████████████████████████████▉      | 43/50 [03:27<00:33,  4.80s/it]"
     ]
    },
    {
     "name": "stdout",
     "output_type": "stream",
     "text": [
      "/home/rabeea/brain/val/images/BRATS_479.nii.gz\n"
     ]
    },
    {
     "name": "stderr",
     "output_type": "stream",
     "text": [
      "\r",
      " 88%|█████████████████████████████████████▊     | 44/50 [03:32<00:28,  4.83s/it]"
     ]
    },
    {
     "name": "stdout",
     "output_type": "stream",
     "text": [
      "/home/rabeea/brain/val/images/BRATS_424.nii.gz\n"
     ]
    },
    {
     "name": "stderr",
     "output_type": "stream",
     "text": [
      "\r",
      " 90%|██████████████████████████████████████▋    | 45/50 [03:37<00:24,  4.86s/it]"
     ]
    },
    {
     "name": "stdout",
     "output_type": "stream",
     "text": [
      "/home/rabeea/brain/val/images/BRATS_274.nii.gz\n"
     ]
    },
    {
     "name": "stderr",
     "output_type": "stream",
     "text": [
      "\r",
      " 92%|███████████████████████████████████████▌   | 46/50 [03:41<00:19,  4.85s/it]"
     ]
    },
    {
     "name": "stdout",
     "output_type": "stream",
     "text": [
      "/home/rabeea/brain/val/images/BRATS_088.nii.gz\n"
     ]
    },
    {
     "name": "stderr",
     "output_type": "stream",
     "text": [
      "\r",
      " 94%|████████████████████████████████████████▍  | 47/50 [03:46<00:14,  4.84s/it]"
     ]
    },
    {
     "name": "stdout",
     "output_type": "stream",
     "text": [
      "/home/rabeea/brain/val/images/BRATS_398.nii.gz\n"
     ]
    },
    {
     "name": "stderr",
     "output_type": "stream",
     "text": [
      "\r",
      " 96%|█████████████████████████████████████████▎ | 48/50 [03:51<00:09,  4.83s/it]"
     ]
    },
    {
     "name": "stdout",
     "output_type": "stream",
     "text": [
      "/home/rabeea/brain/val/images/BRATS_312.nii.gz\n"
     ]
    },
    {
     "name": "stderr",
     "output_type": "stream",
     "text": [
      "\r",
      " 98%|██████████████████████████████████████████▏| 49/50 [03:56<00:04,  4.92s/it]"
     ]
    },
    {
     "name": "stdout",
     "output_type": "stream",
     "text": [
      "/home/rabeea/brain/val/images/BRATS_037.nii.gz\n"
     ]
    },
    {
     "name": "stderr",
     "output_type": "stream",
     "text": [
      "100%|███████████████████████████████████████████| 50/50 [04:01<00:00,  4.83s/it]\n"
     ]
    },
    {
     "name": "stdout",
     "output_type": "stream",
     "text": [
      "/home/rabeea/brain/val/images/BRATS_332.nii.gz\n",
      "\n",
      "\n",
      "Proceeding through 'test' folders: ...\n",
      "\n"
     ]
    },
    {
     "name": "stderr",
     "output_type": "stream",
     "text": [
      "  1%|▍                                           | 1/96 [00:04<07:22,  4.66s/it]"
     ]
    },
    {
     "name": "stdout",
     "output_type": "stream",
     "text": [
      "/home/rabeea/brain/test/images/BRATS_350.nii.gz\n"
     ]
    },
    {
     "name": "stderr",
     "output_type": "stream",
     "text": [
      "\r",
      "  2%|▉                                           | 2/96 [00:09<07:25,  4.74s/it]"
     ]
    },
    {
     "name": "stdout",
     "output_type": "stream",
     "text": [
      "/home/rabeea/brain/test/images/BRATS_455.nii.gz\n"
     ]
    },
    {
     "name": "stderr",
     "output_type": "stream",
     "text": [
      "\r",
      "  3%|█▍                                          | 3/96 [00:14<07:25,  4.79s/it]"
     ]
    },
    {
     "name": "stdout",
     "output_type": "stream",
     "text": [
      "/home/rabeea/brain/test/images/BRATS_137.nii.gz\n"
     ]
    },
    {
     "name": "stderr",
     "output_type": "stream",
     "text": [
      "\r",
      "  4%|█▊                                          | 4/96 [00:19<07:24,  4.83s/it]"
     ]
    },
    {
     "name": "stdout",
     "output_type": "stream",
     "text": [
      "/home/rabeea/brain/test/images/BRATS_344.nii.gz\n"
     ]
    },
    {
     "name": "stderr",
     "output_type": "stream",
     "text": [
      "\r",
      "  5%|██▎                                         | 5/96 [00:24<07:19,  4.83s/it]"
     ]
    },
    {
     "name": "stdout",
     "output_type": "stream",
     "text": [
      "/home/rabeea/brain/test/images/BRATS_108.nii.gz\n"
     ]
    },
    {
     "name": "stderr",
     "output_type": "stream",
     "text": [
      "\r",
      "  6%|██▊                                         | 6/96 [00:28<07:09,  4.77s/it]"
     ]
    },
    {
     "name": "stdout",
     "output_type": "stream",
     "text": [
      "/home/rabeea/brain/test/images/BRATS_182.nii.gz\n"
     ]
    },
    {
     "name": "stderr",
     "output_type": "stream",
     "text": [
      "\r",
      "  7%|███▏                                        | 7/96 [00:33<07:00,  4.72s/it]"
     ]
    },
    {
     "name": "stdout",
     "output_type": "stream",
     "text": [
      "/home/rabeea/brain/test/images/BRATS_190.nii.gz\n"
     ]
    },
    {
     "name": "stderr",
     "output_type": "stream",
     "text": [
      "\r",
      "  8%|███▋                                        | 8/96 [00:37<06:53,  4.70s/it]"
     ]
    },
    {
     "name": "stdout",
     "output_type": "stream",
     "text": [
      "/home/rabeea/brain/test/images/BRATS_084.nii.gz\n"
     ]
    },
    {
     "name": "stderr",
     "output_type": "stream",
     "text": [
      "\r",
      "  9%|████▏                                       | 9/96 [00:42<06:54,  4.76s/it]"
     ]
    },
    {
     "name": "stdout",
     "output_type": "stream",
     "text": [
      "/home/rabeea/brain/test/images/BRATS_187.nii.gz\n"
     ]
    },
    {
     "name": "stderr",
     "output_type": "stream",
     "text": [
      "\r",
      " 10%|████▍                                      | 10/96 [00:47<06:50,  4.78s/it]"
     ]
    },
    {
     "name": "stdout",
     "output_type": "stream",
     "text": [
      "/home/rabeea/brain/test/images/BRATS_326.nii.gz\n"
     ]
    },
    {
     "name": "stderr",
     "output_type": "stream",
     "text": [
      "\r",
      " 11%|████▉                                      | 11/96 [00:52<06:45,  4.78s/it]"
     ]
    },
    {
     "name": "stdout",
     "output_type": "stream",
     "text": [
      "/home/rabeea/brain/test/images/BRATS_233.nii.gz\n"
     ]
    },
    {
     "name": "stderr",
     "output_type": "stream",
     "text": [
      "\r",
      " 12%|█████▍                                     | 12/96 [00:57<06:42,  4.80s/it]"
     ]
    },
    {
     "name": "stdout",
     "output_type": "stream",
     "text": [
      "/home/rabeea/brain/test/images/BRATS_439.nii.gz\n"
     ]
    },
    {
     "name": "stderr",
     "output_type": "stream",
     "text": [
      "\r",
      " 14%|█████▊                                     | 13/96 [01:02<06:42,  4.85s/it]"
     ]
    },
    {
     "name": "stdout",
     "output_type": "stream",
     "text": [
      "/home/rabeea/brain/test/images/BRATS_432.nii.gz\n"
     ]
    },
    {
     "name": "stderr",
     "output_type": "stream",
     "text": [
      "\r",
      " 15%|██████▎                                    | 14/96 [01:06<06:32,  4.79s/it]"
     ]
    },
    {
     "name": "stdout",
     "output_type": "stream",
     "text": [
      "/home/rabeea/brain/test/images/BRATS_052.nii.gz\n"
     ]
    },
    {
     "name": "stderr",
     "output_type": "stream",
     "text": [
      "\r",
      " 16%|██████▋                                    | 15/96 [01:11<06:26,  4.77s/it]"
     ]
    },
    {
     "name": "stdout",
     "output_type": "stream",
     "text": [
      "/home/rabeea/brain/test/images/BRATS_463.nii.gz\n"
     ]
    },
    {
     "name": "stderr",
     "output_type": "stream",
     "text": [
      "\r",
      " 17%|███████▏                                   | 16/96 [01:16<06:19,  4.74s/it]"
     ]
    },
    {
     "name": "stdout",
     "output_type": "stream",
     "text": [
      "/home/rabeea/brain/test/images/BRATS_419.nii.gz\n"
     ]
    },
    {
     "name": "stderr",
     "output_type": "stream",
     "text": [
      "\r",
      " 18%|███████▌                                   | 17/96 [01:21<06:15,  4.75s/it]"
     ]
    },
    {
     "name": "stdout",
     "output_type": "stream",
     "text": [
      "/home/rabeea/brain/test/images/BRATS_149.nii.gz\n"
     ]
    },
    {
     "name": "stderr",
     "output_type": "stream",
     "text": [
      "\r",
      " 19%|████████                                   | 18/96 [01:25<06:11,  4.76s/it]"
     ]
    },
    {
     "name": "stdout",
     "output_type": "stream",
     "text": [
      "/home/rabeea/brain/test/images/BRATS_396.nii.gz\n"
     ]
    },
    {
     "name": "stderr",
     "output_type": "stream",
     "text": [
      "\r",
      " 20%|████████▌                                  | 19/96 [01:30<06:06,  4.76s/it]"
     ]
    },
    {
     "name": "stdout",
     "output_type": "stream",
     "text": [
      "/home/rabeea/brain/test/images/BRATS_117.nii.gz\n"
     ]
    },
    {
     "name": "stderr",
     "output_type": "stream",
     "text": [
      "\r",
      " 21%|████████▉                                  | 20/96 [01:35<06:08,  4.85s/it]"
     ]
    },
    {
     "name": "stdout",
     "output_type": "stream",
     "text": [
      "/home/rabeea/brain/test/images/BRATS_339.nii.gz\n"
     ]
    },
    {
     "name": "stderr",
     "output_type": "stream",
     "text": [
      "\r",
      " 22%|█████████▍                                 | 21/96 [01:40<06:01,  4.82s/it]"
     ]
    },
    {
     "name": "stdout",
     "output_type": "stream",
     "text": [
      "/home/rabeea/brain/test/images/BRATS_024.nii.gz\n"
     ]
    },
    {
     "name": "stderr",
     "output_type": "stream",
     "text": [
      "\r",
      " 23%|█████████▊                                 | 22/96 [01:45<05:52,  4.77s/it]"
     ]
    },
    {
     "name": "stdout",
     "output_type": "stream",
     "text": [
      "/home/rabeea/brain/test/images/BRATS_036.nii.gz\n"
     ]
    },
    {
     "name": "stderr",
     "output_type": "stream",
     "text": [
      "\r",
      " 24%|██████████▎                                | 23/96 [01:49<05:50,  4.80s/it]"
     ]
    },
    {
     "name": "stdout",
     "output_type": "stream",
     "text": [
      "/home/rabeea/brain/test/images/BRATS_361.nii.gz\n"
     ]
    },
    {
     "name": "stderr",
     "output_type": "stream",
     "text": [
      "\r",
      " 25%|██████████▊                                | 24/96 [01:54<05:45,  4.80s/it]"
     ]
    },
    {
     "name": "stdout",
     "output_type": "stream",
     "text": [
      "/home/rabeea/brain/test/images/BRATS_099.nii.gz\n"
     ]
    },
    {
     "name": "stderr",
     "output_type": "stream",
     "text": [
      "\r",
      " 26%|███████████▏                               | 25/96 [01:59<05:43,  4.83s/it]"
     ]
    },
    {
     "name": "stdout",
     "output_type": "stream",
     "text": [
      "/home/rabeea/brain/test/images/BRATS_296.nii.gz\n"
     ]
    },
    {
     "name": "stderr",
     "output_type": "stream",
     "text": [
      "\r",
      " 27%|███████████▋                               | 26/96 [02:04<05:38,  4.84s/it]"
     ]
    },
    {
     "name": "stdout",
     "output_type": "stream",
     "text": [
      "/home/rabeea/brain/test/images/BRATS_186.nii.gz\n"
     ]
    },
    {
     "name": "stderr",
     "output_type": "stream",
     "text": [
      "\r",
      " 28%|████████████                               | 27/96 [02:09<05:32,  4.82s/it]"
     ]
    },
    {
     "name": "stdout",
     "output_type": "stream",
     "text": [
      "/home/rabeea/brain/test/images/BRATS_317.nii.gz\n"
     ]
    },
    {
     "name": "stderr",
     "output_type": "stream",
     "text": [
      "\r",
      " 29%|████████████▌                              | 28/96 [02:14<05:34,  4.93s/it]"
     ]
    },
    {
     "name": "stdout",
     "output_type": "stream",
     "text": [
      "/home/rabeea/brain/test/images/BRATS_322.nii.gz\n"
     ]
    },
    {
     "name": "stderr",
     "output_type": "stream",
     "text": [
      "\r",
      " 30%|████████████▉                              | 29/96 [02:19<05:26,  4.87s/it]"
     ]
    },
    {
     "name": "stdout",
     "output_type": "stream",
     "text": [
      "/home/rabeea/brain/test/images/BRATS_151.nii.gz\n"
     ]
    },
    {
     "name": "stderr",
     "output_type": "stream",
     "text": [
      "\r",
      " 31%|█████████████▍                             | 30/96 [02:24<05:20,  4.86s/it]"
     ]
    },
    {
     "name": "stdout",
     "output_type": "stream",
     "text": [
      "/home/rabeea/brain/test/images/BRATS_283.nii.gz\n"
     ]
    },
    {
     "name": "stderr",
     "output_type": "stream",
     "text": [
      "\r",
      " 32%|█████████████▉                             | 31/96 [02:28<05:15,  4.85s/it]"
     ]
    },
    {
     "name": "stdout",
     "output_type": "stream",
     "text": [
      "/home/rabeea/brain/test/images/BRATS_041.nii.gz\n"
     ]
    },
    {
     "name": "stderr",
     "output_type": "stream",
     "text": [
      "\r",
      " 33%|██████████████▎                            | 32/96 [02:33<05:09,  4.84s/it]"
     ]
    },
    {
     "name": "stdout",
     "output_type": "stream",
     "text": [
      "/home/rabeea/brain/test/images/BRATS_194.nii.gz\n"
     ]
    },
    {
     "name": "stderr",
     "output_type": "stream",
     "text": [
      "\r",
      " 34%|██████████████▊                            | 33/96 [02:38<05:04,  4.83s/it]"
     ]
    },
    {
     "name": "stdout",
     "output_type": "stream",
     "text": [
      "/home/rabeea/brain/test/images/BRATS_064.nii.gz\n"
     ]
    },
    {
     "name": "stderr",
     "output_type": "stream",
     "text": [
      "\r",
      " 35%|███████████████▏                           | 34/96 [02:43<05:00,  4.84s/it]"
     ]
    },
    {
     "name": "stdout",
     "output_type": "stream",
     "text": [
      "/home/rabeea/brain/test/images/BRATS_275.nii.gz\n"
     ]
    },
    {
     "name": "stderr",
     "output_type": "stream",
     "text": [
      "\r",
      " 36%|███████████████▋                           | 35/96 [02:48<04:55,  4.84s/it]"
     ]
    },
    {
     "name": "stdout",
     "output_type": "stream",
     "text": [
      "/home/rabeea/brain/test/images/BRATS_236.nii.gz\n"
     ]
    },
    {
     "name": "stderr",
     "output_type": "stream",
     "text": [
      "\r",
      " 38%|████████████████▏                          | 36/96 [02:52<04:47,  4.80s/it]"
     ]
    },
    {
     "name": "stdout",
     "output_type": "stream",
     "text": [
      "/home/rabeea/brain/test/images/BRATS_374.nii.gz\n"
     ]
    },
    {
     "name": "stderr",
     "output_type": "stream",
     "text": [
      "\r",
      " 39%|████████████████▌                          | 37/96 [02:57<04:43,  4.80s/it]"
     ]
    },
    {
     "name": "stdout",
     "output_type": "stream",
     "text": [
      "/home/rabeea/brain/test/images/BRATS_023.nii.gz\n"
     ]
    },
    {
     "name": "stderr",
     "output_type": "stream",
     "text": [
      "\r",
      " 40%|█████████████████                          | 38/96 [03:02<04:39,  4.81s/it]"
     ]
    },
    {
     "name": "stdout",
     "output_type": "stream",
     "text": [
      "/home/rabeea/brain/test/images/BRATS_414.nii.gz\n"
     ]
    },
    {
     "name": "stderr",
     "output_type": "stream",
     "text": [
      "\r",
      " 41%|█████████████████▍                         | 39/96 [03:07<04:34,  4.81s/it]"
     ]
    },
    {
     "name": "stdout",
     "output_type": "stream",
     "text": [
      "/home/rabeea/brain/test/images/BRATS_136.nii.gz\n"
     ]
    },
    {
     "name": "stderr",
     "output_type": "stream",
     "text": [
      "\r",
      " 42%|█████████████████▉                         | 40/96 [03:12<04:29,  4.82s/it]"
     ]
    },
    {
     "name": "stdout",
     "output_type": "stream",
     "text": [
      "/home/rabeea/brain/test/images/BRATS_310.nii.gz\n"
     ]
    },
    {
     "name": "stderr",
     "output_type": "stream",
     "text": [
      "\r",
      " 43%|██████████████████▎                        | 41/96 [03:17<04:24,  4.81s/it]"
     ]
    },
    {
     "name": "stdout",
     "output_type": "stream",
     "text": [
      "/home/rabeea/brain/test/images/BRATS_177.nii.gz\n"
     ]
    },
    {
     "name": "stderr",
     "output_type": "stream",
     "text": [
      "\r",
      " 44%|██████████████████▊                        | 42/96 [03:21<04:20,  4.83s/it]"
     ]
    },
    {
     "name": "stdout",
     "output_type": "stream",
     "text": [
      "/home/rabeea/brain/test/images/BRATS_184.nii.gz\n"
     ]
    },
    {
     "name": "stderr",
     "output_type": "stream",
     "text": [
      "\r",
      " 45%|███████████████████▎                       | 43/96 [03:26<04:18,  4.89s/it]"
     ]
    },
    {
     "name": "stdout",
     "output_type": "stream",
     "text": [
      "/home/rabeea/brain/test/images/BRATS_050.nii.gz\n"
     ]
    },
    {
     "name": "stderr",
     "output_type": "stream",
     "text": [
      "\r",
      " 46%|███████████████████▋                       | 44/96 [03:31<04:12,  4.85s/it]"
     ]
    },
    {
     "name": "stdout",
     "output_type": "stream",
     "text": [
      "/home/rabeea/brain/test/images/BRATS_195.nii.gz\n"
     ]
    },
    {
     "name": "stderr",
     "output_type": "stream",
     "text": [
      "\r",
      " 47%|████████████████████▏                      | 45/96 [03:36<04:06,  4.83s/it]"
     ]
    },
    {
     "name": "stdout",
     "output_type": "stream",
     "text": [
      "/home/rabeea/brain/test/images/BRATS_465.nii.gz\n"
     ]
    },
    {
     "name": "stderr",
     "output_type": "stream",
     "text": [
      "\r",
      " 48%|████████████████████▌                      | 46/96 [03:41<04:03,  4.87s/it]"
     ]
    },
    {
     "name": "stdout",
     "output_type": "stream",
     "text": [
      "/home/rabeea/brain/test/images/BRATS_475.nii.gz\n"
     ]
    },
    {
     "name": "stderr",
     "output_type": "stream",
     "text": [
      "\r",
      " 49%|█████████████████████                      | 47/96 [03:46<03:58,  4.86s/it]"
     ]
    },
    {
     "name": "stdout",
     "output_type": "stream",
     "text": [
      "/home/rabeea/brain/test/images/BRATS_173.nii.gz\n"
     ]
    },
    {
     "name": "stderr",
     "output_type": "stream",
     "text": [
      "\r",
      " 50%|█████████████████████▌                     | 48/96 [03:51<03:53,  4.86s/it]"
     ]
    },
    {
     "name": "stdout",
     "output_type": "stream",
     "text": [
      "/home/rabeea/brain/test/images/BRATS_391.nii.gz\n"
     ]
    },
    {
     "name": "stderr",
     "output_type": "stream",
     "text": [
      "\r",
      " 51%|█████████████████████▉                     | 49/96 [03:55<03:47,  4.84s/it]"
     ]
    },
    {
     "name": "stdout",
     "output_type": "stream",
     "text": [
      "/home/rabeea/brain/test/images/BRATS_111.nii.gz\n"
     ]
    },
    {
     "name": "stderr",
     "output_type": "stream",
     "text": [
      "\r",
      " 52%|██████████████████████▍                    | 50/96 [04:00<03:41,  4.82s/it]"
     ]
    },
    {
     "name": "stdout",
     "output_type": "stream",
     "text": [
      "/home/rabeea/brain/test/images/BRATS_080.nii.gz\n"
     ]
    },
    {
     "name": "stderr",
     "output_type": "stream",
     "text": [
      "\r",
      " 53%|██████████████████████▊                    | 51/96 [04:05<03:35,  4.79s/it]"
     ]
    },
    {
     "name": "stdout",
     "output_type": "stream",
     "text": [
      "/home/rabeea/brain/test/images/BRATS_449.nii.gz\n"
     ]
    },
    {
     "name": "stderr",
     "output_type": "stream",
     "text": [
      "\r",
      " 54%|███████████████████████▎                   | 52/96 [04:10<03:31,  4.80s/it]"
     ]
    },
    {
     "name": "stdout",
     "output_type": "stream",
     "text": [
      "/home/rabeea/brain/test/images/BRATS_175.nii.gz\n"
     ]
    },
    {
     "name": "stderr",
     "output_type": "stream",
     "text": [
      "\r",
      " 55%|███████████████████████▋                   | 53/96 [04:14<03:25,  4.78s/it]"
     ]
    },
    {
     "name": "stdout",
     "output_type": "stream",
     "text": [
      "/home/rabeea/brain/test/images/BRATS_468.nii.gz\n"
     ]
    },
    {
     "name": "stderr",
     "output_type": "stream",
     "text": [
      "\r",
      " 56%|████████████████████████▏                  | 54/96 [04:19<03:20,  4.78s/it]"
     ]
    },
    {
     "name": "stdout",
     "output_type": "stream",
     "text": [
      "/home/rabeea/brain/test/images/BRATS_358.nii.gz\n"
     ]
    },
    {
     "name": "stderr",
     "output_type": "stream",
     "text": [
      "\r",
      " 57%|████████████████████████▋                  | 55/96 [04:24<03:16,  4.80s/it]"
     ]
    },
    {
     "name": "stdout",
     "output_type": "stream",
     "text": [
      "/home/rabeea/brain/test/images/BRATS_082.nii.gz\n"
     ]
    },
    {
     "name": "stderr",
     "output_type": "stream",
     "text": [
      "\r",
      " 58%|█████████████████████████                  | 56/96 [04:29<03:14,  4.85s/it]"
     ]
    },
    {
     "name": "stdout",
     "output_type": "stream",
     "text": [
      "/home/rabeea/brain/test/images/BRATS_413.nii.gz\n"
     ]
    },
    {
     "name": "stderr",
     "output_type": "stream",
     "text": [
      "\r",
      " 59%|█████████████████████████▌                 | 57/96 [04:34<03:10,  4.87s/it]"
     ]
    },
    {
     "name": "stdout",
     "output_type": "stream",
     "text": [
      "/home/rabeea/brain/test/images/BRATS_389.nii.gz\n"
     ]
    },
    {
     "name": "stderr",
     "output_type": "stream",
     "text": [
      "\r",
      " 60%|█████████████████████████▉                 | 58/96 [04:39<03:04,  4.85s/it]"
     ]
    },
    {
     "name": "stdout",
     "output_type": "stream",
     "text": [
      "/home/rabeea/brain/test/images/BRATS_004.nii.gz\n"
     ]
    },
    {
     "name": "stderr",
     "output_type": "stream",
     "text": [
      "\r",
      " 61%|██████████████████████████▍                | 59/96 [04:44<02:59,  4.86s/it]"
     ]
    },
    {
     "name": "stdout",
     "output_type": "stream",
     "text": [
      "/home/rabeea/brain/test/images/BRATS_446.nii.gz\n"
     ]
    },
    {
     "name": "stderr",
     "output_type": "stream",
     "text": [
      "\r",
      " 62%|██████████████████████████▉                | 60/96 [04:48<02:54,  4.84s/it]"
     ]
    },
    {
     "name": "stdout",
     "output_type": "stream",
     "text": [
      "/home/rabeea/brain/test/images/BRATS_415.nii.gz\n"
     ]
    },
    {
     "name": "stderr",
     "output_type": "stream",
     "text": [
      "\r",
      " 64%|███████████████████████████▎               | 61/96 [04:53<02:48,  4.81s/it]"
     ]
    },
    {
     "name": "stdout",
     "output_type": "stream",
     "text": [
      "/home/rabeea/brain/test/images/BRATS_143.nii.gz\n"
     ]
    },
    {
     "name": "stderr",
     "output_type": "stream",
     "text": [
      "\r",
      " 65%|███████████████████████████▊               | 62/96 [04:58<02:44,  4.83s/it]"
     ]
    },
    {
     "name": "stdout",
     "output_type": "stream",
     "text": [
      "/home/rabeea/brain/test/images/BRATS_302.nii.gz\n"
     ]
    },
    {
     "name": "stderr",
     "output_type": "stream",
     "text": [
      "\r",
      " 66%|████████████████████████████▏              | 63/96 [05:03<02:39,  4.83s/it]"
     ]
    },
    {
     "name": "stdout",
     "output_type": "stream",
     "text": [
      "/home/rabeea/brain/test/images/BRATS_230.nii.gz\n"
     ]
    },
    {
     "name": "stderr",
     "output_type": "stream",
     "text": [
      "\r",
      " 67%|████████████████████████████▋              | 64/96 [05:08<02:34,  4.84s/it]"
     ]
    },
    {
     "name": "stdout",
     "output_type": "stream",
     "text": [
      "/home/rabeea/brain/test/images/BRATS_113.nii.gz\n"
     ]
    },
    {
     "name": "stderr",
     "output_type": "stream",
     "text": [
      "\r",
      " 68%|█████████████████████████████              | 65/96 [05:13<02:31,  4.90s/it]"
     ]
    },
    {
     "name": "stdout",
     "output_type": "stream",
     "text": [
      "/home/rabeea/brain/test/images/BRATS_215.nii.gz\n"
     ]
    },
    {
     "name": "stderr",
     "output_type": "stream",
     "text": [
      "\r",
      " 69%|█████████████████████████████▌             | 66/96 [05:18<02:27,  4.91s/it]"
     ]
    },
    {
     "name": "stdout",
     "output_type": "stream",
     "text": [
      "/home/rabeea/brain/test/images/BRATS_471.nii.gz\n"
     ]
    },
    {
     "name": "stderr",
     "output_type": "stream",
     "text": [
      "\r",
      " 70%|██████████████████████████████             | 67/96 [05:23<02:21,  4.90s/it]"
     ]
    },
    {
     "name": "stdout",
     "output_type": "stream",
     "text": [
      "/home/rabeea/brain/test/images/BRATS_360.nii.gz\n"
     ]
    },
    {
     "name": "stderr",
     "output_type": "stream",
     "text": [
      "\r",
      " 71%|██████████████████████████████▍            | 68/96 [05:27<02:16,  4.86s/it]"
     ]
    },
    {
     "name": "stdout",
     "output_type": "stream",
     "text": [
      "/home/rabeea/brain/test/images/BRATS_333.nii.gz\n"
     ]
    },
    {
     "name": "stderr",
     "output_type": "stream",
     "text": [
      "\r",
      " 72%|██████████████████████████████▉            | 69/96 [05:32<02:11,  4.86s/it]"
     ]
    },
    {
     "name": "stdout",
     "output_type": "stream",
     "text": [
      "/home/rabeea/brain/test/images/BRATS_367.nii.gz\n"
     ]
    },
    {
     "name": "stderr",
     "output_type": "stream",
     "text": [
      "\r",
      " 73%|███████████████████████████████▎           | 70/96 [05:37<02:05,  4.84s/it]"
     ]
    },
    {
     "name": "stdout",
     "output_type": "stream",
     "text": [
      "/home/rabeea/brain/test/images/BRATS_102.nii.gz\n"
     ]
    },
    {
     "name": "stderr",
     "output_type": "stream",
     "text": [
      "\r",
      " 74%|███████████████████████████████▊           | 71/96 [05:42<02:01,  4.85s/it]"
     ]
    },
    {
     "name": "stdout",
     "output_type": "stream",
     "text": [
      "/home/rabeea/brain/test/images/BRATS_288.nii.gz\n"
     ]
    },
    {
     "name": "stderr",
     "output_type": "stream",
     "text": [
      "\r",
      " 75%|████████████████████████████████▎          | 72/96 [05:47<01:57,  4.91s/it]"
     ]
    },
    {
     "name": "stdout",
     "output_type": "stream",
     "text": [
      "/home/rabeea/brain/test/images/BRATS_014.nii.gz\n"
     ]
    },
    {
     "name": "stderr",
     "output_type": "stream",
     "text": [
      "\r",
      " 76%|████████████████████████████████▋          | 73/96 [05:52<01:52,  4.89s/it]"
     ]
    },
    {
     "name": "stdout",
     "output_type": "stream",
     "text": [
      "/home/rabeea/brain/test/images/BRATS_309.nii.gz\n"
     ]
    },
    {
     "name": "stderr",
     "output_type": "stream",
     "text": [
      "\r",
      " 77%|█████████████████████████████████▏         | 74/96 [05:57<01:46,  4.85s/it]"
     ]
    },
    {
     "name": "stdout",
     "output_type": "stream",
     "text": [
      "/home/rabeea/brain/test/images/BRATS_259.nii.gz\n"
     ]
    },
    {
     "name": "stderr",
     "output_type": "stream",
     "text": [
      "\r",
      " 78%|█████████████████████████████████▌         | 75/96 [06:01<01:41,  4.83s/it]"
     ]
    },
    {
     "name": "stdout",
     "output_type": "stream",
     "text": [
      "/home/rabeea/brain/test/images/BRATS_120.nii.gz\n"
     ]
    },
    {
     "name": "stderr",
     "output_type": "stream",
     "text": [
      "\r",
      " 79%|██████████████████████████████████         | 76/96 [06:06<01:36,  4.84s/it]"
     ]
    },
    {
     "name": "stdout",
     "output_type": "stream",
     "text": [
      "/home/rabeea/brain/test/images/BRATS_112.nii.gz\n"
     ]
    },
    {
     "name": "stderr",
     "output_type": "stream",
     "text": [
      "\r",
      " 80%|██████████████████████████████████▍        | 77/96 [06:11<01:31,  4.83s/it]"
     ]
    },
    {
     "name": "stdout",
     "output_type": "stream",
     "text": [
      "/home/rabeea/brain/test/images/BRATS_048.nii.gz\n"
     ]
    },
    {
     "name": "stderr",
     "output_type": "stream",
     "text": [
      "\r",
      " 81%|██████████████████████████████████▉        | 78/96 [06:16<01:26,  4.82s/it]"
     ]
    },
    {
     "name": "stdout",
     "output_type": "stream",
     "text": [
      "/home/rabeea/brain/test/images/BRATS_016.nii.gz\n"
     ]
    },
    {
     "name": "stderr",
     "output_type": "stream",
     "text": [
      "\r",
      " 82%|███████████████████████████████████▍       | 79/96 [06:20<01:21,  4.76s/it]"
     ]
    },
    {
     "name": "stdout",
     "output_type": "stream",
     "text": [
      "/home/rabeea/brain/test/images/BRATS_017.nii.gz\n"
     ]
    },
    {
     "name": "stderr",
     "output_type": "stream",
     "text": [
      "\r",
      " 83%|███████████████████████████████████▊       | 80/96 [06:25<01:16,  4.77s/it]"
     ]
    },
    {
     "name": "stdout",
     "output_type": "stream",
     "text": [
      "/home/rabeea/brain/test/images/BRATS_217.nii.gz\n"
     ]
    },
    {
     "name": "stderr",
     "output_type": "stream",
     "text": [
      "\r",
      " 84%|████████████████████████████████████▎      | 81/96 [06:30<01:11,  4.75s/it]"
     ]
    },
    {
     "name": "stdout",
     "output_type": "stream",
     "text": [
      "/home/rabeea/brain/test/images/BRATS_303.nii.gz\n"
     ]
    },
    {
     "name": "stderr",
     "output_type": "stream",
     "text": [
      "\r",
      " 85%|████████████████████████████████████▋      | 82/96 [06:35<01:06,  4.75s/it]"
     ]
    },
    {
     "name": "stdout",
     "output_type": "stream",
     "text": [
      "/home/rabeea/brain/test/images/BRATS_045.nii.gz\n"
     ]
    },
    {
     "name": "stderr",
     "output_type": "stream",
     "text": [
      "\r",
      " 86%|█████████████████████████████████████▏     | 83/96 [06:40<01:02,  4.81s/it]"
     ]
    },
    {
     "name": "stdout",
     "output_type": "stream",
     "text": [
      "/home/rabeea/brain/test/images/BRATS_280.nii.gz\n"
     ]
    },
    {
     "name": "stderr",
     "output_type": "stream",
     "text": [
      "\r",
      " 88%|█████████████████████████████████████▋     | 84/96 [06:44<00:57,  4.82s/it]"
     ]
    },
    {
     "name": "stdout",
     "output_type": "stream",
     "text": [
      "/home/rabeea/brain/test/images/BRATS_457.nii.gz\n"
     ]
    },
    {
     "name": "stderr",
     "output_type": "stream",
     "text": [
      "\r",
      " 89%|██████████████████████████████████████     | 85/96 [06:49<00:53,  4.83s/it]"
     ]
    },
    {
     "name": "stdout",
     "output_type": "stream",
     "text": [
      "/home/rabeea/brain/test/images/BRATS_481.nii.gz\n"
     ]
    },
    {
     "name": "stderr",
     "output_type": "stream",
     "text": [
      "\r",
      " 90%|██████████████████████████████████████▌    | 86/96 [06:54<00:48,  4.87s/it]"
     ]
    },
    {
     "name": "stdout",
     "output_type": "stream",
     "text": [
      "/home/rabeea/brain/test/images/BRATS_347.nii.gz\n"
     ]
    },
    {
     "name": "stderr",
     "output_type": "stream",
     "text": [
      "\r",
      " 91%|██████████████████████████████████████▉    | 87/96 [06:59<00:43,  4.83s/it]"
     ]
    },
    {
     "name": "stdout",
     "output_type": "stream",
     "text": [
      "/home/rabeea/brain/test/images/BRATS_053.nii.gz\n"
     ]
    },
    {
     "name": "stderr",
     "output_type": "stream",
     "text": [
      "\r",
      " 92%|███████████████████████████████████████▍   | 88/96 [07:04<00:39,  4.93s/it]"
     ]
    },
    {
     "name": "stdout",
     "output_type": "stream",
     "text": [
      "/home/rabeea/brain/test/images/BRATS_378.nii.gz\n"
     ]
    },
    {
     "name": "stderr",
     "output_type": "stream",
     "text": [
      "\r",
      " 93%|███████████████████████████████████████▊   | 89/96 [07:09<00:34,  4.87s/it]"
     ]
    },
    {
     "name": "stdout",
     "output_type": "stream",
     "text": [
      "/home/rabeea/brain/test/images/BRATS_072.nii.gz\n"
     ]
    },
    {
     "name": "stderr",
     "output_type": "stream",
     "text": [
      "\r",
      " 94%|████████████████████████████████████████▎  | 90/96 [07:14<00:29,  4.85s/it]"
     ]
    },
    {
     "name": "stdout",
     "output_type": "stream",
     "text": [
      "/home/rabeea/brain/test/images/BRATS_115.nii.gz\n"
     ]
    },
    {
     "name": "stderr",
     "output_type": "stream",
     "text": [
      "\r",
      " 95%|████████████████████████████████████████▊  | 91/96 [07:18<00:24,  4.84s/it]"
     ]
    },
    {
     "name": "stdout",
     "output_type": "stream",
     "text": [
      "/home/rabeea/brain/test/images/BRATS_126.nii.gz\n"
     ]
    },
    {
     "name": "stderr",
     "output_type": "stream",
     "text": [
      "\r",
      " 96%|█████████████████████████████████████████▏ | 92/96 [07:23<00:19,  4.85s/it]"
     ]
    },
    {
     "name": "stdout",
     "output_type": "stream",
     "text": [
      "/home/rabeea/brain/test/images/BRATS_141.nii.gz\n"
     ]
    },
    {
     "name": "stderr",
     "output_type": "stream",
     "text": [
      "\r",
      " 97%|█████████████████████████████████████████▋ | 93/96 [07:28<00:14,  4.86s/it]"
     ]
    },
    {
     "name": "stdout",
     "output_type": "stream",
     "text": [
      "/home/rabeea/brain/test/images/BRATS_380.nii.gz\n"
     ]
    },
    {
     "name": "stderr",
     "output_type": "stream",
     "text": [
      "\r",
      " 98%|██████████████████████████████████████████ | 94/96 [07:33<00:09,  4.86s/it]"
     ]
    },
    {
     "name": "stdout",
     "output_type": "stream",
     "text": [
      "/home/rabeea/brain/test/images/BRATS_013.nii.gz\n"
     ]
    },
    {
     "name": "stderr",
     "output_type": "stream",
     "text": [
      "\r",
      " 99%|██████████████████████████████████████████▌| 95/96 [07:38<00:04,  4.82s/it]"
     ]
    },
    {
     "name": "stdout",
     "output_type": "stream",
     "text": [
      "/home/rabeea/brain/test/images/BRATS_058.nii.gz\n"
     ]
    },
    {
     "name": "stderr",
     "output_type": "stream",
     "text": [
      "100%|███████████████████████████████████████████| 96/96 [07:43<00:00,  4.82s/it]\n"
     ]
    },
    {
     "name": "stdout",
     "output_type": "stream",
     "text": [
      "/home/rabeea/brain/test/images/BRATS_328.nii.gz\n",
      "\n",
      "Iterating through output 'train' and 'val' folders to compute count of the shapes of the files in those directories ...\n",
      "\n"
     ]
    },
    {
     "name": "stderr",
     "output_type": "stream",
     "text": [
      "100%|█████████████████████████████████████████| 776/776 [06:15<00:00,  2.07it/s]"
     ]
    },
    {
     "name": "stdout",
     "output_type": "stream",
     "text": [
      "Output file shape count dictionary:\n",
      "{(240, 240, 160, 4): 388, (240, 240, 160): 388}\n",
      "\n",
      "\n",
      "Process done.\n"
     ]
    },
    {
     "name": "stderr",
     "output_type": "stream",
     "text": [
      "\n"
     ]
    }
   ],
   "source": [
    "create_separate_files_from_dataset(input_directory, output_directory, image_height_size, image_width_size,\n",
    "                                       file_layer_size, use_last_chunk)"
   ]
  },
  {
   "cell_type": "code",
   "execution_count": null,
   "id": "65f6ed58",
   "metadata": {},
   "outputs": [],
   "source": []
  },
  {
   "cell_type": "code",
   "execution_count": null,
   "id": "ac08c40c",
   "metadata": {},
   "outputs": [],
   "source": []
  },
  {
   "cell_type": "code",
   "execution_count": 5,
   "id": "1d48dbcf",
   "metadata": {},
   "outputs": [],
   "source": [
    "image_size = (96,96,96)\n",
    "batch_size = 1\n",
    "num_samples=4\n",
    "pos_to_neg_ratio=1\n",
    "epochs = 350\n",
    "\n",
    "train_steps = len(trainpath)//batch_size\n",
    "valid_steps = len(valpath)//batch_size\n",
    "\n",
    "## Generator\n",
    "train_gen = DataGen(image_size, trainpath,trainpath_m,batch_size=batch_size,num_samples=4, pos_to_neg_ratio=1)\n",
    "valid_gen = DataGen(image_size,valpath, valpath_m, batch_size=batch_size,num_samples=4, pos_to_neg_ratio=1 )\n",
    "#test_gen = DataGen(image_size,testpath, testpath_m, batch_size=1,mode = 'test')"
   ]
  },
  {
   "cell_type": "code",
   "execution_count": 6,
   "id": "4bebe96e",
   "metadata": {},
   "outputs": [
    {
     "name": "stdout",
     "output_type": "stream",
     "text": [
      "/home/rabeea/Task09_Spleen/imagesTr/spleen_18.nii.gz /home/rabeea/Task09_Spleen/labelsTr/spleen_18.nii.gz\n",
      "image size:  (512, 512, 168)\n",
      "x, y, z:  0.933594 0.933594 1.5\n",
      "newsize:  (478, 478, 252)\n",
      "4 4 2\n",
      "2 2 36\n",
      "5 5 3\n",
      "(480, 480, 288) (480, 480, 288)\n"
     ]
    },
    {
     "data": {
      "image/png": "[encoded data removed]",
      "text/plain": [
       "<Figure size 640x480 with 1 Axes>"
      ]
     },
     "metadata": {},
     "output_type": "display_data"
    },
    {
     "data": {
      "image/png": "[encoded data removed]",
      "text/plain": [
       "<Figure size 640x480 with 1 Axes>"
      ]
     },
     "metadata": {},
     "output_type": "display_data"
    },
    {
     "data": {
      "image/png": "[encoded data removed]",
      "text/plain": [
       "<Figure size 640x480 with 1 Axes>"
      ]
     },
     "metadata": {},
     "output_type": "display_data"
    },
    {
     "data": {
      "image/png": "[encoded data removed]",
      "text/plain": [
       "<Figure size 640x480 with 1 Axes>"
      ]
     },
     "metadata": {},
     "output_type": "display_data"
    },
    {
     "data": {
      "image/png": "[encoded data removed]",
      "text/plain": [
       "<Figure size 640x480 with 1 Axes>"
      ]
     },
     "metadata": {},
     "output_type": "display_data"
    }
   ],
   "source": [
    "image,mask,imagee,maskk, aim, amas= test_gen.__getitem__(0)"
   ]
  },
  {
   "cell_type": "code",
   "execution_count": 111,
   "id": "063a1c13",
   "metadata": {},
   "outputs": [
    {
     "data": {
      "text/plain": [
       "<matplotlib.image.AxesImage at 0x7fd3155ce740>"
      ]
     },
     "execution_count": 111,
     "metadata": {},
     "output_type": "execute_result"
    },
    {
     "data": {
      "image/png": "[encoded data removed]",
      "text/plain": [
       "<Figure size 640x480 with 1 Axes>"
      ]
     },
     "metadata": {},
     "output_type": "display_data"
    }
   ],
   "source": [
    "plt.imshow(imagee[50:200,100:250,210])\n",
    "plt.imshow(maskk[50:200,100:250,210],alpha=0.5)"
   ]
  },
  {
   "cell_type": "code",
   "execution_count": 109,
   "id": "98350188",
   "metadata": {},
   "outputs": [
    {
     "data": {
      "text/plain": [
       "array([206, 207, 208, ..., 226, 227, 228])"
      ]
     },
     "execution_count": 109,
     "metadata": {},
     "output_type": "execute_result"
    }
   ],
   "source": [
    "np.argwhere(maskk>0)[:,2]"
   ]
  },
  {
   "cell_type": "code",
   "execution_count": 110,
   "id": "12db0d48",
   "metadata": {},
   "outputs": [
    {
     "data": {
      "text/plain": [
       "<matplotlib.image.AxesImage at 0x7fd3155afbb0>"
      ]
     },
     "execution_count": 110,
     "metadata": {},
     "output_type": "execute_result"
    },
    {
     "data": {
      "image/png": "[encoded data removed]",
      "text/plain": [
       "<Figure size 640x480 with 1 Axes>"
      ]
     },
     "metadata": {},
     "output_type": "display_data"
    }
   ],
   "source": [
    "plt.imshow(maskk[:,:,210])"
   ]
  },
  {
   "cell_type": "code",
   "execution_count": 6,
   "id": "b7c1b991",
   "metadata": {},
   "outputs": [
    {
     "name": "stderr",
     "output_type": "stream",
     "text": [
      "2023-07-24 11:53:00.030387: I tensorflow/core/common_runtime/gpu/gpu_device.cc:1525] Created device /job:localhost/replica:0/task:0/device:GPU:0 with 78933 MB memory:  -> device: 0, name: NVIDIA A100 80GB PCIe, pci bus id: 0000:b1:00.0, compute capability: 8.0\n"
     ]
    }
   ],
   "source": [
    "t,p = train_gen.__getitem__(1)\n"
   ]
  },
  {
   "cell_type": "code",
   "execution_count": 8,
   "id": "5f4b410c",
   "metadata": {},
   "outputs": [
    {
     "data": {
      "text/plain": [
       "(4, 96, 96, 96, 1)"
      ]
     },
     "execution_count": 8,
     "metadata": {},
     "output_type": "execute_result"
    }
   ],
   "source": [
    "t.shape"
   ]
  },
  {
   "cell_type": "code",
   "execution_count": 9,
   "id": "febd4552",
   "metadata": {},
   "outputs": [
    {
     "data": {
      "text/plain": [
       "<matplotlib.image.AxesImage at 0x7f0e811ebb80>"
      ]
     },
     "execution_count": 9,
     "metadata": {},
     "output_type": "execute_result"
    },
    {
     "data": {
      "image/png": "[encoded data removed]",
      "text/plain": [
       "<Figure size 640x480 with 1 Axes>"
      ]
     },
     "metadata": {},
     "output_type": "display_data"
    }
   ],
   "source": [
    "plt.imshow(p[2,:,:,45,0],'gray')"
   ]
  },
  {
   "cell_type": "code",
   "execution_count": 10,
   "id": "28dca2f5",
   "metadata": {},
   "outputs": [
    {
     "data": {
      "text/plain": [
       "<matplotlib.image.AxesImage at 0x7f0ce6546770>"
      ]
     },
     "execution_count": 10,
     "metadata": {},
     "output_type": "execute_result"
    },
    {
     "data": {
      "image/png": "[encoded data removed]",
      "text/plain": [
       "<Figure size 640x480 with 1 Axes>"
      ]
     },
     "metadata": {},
     "output_type": "display_data"
    }
   ],
   "source": [
    "plt.imshow(t[2,:,:,45,0],'gray')"
   ]
  },
  {
   "cell_type": "code",
   "execution_count": 27,
   "id": "2c5d3789",
   "metadata": {},
   "outputs": [
    {
     "data": {
      "text/plain": [
       "(435, 435, 270)"
      ]
     },
     "execution_count": 27,
     "metadata": {},
     "output_type": "execute_result"
    }
   ],
   "source": [
    "pp.shape"
   ]
  },
  {
   "cell_type": "code",
   "execution_count": 28,
   "id": "b89537e8",
   "metadata": {},
   "outputs": [
    {
     "data": {
      "text/plain": [
       "<matplotlib.image.AxesImage at 0x7f1a38b90ac0>"
      ]
     },
     "execution_count": 28,
     "metadata": {},
     "output_type": "execute_result"
    },
    {
     "data": {
      "image/png": "[encoded data removed]",
      "text/plain": [
       "<Figure size 640x480 with 1 Axes>"
      ]
     },
     "metadata": {},
     "output_type": "display_data"
    }
   ],
   "source": [
    "plt.imshow(pp[:,:,160],'gray')"
   ]
  },
  {
   "cell_type": "code",
   "execution_count": 29,
   "id": "f36d0d7d",
   "metadata": {},
   "outputs": [
    {
     "data": {
      "text/plain": [
       "<matplotlib.image.AxesImage at 0x7f189ac78e50>"
      ]
     },
     "execution_count": 29,
     "metadata": {},
     "output_type": "execute_result"
    },
    {
     "data": {
      "image/png": "[encoded data removed]",
      "text/plain": [
       "<Figure size 640x480 with 1 Axes>"
      ]
     },
     "metadata": {},
     "output_type": "display_data"
    }
   ],
   "source": [
    "plt.imshow(tt[:,:,160])"
   ]
  },
  {
   "cell_type": "code",
   "execution_count": 65,
   "id": "7ab2b39b",
   "metadata": {},
   "outputs": [
    {
     "data": {
      "text/plain": [
       "array([19, 22, 23, 37, 38])"
      ]
     },
     "execution_count": 65,
     "metadata": {},
     "output_type": "execute_result"
    }
   ],
   "source": [
    "np.unique(np.argwhere(p>0)[:,0])"
   ]
  },
  {
   "cell_type": "code",
   "execution_count": 10,
   "id": "a691c256",
   "metadata": {},
   "outputs": [
    {
     "data": {
      "text/plain": [
       "array([0, 1], dtype=uint8)"
      ]
     },
     "execution_count": 10,
     "metadata": {},
     "output_type": "execute_result"
    }
   ],
   "source": [
    "np.unique(p)"
   ]
  },
  {
   "cell_type": "code",
   "execution_count": 5,
   "id": "e6e535e9",
   "metadata": {},
   "outputs": [],
   "source": [
    "from tensorflow.keras.models import Model\n",
    "from tensorflow.keras.optimizers import Adam\n",
    "from tensorflow.keras.layers import Conv3D, Input, MaxPooling3D, Dropout, concatenate, UpSampling3D, BatchNormalization\n",
    "import tensorflow as tf\n",
    "\n",
    "def Unet3D(inputs,num_classes,f=16, pretrained_weights = None):\n",
    "    x =  Input(inputs)\n",
    "    conv1 = Conv3D(f, 3, activation = 'relu', padding = 'same',data_format=\"channels_last\")(x)\n",
    "    conv1= BatchNormalization()(conv1)\n",
    "    conv1 = Conv3D(f, 3, activation = 'relu', padding = 'same')(conv1)\n",
    "    conv1= BatchNormalization()(conv1)\n",
    "    pool1 = MaxPooling3D(pool_size=(2, 2, 2))(conv1)\n",
    "    conv2 = Conv3D(f*2, 3, activation = 'relu', padding = 'same')(pool1)\n",
    "    conv2= BatchNormalization()(conv2)\n",
    "    conv2 = Conv3D(f*2, 3, activation = 'relu', padding = 'same')(conv2)\n",
    "    conv2= BatchNormalization()(conv2)\n",
    "    pool2 = MaxPooling3D(pool_size=(2, 2, 2))(conv2)\n",
    "    conv3 = Conv3D(f*3, 3, activation = 'relu', padding = 'same')(pool2)\n",
    "    conv3= BatchNormalization()(conv3)\n",
    "    conv3 = Conv3D(f*3, 3, activation = 'relu', padding = 'same')(conv3)\n",
    "    conv3= BatchNormalization()(conv3)\n",
    "    pool3 = MaxPooling3D(pool_size=(2, 2, 2))(conv3)\n",
    "    \n",
    "    conv4 = Conv3D(f*4, 3, activation = 'relu', padding = 'same')(pool3)\n",
    "    conv4= BatchNormalization()(conv4)\n",
    "    conv4 = Conv3D(f*4, 3, activation = 'relu', padding = 'same')(conv4)\n",
    "    conv4= BatchNormalization()(conv4)\n",
    "    drop4 = Dropout(0.01)(conv4)\n",
    "    pool4 = MaxPooling3D(pool_size=(2, 2, 2))(drop4)\n",
    "\n",
    "    conv5 = Conv3D(f*5, 3, activation = 'relu', padding = 'same')(pool4)\n",
    "    conv5= BatchNormalization()(conv5)\n",
    "    conv5 = Conv3D(f*5, 3, activation = 'relu', padding = 'same')(conv5)\n",
    "    conv5= BatchNormalization()(conv5)\n",
    "    drop5 = Dropout(0.01)(conv5)\n",
    "\n",
    "    up6 = Conv3D(f*4, 2, activation = 'relu', padding = 'same')(UpSampling3D(size = (2,2,2))(drop5))\n",
    "    up6= BatchNormalization()(up6)\n",
    "    merge6 = concatenate([drop4,up6],axis=-1)\n",
    "    conv6 = Conv3D(f*4, 3, activation = 'relu', padding = 'same')(merge6)\n",
    "    conv6= BatchNormalization()(conv6)\n",
    "    conv6 = Conv3D(f*4, 3, activation = 'relu', padding = 'same')(conv6)\n",
    "    conv6= BatchNormalization()(conv6)\n",
    "\n",
    "    up7 = Conv3D(f*3, 2, activation = 'relu', padding = 'same')(UpSampling3D(size = (2,2,2))(conv6))\n",
    "    up7= BatchNormalization()(up7)\n",
    "    merge7 = concatenate([conv3,up7],axis=-1)\n",
    "    conv7 = Conv3D(f*3, 3, activation = 'relu', padding = 'same')(merge7)\n",
    "    conv7= BatchNormalization()(conv7)\n",
    "    conv7 = Conv3D(f*3, 3, activation = 'relu', padding = 'same')(conv7)\n",
    "    conv7= BatchNormalization()(conv7)\n",
    "\n",
    "    up8 = Conv3D(f*2, 2, activation = 'relu', padding = 'same')(UpSampling3D(size = (2,2,2))(conv7))\n",
    "    up8= BatchNormalization()(up8)\n",
    "    merge8 = concatenate([conv2,up8],axis=-1)\n",
    "    conv8 = Conv3D(f*2, 3, activation = 'relu', padding = 'same')(merge8)\n",
    "    conv8= BatchNormalization()(conv8)\n",
    "    conv8 = Conv3D(f*2, 3, activation = 'relu', padding = 'same')(conv8)\n",
    "    conv8= BatchNormalization()(conv8)\n",
    "\n",
    "    up9 = Conv3D(f, 2, activation = 'relu', padding = 'same')(UpSampling3D(size = (2,2,2))(conv8))\n",
    "    up9= BatchNormalization()(up9)\n",
    "    merge9 = concatenate([conv1,up9],axis=-1)\n",
    "    conv9 = Conv3D(f, 3, activation = 'relu', padding = 'same')(merge9)\n",
    "    conv9= BatchNormalization()(conv9)\n",
    "    conv9 = Conv3D(f, 3, activation = 'relu', padding = 'same')(conv9)\n",
    "    conv9= BatchNormalization()(conv9)\n",
    "#     conv10 = Conv3D(1, 1, activation = 'sigmoid')(conv9)\n",
    "    conv10 = Conv3D(1, 1, activation = 'sigmoid')(conv9)\n",
    "    model = Model(inputs=x, outputs = conv10)\n",
    "    model.compile(optimizer = Adam(lr = 1e-4), loss = dice_loss, metrics = [dice_coef])\n",
    "    \n",
    "    if(pretrained_weights):\n",
    "        model.load_weights(pretrained_weights)\n",
    "        \n",
    "    print(model.summary())\n",
    "    return model"
   ]
  },
  {
   "cell_type": "code",
   "execution_count": 6,
   "id": "2b17335f",
   "metadata": {},
   "outputs": [
    {
     "name": "stderr",
     "output_type": "stream",
     "text": [
      "2023-08-24 17:10:33.263116: I tensorflow/core/common_runtime/gpu/gpu_device.cc:1525] Created device /job:localhost/replica:0/task:0/device:GPU:0 with 38218 MB memory:  -> device: 0, name: NVIDIA A100-PCIE-40GB, pci bus id: 0000:5e:00.0, compute capability: 8.0\n"
     ]
    },
    {
     "name": "stdout",
     "output_type": "stream",
     "text": [
      "Model: \"model\"\n",
      "__________________________________________________________________________________________________\n",
      " Layer (type)                   Output Shape         Param #     Connected to                     \n",
      "==================================================================================================\n",
      " input_1 (InputLayer)           [(None, 96, 96, 96,  0           []                               \n",
      "                                 1)]                                                              \n",
      "                                                                                                  \n",
      " conv3d (Conv3D)                (None, 96, 96, 96,   448         ['input_1[0][0]']                \n",
      "                                16)                                                               \n",
      "                                                                                                  \n",
      " batch_normalization (BatchNorm  (None, 96, 96, 96,   64         ['conv3d[0][0]']                 \n",
      " alization)                     16)                                                               \n",
      "                                                                                                  \n",
      " conv3d_1 (Conv3D)              (None, 96, 96, 96,   6928        ['batch_normalization[0][0]']    \n",
      "                                16)                                                               \n",
      "                                                                                                  \n",
      " batch_normalization_1 (BatchNo  (None, 96, 96, 96,   64         ['conv3d_1[0][0]']               \n",
      " rmalization)                   16)                                                               \n",
      "                                                                                                  \n",
      " max_pooling3d (MaxPooling3D)   (None, 48, 48, 48,   0           ['batch_normalization_1[0][0]']  \n",
      "                                16)                                                               \n",
      "                                                                                                  \n",
      " conv3d_2 (Conv3D)              (None, 48, 48, 48,   13856       ['max_pooling3d[0][0]']          \n",
      "                                32)                                                               \n",
      "                                                                                                  \n",
      " batch_normalization_2 (BatchNo  (None, 48, 48, 48,   128        ['conv3d_2[0][0]']               \n",
      " rmalization)                   32)                                                               \n",
      "                                                                                                  \n",
      " conv3d_3 (Conv3D)              (None, 48, 48, 48,   27680       ['batch_normalization_2[0][0]']  \n",
      "                                32)                                                               \n",
      "                                                                                                  \n",
      " batch_normalization_3 (BatchNo  (None, 48, 48, 48,   128        ['conv3d_3[0][0]']               \n",
      " rmalization)                   32)                                                               \n",
      "                                                                                                  \n",
      " max_pooling3d_1 (MaxPooling3D)  (None, 24, 24, 24,   0          ['batch_normalization_3[0][0]']  \n",
      "                                32)                                                               \n",
      "                                                                                                  \n",
      " conv3d_4 (Conv3D)              (None, 24, 24, 24,   41520       ['max_pooling3d_1[0][0]']        \n",
      "                                48)                                                               \n",
      "                                                                                                  \n",
      " batch_normalization_4 (BatchNo  (None, 24, 24, 24,   192        ['conv3d_4[0][0]']               \n",
      " rmalization)                   48)                                                               \n",
      "                                                                                                  \n",
      " conv3d_5 (Conv3D)              (None, 24, 24, 24,   62256       ['batch_normalization_4[0][0]']  \n",
      "                                48)                                                               \n",
      "                                                                                                  \n",
      " batch_normalization_5 (BatchNo  (None, 24, 24, 24,   192        ['conv3d_5[0][0]']               \n",
      " rmalization)                   48)                                                               \n",
      "                                                                                                  \n",
      " max_pooling3d_2 (MaxPooling3D)  (None, 12, 12, 12,   0          ['batch_normalization_5[0][0]']  \n",
      "                                48)                                                               \n",
      "                                                                                                  \n",
      " conv3d_6 (Conv3D)              (None, 12, 12, 12,   83008       ['max_pooling3d_2[0][0]']        \n",
      "                                64)                                                               \n",
      "                                                                                                  \n",
      " batch_normalization_6 (BatchNo  (None, 12, 12, 12,   256        ['conv3d_6[0][0]']               \n",
      " rmalization)                   64)                                                               \n",
      "                                                                                                  \n",
      " conv3d_7 (Conv3D)              (None, 12, 12, 12,   110656      ['batch_normalization_6[0][0]']  \n",
      "                                64)                                                               \n",
      "                                                                                                  \n",
      " batch_normalization_7 (BatchNo  (None, 12, 12, 12,   256        ['conv3d_7[0][0]']               \n",
      " rmalization)                   64)                                                               \n",
      "                                                                                                  \n",
      " dropout (Dropout)              (None, 12, 12, 12,   0           ['batch_normalization_7[0][0]']  \n",
      "                                64)                                                               \n",
      "                                                                                                  \n",
      " max_pooling3d_3 (MaxPooling3D)  (None, 6, 6, 6, 64)  0          ['dropout[0][0]']                \n",
      "                                                                                                  \n",
      " conv3d_8 (Conv3D)              (None, 6, 6, 6, 80)  138320      ['max_pooling3d_3[0][0]']        \n",
      "                                                                                                  \n",
      " batch_normalization_8 (BatchNo  (None, 6, 6, 6, 80)  320        ['conv3d_8[0][0]']               \n",
      " rmalization)                                                                                     \n",
      "                                                                                                  \n",
      " conv3d_9 (Conv3D)              (None, 6, 6, 6, 80)  172880      ['batch_normalization_8[0][0]']  \n",
      "                                                                                                  \n",
      " batch_normalization_9 (BatchNo  (None, 6, 6, 6, 80)  320        ['conv3d_9[0][0]']               \n",
      " rmalization)                                                                                     \n",
      "                                                                                                  \n",
      " dropout_1 (Dropout)            (None, 6, 6, 6, 80)  0           ['batch_normalization_9[0][0]']  \n",
      "                                                                                                  \n",
      " up_sampling3d (UpSampling3D)   (None, 12, 12, 12,   0           ['dropout_1[0][0]']              \n",
      "                                80)                                                               \n",
      "                                                                                                  \n"
     ]
    },
    {
     "name": "stdout",
     "output_type": "stream",
     "text": [
      " conv3d_10 (Conv3D)             (None, 12, 12, 12,   41024       ['up_sampling3d[0][0]']          \n",
      "                                64)                                                               \n",
      "                                                                                                  \n",
      " batch_normalization_10 (BatchN  (None, 12, 12, 12,   256        ['conv3d_10[0][0]']              \n",
      " ormalization)                  64)                                                               \n",
      "                                                                                                  \n",
      " concatenate (Concatenate)      (None, 12, 12, 12,   0           ['dropout[0][0]',                \n",
      "                                128)                              'batch_normalization_10[0][0]'] \n",
      "                                                                                                  \n",
      " conv3d_11 (Conv3D)             (None, 12, 12, 12,   221248      ['concatenate[0][0]']            \n",
      "                                64)                                                               \n",
      "                                                                                                  \n",
      " batch_normalization_11 (BatchN  (None, 12, 12, 12,   256        ['conv3d_11[0][0]']              \n",
      " ormalization)                  64)                                                               \n",
      "                                                                                                  \n",
      " conv3d_12 (Conv3D)             (None, 12, 12, 12,   110656      ['batch_normalization_11[0][0]'] \n",
      "                                64)                                                               \n",
      "                                                                                                  \n",
      " batch_normalization_12 (BatchN  (None, 12, 12, 12,   256        ['conv3d_12[0][0]']              \n",
      " ormalization)                  64)                                                               \n",
      "                                                                                                  \n",
      " up_sampling3d_1 (UpSampling3D)  (None, 24, 24, 24,   0          ['batch_normalization_12[0][0]'] \n",
      "                                64)                                                               \n",
      "                                                                                                  \n",
      " conv3d_13 (Conv3D)             (None, 24, 24, 24,   24624       ['up_sampling3d_1[0][0]']        \n",
      "                                48)                                                               \n",
      "                                                                                                  \n",
      " batch_normalization_13 (BatchN  (None, 24, 24, 24,   192        ['conv3d_13[0][0]']              \n",
      " ormalization)                  48)                                                               \n",
      "                                                                                                  \n",
      " concatenate_1 (Concatenate)    (None, 24, 24, 24,   0           ['batch_normalization_5[0][0]',  \n",
      "                                96)                               'batch_normalization_13[0][0]'] \n",
      "                                                                                                  \n",
      " conv3d_14 (Conv3D)             (None, 24, 24, 24,   124464      ['concatenate_1[0][0]']          \n",
      "                                48)                                                               \n",
      "                                                                                                  \n",
      " batch_normalization_14 (BatchN  (None, 24, 24, 24,   192        ['conv3d_14[0][0]']              \n",
      " ormalization)                  48)                                                               \n",
      "                                                                                                  \n",
      " conv3d_15 (Conv3D)             (None, 24, 24, 24,   62256       ['batch_normalization_14[0][0]'] \n",
      "                                48)                                                               \n",
      "                                                                                                  \n",
      " batch_normalization_15 (BatchN  (None, 24, 24, 24,   192        ['conv3d_15[0][0]']              \n",
      " ormalization)                  48)                                                               \n",
      "                                                                                                  \n",
      " up_sampling3d_2 (UpSampling3D)  (None, 48, 48, 48,   0          ['batch_normalization_15[0][0]'] \n",
      "                                48)                                                               \n",
      "                                                                                                  \n",
      " conv3d_16 (Conv3D)             (None, 48, 48, 48,   12320       ['up_sampling3d_2[0][0]']        \n",
      "                                32)                                                               \n",
      "                                                                                                  \n",
      " batch_normalization_16 (BatchN  (None, 48, 48, 48,   128        ['conv3d_16[0][0]']              \n",
      " ormalization)                  32)                                                               \n",
      "                                                                                                  \n",
      " concatenate_2 (Concatenate)    (None, 48, 48, 48,   0           ['batch_normalization_3[0][0]',  \n",
      "                                64)                               'batch_normalization_16[0][0]'] \n",
      "                                                                                                  \n",
      " conv3d_17 (Conv3D)             (None, 48, 48, 48,   55328       ['concatenate_2[0][0]']          \n",
      "                                32)                                                               \n",
      "                                                                                                  \n",
      " batch_normalization_17 (BatchN  (None, 48, 48, 48,   128        ['conv3d_17[0][0]']              \n",
      " ormalization)                  32)                                                               \n",
      "                                                                                                  \n",
      " conv3d_18 (Conv3D)             (None, 48, 48, 48,   27680       ['batch_normalization_17[0][0]'] \n",
      "                                32)                                                               \n",
      "                                                                                                  \n",
      " batch_normalization_18 (BatchN  (None, 48, 48, 48,   128        ['conv3d_18[0][0]']              \n",
      " ormalization)                  32)                                                               \n",
      "                                                                                                  \n",
      " up_sampling3d_3 (UpSampling3D)  (None, 96, 96, 96,   0          ['batch_normalization_18[0][0]'] \n",
      "                                32)                                                               \n",
      "                                                                                                  \n",
      " conv3d_19 (Conv3D)             (None, 96, 96, 96,   4112        ['up_sampling3d_3[0][0]']        \n",
      "                                16)                                                               \n",
      "                                                                                                  \n",
      " batch_normalization_19 (BatchN  (None, 96, 96, 96,   64         ['conv3d_19[0][0]']              \n",
      " ormalization)                  16)                                                               \n",
      "                                                                                                  \n",
      " concatenate_3 (Concatenate)    (None, 96, 96, 96,   0           ['batch_normalization_1[0][0]',  \n",
      "                                32)                               'batch_normalization_19[0][0]'] \n",
      "                                                                                                  \n",
      " conv3d_20 (Conv3D)             (None, 96, 96, 96,   13840       ['concatenate_3[0][0]']          \n",
      "                                16)                                                               \n"
     ]
    },
    {
     "name": "stdout",
     "output_type": "stream",
     "text": [
      "                                                                                                  \n",
      " batch_normalization_20 (BatchN  (None, 96, 96, 96,   64         ['conv3d_20[0][0]']              \n",
      " ormalization)                  16)                                                               \n",
      "                                                                                                  \n",
      " conv3d_21 (Conv3D)             (None, 96, 96, 96,   6928        ['batch_normalization_20[0][0]'] \n",
      "                                16)                                                               \n",
      "                                                                                                  \n",
      " batch_normalization_21 (BatchN  (None, 96, 96, 96,   64         ['conv3d_21[0][0]']              \n",
      " ormalization)                  16)                                                               \n",
      "                                                                                                  \n",
      " conv3d_22 (Conv3D)             (None, 96, 96, 96,   17          ['batch_normalization_21[0][0]'] \n",
      "                                1)                                                                \n",
      "                                                                                                  \n",
      "==================================================================================================\n",
      "Total params: 1,365,889\n",
      "Trainable params: 1,363,969\n",
      "Non-trainable params: 1,920\n",
      "__________________________________________________________________________________________________\n",
      "None\n"
     ]
    },
    {
     "name": "stderr",
     "output_type": "stream",
     "text": [
      "/home/rabeea/anaconda3/envs/beea/lib/python3.10/site-packages/keras/optimizer_v2/adam.py:105: UserWarning: The `lr` argument is deprecated, use `learning_rate` instead.\n",
      "  super(Adam, self).__init__(name, **kwargs)\n"
     ]
    }
   ],
   "source": [
    "a= Unet3D((96,96,96,1),1,f=16)"
   ]
  },
  {
   "cell_type": "code",
   "execution_count": 8,
   "id": "e8895060",
   "metadata": {},
   "outputs": [],
   "source": [
    "from tensorflow.keras.callbacks import TensorBoard\n",
    "from tensorflow.keras.callbacks import ModelCheckpoint\n",
    "from tensorflow.keras.callbacks import EarlyStopping\n",
    "\n",
    "filepath = r\"/home/rabeea/logs/unet_spleen/5layers_16_256_e4_350_gpu1.h5\"\n",
    "early_stopping = EarlyStopping(monitor='val_loss', patience=20, restore_best_weights=True)\n",
    "checkpoint = ModelCheckpoint(filepath, monitor='val_dice_coef', save_best_only=True, mode='max')\n",
    "callbacks_list = [checkpoint,early_stopping]"
   ]
  },
  {
   "cell_type": "code",
   "execution_count": 9,
   "id": "45612c17",
   "metadata": {},
   "outputs": [
    {
     "name": "stdout",
     "output_type": "stream",
     "text": [
      "Epoch 1/350\n"
     ]
    },
    {
     "name": "stderr",
     "output_type": "stream",
     "text": [
      "2023-07-27 15:10:54.800572: I tensorflow/stream_executor/cuda/cuda_dnn.cc:368] Loaded cuDNN version 8801\n"
     ]
    },
    {
     "name": "stdout",
     "output_type": "stream",
     "text": [
      "28/28 [==============================] - 456s 16s/step - loss: 0.5824 - dice_coef: 0.4176 - val_loss: 0.7054 - val_dice_coef: 0.2946\n",
      "Epoch 2/350\n",
      "28/28 [==============================] - 448s 16s/step - loss: 0.4400 - dice_coef: 0.5600 - val_loss: 0.6798 - val_dice_coef: 0.3202\n",
      "Epoch 3/350\n",
      "28/28 [==============================] - 445s 16s/step - loss: 0.4196 - dice_coef: 0.5804 - val_loss: 0.6667 - val_dice_coef: 0.3333\n",
      "Epoch 4/350\n",
      "28/28 [==============================] - 447s 16s/step - loss: 0.3267 - dice_coef: 0.6733 - val_loss: 0.6624 - val_dice_coef: 0.3376\n",
      "Epoch 5/350\n",
      "28/28 [==============================] - 445s 16s/step - loss: 0.2871 - dice_coef: 0.7129 - val_loss: 0.7588 - val_dice_coef: 0.2412\n",
      "Epoch 6/350\n",
      "28/28 [==============================] - 445s 16s/step - loss: 0.2708 - dice_coef: 0.7292 - val_loss: 0.7664 - val_dice_coef: 0.2336\n",
      "Epoch 7/350\n",
      "28/28 [==============================] - 448s 16s/step - loss: 0.2577 - dice_coef: 0.7423 - val_loss: 0.7944 - val_dice_coef: 0.2056\n",
      "Epoch 8/350\n",
      "28/28 [==============================] - 447s 16s/step - loss: 0.2644 - dice_coef: 0.7356 - val_loss: 0.8062 - val_dice_coef: 0.1938\n",
      "Epoch 9/350\n",
      "28/28 [==============================] - 445s 16s/step - loss: 0.2420 - dice_coef: 0.7580 - val_loss: 0.8143 - val_dice_coef: 0.1857\n",
      "Epoch 10/350\n",
      "28/28 [==============================] - 445s 16s/step - loss: 0.2207 - dice_coef: 0.7793 - val_loss: 0.8199 - val_dice_coef: 0.1801\n",
      "Epoch 11/350\n",
      "28/28 [==============================] - 445s 16s/step - loss: 0.2081 - dice_coef: 0.7919 - val_loss: 0.6856 - val_dice_coef: 0.3144\n",
      "Epoch 12/350\n",
      "28/28 [==============================] - 445s 16s/step - loss: 0.1906 - dice_coef: 0.8094 - val_loss: 0.6702 - val_dice_coef: 0.3298\n",
      "Epoch 13/350\n",
      "28/28 [==============================] - 445s 16s/step - loss: 0.1840 - dice_coef: 0.8160 - val_loss: 0.7707 - val_dice_coef: 0.2293\n",
      "Epoch 14/350\n",
      "28/28 [==============================] - 445s 16s/step - loss: 0.1756 - dice_coef: 0.8244 - val_loss: 0.1881 - val_dice_coef: 0.8119\n",
      "Epoch 15/350\n",
      "28/28 [==============================] - 449s 16s/step - loss: 0.1836 - dice_coef: 0.8164 - val_loss: 0.4998 - val_dice_coef: 0.5002\n",
      "Epoch 16/350\n",
      "28/28 [==============================] - 446s 16s/step - loss: 0.1900 - dice_coef: 0.8100 - val_loss: 0.4775 - val_dice_coef: 0.5225\n",
      "Epoch 17/350\n",
      "28/28 [==============================] - 444s 16s/step - loss: 0.1693 - dice_coef: 0.8307 - val_loss: 0.2710 - val_dice_coef: 0.7290\n",
      "Epoch 18/350\n",
      "28/28 [==============================] - 447s 16s/step - loss: 0.1711 - dice_coef: 0.8289 - val_loss: 0.3242 - val_dice_coef: 0.6758\n",
      "Epoch 19/350\n",
      "28/28 [==============================] - 446s 16s/step - loss: 0.1609 - dice_coef: 0.8391 - val_loss: 0.3230 - val_dice_coef: 0.6770\n",
      "Epoch 20/350\n",
      "28/28 [==============================] - 446s 16s/step - loss: 0.1526 - dice_coef: 0.8474 - val_loss: 0.2093 - val_dice_coef: 0.7907\n",
      "Epoch 21/350\n",
      "28/28 [==============================] - 445s 16s/step - loss: 0.1518 - dice_coef: 0.8482 - val_loss: 0.4940 - val_dice_coef: 0.5060\n",
      "Epoch 22/350\n",
      "28/28 [==============================] - 447s 16s/step - loss: 0.1399 - dice_coef: 0.8601 - val_loss: 0.2199 - val_dice_coef: 0.7801\n",
      "Epoch 23/350\n",
      "28/28 [==============================] - 446s 16s/step - loss: 0.1451 - dice_coef: 0.8549 - val_loss: 0.2272 - val_dice_coef: 0.7728\n",
      "Epoch 24/350\n",
      "28/28 [==============================] - 449s 16s/step - loss: 0.1317 - dice_coef: 0.8683 - val_loss: 0.3948 - val_dice_coef: 0.6052\n",
      "Epoch 25/350\n",
      "28/28 [==============================] - 445s 16s/step - loss: 0.1209 - dice_coef: 0.8791 - val_loss: 0.3299 - val_dice_coef: 0.6701\n",
      "Epoch 26/350\n",
      "28/28 [==============================] - 446s 16s/step - loss: 0.1217 - dice_coef: 0.8783 - val_loss: 0.3470 - val_dice_coef: 0.6530\n",
      "Epoch 27/350\n",
      "28/28 [==============================] - 444s 16s/step - loss: 0.1172 - dice_coef: 0.8828 - val_loss: 0.8235 - val_dice_coef: 0.1765\n",
      "Epoch 28/350\n",
      "28/28 [==============================] - 447s 16s/step - loss: 0.1160 - dice_coef: 0.8840 - val_loss: 0.2834 - val_dice_coef: 0.7166\n",
      "Epoch 29/350\n",
      "28/28 [==============================] - 447s 16s/step - loss: 0.1074 - dice_coef: 0.8926 - val_loss: 0.1628 - val_dice_coef: 0.8372\n",
      "Epoch 30/350\n",
      "28/28 [==============================] - 447s 16s/step - loss: 0.1024 - dice_coef: 0.8976 - val_loss: 0.2747 - val_dice_coef: 0.7253\n",
      "Epoch 31/350\n",
      "28/28 [==============================] - 444s 16s/step - loss: 0.1058 - dice_coef: 0.8942 - val_loss: 0.2702 - val_dice_coef: 0.7298\n",
      "Epoch 32/350\n",
      "28/28 [==============================] - 446s 16s/step - loss: 0.0954 - dice_coef: 0.9046 - val_loss: 0.5639 - val_dice_coef: 0.4361\n",
      "Epoch 33/350\n",
      "28/28 [==============================] - 445s 16s/step - loss: 0.1100 - dice_coef: 0.8900 - val_loss: 0.3377 - val_dice_coef: 0.6623\n",
      "Epoch 34/350\n",
      "28/28 [==============================] - 444s 16s/step - loss: 0.0987 - dice_coef: 0.9013 - val_loss: 0.3247 - val_dice_coef: 0.6753\n",
      "Epoch 35/350\n",
      "28/28 [==============================] - 444s 16s/step - loss: 0.1007 - dice_coef: 0.8993 - val_loss: 0.2712 - val_dice_coef: 0.7288\n",
      "Epoch 36/350\n",
      "28/28 [==============================] - 445s 16s/step - loss: 0.0942 - dice_coef: 0.9058 - val_loss: 0.1065 - val_dice_coef: 0.8935\n",
      "Epoch 37/350\n",
      "28/28 [==============================] - 447s 16s/step - loss: 0.0994 - dice_coef: 0.9006 - val_loss: 0.3159 - val_dice_coef: 0.6841\n",
      "Epoch 38/350\n",
      "28/28 [==============================] - 445s 16s/step - loss: 0.0926 - dice_coef: 0.9074 - val_loss: 0.2814 - val_dice_coef: 0.7186\n",
      "Epoch 39/350\n",
      "28/28 [==============================] - 445s 16s/step - loss: 0.0917 - dice_coef: 0.9083 - val_loss: 0.3298 - val_dice_coef: 0.6702\n",
      "Epoch 40/350\n",
      "28/28 [==============================] - 445s 16s/step - loss: 0.0906 - dice_coef: 0.9094 - val_loss: 0.3192 - val_dice_coef: 0.6808\n",
      "Epoch 41/350\n",
      "28/28 [==============================] - 446s 16s/step - loss: 0.0928 - dice_coef: 0.9072 - val_loss: 0.2186 - val_dice_coef: 0.7814\n",
      "Epoch 42/350\n",
      "28/28 [==============================] - 444s 16s/step - loss: 0.0841 - dice_coef: 0.9159 - val_loss: 0.2236 - val_dice_coef: 0.7764\n",
      "Epoch 43/350\n",
      "28/28 [==============================] - 446s 16s/step - loss: 0.0781 - dice_coef: 0.9219 - val_loss: 0.2274 - val_dice_coef: 0.7726\n",
      "Epoch 44/350\n",
      "28/28 [==============================] - 446s 16s/step - loss: 0.0704 - dice_coef: 0.9296 - val_loss: 0.2335 - val_dice_coef: 0.7665\n",
      "Epoch 45/350\n",
      "28/28 [==============================] - 445s 16s/step - loss: 0.0774 - dice_coef: 0.9226 - val_loss: 0.2218 - val_dice_coef: 0.7782\n",
      "Epoch 46/350\n",
      "28/28 [==============================] - 445s 16s/step - loss: 0.0772 - dice_coef: 0.9228 - val_loss: 0.2317 - val_dice_coef: 0.7683\n",
      "Epoch 47/350\n",
      "28/28 [==============================] - 448s 16s/step - loss: 0.0674 - dice_coef: 0.9326 - val_loss: 0.1352 - val_dice_coef: 0.8648\n",
      "Epoch 48/350\n",
      "28/28 [==============================] - 445s 16s/step - loss: 0.0783 - dice_coef: 0.9217 - val_loss: 0.2568 - val_dice_coef: 0.7432\n",
      "Epoch 49/350\n",
      "28/28 [==============================] - 445s 16s/step - loss: 0.0667 - dice_coef: 0.9333 - val_loss: 0.2397 - val_dice_coef: 0.7603\n",
      "Epoch 50/350\n",
      "28/28 [==============================] - 446s 16s/step - loss: 0.0627 - dice_coef: 0.9373 - val_loss: 0.1214 - val_dice_coef: 0.8786\n",
      "Epoch 51/350\n",
      "28/28 [==============================] - 445s 16s/step - loss: 0.0634 - dice_coef: 0.9366 - val_loss: 0.2181 - val_dice_coef: 0.7819\n",
      "Epoch 52/350\n",
      "28/28 [==============================] - 448s 16s/step - loss: 0.0606 - dice_coef: 0.9394 - val_loss: 0.6386 - val_dice_coef: 0.3614\n",
      "Epoch 53/350\n",
      "28/28 [==============================] - 447s 16s/step - loss: 0.1104 - dice_coef: 0.8896 - val_loss: 0.2652 - val_dice_coef: 0.7348\n",
      "Epoch 54/350\n",
      "28/28 [==============================] - 446s 16s/step - loss: 0.0768 - dice_coef: 0.9232 - val_loss: 0.2039 - val_dice_coef: 0.7961\n",
      "Epoch 55/350\n",
      "28/28 [==============================] - 445s 16s/step - loss: 0.0653 - dice_coef: 0.9347 - val_loss: 0.1174 - val_dice_coef: 0.8826\n",
      "Epoch 56/350\n",
      "28/28 [==============================] - 444s 16s/step - loss: 0.0679 - dice_coef: 0.9321 - val_loss: 0.4354 - val_dice_coef: 0.5646\n"
     ]
    }
   ],
   "source": [
    "history = a.fit(train_gen,\n",
    "                      validation_data=valid_gen,epochs=epochs,callbacks=callbacks_list)"
   ]
  },
  {
   "cell_type": "code",
   "execution_count": 11,
   "id": "75c28692",
   "metadata": {},
   "outputs": [
    {
     "data": {
      "image/png": "[encoded data removed]",
      "text/plain": [
       "<Figure size 640x480 with 1 Axes>"
      ]
     },
     "metadata": {},
     "output_type": "display_data"
    }
   ],
   "source": [
    "#plot the training and validation IoU and loss at each epoch\n",
    "loss = history.history['loss']\n",
    "val_loss = history.history['val_loss']\n",
    "epochs = range(1, len(loss) + 1)\n",
    "plt.plot(epochs, loss, 'y', label='Training loss')\n",
    "plt.plot(epochs, val_loss, 'r', label='Validation loss')\n",
    "plt.title('Training and validation loss')\n",
    "plt.xlabel('Epochs')\n",
    "plt.ylabel('Loss')\n",
    "plt.legend()\n",
    "plt.show()"
   ]
  },
  {
   "cell_type": "code",
   "execution_count": 12,
   "id": "8ef9a439",
   "metadata": {},
   "outputs": [
    {
     "data": {
      "image/png": "[encoded data removed]",
      "text/plain": [
       "<Figure size 640x480 with 1 Axes>"
      ]
     },
     "metadata": {},
     "output_type": "display_data"
    }
   ],
   "source": [
    "acc = history.history['dice_coef']\n",
    "val_acc = history.history['val_dice_coef']\n",
    "\n",
    "plt.plot(epochs, acc, 'y', label='Training Dice coefficient')\n",
    "plt.plot(epochs, val_acc, 'r', label='Validation Dice Coefficient')\n",
    "plt.title('Training and validation Dice coefficient')\n",
    "plt.xlabel('Epochs')\n",
    "plt.ylabel('Dice Coefficient')\n",
    "plt.legend()\n",
    "plt.show()"
   ]
  },
  {
   "cell_type": "code",
   "execution_count": 13,
   "id": "7ad053a4",
   "metadata": {},
   "outputs": [
    {
     "name": "stdout",
     "output_type": "stream",
     "text": [
      "max training dice:  0.9393731951713562\n",
      "max validation dice:  0.8935478925704956\n"
     ]
    }
   ],
   "source": [
    "print('max training dice: ',max(acc))\n",
    "print('max validation dice: ',max(val_acc))"
   ]
  },
  {
   "cell_type": "code",
   "execution_count": 14,
   "id": "3264539b",
   "metadata": {},
   "outputs": [],
   "source": [
    "a.load_weights(filepath)"
   ]
  },
  {
   "cell_type": "code",
   "execution_count": 16,
   "id": "aaa3567c",
   "metadata": {},
   "outputs": [
    {
     "name": "stderr",
     "output_type": "stream",
     "text": [
      "  0%|                                                     | 0/8 [00:00<?, ?it/s]/tmp/ipykernel_2827599/172801869.py:72: DeprecationWarning: `np.bool` is a deprecated alias for the builtin `bool`. To silence this warning, use `bool` by itself. Doing this will not modify any behavior and is safe. If you specifically wanted the numpy scalar type, use `np.bool_` here.\n",
      "Deprecated in NumPy 1.20; for more details and guidance: https://numpy.org/devdocs/release/1.20.0-notes.html#deprecations\n",
      "  im1 = np.asarray(im1).astype(np.bool)\n",
      "/tmp/ipykernel_2827599/172801869.py:73: DeprecationWarning: `np.bool` is a deprecated alias for the builtin `bool`. To silence this warning, use `bool` by itself. Doing this will not modify any behavior and is safe. If you specifically wanted the numpy scalar type, use `np.bool_` here.\n",
      "Deprecated in NumPy 1.20; for more details and guidance: https://numpy.org/devdocs/release/1.20.0-notes.html#deprecations\n",
      "  im2 = np.asarray(im2).astype(np.bool)\n",
      "100%|█████████████████████████████████████████████| 8/8 [03:34<00:00, 26.76s/it]"
     ]
    },
    {
     "name": "stdout",
     "output_type": "stream",
     "text": [
      "at 0.9: dice:  0.6822325302161657\n",
      "at 0.8: dice:  0.6832785780540099\n",
      "at 0.7: dice:  0.6839477883681575\n",
      "at 0.6: dice:  0.6840501799364355\n",
      "at 0.5: dice:  0.6839637190913739\n",
      "at 0.4: dice:  0.6828015177410046\n",
      "at 0.3: dice:  0.6729099038649984\n",
      "at 0.2: dice:  0.6017603163008051\n",
      "at 0.1: dice:  0.4322359379326846\n",
      "at 0.05: dice:  0.013254014359222199\n",
      "at 0.01: dice:  0.012601841980172104\n"
     ]
    },
    {
     "name": "stderr",
     "output_type": "stream",
     "text": [
      "\n"
     ]
    }
   ],
   "source": [
    "tr_dice_9=[]\n",
    "tr_dice_8=[]\n",
    "tr_dice_7=[]\n",
    "tr_dice_6=[]\n",
    "tr_dice_5=[]\n",
    "tr_dice_4=[]\n",
    "tr_dice_3=[]\n",
    "tr_dice_2=[]\n",
    "tr_dice_1=[]\n",
    "tr_dice_05=[]\n",
    "tr_dice_01=[]\n",
    "for i in tqdm(range(0,len(testpath))):\n",
    "    test_mask, pred_mask = inf(testpath[i],testpath_m[i],a)\n",
    "    y_pred_argmax=np.where(pred_mask>0.9,1,0)\n",
    "    tr_dice_9.append(compute_dice(y_pred_argmax, test_mask))\n",
    "    y_pred_argmax=np.where(pred_mask>0.8,1,0)\n",
    "    tr_dice_8.append(compute_dice(y_pred_argmax, test_mask))\n",
    "    y_pred_argmax=np.where(pred_mask>0.7,1,0)\n",
    "    tr_dice_7.append(compute_dice(y_pred_argmax, test_mask))\n",
    "    y_pred_argmax=np.where(pred_mask>0.6,1,0)\n",
    "    tr_dice_6.append(compute_dice(y_pred_argmax, test_mask))\n",
    "    y_pred_argmax=np.where(pred_mask>0.5,1,0)\n",
    "    tr_dice_5.append(compute_dice(y_pred_argmax, test_mask))\n",
    "    y_pred_argmax=np.where(pred_mask>0.4,1,0)\n",
    "    tr_dice_4.append(compute_dice(y_pred_argmax, test_mask))\n",
    "    y_pred_argmax=np.where(pred_mask>0.3,1,0)\n",
    "    tr_dice_3.append(compute_dice(y_pred_argmax, test_mask))\n",
    "    y_pred_argmax=np.where(pred_mask>0.2,1,0)\n",
    "    tr_dice_2.append(compute_dice(y_pred_argmax, test_mask))\n",
    "    y_pred_argmax=np.where(pred_mask>0.1,1,0)\n",
    "    tr_dice_1.append(compute_dice(y_pred_argmax, test_mask))\n",
    "    y_pred_argmax=np.where(pred_mask>0.05,1,0)\n",
    "    tr_dice_05.append(compute_dice(y_pred_argmax, test_mask))\n",
    "    y_pred_argmax=np.where(pred_mask>0.01,1,0)\n",
    "    tr_dice_01.append(compute_dice(y_pred_argmax, test_mask))\n",
    "print('at 0.9: dice: ',np.mean(tr_dice_9))\n",
    "print('at 0.8: dice: ',np.mean(tr_dice_8))\n",
    "print('at 0.7: dice: ',np.mean(tr_dice_7))\n",
    "print('at 0.6: dice: ',np.mean(tr_dice_6))\n",
    "print('at 0.5: dice: ',np.mean(tr_dice_5))\n",
    "print('at 0.4: dice: ',np.mean(tr_dice_4))\n",
    "print('at 0.3: dice: ',np.mean(tr_dice_3))\n",
    "print('at 0.2: dice: ',np.mean(tr_dice_2))\n",
    "print('at 0.1: dice: ',np.mean(tr_dice_1))\n",
    "print('at 0.05: dice: ',np.mean(tr_dice_05))\n",
    "print('at 0.01: dice: ',np.mean(tr_dice_01))"
   ]
  },
  {
   "cell_type": "code",
   "execution_count": 9,
   "id": "71220b3d",
   "metadata": {},
   "outputs": [
    {
     "name": "stdout",
     "output_type": "stream",
     "text": [
      "Epoch 1/350\n"
     ]
    },
    {
     "name": "stderr",
     "output_type": "stream",
     "text": [
      "2023-07-25 09:19:36.015476: I tensorflow/stream_executor/cuda/cuda_dnn.cc:368] Loaded cuDNN version 8801\n"
     ]
    },
    {
     "name": "stdout",
     "output_type": "stream",
     "text": [
      "28/28 [==============================] - 466s 16s/step - loss: 0.6306 - dice_coef: 0.3694 - val_loss: 0.6960 - val_dice_coef: 0.3040\n",
      "Epoch 2/350\n",
      "28/28 [==============================] - 451s 16s/step - loss: 0.4627 - dice_coef: 0.5373 - val_loss: 0.6852 - val_dice_coef: 0.3148\n",
      "Epoch 3/350\n",
      "28/28 [==============================] - 447s 16s/step - loss: 0.3744 - dice_coef: 0.6256 - val_loss: 0.6305 - val_dice_coef: 0.3695\n",
      "Epoch 4/350\n",
      "28/28 [==============================] - 446s 16s/step - loss: 0.3237 - dice_coef: 0.6763 - val_loss: 0.7182 - val_dice_coef: 0.2818\n",
      "Epoch 5/350\n",
      "28/28 [==============================] - 447s 16s/step - loss: 0.3091 - dice_coef: 0.6909 - val_loss: 0.7388 - val_dice_coef: 0.2612\n",
      "Epoch 6/350\n",
      "28/28 [==============================] - 449s 16s/step - loss: 0.2848 - dice_coef: 0.7152 - val_loss: 0.7522 - val_dice_coef: 0.2478\n",
      "Epoch 7/350\n",
      "28/28 [==============================] - 447s 16s/step - loss: 0.2796 - dice_coef: 0.7204 - val_loss: 0.7771 - val_dice_coef: 0.2229\n",
      "Epoch 8/350\n",
      "28/28 [==============================] - 445s 16s/step - loss: 0.2648 - dice_coef: 0.7352 - val_loss: 0.7931 - val_dice_coef: 0.2069\n",
      "Epoch 9/350\n",
      "28/28 [==============================] - 447s 16s/step - loss: 0.2339 - dice_coef: 0.7661 - val_loss: 0.7894 - val_dice_coef: 0.2106\n",
      "Epoch 10/350\n",
      "28/28 [==============================] - 448s 16s/step - loss: 0.2175 - dice_coef: 0.7825 - val_loss: 0.8236 - val_dice_coef: 0.1764\n",
      "Epoch 11/350\n",
      "28/28 [==============================] - 447s 16s/step - loss: 0.2326 - dice_coef: 0.7674 - val_loss: 0.7838 - val_dice_coef: 0.2162\n",
      "Epoch 12/350\n",
      "28/28 [==============================] - 447s 16s/step - loss: 0.2032 - dice_coef: 0.7968 - val_loss: 0.6603 - val_dice_coef: 0.3397\n",
      "Epoch 13/350\n",
      "28/28 [==============================] - 446s 16s/step - loss: 0.1954 - dice_coef: 0.8046 - val_loss: 0.7757 - val_dice_coef: 0.2243\n",
      "Epoch 14/350\n",
      "28/28 [==============================] - 447s 16s/step - loss: 0.1743 - dice_coef: 0.8257 - val_loss: 0.8350 - val_dice_coef: 0.1650\n",
      "Epoch 15/350\n",
      "28/28 [==============================] - 442s 16s/step - loss: 0.1885 - dice_coef: 0.8115 - val_loss: 0.3982 - val_dice_coef: 0.6018\n",
      "Epoch 16/350\n",
      "28/28 [==============================] - 440s 16s/step - loss: 0.1853 - dice_coef: 0.8147 - val_loss: 0.2998 - val_dice_coef: 0.7002\n",
      "Epoch 17/350\n",
      "28/28 [==============================] - 439s 16s/step - loss: 0.1890 - dice_coef: 0.8110 - val_loss: 0.2646 - val_dice_coef: 0.7354\n",
      "Epoch 18/350\n",
      "28/28 [==============================] - 439s 16s/step - loss: 0.1599 - dice_coef: 0.8401 - val_loss: 0.3985 - val_dice_coef: 0.6015\n",
      "Epoch 19/350\n",
      "28/28 [==============================] - 439s 16s/step - loss: 0.1485 - dice_coef: 0.8515 - val_loss: 0.2746 - val_dice_coef: 0.7254\n",
      "Epoch 20/350\n",
      "28/28 [==============================] - 442s 16s/step - loss: 0.1551 - dice_coef: 0.8449 - val_loss: 0.4487 - val_dice_coef: 0.5513\n",
      "Epoch 21/350\n",
      "28/28 [==============================] - 438s 16s/step - loss: 0.1593 - dice_coef: 0.8407 - val_loss: 0.2460 - val_dice_coef: 0.7540\n",
      "Epoch 22/350\n",
      "28/28 [==============================] - 439s 16s/step - loss: 0.1476 - dice_coef: 0.8524 - val_loss: 0.1824 - val_dice_coef: 0.8176\n",
      "Epoch 23/350\n",
      "28/28 [==============================] - 437s 16s/step - loss: 0.1430 - dice_coef: 0.8570 - val_loss: 0.1248 - val_dice_coef: 0.8752\n",
      "Epoch 24/350\n",
      "28/28 [==============================] - 438s 16s/step - loss: 0.1347 - dice_coef: 0.8653 - val_loss: 0.4429 - val_dice_coef: 0.5571\n",
      "Epoch 25/350\n",
      "28/28 [==============================] - 437s 15s/step - loss: 0.1390 - dice_coef: 0.8610 - val_loss: 0.2587 - val_dice_coef: 0.7413\n",
      "Epoch 26/350\n",
      "28/28 [==============================] - 438s 16s/step - loss: 0.1143 - dice_coef: 0.8857 - val_loss: 0.3422 - val_dice_coef: 0.6578\n",
      "Epoch 27/350\n",
      "28/28 [==============================] - 437s 16s/step - loss: 0.1126 - dice_coef: 0.8874 - val_loss: 0.2368 - val_dice_coef: 0.7632\n",
      "Epoch 28/350\n",
      "28/28 [==============================] - 439s 16s/step - loss: 0.1143 - dice_coef: 0.8857 - val_loss: 0.2711 - val_dice_coef: 0.7289\n",
      "Epoch 29/350\n",
      "28/28 [==============================] - 439s 16s/step - loss: 0.1198 - dice_coef: 0.8802 - val_loss: 0.2200 - val_dice_coef: 0.7800\n",
      "Epoch 30/350\n",
      "28/28 [==============================] - 441s 16s/step - loss: 0.0924 - dice_coef: 0.9076 - val_loss: 0.2024 - val_dice_coef: 0.7976\n",
      "Epoch 31/350\n",
      "28/28 [==============================] - 440s 16s/step - loss: 0.0967 - dice_coef: 0.9033 - val_loss: 0.2141 - val_dice_coef: 0.7859\n",
      "Epoch 32/350\n",
      "28/28 [==============================] - 445s 16s/step - loss: 0.0982 - dice_coef: 0.9018 - val_loss: 0.1433 - val_dice_coef: 0.8567\n",
      "Epoch 33/350\n",
      "28/28 [==============================] - 440s 16s/step - loss: 0.1006 - dice_coef: 0.8994 - val_loss: 0.2595 - val_dice_coef: 0.7405\n",
      "Epoch 34/350\n",
      "28/28 [==============================] - 438s 16s/step - loss: 0.1007 - dice_coef: 0.8993 - val_loss: 0.2411 - val_dice_coef: 0.7589\n",
      "Epoch 35/350\n",
      "28/28 [==============================] - 439s 16s/step - loss: 0.1088 - dice_coef: 0.8912 - val_loss: 0.2570 - val_dice_coef: 0.7430\n",
      "Epoch 36/350\n",
      "28/28 [==============================] - 441s 15s/step - loss: 0.0965 - dice_coef: 0.9035 - val_loss: 0.1822 - val_dice_coef: 0.8178\n",
      "Epoch 37/350\n",
      "28/28 [==============================] - 446s 16s/step - loss: 0.0885 - dice_coef: 0.9115 - val_loss: 0.2280 - val_dice_coef: 0.7720\n",
      "Epoch 38/350\n",
      "28/28 [==============================] - 439s 15s/step - loss: 0.0868 - dice_coef: 0.9132 - val_loss: 0.2258 - val_dice_coef: 0.7742\n",
      "Epoch 39/350\n",
      "28/28 [==============================] - 445s 16s/step - loss: 0.0838 - dice_coef: 0.9162 - val_loss: 0.2415 - val_dice_coef: 0.7585\n",
      "Epoch 40/350\n",
      "28/28 [==============================] - 444s 16s/step - loss: 0.0859 - dice_coef: 0.9141 - val_loss: 0.2246 - val_dice_coef: 0.7754\n",
      "Epoch 41/350\n",
      "28/28 [==============================] - 445s 16s/step - loss: 0.1014 - dice_coef: 0.8986 - val_loss: 0.2186 - val_dice_coef: 0.7814\n",
      "Epoch 42/350\n",
      "28/28 [==============================] - 447s 16s/step - loss: 0.0946 - dice_coef: 0.9054 - val_loss: 0.0662 - val_dice_coef: 0.9338\n",
      "Epoch 43/350\n",
      "28/28 [==============================] - 445s 16s/step - loss: 0.0775 - dice_coef: 0.9225 - val_loss: 0.1088 - val_dice_coef: 0.8912\n",
      "Epoch 44/350\n",
      "28/28 [==============================] - 447s 16s/step - loss: 0.0783 - dice_coef: 0.9217 - val_loss: 0.0528 - val_dice_coef: 0.9472\n",
      "Epoch 45/350\n",
      "28/28 [==============================] - 445s 16s/step - loss: 0.0803 - dice_coef: 0.9197 - val_loss: 0.1575 - val_dice_coef: 0.8425\n",
      "Epoch 46/350\n",
      "28/28 [==============================] - 447s 16s/step - loss: 0.0795 - dice_coef: 0.9205 - val_loss: 0.3607 - val_dice_coef: 0.6393\n",
      "Epoch 47/350\n",
      "28/28 [==============================] - 446s 16s/step - loss: 0.0838 - dice_coef: 0.9162 - val_loss: 0.2210 - val_dice_coef: 0.7790\n",
      "Epoch 48/350\n",
      "28/28 [==============================] - 446s 16s/step - loss: 0.0777 - dice_coef: 0.9223 - val_loss: 0.2952 - val_dice_coef: 0.7048\n",
      "Epoch 49/350\n",
      "28/28 [==============================] - 445s 16s/step - loss: 0.0727 - dice_coef: 0.9273 - val_loss: 0.0848 - val_dice_coef: 0.9152\n",
      "Epoch 50/350\n",
      "28/28 [==============================] - 448s 16s/step - loss: 0.0716 - dice_coef: 0.9284 - val_loss: 0.2375 - val_dice_coef: 0.7625\n",
      "Epoch 51/350\n",
      "28/28 [==============================] - 448s 16s/step - loss: 0.0691 - dice_coef: 0.9309 - val_loss: 0.0545 - val_dice_coef: 0.9455\n",
      "Epoch 52/350\n",
      "28/28 [==============================] - 445s 16s/step - loss: 0.0695 - dice_coef: 0.9305 - val_loss: 0.0565 - val_dice_coef: 0.9435\n",
      "Epoch 53/350\n",
      "28/28 [==============================] - 444s 16s/step - loss: 0.0626 - dice_coef: 0.9374 - val_loss: 0.0468 - val_dice_coef: 0.9532\n",
      "Epoch 54/350\n",
      "28/28 [==============================] - 446s 16s/step - loss: 0.0682 - dice_coef: 0.9318 - val_loss: 0.3908 - val_dice_coef: 0.6092\n",
      "Epoch 55/350\n",
      "28/28 [==============================] - 445s 16s/step - loss: 0.0642 - dice_coef: 0.9358 - val_loss: 0.2324 - val_dice_coef: 0.7676\n",
      "Epoch 56/350\n",
      "28/28 [==============================] - 445s 16s/step - loss: 0.0832 - dice_coef: 0.9168 - val_loss: 0.1252 - val_dice_coef: 0.8748\n",
      "Epoch 57/350\n",
      "28/28 [==============================] - 446s 16s/step - loss: 0.0631 - dice_coef: 0.9369 - val_loss: 0.0851 - val_dice_coef: 0.9149\n",
      "Epoch 58/350\n",
      "28/28 [==============================] - 446s 16s/step - loss: 0.0651 - dice_coef: 0.9349 - val_loss: 0.0794 - val_dice_coef: 0.9206\n",
      "Epoch 59/350\n",
      "28/28 [==============================] - 446s 16s/step - loss: 0.0730 - dice_coef: 0.9270 - val_loss: 0.1303 - val_dice_coef: 0.8697\n",
      "Epoch 60/350\n",
      "28/28 [==============================] - 446s 16s/step - loss: 0.0672 - dice_coef: 0.9328 - val_loss: 0.0522 - val_dice_coef: 0.9478\n",
      "Epoch 61/350\n",
      "28/28 [==============================] - 445s 16s/step - loss: 0.0779 - dice_coef: 0.9221 - val_loss: 0.7899 - val_dice_coef: 0.2101\n",
      "Epoch 62/350\n",
      "28/28 [==============================] - 444s 16s/step - loss: 0.0670 - dice_coef: 0.9330 - val_loss: 0.1818 - val_dice_coef: 0.8182\n",
      "Epoch 63/350\n",
      "28/28 [==============================] - 444s 16s/step - loss: 0.0632 - dice_coef: 0.9368 - val_loss: 0.1453 - val_dice_coef: 0.8547\n",
      "Epoch 64/350\n",
      "28/28 [==============================] - 447s 16s/step - loss: 0.0599 - dice_coef: 0.9401 - val_loss: 0.0921 - val_dice_coef: 0.9079\n",
      "Epoch 65/350\n",
      "28/28 [==============================] - 447s 16s/step - loss: 0.0666 - dice_coef: 0.9334 - val_loss: 0.0995 - val_dice_coef: 0.9005\n",
      "Epoch 66/350\n",
      "28/28 [==============================] - 446s 16s/step - loss: 0.0628 - dice_coef: 0.9372 - val_loss: 0.0576 - val_dice_coef: 0.9424\n",
      "Epoch 67/350\n",
      "28/28 [==============================] - 448s 16s/step - loss: 0.0533 - dice_coef: 0.9467 - val_loss: 0.0512 - val_dice_coef: 0.9488\n",
      "Epoch 68/350\n",
      "28/28 [==============================] - 449s 16s/step - loss: 0.0514 - dice_coef: 0.9486 - val_loss: 0.0515 - val_dice_coef: 0.9485\n",
      "Epoch 69/350\n",
      "28/28 [==============================] - 447s 16s/step - loss: 0.0603 - dice_coef: 0.9397 - val_loss: 0.0528 - val_dice_coef: 0.9472\n",
      "Epoch 70/350\n",
      "28/28 [==============================] - 447s 16s/step - loss: 0.0616 - dice_coef: 0.9384 - val_loss: 0.0473 - val_dice_coef: 0.9527\n",
      "Epoch 71/350\n",
      "28/28 [==============================] - 446s 16s/step - loss: 0.0547 - dice_coef: 0.9453 - val_loss: 0.0806 - val_dice_coef: 0.9194\n",
      "Epoch 72/350\n",
      "28/28 [==============================] - 447s 16s/step - loss: 0.0561 - dice_coef: 0.9439 - val_loss: 0.1087 - val_dice_coef: 0.8913\n",
      "Epoch 73/350\n",
      "28/28 [==============================] - 445s 16s/step - loss: 0.0519 - dice_coef: 0.9481 - val_loss: 0.0656 - val_dice_coef: 0.9344\n"
     ]
    }
   ],
   "source": [
    "history = a.fit(train_gen,\n",
    "                      validation_data=valid_gen,epochs=epochs,callbacks=callbacks_list)"
   ]
  },
  {
   "cell_type": "code",
   "execution_count": 12,
   "id": "67e6abc5",
   "metadata": {},
   "outputs": [
    {
     "name": "stdout",
     "output_type": "stream",
     "text": [
      "max training dice:  0.9485662579536438\n",
      "max validation dice:  0.9532299041748047\n"
     ]
    }
   ],
   "source": [
    "print('max training dice: ',max(acc))\n",
    "print('max validation dice: ',max(val_acc))"
   ]
  },
  {
   "cell_type": "code",
   "execution_count": 14,
   "id": "bd43cabb",
   "metadata": {},
   "outputs": [],
   "source": [
    "a.load_weights(filepath)"
   ]
  },
  {
   "cell_type": "code",
   "execution_count": 15,
   "id": "ce963c6c",
   "metadata": {},
   "outputs": [
    {
     "name": "stderr",
     "output_type": "stream",
     "text": [
      "  0%|                                                     | 0/8 [00:00<?, ?it/s]/tmp/ipykernel_2409152/172801869.py:72: DeprecationWarning: `np.bool` is a deprecated alias for the builtin `bool`. To silence this warning, use `bool` by itself. Doing this will not modify any behavior and is safe. If you specifically wanted the numpy scalar type, use `np.bool_` here.\n",
      "Deprecated in NumPy 1.20; for more details and guidance: https://numpy.org/devdocs/release/1.20.0-notes.html#deprecations\n",
      "  im1 = np.asarray(im1).astype(np.bool)\n",
      "/tmp/ipykernel_2409152/172801869.py:73: DeprecationWarning: `np.bool` is a deprecated alias for the builtin `bool`. To silence this warning, use `bool` by itself. Doing this will not modify any behavior and is safe. If you specifically wanted the numpy scalar type, use `np.bool_` here.\n",
      "Deprecated in NumPy 1.20; for more details and guidance: https://numpy.org/devdocs/release/1.20.0-notes.html#deprecations\n",
      "  im2 = np.asarray(im2).astype(np.bool)\n",
      "100%|█████████████████████████████████████████████| 8/8 [03:42<00:00, 27.80s/it]"
     ]
    },
    {
     "name": "stdout",
     "output_type": "stream",
     "text": [
      "at 0.9: dice:  0.7476845162505186\n",
      "at 0.8: dice:  0.7499026285213195\n",
      "at 0.7: dice:  0.7511074275557956\n",
      "at 0.6: dice:  0.7517733625572987\n",
      "at 0.5: dice:  0.7524967111462814\n",
      "at 0.4: dice:  0.7525384319284516\n",
      "at 0.3: dice:  0.7352709804897501\n",
      "at 0.2: dice:  0.635989994143596\n",
      "at 0.1: dice:  0.322215647549271\n",
      "at 0.05: dice:  0.05351063277693685\n",
      "at 0.01: dice:  0.012599597545896936\n"
     ]
    },
    {
     "name": "stderr",
     "output_type": "stream",
     "text": [
      "\n"
     ]
    }
   ],
   "source": [
    "tr_dice_9=[]\n",
    "tr_dice_8=[]\n",
    "tr_dice_7=[]\n",
    "tr_dice_6=[]\n",
    "tr_dice_5=[]\n",
    "tr_dice_4=[]\n",
    "tr_dice_3=[]\n",
    "tr_dice_2=[]\n",
    "tr_dice_1=[]\n",
    "tr_dice_05=[]\n",
    "tr_dice_01=[]\n",
    "for i in tqdm(range(0,len(testpath))):\n",
    "    test_mask, pred_mask = inf(testpath[i],testpath_m[i],a)\n",
    "    y_pred_argmax=np.where(pred_mask>0.9,1,0)\n",
    "    tr_dice_9.append(compute_dice(y_pred_argmax, test_mask))\n",
    "    y_pred_argmax=np.where(pred_mask>0.8,1,0)\n",
    "    tr_dice_8.append(compute_dice(y_pred_argmax, test_mask))\n",
    "    y_pred_argmax=np.where(pred_mask>0.7,1,0)\n",
    "    tr_dice_7.append(compute_dice(y_pred_argmax, test_mask))\n",
    "    y_pred_argmax=np.where(pred_mask>0.6,1,0)\n",
    "    tr_dice_6.append(compute_dice(y_pred_argmax, test_mask))\n",
    "    y_pred_argmax=np.where(pred_mask>0.5,1,0)\n",
    "    tr_dice_5.append(compute_dice(y_pred_argmax, test_mask))\n",
    "    y_pred_argmax=np.where(pred_mask>0.4,1,0)\n",
    "    tr_dice_4.append(compute_dice(y_pred_argmax, test_mask))\n",
    "    y_pred_argmax=np.where(pred_mask>0.3,1,0)\n",
    "    tr_dice_3.append(compute_dice(y_pred_argmax, test_mask))\n",
    "    y_pred_argmax=np.where(pred_mask>0.2,1,0)\n",
    "    tr_dice_2.append(compute_dice(y_pred_argmax, test_mask))\n",
    "    y_pred_argmax=np.where(pred_mask>0.1,1,0)\n",
    "    tr_dice_1.append(compute_dice(y_pred_argmax, test_mask))\n",
    "    y_pred_argmax=np.where(pred_mask>0.05,1,0)\n",
    "    tr_dice_05.append(compute_dice(y_pred_argmax, test_mask))\n",
    "    y_pred_argmax=np.where(pred_mask>0.01,1,0)\n",
    "    tr_dice_01.append(compute_dice(y_pred_argmax, test_mask))\n",
    "print('at 0.9: dice: ',np.mean(tr_dice_9))\n",
    "print('at 0.8: dice: ',np.mean(tr_dice_8))\n",
    "print('at 0.7: dice: ',np.mean(tr_dice_7))\n",
    "print('at 0.6: dice: ',np.mean(tr_dice_6))\n",
    "print('at 0.5: dice: ',np.mean(tr_dice_5))\n",
    "print('at 0.4: dice: ',np.mean(tr_dice_4))\n",
    "print('at 0.3: dice: ',np.mean(tr_dice_3))\n",
    "print('at 0.2: dice: ',np.mean(tr_dice_2))\n",
    "print('at 0.1: dice: ',np.mean(tr_dice_1))\n",
    "print('at 0.05: dice: ',np.mean(tr_dice_05))\n",
    "print('at 0.01: dice: ',np.mean(tr_dice_01))"
   ]
  },
  {
   "cell_type": "code",
   "execution_count": null,
   "id": "afc53fdd",
   "metadata": {},
   "outputs": [],
   "source": []
  }
 ],
 "metadata": {
  "kernelspec": {
   "display_name": "Python [conda env:beea] *",
   "language": "python",
   "name": "conda-env-beea-py"
  },
  "language_info": {
   "codemirror_mode": {
    "name": "ipython",
    "version": 3
   },
   "file_extension": ".py",
   "mimetype": "text/x-python",
   "name": "python",
   "nbconvert_exporter": "python",
   "pygments_lexer": "ipython3",
   "version": "3.10.6"
  }
 },
 "nbformat": 4,
 "nbformat_minor": 5
}
