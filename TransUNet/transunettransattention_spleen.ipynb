{
 "cells": [
  {
   "cell_type": "code",
   "execution_count": 1,
   "id": "d0cf415a",
   "metadata": {},
   "outputs": [
    {
     "name": "stdout",
     "output_type": "stream",
     "text": [
      "[name: \"/device:CPU:0\"\n",
      "device_type: \"CPU\"\n",
      "memory_limit: 268435456\n",
      "locality {\n",
      "}\n",
      "incarnation: 12828664376980575656\n",
      "xla_global_id: -1\n",
      ", name: \"/device:GPU:0\"\n",
      "device_type: \"GPU\"\n",
      "memory_limit: 40074543104\n",
      "locality {\n",
      "  bus_id: 1\n",
      "  links {\n",
      "  }\n",
      "}\n",
      "incarnation: 17956998357348158415\n",
      "physical_device_desc: \"device: 0, name: NVIDIA A100-PCIE-40GB, pci bus id: 0000:5e:00.0, compute capability: 8.0\"\n",
      "xla_global_id: 416903419\n",
      "]\n",
      "WARNING:tensorflow:From /tmp/ipykernel_3242479/3189653689.py:12: is_gpu_available (from tensorflow.python.framework.test_util) is deprecated and will be removed in a future version.\n",
      "Instructions for updating:\n",
      "Use `tf.config.list_physical_devices('GPU')` instead.\n"
     ]
    },
    {
     "name": "stderr",
     "output_type": "stream",
     "text": [
      "2023-08-24 13:22:33.115292: I tensorflow/core/platform/cpu_feature_guard.cc:151] This TensorFlow binary is optimized with oneAPI Deep Neural Network Library (oneDNN) to use the following CPU instructions in performance-critical operations:  AVX2 AVX512F FMA\n",
      "To enable them in other operations, rebuild TensorFlow with the appropriate compiler flags.\n",
      "2023-08-24 13:22:34.111372: I tensorflow/core/common_runtime/gpu/gpu_device.cc:1525] Created device /device:GPU:0 with 38218 MB memory:  -> device: 0, name: NVIDIA A100-PCIE-40GB, pci bus id: 0000:5e:00.0, compute capability: 8.0\n",
      "2023-08-24 13:22:34.122976: I tensorflow/core/common_runtime/gpu/gpu_device.cc:1525] Created device /device:GPU:0 with 38218 MB memory:  -> device: 0, name: NVIDIA A100-PCIE-40GB, pci bus id: 0000:5e:00.0, compute capability: 8.0\n"
     ]
    },
    {
     "data": {
      "text/plain": [
       "True"
      ]
     },
     "execution_count": 1,
     "metadata": {},
     "output_type": "execute_result"
    }
   ],
   "source": [
    "import os\n",
    "os.environ['CUDA_VISIBLE_DEVICES'] = \"0\"\n",
    "from numpy.random import seed\n",
    "seed(20)  ##15 for left canal\n",
    "import google.protobuf\n",
    "\n",
    "import gast\n",
    "import tensorflow as tf\n",
    "tf.random.set_seed(20) ##32 for training 1\n",
    "from tensorflow.python.client import device_lib \n",
    "print(device_lib.list_local_devices())\n",
    "tf.test.is_gpu_available()"
   ]
  },
  {
   "cell_type": "code",
   "execution_count": 2,
   "id": "4d6fe957",
   "metadata": {},
   "outputs": [],
   "source": [
    "import cv2\n",
    "import glob\n",
    "import random\n",
    "from tqdm import tqdm\n",
    "import skimage.io as io\n",
    "import cv2\n",
    "import skimage.transform as trans\n",
    "import numpy as np\n",
    "import matplotlib.pyplot as plt\n",
    "import pydicom\n",
    "import SimpleITK as sitk\n",
    "import nibabel as nib\n",
    "from scipy import ndimage\n",
    "\n",
    "def dice_coef(y_true,y_pred, loss_type='jaccard', smooth=1.):\n",
    "\n",
    "    y_true_f = tf.reshape(y_true,[-1])\n",
    "    y_pred_f = tf.reshape(y_pred,[-1])\n",
    "\n",
    "    intersection = tf.reduce_sum(y_true_f * y_pred_f)\n",
    "\n",
    "    if loss_type == 'jaccard':\n",
    "        union = tf.reduce_sum(tf.square(y_pred_f)) + tf.reduce_sum(tf.square(y_true_f))\n",
    "\n",
    "    elif loss_type == 'sorensen':\n",
    "        union = tf.reduce_sum(y_pred_f) + tf.reduce_sum(y_true_f)\n",
    "\n",
    "    else:\n",
    "        raise ValueError(\"Unknown `loss_type`: %s\" % loss_type)\n",
    "\n",
    "    return (2. * intersection + smooth) / (union + smooth)\n",
    "\n",
    "def dice_loss(y_true,y_pred, loss_type='jaccard', smooth=1.):\n",
    "\n",
    "    y_true_f = tf.cast(tf.reshape(y_true,[-1]),tf.float32)\n",
    "    y_pred_f =tf.cast(tf.reshape(y_pred,[-1]),tf.float32)\n",
    "\n",
    "    intersection = tf.reduce_sum(y_true_f * y_pred_f)\n",
    "\n",
    "    if loss_type == 'jaccard':\n",
    "        union = tf.reduce_sum(tf.square(y_pred_f)) + tf.reduce_sum(tf.square(y_true_f))\n",
    "\n",
    "    elif loss_type == 'sorensen':\n",
    "        union = tf.reduce_sum(y_pred_f) + tf.reduce_sum(y_true_f)\n",
    "\n",
    "    else:\n",
    "        raise ValueError(\"Unknown `loss_type`: %s\" % loss_type)\n",
    "\n",
    "    return (1-(2. * intersection + smooth) / (union + smooth))\n",
    "\n",
    "def compute_dice(im1, im2, empty_score=1.0):\n",
    "    \"\"\"\n",
    "    Computes the Dice coefficient, a measure of set similarity.\n",
    "    Parameters\n",
    "    ----------\n",
    "    im1 : array-like, bool\n",
    "        Any array of arbitrary size. If not boolean, will be converted.\n",
    "    im2 : array-like, bool\n",
    "        Any other array of identical size. If not boolean, will be converted.\n",
    "    Returns\n",
    "    -------\n",
    "    dice : float\n",
    "        Dice coefficient as a float on range [0,1].\n",
    "        Maximum similarity = 1\n",
    "        No similarity = 0\n",
    "        Both are empty (sum eq to zero) = empty_score\n",
    "    Notes\n",
    "    -----\n",
    "    The order of inputs for `dice` is irrelevant. The result will be\n",
    "    identical if `im1` and `im2` are switched.\n",
    "    \"\"\"\n",
    "    im1 = np.asarray(im1).astype(np.bool)\n",
    "    im2 = np.asarray(im2).astype(np.bool)\n",
    "\n",
    "    if im1.shape != im2.shape:\n",
    "        raise ValueError(\"Shape mismatch: im1 and im2 must have the same shape.\")\n",
    "\n",
    "    im_sum = im1.sum() + im2.sum()\n",
    "    if im_sum == 0:\n",
    "        return empty_score\n",
    "\n",
    "    # Compute Dice coefficient\n",
    "    intersection = np.logical_and(im1, im2)\n",
    "\n",
    "    return 2. * intersection.sum() / im_sum\n",
    "\n",
    "import copy\n",
    "def get_normalized(scann,mn,mx):\n",
    "    scan = copy.copy(scann)\n",
    "    mn = max(mn,np.amin(scan))\n",
    "    mx = min(mx,np.amax(scan))\n",
    "    np.clip(scan, mn, mx, out=scan)\n",
    "    d = mx - mn\n",
    "    scan = (scan-mn)/d\n",
    "    return scan\n",
    "\n",
    "def res_scan(nscan,image_size):\n",
    "\n",
    "    depth_factor = image_size[0]/nscan.shape[0]\n",
    "    width_factor = nscan.shape[2]/nscan.shape[2]\n",
    "    height_factor = image_size[1]/nscan.shape[1]\n",
    "    nscann = copy.copy(nscan)\n",
    "    nscann = ndimage.zoom(nscann, (depth_factor, height_factor, width_factor), order=1)\n",
    "    return nscann\n",
    "\n",
    "def res_mask(nmask,image_size):\n",
    "    depth_factor = image_size[0]/nmask.shape[0]\n",
    "    width_factor = nmask.shape[2]/nmask.shape[2]\n",
    "    height_factor = image_size[1]/nmask.shape[1]\n",
    "\n",
    "    nmaskk = copy.copy(nmask)\n",
    "    nmaskk = ndimage.zoom(nmaskk, (depth_factor, height_factor, width_factor), order=1, mode = 'nearest')\n",
    "    return nmaskk"
   ]
  },
  {
   "cell_type": "code",
   "execution_count": 3,
   "id": "70c41dbe",
   "metadata": {},
   "outputs": [
    {
     "name": "stdout",
     "output_type": "stream",
     "text": [
      "2463 386 801\n",
      "['/home/rabeea/spleen_2d/val_mask/spleen_10_0.npy', '/home/rabeea/spleen_2d/val_mask/spleen_10_1.npy', '/home/rabeea/spleen_2d/val_mask/spleen_10_10.npy']\n"
     ]
    }
   ],
   "source": [
    "trainpath = sorted(glob.glob(r\"/home/rabeea/spleen_2d/tr_img/*.npy\", recursive = True))\n",
    "trainpath_m = sorted(glob.glob(r\"/home/rabeea/spleen_2d/tr_mask/*.npy\", recursive = True))\n",
    "valpath = sorted(glob.glob(r\"/home/rabeea/spleen_2d/val_img/*.npy\", recursive = True))\n",
    "valpath_m = sorted(glob.glob(r\"/home/rabeea/spleen_2d/val_mask/*.npy\", recursive = True))\n",
    "testpath = sorted(glob.glob(r\"/home/rabeea/spleen_2d/ts_img/*.npy\", recursive = True))\n",
    "testpath_m = sorted(glob.glob(r\"/home/rabeea/spleen_2d/ts_mask/*.npy\", recursive = True))\n",
    "print(len(trainpath), len(valpath), len(testpath))\n",
    "print(valpath_m[:3])"
   ]
  },
  {
   "cell_type": "code",
   "execution_count": 4,
   "id": "08435fca",
   "metadata": {},
   "outputs": [],
   "source": [
    "from tensorflow.keras.utils import Sequence\n",
    "\n",
    "\n",
    "def parse_image(img_path):\n",
    "    img = np.load(img_path)\n",
    "    img = np.expand_dims(img, axis=2)\n",
    "    #train_img = np.stack((image_rgb,)*3, axis=-1)\n",
    "    \n",
    "    return img\n",
    "\n",
    "def parse_mask(img_path):\n",
    "    mask = np.load(img_path)\n",
    "    mask = np.expand_dims(mask, axis=2)\n",
    "    mask = np.where(mask>0,1,mask)\n",
    "    mask = mask.astype(np.uint8)\n",
    "    \n",
    "    return mask\n",
    "\n",
    "class DataGen(Sequence):\n",
    "    def __init__(self, image_size, images_path, mask_paths, batch_size=8):\n",
    "        self.image_size = image_size\n",
    "        self.images_path = images_path\n",
    "        self.mask_paths = mask_paths\n",
    "        self.batch_size = batch_size\n",
    "        self.on_epoch_end()\n",
    "\n",
    "    def __getitem__(self, index):\n",
    "        if(index+1)*self.batch_size > len(self.images_path):\n",
    "            self.batch_size = len(self.images_path) - index*self.batch_size\n",
    "\n",
    "        images_path = self.images_path[index*self.batch_size : (index+1)*self.batch_size]\n",
    "        mask_paths = self.mask_paths[index*self.batch_size : (index+1)*self.batch_size]\n",
    "\n",
    "        #images_batch = np.empty((self.batch_size,image_size[0],image_size[1],image_size[2],3))\n",
    "        images_batch = np.empty((self.batch_size,image_size[0],image_size[1],1))\n",
    "        masks_batch = np.empty((self.batch_size,image_size[0],image_size[1],1),dtype = 'uint8')\n",
    "\n",
    "        for i in range(len(images_path)):\n",
    "            #print(images_path[i])\n",
    "            # Read image and mask\n",
    "            images_batch[i]= parse_image(images_path[i])\n",
    "            masks_batch[i] = parse_mask(mask_paths[i])\n",
    "\n",
    "        #return np.array(images_batch), np.array(masks_batch)\n",
    "        return images_batch,masks_batch\n",
    "\n",
    "    def on_epoch_end(self):\n",
    "        pass\n",
    "\n",
    "    def __len__(self):\n",
    "        return int(np.ceil(len(self.images_path)/float(self.batch_size)))\n",
    "    "
   ]
  },
  {
   "cell_type": "code",
   "execution_count": 5,
   "id": "c3fe8228",
   "metadata": {},
   "outputs": [],
   "source": [
    "image_size = (256,256)\n",
    "batch_size = 1\n",
    "\n",
    "epochs = 350\n",
    "\n",
    "train_steps = len(trainpath)//batch_size\n",
    "valid_steps = len(valpath)//batch_size\n",
    "\n",
    "## Generator\n",
    "train_gen = DataGen(image_size, trainpath, trainpath_m,batch_size)\n",
    "valid_gen = DataGen(image_size,valpath, valpath_m, batch_size)\n",
    "test_gen = DataGen(image_size,testpath, testpath_m,batch_size=1)"
   ]
  },
  {
   "cell_type": "code",
   "execution_count": 6,
   "id": "c47c6c05",
   "metadata": {},
   "outputs": [
    {
     "name": "stdout",
     "output_type": "stream",
     "text": [
      "(1, 256, 256, 1)\n"
     ]
    },
    {
     "data": {
      "text/plain": [
       "<matplotlib.image.AxesImage at 0x7fe091c5fb20>"
      ]
     },
     "execution_count": 6,
     "metadata": {},
     "output_type": "execute_result"
    },
    {
     "data": {
      "image/png": "[encoded data removed]",
      "text/plain": [
       "<Figure size 640x480 with 1 Axes>"
      ]
     },
     "metadata": {},
     "output_type": "display_data"
    }
   ],
   "source": [
    "[t,p] = train_gen.__getitem__(90)\n",
    "print(t.shape)\n",
    "plt.imshow(p[0,:,:,0])"
   ]
  },
  {
   "cell_type": "code",
   "execution_count": 7,
   "id": "6d023de2",
   "metadata": {},
   "outputs": [
    {
     "data": {
      "text/plain": [
       "array([0, 1], dtype=uint8)"
      ]
     },
     "execution_count": 7,
     "metadata": {},
     "output_type": "execute_result"
    }
   ],
   "source": [
    "np.unique(p)"
   ]
  },
  {
   "cell_type": "code",
   "execution_count": 8,
   "id": "77a778ce",
   "metadata": {},
   "outputs": [
    {
     "data": {
      "text/plain": [
       "<matplotlib.image.AxesImage at 0x7fe091a73a60>"
      ]
     },
     "execution_count": 8,
     "metadata": {},
     "output_type": "execute_result"
    },
    {
     "data": {
      "image/png": "[encoded data removed]",
      "text/plain": [
       "<Figure size 640x480 with 1 Axes>"
      ]
     },
     "metadata": {},
     "output_type": "display_data"
    }
   ],
   "source": [
    "plt.imshow(t[0,:,:,0])"
   ]
  },
  {
   "cell_type": "code",
   "execution_count": 6,
   "id": "c76d508a",
   "metadata": {},
   "outputs": [
    {
     "name": "stderr",
     "output_type": "stream",
     "text": [
      "/home/rabeea/anaconda3/envs/beea/lib/python3.10/site-packages/tensorflow_addons/utils/tfa_eol_msg.py:23: UserWarning: \n",
      "\n",
      "TensorFlow Addons (TFA) has ended development and introduction of new features.\n",
      "TFA has entered a minimal maintenance and release mode until a planned end of life in May 2024.\n",
      "Please modify downstream libraries to take dependencies from other repositories in our TensorFlow community (e.g. Keras, Keras-CV, and Keras-NLP). \n",
      "\n",
      "For more information see: https://github.com/tensorflow/addons/issues/2807 \n",
      "\n",
      "  warnings.warn(\n",
      "/home/rabeea/anaconda3/envs/beea/lib/python3.10/site-packages/tensorflow_addons/utils/ensure_tf_install.py:53: UserWarning: Tensorflow Addons supports using Python ops for all Tensorflow versions above or equal to 2.10.0 and strictly below 2.13.0 (nightly versions are not supported). \n",
      " The versions of TensorFlow you are currently using is 2.8.0 and is not supported. \n",
      "Some things might work, some things might not.\n",
      "If you were to encounter a bug, do not file an issue.\n",
      "If you want to make sure you're using a tested and supported configuration, either change the TensorFlow version or the TensorFlow Addons's version. \n",
      "You can find the compatibility matrix in TensorFlow Addon's readme:\n",
      "https://github.com/tensorflow/addons\n",
      "  warnings.warn(\n"
     ]
    }
   ],
   "source": [
    "import encoder_layers as encoder_layers\n",
    "import decoder_layers as decoder_layers\n",
    "from resnet_v2 import  resnet_embeddings\n",
    "from transformerskip import tskip\n",
    "import tensorflow_addons as tfa\n",
    "import matplotlib.pyplot as plt\n",
    "import utils as utils\n",
    "import math\n",
    "\n",
    "tfk = tf.keras\n",
    "tfkl = tfk.layers\n",
    "tfm = tf.math"
   ]
  },
  {
   "cell_type": "code",
   "execution_count": 7,
   "id": "64559342",
   "metadata": {},
   "outputs": [],
   "source": [
    "def TransUNet(image_size=256, \n",
    "                patch_size=16, \n",
    "                hybrid=True,\n",
    "                grid=(14,14), \n",
    "                hidden_size=768,\n",
    "                n_layers=12,\n",
    "                n_heads=12,\n",
    "                mlp_dim=3072,\n",
    "                dropout=0.1,\n",
    "                decoder_channels=[256,128,64,16],\n",
    "                n_skip=3,\n",
    "                num_classes=1,\n",
    "                final_act='sigmoid',\n",
    "                pretrain=False,\n",
    "                freeze_enc_cnn=True,\n",
    "                name='TransUNet'):\n",
    "    # Tranformer Encoder\n",
    "    assert image_size % patch_size == 0, \"image_size must be a multiple of patch_size\"\n",
    "    x = tf.keras.layers.Input(shape=(image_size, image_size, 1))\n",
    "\n",
    "    # Embedding\n",
    "    if hybrid:\n",
    "        grid_size = grid\n",
    "        patch_size = image_size // 16 // grid_size[0]\n",
    "        if patch_size == 0:\n",
    "            patch_size = 1\n",
    "\n",
    "        resnet50v2, features = resnet_embeddings(x, image_size=image_size, n_skip=n_skip, pretrain=pretrain)\n",
    "        print(len(features))\n",
    "        for d in features:\n",
    "            print(d.shape)\n",
    "        if freeze_enc_cnn:\n",
    "            resnet50v2.trainable = False\n",
    "        y = resnet50v2.get_layer(\"conv4_block6_preact_relu\").output\n",
    "        x = resnet50v2.input\n",
    "    else:\n",
    "        y = x\n",
    "        features = None\n",
    "\n",
    "    y = tfkl.Conv2D(\n",
    "        filters=hidden_size,\n",
    "        kernel_size=patch_size,\n",
    "        strides=patch_size,\n",
    "        padding=\"valid\",\n",
    "        name=\"embedding\",\n",
    "        trainable=True\n",
    "    )(y)\n",
    "    y = tfkl.Reshape(\n",
    "        (y.shape[1] * y.shape[2], hidden_size))(y)\n",
    "    y = encoder_layers.AddPositionEmbs(\n",
    "        name=\"Transformer/posembed_input\", trainable=True)(y)\n",
    "\n",
    "    y = tfkl.Dropout(0.1)(y)\n",
    "\n",
    "    # Transformer/Encoder\n",
    "    for n in range(n_layers):\n",
    "        y, _ = encoder_layers.TransformerBlock(\n",
    "            n_heads=n_heads,\n",
    "            mlp_dim=mlp_dim,\n",
    "            dropout=dropout,\n",
    "            name=f\"Transformer/encoderblock_{n}\",\n",
    "            trainable=True\n",
    "        )(y)\n",
    "    y = tfkl.LayerNormalization(\n",
    "        epsilon=1e-6, name=\"Transformer/encoder_norm\"\n",
    "    )(y)\n",
    "\n",
    "    n_patch_sqrt = int(math.sqrt(y.shape[1]))\n",
    "\n",
    "    y = tfkl.Reshape(\n",
    "        target_shape=[n_patch_sqrt, n_patch_sqrt, hidden_size])(y)\n",
    "\n",
    "    # Decoder CUP\n",
    "    if len(decoder_channels):\n",
    "#         #print('after reverting')\n",
    "#         features = features[::-1]\n",
    "#         #for d in features:\n",
    "#         #    print(d.shape)\n",
    "#         features = tskip(features,embedding_dim = 4, dim = 8, heads = 4)\n",
    "#         #for d in features:\n",
    "#         #    print(d.shape)\n",
    "#         features = features[::-1]\n",
    "#         #for d in features:\n",
    "#         #    print(d.shape)\n",
    "        y = decoder_layers.DecoderCup(decoder_channels=decoder_channels, n_skip=n_skip)(y, features)\n",
    "\n",
    "    # Segmentation Head\n",
    "    y = decoder_layers.SegmentationHead(num_classes=num_classes, final_act=final_act)(y)\n",
    "\n",
    "    # Build Model\n",
    "    model =  tfk.models.Model(inputs=x, outputs=y, name=name)\n",
    "    \n",
    "    # Load Pretrain Weights\n",
    "    if pretrain:\n",
    "        load_pretrained(model)\n",
    "        \n",
    "    return model\n"
   ]
  },
  {
   "cell_type": "code",
   "execution_count": 8,
   "id": "5c34bfd9",
   "metadata": {},
   "outputs": [
    {
     "name": "stderr",
     "output_type": "stream",
     "text": [
      "2023-08-24 13:22:35.229730: I tensorflow/core/common_runtime/gpu/gpu_device.cc:1525] Created device /job:localhost/replica:0/task:0/device:GPU:0 with 38218 MB memory:  -> device: 0, name: NVIDIA A100-PCIE-40GB, pci bus id: 0000:5e:00.0, compute capability: 8.0\n"
     ]
    },
    {
     "name": "stdout",
     "output_type": "stream",
     "text": [
      "3\n",
      "(None, 32, 32, 512)\n",
      "(None, 64, 64, 256)\n",
      "(None, 128, 128, 64)\n",
      "Model: \"TransUNet\"\n",
      "__________________________________________________________________________________________________\n",
      " Layer (type)                   Output Shape         Param #     Connected to                     \n",
      "==================================================================================================\n",
      " input_2 (InputLayer)           [(None, 256, 256, 1  0           []                               \n",
      "                                )]                                                                \n",
      "                                                                                                  \n",
      " conv1_pad (ZeroPadding2D)      (None, 262, 262, 1)  0           ['input_2[0][0]']                \n",
      "                                                                                                  \n",
      " conv1_conv (Conv2D)            (None, 128, 128, 64  3200        ['conv1_pad[0][0]']              \n",
      "                                )                                                                 \n",
      "                                                                                                  \n",
      " pool1_pad (ZeroPadding2D)      (None, 130, 130, 64  0           ['conv1_conv[0][0]']             \n",
      "                                )                                                                 \n",
      "                                                                                                  \n",
      " pool1_pool (MaxPooling2D)      (None, 64, 64, 64)   0           ['pool1_pad[0][0]']              \n",
      "                                                                                                  \n",
      " conv2_block1_preact_bn (BatchN  (None, 64, 64, 64)  256         ['pool1_pool[0][0]']             \n",
      " ormalization)                                                                                    \n",
      "                                                                                                  \n",
      " conv2_block1_preact_relu (Acti  (None, 64, 64, 64)  0           ['conv2_block1_preact_bn[0][0]'] \n",
      " vation)                                                                                          \n",
      "                                                                                                  \n",
      " conv2_block1_1_conv (Conv2D)   (None, 64, 64, 64)   4096        ['conv2_block1_preact_relu[0][0]'\n",
      "                                                                 ]                                \n",
      "                                                                                                  \n",
      " conv2_block1_1_bn (BatchNormal  (None, 64, 64, 64)  256         ['conv2_block1_1_conv[0][0]']    \n",
      " ization)                                                                                         \n",
      "                                                                                                  \n",
      " conv2_block1_1_relu (Activatio  (None, 64, 64, 64)  0           ['conv2_block1_1_bn[0][0]']      \n",
      " n)                                                                                               \n",
      "                                                                                                  \n",
      " conv2_block1_2_pad (ZeroPaddin  (None, 66, 66, 64)  0           ['conv2_block1_1_relu[0][0]']    \n",
      " g2D)                                                                                             \n",
      "                                                                                                  \n",
      " conv2_block1_2_conv (Conv2D)   (None, 64, 64, 64)   36864       ['conv2_block1_2_pad[0][0]']     \n",
      "                                                                                                  \n",
      " conv2_block1_2_bn (BatchNormal  (None, 64, 64, 64)  256         ['conv2_block1_2_conv[0][0]']    \n",
      " ization)                                                                                         \n",
      "                                                                                                  \n",
      " conv2_block1_2_relu (Activatio  (None, 64, 64, 64)  0           ['conv2_block1_2_bn[0][0]']      \n",
      " n)                                                                                               \n",
      "                                                                                                  \n",
      " conv2_block1_0_conv (Conv2D)   (None, 64, 64, 256)  16640       ['conv2_block1_preact_relu[0][0]'\n",
      "                                                                 ]                                \n",
      "                                                                                                  \n",
      " conv2_block1_3_conv (Conv2D)   (None, 64, 64, 256)  16640       ['conv2_block1_2_relu[0][0]']    \n",
      "                                                                                                  \n",
      " conv2_block1_out (Add)         (None, 64, 64, 256)  0           ['conv2_block1_0_conv[0][0]',    \n",
      "                                                                  'conv2_block1_3_conv[0][0]']    \n",
      "                                                                                                  \n",
      " conv2_block2_preact_bn (BatchN  (None, 64, 64, 256)  1024       ['conv2_block1_out[0][0]']       \n",
      " ormalization)                                                                                    \n",
      "                                                                                                  \n",
      " conv2_block2_preact_relu (Acti  (None, 64, 64, 256)  0          ['conv2_block2_preact_bn[0][0]'] \n",
      " vation)                                                                                          \n",
      "                                                                                                  \n",
      " conv2_block2_1_conv (Conv2D)   (None, 64, 64, 64)   16384       ['conv2_block2_preact_relu[0][0]'\n",
      "                                                                 ]                                \n",
      "                                                                                                  \n",
      " conv2_block2_1_bn (BatchNormal  (None, 64, 64, 64)  256         ['conv2_block2_1_conv[0][0]']    \n",
      " ization)                                                                                         \n",
      "                                                                                                  \n",
      " conv2_block2_1_relu (Activatio  (None, 64, 64, 64)  0           ['conv2_block2_1_bn[0][0]']      \n",
      " n)                                                                                               \n",
      "                                                                                                  \n",
      " conv2_block2_2_pad (ZeroPaddin  (None, 66, 66, 64)  0           ['conv2_block2_1_relu[0][0]']    \n",
      " g2D)                                                                                             \n",
      "                                                                                                  \n",
      " conv2_block2_2_conv (Conv2D)   (None, 64, 64, 64)   36864       ['conv2_block2_2_pad[0][0]']     \n",
      "                                                                                                  \n",
      " conv2_block2_2_bn (BatchNormal  (None, 64, 64, 64)  256         ['conv2_block2_2_conv[0][0]']    \n",
      " ization)                                                                                         \n",
      "                                                                                                  \n",
      " conv2_block2_2_relu (Activatio  (None, 64, 64, 64)  0           ['conv2_block2_2_bn[0][0]']      \n",
      " n)                                                                                               \n",
      "                                                                                                  \n",
      " conv2_block2_3_conv (Conv2D)   (None, 64, 64, 256)  16640       ['conv2_block2_2_relu[0][0]']    \n",
      "                                                                                                  \n",
      " conv2_block2_out (Add)         (None, 64, 64, 256)  0           ['conv2_block1_out[0][0]',       \n",
      "                                                                  'conv2_block2_3_conv[0][0]']    \n",
      "                                                                                                  \n",
      " conv2_block3_preact_bn (BatchN  (None, 64, 64, 256)  1024       ['conv2_block2_out[0][0]']       \n"
     ]
    },
    {
     "name": "stdout",
     "output_type": "stream",
     "text": [
      " ormalization)                                                                                    \n",
      "                                                                                                  \n",
      " conv2_block3_preact_relu (Acti  (None, 64, 64, 256)  0          ['conv2_block3_preact_bn[0][0]'] \n",
      " vation)                                                                                          \n",
      "                                                                                                  \n",
      " conv2_block3_1_conv (Conv2D)   (None, 64, 64, 64)   16384       ['conv2_block3_preact_relu[0][0]'\n",
      "                                                                 ]                                \n",
      "                                                                                                  \n",
      " conv2_block3_1_bn (BatchNormal  (None, 64, 64, 64)  256         ['conv2_block3_1_conv[0][0]']    \n",
      " ization)                                                                                         \n",
      "                                                                                                  \n",
      " conv2_block3_1_relu (Activatio  (None, 64, 64, 64)  0           ['conv2_block3_1_bn[0][0]']      \n",
      " n)                                                                                               \n",
      "                                                                                                  \n",
      " conv2_block3_2_pad (ZeroPaddin  (None, 66, 66, 64)  0           ['conv2_block3_1_relu[0][0]']    \n",
      " g2D)                                                                                             \n",
      "                                                                                                  \n",
      " conv2_block3_2_conv (Conv2D)   (None, 32, 32, 64)   36864       ['conv2_block3_2_pad[0][0]']     \n",
      "                                                                                                  \n",
      " conv2_block3_2_bn (BatchNormal  (None, 32, 32, 64)  256         ['conv2_block3_2_conv[0][0]']    \n",
      " ization)                                                                                         \n",
      "                                                                                                  \n",
      " conv2_block3_2_relu (Activatio  (None, 32, 32, 64)  0           ['conv2_block3_2_bn[0][0]']      \n",
      " n)                                                                                               \n",
      "                                                                                                  \n",
      " max_pooling2d (MaxPooling2D)   (None, 32, 32, 256)  0           ['conv2_block2_out[0][0]']       \n",
      "                                                                                                  \n",
      " conv2_block3_3_conv (Conv2D)   (None, 32, 32, 256)  16640       ['conv2_block3_2_relu[0][0]']    \n",
      "                                                                                                  \n",
      " conv2_block3_out (Add)         (None, 32, 32, 256)  0           ['max_pooling2d[0][0]',          \n",
      "                                                                  'conv2_block3_3_conv[0][0]']    \n",
      "                                                                                                  \n",
      " conv3_block1_preact_bn (BatchN  (None, 32, 32, 256)  1024       ['conv2_block3_out[0][0]']       \n",
      " ormalization)                                                                                    \n",
      "                                                                                                  \n",
      " conv3_block1_preact_relu (Acti  (None, 32, 32, 256)  0          ['conv3_block1_preact_bn[0][0]'] \n",
      " vation)                                                                                          \n",
      "                                                                                                  \n",
      " conv3_block1_1_conv (Conv2D)   (None, 32, 32, 128)  32768       ['conv3_block1_preact_relu[0][0]'\n",
      "                                                                 ]                                \n",
      "                                                                                                  \n",
      " conv3_block1_1_bn (BatchNormal  (None, 32, 32, 128)  512        ['conv3_block1_1_conv[0][0]']    \n",
      " ization)                                                                                         \n",
      "                                                                                                  \n",
      " conv3_block1_1_relu (Activatio  (None, 32, 32, 128)  0          ['conv3_block1_1_bn[0][0]']      \n",
      " n)                                                                                               \n",
      "                                                                                                  \n",
      " conv3_block1_2_pad (ZeroPaddin  (None, 34, 34, 128)  0          ['conv3_block1_1_relu[0][0]']    \n",
      " g2D)                                                                                             \n",
      "                                                                                                  \n",
      " conv3_block1_2_conv (Conv2D)   (None, 32, 32, 128)  147456      ['conv3_block1_2_pad[0][0]']     \n",
      "                                                                                                  \n",
      " conv3_block1_2_bn (BatchNormal  (None, 32, 32, 128)  512        ['conv3_block1_2_conv[0][0]']    \n",
      " ization)                                                                                         \n",
      "                                                                                                  \n",
      " conv3_block1_2_relu (Activatio  (None, 32, 32, 128)  0          ['conv3_block1_2_bn[0][0]']      \n",
      " n)                                                                                               \n",
      "                                                                                                  \n",
      " conv3_block1_0_conv (Conv2D)   (None, 32, 32, 512)  131584      ['conv3_block1_preact_relu[0][0]'\n",
      "                                                                 ]                                \n",
      "                                                                                                  \n",
      " conv3_block1_3_conv (Conv2D)   (None, 32, 32, 512)  66048       ['conv3_block1_2_relu[0][0]']    \n",
      "                                                                                                  \n",
      " conv3_block1_out (Add)         (None, 32, 32, 512)  0           ['conv3_block1_0_conv[0][0]',    \n",
      "                                                                  'conv3_block1_3_conv[0][0]']    \n",
      "                                                                                                  \n",
      " conv3_block2_preact_bn (BatchN  (None, 32, 32, 512)  2048       ['conv3_block1_out[0][0]']       \n",
      " ormalization)                                                                                    \n",
      "                                                                                                  \n",
      " conv3_block2_preact_relu (Acti  (None, 32, 32, 512)  0          ['conv3_block2_preact_bn[0][0]'] \n",
      " vation)                                                                                          \n",
      "                                                                                                  \n",
      " conv3_block2_1_conv (Conv2D)   (None, 32, 32, 128)  65536       ['conv3_block2_preact_relu[0][0]'\n",
      "                                                                 ]                                \n",
      "                                                                                                  \n",
      " conv3_block2_1_bn (BatchNormal  (None, 32, 32, 128)  512        ['conv3_block2_1_conv[0][0]']    \n",
      " ization)                                                                                         \n",
      "                                                                                                  \n",
      " conv3_block2_1_relu (Activatio  (None, 32, 32, 128)  0          ['conv3_block2_1_bn[0][0]']      \n",
      " n)                                                                                               \n",
      "                                                                                                  \n",
      " conv3_block2_2_pad (ZeroPaddin  (None, 34, 34, 128)  0          ['conv3_block2_1_relu[0][0]']    \n",
      " g2D)                                                                                             \n"
     ]
    },
    {
     "name": "stdout",
     "output_type": "stream",
     "text": [
      "                                                                                                  \n",
      " conv3_block2_2_conv (Conv2D)   (None, 32, 32, 128)  147456      ['conv3_block2_2_pad[0][0]']     \n",
      "                                                                                                  \n",
      " conv3_block2_2_bn (BatchNormal  (None, 32, 32, 128)  512        ['conv3_block2_2_conv[0][0]']    \n",
      " ization)                                                                                         \n",
      "                                                                                                  \n",
      " conv3_block2_2_relu (Activatio  (None, 32, 32, 128)  0          ['conv3_block2_2_bn[0][0]']      \n",
      " n)                                                                                               \n",
      "                                                                                                  \n",
      " conv3_block2_3_conv (Conv2D)   (None, 32, 32, 512)  66048       ['conv3_block2_2_relu[0][0]']    \n",
      "                                                                                                  \n",
      " conv3_block2_out (Add)         (None, 32, 32, 512)  0           ['conv3_block1_out[0][0]',       \n",
      "                                                                  'conv3_block2_3_conv[0][0]']    \n",
      "                                                                                                  \n",
      " conv3_block3_preact_bn (BatchN  (None, 32, 32, 512)  2048       ['conv3_block2_out[0][0]']       \n",
      " ormalization)                                                                                    \n",
      "                                                                                                  \n",
      " conv3_block3_preact_relu (Acti  (None, 32, 32, 512)  0          ['conv3_block3_preact_bn[0][0]'] \n",
      " vation)                                                                                          \n",
      "                                                                                                  \n",
      " conv3_block3_1_conv (Conv2D)   (None, 32, 32, 128)  65536       ['conv3_block3_preact_relu[0][0]'\n",
      "                                                                 ]                                \n",
      "                                                                                                  \n",
      " conv3_block3_1_bn (BatchNormal  (None, 32, 32, 128)  512        ['conv3_block3_1_conv[0][0]']    \n",
      " ization)                                                                                         \n",
      "                                                                                                  \n",
      " conv3_block3_1_relu (Activatio  (None, 32, 32, 128)  0          ['conv3_block3_1_bn[0][0]']      \n",
      " n)                                                                                               \n",
      "                                                                                                  \n",
      " conv3_block3_2_pad (ZeroPaddin  (None, 34, 34, 128)  0          ['conv3_block3_1_relu[0][0]']    \n",
      " g2D)                                                                                             \n",
      "                                                                                                  \n",
      " conv3_block3_2_conv (Conv2D)   (None, 32, 32, 128)  147456      ['conv3_block3_2_pad[0][0]']     \n",
      "                                                                                                  \n",
      " conv3_block3_2_bn (BatchNormal  (None, 32, 32, 128)  512        ['conv3_block3_2_conv[0][0]']    \n",
      " ization)                                                                                         \n",
      "                                                                                                  \n",
      " conv3_block3_2_relu (Activatio  (None, 32, 32, 128)  0          ['conv3_block3_2_bn[0][0]']      \n",
      " n)                                                                                               \n",
      "                                                                                                  \n",
      " conv3_block3_3_conv (Conv2D)   (None, 32, 32, 512)  66048       ['conv3_block3_2_relu[0][0]']    \n",
      "                                                                                                  \n",
      " conv3_block3_out (Add)         (None, 32, 32, 512)  0           ['conv3_block2_out[0][0]',       \n",
      "                                                                  'conv3_block3_3_conv[0][0]']    \n",
      "                                                                                                  \n",
      " conv3_block4_preact_bn (BatchN  (None, 32, 32, 512)  2048       ['conv3_block3_out[0][0]']       \n",
      " ormalization)                                                                                    \n",
      "                                                                                                  \n",
      " conv3_block4_preact_relu (Acti  (None, 32, 32, 512)  0          ['conv3_block4_preact_bn[0][0]'] \n",
      " vation)                                                                                          \n",
      "                                                                                                  \n",
      " conv3_block4_1_conv (Conv2D)   (None, 32, 32, 128)  65536       ['conv3_block4_preact_relu[0][0]'\n",
      "                                                                 ]                                \n",
      "                                                                                                  \n",
      " conv3_block4_1_bn (BatchNormal  (None, 32, 32, 128)  512        ['conv3_block4_1_conv[0][0]']    \n",
      " ization)                                                                                         \n",
      "                                                                                                  \n",
      " conv3_block4_1_relu (Activatio  (None, 32, 32, 128)  0          ['conv3_block4_1_bn[0][0]']      \n",
      " n)                                                                                               \n",
      "                                                                                                  \n",
      " conv3_block4_2_pad (ZeroPaddin  (None, 34, 34, 128)  0          ['conv3_block4_1_relu[0][0]']    \n",
      " g2D)                                                                                             \n",
      "                                                                                                  \n",
      " conv3_block4_2_conv (Conv2D)   (None, 16, 16, 128)  147456      ['conv3_block4_2_pad[0][0]']     \n",
      "                                                                                                  \n",
      " conv3_block4_2_bn (BatchNormal  (None, 16, 16, 128)  512        ['conv3_block4_2_conv[0][0]']    \n",
      " ization)                                                                                         \n",
      "                                                                                                  \n",
      " conv3_block4_2_relu (Activatio  (None, 16, 16, 128)  0          ['conv3_block4_2_bn[0][0]']      \n",
      " n)                                                                                               \n",
      "                                                                                                  \n",
      " max_pooling2d_1 (MaxPooling2D)  (None, 16, 16, 512)  0          ['conv3_block3_out[0][0]']       \n",
      "                                                                                                  \n",
      " conv3_block4_3_conv (Conv2D)   (None, 16, 16, 512)  66048       ['conv3_block4_2_relu[0][0]']    \n",
      "                                                                                                  \n",
      " conv3_block4_out (Add)         (None, 16, 16, 512)  0           ['max_pooling2d_1[0][0]',        \n",
      "                                                                  'conv3_block4_3_conv[0][0]']    \n",
      "                                                                                                  \n",
      " conv4_block1_preact_bn (BatchN  (None, 16, 16, 512)  2048       ['conv3_block4_out[0][0]']       \n",
      " ormalization)                                                                                    \n",
      "                                                                                                  \n",
      " conv4_block1_preact_relu (Acti  (None, 16, 16, 512)  0          ['conv4_block1_preact_bn[0][0]'] \n",
      " vation)                                                                                          \n"
     ]
    },
    {
     "name": "stdout",
     "output_type": "stream",
     "text": [
      "                                                                                                  \n",
      " conv4_block1_1_conv (Conv2D)   (None, 16, 16, 256)  131072      ['conv4_block1_preact_relu[0][0]'\n",
      "                                                                 ]                                \n",
      "                                                                                                  \n",
      " conv4_block1_1_bn (BatchNormal  (None, 16, 16, 256)  1024       ['conv4_block1_1_conv[0][0]']    \n",
      " ization)                                                                                         \n",
      "                                                                                                  \n",
      " conv4_block1_1_relu (Activatio  (None, 16, 16, 256)  0          ['conv4_block1_1_bn[0][0]']      \n",
      " n)                                                                                               \n",
      "                                                                                                  \n",
      " conv4_block1_2_pad (ZeroPaddin  (None, 18, 18, 256)  0          ['conv4_block1_1_relu[0][0]']    \n",
      " g2D)                                                                                             \n",
      "                                                                                                  \n",
      " conv4_block1_2_conv (Conv2D)   (None, 16, 16, 256)  589824      ['conv4_block1_2_pad[0][0]']     \n",
      "                                                                                                  \n",
      " conv4_block1_2_bn (BatchNormal  (None, 16, 16, 256)  1024       ['conv4_block1_2_conv[0][0]']    \n",
      " ization)                                                                                         \n",
      "                                                                                                  \n",
      " conv4_block1_2_relu (Activatio  (None, 16, 16, 256)  0          ['conv4_block1_2_bn[0][0]']      \n",
      " n)                                                                                               \n",
      "                                                                                                  \n",
      " conv4_block1_0_conv (Conv2D)   (None, 16, 16, 1024  525312      ['conv4_block1_preact_relu[0][0]'\n",
      "                                )                                ]                                \n",
      "                                                                                                  \n",
      " conv4_block1_3_conv (Conv2D)   (None, 16, 16, 1024  263168      ['conv4_block1_2_relu[0][0]']    \n",
      "                                )                                                                 \n",
      "                                                                                                  \n",
      " conv4_block1_out (Add)         (None, 16, 16, 1024  0           ['conv4_block1_0_conv[0][0]',    \n",
      "                                )                                 'conv4_block1_3_conv[0][0]']    \n",
      "                                                                                                  \n",
      " conv4_block2_preact_bn (BatchN  (None, 16, 16, 1024  4096       ['conv4_block1_out[0][0]']       \n",
      " ormalization)                  )                                                                 \n",
      "                                                                                                  \n",
      " conv4_block2_preact_relu (Acti  (None, 16, 16, 1024  0          ['conv4_block2_preact_bn[0][0]'] \n",
      " vation)                        )                                                                 \n",
      "                                                                                                  \n",
      " conv4_block2_1_conv (Conv2D)   (None, 16, 16, 256)  262144      ['conv4_block2_preact_relu[0][0]'\n",
      "                                                                 ]                                \n",
      "                                                                                                  \n",
      " conv4_block2_1_bn (BatchNormal  (None, 16, 16, 256)  1024       ['conv4_block2_1_conv[0][0]']    \n",
      " ization)                                                                                         \n",
      "                                                                                                  \n",
      " conv4_block2_1_relu (Activatio  (None, 16, 16, 256)  0          ['conv4_block2_1_bn[0][0]']      \n",
      " n)                                                                                               \n",
      "                                                                                                  \n",
      " conv4_block2_2_pad (ZeroPaddin  (None, 18, 18, 256)  0          ['conv4_block2_1_relu[0][0]']    \n",
      " g2D)                                                                                             \n",
      "                                                                                                  \n",
      " conv4_block2_2_conv (Conv2D)   (None, 16, 16, 256)  589824      ['conv4_block2_2_pad[0][0]']     \n",
      "                                                                                                  \n",
      " conv4_block2_2_bn (BatchNormal  (None, 16, 16, 256)  1024       ['conv4_block2_2_conv[0][0]']    \n",
      " ization)                                                                                         \n",
      "                                                                                                  \n",
      " conv4_block2_2_relu (Activatio  (None, 16, 16, 256)  0          ['conv4_block2_2_bn[0][0]']      \n",
      " n)                                                                                               \n",
      "                                                                                                  \n",
      " conv4_block2_3_conv (Conv2D)   (None, 16, 16, 1024  263168      ['conv4_block2_2_relu[0][0]']    \n",
      "                                )                                                                 \n",
      "                                                                                                  \n",
      " conv4_block2_out (Add)         (None, 16, 16, 1024  0           ['conv4_block1_out[0][0]',       \n",
      "                                )                                 'conv4_block2_3_conv[0][0]']    \n",
      "                                                                                                  \n",
      " conv4_block3_preact_bn (BatchN  (None, 16, 16, 1024  4096       ['conv4_block2_out[0][0]']       \n",
      " ormalization)                  )                                                                 \n",
      "                                                                                                  \n",
      " conv4_block3_preact_relu (Acti  (None, 16, 16, 1024  0          ['conv4_block3_preact_bn[0][0]'] \n",
      " vation)                        )                                                                 \n",
      "                                                                                                  \n",
      " conv4_block3_1_conv (Conv2D)   (None, 16, 16, 256)  262144      ['conv4_block3_preact_relu[0][0]'\n",
      "                                                                 ]                                \n",
      "                                                                                                  \n",
      " conv4_block3_1_bn (BatchNormal  (None, 16, 16, 256)  1024       ['conv4_block3_1_conv[0][0]']    \n",
      " ization)                                                                                         \n",
      "                                                                                                  \n",
      " conv4_block3_1_relu (Activatio  (None, 16, 16, 256)  0          ['conv4_block3_1_bn[0][0]']      \n",
      " n)                                                                                               \n",
      "                                                                                                  \n",
      " conv4_block3_2_pad (ZeroPaddin  (None, 18, 18, 256)  0          ['conv4_block3_1_relu[0][0]']    \n",
      " g2D)                                                                                             \n",
      "                                                                                                  \n",
      " conv4_block3_2_conv (Conv2D)   (None, 16, 16, 256)  589824      ['conv4_block3_2_pad[0][0]']     \n",
      "                                                                                                  \n",
      " conv4_block3_2_bn (BatchNormal  (None, 16, 16, 256)  1024       ['conv4_block3_2_conv[0][0]']    \n"
     ]
    },
    {
     "name": "stdout",
     "output_type": "stream",
     "text": [
      " ization)                                                                                         \n",
      "                                                                                                  \n",
      " conv4_block3_2_relu (Activatio  (None, 16, 16, 256)  0          ['conv4_block3_2_bn[0][0]']      \n",
      " n)                                                                                               \n",
      "                                                                                                  \n",
      " conv4_block3_3_conv (Conv2D)   (None, 16, 16, 1024  263168      ['conv4_block3_2_relu[0][0]']    \n",
      "                                )                                                                 \n",
      "                                                                                                  \n",
      " conv4_block3_out (Add)         (None, 16, 16, 1024  0           ['conv4_block2_out[0][0]',       \n",
      "                                )                                 'conv4_block3_3_conv[0][0]']    \n",
      "                                                                                                  \n",
      " conv4_block4_preact_bn (BatchN  (None, 16, 16, 1024  4096       ['conv4_block3_out[0][0]']       \n",
      " ormalization)                  )                                                                 \n",
      "                                                                                                  \n",
      " conv4_block4_preact_relu (Acti  (None, 16, 16, 1024  0          ['conv4_block4_preact_bn[0][0]'] \n",
      " vation)                        )                                                                 \n",
      "                                                                                                  \n",
      " conv4_block4_1_conv (Conv2D)   (None, 16, 16, 256)  262144      ['conv4_block4_preact_relu[0][0]'\n",
      "                                                                 ]                                \n",
      "                                                                                                  \n",
      " conv4_block4_1_bn (BatchNormal  (None, 16, 16, 256)  1024       ['conv4_block4_1_conv[0][0]']    \n",
      " ization)                                                                                         \n",
      "                                                                                                  \n",
      " conv4_block4_1_relu (Activatio  (None, 16, 16, 256)  0          ['conv4_block4_1_bn[0][0]']      \n",
      " n)                                                                                               \n",
      "                                                                                                  \n",
      " conv4_block4_2_pad (ZeroPaddin  (None, 18, 18, 256)  0          ['conv4_block4_1_relu[0][0]']    \n",
      " g2D)                                                                                             \n",
      "                                                                                                  \n",
      " conv4_block4_2_conv (Conv2D)   (None, 16, 16, 256)  589824      ['conv4_block4_2_pad[0][0]']     \n",
      "                                                                                                  \n",
      " conv4_block4_2_bn (BatchNormal  (None, 16, 16, 256)  1024       ['conv4_block4_2_conv[0][0]']    \n",
      " ization)                                                                                         \n",
      "                                                                                                  \n",
      " conv4_block4_2_relu (Activatio  (None, 16, 16, 256)  0          ['conv4_block4_2_bn[0][0]']      \n",
      " n)                                                                                               \n",
      "                                                                                                  \n",
      " conv4_block4_3_conv (Conv2D)   (None, 16, 16, 1024  263168      ['conv4_block4_2_relu[0][0]']    \n",
      "                                )                                                                 \n",
      "                                                                                                  \n",
      " conv4_block4_out (Add)         (None, 16, 16, 1024  0           ['conv4_block3_out[0][0]',       \n",
      "                                )                                 'conv4_block4_3_conv[0][0]']    \n",
      "                                                                                                  \n",
      " conv4_block5_preact_bn (BatchN  (None, 16, 16, 1024  4096       ['conv4_block4_out[0][0]']       \n",
      " ormalization)                  )                                                                 \n",
      "                                                                                                  \n",
      " conv4_block5_preact_relu (Acti  (None, 16, 16, 1024  0          ['conv4_block5_preact_bn[0][0]'] \n",
      " vation)                        )                                                                 \n",
      "                                                                                                  \n",
      " conv4_block5_1_conv (Conv2D)   (None, 16, 16, 256)  262144      ['conv4_block5_preact_relu[0][0]'\n",
      "                                                                 ]                                \n",
      "                                                                                                  \n",
      " conv4_block5_1_bn (BatchNormal  (None, 16, 16, 256)  1024       ['conv4_block5_1_conv[0][0]']    \n",
      " ization)                                                                                         \n",
      "                                                                                                  \n",
      " conv4_block5_1_relu (Activatio  (None, 16, 16, 256)  0          ['conv4_block5_1_bn[0][0]']      \n",
      " n)                                                                                               \n",
      "                                                                                                  \n",
      " conv4_block5_2_pad (ZeroPaddin  (None, 18, 18, 256)  0          ['conv4_block5_1_relu[0][0]']    \n",
      " g2D)                                                                                             \n",
      "                                                                                                  \n",
      " conv4_block5_2_conv (Conv2D)   (None, 16, 16, 256)  589824      ['conv4_block5_2_pad[0][0]']     \n",
      "                                                                                                  \n",
      " conv4_block5_2_bn (BatchNormal  (None, 16, 16, 256)  1024       ['conv4_block5_2_conv[0][0]']    \n",
      " ization)                                                                                         \n",
      "                                                                                                  \n",
      " conv4_block5_2_relu (Activatio  (None, 16, 16, 256)  0          ['conv4_block5_2_bn[0][0]']      \n",
      " n)                                                                                               \n",
      "                                                                                                  \n",
      " conv4_block5_3_conv (Conv2D)   (None, 16, 16, 1024  263168      ['conv4_block5_2_relu[0][0]']    \n",
      "                                )                                                                 \n",
      "                                                                                                  \n",
      " conv4_block5_out (Add)         (None, 16, 16, 1024  0           ['conv4_block4_out[0][0]',       \n",
      "                                )                                 'conv4_block5_3_conv[0][0]']    \n",
      "                                                                                                  \n",
      " conv4_block6_preact_bn (BatchN  (None, 16, 16, 1024  4096       ['conv4_block5_out[0][0]']       \n",
      " ormalization)                  )                                                                 \n",
      "                                                                                                  \n",
      " conv4_block6_preact_relu (Acti  (None, 16, 16, 1024  0          ['conv4_block6_preact_bn[0][0]'] \n",
      " vation)                        )                                                                 \n",
      "                                                                                                  \n",
      " embedding (Conv2D)             (None, 16, 16, 768)  787200      ['conv4_block6_preact_relu[0][0]'\n",
      "                                                                 ]                                \n"
     ]
    },
    {
     "name": "stdout",
     "output_type": "stream",
     "text": [
      "                                                                                                  \n",
      " reshape (Reshape)              (None, 256, 768)     0           ['embedding[0][0]']              \n",
      "                                                                                                  \n",
      " Transformer/posembed_input (Ad  (None, 256, 768)    196608      ['reshape[0][0]']                \n",
      " dPositionEmbs)                                                                                   \n",
      "                                                                                                  \n",
      " dropout (Dropout)              (None, 256, 768)     0           ['Transformer/posembed_input[0][0\n",
      "                                                                 ]']                              \n",
      "                                                                                                  \n",
      " Transformer/encoderblock_0 (Tr  ((None, 256, 768),  7087872     ['dropout[0][0]']                \n",
      " ansformerBlock)                 (None, 12, None, N                                               \n",
      "                                one))                                                             \n",
      "                                                                                                  \n",
      " Transformer/encoderblock_1 (Tr  ((None, 256, 768),  7087872     ['Transformer/encoderblock_0[0][0\n",
      " ansformerBlock)                 (None, 12, None, N              ]']                              \n",
      "                                one))                                                             \n",
      "                                                                                                  \n",
      " Transformer/encoderblock_2 (Tr  ((None, 256, 768),  7087872     ['Transformer/encoderblock_1[0][0\n",
      " ansformerBlock)                 (None, 12, None, N              ]']                              \n",
      "                                one))                                                             \n",
      "                                                                                                  \n",
      " Transformer/encoderblock_3 (Tr  ((None, 256, 768),  7087872     ['Transformer/encoderblock_2[0][0\n",
      " ansformerBlock)                 (None, 12, None, N              ]']                              \n",
      "                                one))                                                             \n",
      "                                                                                                  \n",
      " Transformer/encoderblock_4 (Tr  ((None, 256, 768),  7087872     ['Transformer/encoderblock_3[0][0\n",
      " ansformerBlock)                 (None, 12, None, N              ]']                              \n",
      "                                one))                                                             \n",
      "                                                                                                  \n",
      " Transformer/encoderblock_5 (Tr  ((None, 256, 768),  7087872     ['Transformer/encoderblock_4[0][0\n",
      " ansformerBlock)                 (None, 12, None, N              ]']                              \n",
      "                                one))                                                             \n",
      "                                                                                                  \n",
      " Transformer/encoderblock_6 (Tr  ((None, 256, 768),  7087872     ['Transformer/encoderblock_5[0][0\n",
      " ansformerBlock)                 (None, 12, None, N              ]']                              \n",
      "                                one))                                                             \n",
      "                                                                                                  \n",
      " Transformer/encoderblock_7 (Tr  ((None, 256, 768),  7087872     ['Transformer/encoderblock_6[0][0\n",
      " ansformerBlock)                 (None, 12, None, N              ]']                              \n",
      "                                one))                                                             \n",
      "                                                                                                  \n",
      " Transformer/encoderblock_8 (Tr  ((None, 256, 768),  7087872     ['Transformer/encoderblock_7[0][0\n",
      " ansformerBlock)                 (None, 12, None, N              ]']                              \n",
      "                                one))                                                             \n",
      "                                                                                                  \n",
      " Transformer/encoderblock_9 (Tr  ((None, 256, 768),  7087872     ['Transformer/encoderblock_8[0][0\n",
      " ansformerBlock)                 (None, 12, None, N              ]']                              \n",
      "                                one))                                                             \n",
      "                                                                                                  \n",
      " Transformer/encoderblock_10 (T  ((None, 256, 768),  7087872     ['Transformer/encoderblock_9[0][0\n",
      " ransformerBlock)                (None, 12, None, N              ]']                              \n",
      "                                one))                                                             \n",
      "                                                                                                  \n",
      " Transformer/encoderblock_11 (T  ((None, 256, 768),  7087872     ['Transformer/encoderblock_10[0][\n",
      " ransformerBlock)                (None, 12, None, N              0]']                             \n",
      "                                one))                                                             \n",
      "                                                                                                  \n",
      " Transformer/encoder_norm (Laye  (None, 256, 768)    1536        ['Transformer/encoderblock_11[0][\n",
      " rNormalization)                                                 0]']                             \n",
      "                                                                                                  \n",
      " reshape_1 (Reshape)            (None, 16, 16, 768)  0           ['Transformer/encoder_norm[0][0]'\n",
      "                                                                 ]                                \n",
      "                                                                                                  \n",
      " decoder_cup (DecoderCup)       (None, 256, 256, 16  7390080     ['reshape_1[0][0]',              \n",
      "                                )                                 'conv3_block4_preact_relu[0][0]'\n",
      "                                                                 , 'conv2_block3_preact_relu[0][0]\n",
      "                                                                 ',                               \n",
      "                                                                  'conv1_conv[0][0]']             \n",
      "                                                                                                  \n",
      " seg_head (SegmentationHead)    (None, 256, 256, 1)  17          ['decoder_cup[0][0]']            \n",
      "                                                                                                  \n",
      "==================================================================================================\n",
      "Total params: 100,879,889\n",
      "Trainable params: 93,427,025\n",
      "Non-trainable params: 7,452,864\n",
      "__________________________________________________________________________________________________\n"
     ]
    },
    {
     "name": "stderr",
     "output_type": "stream",
     "text": [
      "/home/rabeea/anaconda3/envs/beea/lib/python3.10/site-packages/keras/optimizer_v2/gradient_descent.py:102: UserWarning: The `lr` argument is deprecated, use `learning_rate` instead.\n",
      "  super(SGD, self).__init__(name, **kwargs)\n"
     ]
    }
   ],
   "source": [
    "a = TransUNet()\n",
    "a.compile(optimizer = tf.keras.optimizers.SGD(lr = 1e-3), loss=dice_loss, metrics = [dice_coef])\n",
    "a.summary()"
   ]
  },
  {
   "cell_type": "code",
   "execution_count": 9,
   "id": "1c9c599a",
   "metadata": {},
   "outputs": [],
   "source": [
    "from tensorflow.keras.callbacks import TensorBoard\n",
    "from tensorflow.keras.callbacks import ModelCheckpoint\n",
    "filepath = r\"/home/rabeea/logs/transunet_spleen/4layers_lr3_f64_l12_350.h5\"\n",
    "checkpoint = ModelCheckpoint(filepath, monitor='val_dice_coef', save_best_only=True, mode='max')\n",
    "callbacks_list = [checkpoint]"
   ]
  },
  {
   "cell_type": "code",
   "execution_count": 13,
   "id": "93900cc8",
   "metadata": {},
   "outputs": [
    {
     "name": "stdout",
     "output_type": "stream",
     "text": [
      "Epoch 1/350\n"
     ]
    },
    {
     "name": "stderr",
     "output_type": "stream",
     "text": [
      "2023-08-22 23:27:13.051907: I tensorflow/stream_executor/cuda/cuda_dnn.cc:368] Loaded cuDNN version 8801\n",
      "2023-08-22 23:27:14.279198: I tensorflow/stream_executor/cuda/cuda_blas.cc:1786] TensorFloat-32 will be used for the matrix multiplication. This will only be logged once.\n"
     ]
    },
    {
     "name": "stdout",
     "output_type": "stream",
     "text": [
      "2463/2463 [==============================] - 291s 110ms/step - loss: 1.1276 - dice_coef: 0.0164 - val_loss: 1.1134 - val_dice_coef: 0.0305\n",
      "Epoch 2/350\n",
      "2463/2463 [==============================] - 264s 107ms/step - loss: 1.1195 - dice_coef: 0.0243 - val_loss: 1.1230 - val_dice_coef: 0.0207\n",
      "Epoch 3/350\n",
      "2463/2463 [==============================] - 261s 106ms/step - loss: 1.1080 - dice_coef: 0.0357 - val_loss: 1.1163 - val_dice_coef: 0.0273\n",
      "Epoch 4/350\n",
      "2463/2463 [==============================] - 256s 104ms/step - loss: 1.0954 - dice_coef: 0.0481 - val_loss: 1.1259 - val_dice_coef: 0.0176\n",
      "Epoch 5/350\n",
      "2463/2463 [==============================] - 261s 106ms/step - loss: 1.0762 - dice_coef: 0.0672 - val_loss: 1.0844 - val_dice_coef: 0.0589\n",
      "Epoch 6/350\n",
      "2463/2463 [==============================] - 261s 106ms/step - loss: 1.0521 - dice_coef: 0.0912 - val_loss: 1.0537 - val_dice_coef: 0.0895\n",
      "Epoch 7/350\n",
      "2463/2463 [==============================] - 258s 105ms/step - loss: 1.0290 - dice_coef: 0.1142 - val_loss: 1.0664 - val_dice_coef: 0.0767\n",
      "Epoch 8/350\n",
      "2463/2463 [==============================] - 271s 110ms/step - loss: 1.0031 - dice_coef: 0.1400 - val_loss: 0.9874 - val_dice_coef: 0.1556\n",
      "Epoch 9/350\n",
      "2463/2463 [==============================] - 256s 104ms/step - loss: 0.9749 - dice_coef: 0.1680 - val_loss: 0.9946 - val_dice_coef: 0.1483\n",
      "Epoch 10/350\n",
      "2463/2463 [==============================] - 258s 105ms/step - loss: 0.9636 - dice_coef: 0.1792 - val_loss: 0.9947 - val_dice_coef: 0.1481\n",
      "Epoch 11/350\n",
      "2463/2463 [==============================] - 271s 110ms/step - loss: 0.9554 - dice_coef: 0.1873 - val_loss: 0.9874 - val_dice_coef: 0.1553\n",
      "Epoch 12/350\n",
      "2463/2463 [==============================] - 267s 108ms/step - loss: 0.9487 - dice_coef: 0.1940 - val_loss: 1.0062 - val_dice_coef: 0.1364\n",
      "Epoch 13/350\n",
      "2463/2463 [==============================] - 276s 112ms/step - loss: 0.9426 - dice_coef: 0.1999 - val_loss: 0.9661 - val_dice_coef: 0.1764\n",
      "Epoch 14/350\n",
      "2463/2463 [==============================] - 271s 110ms/step - loss: 0.9347 - dice_coef: 0.2077 - val_loss: 1.0010 - val_dice_coef: 0.1413\n",
      "Epoch 15/350\n",
      "2463/2463 [==============================] - 257s 105ms/step - loss: 0.9306 - dice_coef: 0.2116 - val_loss: 0.9576 - val_dice_coef: 0.1846\n",
      "Epoch 16/350\n",
      "2463/2463 [==============================] - 264s 107ms/step - loss: 0.9227 - dice_coef: 0.2195 - val_loss: 0.9370 - val_dice_coef: 0.2051\n",
      "Epoch 17/350\n",
      "2463/2463 [==============================] - 273s 111ms/step - loss: 0.8836 - dice_coef: 0.2585 - val_loss: 0.6851 - val_dice_coef: 0.4570\n",
      "Epoch 18/350\n",
      "2463/2463 [==============================] - 278s 113ms/step - loss: 0.4488 - dice_coef: 0.6935 - val_loss: 0.4824 - val_dice_coef: 0.6599\n",
      "Epoch 19/350\n",
      "2463/2463 [==============================] - 259s 105ms/step - loss: 0.4184 - dice_coef: 0.7237 - val_loss: 0.4762 - val_dice_coef: 0.6659\n",
      "Epoch 20/350\n",
      "2463/2463 [==============================] - 278s 113ms/step - loss: 0.4154 - dice_coef: 0.7266 - val_loss: 0.4749 - val_dice_coef: 0.6671\n",
      "Epoch 21/350\n",
      "2463/2463 [==============================] - 273s 111ms/step - loss: 0.4142 - dice_coef: 0.7278 - val_loss: 0.4728 - val_dice_coef: 0.6691\n",
      "Epoch 22/350\n",
      "2463/2463 [==============================] - 259s 105ms/step - loss: 0.4134 - dice_coef: 0.7284 - val_loss: 0.4722 - val_dice_coef: 0.6695\n",
      "Epoch 23/350\n",
      "2463/2463 [==============================] - 266s 108ms/step - loss: 0.4133 - dice_coef: 0.7283 - val_loss: 0.4715 - val_dice_coef: 0.6701\n",
      "Epoch 24/350\n",
      "2463/2463 [==============================] - 262s 106ms/step - loss: 0.4126 - dice_coef: 0.7289 - val_loss: 0.4711 - val_dice_coef: 0.6704\n",
      "Epoch 25/350\n",
      "2463/2463 [==============================] - 259s 105ms/step - loss: 0.4123 - dice_coef: 0.7291 - val_loss: 0.4709 - val_dice_coef: 0.6705\n",
      "Epoch 26/350\n",
      "2463/2463 [==============================] - 261s 106ms/step - loss: 0.4120 - dice_coef: 0.7293 - val_loss: 0.4706 - val_dice_coef: 0.6706\n",
      "Epoch 27/350\n",
      "2463/2463 [==============================] - 269s 109ms/step - loss: 0.4118 - dice_coef: 0.7294 - val_loss: 0.4704 - val_dice_coef: 0.6707\n",
      "Epoch 28/350\n",
      "2463/2463 [==============================] - 256s 104ms/step - loss: 0.4115 - dice_coef: 0.7295 - val_loss: 0.4702 - val_dice_coef: 0.6708\n",
      "Epoch 29/350\n",
      "2463/2463 [==============================] - 259s 105ms/step - loss: 0.4113 - dice_coef: 0.7296 - val_loss: 0.4700 - val_dice_coef: 0.6709\n",
      "Epoch 30/350\n",
      "2463/2463 [==============================] - 267s 108ms/step - loss: 0.4111 - dice_coef: 0.7296 - val_loss: 0.4698 - val_dice_coef: 0.6709\n",
      "Epoch 31/350\n",
      "2463/2463 [==============================] - 275s 112ms/step - loss: 0.4109 - dice_coef: 0.7297 - val_loss: 0.4696 - val_dice_coef: 0.6709\n",
      "Epoch 32/350\n",
      "2463/2463 [==============================] - 263s 107ms/step - loss: 0.4108 - dice_coef: 0.7297 - val_loss: 0.4694 - val_dice_coef: 0.6710\n",
      "Epoch 33/350\n",
      "2463/2463 [==============================] - 273s 111ms/step - loss: 0.4106 - dice_coef: 0.7298 - val_loss: 0.4693 - val_dice_coef: 0.6710\n",
      "Epoch 34/350\n",
      "2463/2463 [==============================] - 268s 109ms/step - loss: 0.4104 - dice_coef: 0.7298 - val_loss: 0.4691 - val_dice_coef: 0.6710\n",
      "Epoch 35/350\n",
      "2463/2463 [==============================] - 269s 109ms/step - loss: 0.4103 - dice_coef: 0.7298 - val_loss: 0.4690 - val_dice_coef: 0.6711\n",
      "Epoch 36/350\n",
      "2463/2463 [==============================] - 267s 108ms/step - loss: 0.4101 - dice_coef: 0.7299 - val_loss: 0.4688 - val_dice_coef: 0.6711\n",
      "Epoch 37/350\n",
      "2463/2463 [==============================] - 264s 107ms/step - loss: 0.4099 - dice_coef: 0.7299 - val_loss: 0.4686 - val_dice_coef: 0.6711\n",
      "Epoch 38/350\n",
      "2463/2463 [==============================] - 269s 109ms/step - loss: 0.4098 - dice_coef: 0.7299 - val_loss: 0.4685 - val_dice_coef: 0.6711\n",
      "Epoch 39/350\n",
      "2463/2463 [==============================] - 265s 108ms/step - loss: 0.4096 - dice_coef: 0.7299 - val_loss: 0.4683 - val_dice_coef: 0.6712\n",
      "Epoch 40/350\n",
      "2463/2463 [==============================] - 269s 109ms/step - loss: 0.4095 - dice_coef: 0.7299 - val_loss: 0.4682 - val_dice_coef: 0.6712\n",
      "Epoch 41/350\n",
      "2463/2463 [==============================] - 278s 113ms/step - loss: 0.4093 - dice_coef: 0.7300 - val_loss: 0.4680 - val_dice_coef: 0.6712\n",
      "Epoch 42/350\n",
      "2463/2463 [==============================] - 269s 109ms/step - loss: 0.4092 - dice_coef: 0.7300 - val_loss: 0.4679 - val_dice_coef: 0.6712\n",
      "Epoch 43/350\n",
      "2463/2463 [==============================] - 269s 109ms/step - loss: 0.4090 - dice_coef: 0.7300 - val_loss: 0.4677 - val_dice_coef: 0.6712\n",
      "Epoch 44/350\n",
      "2463/2463 [==============================] - 274s 111ms/step - loss: 0.4089 - dice_coef: 0.7300 - val_loss: 0.4676 - val_dice_coef: 0.6712\n",
      "Epoch 45/350\n",
      "2463/2463 [==============================] - 263s 107ms/step - loss: 0.4087 - dice_coef: 0.7300 - val_loss: 0.4674 - val_dice_coef: 0.6712\n",
      "Epoch 46/350\n",
      "2463/2463 [==============================] - 263s 107ms/step - loss: 0.4086 - dice_coef: 0.7300 - val_loss: 0.4673 - val_dice_coef: 0.6713\n",
      "Epoch 47/350\n",
      "2463/2463 [==============================] - 270s 110ms/step - loss: 0.4085 - dice_coef: 0.7300 - val_loss: 0.4672 - val_dice_coef: 0.6713\n",
      "Epoch 48/350\n",
      "2463/2463 [==============================] - 266s 108ms/step - loss: 0.4083 - dice_coef: 0.7300 - val_loss: 0.4670 - val_dice_coef: 0.6713\n",
      "Epoch 49/350\n",
      "2463/2463 [==============================] - 271s 110ms/step - loss: 0.4082 - dice_coef: 0.7301 - val_loss: 0.4669 - val_dice_coef: 0.6713\n",
      "Epoch 50/350\n",
      "2463/2463 [==============================] - 265s 107ms/step - loss: 0.4080 - dice_coef: 0.7301 - val_loss: 0.4667 - val_dice_coef: 0.6713\n",
      "Epoch 51/350\n",
      "2463/2463 [==============================] - 268s 109ms/step - loss: 0.4079 - dice_coef: 0.7301 - val_loss: 0.4666 - val_dice_coef: 0.6713\n",
      "Epoch 52/350\n",
      "2463/2463 [==============================] - 264s 107ms/step - loss: 0.4077 - dice_coef: 0.7301 - val_loss: 0.4665 - val_dice_coef: 0.6713\n",
      "Epoch 53/350\n",
      "2463/2463 [==============================] - 273s 111ms/step - loss: 0.4076 - dice_coef: 0.7301 - val_loss: 0.4663 - val_dice_coef: 0.6713\n",
      "Epoch 54/350\n",
      "2463/2463 [==============================] - 273s 111ms/step - loss: 0.4075 - dice_coef: 0.7301 - val_loss: 0.4662 - val_dice_coef: 0.6713\n",
      "Epoch 55/350\n"
     ]
    },
    {
     "name": "stdout",
     "output_type": "stream",
     "text": [
      "2463/2463 [==============================] - 263s 107ms/step - loss: 0.4073 - dice_coef: 0.7301 - val_loss: 0.4660 - val_dice_coef: 0.6713\n",
      "Epoch 56/350\n",
      "2463/2463 [==============================] - 260s 106ms/step - loss: 0.4072 - dice_coef: 0.7301 - val_loss: 0.4659 - val_dice_coef: 0.6713\n",
      "Epoch 57/350\n",
      "2463/2463 [==============================] - 258s 105ms/step - loss: 0.4070 - dice_coef: 0.7301 - val_loss: 0.4658 - val_dice_coef: 0.6713\n",
      "Epoch 58/350\n",
      "2463/2463 [==============================] - 271s 110ms/step - loss: 0.4069 - dice_coef: 0.7301 - val_loss: 0.4656 - val_dice_coef: 0.6713\n",
      "Epoch 59/350\n",
      "2463/2463 [==============================] - 263s 107ms/step - loss: 0.4068 - dice_coef: 0.7301 - val_loss: 0.4655 - val_dice_coef: 0.6713\n",
      "Epoch 60/350\n",
      "2463/2463 [==============================] - 269s 109ms/step - loss: 0.4066 - dice_coef: 0.7301 - val_loss: 0.4653 - val_dice_coef: 0.6713\n",
      "Epoch 61/350\n",
      "2463/2463 [==============================] - 264s 107ms/step - loss: 0.4065 - dice_coef: 0.7301 - val_loss: 0.4652 - val_dice_coef: 0.6713\n",
      "Epoch 62/350\n",
      "2463/2463 [==============================] - 268s 109ms/step - loss: 0.4063 - dice_coef: 0.7301 - val_loss: 0.4651 - val_dice_coef: 0.6713\n",
      "Epoch 63/350\n",
      "2463/2463 [==============================] - 274s 111ms/step - loss: 0.4062 - dice_coef: 0.7302 - val_loss: 0.4649 - val_dice_coef: 0.6713\n",
      "Epoch 64/350\n",
      "2463/2463 [==============================] - 267s 108ms/step - loss: 0.4060 - dice_coef: 0.7302 - val_loss: 0.4648 - val_dice_coef: 0.6714\n",
      "Epoch 65/350\n",
      "2463/2463 [==============================] - 267s 108ms/step - loss: 0.4059 - dice_coef: 0.7302 - val_loss: 0.4647 - val_dice_coef: 0.6713\n",
      "Epoch 66/350\n",
      "2463/2463 [==============================] - 262s 107ms/step - loss: 0.4057 - dice_coef: 0.7302 - val_loss: 0.4646 - val_dice_coef: 0.6713\n",
      "Epoch 67/350\n",
      "2463/2463 [==============================] - 267s 108ms/step - loss: 0.4055 - dice_coef: 0.7303 - val_loss: 0.4646 - val_dice_coef: 0.6711\n",
      "Epoch 68/350\n",
      "2463/2463 [==============================] - 256s 104ms/step - loss: 0.4053 - dice_coef: 0.7304 - val_loss: 0.4646 - val_dice_coef: 0.6711\n",
      "Epoch 69/350\n",
      "2463/2463 [==============================] - 260s 105ms/step - loss: 0.4051 - dice_coef: 0.7305 - val_loss: 0.4647 - val_dice_coef: 0.6708\n",
      "Epoch 70/350\n",
      "2463/2463 [==============================] - 266s 108ms/step - loss: 0.4050 - dice_coef: 0.7304 - val_loss: 0.4640 - val_dice_coef: 0.6713\n",
      "Epoch 71/350\n",
      "2463/2463 [==============================] - 268s 109ms/step - loss: 0.4049 - dice_coef: 0.7303 - val_loss: 0.4640 - val_dice_coef: 0.6712\n",
      "Epoch 72/350\n",
      "2463/2463 [==============================] - 268s 109ms/step - loss: 0.4048 - dice_coef: 0.7304 - val_loss: 0.4639 - val_dice_coef: 0.6712\n",
      "Epoch 73/350\n",
      "2463/2463 [==============================] - 271s 110ms/step - loss: 0.4048 - dice_coef: 0.7302 - val_loss: 0.4638 - val_dice_coef: 0.6712\n",
      "Epoch 74/350\n",
      "2463/2463 [==============================] - 259s 105ms/step - loss: 0.4046 - dice_coef: 0.7303 - val_loss: 0.4636 - val_dice_coef: 0.6712\n",
      "Epoch 75/350\n",
      " 306/2463 [==>...........................] - ETA: 3:28 - loss: 0.4087 - dice_coef: 0.7261"
     ]
    },
    {
     "name": "stderr",
     "output_type": "stream",
     "text": [
      "IOPub message rate exceeded.\n",
      "The notebook server will temporarily stop sending output\n",
      "to the client in order to avoid crashing it.\n",
      "To change this limit, set the config variable\n",
      "`--NotebookApp.iopub_msg_rate_limit`.\n",
      "\n",
      "Current values:\n",
      "NotebookApp.iopub_msg_rate_limit=1000.0 (msgs/sec)\n",
      "NotebookApp.rate_limit_window=3.0 (secs)\n",
      "\n"
     ]
    },
    {
     "name": "stdout",
     "output_type": "stream",
     "text": [
      "2463/2463 [==============================] - 265s 108ms/step - loss: 0.4035 - dice_coef: 0.7308 - val_loss: 0.4631 - val_dice_coef: 0.6711\n",
      "Epoch 80/350\n",
      "1058/2463 [===========>..................] - ETA: 2:16 - loss: 0.4048 - dice_coef: 0.7294"
     ]
    },
    {
     "name": "stderr",
     "output_type": "stream",
     "text": [
      "IOPub message rate exceeded.\n",
      "The notebook server will temporarily stop sending output\n",
      "to the client in order to avoid crashing it.\n",
      "To change this limit, set the config variable\n",
      "`--NotebookApp.iopub_msg_rate_limit`.\n",
      "\n",
      "Current values:\n",
      "NotebookApp.iopub_msg_rate_limit=1000.0 (msgs/sec)\n",
      "NotebookApp.rate_limit_window=3.0 (secs)\n",
      "\n"
     ]
    },
    {
     "name": "stdout",
     "output_type": "stream",
     "text": [
      "2463/2463 [==============================] - 274s 111ms/step - loss: 0.4027 - dice_coef: 0.7309 - val_loss: 0.8538 - val_dice_coef: 0.2797\n",
      "Epoch 85/350\n",
      "1561/2463 [==================>...........] - ETA: 1:30 - loss: 0.4050 - dice_coef: 0.7285"
     ]
    },
    {
     "name": "stderr",
     "output_type": "stream",
     "text": [
      "IOPub message rate exceeded.\n",
      "The notebook server will temporarily stop sending output\n",
      "to the client in order to avoid crashing it.\n",
      "To change this limit, set the config variable\n",
      "`--NotebookApp.iopub_msg_rate_limit`.\n",
      "\n",
      "Current values:\n",
      "NotebookApp.iopub_msg_rate_limit=1000.0 (msgs/sec)\n",
      "NotebookApp.rate_limit_window=3.0 (secs)\n",
      "\n"
     ]
    },
    {
     "name": "stdout",
     "output_type": "stream",
     "text": [
      "2463/2463 [==============================] - 274s 111ms/step - loss: 0.4029 - dice_coef: 0.7302 - val_loss: 0.4618 - val_dice_coef: 0.6712\n",
      "Epoch 89/350\n",
      " 719/2463 [=======>......................] - ETA: 2:49 - loss: 0.4064 - dice_coef: 0.7266"
     ]
    },
    {
     "name": "stderr",
     "output_type": "stream",
     "text": [
      "IOPub message rate exceeded.\n",
      "The notebook server will temporarily stop sending output\n",
      "to the client in order to avoid crashing it.\n",
      "To change this limit, set the config variable\n",
      "`--NotebookApp.iopub_msg_rate_limit`.\n",
      "\n",
      "Current values:\n",
      "NotebookApp.iopub_msg_rate_limit=1000.0 (msgs/sec)\n",
      "NotebookApp.rate_limit_window=3.0 (secs)\n",
      "\n"
     ]
    },
    {
     "name": "stdout",
     "output_type": "stream",
     "text": [
      "2312/2463 [===========================>..] - ETA: 15s - loss: 0.4021 - dice_coef: 0.7307"
     ]
    },
    {
     "name": "stderr",
     "output_type": "stream",
     "text": [
      "IOPub message rate exceeded.\n",
      "The notebook server will temporarily stop sending output\n",
      "to the client in order to avoid crashing it.\n",
      "To change this limit, set the config variable\n",
      "`--NotebookApp.iopub_msg_rate_limit`.\n",
      "\n",
      "Current values:\n",
      "NotebookApp.iopub_msg_rate_limit=1000.0 (msgs/sec)\n",
      "NotebookApp.rate_limit_window=3.0 (secs)\n",
      "\n"
     ]
    },
    {
     "name": "stdout",
     "output_type": "stream",
     "text": [
      "1535/2463 [=================>............] - ETA: 1:36 - loss: 0.4170 - dice_coef: 0.7153"
     ]
    },
    {
     "name": "stderr",
     "output_type": "stream",
     "text": [
      "IOPub message rate exceeded.\n",
      "The notebook server will temporarily stop sending output\n",
      "to the client in order to avoid crashing it.\n",
      "To change this limit, set the config variable\n",
      "`--NotebookApp.iopub_msg_rate_limit`.\n",
      "\n",
      "Current values:\n",
      "NotebookApp.iopub_msg_rate_limit=1000.0 (msgs/sec)\n",
      "NotebookApp.rate_limit_window=3.0 (secs)\n",
      "\n"
     ]
    },
    {
     "name": "stdout",
     "output_type": "stream",
     "text": [
      "2463/2463 [==============================] - 263s 107ms/step - loss: 0.4020 - dice_coef: 0.7302 - val_loss: 0.4608 - val_dice_coef: 0.6714\n",
      "Epoch 96/350\n",
      " 652/2463 [======>.......................] - ETA: 3:03 - loss: 0.4152 - dice_coef: 0.7169"
     ]
    },
    {
     "name": "stderr",
     "output_type": "stream",
     "text": [
      "IOPub message rate exceeded.\n",
      "The notebook server will temporarily stop sending output\n",
      "to the client in order to avoid crashing it.\n",
      "To change this limit, set the config variable\n",
      "`--NotebookApp.iopub_msg_rate_limit`.\n",
      "\n",
      "Current values:\n",
      "NotebookApp.iopub_msg_rate_limit=1000.0 (msgs/sec)\n",
      "NotebookApp.rate_limit_window=3.0 (secs)\n",
      "\n"
     ]
    },
    {
     "name": "stdout",
     "output_type": "stream",
     "text": [
      "2356/2463 [===========================>..] - ETA: 10s - loss: 0.4015 - dice_coef: 0.7302"
     ]
    },
    {
     "name": "stderr",
     "output_type": "stream",
     "text": [
      "IOPub message rate exceeded.\n",
      "The notebook server will temporarily stop sending output\n",
      "to the client in order to avoid crashing it.\n",
      "To change this limit, set the config variable\n",
      "`--NotebookApp.iopub_msg_rate_limit`.\n",
      "\n",
      "Current values:\n",
      "NotebookApp.iopub_msg_rate_limit=1000.0 (msgs/sec)\n",
      "NotebookApp.rate_limit_window=3.0 (secs)\n",
      "\n"
     ]
    },
    {
     "name": "stdout",
     "output_type": "stream",
     "text": [
      "2463/2463 [==============================] - 264s 107ms/step - loss: 0.4013 - dice_coef: 0.7302 - val_loss: 0.4600 - val_dice_coef: 0.6715\n",
      "Epoch 101/350\n",
      "1258/2463 [==============>...............] - ETA: 2:00 - loss: 0.3931 - dice_coef: 0.7383"
     ]
    },
    {
     "name": "stderr",
     "output_type": "stream",
     "text": [
      "IOPub message rate exceeded.\n",
      "The notebook server will temporarily stop sending output\n",
      "to the client in order to avoid crashing it.\n",
      "To change this limit, set the config variable\n",
      "`--NotebookApp.iopub_msg_rate_limit`.\n",
      "\n",
      "Current values:\n",
      "NotebookApp.iopub_msg_rate_limit=1000.0 (msgs/sec)\n",
      "NotebookApp.rate_limit_window=3.0 (secs)\n",
      "\n"
     ]
    },
    {
     "name": "stdout",
     "output_type": "stream",
     "text": [
      "2463/2463 [==============================] - 263s 107ms/step - loss: 0.4008 - dice_coef: 0.7302 - val_loss: 0.4596 - val_dice_coef: 0.6714\n",
      "Epoch 105/350\n",
      " 273/2463 [==>...........................] - ETA: 3:45 - loss: 0.3943 - dice_coef: 0.7367"
     ]
    },
    {
     "name": "stderr",
     "output_type": "stream",
     "text": [
      "IOPub message rate exceeded.\n",
      "The notebook server will temporarily stop sending output\n",
      "to the client in order to avoid crashing it.\n",
      "To change this limit, set the config variable\n",
      "`--NotebookApp.iopub_msg_rate_limit`.\n",
      "\n",
      "Current values:\n",
      "NotebookApp.iopub_msg_rate_limit=1000.0 (msgs/sec)\n",
      "NotebookApp.rate_limit_window=3.0 (secs)\n",
      "\n"
     ]
    },
    {
     "name": "stdout",
     "output_type": "stream",
     "text": [
      "2463/2463 [==============================] - 267s 108ms/step - loss: 0.4007 - dice_coef: 0.7302 - val_loss: 0.4594 - val_dice_coef: 0.6714\n",
      "Epoch 106/350\n",
      "1629/2463 [==================>...........] - ETA: 1:21 - loss: 0.4089 - dice_coef: 0.7219"
     ]
    },
    {
     "name": "stderr",
     "output_type": "stream",
     "text": [
      "IOPub message rate exceeded.\n",
      "The notebook server will temporarily stop sending output\n",
      "to the client in order to avoid crashing it.\n",
      "To change this limit, set the config variable\n",
      "`--NotebookApp.iopub_msg_rate_limit`.\n",
      "\n",
      "Current values:\n",
      "NotebookApp.iopub_msg_rate_limit=1000.0 (msgs/sec)\n",
      "NotebookApp.rate_limit_window=3.0 (secs)\n",
      "\n"
     ]
    },
    {
     "name": "stdout",
     "output_type": "stream",
     "text": [
      "2463/2463 [==============================] - 264s 107ms/step - loss: 0.3999 - dice_coef: 0.7305 - val_loss: 0.4589 - val_dice_coef: 0.6715\n",
      "Epoch 110/350\n",
      " 649/2463 [======>.......................] - ETA: 3:09 - loss: 0.3775 - dice_coef: 0.7528"
     ]
    },
    {
     "name": "stderr",
     "output_type": "stream",
     "text": [
      "IOPub message rate exceeded.\n",
      "The notebook server will temporarily stop sending output\n",
      "to the client in order to avoid crashing it.\n",
      "To change this limit, set the config variable\n",
      "`--NotebookApp.iopub_msg_rate_limit`.\n",
      "\n",
      "Current values:\n",
      "NotebookApp.iopub_msg_rate_limit=1000.0 (msgs/sec)\n",
      "NotebookApp.rate_limit_window=3.0 (secs)\n",
      "\n"
     ]
    },
    {
     "name": "stdout",
     "output_type": "stream",
     "text": [
      "2105/2463 [========================>.....] - ETA: 34s - loss: 0.3996 - dice_coef: 0.7306"
     ]
    },
    {
     "name": "stderr",
     "output_type": "stream",
     "text": [
      "IOPub message rate exceeded.\n",
      "The notebook server will temporarily stop sending output\n",
      "to the client in order to avoid crashing it.\n",
      "To change this limit, set the config variable\n",
      "`--NotebookApp.iopub_msg_rate_limit`.\n",
      "\n",
      "Current values:\n",
      "NotebookApp.iopub_msg_rate_limit=1000.0 (msgs/sec)\n",
      "NotebookApp.rate_limit_window=3.0 (secs)\n",
      "\n"
     ]
    },
    {
     "name": "stdout",
     "output_type": "stream",
     "text": [
      "2463/2463 [==============================] - 265s 108ms/step - loss: 0.3996 - dice_coef: 0.7302 - val_loss: 0.4583 - val_dice_coef: 0.6714\n",
      "Epoch 115/350\n",
      " 936/2463 [==========>...................] - ETA: 2:35 - loss: 0.4025 - dice_coef: 0.7271"
     ]
    },
    {
     "name": "stderr",
     "output_type": "stream",
     "text": [
      "IOPub message rate exceeded.\n",
      "The notebook server will temporarily stop sending output\n",
      "to the client in order to avoid crashing it.\n",
      "To change this limit, set the config variable\n",
      "`--NotebookApp.iopub_msg_rate_limit`.\n",
      "\n",
      "Current values:\n",
      "NotebookApp.iopub_msg_rate_limit=1000.0 (msgs/sec)\n",
      "NotebookApp.rate_limit_window=3.0 (secs)\n",
      "\n"
     ]
    },
    {
     "name": "stdout",
     "output_type": "stream",
     "text": [
      "2463/2463 [==============================] - 260s 105ms/step - loss: 0.3993 - dice_coef: 0.7302 - val_loss: 0.4580 - val_dice_coef: 0.6714\n",
      "Epoch 117/350\n",
      " 203/2463 [=>............................] - ETA: 3:39 - loss: 0.3703 - dice_coef: 0.7592"
     ]
    },
    {
     "name": "stderr",
     "output_type": "stream",
     "text": [
      "IOPub message rate exceeded.\n",
      "The notebook server will temporarily stop sending output\n",
      "to the client in order to avoid crashing it.\n",
      "To change this limit, set the config variable\n",
      "`--NotebookApp.iopub_msg_rate_limit`.\n",
      "\n",
      "Current values:\n",
      "NotebookApp.iopub_msg_rate_limit=1000.0 (msgs/sec)\n",
      "NotebookApp.rate_limit_window=3.0 (secs)\n",
      "\n"
     ]
    },
    {
     "name": "stdout",
     "output_type": "stream",
     "text": [
      "1469/2463 [================>.............] - ETA: 1:40 - loss: 0.3993 - dice_coef: 0.7298"
     ]
    },
    {
     "name": "stderr",
     "output_type": "stream",
     "text": [
      "IOPub message rate exceeded.\n",
      "The notebook server will temporarily stop sending output\n",
      "to the client in order to avoid crashing it.\n",
      "To change this limit, set the config variable\n",
      "`--NotebookApp.iopub_msg_rate_limit`.\n",
      "\n",
      "Current values:\n",
      "NotebookApp.iopub_msg_rate_limit=1000.0 (msgs/sec)\n",
      "NotebookApp.rate_limit_window=3.0 (secs)\n",
      "\n"
     ]
    },
    {
     "name": "stdout",
     "output_type": "stream",
     "text": [
      "2463/2463 [==============================] - 270s 110ms/step - loss: 0.3986 - dice_coef: 0.7303 - val_loss: 0.4573 - val_dice_coef: 0.6715\n",
      "Epoch 122/350\n",
      " 683/2463 [=======>......................] - ETA: 3:01 - loss: 0.3886 - dice_coef: 0.7402"
     ]
    },
    {
     "name": "stderr",
     "output_type": "stream",
     "text": [
      "IOPub message rate exceeded.\n",
      "The notebook server will temporarily stop sending output\n",
      "to the client in order to avoid crashing it.\n",
      "To change this limit, set the config variable\n",
      "`--NotebookApp.iopub_msg_rate_limit`.\n",
      "\n",
      "Current values:\n",
      "NotebookApp.iopub_msg_rate_limit=1000.0 (msgs/sec)\n",
      "NotebookApp.rate_limit_window=3.0 (secs)\n",
      "\n"
     ]
    },
    {
     "name": "stdout",
     "output_type": "stream",
     "text": [
      "1985/2463 [=======================>......] - ETA: 47s - loss: 0.3953 - dice_coef: 0.7332"
     ]
    },
    {
     "name": "stderr",
     "output_type": "stream",
     "text": [
      "IOPub message rate exceeded.\n",
      "The notebook server will temporarily stop sending output\n",
      "to the client in order to avoid crashing it.\n",
      "To change this limit, set the config variable\n",
      "`--NotebookApp.iopub_msg_rate_limit`.\n",
      "\n",
      "Current values:\n",
      "NotebookApp.iopub_msg_rate_limit=1000.0 (msgs/sec)\n",
      "NotebookApp.rate_limit_window=3.0 (secs)\n",
      "\n"
     ]
    },
    {
     "name": "stdout",
     "output_type": "stream",
     "text": [
      "2463/2463 [==============================] - 263s 107ms/step - loss: 0.3980 - dice_coef: 0.7302 - val_loss: 0.4567 - val_dice_coef: 0.6714\n",
      "Epoch 127/350\n",
      "1251/2463 [==============>...............] - ETA: 1:59 - loss: 0.4105 - dice_coef: 0.7177"
     ]
    },
    {
     "name": "stderr",
     "output_type": "stream",
     "text": [
      "IOPub message rate exceeded.\n",
      "The notebook server will temporarily stop sending output\n",
      "to the client in order to avoid crashing it.\n",
      "To change this limit, set the config variable\n",
      "`--NotebookApp.iopub_msg_rate_limit`.\n",
      "\n",
      "Current values:\n",
      "NotebookApp.iopub_msg_rate_limit=1000.0 (msgs/sec)\n",
      "NotebookApp.rate_limit_window=3.0 (secs)\n",
      "\n"
     ]
    },
    {
     "name": "stdout",
     "output_type": "stream",
     "text": [
      "2463/2463 [==============================] - 263s 107ms/step - loss: 0.3979 - dice_coef: 0.7300 - val_loss: 0.8237 - val_dice_coef: 0.3041\n",
      "Epoch 130/350\n",
      "  85/2463 [>.............................] - ETA: 3:50 - loss: 0.3941 - dice_coef: 0.7337"
     ]
    },
    {
     "name": "stderr",
     "output_type": "stream",
     "text": [
      "IOPub message rate exceeded.\n",
      "The notebook server will temporarily stop sending output\n",
      "to the client in order to avoid crashing it.\n",
      "To change this limit, set the config variable\n",
      "`--NotebookApp.iopub_msg_rate_limit`.\n",
      "\n",
      "Current values:\n",
      "NotebookApp.iopub_msg_rate_limit=1000.0 (msgs/sec)\n",
      "NotebookApp.rate_limit_window=3.0 (secs)\n",
      "\n"
     ]
    },
    {
     "name": "stdout",
     "output_type": "stream",
     "text": [
      "2463/2463 [==============================] - 260s 105ms/step - loss: 0.3949 - dice_coef: 0.7327 - val_loss: 0.4564 - val_dice_coef: 0.6712\n",
      "Epoch 132/350\n",
      "1642/2463 [===================>..........] - ETA: 1:20 - loss: 0.4015 - dice_coef: 0.7261"
     ]
    },
    {
     "name": "stderr",
     "output_type": "stream",
     "text": [
      "IOPub message rate exceeded.\n",
      "The notebook server will temporarily stop sending output\n",
      "to the client in order to avoid crashing it.\n",
      "To change this limit, set the config variable\n",
      "`--NotebookApp.iopub_msg_rate_limit`.\n",
      "\n",
      "Current values:\n",
      "NotebookApp.iopub_msg_rate_limit=1000.0 (msgs/sec)\n",
      "NotebookApp.rate_limit_window=3.0 (secs)\n",
      "\n"
     ]
    },
    {
     "name": "stdout",
     "output_type": "stream",
     "text": [
      "2463/2463 [==============================] - 263s 107ms/step - loss: 0.3971 - dice_coef: 0.7302 - val_loss: 0.4561 - val_dice_coef: 0.6711\n",
      "Epoch 135/350\n",
      " 676/2463 [=======>......................] - ETA: 2:55 - loss: 0.3768 - dice_coef: 0.7505"
     ]
    },
    {
     "name": "stderr",
     "output_type": "stream",
     "text": [
      "IOPub message rate exceeded.\n",
      "The notebook server will temporarily stop sending output\n",
      "to the client in order to avoid crashing it.\n",
      "To change this limit, set the config variable\n",
      "`--NotebookApp.iopub_msg_rate_limit`.\n",
      "\n",
      "Current values:\n",
      "NotebookApp.iopub_msg_rate_limit=1000.0 (msgs/sec)\n",
      "NotebookApp.rate_limit_window=3.0 (secs)\n",
      "\n"
     ]
    },
    {
     "name": "stdout",
     "output_type": "stream",
     "text": [
      "1968/2463 [======================>.......] - ETA: 47s - loss: 0.3946 - dice_coef: 0.7323"
     ]
    },
    {
     "name": "stderr",
     "output_type": "stream",
     "text": [
      "IOPub message rate exceeded.\n",
      "The notebook server will temporarily stop sending output\n",
      "to the client in order to avoid crashing it.\n",
      "To change this limit, set the config variable\n",
      "`--NotebookApp.iopub_msg_rate_limit`.\n",
      "\n",
      "Current values:\n",
      "NotebookApp.iopub_msg_rate_limit=1000.0 (msgs/sec)\n",
      "NotebookApp.rate_limit_window=3.0 (secs)\n",
      "\n"
     ]
    },
    {
     "name": "stdout",
     "output_type": "stream",
     "text": [
      "2463/2463 [==============================] - 264s 107ms/step - loss: 0.3964 - dice_coef: 0.7303 - val_loss: 0.4552 - val_dice_coef: 0.6714\n",
      "Epoch 140/350\n",
      "1030/2463 [===========>..................] - ETA: 2:18 - loss: 0.4006 - dice_coef: 0.7260"
     ]
    },
    {
     "name": "stderr",
     "output_type": "stream",
     "text": [
      "IOPub message rate exceeded.\n",
      "The notebook server will temporarily stop sending output\n",
      "to the client in order to avoid crashing it.\n",
      "To change this limit, set the config variable\n",
      "`--NotebookApp.iopub_msg_rate_limit`.\n",
      "\n",
      "Current values:\n",
      "NotebookApp.iopub_msg_rate_limit=1000.0 (msgs/sec)\n",
      "NotebookApp.rate_limit_window=3.0 (secs)\n",
      "\n"
     ]
    },
    {
     "name": "stdout",
     "output_type": "stream",
     "text": [
      "2287/2463 [==========================>...] - ETA: 18s - loss: 0.3943 - dice_coef: 0.7321"
     ]
    },
    {
     "name": "stderr",
     "output_type": "stream",
     "text": [
      "IOPub message rate exceeded.\n",
      "The notebook server will temporarily stop sending output\n",
      "to the client in order to avoid crashing it.\n",
      "To change this limit, set the config variable\n",
      "`--NotebookApp.iopub_msg_rate_limit`.\n",
      "\n",
      "Current values:\n",
      "NotebookApp.iopub_msg_rate_limit=1000.0 (msgs/sec)\n",
      "NotebookApp.rate_limit_window=3.0 (secs)\n",
      "\n"
     ]
    },
    {
     "name": "stdout",
     "output_type": "stream",
     "text": [
      "1374/2463 [===============>..............] - ETA: 1:52 - loss: 0.3999 - dice_coef: 0.7261"
     ]
    },
    {
     "name": "stderr",
     "output_type": "stream",
     "text": [
      "IOPub message rate exceeded.\n",
      "The notebook server will temporarily stop sending output\n",
      "to the client in order to avoid crashing it.\n",
      "To change this limit, set the config variable\n",
      "`--NotebookApp.iopub_msg_rate_limit`.\n",
      "\n",
      "Current values:\n",
      "NotebookApp.iopub_msg_rate_limit=1000.0 (msgs/sec)\n",
      "NotebookApp.rate_limit_window=3.0 (secs)\n",
      "\n"
     ]
    },
    {
     "name": "stdout",
     "output_type": "stream",
     "text": [
      "2463/2463 [==============================] - 260s 106ms/step - loss: 0.3955 - dice_coef: 0.7302 - val_loss: 0.4543 - val_dice_coef: 0.6714\n",
      "Epoch 148/350\n",
      " 202/2463 [=>............................] - ETA: 3:43 - loss: 0.3432 - dice_coef: 0.7824"
     ]
    },
    {
     "name": "stderr",
     "output_type": "stream",
     "text": [
      "IOPub message rate exceeded.\n",
      "The notebook server will temporarily stop sending output\n",
      "to the client in order to avoid crashing it.\n",
      "To change this limit, set the config variable\n",
      "`--NotebookApp.iopub_msg_rate_limit`.\n",
      "\n",
      "Current values:\n",
      "NotebookApp.iopub_msg_rate_limit=1000.0 (msgs/sec)\n",
      "NotebookApp.rate_limit_window=3.0 (secs)\n",
      "\n"
     ]
    },
    {
     "name": "stdout",
     "output_type": "stream",
     "text": [
      "1697/2463 [===================>..........] - ETA: 1:14 - loss: 0.3973 - dice_coef: 0.7281"
     ]
    },
    {
     "name": "stderr",
     "output_type": "stream",
     "text": [
      "IOPub message rate exceeded.\n",
      "The notebook server will temporarily stop sending output\n",
      "to the client in order to avoid crashing it.\n",
      "To change this limit, set the config variable\n",
      "`--NotebookApp.iopub_msg_rate_limit`.\n",
      "\n",
      "Current values:\n",
      "NotebookApp.iopub_msg_rate_limit=1000.0 (msgs/sec)\n",
      "NotebookApp.rate_limit_window=3.0 (secs)\n",
      "\n"
     ]
    },
    {
     "name": "stdout",
     "output_type": "stream",
     "text": [
      "2463/2463 [==============================] - 263s 107ms/step - loss: 0.3949 - dice_coef: 0.7302 - val_loss: 0.4681 - val_dice_coef: 0.6569\n",
      "Epoch 153/350\n",
      " 558/2463 [=====>........................] - ETA: 3:06 - loss: 0.4120 - dice_coef: 0.7130"
     ]
    },
    {
     "name": "stderr",
     "output_type": "stream",
     "text": [
      "IOPub message rate exceeded.\n",
      "The notebook server will temporarily stop sending output\n",
      "to the client in order to avoid crashing it.\n",
      "To change this limit, set the config variable\n",
      "`--NotebookApp.iopub_msg_rate_limit`.\n",
      "\n",
      "Current values:\n",
      "NotebookApp.iopub_msg_rate_limit=1000.0 (msgs/sec)\n",
      "NotebookApp.rate_limit_window=3.0 (secs)\n",
      "\n"
     ]
    },
    {
     "name": "stdout",
     "output_type": "stream",
     "text": [
      "2008/2463 [=======================>......] - ETA: 45s - loss: 0.3961 - dice_coef: 0.7287"
     ]
    },
    {
     "name": "stderr",
     "output_type": "stream",
     "text": [
      "IOPub message rate exceeded.\n",
      "The notebook server will temporarily stop sending output\n",
      "to the client in order to avoid crashing it.\n",
      "To change this limit, set the config variable\n",
      "`--NotebookApp.iopub_msg_rate_limit`.\n",
      "\n",
      "Current values:\n",
      "NotebookApp.iopub_msg_rate_limit=1000.0 (msgs/sec)\n",
      "NotebookApp.rate_limit_window=3.0 (secs)\n",
      "\n"
     ]
    },
    {
     "name": "stdout",
     "output_type": "stream",
     "text": [
      "2463/2463 [==============================] - 259s 105ms/step - loss: 0.3942 - dice_coef: 0.7304 - val_loss: 0.4795 - val_dice_coef: 0.6450\n",
      "Epoch 157/350\n",
      " 500/2463 [=====>........................] - ETA: 3:11 - loss: 0.3939 - dice_coef: 0.7306"
     ]
    },
    {
     "name": "stderr",
     "output_type": "stream",
     "text": [
      "IOPub message rate exceeded.\n",
      "The notebook server will temporarily stop sending output\n",
      "to the client in order to avoid crashing it.\n",
      "To change this limit, set the config variable\n",
      "`--NotebookApp.iopub_msg_rate_limit`.\n",
      "\n",
      "Current values:\n",
      "NotebookApp.iopub_msg_rate_limit=1000.0 (msgs/sec)\n",
      "NotebookApp.rate_limit_window=3.0 (secs)\n",
      "\n"
     ]
    },
    {
     "name": "stdout",
     "output_type": "stream",
     "text": [
      "2335/2463 [===========================>..] - ETA: 12s - loss: 0.3979 - dice_coef: 0.7262"
     ]
    },
    {
     "name": "stderr",
     "output_type": "stream",
     "text": [
      "IOPub message rate exceeded.\n",
      "The notebook server will temporarily stop sending output\n",
      "to the client in order to avoid crashing it.\n",
      "To change this limit, set the config variable\n",
      "`--NotebookApp.iopub_msg_rate_limit`.\n",
      "\n",
      "Current values:\n",
      "NotebookApp.iopub_msg_rate_limit=1000.0 (msgs/sec)\n",
      "NotebookApp.rate_limit_window=3.0 (secs)\n",
      "\n"
     ]
    },
    {
     "name": "stdout",
     "output_type": "stream",
     "text": [
      "2463/2463 [==============================] - 260s 106ms/step - loss: 0.3929 - dice_coef: 0.7312 - val_loss: 0.4577 - val_dice_coef: 0.6663\n",
      "Epoch 162/350\n",
      " 904/2463 [==========>...................] - ETA: 2:38 - loss: 0.3988 - dice_coef: 0.7251"
     ]
    },
    {
     "name": "stderr",
     "output_type": "stream",
     "text": [
      "IOPub message rate exceeded.\n",
      "The notebook server will temporarily stop sending output\n",
      "to the client in order to avoid crashing it.\n",
      "To change this limit, set the config variable\n",
      "`--NotebookApp.iopub_msg_rate_limit`.\n",
      "\n",
      "Current values:\n",
      "NotebookApp.iopub_msg_rate_limit=1000.0 (msgs/sec)\n",
      "NotebookApp.rate_limit_window=3.0 (secs)\n",
      "\n"
     ]
    },
    {
     "name": "stdout",
     "output_type": "stream",
     "text": [
      "2463/2463 [==============================] - 270s 110ms/step - loss: 0.3934 - dice_coef: 0.7302 - val_loss: 0.4826 - val_dice_coef: 0.6409\n",
      "Epoch 166/350\n",
      " 191/2463 [=>............................] - ETA: 3:46 - loss: 0.4059 - dice_coef: 0.7176"
     ]
    },
    {
     "name": "stderr",
     "output_type": "stream",
     "text": [
      "IOPub message rate exceeded.\n",
      "The notebook server will temporarily stop sending output\n",
      "to the client in order to avoid crashing it.\n",
      "To change this limit, set the config variable\n",
      "`--NotebookApp.iopub_msg_rate_limit`.\n",
      "\n",
      "Current values:\n",
      "NotebookApp.iopub_msg_rate_limit=1000.0 (msgs/sec)\n",
      "NotebookApp.rate_limit_window=3.0 (secs)\n",
      "\n"
     ]
    },
    {
     "name": "stdout",
     "output_type": "stream",
     "text": [
      "2463/2463 [==============================] - 266s 108ms/step - loss: 0.3932 - dice_coef: 0.7302 - val_loss: 0.4757 - val_dice_coef: 0.6477\n",
      "Epoch 167/350\n",
      "1443/2463 [================>.............] - ETA: 1:42 - loss: 0.3958 - dice_coef: 0.7275"
     ]
    },
    {
     "name": "stderr",
     "output_type": "stream",
     "text": [
      "IOPub message rate exceeded.\n",
      "The notebook server will temporarily stop sending output\n",
      "to the client in order to avoid crashing it.\n",
      "To change this limit, set the config variable\n",
      "`--NotebookApp.iopub_msg_rate_limit`.\n",
      "\n",
      "Current values:\n",
      "NotebookApp.iopub_msg_rate_limit=1000.0 (msgs/sec)\n",
      "NotebookApp.rate_limit_window=3.0 (secs)\n",
      "\n"
     ]
    },
    {
     "name": "stdout",
     "output_type": "stream",
     "text": [
      "2463/2463 [==============================] - 265s 108ms/step - loss: 0.3928 - dice_coef: 0.7302 - val_loss: 0.4539 - val_dice_coef: 0.6690\n",
      "Epoch 171/350\n",
      " 515/2463 [=====>........................] - ETA: 3:19 - loss: 0.3690 - dice_coef: 0.7539"
     ]
    },
    {
     "name": "stderr",
     "output_type": "stream",
     "text": [
      "IOPub message rate exceeded.\n",
      "The notebook server will temporarily stop sending output\n",
      "to the client in order to avoid crashing it.\n",
      "To change this limit, set the config variable\n",
      "`--NotebookApp.iopub_msg_rate_limit`.\n",
      "\n",
      "Current values:\n",
      "NotebookApp.iopub_msg_rate_limit=1000.0 (msgs/sec)\n",
      "NotebookApp.rate_limit_window=3.0 (secs)\n",
      "\n"
     ]
    },
    {
     "name": "stdout",
     "output_type": "stream",
     "text": [
      "1981/2463 [=======================>......] - ETA: 48s - loss: 0.3891 - dice_coef: 0.7336"
     ]
    },
    {
     "name": "stderr",
     "output_type": "stream",
     "text": [
      "IOPub message rate exceeded.\n",
      "The notebook server will temporarily stop sending output\n",
      "to the client in order to avoid crashing it.\n",
      "To change this limit, set the config variable\n",
      "`--NotebookApp.iopub_msg_rate_limit`.\n",
      "\n",
      "Current values:\n",
      "NotebookApp.iopub_msg_rate_limit=1000.0 (msgs/sec)\n",
      "NotebookApp.rate_limit_window=3.0 (secs)\n",
      "\n"
     ]
    },
    {
     "name": "stdout",
     "output_type": "stream",
     "text": [
      "2463/2463 [==============================] - 269s 109ms/step - loss: 0.3921 - dice_coef: 0.7302 - val_loss: 0.4595 - val_dice_coef: 0.6628\n",
      "Epoch 176/350\n",
      " 844/2463 [=========>....................] - ETA: 2:37 - loss: 0.3871 - dice_coef: 0.7352"
     ]
    },
    {
     "name": "stderr",
     "output_type": "stream",
     "text": [
      "IOPub message rate exceeded.\n",
      "The notebook server will temporarily stop sending output\n",
      "to the client in order to avoid crashing it.\n",
      "To change this limit, set the config variable\n",
      "`--NotebookApp.iopub_msg_rate_limit`.\n",
      "\n",
      "Current values:\n",
      "NotebookApp.iopub_msg_rate_limit=1000.0 (msgs/sec)\n",
      "NotebookApp.rate_limit_window=3.0 (secs)\n",
      "\n"
     ]
    },
    {
     "name": "stdout",
     "output_type": "stream",
     "text": [
      "2463/2463 [==============================] - 264s 107ms/step - loss: 0.3919 - dice_coef: 0.7302 - val_loss: 0.4621 - val_dice_coef: 0.6600\n",
      "Epoch 178/350\n",
      "  52/2463 [..............................] - ETA: 3:45 - loss: 0.3141 - dice_coef: 0.8080"
     ]
    },
    {
     "name": "stderr",
     "output_type": "stream",
     "text": [
      "IOPub message rate exceeded.\n",
      "The notebook server will temporarily stop sending output\n",
      "to the client in order to avoid crashing it.\n",
      "To change this limit, set the config variable\n",
      "`--NotebookApp.iopub_msg_rate_limit`.\n",
      "\n",
      "Current values:\n",
      "NotebookApp.iopub_msg_rate_limit=1000.0 (msgs/sec)\n",
      "NotebookApp.rate_limit_window=3.0 (secs)\n",
      "\n"
     ]
    },
    {
     "name": "stdout",
     "output_type": "stream",
     "text": [
      "1221/2463 [=============>................] - ETA: 2:00 - loss: 0.4002 - dice_coef: 0.7214"
     ]
    },
    {
     "name": "stderr",
     "output_type": "stream",
     "text": [
      "IOPub message rate exceeded.\n",
      "The notebook server will temporarily stop sending output\n",
      "to the client in order to avoid crashing it.\n",
      "To change this limit, set the config variable\n",
      "`--NotebookApp.iopub_msg_rate_limit`.\n",
      "\n",
      "Current values:\n",
      "NotebookApp.iopub_msg_rate_limit=1000.0 (msgs/sec)\n",
      "NotebookApp.rate_limit_window=3.0 (secs)\n",
      "\n"
     ]
    },
    {
     "name": "stdout",
     "output_type": "stream",
     "text": [
      "2463/2463 [==============================] - 264s 107ms/step - loss: 0.3913 - dice_coef: 0.7302 - val_loss: 0.4503 - val_dice_coef: 0.6712\n",
      "Epoch 183/350\n",
      " 452/2463 [====>.........................] - ETA: 3:24 - loss: 0.3711 - dice_coef: 0.7504"
     ]
    },
    {
     "name": "stderr",
     "output_type": "stream",
     "text": [
      "IOPub message rate exceeded.\n",
      "The notebook server will temporarily stop sending output\n",
      "to the client in order to avoid crashing it.\n",
      "To change this limit, set the config variable\n",
      "`--NotebookApp.iopub_msg_rate_limit`.\n",
      "\n",
      "Current values:\n",
      "NotebookApp.iopub_msg_rate_limit=1000.0 (msgs/sec)\n",
      "NotebookApp.rate_limit_window=3.0 (secs)\n",
      "\n"
     ]
    },
    {
     "name": "stdout",
     "output_type": "stream",
     "text": [
      "1565/2463 [==================>...........] - ETA: 1:31 - loss: 0.4035 - dice_coef: 0.7175"
     ]
    },
    {
     "name": "stderr",
     "output_type": "stream",
     "text": [
      "IOPub message rate exceeded.\n",
      "The notebook server will temporarily stop sending output\n",
      "to the client in order to avoid crashing it.\n",
      "To change this limit, set the config variable\n",
      "`--NotebookApp.iopub_msg_rate_limit`.\n",
      "\n",
      "Current values:\n",
      "NotebookApp.iopub_msg_rate_limit=1000.0 (msgs/sec)\n",
      "NotebookApp.rate_limit_window=3.0 (secs)\n",
      "\n"
     ]
    },
    {
     "name": "stdout",
     "output_type": "stream",
     "text": [
      "2463/2463 [==============================] - 264s 107ms/step - loss: 0.3907 - dice_coef: 0.7302 - val_loss: 0.4568 - val_dice_coef: 0.6641\n",
      "Epoch 188/350\n",
      " 780/2463 [========>.....................] - ETA: 2:50 - loss: 0.4061 - dice_coef: 0.7147"
     ]
    },
    {
     "name": "stderr",
     "output_type": "stream",
     "text": [
      "IOPub message rate exceeded.\n",
      "The notebook server will temporarily stop sending output\n",
      "to the client in order to avoid crashing it.\n",
      "To change this limit, set the config variable\n",
      "`--NotebookApp.iopub_msg_rate_limit`.\n",
      "\n",
      "Current values:\n",
      "NotebookApp.iopub_msg_rate_limit=1000.0 (msgs/sec)\n",
      "NotebookApp.rate_limit_window=3.0 (secs)\n",
      "\n"
     ]
    },
    {
     "name": "stdout",
     "output_type": "stream",
     "text": [
      "1964/2463 [======================>.......] - ETA: 50s - loss: 0.3938 - dice_coef: 0.7267"
     ]
    },
    {
     "name": "stderr",
     "output_type": "stream",
     "text": [
      "IOPub message rate exceeded.\n",
      "The notebook server will temporarily stop sending output\n",
      "to the client in order to avoid crashing it.\n",
      "To change this limit, set the config variable\n",
      "`--NotebookApp.iopub_msg_rate_limit`.\n",
      "\n",
      "Current values:\n",
      "NotebookApp.iopub_msg_rate_limit=1000.0 (msgs/sec)\n",
      "NotebookApp.rate_limit_window=3.0 (secs)\n",
      "\n"
     ]
    },
    {
     "name": "stdout",
     "output_type": "stream",
     "text": [
      "2463/2463 [==============================] - 274s 111ms/step - loss: 0.3901 - dice_coef: 0.7302 - val_loss: 0.4492 - val_dice_coef: 0.6711\n",
      "Epoch 193/350\n",
      "1169/2463 [=============>................] - ETA: 2:10 - loss: 0.3968 - dice_coef: 0.7234"
     ]
    },
    {
     "name": "stderr",
     "output_type": "stream",
     "text": [
      "IOPub message rate exceeded.\n",
      "The notebook server will temporarily stop sending output\n",
      "to the client in order to avoid crashing it.\n",
      "To change this limit, set the config variable\n",
      "`--NotebookApp.iopub_msg_rate_limit`.\n",
      "\n",
      "Current values:\n",
      "NotebookApp.iopub_msg_rate_limit=1000.0 (msgs/sec)\n",
      "NotebookApp.rate_limit_window=3.0 (secs)\n",
      "\n"
     ]
    },
    {
     "name": "stdout",
     "output_type": "stream",
     "text": [
      "2299/2463 [===========================>..] - ETA: 15s - loss: 0.3911 - dice_coef: 0.7288"
     ]
    },
    {
     "name": "stderr",
     "output_type": "stream",
     "text": [
      "IOPub message rate exceeded.\n",
      "The notebook server will temporarily stop sending output\n",
      "to the client in order to avoid crashing it.\n",
      "To change this limit, set the config variable\n",
      "`--NotebookApp.iopub_msg_rate_limit`.\n",
      "\n",
      "Current values:\n",
      "NotebookApp.iopub_msg_rate_limit=1000.0 (msgs/sec)\n",
      "NotebookApp.rate_limit_window=3.0 (secs)\n",
      "\n"
     ]
    },
    {
     "name": "stdout",
     "output_type": "stream",
     "text": [
      "2463/2463 [==============================] - 266s 108ms/step - loss: 0.3895 - dice_coef: 0.7302 - val_loss: 0.4491 - val_dice_coef: 0.6705\n",
      "Epoch 198/350\n",
      "1485/2463 [=================>............] - ETA: 1:39 - loss: 0.3951 - dice_coef: 0.7245"
     ]
    },
    {
     "name": "stderr",
     "output_type": "stream",
     "text": [
      "IOPub message rate exceeded.\n",
      "The notebook server will temporarily stop sending output\n",
      "to the client in order to avoid crashing it.\n",
      "To change this limit, set the config variable\n",
      "`--NotebookApp.iopub_msg_rate_limit`.\n",
      "\n",
      "Current values:\n",
      "NotebookApp.iopub_msg_rate_limit=1000.0 (msgs/sec)\n",
      "NotebookApp.rate_limit_window=3.0 (secs)\n",
      "\n"
     ]
    },
    {
     "name": "stdout",
     "output_type": "stream",
     "text": [
      "2463/2463 [==============================] - 255s 104ms/step - loss: 0.3890 - dice_coef: 0.7302 - val_loss: 0.4491 - val_dice_coef: 0.6701\n",
      "Epoch 202/350\n",
      "1456/2463 [================>.............] - ETA: 1:42 - loss: 0.3844 - dice_coef: 0.7348"
     ]
    },
    {
     "ename": "KeyboardInterrupt",
     "evalue": "",
     "output_type": "error",
     "traceback": [
      "\u001b[0;31m---------------------------------------------------------------------------\u001b[0m",
      "\u001b[0;31mKeyboardInterrupt\u001b[0m                         Traceback (most recent call last)",
      "Cell \u001b[0;32mIn [13], line 1\u001b[0m\n\u001b[0;32m----> 1\u001b[0m history \u001b[38;5;241m=\u001b[39m \u001b[43ma\u001b[49m\u001b[38;5;241;43m.\u001b[39;49m\u001b[43mfit\u001b[49m\u001b[43m(\u001b[49m\u001b[43mtrain_gen\u001b[49m\u001b[43m,\u001b[49m\n\u001b[1;32m      2\u001b[0m \u001b[43m                      \u001b[49m\u001b[43mvalidation_data\u001b[49m\u001b[38;5;241;43m=\u001b[39;49m\u001b[43mvalid_gen\u001b[49m\u001b[43m,\u001b[49m\u001b[43mepochs\u001b[49m\u001b[38;5;241;43m=\u001b[39;49m\u001b[43mepochs\u001b[49m\u001b[43m,\u001b[49m\u001b[43mcallbacks\u001b[49m\u001b[38;5;241;43m=\u001b[39;49m\u001b[43mcallbacks_list\u001b[49m\u001b[43m)\u001b[49m\n",
      "File \u001b[0;32m~/anaconda3/envs/beea/lib/python3.10/site-packages/keras/utils/traceback_utils.py:64\u001b[0m, in \u001b[0;36mfilter_traceback.<locals>.error_handler\u001b[0;34m(*args, **kwargs)\u001b[0m\n\u001b[1;32m     62\u001b[0m filtered_tb \u001b[38;5;241m=\u001b[39m \u001b[38;5;28;01mNone\u001b[39;00m\n\u001b[1;32m     63\u001b[0m \u001b[38;5;28;01mtry\u001b[39;00m:\n\u001b[0;32m---> 64\u001b[0m   \u001b[38;5;28;01mreturn\u001b[39;00m \u001b[43mfn\u001b[49m\u001b[43m(\u001b[49m\u001b[38;5;241;43m*\u001b[39;49m\u001b[43margs\u001b[49m\u001b[43m,\u001b[49m\u001b[43m \u001b[49m\u001b[38;5;241;43m*\u001b[39;49m\u001b[38;5;241;43m*\u001b[39;49m\u001b[43mkwargs\u001b[49m\u001b[43m)\u001b[49m\n\u001b[1;32m     65\u001b[0m \u001b[38;5;28;01mexcept\u001b[39;00m \u001b[38;5;167;01mException\u001b[39;00m \u001b[38;5;28;01mas\u001b[39;00m e:  \u001b[38;5;66;03m# pylint: disable=broad-except\u001b[39;00m\n\u001b[1;32m     66\u001b[0m   filtered_tb \u001b[38;5;241m=\u001b[39m _process_traceback_frames(e\u001b[38;5;241m.\u001b[39m__traceback__)\n",
      "File \u001b[0;32m~/anaconda3/envs/beea/lib/python3.10/site-packages/keras/engine/training.py:1384\u001b[0m, in \u001b[0;36mModel.fit\u001b[0;34m(self, x, y, batch_size, epochs, verbose, callbacks, validation_split, validation_data, shuffle, class_weight, sample_weight, initial_epoch, steps_per_epoch, validation_steps, validation_batch_size, validation_freq, max_queue_size, workers, use_multiprocessing)\u001b[0m\n\u001b[1;32m   1377\u001b[0m \u001b[38;5;28;01mwith\u001b[39;00m tf\u001b[38;5;241m.\u001b[39mprofiler\u001b[38;5;241m.\u001b[39mexperimental\u001b[38;5;241m.\u001b[39mTrace(\n\u001b[1;32m   1378\u001b[0m     \u001b[38;5;124m'\u001b[39m\u001b[38;5;124mtrain\u001b[39m\u001b[38;5;124m'\u001b[39m,\n\u001b[1;32m   1379\u001b[0m     epoch_num\u001b[38;5;241m=\u001b[39mepoch,\n\u001b[1;32m   1380\u001b[0m     step_num\u001b[38;5;241m=\u001b[39mstep,\n\u001b[1;32m   1381\u001b[0m     batch_size\u001b[38;5;241m=\u001b[39mbatch_size,\n\u001b[1;32m   1382\u001b[0m     _r\u001b[38;5;241m=\u001b[39m\u001b[38;5;241m1\u001b[39m):\n\u001b[1;32m   1383\u001b[0m   callbacks\u001b[38;5;241m.\u001b[39mon_train_batch_begin(step)\n\u001b[0;32m-> 1384\u001b[0m   tmp_logs \u001b[38;5;241m=\u001b[39m \u001b[38;5;28;43mself\u001b[39;49m\u001b[38;5;241;43m.\u001b[39;49m\u001b[43mtrain_function\u001b[49m\u001b[43m(\u001b[49m\u001b[43miterator\u001b[49m\u001b[43m)\u001b[49m\n\u001b[1;32m   1385\u001b[0m   \u001b[38;5;28;01mif\u001b[39;00m data_handler\u001b[38;5;241m.\u001b[39mshould_sync:\n\u001b[1;32m   1386\u001b[0m     context\u001b[38;5;241m.\u001b[39masync_wait()\n",
      "File \u001b[0;32m~/anaconda3/envs/beea/lib/python3.10/site-packages/tensorflow/python/util/traceback_utils.py:150\u001b[0m, in \u001b[0;36mfilter_traceback.<locals>.error_handler\u001b[0;34m(*args, **kwargs)\u001b[0m\n\u001b[1;32m    148\u001b[0m filtered_tb \u001b[38;5;241m=\u001b[39m \u001b[38;5;28;01mNone\u001b[39;00m\n\u001b[1;32m    149\u001b[0m \u001b[38;5;28;01mtry\u001b[39;00m:\n\u001b[0;32m--> 150\u001b[0m   \u001b[38;5;28;01mreturn\u001b[39;00m \u001b[43mfn\u001b[49m\u001b[43m(\u001b[49m\u001b[38;5;241;43m*\u001b[39;49m\u001b[43margs\u001b[49m\u001b[43m,\u001b[49m\u001b[43m \u001b[49m\u001b[38;5;241;43m*\u001b[39;49m\u001b[38;5;241;43m*\u001b[39;49m\u001b[43mkwargs\u001b[49m\u001b[43m)\u001b[49m\n\u001b[1;32m    151\u001b[0m \u001b[38;5;28;01mexcept\u001b[39;00m \u001b[38;5;167;01mException\u001b[39;00m \u001b[38;5;28;01mas\u001b[39;00m e:\n\u001b[1;32m    152\u001b[0m   filtered_tb \u001b[38;5;241m=\u001b[39m _process_traceback_frames(e\u001b[38;5;241m.\u001b[39m__traceback__)\n",
      "File \u001b[0;32m~/anaconda3/envs/beea/lib/python3.10/site-packages/tensorflow/python/eager/def_function.py:915\u001b[0m, in \u001b[0;36mFunction.__call__\u001b[0;34m(self, *args, **kwds)\u001b[0m\n\u001b[1;32m    912\u001b[0m compiler \u001b[38;5;241m=\u001b[39m \u001b[38;5;124m\"\u001b[39m\u001b[38;5;124mxla\u001b[39m\u001b[38;5;124m\"\u001b[39m \u001b[38;5;28;01mif\u001b[39;00m \u001b[38;5;28mself\u001b[39m\u001b[38;5;241m.\u001b[39m_jit_compile \u001b[38;5;28;01melse\u001b[39;00m \u001b[38;5;124m\"\u001b[39m\u001b[38;5;124mnonXla\u001b[39m\u001b[38;5;124m\"\u001b[39m\n\u001b[1;32m    914\u001b[0m \u001b[38;5;28;01mwith\u001b[39;00m OptionalXlaContext(\u001b[38;5;28mself\u001b[39m\u001b[38;5;241m.\u001b[39m_jit_compile):\n\u001b[0;32m--> 915\u001b[0m   result \u001b[38;5;241m=\u001b[39m \u001b[38;5;28;43mself\u001b[39;49m\u001b[38;5;241;43m.\u001b[39;49m\u001b[43m_call\u001b[49m\u001b[43m(\u001b[49m\u001b[38;5;241;43m*\u001b[39;49m\u001b[43margs\u001b[49m\u001b[43m,\u001b[49m\u001b[43m \u001b[49m\u001b[38;5;241;43m*\u001b[39;49m\u001b[38;5;241;43m*\u001b[39;49m\u001b[43mkwds\u001b[49m\u001b[43m)\u001b[49m\n\u001b[1;32m    917\u001b[0m new_tracing_count \u001b[38;5;241m=\u001b[39m \u001b[38;5;28mself\u001b[39m\u001b[38;5;241m.\u001b[39mexperimental_get_tracing_count()\n\u001b[1;32m    918\u001b[0m without_tracing \u001b[38;5;241m=\u001b[39m (tracing_count \u001b[38;5;241m==\u001b[39m new_tracing_count)\n",
      "File \u001b[0;32m~/anaconda3/envs/beea/lib/python3.10/site-packages/tensorflow/python/eager/def_function.py:947\u001b[0m, in \u001b[0;36mFunction._call\u001b[0;34m(self, *args, **kwds)\u001b[0m\n\u001b[1;32m    944\u001b[0m   \u001b[38;5;28mself\u001b[39m\u001b[38;5;241m.\u001b[39m_lock\u001b[38;5;241m.\u001b[39mrelease()\n\u001b[1;32m    945\u001b[0m   \u001b[38;5;66;03m# In this case we have created variables on the first call, so we run the\u001b[39;00m\n\u001b[1;32m    946\u001b[0m   \u001b[38;5;66;03m# defunned version which is guaranteed to never create variables.\u001b[39;00m\n\u001b[0;32m--> 947\u001b[0m   \u001b[38;5;28;01mreturn\u001b[39;00m \u001b[38;5;28;43mself\u001b[39;49m\u001b[38;5;241;43m.\u001b[39;49m\u001b[43m_stateless_fn\u001b[49m\u001b[43m(\u001b[49m\u001b[38;5;241;43m*\u001b[39;49m\u001b[43margs\u001b[49m\u001b[43m,\u001b[49m\u001b[43m \u001b[49m\u001b[38;5;241;43m*\u001b[39;49m\u001b[38;5;241;43m*\u001b[39;49m\u001b[43mkwds\u001b[49m\u001b[43m)\u001b[49m  \u001b[38;5;66;03m# pylint: disable=not-callable\u001b[39;00m\n\u001b[1;32m    948\u001b[0m \u001b[38;5;28;01melif\u001b[39;00m \u001b[38;5;28mself\u001b[39m\u001b[38;5;241m.\u001b[39m_stateful_fn \u001b[38;5;129;01mis\u001b[39;00m \u001b[38;5;129;01mnot\u001b[39;00m \u001b[38;5;28;01mNone\u001b[39;00m:\n\u001b[1;32m    949\u001b[0m   \u001b[38;5;66;03m# Release the lock early so that multiple threads can perform the call\u001b[39;00m\n\u001b[1;32m    950\u001b[0m   \u001b[38;5;66;03m# in parallel.\u001b[39;00m\n\u001b[1;32m    951\u001b[0m   \u001b[38;5;28mself\u001b[39m\u001b[38;5;241m.\u001b[39m_lock\u001b[38;5;241m.\u001b[39mrelease()\n",
      "File \u001b[0;32m~/anaconda3/envs/beea/lib/python3.10/site-packages/tensorflow/python/eager/function.py:2956\u001b[0m, in \u001b[0;36mFunction.__call__\u001b[0;34m(self, *args, **kwargs)\u001b[0m\n\u001b[1;32m   2953\u001b[0m \u001b[38;5;28;01mwith\u001b[39;00m \u001b[38;5;28mself\u001b[39m\u001b[38;5;241m.\u001b[39m_lock:\n\u001b[1;32m   2954\u001b[0m   (graph_function,\n\u001b[1;32m   2955\u001b[0m    filtered_flat_args) \u001b[38;5;241m=\u001b[39m \u001b[38;5;28mself\u001b[39m\u001b[38;5;241m.\u001b[39m_maybe_define_function(args, kwargs)\n\u001b[0;32m-> 2956\u001b[0m \u001b[38;5;28;01mreturn\u001b[39;00m \u001b[43mgraph_function\u001b[49m\u001b[38;5;241;43m.\u001b[39;49m\u001b[43m_call_flat\u001b[49m\u001b[43m(\u001b[49m\n\u001b[1;32m   2957\u001b[0m \u001b[43m    \u001b[49m\u001b[43mfiltered_flat_args\u001b[49m\u001b[43m,\u001b[49m\u001b[43m \u001b[49m\u001b[43mcaptured_inputs\u001b[49m\u001b[38;5;241;43m=\u001b[39;49m\u001b[43mgraph_function\u001b[49m\u001b[38;5;241;43m.\u001b[39;49m\u001b[43mcaptured_inputs\u001b[49m\u001b[43m)\u001b[49m\n",
      "File \u001b[0;32m~/anaconda3/envs/beea/lib/python3.10/site-packages/tensorflow/python/eager/function.py:1853\u001b[0m, in \u001b[0;36mConcreteFunction._call_flat\u001b[0;34m(self, args, captured_inputs, cancellation_manager)\u001b[0m\n\u001b[1;32m   1849\u001b[0m possible_gradient_type \u001b[38;5;241m=\u001b[39m gradients_util\u001b[38;5;241m.\u001b[39mPossibleTapeGradientTypes(args)\n\u001b[1;32m   1850\u001b[0m \u001b[38;5;28;01mif\u001b[39;00m (possible_gradient_type \u001b[38;5;241m==\u001b[39m gradients_util\u001b[38;5;241m.\u001b[39mPOSSIBLE_GRADIENT_TYPES_NONE\n\u001b[1;32m   1851\u001b[0m     \u001b[38;5;129;01mand\u001b[39;00m executing_eagerly):\n\u001b[1;32m   1852\u001b[0m   \u001b[38;5;66;03m# No tape is watching; skip to running the function.\u001b[39;00m\n\u001b[0;32m-> 1853\u001b[0m   \u001b[38;5;28;01mreturn\u001b[39;00m \u001b[38;5;28mself\u001b[39m\u001b[38;5;241m.\u001b[39m_build_call_outputs(\u001b[38;5;28;43mself\u001b[39;49m\u001b[38;5;241;43m.\u001b[39;49m\u001b[43m_inference_function\u001b[49m\u001b[38;5;241;43m.\u001b[39;49m\u001b[43mcall\u001b[49m\u001b[43m(\u001b[49m\n\u001b[1;32m   1854\u001b[0m \u001b[43m      \u001b[49m\u001b[43mctx\u001b[49m\u001b[43m,\u001b[49m\u001b[43m \u001b[49m\u001b[43margs\u001b[49m\u001b[43m,\u001b[49m\u001b[43m \u001b[49m\u001b[43mcancellation_manager\u001b[49m\u001b[38;5;241;43m=\u001b[39;49m\u001b[43mcancellation_manager\u001b[49m\u001b[43m)\u001b[49m)\n\u001b[1;32m   1855\u001b[0m forward_backward \u001b[38;5;241m=\u001b[39m \u001b[38;5;28mself\u001b[39m\u001b[38;5;241m.\u001b[39m_select_forward_and_backward_functions(\n\u001b[1;32m   1856\u001b[0m     args,\n\u001b[1;32m   1857\u001b[0m     possible_gradient_type,\n\u001b[1;32m   1858\u001b[0m     executing_eagerly)\n\u001b[1;32m   1859\u001b[0m forward_function, args_with_tangents \u001b[38;5;241m=\u001b[39m forward_backward\u001b[38;5;241m.\u001b[39mforward()\n",
      "File \u001b[0;32m~/anaconda3/envs/beea/lib/python3.10/site-packages/tensorflow/python/eager/function.py:499\u001b[0m, in \u001b[0;36m_EagerDefinedFunction.call\u001b[0;34m(self, ctx, args, cancellation_manager)\u001b[0m\n\u001b[1;32m    497\u001b[0m \u001b[38;5;28;01mwith\u001b[39;00m _InterpolateFunctionError(\u001b[38;5;28mself\u001b[39m):\n\u001b[1;32m    498\u001b[0m   \u001b[38;5;28;01mif\u001b[39;00m cancellation_manager \u001b[38;5;129;01mis\u001b[39;00m \u001b[38;5;28;01mNone\u001b[39;00m:\n\u001b[0;32m--> 499\u001b[0m     outputs \u001b[38;5;241m=\u001b[39m \u001b[43mexecute\u001b[49m\u001b[38;5;241;43m.\u001b[39;49m\u001b[43mexecute\u001b[49m\u001b[43m(\u001b[49m\n\u001b[1;32m    500\u001b[0m \u001b[43m        \u001b[49m\u001b[38;5;28;43mstr\u001b[39;49m\u001b[43m(\u001b[49m\u001b[38;5;28;43mself\u001b[39;49m\u001b[38;5;241;43m.\u001b[39;49m\u001b[43msignature\u001b[49m\u001b[38;5;241;43m.\u001b[39;49m\u001b[43mname\u001b[49m\u001b[43m)\u001b[49m\u001b[43m,\u001b[49m\n\u001b[1;32m    501\u001b[0m \u001b[43m        \u001b[49m\u001b[43mnum_outputs\u001b[49m\u001b[38;5;241;43m=\u001b[39;49m\u001b[38;5;28;43mself\u001b[39;49m\u001b[38;5;241;43m.\u001b[39;49m\u001b[43m_num_outputs\u001b[49m\u001b[43m,\u001b[49m\n\u001b[1;32m    502\u001b[0m \u001b[43m        \u001b[49m\u001b[43minputs\u001b[49m\u001b[38;5;241;43m=\u001b[39;49m\u001b[43margs\u001b[49m\u001b[43m,\u001b[49m\n\u001b[1;32m    503\u001b[0m \u001b[43m        \u001b[49m\u001b[43mattrs\u001b[49m\u001b[38;5;241;43m=\u001b[39;49m\u001b[43mattrs\u001b[49m\u001b[43m,\u001b[49m\n\u001b[1;32m    504\u001b[0m \u001b[43m        \u001b[49m\u001b[43mctx\u001b[49m\u001b[38;5;241;43m=\u001b[39;49m\u001b[43mctx\u001b[49m\u001b[43m)\u001b[49m\n\u001b[1;32m    505\u001b[0m   \u001b[38;5;28;01melse\u001b[39;00m:\n\u001b[1;32m    506\u001b[0m     outputs \u001b[38;5;241m=\u001b[39m execute\u001b[38;5;241m.\u001b[39mexecute_with_cancellation(\n\u001b[1;32m    507\u001b[0m         \u001b[38;5;28mstr\u001b[39m(\u001b[38;5;28mself\u001b[39m\u001b[38;5;241m.\u001b[39msignature\u001b[38;5;241m.\u001b[39mname),\n\u001b[1;32m    508\u001b[0m         num_outputs\u001b[38;5;241m=\u001b[39m\u001b[38;5;28mself\u001b[39m\u001b[38;5;241m.\u001b[39m_num_outputs,\n\u001b[0;32m   (...)\u001b[0m\n\u001b[1;32m    511\u001b[0m         ctx\u001b[38;5;241m=\u001b[39mctx,\n\u001b[1;32m    512\u001b[0m         cancellation_manager\u001b[38;5;241m=\u001b[39mcancellation_manager)\n",
      "File \u001b[0;32m~/anaconda3/envs/beea/lib/python3.10/site-packages/tensorflow/python/eager/execute.py:54\u001b[0m, in \u001b[0;36mquick_execute\u001b[0;34m(op_name, num_outputs, inputs, attrs, ctx, name)\u001b[0m\n\u001b[1;32m     52\u001b[0m \u001b[38;5;28;01mtry\u001b[39;00m:\n\u001b[1;32m     53\u001b[0m   ctx\u001b[38;5;241m.\u001b[39mensure_initialized()\n\u001b[0;32m---> 54\u001b[0m   tensors \u001b[38;5;241m=\u001b[39m \u001b[43mpywrap_tfe\u001b[49m\u001b[38;5;241;43m.\u001b[39;49m\u001b[43mTFE_Py_Execute\u001b[49m\u001b[43m(\u001b[49m\u001b[43mctx\u001b[49m\u001b[38;5;241;43m.\u001b[39;49m\u001b[43m_handle\u001b[49m\u001b[43m,\u001b[49m\u001b[43m \u001b[49m\u001b[43mdevice_name\u001b[49m\u001b[43m,\u001b[49m\u001b[43m \u001b[49m\u001b[43mop_name\u001b[49m\u001b[43m,\u001b[49m\n\u001b[1;32m     55\u001b[0m \u001b[43m                                      \u001b[49m\u001b[43minputs\u001b[49m\u001b[43m,\u001b[49m\u001b[43m \u001b[49m\u001b[43mattrs\u001b[49m\u001b[43m,\u001b[49m\u001b[43m \u001b[49m\u001b[43mnum_outputs\u001b[49m\u001b[43m)\u001b[49m\n\u001b[1;32m     56\u001b[0m \u001b[38;5;28;01mexcept\u001b[39;00m core\u001b[38;5;241m.\u001b[39m_NotOkStatusException \u001b[38;5;28;01mas\u001b[39;00m e:\n\u001b[1;32m     57\u001b[0m   \u001b[38;5;28;01mif\u001b[39;00m name \u001b[38;5;129;01mis\u001b[39;00m \u001b[38;5;129;01mnot\u001b[39;00m \u001b[38;5;28;01mNone\u001b[39;00m:\n",
      "\u001b[0;31mKeyboardInterrupt\u001b[0m: "
     ]
    }
   ],
   "source": [
    "history = a.fit(train_gen,\n",
    "                      validation_data=valid_gen,epochs=epochs,callbacks=callbacks_list)"
   ]
  },
  {
   "cell_type": "code",
   "execution_count": 10,
   "id": "2cf8ec8d",
   "metadata": {},
   "outputs": [],
   "source": [
    "a.load_weights(filepath)"
   ]
  },
  {
   "cell_type": "code",
   "execution_count": null,
   "id": "a6d21eb7",
   "metadata": {},
   "outputs": [],
   "source": [
    "acc = history.history['dice_coef']\n",
    "val_acc = history.history['val_dice_coef']\n",
    "print('training dice: ',max(acc))\n",
    "print('validation dice: ',max(val_acc))"
   ]
  },
  {
   "cell_type": "code",
   "execution_count": null,
   "id": "a5d8e97c",
   "metadata": {},
   "outputs": [],
   "source": [
    "#plot the training and validation IoU and loss at each epoch\n",
    "loss = history.history['loss']\n",
    "val_loss = history.history['val_loss']\n",
    "epochs = range(1, len(loss) + 1)\n",
    "plt.plot(epochs, loss, 'y', label='Training loss')\n",
    "plt.plot(epochs, val_loss, 'r', label='Validation loss')\n",
    "plt.title('Training and validation loss')\n",
    "plt.xlabel('Epochs')\n",
    "plt.ylabel('Loss')\n",
    "plt.legend()\n",
    "plt.show()"
   ]
  },
  {
   "cell_type": "code",
   "execution_count": null,
   "id": "dabd725c",
   "metadata": {},
   "outputs": [],
   "source": [
    "acc = history.history['dice_coef']\n",
    "val_acc = history.history['val_dice_coef']\n",
    "\n",
    "plt.plot(epochs, acc, 'y', label='Training Dice coefficient')\n",
    "plt.plot(epochs, val_acc, 'r', label='Validation Dice Coefficient')\n",
    "plt.title('Training and validation Dice coefficient')\n",
    "plt.xlabel('Epochs')\n",
    "plt.ylabel('Dice Coefficient')\n",
    "plt.legend()\n",
    "plt.show()"
   ]
  },
  {
   "cell_type": "code",
   "execution_count": 11,
   "id": "8312e2b9",
   "metadata": {},
   "outputs": [
    {
     "name": "stderr",
     "output_type": "stream",
     "text": [
      "  0%|                                                   | 0/801 [00:00<?, ?it/s]2023-08-24 13:24:06.400555: I tensorflow/stream_executor/cuda/cuda_dnn.cc:368] Loaded cuDNN version 8801\n",
      "2023-08-24 13:24:07.429137: I tensorflow/stream_executor/cuda/cuda_blas.cc:1786] TensorFloat-32 will be used for the matrix multiplication. This will only be logged once.\n",
      "/tmp/ipykernel_3242479/1832244335.py:72: DeprecationWarning: `np.bool` is a deprecated alias for the builtin `bool`. To silence this warning, use `bool` by itself. Doing this will not modify any behavior and is safe. If you specifically wanted the numpy scalar type, use `np.bool_` here.\n",
      "Deprecated in NumPy 1.20; for more details and guidance: https://numpy.org/devdocs/release/1.20.0-notes.html#deprecations\n",
      "  im1 = np.asarray(im1).astype(np.bool)\n",
      "/tmp/ipykernel_3242479/1832244335.py:73: DeprecationWarning: `np.bool` is a deprecated alias for the builtin `bool`. To silence this warning, use `bool` by itself. Doing this will not modify any behavior and is safe. If you specifically wanted the numpy scalar type, use `np.bool_` here.\n",
      "Deprecated in NumPy 1.20; for more details and guidance: https://numpy.org/devdocs/release/1.20.0-notes.html#deprecations\n",
      "  im2 = np.asarray(im2).astype(np.bool)\n",
      "100%|█████████████████████████████████████████| 801/801 [01:15<00:00, 10.65it/s]"
     ]
    },
    {
     "name": "stdout",
     "output_type": "stream",
     "text": [
      "at 0.9: dice:  0.6779026217228464\n",
      "at 0.8: dice:  0.6779026217228464\n",
      "at 0.7: dice:  0.6779026217228464\n",
      "at 0.6: dice:  0.6779026217228464\n",
      "at 0.5: dice:  0.6779026217228464\n",
      "at 0.4: dice:  0.6779026217228464\n",
      "at 0.3: dice:  0.6779026217228464\n",
      "at 0.2: dice:  0.6779026217228464\n",
      "at 0.1: dice:  0.6779026217228464\n",
      "at 0.05: dice:  0.6779026217228464\n",
      "at 0.01: dice:  0.6802191831575222\n",
      "at 0.005: dice:  0.6834667679359866\n",
      "at 0.001: dice:  0.664597813175017\n",
      "at 0.0005: dice:  0.5646725669648994\n",
      "at 0.0001: dice:  0.08186560230517306\n"
     ]
    },
    {
     "name": "stderr",
     "output_type": "stream",
     "text": [
      "\n"
     ]
    }
   ],
   "source": [
    "#test_gen = DataGen(image_size,testpath, batch_size=batch_size)\n",
    "tr_dice_6=[]\n",
    "tr_dice_5=[]\n",
    "tr_dice_4=[]\n",
    "tr_dice_3=[]\n",
    "tr_dice_2=[]\n",
    "tr_dice_9=[]\n",
    "tr_dice_8=[]\n",
    "tr_dice_7=[]\n",
    "tr_dice_1=[]\n",
    "tr_dice_05=[]\n",
    "tr_dice_01=[]\n",
    "tr_dice_005=[]\n",
    "tr_dice_001=[]\n",
    "tr_dice_0005=[]\n",
    "tr_dice_0001=[]\n",
    "for k in tqdm(range(len(testpath))):\n",
    "    y_pred=a.predict(test_gen.__getitem__(k)[0])\n",
    "    true_msk=test_gen.__getitem__(k)[1]\n",
    "    y_pred_argmax=np.where(y_pred>0.9,1,0)\n",
    "    tr_dice_9.append(compute_dice(y_pred_argmax, true_msk))\n",
    "    y_pred_argmax=np.where(y_pred>0.8,1,0)\n",
    "    tr_dice_8.append(compute_dice(y_pred_argmax, true_msk))\n",
    "    y_pred_argmax=np.where(y_pred>0.7,1,0)\n",
    "    tr_dice_7.append(compute_dice(y_pred_argmax, true_msk))\n",
    "    y_pred_argmax=np.where(y_pred>0.6,1,0)\n",
    "    tr_dice_6.append(compute_dice(y_pred_argmax, true_msk))\n",
    "    y_pred_argmax=np.where(y_pred>0.5,1,0)\n",
    "    tr_dice_5.append(compute_dice(y_pred_argmax, true_msk))\n",
    "    y_pred_argmax=np.where(y_pred>0.4,1,0)\n",
    "    tr_dice_4.append(compute_dice(y_pred_argmax, true_msk))\n",
    "    y_pred_argmax=np.where(y_pred>0.3,1,0)\n",
    "    tr_dice_3.append(compute_dice(y_pred_argmax, true_msk))\n",
    "    y_pred_argmax=np.where(y_pred>0.2,1,0)\n",
    "    tr_dice_2.append(compute_dice(y_pred_argmax, true_msk))\n",
    "    y_pred_argmax=np.where(y_pred>0.1,1,0)\n",
    "    tr_dice_1.append(compute_dice(y_pred_argmax, true_msk))\n",
    "    y_pred_argmax=np.where(y_pred>0.05,1,0)\n",
    "    tr_dice_05.append(compute_dice(y_pred_argmax, true_msk))\n",
    "    y_pred_argmax=np.where(y_pred>0.01,1,0)\n",
    "    tr_dice_01.append(compute_dice(y_pred_argmax, true_msk))\n",
    "    y_pred_argmax=np.where(y_pred>0.005,1,0)\n",
    "    tr_dice_005.append(compute_dice(y_pred_argmax, true_msk))\n",
    "    y_pred_argmax=np.where(y_pred>0.001,1,0)\n",
    "    tr_dice_001.append(compute_dice(y_pred_argmax, true_msk))\n",
    "    y_pred_argmax=np.where(y_pred>0.0005,1,0)\n",
    "    tr_dice_0005.append(compute_dice(y_pred_argmax, true_msk))\n",
    "    y_pred_argmax=np.where(y_pred>0.0001,1,0)\n",
    "    tr_dice_0001.append(compute_dice(y_pred_argmax, true_msk))\n",
    "    \n",
    "#     except:\n",
    "#         print(k)\n",
    "#         break\n",
    "print('at 0.9: dice: ',np.mean(tr_dice_9))\n",
    "print('at 0.8: dice: ',np.mean(tr_dice_8))\n",
    "print('at 0.7: dice: ',np.mean(tr_dice_7))\n",
    "print('at 0.6: dice: ',np.mean(tr_dice_6))\n",
    "print('at 0.5: dice: ',np.mean(tr_dice_5))\n",
    "print('at 0.4: dice: ',np.mean(tr_dice_4))\n",
    "print('at 0.3: dice: ',np.mean(tr_dice_3))\n",
    "print('at 0.2: dice: ',np.mean(tr_dice_2))\n",
    "print('at 0.1: dice: ',np.mean(tr_dice_1))\n",
    "print('at 0.05: dice: ',np.mean(tr_dice_05))\n",
    "print('at 0.01: dice: ',np.mean(tr_dice_01))\n",
    "print('at 0.005: dice: ',np.mean(tr_dice_005))\n",
    "print('at 0.001: dice: ',np.mean(tr_dice_001))\n",
    "print('at 0.0005: dice: ',np.mean(tr_dice_0005))\n",
    "print('at 0.0001: dice: ',np.mean(tr_dice_0001))"
   ]
  },
  {
   "cell_type": "code",
   "execution_count": null,
   "id": "c40b2e3f",
   "metadata": {},
   "outputs": [],
   "source": []
  }
 ],
 "metadata": {
  "kernelspec": {
   "display_name": "Python [conda env:beea] *",
   "language": "python",
   "name": "conda-env-beea-py"
  },
  "language_info": {
   "codemirror_mode": {
    "name": "ipython",
    "version": 3
   },
   "file_extension": ".py",
   "mimetype": "text/x-python",
   "name": "python",
   "nbconvert_exporter": "python",
   "pygments_lexer": "ipython3",
   "version": "3.10.6"
  }
 },
 "nbformat": 4,
 "nbformat_minor": 5
}
