{
 "cells": [
  {
   "cell_type": "code",
   "execution_count": null,
   "id": "9788c1c8",
   "metadata": {},
   "outputs": [],
   "source": [
    "%reset -f\n",
    "from __future__ import print_function\n",
    "from __future__ import division\n",
    "import math\n",
    "import numpy as np\n",
    "import torch\n",
    "import sys\n",
    "print('__Python VERSION:', sys.version)\n",
    "print('__pyTorch VERSION:', torch.__version__)\n",
    "print('__CUDA VERSION')\n",
    "from subprocess import call\n",
    "# call([\"nvcc\", \"--version\"]) does not work\n",
    "! nvcc --version\n",
    "print('__CUDNN VERSION:', torch.backends.cudnn.version())\n",
    "print('__Number CUDA Devices:', torch.cuda.device_count())\n",
    "print('__Devices')\n",
    "call([\"nvidia-smi\", \"--format=csv\", \"--query-gpu=index,name,driver_version,memory.total,memory.used,memory.free\"])\n",
    "print('Active CUDA Device: GPU', torch.cuda.current_device())\n",
    "\n",
    "print ('Available devices ', torch.cuda.device_count())\n",
    "print ('Current cuda device ', torch.cuda.current_device())\n",
    "from torch import device as torch_device\n",
    "\n",
    "#devices = [torch_device('cuda', i) for i in range(torch.cuda.device_count())] + [torch_device('cpu')]\n",
    "#print(devices)\n",
    "desired_gpu_index = 1\n",
    "device = torch.device(f'cuda:{desired_gpu_index}')\n",
    "device"
   ]
  },
  {
   "cell_type": "code",
   "execution_count": 1,
   "id": "0980fade",
   "metadata": {},
   "outputs": [],
   "source": [
    "import os\n",
    "import numpy as np\n",
    "os.environ['CUDA_VISIBLE_DEVICES'] = \"0\"\n",
    "import torch\n",
    "device = torch.device(\"cuda\" if torch.cuda.is_available() else \"cpu\")"
   ]
  },
  {
   "cell_type": "code",
   "execution_count": 2,
   "id": "fb6f23da",
   "metadata": {},
   "outputs": [
    {
     "data": {
      "text/plain": [
       "device(type='cuda')"
      ]
     },
     "execution_count": 2,
     "metadata": {},
     "output_type": "execute_result"
    }
   ],
   "source": [
    "import random\n",
    "random.seed(20)\n",
    "np.random.seed(20)\n",
    "torch.manual_seed(20)\n",
    "torch.cuda.manual_seed(20)\n",
    "device"
   ]
  },
  {
   "cell_type": "code",
   "execution_count": 3,
   "id": "5097b66f",
   "metadata": {},
   "outputs": [],
   "source": [
    "import cv2\n",
    "import glob\n",
    "import random\n",
    "from tqdm import tqdm\n",
    "import skimage.io as io\n",
    "import skimage.transform as trans\n",
    "import matplotlib.pyplot as plt\n",
    "import pydicom\n",
    "import SimpleITK as sitk\n",
    "import nibabel as nib\n",
    "from scipy import ndimage\n",
    "from torchmetrics import Dice\n",
    "import torch.optim as optim\n",
    "\n",
    "\n",
    "import pandas as pd\n",
    "import matplotlib.pyplot as plt\n",
    "from sklearn.model_selection import train_test_split\n",
    "import torch.nn as nn\n",
    "from torchvision import transforms as T\n",
    "import torchvision\n",
    "import torch.nn.functional as F\n",
    "from torch.autograd import Variable\n",
    "from PIL import Image\n",
    "import albumentations as A\n",
    "import time\n",
    "from tqdm.notebook import tqdm\n",
    "from torchsummary import summary\n"
   ]
  },
  {
   "cell_type": "code",
   "execution_count": 4,
   "id": "e1a643a2",
   "metadata": {},
   "outputs": [],
   "source": [
    "def dice_loss(pred, target):\n",
    "    smooth = 1.#1e-5\n",
    "    pred = pred.view(-1)\n",
    "    target = target.view(-1)\n",
    "    intersection = (pred * target).sum()\n",
    "    union = pred.sum() + target.sum()\n",
    "    dice = (2.0 * intersection + smooth) / (union + smooth)\n",
    "    return 1 - dice\n",
    "def dice_coeff(pred, target):\n",
    "    smooth = 1.#1e-5\n",
    "    pred = pred.view(-1)\n",
    "    target = target.view(-1)\n",
    "    intersection = (pred * target).sum()\n",
    "    union = pred.sum() + target.sum()\n",
    "    dice = (2.0 * intersection + smooth) / (union + smooth)\n",
    "    return dice\n",
    "\n",
    "import copy\n",
    "def get_normalized(scann,mn,mx):\n",
    "    scan = copy.copy(scann)\n",
    "    mn = max(mn,np.amin(scan))\n",
    "    mx = min(mx,np.amax(scan))\n",
    "    np.clip(scan, mn, mx, out=scan)\n",
    "    d = mx - mn\n",
    "    scan = (scan-mn)/d\n",
    "    return scan\n",
    "\n",
    "def res_scan(nscan,image_size):\n",
    "\n",
    "    depth_factor = image_size[0]/nscan.shape[0]\n",
    "    width_factor = image_size[2]/nscan.shape[2]\n",
    "    height_factor = image_size[1]/nscan.shape[1]\n",
    "    nscann = copy.copy(nscan)\n",
    "    nscann = ndimage.zoom(nscann, (depth_factor, height_factor, width_factor), order=1)\n",
    "    return nscann\n",
    "\n",
    "def res_mask(nmask,image_size):\n",
    "    depth_factor = image_size[0]/nmask.shape[0]\n",
    "    width_factor = image_size[2]/nmask.shape[2]\n",
    "    height_factor = image_size[1]/nmask.shape[1]\n",
    "\n",
    "    nmaskk = copy.copy(nmask)\n",
    "    nmaskk = ndimage.zoom(nmaskk, (depth_factor, height_factor, width_factor), order=1, mode = 'nearest')\n",
    "    return nmaskk"
   ]
  },
  {
   "cell_type": "code",
   "execution_count": 5,
   "id": "1b12628c",
   "metadata": {},
   "outputs": [],
   "source": [
    "def random_crop_3d_samples(image_volume, mask_volume, crop_size, num_samples=4, pos=1,neg=1):\n",
    "    # Convert the image and mask volumes to TensorFlow tensors\n",
    "#     image_volume = tf.constant(image_volume, dtype=tf.float32)\n",
    "#     mask_volume = tf.constant(mask_volume, dtype=tf.float32)\n",
    "\n",
    "    depth, height, width = image_volume.shape\n",
    "\n",
    "    # Create an empty list to store the cropped samples\n",
    "    cropped_samples_i = []\n",
    "    cropped_samples_m = []\n",
    "\n",
    "    # Calculate the positive and negative sample counts based on the ratio\n",
    "    num_pos_samples = int(num_samples * (pos/(pos+neg)))\n",
    "    num_neg_samples = num_samples - num_pos_samples\n",
    "    p =  np.random.randint(0, 40)\n",
    "    \n",
    "\n",
    "    for _ in range(num_pos_samples):\n",
    "        # Randomly choose a foreground voxel as the center of the crop\n",
    "        \n",
    "        pos_indices = np.argwhere(mask_volume > 0)\n",
    "        rand_index = np.random.randint(low=0, high=pos_indices.shape[0])\n",
    "        center_coords = pos_indices[rand_index, :]\n",
    "\n",
    "        # Calculate the starting point of the crop based on the center\n",
    "        start_depth = max(center_coords[0] - crop_size[0] // 2, 0)\n",
    "        start_height = max(center_coords[1] - crop_size[1] // 2, 0)\n",
    "        start_width = max(center_coords[2] - crop_size[2] // 2, 0)\n",
    "\n",
    "        # Adjust the starting point to avoid out-of-bounds cropping\n",
    "        start_depth = min(start_depth, depth - crop_size[0])\n",
    "        start_height = min(start_height, height - crop_size[1])\n",
    "        start_width = min(start_width, width - crop_size[2])\n",
    "\n",
    "        # Crop the image and mask volumes\n",
    "        cropped_image = image_volume[start_depth:start_depth + crop_size[0],\n",
    "                                     start_height:start_height + crop_size[1],\n",
    "                                     start_width:start_width + crop_size[2]]\n",
    "\n",
    "        cropped_mask = mask_volume[start_depth:start_depth + crop_size[0],\n",
    "                                   start_height:start_height + crop_size[1],\n",
    "                                   start_width:start_width + crop_size[2]]\n",
    "\n",
    "        cropped_samples_i.append(cropped_image)\n",
    "        cropped_samples_m.append(cropped_mask)\n",
    "\n",
    "    for _ in range(num_neg_samples):\n",
    "        # Randomly choose a background voxel as the center of the crop\n",
    "        neg_indices = np.argwhere(mask_volume == 0)\n",
    "        rand_index = np.random.randint(low=0, high=neg_indices.shape[0])\n",
    "        center_coords = neg_indices[rand_index, :]\n",
    "\n",
    "        # Calculate the starting point of the crop based on the center\n",
    "        start_depth = max(center_coords[0] - crop_size[0] // 2, 0)\n",
    "        start_height = max(center_coords[1] - crop_size[1] // 2, 0)\n",
    "        start_width = max(center_coords[2] - crop_size[2] // 2, 0)\n",
    "\n",
    "        # Adjust the starting point to avoid out-of-bounds cropping\n",
    "        start_depth = min(start_depth, depth - crop_size[0])\n",
    "        start_height = min(start_height, height - crop_size[1])\n",
    "        start_width = min(start_width, width - crop_size[2])\n",
    "\n",
    "        # Crop the image and mask volumes\n",
    "        cropped_image = image_volume[start_depth:start_depth + crop_size[0],\n",
    "                                     start_height:start_height + crop_size[1],\n",
    "                                     start_width:start_width + crop_size[2]]\n",
    "\n",
    "        cropped_mask = mask_volume[start_depth:start_depth + crop_size[0],\n",
    "                                   start_height:start_height + crop_size[1],\n",
    "                                   start_width:start_width + crop_size[2]]\n",
    "\n",
    "        cropped_samples_i.append(cropped_image)\n",
    "        cropped_samples_m.append(cropped_mask)\n",
    "    random.Random(p).shuffle(cropped_samples_i)\n",
    "    random.Random(p).shuffle(cropped_samples_m)\n",
    "    cropped_samples_i = np.array(cropped_samples_i)\n",
    "    cropped_samples_m = np.array(cropped_samples_m)\n",
    "    \n",
    "    return cropped_samples_i, cropped_samples_m\n",
    "\n"
   ]
  },
  {
   "cell_type": "code",
   "execution_count": 6,
   "id": "bfc6f085",
   "metadata": {},
   "outputs": [
    {
     "name": "stdout",
     "output_type": "stream",
     "text": [
      "41 28 5 8\n",
      "['/home/rabeea/Task09_Spleen/imagesTr/spleen_13.nii.gz', '/home/rabeea/Task09_Spleen/imagesTr/spleen_10.nii.gz', '/home/rabeea/Task09_Spleen/imagesTr/spleen_63.nii.gz'] ['/home/rabeea/Task09_Spleen/labelsTr/spleen_13.nii.gz', '/home/rabeea/Task09_Spleen/labelsTr/spleen_10.nii.gz', '/home/rabeea/Task09_Spleen/labelsTr/spleen_63.nii.gz']\n"
     ]
    }
   ],
   "source": [
    "imgpath = sorted(glob.glob(r\"/home/rabeea/Task09_Spleen/imagesTr/*.gz\", recursive = True))\n",
    "maskpath = sorted(glob.glob(r\"/home/rabeea/Task09_Spleen/labelsTr/*.gz\", recursive = True))\n",
    "tr = 28\n",
    "val = 5\n",
    "ts = 8\n",
    "random.Random(42).shuffle(imgpath)\n",
    "random.Random(42).shuffle(maskpath)\n",
    "trainpath = imgpath[:tr]\n",
    "trainpath_m = maskpath[:tr]\n",
    "valpath = imgpath[tr:tr+val]\n",
    "valpath_m = maskpath[tr:tr+val]\n",
    "testpath = imgpath[tr+val:]\n",
    "testpath_m = maskpath[tr+val:]\n",
    "print(len(imgpath), len(trainpath), len(valpath), len(testpath))\n",
    "print(valpath[:3],valpath_m[:3])"
   ]
  },
  {
   "cell_type": "code",
   "execution_count": 7,
   "id": "129c9088",
   "metadata": {},
   "outputs": [],
   "source": [
    "from torch.utils.data import Dataset, DataLoader\n",
    "from torchvision.transforms import ToTensor\n",
    "# Define custom dataset class\n",
    "\n",
    "\n",
    "def parse_image(img_path):\n",
    "    imgg = nib.load(img_path)\n",
    "    img = imgg.get_fdata()\n",
    "    #print('image size: ',img.shape)\n",
    "    x, y, z = imgg.header.get_zooms()\n",
    "    #print('x, y, z: ',x, y, z)\n",
    "    new_x = int(x*img.shape[0])\n",
    "    new_y = int(y*img.shape[1])\n",
    "    new_z = int(z*img.shape[2])\n",
    "    image_size = (new_x,new_y,new_z)\n",
    "    #print('newsize: ',image_size)\n",
    "    img = res_scan(img, image_size)\n",
    "    img = get_normalized(img,-57,164)\n",
    "    \n",
    "#     mn = np.amin(img)\n",
    "#     mx = np.amax(img)\n",
    "#     d = mx - mn\n",
    "#     img = (img-mn)/d\n",
    "    #img = np.expand_dims(img, axis=3)\n",
    "    #train_img = np.stack((image_rgb,)*3, axis=-1)\n",
    "    \n",
    "    return img, image_size\n",
    "\n",
    "def parse_mask(mask_path, image_size):\n",
    "    mask = nib.load(mask_path)\n",
    "    mask = mask.get_fdata()\n",
    "    #mask = np.swapaxes(mask,0,2)\n",
    "    mask = res_mask(mask, image_size)\n",
    "    #mask = np.expand_dims(mask, axis=3)\n",
    "    \n",
    "    mask = np.where(mask>0,1,mask)\n",
    "    mask = mask.astype(np.uint8)\n",
    "    return mask\n",
    "\n",
    "class DataGen(Dataset):\n",
    "    def __init__(self, image_size, images_path , mask_path, batch_size=1,num_samples=4, pos_to_neg_ratio=1 ,transform=None):\n",
    "        self.image_size = image_size\n",
    "        self.images_path = images_path\n",
    "        self.mask_path = mask_path\n",
    "        self.num_samples = num_samples\n",
    "        self.pos_to_neg_ratio = pos_to_neg_ratio\n",
    "        self.batch_size = batch_size\n",
    "        self.transform = transform\n",
    "\n",
    "    def __len__(self):\n",
    "        return len(self.images_path)\n",
    "\n",
    "    def __getitem__(self, index):\n",
    "        image,img_size = parse_image(self.images_path[index])\n",
    "        mask = parse_mask(self.mask_path[index], img_size)\n",
    "\n",
    "        image, mask = random_crop_3d_samples(image, mask, self.image_size, self.num_samples, self.pos_to_neg_ratio)\n",
    "        image = torch.tensor(image)\n",
    "        mask = torch.from_numpy(mask).long()\n",
    "\n",
    "        if self.transform is not None:\n",
    "            image = self.transform(image)\n",
    "\n",
    "        return image, mask\n"
   ]
  },
  {
   "cell_type": "code",
   "execution_count": 8,
   "id": "6beaa2f4",
   "metadata": {},
   "outputs": [],
   "source": [
    "image_size = (96,96,96)\n",
    "batch_size = 1\n",
    "num_samples=4\n",
    "pos_to_neg_ratio=1\n",
    "epochs = 400\n",
    "\n",
    "train_steps = len(trainpath)//batch_size\n",
    "valid_steps = len(valpath)//batch_size\n",
    "\n",
    "## Generator\n",
    "train_gen = DataGen(image_size, trainpath,trainpath_m,batch_size=batch_size,num_samples=4, pos_to_neg_ratio=1)\n",
    "valid_gen = DataGen(image_size,valpath, valpath_m, batch_size=batch_size,num_samples=4, pos_to_neg_ratio=1 )\n",
    "\n",
    "train_loader = DataLoader(train_gen, batch_size=batch_size, shuffle=False)\n",
    "val_loader = DataLoader(valid_gen, batch_size=batch_size,shuffle=False) "
   ]
  },
  {
   "cell_type": "code",
   "execution_count": 9,
   "id": "cc1fb1da",
   "metadata": {},
   "outputs": [
    {
     "name": "stdout",
     "output_type": "stream",
     "text": [
      "Feature batch shape: torch.Size([1, 4, 96, 96, 96])\n",
      "Labels batch shape: torch.Size([1, 4, 96, 96, 96])\n",
      "image type:  torch.float64\n",
      "mask type:  torch.int64\n",
      "image range:  tensor(1., dtype=torch.float64) tensor(0., dtype=torch.float64)\n"
     ]
    }
   ],
   "source": [
    "# Display image and label.\n",
    "train_features, train_labels = next(iter(train_loader))\n",
    "print(f\"Feature batch shape: {train_features.size()}\")\n",
    "print(f\"Labels batch shape: {train_labels.size()}\")\n",
    "img = train_features[0].squeeze()\n",
    "label = train_labels[0]\n",
    "print('image type: ',img.dtype)\n",
    "print('mask type: ', label.dtype)\n",
    "print('image range: ', torch.max(img), torch.min(img))\n"
   ]
  },
  {
   "cell_type": "code",
   "execution_count": 10,
   "id": "62248a4b",
   "metadata": {},
   "outputs": [
    {
     "data": {
      "text/plain": [
       "<matplotlib.image.AxesImage at 0x7fa7626cce80>"
      ]
     },
     "execution_count": 10,
     "metadata": {},
     "output_type": "execute_result"
    },
    {
     "data": {
      "image/png": "[encoded data removed]",
      "text/plain": [
       "<Figure size 640x480 with 1 Axes>"
      ]
     },
     "metadata": {},
     "output_type": "display_data"
    }
   ],
   "source": [
    "plt.imshow(img[1,:,:,45], cmap=\"gray\")\n",
    "plt.imshow(label[1,:,:,45], 'gray', alpha=0.5)"
   ]
  },
  {
   "cell_type": "code",
   "execution_count": 11,
   "id": "fa178864",
   "metadata": {},
   "outputs": [],
   "source": [
    "heads = 2\n",
    "dim = 8\n",
    "embed_dim = 4"
   ]
  },
  {
   "cell_type": "code",
   "execution_count": 12,
   "id": "be011cd8",
   "metadata": {},
   "outputs": [
    {
     "name": "stdout",
     "output_type": "stream",
     "text": [
      "1728\n"
     ]
    },
    {
     "data": {
      "text/plain": [
       "BTS(\n",
       "  (linear_encoding): Linear(in_features=128, out_features=512, bias=True)\n",
       "  (position_encoding): LearnedPositionalEncoding()\n",
       "  (pe_dropout): Dropout(p=0.1, inplace=False)\n",
       "  (transformer): TransformerModel(\n",
       "    (net): IntermediateSequential(\n",
       "      (0): Residual(\n",
       "        (fn): PreNormDrop(\n",
       "          (norm): LayerNorm((512,), eps=1e-05, elementwise_affine=True)\n",
       "          (dropout): Dropout(p=0.1, inplace=False)\n",
       "          (fn): SelfAttention(\n",
       "            (qkv): Linear(in_features=512, out_features=1536, bias=False)\n",
       "            (attn_drop): Dropout(p=0.1, inplace=False)\n",
       "            (proj): Linear(in_features=512, out_features=512, bias=True)\n",
       "            (proj_drop): Dropout(p=0.1, inplace=False)\n",
       "          )\n",
       "        )\n",
       "      )\n",
       "      (1): Residual(\n",
       "        (fn): PreNorm(\n",
       "          (norm): LayerNorm((512,), eps=1e-05, elementwise_affine=True)\n",
       "          (fn): FeedForward(\n",
       "            (net): Sequential(\n",
       "              (0): Linear(in_features=512, out_features=4096, bias=True)\n",
       "              (1): GELU(approximate='none')\n",
       "              (2): Dropout(p=0.1, inplace=False)\n",
       "              (3): Linear(in_features=4096, out_features=512, bias=True)\n",
       "              (4): Dropout(p=0.1, inplace=False)\n",
       "            )\n",
       "          )\n",
       "        )\n",
       "      )\n",
       "      (2): Residual(\n",
       "        (fn): PreNormDrop(\n",
       "          (norm): LayerNorm((512,), eps=1e-05, elementwise_affine=True)\n",
       "          (dropout): Dropout(p=0.1, inplace=False)\n",
       "          (fn): SelfAttention(\n",
       "            (qkv): Linear(in_features=512, out_features=1536, bias=False)\n",
       "            (attn_drop): Dropout(p=0.1, inplace=False)\n",
       "            (proj): Linear(in_features=512, out_features=512, bias=True)\n",
       "            (proj_drop): Dropout(p=0.1, inplace=False)\n",
       "          )\n",
       "        )\n",
       "      )\n",
       "      (3): Residual(\n",
       "        (fn): PreNorm(\n",
       "          (norm): LayerNorm((512,), eps=1e-05, elementwise_affine=True)\n",
       "          (fn): FeedForward(\n",
       "            (net): Sequential(\n",
       "              (0): Linear(in_features=512, out_features=4096, bias=True)\n",
       "              (1): GELU(approximate='none')\n",
       "              (2): Dropout(p=0.1, inplace=False)\n",
       "              (3): Linear(in_features=4096, out_features=512, bias=True)\n",
       "              (4): Dropout(p=0.1, inplace=False)\n",
       "            )\n",
       "          )\n",
       "        )\n",
       "      )\n",
       "      (4): Residual(\n",
       "        (fn): PreNormDrop(\n",
       "          (norm): LayerNorm((512,), eps=1e-05, elementwise_affine=True)\n",
       "          (dropout): Dropout(p=0.1, inplace=False)\n",
       "          (fn): SelfAttention(\n",
       "            (qkv): Linear(in_features=512, out_features=1536, bias=False)\n",
       "            (attn_drop): Dropout(p=0.1, inplace=False)\n",
       "            (proj): Linear(in_features=512, out_features=512, bias=True)\n",
       "            (proj_drop): Dropout(p=0.1, inplace=False)\n",
       "          )\n",
       "        )\n",
       "      )\n",
       "      (5): Residual(\n",
       "        (fn): PreNorm(\n",
       "          (norm): LayerNorm((512,), eps=1e-05, elementwise_affine=True)\n",
       "          (fn): FeedForward(\n",
       "            (net): Sequential(\n",
       "              (0): Linear(in_features=512, out_features=4096, bias=True)\n",
       "              (1): GELU(approximate='none')\n",
       "              (2): Dropout(p=0.1, inplace=False)\n",
       "              (3): Linear(in_features=4096, out_features=512, bias=True)\n",
       "              (4): Dropout(p=0.1, inplace=False)\n",
       "            )\n",
       "          )\n",
       "        )\n",
       "      )\n",
       "      (6): Residual(\n",
       "        (fn): PreNormDrop(\n",
       "          (norm): LayerNorm((512,), eps=1e-05, elementwise_affine=True)\n",
       "          (dropout): Dropout(p=0.1, inplace=False)\n",
       "          (fn): SelfAttention(\n",
       "            (qkv): Linear(in_features=512, out_features=1536, bias=False)\n",
       "            (attn_drop): Dropout(p=0.1, inplace=False)\n",
       "            (proj): Linear(in_features=512, out_features=512, bias=True)\n",
       "            (proj_drop): Dropout(p=0.1, inplace=False)\n",
       "          )\n",
       "        )\n",
       "      )\n",
       "      (7): Residual(\n",
       "        (fn): PreNorm(\n",
       "          (norm): LayerNorm((512,), eps=1e-05, elementwise_affine=True)\n",
       "          (fn): FeedForward(\n",
       "            (net): Sequential(\n",
       "              (0): Linear(in_features=512, out_features=4096, bias=True)\n",
       "              (1): GELU(approximate='none')\n",
       "              (2): Dropout(p=0.1, inplace=False)\n",
       "              (3): Linear(in_features=4096, out_features=512, bias=True)\n",
       "              (4): Dropout(p=0.1, inplace=False)\n",
       "            )\n",
       "          )\n",
       "        )\n",
       "      )\n",
       "    )\n",
       "  )\n",
       "  (pre_head_ln): LayerNorm((512,), eps=1e-05, elementwise_affine=True)\n",
       "  (conv_x): Conv3d(128, 512, kernel_size=(3, 3, 3), stride=(1, 1, 1), padding=(1, 1, 1))\n",
       "  (Unet): Unet(\n",
       "    (InitConv): InitConv(\n",
       "      (conv): Conv3d(1, 16, kernel_size=(3, 3, 3), stride=(1, 1, 1), padding=(1, 1, 1))\n",
       "    )\n",
       "    (EnBlock1): EnBlock(\n",
       "      (bn1): GroupNorm(8, 16, eps=1e-05, affine=True)\n",
       "      (relu1): ReLU(inplace=True)\n",
       "      (conv1): Conv3d(16, 16, kernel_size=(3, 3, 3), stride=(1, 1, 1), padding=(1, 1, 1))\n",
       "      (bn2): GroupNorm(8, 16, eps=1e-05, affine=True)\n",
       "      (relu2): ReLU(inplace=True)\n",
       "      (conv2): Conv3d(16, 16, kernel_size=(3, 3, 3), stride=(1, 1, 1), padding=(1, 1, 1))\n",
       "    )\n",
       "    (EnDown1): EnDown(\n",
       "      (conv): Conv3d(16, 32, kernel_size=(3, 3, 3), stride=(2, 2, 2), padding=(1, 1, 1))\n",
       "    )\n",
       "    (EnBlock2_1): EnBlock(\n",
       "      (bn1): GroupNorm(8, 32, eps=1e-05, affine=True)\n",
       "      (relu1): ReLU(inplace=True)\n",
       "      (conv1): Conv3d(32, 32, kernel_size=(3, 3, 3), stride=(1, 1, 1), padding=(1, 1, 1))\n",
       "      (bn2): GroupNorm(8, 32, eps=1e-05, affine=True)\n",
       "      (relu2): ReLU(inplace=True)\n",
       "      (conv2): Conv3d(32, 32, kernel_size=(3, 3, 3), stride=(1, 1, 1), padding=(1, 1, 1))\n",
       "    )\n",
       "    (EnBlock2_2): EnBlock(\n",
       "      (bn1): GroupNorm(8, 32, eps=1e-05, affine=True)\n",
       "      (relu1): ReLU(inplace=True)\n",
       "      (conv1): Conv3d(32, 32, kernel_size=(3, 3, 3), stride=(1, 1, 1), padding=(1, 1, 1))\n",
       "      (bn2): GroupNorm(8, 32, eps=1e-05, affine=True)\n",
       "      (relu2): ReLU(inplace=True)\n",
       "      (conv2): Conv3d(32, 32, kernel_size=(3, 3, 3), stride=(1, 1, 1), padding=(1, 1, 1))\n",
       "    )\n",
       "    (EnDown2): EnDown(\n",
       "      (conv): Conv3d(32, 64, kernel_size=(3, 3, 3), stride=(2, 2, 2), padding=(1, 1, 1))\n",
       "    )\n",
       "    (EnBlock3_1): EnBlock(\n",
       "      (bn1): GroupNorm(8, 64, eps=1e-05, affine=True)\n",
       "      (relu1): ReLU(inplace=True)\n",
       "      (conv1): Conv3d(64, 64, kernel_size=(3, 3, 3), stride=(1, 1, 1), padding=(1, 1, 1))\n",
       "      (bn2): GroupNorm(8, 64, eps=1e-05, affine=True)\n",
       "      (relu2): ReLU(inplace=True)\n",
       "      (conv2): Conv3d(64, 64, kernel_size=(3, 3, 3), stride=(1, 1, 1), padding=(1, 1, 1))\n",
       "    )\n",
       "    (EnBlock3_2): EnBlock(\n",
       "      (bn1): GroupNorm(8, 64, eps=1e-05, affine=True)\n",
       "      (relu1): ReLU(inplace=True)\n",
       "      (conv1): Conv3d(64, 64, kernel_size=(3, 3, 3), stride=(1, 1, 1), padding=(1, 1, 1))\n",
       "      (bn2): GroupNorm(8, 64, eps=1e-05, affine=True)\n",
       "      (relu2): ReLU(inplace=True)\n",
       "      (conv2): Conv3d(64, 64, kernel_size=(3, 3, 3), stride=(1, 1, 1), padding=(1, 1, 1))\n",
       "    )\n",
       "    (EnDown3): EnDown(\n",
       "      (conv): Conv3d(64, 128, kernel_size=(3, 3, 3), stride=(2, 2, 2), padding=(1, 1, 1))\n",
       "    )\n",
       "    (EnBlock4_1): EnBlock(\n",
       "      (bn1): GroupNorm(8, 128, eps=1e-05, affine=True)\n",
       "      (relu1): ReLU(inplace=True)\n",
       "      (conv1): Conv3d(128, 128, kernel_size=(3, 3, 3), stride=(1, 1, 1), padding=(1, 1, 1))\n",
       "      (bn2): GroupNorm(8, 128, eps=1e-05, affine=True)\n",
       "      (relu2): ReLU(inplace=True)\n",
       "      (conv2): Conv3d(128, 128, kernel_size=(3, 3, 3), stride=(1, 1, 1), padding=(1, 1, 1))\n",
       "    )\n",
       "    (EnBlock4_2): EnBlock(\n",
       "      (bn1): GroupNorm(8, 128, eps=1e-05, affine=True)\n",
       "      (relu1): ReLU(inplace=True)\n",
       "      (conv1): Conv3d(128, 128, kernel_size=(3, 3, 3), stride=(1, 1, 1), padding=(1, 1, 1))\n",
       "      (bn2): GroupNorm(8, 128, eps=1e-05, affine=True)\n",
       "      (relu2): ReLU(inplace=True)\n",
       "      (conv2): Conv3d(128, 128, kernel_size=(3, 3, 3), stride=(1, 1, 1), padding=(1, 1, 1))\n",
       "    )\n",
       "    (EnBlock4_3): EnBlock(\n",
       "      (bn1): GroupNorm(8, 128, eps=1e-05, affine=True)\n",
       "      (relu1): ReLU(inplace=True)\n",
       "      (conv1): Conv3d(128, 128, kernel_size=(3, 3, 3), stride=(1, 1, 1), padding=(1, 1, 1))\n",
       "      (bn2): GroupNorm(8, 128, eps=1e-05, affine=True)\n",
       "      (relu2): ReLU(inplace=True)\n",
       "      (conv2): Conv3d(128, 128, kernel_size=(3, 3, 3), stride=(1, 1, 1), padding=(1, 1, 1))\n",
       "    )\n",
       "    (EnBlock4_4): EnBlock(\n",
       "      (bn1): GroupNorm(8, 128, eps=1e-05, affine=True)\n",
       "      (relu1): ReLU(inplace=True)\n",
       "      (conv1): Conv3d(128, 128, kernel_size=(3, 3, 3), stride=(1, 1, 1), padding=(1, 1, 1))\n",
       "      (bn2): GroupNorm(8, 128, eps=1e-05, affine=True)\n",
       "      (relu2): ReLU(inplace=True)\n",
       "      (conv2): Conv3d(128, 128, kernel_size=(3, 3, 3), stride=(1, 1, 1), padding=(1, 1, 1))\n",
       "    )\n",
       "  )\n",
       "  (bn): BatchNorm3d(128, eps=1e-05, momentum=0.1, affine=True, track_running_stats=True)\n",
       "  (relu): ReLU(inplace=True)\n",
       "  (Sigmoid): Sigmoid()\n",
       "  (Enblock8_1): EnBlock1(\n",
       "    (bn1): BatchNorm3d(128, eps=1e-05, momentum=0.1, affine=True, track_running_stats=True)\n",
       "    (relu1): ReLU(inplace=True)\n",
       "    (bn2): BatchNorm3d(128, eps=1e-05, momentum=0.1, affine=True, track_running_stats=True)\n",
       "    (relu2): ReLU(inplace=True)\n",
       "    (conv1): Conv3d(512, 128, kernel_size=(3, 3, 3), stride=(1, 1, 1), padding=(1, 1, 1))\n",
       "    (conv2): Conv3d(128, 128, kernel_size=(3, 3, 3), stride=(1, 1, 1), padding=(1, 1, 1))\n",
       "  )\n",
       "  (Enblock8_2): EnBlock2(\n",
       "    (conv1): Conv3d(128, 128, kernel_size=(3, 3, 3), stride=(1, 1, 1), padding=(1, 1, 1))\n",
       "    (bn1): BatchNorm3d(128, eps=1e-05, momentum=0.1, affine=True, track_running_stats=True)\n",
       "    (relu1): ReLU(inplace=True)\n",
       "    (bn2): BatchNorm3d(128, eps=1e-05, momentum=0.1, affine=True, track_running_stats=True)\n",
       "    (relu2): ReLU(inplace=True)\n",
       "    (conv2): Conv3d(128, 128, kernel_size=(3, 3, 3), stride=(1, 1, 1), padding=(1, 1, 1))\n",
       "  )\n",
       "  (DeUp4): DeUp_Cat(\n",
       "    (conv1): Conv3d(128, 64, kernel_size=(1, 1, 1), stride=(1, 1, 1))\n",
       "    (conv2): ConvTranspose3d(64, 64, kernel_size=(2, 2, 2), stride=(2, 2, 2))\n",
       "    (conv3): Conv3d(128, 64, kernel_size=(1, 1, 1), stride=(1, 1, 1))\n",
       "  )\n",
       "  (DeBlock4): DeBlock(\n",
       "    (bn1): BatchNorm3d(64, eps=1e-05, momentum=0.1, affine=True, track_running_stats=True)\n",
       "    (relu1): ReLU(inplace=True)\n",
       "    (conv1): Conv3d(64, 64, kernel_size=(3, 3, 3), stride=(1, 1, 1), padding=(1, 1, 1))\n",
       "    (conv2): Conv3d(64, 64, kernel_size=(3, 3, 3), stride=(1, 1, 1), padding=(1, 1, 1))\n",
       "    (bn2): BatchNorm3d(64, eps=1e-05, momentum=0.1, affine=True, track_running_stats=True)\n",
       "    (relu2): ReLU(inplace=True)\n",
       "  )\n",
       "  (DeUp3): DeUp_Cat(\n",
       "    (conv1): Conv3d(64, 32, kernel_size=(1, 1, 1), stride=(1, 1, 1))\n",
       "    (conv2): ConvTranspose3d(32, 32, kernel_size=(2, 2, 2), stride=(2, 2, 2))\n",
       "    (conv3): Conv3d(64, 32, kernel_size=(1, 1, 1), stride=(1, 1, 1))\n",
       "  )\n",
       "  (DeBlock3): DeBlock(\n",
       "    (bn1): BatchNorm3d(32, eps=1e-05, momentum=0.1, affine=True, track_running_stats=True)\n",
       "    (relu1): ReLU(inplace=True)\n",
       "    (conv1): Conv3d(32, 32, kernel_size=(3, 3, 3), stride=(1, 1, 1), padding=(1, 1, 1))\n",
       "    (conv2): Conv3d(32, 32, kernel_size=(3, 3, 3), stride=(1, 1, 1), padding=(1, 1, 1))\n",
       "    (bn2): BatchNorm3d(32, eps=1e-05, momentum=0.1, affine=True, track_running_stats=True)\n",
       "    (relu2): ReLU(inplace=True)\n",
       "  )\n",
       "  (DeUp2): DeUp_Cat(\n",
       "    (conv1): Conv3d(32, 16, kernel_size=(1, 1, 1), stride=(1, 1, 1))\n",
       "    (conv2): ConvTranspose3d(16, 16, kernel_size=(2, 2, 2), stride=(2, 2, 2))\n",
       "    (conv3): Conv3d(32, 16, kernel_size=(1, 1, 1), stride=(1, 1, 1))\n",
       "  )\n",
       "  (DeBlock2): DeBlock(\n",
       "    (bn1): BatchNorm3d(16, eps=1e-05, momentum=0.1, affine=True, track_running_stats=True)\n",
       "    (relu1): ReLU(inplace=True)\n",
       "    (conv1): Conv3d(16, 16, kernel_size=(3, 3, 3), stride=(1, 1, 1), padding=(1, 1, 1))\n",
       "    (conv2): Conv3d(16, 16, kernel_size=(3, 3, 3), stride=(1, 1, 1), padding=(1, 1, 1))\n",
       "    (bn2): BatchNorm3d(16, eps=1e-05, momentum=0.1, affine=True, track_running_stats=True)\n",
       "    (relu2): ReLU(inplace=True)\n",
       "  )\n",
       "  (endconv): Conv3d(16, 1, kernel_size=(1, 1, 1), stride=(1, 1, 1))\n",
       ")"
      ]
     },
     "execution_count": 12,
     "metadata": {},
     "output_type": "execute_result"
    }
   ],
   "source": [
    "from TransBTS_downsample8x_skipconnection import TransBTS\n",
    "_,model = TransBTS(img_dim = 96, skip = False, sk_e=embed_dim, sk_d=dim, sk_h=heads)\n",
    "model.to(device)\n"
   ]
  },
  {
   "cell_type": "code",
   "execution_count": 13,
   "id": "9d408311",
   "metadata": {},
   "outputs": [],
   "source": [
    "#optimizer = optim.SGD(model.parameters(), lr=1e-4)#, momentum=0.9)\n",
    "optimizer = torch.optim.Adam(model.parameters(), lr=0.0002, weight_decay=1e-5, amsgrad=True)\n",
    "torch.cuda.empty_cache()\n",
    "max_dice = 0\n",
    "train_losses = []\n",
    "test_losses = []\n",
    "train_dices = []\n",
    "val_dices = []\n",
    "decrease = 1  \n",
    "not_improve=0"
   ]
  },
  {
   "cell_type": "code",
   "execution_count": 14,
   "id": "eac3447d",
   "metadata": {},
   "outputs": [],
   "source": [
    "filename = '/home/rabeea/logs/TransBTS_spleen/model_16_ly4_lr4.pt'\n",
    "filename_sd = '/home/rabeea/logs/TransBTS_spleen/model_16_ly4_lr4.pth'"
   ]
  },
  {
   "cell_type": "code",
   "execution_count": 15,
   "id": "ee691fae",
   "metadata": {},
   "outputs": [
    {
     "data": {
      "application/vnd.jupyter.widget-view+json": {
       "model_id": "274072bfe69946769ba5b9d98c070f81",
       "version_major": 2,
       "version_minor": 0
      },
      "text/plain": [
       "  0%|          | 0/28 [00:00<?, ?it/s]"
      ]
     },
     "metadata": {},
     "output_type": "display_data"
    },
    {
     "name": "stdout",
     "output_type": "stream",
     "text": [
      "Dice increasing.. 0.000 >> 0.212 \n",
      "saving model...\n",
      "Epoch 1/400, Train Loss: 0.7600, Train Dice: 0.2400, Val Dice: 0.2122, time: 9.67\n"
     ]
    },
    {
     "data": {
      "application/vnd.jupyter.widget-view+json": {
       "model_id": "6ef6ff95bbd442b69c5fc38194bd7f53",
       "version_major": 2,
       "version_minor": 0
      },
      "text/plain": [
       "  0%|          | 0/28 [00:00<?, ?it/s]"
      ]
     },
     "metadata": {},
     "output_type": "display_data"
    },
    {
     "name": "stdout",
     "output_type": "stream",
     "text": [
      "Dice increasing.. 0.212 >> 0.280 \n",
      "saving model...\n",
      "Epoch 2/400, Train Loss: 0.7068, Train Dice: 0.2932, Val Dice: 0.2802, time: 9.48\n"
     ]
    },
    {
     "data": {
      "application/vnd.jupyter.widget-view+json": {
       "model_id": "26ec6477c66244f396b1601d8aa94cb7",
       "version_major": 2,
       "version_minor": 0
      },
      "text/plain": [
       "  0%|          | 0/28 [00:00<?, ?it/s]"
      ]
     },
     "metadata": {},
     "output_type": "display_data"
    },
    {
     "name": "stdout",
     "output_type": "stream",
     "text": [
      "Dice increasing.. 0.280 >> 0.487 \n",
      "saving model...\n",
      "Epoch 3/400, Train Loss: 0.5345, Train Dice: 0.4655, Val Dice: 0.4870, time: 9.45\n"
     ]
    },
    {
     "data": {
      "application/vnd.jupyter.widget-view+json": {
       "model_id": "3ccccfe080d844a69206a404b9be9d9e",
       "version_major": 2,
       "version_minor": 0
      },
      "text/plain": [
       "  0%|          | 0/28 [00:00<?, ?it/s]"
      ]
     },
     "metadata": {},
     "output_type": "display_data"
    },
    {
     "name": "stdout",
     "output_type": "stream",
     "text": [
      "Dice increasing.. 0.487 >> 0.658 \n",
      "saving model...\n",
      "Epoch 4/400, Train Loss: 0.3248, Train Dice: 0.6752, Val Dice: 0.6578, time: 9.45\n"
     ]
    },
    {
     "data": {
      "application/vnd.jupyter.widget-view+json": {
       "model_id": "0d92566ccb1d402088dbc1a3173b2c90",
       "version_major": 2,
       "version_minor": 0
      },
      "text/plain": [
       "  0%|          | 0/28 [00:00<?, ?it/s]"
      ]
     },
     "metadata": {},
     "output_type": "display_data"
    },
    {
     "name": "stdout",
     "output_type": "stream",
     "text": [
      "Dice increasing.. 0.658 >> 0.681 \n",
      "saving model...\n",
      "Epoch 5/400, Train Loss: 0.2335, Train Dice: 0.7665, Val Dice: 0.6811, time: 9.43\n"
     ]
    },
    {
     "data": {
      "application/vnd.jupyter.widget-view+json": {
       "model_id": "0e34786b649848c3a01fe0af95cac112",
       "version_major": 2,
       "version_minor": 0
      },
      "text/plain": [
       "  0%|          | 0/28 [00:00<?, ?it/s]"
      ]
     },
     "metadata": {},
     "output_type": "display_data"
    },
    {
     "name": "stdout",
     "output_type": "stream",
     "text": [
      "Epoch 6/400, Train Loss: 0.2000, Train Dice: 0.8000, Val Dice: 0.4123, time: 9.39\n"
     ]
    },
    {
     "data": {
      "application/vnd.jupyter.widget-view+json": {
       "model_id": "4e619b34e9ca4d6085764c8151ec4b45",
       "version_major": 2,
       "version_minor": 0
      },
      "text/plain": [
       "  0%|          | 0/28 [00:00<?, ?it/s]"
      ]
     },
     "metadata": {},
     "output_type": "display_data"
    },
    {
     "name": "stdout",
     "output_type": "stream",
     "text": [
      "Dice increasing.. 0.681 >> 0.786 \n",
      "saving model...\n",
      "Epoch 7/400, Train Loss: 0.1919, Train Dice: 0.8081, Val Dice: 0.7861, time: 9.40\n"
     ]
    },
    {
     "data": {
      "application/vnd.jupyter.widget-view+json": {
       "model_id": "fae888abb51646aa815824e7e97eb26a",
       "version_major": 2,
       "version_minor": 0
      },
      "text/plain": [
       "  0%|          | 0/28 [00:00<?, ?it/s]"
      ]
     },
     "metadata": {},
     "output_type": "display_data"
    },
    {
     "name": "stdout",
     "output_type": "stream",
     "text": [
      "Epoch 8/400, Train Loss: 0.1971, Train Dice: 0.8029, Val Dice: 0.6308, time: 9.42\n"
     ]
    },
    {
     "data": {
      "application/vnd.jupyter.widget-view+json": {
       "model_id": "46dba56ef593434397058df08b6cf455",
       "version_major": 2,
       "version_minor": 0
      },
      "text/plain": [
       "  0%|          | 0/28 [00:00<?, ?it/s]"
      ]
     },
     "metadata": {},
     "output_type": "display_data"
    },
    {
     "name": "stdout",
     "output_type": "stream",
     "text": [
      "Epoch 9/400, Train Loss: 0.1738, Train Dice: 0.8262, Val Dice: 0.4547, time: 9.44\n"
     ]
    },
    {
     "data": {
      "application/vnd.jupyter.widget-view+json": {
       "model_id": "876c49bd4796457aa1d4f27c3a6d861c",
       "version_major": 2,
       "version_minor": 0
      },
      "text/plain": [
       "  0%|          | 0/28 [00:00<?, ?it/s]"
      ]
     },
     "metadata": {},
     "output_type": "display_data"
    },
    {
     "name": "stdout",
     "output_type": "stream",
     "text": [
      "Dice increasing.. 0.786 >> 0.837 \n",
      "saving model...\n",
      "Epoch 10/400, Train Loss: 0.1607, Train Dice: 0.8393, Val Dice: 0.8369, time: 9.47\n"
     ]
    },
    {
     "data": {
      "application/vnd.jupyter.widget-view+json": {
       "model_id": "8735ea43951b4d2bace5d8d07d5ad2df",
       "version_major": 2,
       "version_minor": 0
      },
      "text/plain": [
       "  0%|          | 0/28 [00:00<?, ?it/s]"
      ]
     },
     "metadata": {},
     "output_type": "display_data"
    },
    {
     "name": "stdout",
     "output_type": "stream",
     "text": [
      "Epoch 11/400, Train Loss: 0.1897, Train Dice: 0.8103, Val Dice: 0.7231, time: 9.52\n"
     ]
    },
    {
     "data": {
      "application/vnd.jupyter.widget-view+json": {
       "model_id": "dc4c7c4894004b249133b71440ffaea5",
       "version_major": 2,
       "version_minor": 0
      },
      "text/plain": [
       "  0%|          | 0/28 [00:00<?, ?it/s]"
      ]
     },
     "metadata": {},
     "output_type": "display_data"
    },
    {
     "name": "stdout",
     "output_type": "stream",
     "text": [
      "Epoch 12/400, Train Loss: 0.1635, Train Dice: 0.8365, Val Dice: 0.8341, time: 9.54\n"
     ]
    },
    {
     "data": {
      "application/vnd.jupyter.widget-view+json": {
       "model_id": "a03994fd0058497da41a5fd32b135e67",
       "version_major": 2,
       "version_minor": 0
      },
      "text/plain": [
       "  0%|          | 0/28 [00:00<?, ?it/s]"
      ]
     },
     "metadata": {},
     "output_type": "display_data"
    },
    {
     "name": "stdout",
     "output_type": "stream",
     "text": [
      "Epoch 13/400, Train Loss: 0.1506, Train Dice: 0.8494, Val Dice: 0.6197, time: 9.53\n"
     ]
    },
    {
     "data": {
      "application/vnd.jupyter.widget-view+json": {
       "model_id": "63a36f581430487b8910884c260511c7",
       "version_major": 2,
       "version_minor": 0
      },
      "text/plain": [
       "  0%|          | 0/28 [00:00<?, ?it/s]"
      ]
     },
     "metadata": {},
     "output_type": "display_data"
    },
    {
     "name": "stdout",
     "output_type": "stream",
     "text": [
      "Dice increasing.. 0.837 >> 0.857 \n",
      "saving model...\n",
      "Epoch 14/400, Train Loss: 0.1844, Train Dice: 0.8156, Val Dice: 0.8568, time: 9.54\n"
     ]
    },
    {
     "data": {
      "application/vnd.jupyter.widget-view+json": {
       "model_id": "80d4791b16814936974f1574d64fe996",
       "version_major": 2,
       "version_minor": 0
      },
      "text/plain": [
       "  0%|          | 0/28 [00:00<?, ?it/s]"
      ]
     },
     "metadata": {},
     "output_type": "display_data"
    },
    {
     "name": "stdout",
     "output_type": "stream",
     "text": [
      "Epoch 15/400, Train Loss: 0.1559, Train Dice: 0.8441, Val Dice: 0.8144, time: 9.53\n"
     ]
    },
    {
     "data": {
      "application/vnd.jupyter.widget-view+json": {
       "model_id": "ad52195259cb4c8ead80bb02b6eff16c",
       "version_major": 2,
       "version_minor": 0
      },
      "text/plain": [
       "  0%|          | 0/28 [00:00<?, ?it/s]"
      ]
     },
     "metadata": {},
     "output_type": "display_data"
    },
    {
     "name": "stdout",
     "output_type": "stream",
     "text": [
      "Epoch 16/400, Train Loss: 0.1375, Train Dice: 0.8625, Val Dice: 0.8094, time: 9.53\n"
     ]
    },
    {
     "data": {
      "application/vnd.jupyter.widget-view+json": {
       "model_id": "c4e1617cd2854136a49adf4b0fbbe75b",
       "version_major": 2,
       "version_minor": 0
      },
      "text/plain": [
       "  0%|          | 0/28 [00:00<?, ?it/s]"
      ]
     },
     "metadata": {},
     "output_type": "display_data"
    },
    {
     "name": "stdout",
     "output_type": "stream",
     "text": [
      "Epoch 17/400, Train Loss: 0.1512, Train Dice: 0.8488, Val Dice: 0.8461, time: 9.52\n"
     ]
    },
    {
     "data": {
      "application/vnd.jupyter.widget-view+json": {
       "model_id": "ddc63fef39914d358c1a5533cf3ad639",
       "version_major": 2,
       "version_minor": 0
      },
      "text/plain": [
       "  0%|          | 0/28 [00:00<?, ?it/s]"
      ]
     },
     "metadata": {},
     "output_type": "display_data"
    },
    {
     "name": "stdout",
     "output_type": "stream",
     "text": [
      "Epoch 18/400, Train Loss: 0.1546, Train Dice: 0.8454, Val Dice: 0.8315, time: 9.46\n"
     ]
    },
    {
     "data": {
      "application/vnd.jupyter.widget-view+json": {
       "model_id": "8d4c840ff0f2441391b5dc42129cc960",
       "version_major": 2,
       "version_minor": 0
      },
      "text/plain": [
       "  0%|          | 0/28 [00:00<?, ?it/s]"
      ]
     },
     "metadata": {},
     "output_type": "display_data"
    },
    {
     "name": "stdout",
     "output_type": "stream",
     "text": [
      "Epoch 19/400, Train Loss: 0.1260, Train Dice: 0.8740, Val Dice: 0.5695, time: 9.50\n"
     ]
    },
    {
     "data": {
      "application/vnd.jupyter.widget-view+json": {
       "model_id": "e3fae619c3cb46678149bd5703a13518",
       "version_major": 2,
       "version_minor": 0
      },
      "text/plain": [
       "  0%|          | 0/28 [00:00<?, ?it/s]"
      ]
     },
     "metadata": {},
     "output_type": "display_data"
    },
    {
     "name": "stdout",
     "output_type": "stream",
     "text": [
      "Dice increasing.. 0.857 >> 0.863 \n",
      "saving model...\n",
      "Epoch 20/400, Train Loss: 0.1476, Train Dice: 0.8524, Val Dice: 0.8634, time: 9.52\n"
     ]
    },
    {
     "data": {
      "application/vnd.jupyter.widget-view+json": {
       "model_id": "98926111f16c48368eecff1f46bca692",
       "version_major": 2,
       "version_minor": 0
      },
      "text/plain": [
       "  0%|          | 0/28 [00:00<?, ?it/s]"
      ]
     },
     "metadata": {},
     "output_type": "display_data"
    },
    {
     "name": "stdout",
     "output_type": "stream",
     "text": [
      "Epoch 21/400, Train Loss: 0.1127, Train Dice: 0.8873, Val Dice: 0.7881, time: 9.56\n"
     ]
    },
    {
     "data": {
      "application/vnd.jupyter.widget-view+json": {
       "model_id": "22f82023e8044488a9ac81265302cb18",
       "version_major": 2,
       "version_minor": 0
      },
      "text/plain": [
       "  0%|          | 0/28 [00:00<?, ?it/s]"
      ]
     },
     "metadata": {},
     "output_type": "display_data"
    },
    {
     "name": "stdout",
     "output_type": "stream",
     "text": [
      "Epoch 22/400, Train Loss: 0.1295, Train Dice: 0.8705, Val Dice: 0.7814, time: 9.52\n"
     ]
    },
    {
     "data": {
      "application/vnd.jupyter.widget-view+json": {
       "model_id": "39b4bc5f24f942ef8869c4a9dfc43358",
       "version_major": 2,
       "version_minor": 0
      },
      "text/plain": [
       "  0%|          | 0/28 [00:00<?, ?it/s]"
      ]
     },
     "metadata": {},
     "output_type": "display_data"
    },
    {
     "name": "stdout",
     "output_type": "stream",
     "text": [
      "Epoch 23/400, Train Loss: 0.1334, Train Dice: 0.8666, Val Dice: 0.7314, time: 9.38\n"
     ]
    },
    {
     "data": {
      "application/vnd.jupyter.widget-view+json": {
       "model_id": "7778f87bb4fd4992824cbea8761eec4f",
       "version_major": 2,
       "version_minor": 0
      },
      "text/plain": [
       "  0%|          | 0/28 [00:00<?, ?it/s]"
      ]
     },
     "metadata": {},
     "output_type": "display_data"
    },
    {
     "name": "stdout",
     "output_type": "stream",
     "text": [
      "Epoch 24/400, Train Loss: 0.1187, Train Dice: 0.8813, Val Dice: 0.8213, time: 9.36\n"
     ]
    },
    {
     "data": {
      "application/vnd.jupyter.widget-view+json": {
       "model_id": "3a2dd1f4fa544f0486f7015ccfed15c0",
       "version_major": 2,
       "version_minor": 0
      },
      "text/plain": [
       "  0%|          | 0/28 [00:00<?, ?it/s]"
      ]
     },
     "metadata": {},
     "output_type": "display_data"
    },
    {
     "name": "stdout",
     "output_type": "stream",
     "text": [
      "Dice increasing.. 0.863 >> 0.879 \n",
      "saving model...\n",
      "Epoch 25/400, Train Loss: 0.0906, Train Dice: 0.9094, Val Dice: 0.8790, time: 9.41\n"
     ]
    },
    {
     "data": {
      "application/vnd.jupyter.widget-view+json": {
       "model_id": "f78c483cb1494fba8567087777089d13",
       "version_major": 2,
       "version_minor": 0
      },
      "text/plain": [
       "  0%|          | 0/28 [00:00<?, ?it/s]"
      ]
     },
     "metadata": {},
     "output_type": "display_data"
    },
    {
     "name": "stdout",
     "output_type": "stream",
     "text": [
      "Epoch 26/400, Train Loss: 0.1000, Train Dice: 0.9000, Val Dice: 0.7631, time: 9.35\n"
     ]
    },
    {
     "data": {
      "application/vnd.jupyter.widget-view+json": {
       "model_id": "447dbe0d706e42dca867e3af9410d905",
       "version_major": 2,
       "version_minor": 0
      },
      "text/plain": [
       "  0%|          | 0/28 [00:00<?, ?it/s]"
      ]
     },
     "metadata": {},
     "output_type": "display_data"
    },
    {
     "name": "stdout",
     "output_type": "stream",
     "text": [
      "Epoch 27/400, Train Loss: 0.1191, Train Dice: 0.8809, Val Dice: 0.8289, time: 9.34\n"
     ]
    },
    {
     "data": {
      "application/vnd.jupyter.widget-view+json": {
       "model_id": "2398bd85b60742e58f84f7a6e6c2ce41",
       "version_major": 2,
       "version_minor": 0
      },
      "text/plain": [
       "  0%|          | 0/28 [00:00<?, ?it/s]"
      ]
     },
     "metadata": {},
     "output_type": "display_data"
    },
    {
     "name": "stdout",
     "output_type": "stream",
     "text": [
      "Dice increasing.. 0.879 >> 0.882 \n",
      "saving model...\n",
      "Epoch 28/400, Train Loss: 0.1216, Train Dice: 0.8784, Val Dice: 0.8824, time: 9.35\n"
     ]
    },
    {
     "data": {
      "application/vnd.jupyter.widget-view+json": {
       "model_id": "47e08b39b79a42a7958346caedb5e002",
       "version_major": 2,
       "version_minor": 0
      },
      "text/plain": [
       "  0%|          | 0/28 [00:00<?, ?it/s]"
      ]
     },
     "metadata": {},
     "output_type": "display_data"
    },
    {
     "name": "stdout",
     "output_type": "stream",
     "text": [
      "Epoch 29/400, Train Loss: 0.1100, Train Dice: 0.8900, Val Dice: 0.8362, time: 9.43\n"
     ]
    },
    {
     "data": {
      "application/vnd.jupyter.widget-view+json": {
       "model_id": "d37742c939684104910d10297c9b219c",
       "version_major": 2,
       "version_minor": 0
      },
      "text/plain": [
       "  0%|          | 0/28 [00:00<?, ?it/s]"
      ]
     },
     "metadata": {},
     "output_type": "display_data"
    },
    {
     "name": "stdout",
     "output_type": "stream",
     "text": [
      "Epoch 30/400, Train Loss: 0.1032, Train Dice: 0.8968, Val Dice: 0.6370, time: 9.36\n"
     ]
    },
    {
     "data": {
      "application/vnd.jupyter.widget-view+json": {
       "model_id": "043fa7326f5342bb8b62a451bbd9a2ab",
       "version_major": 2,
       "version_minor": 0
      },
      "text/plain": [
       "  0%|          | 0/28 [00:00<?, ?it/s]"
      ]
     },
     "metadata": {},
     "output_type": "display_data"
    },
    {
     "name": "stdout",
     "output_type": "stream",
     "text": [
      "Epoch 31/400, Train Loss: 0.0946, Train Dice: 0.9054, Val Dice: 0.7986, time: 9.35\n"
     ]
    },
    {
     "data": {
      "application/vnd.jupyter.widget-view+json": {
       "model_id": "8f71b58fc39f41358f67a93f2eb4d5d8",
       "version_major": 2,
       "version_minor": 0
      },
      "text/plain": [
       "  0%|          | 0/28 [00:00<?, ?it/s]"
      ]
     },
     "metadata": {},
     "output_type": "display_data"
    },
    {
     "name": "stdout",
     "output_type": "stream",
     "text": [
      "Epoch 32/400, Train Loss: 0.1232, Train Dice: 0.8768, Val Dice: 0.8206, time: 9.32\n"
     ]
    },
    {
     "data": {
      "application/vnd.jupyter.widget-view+json": {
       "model_id": "5ff89523475d4714976ff9d9183604b4",
       "version_major": 2,
       "version_minor": 0
      },
      "text/plain": [
       "  0%|          | 0/28 [00:00<?, ?it/s]"
      ]
     },
     "metadata": {},
     "output_type": "display_data"
    },
    {
     "name": "stdout",
     "output_type": "stream",
     "text": [
      "Epoch 33/400, Train Loss: 0.1147, Train Dice: 0.8853, Val Dice: 0.5154, time: 9.43\n"
     ]
    },
    {
     "data": {
      "application/vnd.jupyter.widget-view+json": {
       "model_id": "beb40a1dd29f4c9ea667776d05fcc876",
       "version_major": 2,
       "version_minor": 0
      },
      "text/plain": [
       "  0%|          | 0/28 [00:00<?, ?it/s]"
      ]
     },
     "metadata": {},
     "output_type": "display_data"
    },
    {
     "name": "stdout",
     "output_type": "stream",
     "text": [
      "Epoch 34/400, Train Loss: 0.1007, Train Dice: 0.8993, Val Dice: 0.8394, time: 9.35\n"
     ]
    },
    {
     "data": {
      "application/vnd.jupyter.widget-view+json": {
       "model_id": "1c1f56cf12314c24aca2245b498985ad",
       "version_major": 2,
       "version_minor": 0
      },
      "text/plain": [
       "  0%|          | 0/28 [00:00<?, ?it/s]"
      ]
     },
     "metadata": {},
     "output_type": "display_data"
    },
    {
     "name": "stderr",
     "output_type": "stream",
     "text": [
      "IOPub message rate exceeded.\n",
      "The notebook server will temporarily stop sending output\n",
      "to the client in order to avoid crashing it.\n",
      "To change this limit, set the config variable\n",
      "`--NotebookApp.iopub_msg_rate_limit`.\n",
      "\n",
      "Current values:\n",
      "NotebookApp.iopub_msg_rate_limit=1000.0 (msgs/sec)\n",
      "NotebookApp.rate_limit_window=3.0 (secs)\n",
      "\n"
     ]
    },
    {
     "name": "stdout",
     "output_type": "stream",
     "text": [
      "Epoch 105/400, Train Loss: 0.0523, Train Dice: 0.9477, Val Dice: 0.7721, time: 9.71\n"
     ]
    },
    {
     "data": {
      "application/vnd.jupyter.widget-view+json": {
       "model_id": "aa68e0f606424e3da31110ef4d3c53a5",
       "version_major": 2,
       "version_minor": 0
      },
      "text/plain": [
       "  0%|          | 0/28 [00:00<?, ?it/s]"
      ]
     },
     "metadata": {},
     "output_type": "display_data"
    },
    {
     "name": "stdout",
     "output_type": "stream",
     "text": [
      "Epoch 106/400, Train Loss: 0.0482, Train Dice: 0.9518, Val Dice: 0.7596, time: 9.65\n"
     ]
    },
    {
     "data": {
      "application/vnd.jupyter.widget-view+json": {
       "model_id": "b0f129acfa254a49ba185baaae5bea83",
       "version_major": 2,
       "version_minor": 0
      },
      "text/plain": [
       "  0%|          | 0/28 [00:00<?, ?it/s]"
      ]
     },
     "metadata": {},
     "output_type": "display_data"
    },
    {
     "name": "stdout",
     "output_type": "stream",
     "text": [
      "Epoch 107/400, Train Loss: 0.0522, Train Dice: 0.9478, Val Dice: 0.6400, time: 9.66\n"
     ]
    },
    {
     "data": {
      "application/vnd.jupyter.widget-view+json": {
       "model_id": "a9d3aa76e1394c8fac91caf927b8fe51",
       "version_major": 2,
       "version_minor": 0
      },
      "text/plain": [
       "  0%|          | 0/28 [00:00<?, ?it/s]"
      ]
     },
     "metadata": {},
     "output_type": "display_data"
    },
    {
     "name": "stdout",
     "output_type": "stream",
     "text": [
      "Epoch 108/400, Train Loss: 0.0489, Train Dice: 0.9511, Val Dice: 0.7634, time: 9.69\n"
     ]
    },
    {
     "data": {
      "application/vnd.jupyter.widget-view+json": {
       "model_id": "22f0a26bcd51428f8e46764bb49ed034",
       "version_major": 2,
       "version_minor": 0
      },
      "text/plain": [
       "  0%|          | 0/28 [00:00<?, ?it/s]"
      ]
     },
     "metadata": {},
     "output_type": "display_data"
    },
    {
     "name": "stdout",
     "output_type": "stream",
     "text": [
      "Epoch 109/400, Train Loss: 0.0487, Train Dice: 0.9513, Val Dice: 0.8852, time: 9.69\n"
     ]
    },
    {
     "data": {
      "application/vnd.jupyter.widget-view+json": {
       "model_id": "b1fd646efaf64800a95c36541390fad6",
       "version_major": 2,
       "version_minor": 0
      },
      "text/plain": [
       "  0%|          | 0/28 [00:00<?, ?it/s]"
      ]
     },
     "metadata": {},
     "output_type": "display_data"
    },
    {
     "name": "stdout",
     "output_type": "stream",
     "text": [
      "Epoch 110/400, Train Loss: 0.0494, Train Dice: 0.9506, Val Dice: 0.9341, time: 9.68\n"
     ]
    },
    {
     "data": {
      "application/vnd.jupyter.widget-view+json": {
       "model_id": "effe99d2581044c48d8ffdfb0b408558",
       "version_major": 2,
       "version_minor": 0
      },
      "text/plain": [
       "  0%|          | 0/28 [00:00<?, ?it/s]"
      ]
     },
     "metadata": {},
     "output_type": "display_data"
    },
    {
     "name": "stdout",
     "output_type": "stream",
     "text": [
      "Epoch 111/400, Train Loss: 0.0471, Train Dice: 0.9529, Val Dice: 0.8981, time: 9.53\n"
     ]
    },
    {
     "data": {
      "application/vnd.jupyter.widget-view+json": {
       "model_id": "232aa71ddbd546ed911a14d14de3dd9d",
       "version_major": 2,
       "version_minor": 0
      },
      "text/plain": [
       "  0%|          | 0/28 [00:00<?, ?it/s]"
      ]
     },
     "metadata": {},
     "output_type": "display_data"
    },
    {
     "name": "stdout",
     "output_type": "stream",
     "text": [
      "Epoch 112/400, Train Loss: 0.0498, Train Dice: 0.9502, Val Dice: 0.9132, time: 9.49\n"
     ]
    },
    {
     "data": {
      "application/vnd.jupyter.widget-view+json": {
       "model_id": "d0fd714f74bb46408e44a2868e591f73",
       "version_major": 2,
       "version_minor": 0
      },
      "text/plain": [
       "  0%|          | 0/28 [00:00<?, ?it/s]"
      ]
     },
     "metadata": {},
     "output_type": "display_data"
    },
    {
     "name": "stdout",
     "output_type": "stream",
     "text": [
      "Epoch 113/400, Train Loss: 0.0548, Train Dice: 0.9452, Val Dice: 0.6641, time: 9.46\n"
     ]
    },
    {
     "data": {
      "application/vnd.jupyter.widget-view+json": {
       "model_id": "aa6bbf3333bf4052954020d85107ba3b",
       "version_major": 2,
       "version_minor": 0
      },
      "text/plain": [
       "  0%|          | 0/28 [00:00<?, ?it/s]"
      ]
     },
     "metadata": {},
     "output_type": "display_data"
    },
    {
     "name": "stdout",
     "output_type": "stream",
     "text": [
      "Epoch 114/400, Train Loss: 0.0471, Train Dice: 0.9529, Val Dice: 0.8889, time: 9.43\n"
     ]
    },
    {
     "data": {
      "application/vnd.jupyter.widget-view+json": {
       "model_id": "3acdf9a82351473db4c3d761c8ee0cbf",
       "version_major": 2,
       "version_minor": 0
      },
      "text/plain": [
       "  0%|          | 0/28 [00:00<?, ?it/s]"
      ]
     },
     "metadata": {},
     "output_type": "display_data"
    },
    {
     "name": "stdout",
     "output_type": "stream",
     "text": [
      "Epoch 115/400, Train Loss: 0.0452, Train Dice: 0.9548, Val Dice: 0.9073, time: 9.42\n"
     ]
    },
    {
     "data": {
      "application/vnd.jupyter.widget-view+json": {
       "model_id": "2e7b51aac58e489596d6327d8c043a58",
       "version_major": 2,
       "version_minor": 0
      },
      "text/plain": [
       "  0%|          | 0/28 [00:00<?, ?it/s]"
      ]
     },
     "metadata": {},
     "output_type": "display_data"
    },
    {
     "name": "stdout",
     "output_type": "stream",
     "text": [
      "Epoch 116/400, Train Loss: 0.0640, Train Dice: 0.9360, Val Dice: 0.8864, time: 9.40\n"
     ]
    },
    {
     "data": {
      "application/vnd.jupyter.widget-view+json": {
       "model_id": "dbcb578ec73d4e8a8f3c06ecc8056db9",
       "version_major": 2,
       "version_minor": 0
      },
      "text/plain": [
       "  0%|          | 0/28 [00:00<?, ?it/s]"
      ]
     },
     "metadata": {},
     "output_type": "display_data"
    },
    {
     "name": "stdout",
     "output_type": "stream",
     "text": [
      "Epoch 117/400, Train Loss: 0.0788, Train Dice: 0.9212, Val Dice: 0.7492, time: 9.45\n"
     ]
    },
    {
     "data": {
      "application/vnd.jupyter.widget-view+json": {
       "model_id": "1c15664eaefc479f96bf449250474c32",
       "version_major": 2,
       "version_minor": 0
      },
      "text/plain": [
       "  0%|          | 0/28 [00:00<?, ?it/s]"
      ]
     },
     "metadata": {},
     "output_type": "display_data"
    },
    {
     "name": "stdout",
     "output_type": "stream",
     "text": [
      "Epoch 118/400, Train Loss: 0.1246, Train Dice: 0.8754, Val Dice: 0.7482, time: 9.44\n"
     ]
    },
    {
     "data": {
      "application/vnd.jupyter.widget-view+json": {
       "model_id": "f53353c067ce469d8355bfac2adb556c",
       "version_major": 2,
       "version_minor": 0
      },
      "text/plain": [
       "  0%|          | 0/28 [00:00<?, ?it/s]"
      ]
     },
     "metadata": {},
     "output_type": "display_data"
    },
    {
     "name": "stdout",
     "output_type": "stream",
     "text": [
      "Epoch 119/400, Train Loss: 0.0747, Train Dice: 0.9253, Val Dice: 0.8686, time: 9.43\n"
     ]
    },
    {
     "data": {
      "application/vnd.jupyter.widget-view+json": {
       "model_id": "6d2d501d3e57458084a4b5fd360ecfee",
       "version_major": 2,
       "version_minor": 0
      },
      "text/plain": [
       "  0%|          | 0/28 [00:00<?, ?it/s]"
      ]
     },
     "metadata": {},
     "output_type": "display_data"
    },
    {
     "name": "stdout",
     "output_type": "stream",
     "text": [
      "Epoch 120/400, Train Loss: 0.0673, Train Dice: 0.9327, Val Dice: 0.8882, time: 9.42\n"
     ]
    },
    {
     "data": {
      "application/vnd.jupyter.widget-view+json": {
       "model_id": "76451586ac004bf8890fa3b0bc16cce3",
       "version_major": 2,
       "version_minor": 0
      },
      "text/plain": [
       "  0%|          | 0/28 [00:00<?, ?it/s]"
      ]
     },
     "metadata": {},
     "output_type": "display_data"
    },
    {
     "name": "stdout",
     "output_type": "stream",
     "text": [
      "Epoch 121/400, Train Loss: 0.0579, Train Dice: 0.9421, Val Dice: 0.9364, time: 9.42\n"
     ]
    },
    {
     "data": {
      "application/vnd.jupyter.widget-view+json": {
       "model_id": "b901f6ff22cb437a85c178bf8c093e0d",
       "version_major": 2,
       "version_minor": 0
      },
      "text/plain": [
       "  0%|          | 0/28 [00:00<?, ?it/s]"
      ]
     },
     "metadata": {},
     "output_type": "display_data"
    },
    {
     "name": "stdout",
     "output_type": "stream",
     "text": [
      "Epoch 122/400, Train Loss: 0.0585, Train Dice: 0.9415, Val Dice: 0.9366, time: 9.38\n"
     ]
    },
    {
     "data": {
      "application/vnd.jupyter.widget-view+json": {
       "model_id": "bab5acf67e85418ca5ae10dcdd1cd911",
       "version_major": 2,
       "version_minor": 0
      },
      "text/plain": [
       "  0%|          | 0/28 [00:00<?, ?it/s]"
      ]
     },
     "metadata": {},
     "output_type": "display_data"
    },
    {
     "name": "stdout",
     "output_type": "stream",
     "text": [
      "Epoch 123/400, Train Loss: 0.0708, Train Dice: 0.9292, Val Dice: 0.8700, time: 9.44\n"
     ]
    },
    {
     "data": {
      "application/vnd.jupyter.widget-view+json": {
       "model_id": "cc37250cf8f747acb354ce371f4da4bc",
       "version_major": 2,
       "version_minor": 0
      },
      "text/plain": [
       "  0%|          | 0/28 [00:00<?, ?it/s]"
      ]
     },
     "metadata": {},
     "output_type": "display_data"
    },
    {
     "name": "stdout",
     "output_type": "stream",
     "text": [
      "Epoch 124/400, Train Loss: 0.0745, Train Dice: 0.9255, Val Dice: 0.8474, time: 9.44\n"
     ]
    },
    {
     "data": {
      "application/vnd.jupyter.widget-view+json": {
       "model_id": "8f3cd493bfcf44079a6ae30862ce27ca",
       "version_major": 2,
       "version_minor": 0
      },
      "text/plain": [
       "  0%|          | 0/28 [00:00<?, ?it/s]"
      ]
     },
     "metadata": {},
     "output_type": "display_data"
    },
    {
     "name": "stdout",
     "output_type": "stream",
     "text": [
      "Epoch 125/400, Train Loss: 0.0729, Train Dice: 0.9271, Val Dice: 0.6848, time: 9.40\n"
     ]
    },
    {
     "data": {
      "application/vnd.jupyter.widget-view+json": {
       "model_id": "6107749618bb4bb9a4063a49cfc3d311",
       "version_major": 2,
       "version_minor": 0
      },
      "text/plain": [
       "  0%|          | 0/28 [00:00<?, ?it/s]"
      ]
     },
     "metadata": {},
     "output_type": "display_data"
    },
    {
     "name": "stdout",
     "output_type": "stream",
     "text": [
      "Epoch 126/400, Train Loss: 0.0740, Train Dice: 0.9260, Val Dice: 0.9341, time: 9.36\n"
     ]
    },
    {
     "data": {
      "application/vnd.jupyter.widget-view+json": {
       "model_id": "94d221c8e65d4ee9b47a2ccfe1a18cdd",
       "version_major": 2,
       "version_minor": 0
      },
      "text/plain": [
       "  0%|          | 0/28 [00:00<?, ?it/s]"
      ]
     },
     "metadata": {},
     "output_type": "display_data"
    },
    {
     "name": "stdout",
     "output_type": "stream",
     "text": [
      "Epoch 127/400, Train Loss: 0.0710, Train Dice: 0.9290, Val Dice: 0.8124, time: 9.36\n"
     ]
    },
    {
     "data": {
      "application/vnd.jupyter.widget-view+json": {
       "model_id": "7944fdd4add14ae195e6b9244eb72d8a",
       "version_major": 2,
       "version_minor": 0
      },
      "text/plain": [
       "  0%|          | 0/28 [00:00<?, ?it/s]"
      ]
     },
     "metadata": {},
     "output_type": "display_data"
    },
    {
     "name": "stdout",
     "output_type": "stream",
     "text": [
      "Epoch 128/400, Train Loss: 0.0527, Train Dice: 0.9473, Val Dice: 0.9272, time: 9.40\n"
     ]
    },
    {
     "data": {
      "application/vnd.jupyter.widget-view+json": {
       "model_id": "9dd49641f7c14a8982d182cff693e927",
       "version_major": 2,
       "version_minor": 0
      },
      "text/plain": [
       "  0%|          | 0/28 [00:00<?, ?it/s]"
      ]
     },
     "metadata": {},
     "output_type": "display_data"
    },
    {
     "name": "stdout",
     "output_type": "stream",
     "text": [
      "Epoch 129/400, Train Loss: 0.0614, Train Dice: 0.9386, Val Dice: 0.4612, time: 9.39\n"
     ]
    },
    {
     "data": {
      "application/vnd.jupyter.widget-view+json": {
       "model_id": "3a78e2a4282e483a84bcca66866195db",
       "version_major": 2,
       "version_minor": 0
      },
      "text/plain": [
       "  0%|          | 0/28 [00:00<?, ?it/s]"
      ]
     },
     "metadata": {},
     "output_type": "display_data"
    },
    {
     "name": "stdout",
     "output_type": "stream",
     "text": [
      "Epoch 130/400, Train Loss: 0.0602, Train Dice: 0.9398, Val Dice: 0.9304, time: 9.40\n"
     ]
    },
    {
     "data": {
      "application/vnd.jupyter.widget-view+json": {
       "model_id": "112b73f2d4094e8081ea3ad232514e00",
       "version_major": 2,
       "version_minor": 0
      },
      "text/plain": [
       "  0%|          | 0/28 [00:00<?, ?it/s]"
      ]
     },
     "metadata": {},
     "output_type": "display_data"
    },
    {
     "name": "stdout",
     "output_type": "stream",
     "text": [
      "Epoch 131/400, Train Loss: 0.0629, Train Dice: 0.9371, Val Dice: 0.7588, time: 9.42\n"
     ]
    },
    {
     "data": {
      "application/vnd.jupyter.widget-view+json": {
       "model_id": "dcbc8f3f53e444e5bcc7742a8f171e2e",
       "version_major": 2,
       "version_minor": 0
      },
      "text/plain": [
       "  0%|          | 0/28 [00:00<?, ?it/s]"
      ]
     },
     "metadata": {},
     "output_type": "display_data"
    },
    {
     "name": "stdout",
     "output_type": "stream",
     "text": [
      "Epoch 132/400, Train Loss: 0.0611, Train Dice: 0.9389, Val Dice: 0.8882, time: 9.40\n"
     ]
    },
    {
     "data": {
      "application/vnd.jupyter.widget-view+json": {
       "model_id": "6bfe4b90d1e14cd1912a0ade9495a1a7",
       "version_major": 2,
       "version_minor": 0
      },
      "text/plain": [
       "  0%|          | 0/28 [00:00<?, ?it/s]"
      ]
     },
     "metadata": {},
     "output_type": "display_data"
    },
    {
     "name": "stdout",
     "output_type": "stream",
     "text": [
      "Loss hasnt decreased for 30 epochs, Stopping Training\n"
     ]
    }
   ],
   "source": [
    "\n",
    "fit_time = time.time()\n",
    "for epoch in range(epochs):\n",
    "    # Your dataset or data loading logic goes here\n",
    "    since = time.time()\n",
    "    # Training\n",
    "    model.train()\n",
    "    train_loss = 0\n",
    "    train_dice = 0\n",
    "    num_batches = 0\n",
    "    \n",
    "    for i,data in enumerate(tqdm(train_loader)):  # Replace train_loader with your data loader\n",
    "        inputs, labels = data\n",
    "        # Forward pass\n",
    "        inputs = inputs.permute(1, 0, 2,3,4)\n",
    "        labels = labels.permute(1, 0, 2,3,4)\n",
    "        inputs = inputs.float()\n",
    "        inputs = inputs.to(device)\n",
    "        labels = labels.to(device)\n",
    "        outputs = model(inputs)\n",
    "        # Calculate loss\n",
    "        loss = dice_loss(outputs, labels)\n",
    "        \n",
    "        # Backpropagation and optimization\n",
    "        optimizer.zero_grad()\n",
    "        loss.backward()\n",
    "        optimizer.step()\n",
    "        \n",
    "        train_loss += loss.item()\n",
    "        train_dice += dice_coeff(outputs, labels).item()\n",
    "        num_batches += 1\n",
    "    \n",
    "    train_loss /= num_batches\n",
    "    train_dice /= num_batches\n",
    "    \n",
    "    # Validation\n",
    "    model.eval()\n",
    "    val_dice = 0.0\n",
    "    test_loss = 0.0\n",
    "    with torch.no_grad():\n",
    "        for val_inputs, val_targets in val_loader:\n",
    "            val_inputs = val_inputs.permute(1, 0, 2,3,4)\n",
    "            val_targets = val_targets.permute(1, 0, 2,3,4)\n",
    "            val_inputs = val_inputs.float()\n",
    "            val_inputs = val_inputs.to(device)\n",
    "            val_targets = val_targets.to(device)\n",
    "            val_outputs = model(val_inputs)\n",
    "            val_dice += dice_coeff(val_outputs,val_targets).item()\n",
    "            test_loss += dice_loss(val_outputs,val_targets).item()\n",
    "            \n",
    "    val_dice /= len(val_loader)\n",
    "    test_loss /= len(val_loader)\n",
    "    # Perform validation and calculate validation loss and dice coefficient\n",
    "    train_losses.append(train_loss)\n",
    "    test_losses.append(test_loss)\n",
    "    train_dices.append(train_dice)\n",
    "    val_dices.append(val_dice)\n",
    "    if max_dice < val_dice:\n",
    "        print('Dice increasing.. {:.3f} >> {:.3f} '.format(max_dice, val_dice))\n",
    "        max_dice = val_dice\n",
    "        decrease += 1\n",
    "        not_improve = 0\n",
    "        #if decrease % 5 == 0:\n",
    "        print('saving model...')\n",
    "        #torch.save(model, 'TransAttUNetSkip-{:.3f}.pt'.format(val_dice))\n",
    "        torch.save(model, filename)\n",
    "        torch.save(model.state_dict(), filename_sd)\n",
    "    if max_dice > val_dice:\n",
    "        not_improve += 1\n",
    "#         min_loss = test_loss\n",
    "#         print(f'Loss Not Decrease for {not_improve} time')\n",
    "        if not_improve == 30:\n",
    "            print('Loss hasnt decreased for 30 epochs, Stopping Training')\n",
    "            break\n",
    "    \n",
    "    # Print the metrics+\n",
    "    print(f\"Epoch {epoch+1}/{epochs}, Train Loss: {train_loss:.4f}, Train Dice: {train_dice:.4f}, Val Dice: {val_dice:.4f}, time: {((time.time() - since)/60):.2f}\")\n",
    "\n",
    "    "
   ]
  },
  {
   "cell_type": "code",
   "execution_count": 16,
   "id": "23216738",
   "metadata": {},
   "outputs": [],
   "source": [
    "torch.save(model, filename[:-3] + '_lastepoch.pt')\n",
    "torch.save(model.state_dict(), filename_sd[:-4] + '_lastepoch.pth')"
   ]
  },
  {
   "cell_type": "code",
   "execution_count": 17,
   "id": "0d5f9395",
   "metadata": {},
   "outputs": [
    {
     "data": {
      "text/plain": [
       "<All keys matched successfully>"
      ]
     },
     "execution_count": 17,
     "metadata": {},
     "output_type": "execute_result"
    }
   ],
   "source": [
    "model.load_state_dict(torch.load(filename_sd))"
   ]
  },
  {
   "cell_type": "code",
   "execution_count": 18,
   "id": "e16fa191",
   "metadata": {},
   "outputs": [],
   "source": [
    "history = {'train_loss' : train_losses, 'val_loss': test_losses,\n",
    "           'train_dice' :train_dices, 'val_dice':val_dices}"
   ]
  },
  {
   "cell_type": "code",
   "execution_count": 19,
   "id": "0656c164",
   "metadata": {},
   "outputs": [
    {
     "name": "stdout",
     "output_type": "stream",
     "text": [
      "max training dice:  0.9548214759145465\n",
      "max validation dice:  0.9437796354293824\n"
     ]
    }
   ],
   "source": [
    "print('max training dice: ',max(train_dices))\n",
    "print('max validation dice: ',max(val_dices))"
   ]
  },
  {
   "cell_type": "code",
   "execution_count": 20,
   "id": "526390aa",
   "metadata": {},
   "outputs": [
    {
     "data": {
      "image/png": "[encoded data removed]",
      "text/plain": [
       "<Figure size 640x480 with 1 Axes>"
      ]
     },
     "metadata": {},
     "output_type": "display_data"
    }
   ],
   "source": [
    "#plot the training and validation IoU and loss at each epoch\n",
    "loss = history['train_loss']\n",
    "val_loss = history['val_loss']\n",
    "epochs = range(1, len(loss) + 1)\n",
    "plt.plot(epochs, loss, 'y', label='Training loss')\n",
    "plt.plot(epochs, val_loss, 'r', label='Validation loss')\n",
    "plt.title('Training and validation loss')\n",
    "plt.xlabel('Epochs')\n",
    "plt.ylabel('Loss')\n",
    "plt.legend()\n",
    "plt.show()"
   ]
  },
  {
   "cell_type": "code",
   "execution_count": 21,
   "id": "675e6403",
   "metadata": {},
   "outputs": [
    {
     "data": {
      "image/png": "[encoded data removed]",
      "text/plain": [
       "<Figure size 640x480 with 1 Axes>"
      ]
     },
     "metadata": {},
     "output_type": "display_data"
    }
   ],
   "source": [
    "#plot the training and validation IoU and loss at each epoch\n",
    "loss = history['train_dice']\n",
    "val_loss = history['val_dice']\n",
    "epochs = range(1, len(loss) + 1)\n",
    "plt.plot(epochs, loss, 'y', label='Training dice')\n",
    "plt.plot(epochs, val_loss, 'r', label='Validation dice')\n",
    "plt.title('Training and validation dice')\n",
    "plt.xlabel('Epochs')\n",
    "plt.ylabel('Dice')\n",
    "plt.legend()\n",
    "plt.show()"
   ]
  },
  {
   "cell_type": "code",
   "execution_count": 39,
   "id": "cb599d2e",
   "metadata": {},
   "outputs": [],
   "source": [
    "def inf(path,path_m,a):\n",
    "    a.eval()\n",
    "    test_volume,img_size = parse_image(path)\n",
    "    test_mask = parse_mask(path_m, img_size)\n",
    "    test_mask = np.expand_dims(test_mask, axis=0)\n",
    "    test_mask = np.expand_dims(test_mask, axis=0)\n",
    "    test_mask = np.where(test_mask>0,1,test_mask)\n",
    "    test_mask = test_mask.astype(np.uint8)\n",
    "    test_maskk = torch.from_numpy(test_mask).long()\n",
    "    print('mask shape: ', test_maskk.shape)\n",
    "    depth, height, width = test_volume.shape\n",
    "    crop_size = (96,96,96)\n",
    "    # Calculate the number of crops along each axis\n",
    "    num_crops_depth = (depth) // crop_size[0]\n",
    "    num_crops_height = (height) // crop_size[1]\n",
    "    num_crops_width = (width) // crop_size[2]\n",
    "\n",
    "    # Calculate the amount of padding needed for each dimension\n",
    "    pad_depth = crop_size[0] - (depth -  num_crops_depth * crop_size[0])\n",
    "    pad_height = crop_size[1] - (height -  num_crops_height * crop_size[1])\n",
    "    pad_width = crop_size[2] - (width - num_crops_width * crop_size[2] )\n",
    "    #print(pad_depth,pad_height,pad_width)\n",
    "    num_crops_depth = num_crops_depth + 1 if pad_depth > 0 else num_crops_depth\n",
    "    num_crops_height = num_crops_height + 1 if pad_height > 0 else num_crops_height\n",
    "    num_crops_width = num_crops_width + 1 if pad_width > 0 else num_crops_width\n",
    "    #print(num_crops_depth,num_crops_height,num_crops_width)\n",
    "    # Pad the test volume and test mask to match the crop size\n",
    "    padded_volume = np.pad(test_volume, ((0, pad_depth), (0, pad_height), (0, pad_width)), mode='constant')\n",
    "    padded_volume = np.expand_dims(padded_volume, axis=0)\n",
    "    padded_volume = np.expand_dims(padded_volume, axis=0)\n",
    "    padded_mask = np.pad(test_mask, ((0,0),(0,0),(0, pad_depth), (0, pad_height), (0, pad_width)), mode='constant')\n",
    "\n",
    "    pred_mask = np.zeros(test_mask.shape,dtype = 'float32')\n",
    "    pred_mask = np.pad(pred_mask, ((0,0),(0,0),(0, pad_depth), (0, pad_height), (0, pad_width)), mode='constant')\n",
    "    pred_mask = torch.tensor(pred_mask)\n",
    "    pred_mask = pred_mask.to(device)\n",
    "    print(pred_mask.dtype)\n",
    "    with torch.no_grad():\n",
    "        for d in range(num_crops_depth):\n",
    "            for h in range(num_crops_height):\n",
    "                for w in range(num_crops_width):\n",
    "                    # Calculate the starting and ending indices for cropping\n",
    "                    start_depth = d * crop_size[0]\n",
    "                    end_depth = (d + 1) * crop_size[0]\n",
    "                    start_height = h * crop_size[1]\n",
    "                    end_height = (h + 1) * crop_size[1]\n",
    "                    start_width = w * crop_size[2]\n",
    "                    end_width = (w + 1) * crop_size[2]\n",
    "\n",
    "                    # Crop the sub-volumes for the volume and mask\n",
    "                    image = padded_volume[:,:,start_depth:end_depth, start_height:end_height, start_width:end_width]\n",
    "                    image = torch.tensor(image)\n",
    "                    image = image.float()\n",
    "                    image = image.to(device)\n",
    "                    mask = a(image)\n",
    "                    pred_mask[:,:,start_depth:end_depth, start_height:end_height, start_width:end_width] = mask\n",
    "    \n",
    "    pred_mask = pred_mask[:,:,:-pad_depth,:-pad_height,:-pad_width]\n",
    "    print('pred mask: ',pred_mask.shape)\n",
    "    return test_maskk.to(device), pred_mask"
   ]
  },
  {
   "cell_type": "code",
   "execution_count": 40,
   "id": "e875fe23",
   "metadata": {},
   "outputs": [
    {
     "data": {
      "application/vnd.jupyter.widget-view+json": {
       "model_id": "f4cd931cdc3a46ed9617c4cd8b89c521",
       "version_major": 2,
       "version_minor": 0
      },
      "text/plain": [
       "  0%|          | 0/8 [00:00<?, ?it/s]"
      ]
     },
     "metadata": {},
     "output_type": "display_data"
    },
    {
     "name": "stdout",
     "output_type": "stream",
     "text": [
      "mask shape:  torch.Size([1, 1, 495, 495, 246])\n",
      "torch.float32\n",
      "pred mask:  torch.Size([1, 1, 495, 495, 246])\n",
      "mask shape:  torch.Size([1, 1, 407, 407, 450])\n",
      "torch.float32\n",
      "pred mask:  torch.Size([1, 1, 407, 407, 450])\n",
      "mask shape:  torch.Size([1, 1, 350, 350, 325])\n",
      "torch.float32\n",
      "pred mask:  torch.Size([1, 1, 350, 350, 325])\n",
      "mask shape:  torch.Size([1, 1, 393, 393, 476])\n",
      "torch.float32\n",
      "pred mask:  torch.Size([1, 1, 393, 393, 476])\n",
      "mask shape:  torch.Size([1, 1, 440, 440, 515])\n",
      "torch.float32\n",
      "pred mask:  torch.Size([1, 1, 440, 440, 515])\n",
      "mask shape:  torch.Size([1, 1, 385, 385, 252])\n",
      "torch.float32\n",
      "pred mask:  torch.Size([1, 1, 385, 385, 252])\n",
      "mask shape:  torch.Size([1, 1, 408, 408, 255])\n",
      "torch.float32\n",
      "pred mask:  torch.Size([1, 1, 408, 408, 255])\n",
      "mask shape:  torch.Size([1, 1, 381, 381, 205])\n",
      "torch.float32\n",
      "pred mask:  torch.Size([1, 1, 381, 381, 205])\n",
      "Test dice at 0.9:  0.7103382684290409\n",
      "Test dice at 0.8:  0.7102764397859573\n",
      "Test dice at 0.7:  0.7099776305258274\n",
      "Test dice at 0.6:  0.7096810452640057\n",
      "Test dice at 0.5:  0.7092914171516895\n",
      "Test dice at 0.4:  0.7087615169584751\n",
      "Test dice at 0.3:  0.7081836052238941\n",
      "Test dice at 0.2:  0.7073623649775982\n",
      "Test dice at 0.1:  0.7058998942375183\n",
      "Test dice at 0.05:  0.7040318883955479\n",
      "Test dice at 0.01:  0.6980139054358006\n",
      "Test dice at 0.005:  0.6941549964249134\n",
      "Test dice at 0.001:  0.6784593835473061\n",
      "Test dice at 0.0005:  0.6671187840402126\n",
      "Test dice at 0.0001:  0.623012725263834\n",
      "Test dice at 0.00005:  0.5942664332687855\n",
      "Test dice at 0.00001:  0.502967206761241\n",
      "Test dice at 0.000005:  0.45392956025898457\n",
      "Test dice at 0.000001:  0.3350407537072897\n",
      "Test dice at 0.0000005:  0.28719127736985683\n",
      "Test dice at 0.0000001:  0.1909882239997387\n"
     ]
    }
   ],
   "source": [
    "num_batches = 1\n",
    "# Validation\n",
    "test_dice9 = []\n",
    "test_dice8 = []\n",
    "test_dice7 = []\n",
    "test_dice6 = []\n",
    "test_dice5 = []\n",
    "test_dice4 = []\n",
    "test_dice3 = []\n",
    "test_dice2 = []\n",
    "test_dice1 = []\n",
    "test_dice05 = []\n",
    "test_dice01 = []\n",
    "test_dice005 = []\n",
    "test_dice001 = []\n",
    "test_dice0005 = []\n",
    "test_dice0001 = []\n",
    "test_dice00005 = []\n",
    "test_dice00001 = []\n",
    "test_dice000005 = []\n",
    "test_dice000001 = []\n",
    "test_dice0000005 = []\n",
    "test_dice0000001 = []\n",
    "for i in tqdm(range(0,len(testpath))):\n",
    "    val_targets, val_outputs = inf(testpath[i],testpath_m[i],model)\n",
    "    #print(val_outputs.shape)\n",
    "    test_outputs = torch.where(val_outputs>0.9,torch.tensor(1),torch.tensor(0))\n",
    "    #print(test_outputs.shape)\n",
    "    test_dice9.append(dice_coeff(test_outputs,val_targets).item())\n",
    "    \n",
    "    test_outputs = torch.where(val_outputs>0.8,torch.tensor(1),torch.tensor(0))\n",
    "    test_dice8.append(dice_coeff(test_outputs,val_targets).item())\n",
    "    test_outputs = torch.where(val_outputs>0.7,torch.tensor(1),torch.tensor(0))\n",
    "    test_dice7.append(dice_coeff(test_outputs,val_targets).item())\n",
    "    test_outputs = torch.where(val_outputs>0.6,torch.tensor(1),torch.tensor(0))\n",
    "    test_dice6.append(dice_coeff(test_outputs,val_targets).item())\n",
    "    test_outputs = torch.where(val_outputs>0.5,torch.tensor(1),torch.tensor(0))\n",
    "    test_dice5.append(dice_coeff(test_outputs,val_targets).item())\n",
    "    test_outputs = torch.where(val_outputs>0.4,torch.tensor(1),torch.tensor(0))\n",
    "    test_dice4.append(dice_coeff(test_outputs,val_targets).item())\n",
    "    test_outputs = torch.where(val_outputs>0.3,torch.tensor(1),torch.tensor(0))\n",
    "    test_dice3.append(dice_coeff(test_outputs,val_targets).item())\n",
    "    test_outputs = torch.where(val_outputs>0.2,torch.tensor(1),torch.tensor(0))\n",
    "    test_dice2.append(dice_coeff(test_outputs,val_targets).item())\n",
    "    test_outputs = torch.where(val_outputs>0.1,torch.tensor(1),torch.tensor(0))\n",
    "    test_dice1.append(dice_coeff(test_outputs,val_targets).item())\n",
    "    test_outputs = torch.where(val_outputs>0.05,torch.tensor(1),torch.tensor(0))\n",
    "    test_dice05.append(dice_coeff(test_outputs,val_targets).item())\n",
    "    test_outputs = torch.where(val_outputs>0.01,torch.tensor(1),torch.tensor(0))\n",
    "    test_dice01.append(dice_coeff(test_outputs,val_targets).item())\n",
    "    test_outputs = torch.where(val_outputs>0.005,torch.tensor(1),torch.tensor(0))\n",
    "    test_dice005.append(dice_coeff(test_outputs,val_targets).item())\n",
    "    test_outputs = torch.where(val_outputs>0.001,torch.tensor(1),torch.tensor(0))\n",
    "    test_dice001.append(dice_coeff(test_outputs,val_targets).item())\n",
    "    test_outputs = torch.where(val_outputs>0.0005,torch.tensor(1),torch.tensor(0))\n",
    "    test_dice0005.append(dice_coeff(test_outputs,val_targets).item())\n",
    "    test_outputs = torch.where(val_outputs>0.0001,torch.tensor(1),torch.tensor(0))\n",
    "    test_dice0001.append(dice_coeff(test_outputs,val_targets).item())\n",
    "    test_outputs = torch.where(val_outputs>0.00005,torch.tensor(1),torch.tensor(0))\n",
    "    test_dice00005.append(dice_coeff(test_outputs,val_targets).item())\n",
    "    test_outputs = torch.where(val_outputs>0.00001,torch.tensor(1),torch.tensor(0))\n",
    "    test_dice00001.append(dice_coeff(test_outputs,val_targets).item())\n",
    "    test_outputs = torch.where(val_outputs>0.000005,torch.tensor(1),torch.tensor(0))\n",
    "    test_dice000005.append(dice_coeff(test_outputs,val_targets).item())\n",
    "    test_outputs = torch.where(val_outputs>0.000001,torch.tensor(1),torch.tensor(0))\n",
    "    test_dice000001.append(dice_coeff(test_outputs,val_targets).item())\n",
    "    test_outputs = torch.where(val_outputs>0.0000005,torch.tensor(1),torch.tensor(0))\n",
    "    test_dice0000005.append(dice_coeff(test_outputs,val_targets).item())\n",
    "    test_outputs = torch.where(val_outputs>0.0000001,torch.tensor(1),torch.tensor(0))\n",
    "    test_dice0000001.append(dice_coeff(test_outputs,val_targets).item())\n",
    "\n",
    "\n",
    "        \n",
    "\n",
    "print('Test dice at 0.9: ',np.mean(test_dice9))\n",
    "print('Test dice at 0.8: ',np.mean(test_dice8))\n",
    "print('Test dice at 0.7: ',np.mean(test_dice7))\n",
    "print('Test dice at 0.6: ',np.mean(test_dice6))\n",
    "print('Test dice at 0.5: ',np.mean(test_dice5))\n",
    "print('Test dice at 0.4: ',np.mean(test_dice4))\n",
    "print('Test dice at 0.3: ',np.mean(test_dice3))\n",
    "print('Test dice at 0.2: ',np.mean(test_dice2))\n",
    "print('Test dice at 0.1: ',np.mean(test_dice1))\n",
    "print('Test dice at 0.05: ',np.mean(test_dice05))\n",
    "print('Test dice at 0.01: ',np.mean(test_dice01))\n",
    "print('Test dice at 0.005: ',np.mean(test_dice005))\n",
    "print('Test dice at 0.001: ',np.mean(test_dice001))\n",
    "print('Test dice at 0.0005: ',np.mean(test_dice0005))\n",
    "print('Test dice at 0.0001: ',np.mean(test_dice0001))\n",
    "print('Test dice at 0.00005: ',np.mean(test_dice00005))\n",
    "print('Test dice at 0.00001: ',np.mean(test_dice00001))\n",
    "print('Test dice at 0.000005: ',np.mean(test_dice000005))\n",
    "print('Test dice at 0.000001: ',np.mean(test_dice000001))\n",
    "print('Test dice at 0.0000005: ',np.mean(test_dice0000005))\n",
    "print('Test dice at 0.0000001: ',np.mean(test_dice0000001))"
   ]
  },
  {
   "cell_type": "code",
   "execution_count": 42,
   "id": "daeff8f8",
   "metadata": {},
   "outputs": [
    {
     "data": {
      "text/plain": [
       "tensor(1., device='cuda:0')"
      ]
     },
     "execution_count": 42,
     "metadata": {},
     "output_type": "execute_result"
    }
   ],
   "source": [
    "torch.max(val_outputs)"
   ]
  },
  {
   "cell_type": "code",
   "execution_count": null,
   "id": "d35a9b9e",
   "metadata": {},
   "outputs": [],
   "source": []
  }
 ],
 "metadata": {
  "kernelspec": {
   "display_name": "Python [conda env:tor]",
   "language": "python",
   "name": "conda-env-tor-py"
  },
  "language_info": {
   "codemirror_mode": {
    "name": "ipython",
    "version": 3
   },
   "file_extension": ".py",
   "mimetype": "text/x-python",
   "name": "python",
   "nbconvert_exporter": "python",
   "pygments_lexer": "ipython3",
   "version": "3.10.6"
  }
 },
 "nbformat": 4,
 "nbformat_minor": 5
}
